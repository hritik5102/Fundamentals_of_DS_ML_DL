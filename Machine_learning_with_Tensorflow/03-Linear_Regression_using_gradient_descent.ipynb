{
  "nbformat": 4,
  "nbformat_minor": 0,
  "metadata": {
    "colab": {
      "name": "Linear Regression using gradient descent.ipynb",
      "provenance": []
    },
    "kernelspec": {
      "name": "python3",
      "display_name": "Python 3"
    }
  },
  "cells": [
    {
      "cell_type": "code",
      "metadata": {
        "id": "Hva75Qm8d9Gr",
        "colab_type": "code",
        "outputId": "5026d630-deee-4c0a-c5fe-dbd218013a9e",
        "colab": {
          "base_uri": "https://localhost:8080/",
          "height": 211
        }
      },
      "source": [
        "import numpy as np\n",
        "import pandas as pd\n",
        "import matplotlib.pyplot as plt\n",
        "\n",
        "plt.rcParams['figure.figsize'] = (5.0 ,3.0)\n",
        "\n",
        "data = pd.read_csv('data.csv')\n",
        "x = data.iloc[:,0]\n",
        "y = data.iloc[:,1]\n",
        "plt.scatter(x,y)\n",
        "plt.show()"
      ],
      "execution_count": 0,
      "outputs": [
        {
          "output_type": "display_data",
          "data": {
            "image/png": "[encoded data removed]",
            "text/plain": [
              "<Figure size 360x216 with 1 Axes>"
            ]
          },
          "metadata": {
            "tags": []
          }
        }
      ]
    },
    {
      "cell_type": "code",
      "metadata": {
        "id": "bjSWcJO8euof",
        "colab_type": "code",
        "colab": {}
      },
      "source": [
        "m = 0\n",
        "c = 0\n",
        "alpha  = 0.001\n",
        "\n",
        "epoch = 1000\n",
        "x = float(len(x))\n",
        "for i in range(epoch):\n",
        "  y_p = m*x +c\n",
        "  w = alpha/2m - sum(y-y_p)\n",
        "  w = w"
      ],
      "execution_count": 0,
      "outputs": []
    },
    {
      "cell_type": "markdown",
      "metadata": {
        "id": "5tOq-P9IiIqt",
        "colab_type": "text"
      },
      "source": [
        "**tensorflow**"
      ]
    },
    {
      "cell_type": "code",
      "metadata": {
        "id": "vpsTDPhYiG5-",
        "colab_type": "code",
        "colab": {}
      },
      "source": [
        "import random \n",
        "\n",
        "learning_rate = 0.01\n",
        "train_epoch = 100\n",
        "\n",
        "x_train = np.linspace(-1,1, 101)\n",
        "y_train = 2*x_train + np.random.randn(*x_train.shape)*0.33\n",
        "\n"
      ],
      "execution_count": 0,
      "outputs": []
    },
    {
      "cell_type": "code",
      "metadata": {
        "id": "KfIaDP_Ki-os",
        "colab_type": "code",
        "outputId": "2f8a684f-dbd3-4098-a8ae-225beb308436",
        "colab": {
          "base_uri": "https://localhost:8080/",
          "height": 228
        }
      },
      "source": [
        "plt.scatter(x_train , y_train)"
      ],
      "execution_count": 0,
      "outputs": [
        {
          "output_type": "execute_result",
          "data": {
            "text/plain": [
              "<matplotlib.collections.PathCollection at 0x7fb1d820b7b8>"
            ]
          },
          "metadata": {
            "tags": []
          },
          "execution_count": 4
        },
        {
          "output_type": "display_data",
          "data": {
            "image/png": "[encoded data removed]",
            "text/plain": [
              "<Figure size 360x216 with 1 Axes>"
            ]
          },
          "metadata": {
            "tags": []
          }
        }
      ]
    },
    {
      "cell_type": "code",
      "metadata": {
        "id": "8VMYGLSDi2-8",
        "colab_type": "code",
        "colab": {}
      },
      "source": [
        "x_train = np.linspace(-1,1,101)\n",
        "y_train = 2*x_train + np.random.randint(0,5)"
      ],
      "execution_count": 0,
      "outputs": []
    },
    {
      "cell_type": "code",
      "metadata": {
        "id": "WE3uQGa0jY8k",
        "colab_type": "code",
        "outputId": "bdb5cc35-a7ab-4d94-e7ec-c1a2c35abf9b",
        "colab": {
          "base_uri": "https://localhost:8080/",
          "height": 228
        }
      },
      "source": [
        "plt.scatter(x_train , y_train)\n"
      ],
      "execution_count": 0,
      "outputs": [
        {
          "output_type": "execute_result",
          "data": {
            "text/plain": [
              "<matplotlib.collections.PathCollection at 0x7fb1d81862b0>"
            ]
          },
          "metadata": {
            "tags": []
          },
          "execution_count": 7
        },
        {
          "output_type": "display_data",
          "data": {
            "image/png": "[encoded data removed]",
            "text/plain": [
              "<Figure size 360x216 with 1 Axes>"
            ]
          },
          "metadata": {
            "tags": []
          }
        }
      ]
    },
    {
      "cell_type": "code",
      "metadata": {
        "id": "TLQIXxt-jf9J",
        "colab_type": "code",
        "colab": {}
      },
      "source": [
        "import tensorflow as tf\n",
        "X = tf.placeholder(\"float\")\n",
        "Y = tf.placeholder(\"float\")"
      ],
      "execution_count": 0,
      "outputs": []
    },
    {
      "cell_type": "code",
      "metadata": {
        "id": "HKZ60HIfjpx8",
        "colab_type": "code",
        "colab": {}
      },
      "source": [
        "def model(X,w):\n",
        "  return tf.multiply(X,w)\n"
      ],
      "execution_count": 0,
      "outputs": []
    },
    {
      "cell_type": "code",
      "metadata": {
        "id": "BLeH1ftIj6VU",
        "colab_type": "code",
        "colab": {}
      },
      "source": [
        "w = tf.Variable(0.0 , name = \"weights\")\n",
        "\n",
        "# cost factor\n",
        "y_model = model(X,w)\n",
        "cost  = tf.reduce_mean(tf.square(Y-y_model))"
      ],
      "execution_count": 0,
      "outputs": []
    },
    {
      "cell_type": "code",
      "metadata": {
        "id": "lmZHYUzqkaOk",
        "colab_type": "code",
        "colab": {}
      },
      "source": [
        "train_op = tf.train.GradientDescentOptimizer(learning_rate).minimize(cost)"
      ],
      "execution_count": 0,
      "outputs": []
    },
    {
      "cell_type": "code",
      "metadata": {
        "id": "Q4DmP0fWlGis",
        "colab_type": "code",
        "colab": {}
      },
      "source": [
        "# initialize all variable \n",
        "\n",
        "sess = tf.Session()\n",
        "init = tf.global_variables_initializer()\n",
        "sess.run(init) "
      ],
      "execution_count": 0,
      "outputs": []
    },
    {
      "cell_type": "code",
      "metadata": {
        "id": "TmXnZq9EmWmz",
        "colab_type": "code",
        "colab": {}
      },
      "source": [
        "for epoch in range(train_epoch):\n",
        "  for(x,y) in zip(x_train,y_train):\n",
        "    sess.run(train_op,feed_dict={X:x,Y:y})"
      ],
      "execution_count": 0,
      "outputs": []
    },
    {
      "cell_type": "code",
      "metadata": {
        "id": "PqfVsrkAmoDz",
        "colab_type": "code",
        "outputId": "06a0bcf0-90be-4649-dc07-43f1f01854a9",
        "colab": {
          "base_uri": "https://localhost:8080/",
          "height": 34
        }
      },
      "source": [
        "w_val = sess.run(w)\n",
        "print(w_val)\n",
        "  "
      ],
      "execution_count": 0,
      "outputs": [
        {
          "output_type": "stream",
          "text": [
            "1.999997\n"
          ],
          "name": "stdout"
        }
      ]
    },
    {
      "cell_type": "code",
      "metadata": {
        "id": "IP40AqnXmuUb",
        "colab_type": "code",
        "colab": {}
      },
      "source": [
        "sess.close()"
      ],
      "execution_count": 0,
      "outputs": []
    },
    {
      "cell_type": "code",
      "metadata": {
        "id": "M9xO2UtYmw7M",
        "colab_type": "code",
        "outputId": "4f1b50dd-8056-4a61-94b0-111bcfe28432",
        "colab": {
          "base_uri": "https://localhost:8080/",
          "height": 211
        }
      },
      "source": [
        "plt.scatter(x_train , y_train)\n",
        "y_learned = x_train * w_val\n",
        "plt.plot(x_train , y_learned , 'r')\n",
        "plt.show()"
      ],
      "execution_count": 0,
      "outputs": [
        {
          "output_type": "display_data",
          "data": {
            "image/png": "[encoded data removed]",
            "text/plain": [
              "<Figure size 360x216 with 1 Axes>"
            ]
          },
          "metadata": {
            "tags": []
          }
        }
      ]
    },
    {
      "cell_type": "code",
      "metadata": {
        "id": "zqA7f5GJu9v7",
        "colab_type": "code",
        "colab": {}
      },
      "source": [
        ""
      ],
      "execution_count": 0,
      "outputs": []
    }
  ]
}