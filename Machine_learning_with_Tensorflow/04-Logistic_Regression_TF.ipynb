{
  "nbformat": 4,
  "nbformat_minor": 0,
  "metadata": {
    "colab": {
      "name": "03-Logistic_Regression_TF.ipynb",
      "provenance": [],
      "collapsed_sections": []
    },
    "kernelspec": {
      "name": "python3",
      "display_name": "Python 3"
    }
  },
  "cells": [
    {
      "cell_type": "markdown",
      "metadata": {
        "id": "0dzs0uzXexRw",
        "colab_type": "text"
      },
      "source": [
        "### **Logistic regression using tensorflow**"
      ]
    },
    {
      "cell_type": "code",
      "metadata": {
        "id": "pSpVdNE8ewoy",
        "colab_type": "code",
        "colab": {
          "base_uri": "https://localhost:8080/",
          "height": 36
        },
        "outputId": "85b4e3ac-3645-44b5-ea5e-9a4a9b87336f"
      },
      "source": [
        "# import tensorflow module. Check API version.\n",
        "import tensorflow.compat.v1 as tf\n",
        "tf.disable_v2_behavior()\n",
        "\n",
        "import warnings\n",
        "warnings.filterwarnings('ignore')\n",
        "\n",
        "print (tf.__version__)"
      ],
      "execution_count": 48,
      "outputs": [
        {
          "output_type": "stream",
          "text": [
            "2.2.0\n"
          ],
          "name": "stdout"
        }
      ]
    },
    {
      "cell_type": "markdown",
      "metadata": {
        "id": "tbHBSQQr-aVn",
        "colab_type": "text"
      },
      "source": [
        "### **Load the data**\n",
        "\n",
        "MNIST Dataset - Handwritten Digits (0-9)\n",
        "\n",
        "<p align=\"center\">\n",
        "<img src=\"https://upload.wikimedia.org/wikipedia/commons/thumb/2/27/MnistExamples.png/440px-MnistExamples.png\" width=\"50%\" />\n",
        "\n"
      ]
    },
    {
      "cell_type": "code",
      "metadata": {
        "id": "c-JI9PHv-Ug_",
        "colab_type": "code",
        "colab": {}
      },
      "source": [
        "#download the MNIST data\n",
        "mnist = tf.keras.datasets.mnist\n",
        "(x_train, y_train), (x_test, y_test) = mnist.load_data()"
      ],
      "execution_count": 87,
      "outputs": []
    },
    {
      "cell_type": "code",
      "metadata": {
        "id": "7_ouOMV3_MhA",
        "colab_type": "code",
        "colab": {}
      },
      "source": [
        "# MNIST dataset parameters\n",
        "num_classes = 10 # 0 to 9 digits\n",
        "num_features = 784 # 28*28 = image width * image height"
      ],
      "execution_count": 88,
      "outputs": []
    },
    {
      "cell_type": "code",
      "metadata": {
        "id": "AINKmIkB_aEQ",
        "colab_type": "code",
        "colab": {}
      },
      "source": [
        "import numpy as np\n",
        "import matplotlib.pyplot as plt\n",
        "import pandas as pd\n",
        "%config InlineBackend.figure_format = 'svg'"
      ],
      "execution_count": 89,
      "outputs": []
    },
    {
      "cell_type": "code",
      "metadata": {
        "id": "ZCRCBw-IAwrh",
        "colab_type": "code",
        "colab": {
          "base_uri": "https://localhost:8080/",
          "height": 211
        },
        "outputId": "c2238ed5-26c7-446e-f73d-d27ecea46790"
      },
      "source": [
        "plt.figure(figsize=(10,6))\n",
        "count= 0\n",
        "for i,(image,label) in enumerate(zip(x_train[0:5],y_train[0:5])):\n",
        "  plt.subplot(1,5,i+1)\n",
        "  plt.imshow(image,cmap=plt.cm.gray)\n",
        "  plt.title(\"True Label : {}\".format(label,fontsize=20))\n",
        "plt.show()"
      ],
      "execution_count": 90,
      "outputs": [
        {
          "output_type": "display_data",
          "data": {
            "text/plain": [
              "<Figure size 720x432 with 5 Axes>"
            ],
            "image/svg+xml": "<?xml version=\"1.0\" encoding=\"utf-8\" standalone=\"no\"?>\n<!DOCTYPE svg PUBLIC \"-//W3C//DTD SVG 1.1//EN\"\n  \"http://www.w3.org/Graphics/SVG/1.1/DTD/svg11.dtd\">\n<!-- Created with matplotlib (https://matplotlib.org/) -->\n<svg height=\"142.403147pt\" version=\"1.1\" viewBox=\"0 0 592.125 142.403147\" width=\"592.125pt\" xmlns=\"http://www.w3.org/2000/svg\" xmlns:xlink=\"http://www.w3.org/1999/xlink\">\n <defs>\n  <style type=\"text/css\">\n*{stroke-linecap:butt;stroke-linejoin:round;}\n  </style>\n </defs>\n <g id=\"figure_1\">\n  <g id=\"patch_1\">\n   <path d=\"M 0 142.403147 \nL 592.125 142.403147 \nL 592.125 0 \nL 0 0 \nz\n\" style=\"fill:none;\"/>\n  </g>\n  <g id=\"axes_1\">\n   <g id=\"patch_2\">\n    <path d=\"M 26.925 118.525022 \nL 123.131897 118.525022 \nL 123.131897 22.318125 \nL 26.925 22.318125 \nz\n\" style=\"fill:#ffffff;\"/>\n   </g>\n   <g clip-path=\"url(#p3da4aacc16)\">\n    <image height=\"97\" id=\"image6814628171\" transform=\"scale(1 -1)translate(0 -97)\" width=\"97\" x=\"26.925\" xlink:href=\"data:image/png;base64,\niVBORw0KGgoAAAANSUhEUgAAAGEAAABhCAYAAADGBs+jAAAABHNCSVQICAgIfAhkiAAABBhJREFUeJztnMsrd0EYx+d9ycI9FpSSWBCSciuJpChRrgsLWyuxslHKhpRYiIUslP+AbEi5LJTIbaGUlZQl5Ra5vLuneU6d38u8zs/3vH0/q+/0/GaMvj0z58yZmV/GmA9DfpTfP90BQhMgoAkA0AQAaAIANAEAmgAATQCAJgAQ61pxYmJC9NDQ0KfrnZ2diV5dXVWx19dX0VNTUyp2e3v71S6GBmYCADQBAJoAwC/juIpaVVUl2jsnVFZWis7KynLq2OPjoyrPzMyIHh8fF/3w8ODUPhLMBABoAgDOw1Ek0tLSRM/Pz6tYaWmp6NzcXKf2d3d3RXsfZdfW1kQ/PT05tR9tmAkA0AQAaAIAgcwJkcjIyBBdWFioYrOzs6ILCgqc2t/b2xM9OTmpYsvLy6Lf39+d2g8CZgIANAGAqA9HkcjMzBTd09OjYv39/aJzcnKc2j84OBA9NjamYisrK05tfgfMBABoAgA0AQCoOSES+fn5ou35oaOjQ/3Onlci8fb2psobGxuim5ubXbroDDMBAJoAQGiGIz9KSkpUuaurS3RFRYWKNTY2+rZzenoquqysTMWCfrtmJgBAEwCgCQCEfk74Cs/Pz6JjY/W+N3vjWVNTk4ptbW0F2i9mAgA0AQDnvaiopKamim5tbVWxmJgY33o7Ozuigx5+vDATAKAJANAEAEI/JxQXF6vy9PS06IaGBt963k1p3i9t0YSZAABNACCUw1F7e7voxcVFFUtKSvKtNzw8LHppaUnFrq+vv6l3X4eZAABNAIAmABCaVdS8vDzRh4eHor1Hazc3N0Xbm72MMWZubk70xwfOv81MAIAmAAD7iJqQkKDKCwsLohMTE0V3d3er362vrwfbsQBgJgBAEwCAHY5GR0dVua6uTvT29rZoe/tiWGEmAEATAKAJAPzonJCcnKzKd3d3olNSUnzr2Y+rSKcwXWEmAEATAIj6Al5bW5volpYWFTs6OhJt32/k5fj4WHRtba2K2fcfFRUVqdjg4KDovr6+T/Y4eJgJANAEAGgCAIHPCfYFVMboC0BcL53ya88Y/ZGnvr5exV5eXkRHegSONswEAGgCAIG/MWdnZ6tyenr6t7ZvXw36N+zTOb29vSp2f3/vW8/ek3Rzc6Ni5+fnn/77fjATAKAJANAEAKK+bGHPEXFxcSpWXV0tuqamRsXsY1CdnZ3/3I+rqytV3t/fF23vdTVGL4WcnJyo2MjIiGjXY1bMBABoAgBR/6hzeXnpG7u4uBDt3bpun7z87NuufS+SMcbEx8eLtu9PMsaYgYEB0fabtTH6Pr7y8nIVszcgcDgKMTQBAJoAQGi2xv/PMBMAoAkA0AQAaAIANAEAmgAATQCAJgBAEwCgCQDQBABoAgA0AQCaAABNAIAmAPAHzcPo8cni3c8AAAAASUVORK5CYII=\" y=\"-21.525022\"/>\n   </g>\n   <g id=\"matplotlib.axis_1\">\n    <g id=\"xtick_1\">\n     <g id=\"line2d_1\">\n      <defs>\n       <path d=\"M 0 0 \nL 0 3.5 \n\" id=\"m19a06e1f41\" style=\"stroke:#000000;stroke-width:0.8;\"/>\n      </defs>\n      <g>\n       <use style=\"stroke:#000000;stroke-width:0.8;\" x=\"28.64298\" xlink:href=\"#m19a06e1f41\" y=\"118.525022\"/>\n      </g>\n     </g>\n     <g id=\"text_1\">\n      <!-- 0 -->\n      <defs>\n       <path d=\"M 31.78125 66.40625 \nQ 24.171875 66.40625 20.328125 58.90625 \nQ 16.5 51.421875 16.5 36.375 \nQ 16.5 21.390625 20.328125 13.890625 \nQ 24.171875 6.390625 31.78125 6.390625 \nQ 39.453125 6.390625 43.28125 13.890625 \nQ 47.125 21.390625 47.125 36.375 \nQ 47.125 51.421875 43.28125 58.90625 \nQ 39.453125 66.40625 31.78125 66.40625 \nz\nM 31.78125 74.21875 \nQ 44.046875 74.21875 50.515625 64.515625 \nQ 56.984375 54.828125 56.984375 36.375 \nQ 56.984375 17.96875 50.515625 8.265625 \nQ 44.046875 -1.421875 31.78125 -1.421875 \nQ 19.53125 -1.421875 13.0625 8.265625 \nQ 6.59375 17.96875 6.59375 36.375 \nQ 6.59375 54.828125 13.0625 64.515625 \nQ 19.53125 74.21875 31.78125 74.21875 \nz\n\" id=\"DejaVuSans-48\"/>\n      </defs>\n      <g transform=\"translate(25.46173 133.123459)scale(0.1 -0.1)\">\n       <use xlink:href=\"#DejaVuSans-48\"/>\n      </g>\n     </g>\n    </g>\n    <g id=\"xtick_2\">\n     <g id=\"line2d_2\">\n      <g>\n       <use style=\"stroke:#000000;stroke-width:0.8;\" x=\"63.002586\" xlink:href=\"#m19a06e1f41\" y=\"118.525022\"/>\n      </g>\n     </g>\n     <g id=\"text_2\">\n      <!-- 10 -->\n      <defs>\n       <path d=\"M 12.40625 8.296875 \nL 28.515625 8.296875 \nL 28.515625 63.921875 \nL 10.984375 60.40625 \nL 10.984375 69.390625 \nL 28.421875 72.90625 \nL 38.28125 72.90625 \nL 38.28125 8.296875 \nL 54.390625 8.296875 \nL 54.390625 0 \nL 12.40625 0 \nz\n\" id=\"DejaVuSans-49\"/>\n      </defs>\n      <g transform=\"translate(56.640086 133.123459)scale(0.1 -0.1)\">\n       <use xlink:href=\"#DejaVuSans-49\"/>\n       <use x=\"63.623047\" xlink:href=\"#DejaVuSans-48\"/>\n      </g>\n     </g>\n    </g>\n    <g id=\"xtick_3\">\n     <g id=\"line2d_3\">\n      <g>\n       <use style=\"stroke:#000000;stroke-width:0.8;\" x=\"97.362192\" xlink:href=\"#m19a06e1f41\" y=\"118.525022\"/>\n      </g>\n     </g>\n     <g id=\"text_3\">\n      <!-- 20 -->\n      <defs>\n       <path d=\"M 19.1875 8.296875 \nL 53.609375 8.296875 \nL 53.609375 0 \nL 7.328125 0 \nL 7.328125 8.296875 \nQ 12.9375 14.109375 22.625 23.890625 \nQ 32.328125 33.6875 34.8125 36.53125 \nQ 39.546875 41.84375 41.421875 45.53125 \nQ 43.3125 49.21875 43.3125 52.78125 \nQ 43.3125 58.59375 39.234375 62.25 \nQ 35.15625 65.921875 28.609375 65.921875 \nQ 23.96875 65.921875 18.8125 64.3125 \nQ 13.671875 62.703125 7.8125 59.421875 \nL 7.8125 69.390625 \nQ 13.765625 71.78125 18.9375 73 \nQ 24.125 74.21875 28.421875 74.21875 \nQ 39.75 74.21875 46.484375 68.546875 \nQ 53.21875 62.890625 53.21875 53.421875 \nQ 53.21875 48.921875 51.53125 44.890625 \nQ 49.859375 40.875 45.40625 35.40625 \nQ 44.1875 33.984375 37.640625 27.21875 \nQ 31.109375 20.453125 19.1875 8.296875 \nz\n\" id=\"DejaVuSans-50\"/>\n      </defs>\n      <g transform=\"translate(90.999692 133.123459)scale(0.1 -0.1)\">\n       <use xlink:href=\"#DejaVuSans-50\"/>\n       <use x=\"63.623047\" xlink:href=\"#DejaVuSans-48\"/>\n      </g>\n     </g>\n    </g>\n   </g>\n   <g id=\"matplotlib.axis_2\">\n    <g id=\"ytick_1\">\n     <g id=\"line2d_4\">\n      <defs>\n       <path d=\"M 0 0 \nL -3.5 0 \n\" id=\"m9033f13ae6\" style=\"stroke:#000000;stroke-width:0.8;\"/>\n      </defs>\n      <g>\n       <use style=\"stroke:#000000;stroke-width:0.8;\" x=\"26.925\" xlink:href=\"#m9033f13ae6\" y=\"24.036105\"/>\n      </g>\n     </g>\n     <g id=\"text_4\">\n      <!-- 0 -->\n      <g transform=\"translate(13.5625 27.835324)scale(0.1 -0.1)\">\n       <use xlink:href=\"#DejaVuSans-48\"/>\n      </g>\n     </g>\n    </g>\n    <g id=\"ytick_2\">\n     <g id=\"line2d_5\">\n      <g>\n       <use style=\"stroke:#000000;stroke-width:0.8;\" x=\"26.925\" xlink:href=\"#m9033f13ae6\" y=\"58.395711\"/>\n      </g>\n     </g>\n     <g id=\"text_5\">\n      <!-- 10 -->\n      <g transform=\"translate(7.2 62.19493)scale(0.1 -0.1)\">\n       <use xlink:href=\"#DejaVuSans-49\"/>\n       <use x=\"63.623047\" xlink:href=\"#DejaVuSans-48\"/>\n      </g>\n     </g>\n    </g>\n    <g id=\"ytick_3\">\n     <g id=\"line2d_6\">\n      <g>\n       <use style=\"stroke:#000000;stroke-width:0.8;\" x=\"26.925\" xlink:href=\"#m9033f13ae6\" y=\"92.755317\"/>\n      </g>\n     </g>\n     <g id=\"text_6\">\n      <!-- 20 -->\n      <g transform=\"translate(7.2 96.554536)scale(0.1 -0.1)\">\n       <use xlink:href=\"#DejaVuSans-50\"/>\n       <use x=\"63.623047\" xlink:href=\"#DejaVuSans-48\"/>\n      </g>\n     </g>\n    </g>\n   </g>\n   <g id=\"patch_3\">\n    <path d=\"M 26.925 118.525022 \nL 26.925 22.318125 \n\" style=\"fill:none;stroke:#000000;stroke-linecap:square;stroke-linejoin:miter;stroke-width:0.8;\"/>\n   </g>\n   <g id=\"patch_4\">\n    <path d=\"M 123.131897 118.525022 \nL 123.131897 22.318125 \n\" style=\"fill:none;stroke:#000000;stroke-linecap:square;stroke-linejoin:miter;stroke-width:0.8;\"/>\n   </g>\n   <g id=\"patch_5\">\n    <path d=\"M 26.925 118.525022 \nL 123.131897 118.525022 \n\" style=\"fill:none;stroke:#000000;stroke-linecap:square;stroke-linejoin:miter;stroke-width:0.8;\"/>\n   </g>\n   <g id=\"patch_6\">\n    <path d=\"M 26.925 22.318125 \nL 123.131897 22.318125 \n\" style=\"fill:none;stroke:#000000;stroke-linecap:square;stroke-linejoin:miter;stroke-width:0.8;\"/>\n   </g>\n   <g id=\"text_7\">\n    <!-- True Label : 5 -->\n    <defs>\n     <path d=\"M -0.296875 72.90625 \nL 61.375 72.90625 \nL 61.375 64.59375 \nL 35.5 64.59375 \nL 35.5 0 \nL 25.59375 0 \nL 25.59375 64.59375 \nL -0.296875 64.59375 \nz\n\" id=\"DejaVuSans-84\"/>\n     <path d=\"M 41.109375 46.296875 \nQ 39.59375 47.171875 37.8125 47.578125 \nQ 36.03125 48 33.890625 48 \nQ 26.265625 48 22.1875 43.046875 \nQ 18.109375 38.09375 18.109375 28.8125 \nL 18.109375 0 \nL 9.078125 0 \nL 9.078125 54.6875 \nL 18.109375 54.6875 \nL 18.109375 46.1875 \nQ 20.953125 51.171875 25.484375 53.578125 \nQ 30.03125 56 36.53125 56 \nQ 37.453125 56 38.578125 55.875 \nQ 39.703125 55.765625 41.0625 55.515625 \nz\n\" id=\"DejaVuSans-114\"/>\n     <path d=\"M 8.5 21.578125 \nL 8.5 54.6875 \nL 17.484375 54.6875 \nL 17.484375 21.921875 \nQ 17.484375 14.15625 20.5 10.265625 \nQ 23.53125 6.390625 29.59375 6.390625 \nQ 36.859375 6.390625 41.078125 11.03125 \nQ 45.3125 15.671875 45.3125 23.6875 \nL 45.3125 54.6875 \nL 54.296875 54.6875 \nL 54.296875 0 \nL 45.3125 0 \nL 45.3125 8.40625 \nQ 42.046875 3.421875 37.71875 1 \nQ 33.40625 -1.421875 27.6875 -1.421875 \nQ 18.265625 -1.421875 13.375 4.4375 \nQ 8.5 10.296875 8.5 21.578125 \nz\nM 31.109375 56 \nz\n\" id=\"DejaVuSans-117\"/>\n     <path d=\"M 56.203125 29.59375 \nL 56.203125 25.203125 \nL 14.890625 25.203125 \nQ 15.484375 15.921875 20.484375 11.0625 \nQ 25.484375 6.203125 34.421875 6.203125 \nQ 39.59375 6.203125 44.453125 7.46875 \nQ 49.3125 8.734375 54.109375 11.28125 \nL 54.109375 2.78125 \nQ 49.265625 0.734375 44.1875 -0.34375 \nQ 39.109375 -1.421875 33.890625 -1.421875 \nQ 20.796875 -1.421875 13.15625 6.1875 \nQ 5.515625 13.8125 5.515625 26.8125 \nQ 5.515625 40.234375 12.765625 48.109375 \nQ 20.015625 56 32.328125 56 \nQ 43.359375 56 49.78125 48.890625 \nQ 56.203125 41.796875 56.203125 29.59375 \nz\nM 47.21875 32.234375 \nQ 47.125 39.59375 43.09375 43.984375 \nQ 39.0625 48.390625 32.421875 48.390625 \nQ 24.90625 48.390625 20.390625 44.140625 \nQ 15.875 39.890625 15.1875 32.171875 \nz\n\" id=\"DejaVuSans-101\"/>\n     <path id=\"DejaVuSans-32\"/>\n     <path d=\"M 9.8125 72.90625 \nL 19.671875 72.90625 \nL 19.671875 8.296875 \nL 55.171875 8.296875 \nL 55.171875 0 \nL 9.8125 0 \nz\n\" id=\"DejaVuSans-76\"/>\n     <path d=\"M 34.28125 27.484375 \nQ 23.390625 27.484375 19.1875 25 \nQ 14.984375 22.515625 14.984375 16.5 \nQ 14.984375 11.71875 18.140625 8.90625 \nQ 21.296875 6.109375 26.703125 6.109375 \nQ 34.1875 6.109375 38.703125 11.40625 \nQ 43.21875 16.703125 43.21875 25.484375 \nL 43.21875 27.484375 \nz\nM 52.203125 31.203125 \nL 52.203125 0 \nL 43.21875 0 \nL 43.21875 8.296875 \nQ 40.140625 3.328125 35.546875 0.953125 \nQ 30.953125 -1.421875 24.3125 -1.421875 \nQ 15.921875 -1.421875 10.953125 3.296875 \nQ 6 8.015625 6 15.921875 \nQ 6 25.140625 12.171875 29.828125 \nQ 18.359375 34.515625 30.609375 34.515625 \nL 43.21875 34.515625 \nL 43.21875 35.40625 \nQ 43.21875 41.609375 39.140625 45 \nQ 35.0625 48.390625 27.6875 48.390625 \nQ 23 48.390625 18.546875 47.265625 \nQ 14.109375 46.140625 10.015625 43.890625 \nL 10.015625 52.203125 \nQ 14.9375 54.109375 19.578125 55.046875 \nQ 24.21875 56 28.609375 56 \nQ 40.484375 56 46.34375 49.84375 \nQ 52.203125 43.703125 52.203125 31.203125 \nz\n\" id=\"DejaVuSans-97\"/>\n     <path d=\"M 48.6875 27.296875 \nQ 48.6875 37.203125 44.609375 42.84375 \nQ 40.53125 48.484375 33.40625 48.484375 \nQ 26.265625 48.484375 22.1875 42.84375 \nQ 18.109375 37.203125 18.109375 27.296875 \nQ 18.109375 17.390625 22.1875 11.75 \nQ 26.265625 6.109375 33.40625 6.109375 \nQ 40.53125 6.109375 44.609375 11.75 \nQ 48.6875 17.390625 48.6875 27.296875 \nz\nM 18.109375 46.390625 \nQ 20.953125 51.265625 25.265625 53.625 \nQ 29.59375 56 35.59375 56 \nQ 45.5625 56 51.78125 48.09375 \nQ 58.015625 40.1875 58.015625 27.296875 \nQ 58.015625 14.40625 51.78125 6.484375 \nQ 45.5625 -1.421875 35.59375 -1.421875 \nQ 29.59375 -1.421875 25.265625 0.953125 \nQ 20.953125 3.328125 18.109375 8.203125 \nL 18.109375 0 \nL 9.078125 0 \nL 9.078125 75.984375 \nL 18.109375 75.984375 \nz\n\" id=\"DejaVuSans-98\"/>\n     <path d=\"M 9.421875 75.984375 \nL 18.40625 75.984375 \nL 18.40625 0 \nL 9.421875 0 \nz\n\" id=\"DejaVuSans-108\"/>\n     <path d=\"M 11.71875 12.40625 \nL 22.015625 12.40625 \nL 22.015625 0 \nL 11.71875 0 \nz\nM 11.71875 51.703125 \nL 22.015625 51.703125 \nL 22.015625 39.3125 \nL 11.71875 39.3125 \nz\n\" id=\"DejaVuSans-58\"/>\n     <path d=\"M 10.796875 72.90625 \nL 49.515625 72.90625 \nL 49.515625 64.59375 \nL 19.828125 64.59375 \nL 19.828125 46.734375 \nQ 21.96875 47.46875 24.109375 47.828125 \nQ 26.265625 48.1875 28.421875 48.1875 \nQ 40.625 48.1875 47.75 41.5 \nQ 54.890625 34.8125 54.890625 23.390625 \nQ 54.890625 11.625 47.5625 5.09375 \nQ 40.234375 -1.421875 26.90625 -1.421875 \nQ 22.3125 -1.421875 17.546875 -0.640625 \nQ 12.796875 0.140625 7.71875 1.703125 \nL 7.71875 11.625 \nQ 12.109375 9.234375 16.796875 8.0625 \nQ 21.484375 6.890625 26.703125 6.890625 \nQ 35.15625 6.890625 40.078125 11.328125 \nQ 45.015625 15.765625 45.015625 23.390625 \nQ 45.015625 31 40.078125 35.4375 \nQ 35.15625 39.890625 26.703125 39.890625 \nQ 22.75 39.890625 18.8125 39.015625 \nQ 14.890625 38.140625 10.796875 36.28125 \nz\n\" id=\"DejaVuSans-53\"/>\n    </defs>\n    <g transform=\"translate(34.540636 16.318125)scale(0.12 -0.12)\">\n     <use xlink:href=\"#DejaVuSans-84\"/>\n     <use x=\"46.333984\" xlink:href=\"#DejaVuSans-114\"/>\n     <use x=\"87.447266\" xlink:href=\"#DejaVuSans-117\"/>\n     <use x=\"150.826172\" xlink:href=\"#DejaVuSans-101\"/>\n     <use x=\"212.349609\" xlink:href=\"#DejaVuSans-32\"/>\n     <use x=\"244.136719\" xlink:href=\"#DejaVuSans-76\"/>\n     <use x=\"299.849609\" xlink:href=\"#DejaVuSans-97\"/>\n     <use x=\"361.128906\" xlink:href=\"#DejaVuSans-98\"/>\n     <use x=\"424.605469\" xlink:href=\"#DejaVuSans-101\"/>\n     <use x=\"486.128906\" xlink:href=\"#DejaVuSans-108\"/>\n     <use x=\"513.912109\" xlink:href=\"#DejaVuSans-32\"/>\n     <use x=\"545.699219\" xlink:href=\"#DejaVuSans-58\"/>\n     <use x=\"579.390625\" xlink:href=\"#DejaVuSans-32\"/>\n     <use x=\"611.177734\" xlink:href=\"#DejaVuSans-53\"/>\n    </g>\n   </g>\n  </g>\n  <g id=\"axes_2\">\n   <g id=\"patch_7\">\n    <path d=\"M 142.373276 118.525022 \nL 238.580172 118.525022 \nL 238.580172 22.318125 \nL 142.373276 22.318125 \nz\n\" style=\"fill:#ffffff;\"/>\n   </g>\n   <g clip-path=\"url(#pd2909feb00)\">\n    <image height=\"97\" id=\"image9bcb74b332\" transform=\"scale(1 -1)translate(0 -97)\" width=\"97\" x=\"142.373276\" xlink:href=\"data:image/png;base64,\niVBORw0KGgoAAAANSUhEUgAAAGEAAABhCAYAAADGBs+jAAAABHNCSVQICAgIfAhkiAAABIVJREFUeJztnEsodl0Yhp/3TyTFwIgMGJg6JIfkUIYyk2MxZOKQYymMDBUykJKBlHORkBQpp4FDGRs5SwYOKYRv9D3/ela83/uz9/s+/u++Rvfutvde3D1rr73Wsj1E9E4goPwT6AYAhKAChKAAhKAAhKAAhKAAhKAAhKAAhKAAhKAAhKAAhKAAhKCAILdvEBUVJY6rq6tZt7e3C8/j8bB+f5eTu319fawHBgZYHx0dOdLOQIJKUABCUICHXFjUiYmJYT01NSW81NTUzxvjpTsyubm5YT0+Pi68+vp6n9upBVSCAhCCAhCCAlx5JhQVFbEeGxvz+byrqyvWd3d3wouPj/fpGtvb26zX1taE19nZ6XNb/AkqQQEIQQGuvzHbvL6+sh4cHBTe8PAwa3MYSkSUkZHBuqKignViYqL4uczMTNbmUJlIdmnmGzgR0c7Ozh/b7haoBAUgBAUgBAW48kwwpx9MTUR0eXnJuq6uzudrnpycsLanQkwaGhpYd3R0CK+4uJj1y8uL8PBM+MtBCApwpTsyZ0Dt2dDZ2Vk3bsn09PSwtt+YW1paWJeXlwsvLCyMdWFhoUut+xhUggIQggIQggL8PotqDjXj4uKcvrVXQkJCWNubDNra2lifnZ0Jr6qqivXy8rLj7UIlKAAhKMDvs6hml2DvSbq4uHD13k9PT6y7urqEFxT075+itbVVeE1NTaw3NzeF9/Dw8O12oRIUgBAUgBAU4MoQtaCggPXk5KTwgoODWTc3Nwuvt7fX6aZ8CXP1j0hOvZj7YImIamtrv30/VIICEIICXOmOTLa2tsRxeno66/X1deHl5eW52RSfsWd+397eWNu/T3Z29rfvh0pQAEJQAEJQgOvTFo2NjeJ4Y2ODdU5OjvByc3NZ288Lf2I+A4i8/6+EE6ASFIAQFOB6d3RwcCCOFxcXWefn5wtvbm6OdUlJifB2d3dZh4aGsj49PXWknYEElaAAhKAA17sjcyGFSE7a3d/fC6+0tJT1yMiI8MwFH3NBZnp62pF2+srx8bHj10QlKAAhKAAhKMD1WVRvJCUliePV1VXW4eHhn563tLTEuqysTHjmW3dCQoLwhoaGWF9fX396fXtR5/Hx8cPrExHt7+9/eh1fQSUoACEoIKDdkU1KSgrrlZUV4UVERHx4jj3RNz8/z7q7u1t45+fnrM11cCKi2NhY1vb2/YmJCdbmMNopUAkKQAgKQAgK8PteVG/s7e2xXlhYEJ49FP2Nt4UhezHG3PuanJwsPPMrAVjU+QtBCApQ1R2ZmJ/uJJIfIxkdHWVtf0TEG+bbrb2l3X4TNjk8PPT5Hl8BlaAAhKAAhKAAVdMWvpKWlsZ6ZmZGeNHR0aztoaW5kvf8/Cy8yMhI1llZWcIznyX2eU6ASlAAQlDAj+yOTL66MGRze3vL2uya/AEqQQEIQQEIQQE//plgY67O1dTUCK+yspK1vbmsv7+ftROL9/8FVIICEIIC/nfd0U8ElaAAhKAAhKAAhKAAhKAAhKAAhKAAhKAAhKAAhKAAhKAAhKAAhKCAX0hROF+byks8AAAAAElFTkSuQmCC\" y=\"-21.525022\"/>\n   </g>\n   <g id=\"matplotlib.axis_3\">\n    <g id=\"xtick_4\">\n     <g id=\"line2d_7\">\n      <g>\n       <use style=\"stroke:#000000;stroke-width:0.8;\" x=\"144.091256\" xlink:href=\"#m19a06e1f41\" y=\"118.525022\"/>\n      </g>\n     </g>\n     <g id=\"text_8\">\n      <!-- 0 -->\n      <g transform=\"translate(140.910006 133.123459)scale(0.1 -0.1)\">\n       <use xlink:href=\"#DejaVuSans-48\"/>\n      </g>\n     </g>\n    </g>\n    <g id=\"xtick_5\">\n     <g id=\"line2d_8\">\n      <g>\n       <use style=\"stroke:#000000;stroke-width:0.8;\" x=\"178.450862\" xlink:href=\"#m19a06e1f41\" y=\"118.525022\"/>\n      </g>\n     </g>\n     <g id=\"text_9\">\n      <!-- 10 -->\n      <g transform=\"translate(172.088362 133.123459)scale(0.1 -0.1)\">\n       <use xlink:href=\"#DejaVuSans-49\"/>\n       <use x=\"63.623047\" xlink:href=\"#DejaVuSans-48\"/>\n      </g>\n     </g>\n    </g>\n    <g id=\"xtick_6\">\n     <g id=\"line2d_9\">\n      <g>\n       <use style=\"stroke:#000000;stroke-width:0.8;\" x=\"212.810468\" xlink:href=\"#m19a06e1f41\" y=\"118.525022\"/>\n      </g>\n     </g>\n     <g id=\"text_10\">\n      <!-- 20 -->\n      <g transform=\"translate(206.447968 133.123459)scale(0.1 -0.1)\">\n       <use xlink:href=\"#DejaVuSans-50\"/>\n       <use x=\"63.623047\" xlink:href=\"#DejaVuSans-48\"/>\n      </g>\n     </g>\n    </g>\n   </g>\n   <g id=\"matplotlib.axis_4\">\n    <g id=\"ytick_4\">\n     <g id=\"line2d_10\">\n      <g>\n       <use style=\"stroke:#000000;stroke-width:0.8;\" x=\"142.373276\" xlink:href=\"#m9033f13ae6\" y=\"24.036105\"/>\n      </g>\n     </g>\n     <g id=\"text_11\">\n      <!-- 0 -->\n      <g transform=\"translate(129.010776 27.835324)scale(0.1 -0.1)\">\n       <use xlink:href=\"#DejaVuSans-48\"/>\n      </g>\n     </g>\n    </g>\n    <g id=\"ytick_5\">\n     <g id=\"line2d_11\">\n      <g>\n       <use style=\"stroke:#000000;stroke-width:0.8;\" x=\"142.373276\" xlink:href=\"#m9033f13ae6\" y=\"58.395711\"/>\n      </g>\n     </g>\n     <g id=\"text_12\">\n      <!-- 10 -->\n      <g transform=\"translate(122.648276 62.19493)scale(0.1 -0.1)\">\n       <use xlink:href=\"#DejaVuSans-49\"/>\n       <use x=\"63.623047\" xlink:href=\"#DejaVuSans-48\"/>\n      </g>\n     </g>\n    </g>\n    <g id=\"ytick_6\">\n     <g id=\"line2d_12\">\n      <g>\n       <use style=\"stroke:#000000;stroke-width:0.8;\" x=\"142.373276\" xlink:href=\"#m9033f13ae6\" y=\"92.755317\"/>\n      </g>\n     </g>\n     <g id=\"text_13\">\n      <!-- 20 -->\n      <g transform=\"translate(122.648276 96.554536)scale(0.1 -0.1)\">\n       <use xlink:href=\"#DejaVuSans-50\"/>\n       <use x=\"63.623047\" xlink:href=\"#DejaVuSans-48\"/>\n      </g>\n     </g>\n    </g>\n   </g>\n   <g id=\"patch_8\">\n    <path d=\"M 142.373276 118.525022 \nL 142.373276 22.318125 \n\" style=\"fill:none;stroke:#000000;stroke-linecap:square;stroke-linejoin:miter;stroke-width:0.8;\"/>\n   </g>\n   <g id=\"patch_9\">\n    <path d=\"M 238.580172 118.525022 \nL 238.580172 22.318125 \n\" style=\"fill:none;stroke:#000000;stroke-linecap:square;stroke-linejoin:miter;stroke-width:0.8;\"/>\n   </g>\n   <g id=\"patch_10\">\n    <path d=\"M 142.373276 118.525022 \nL 238.580172 118.525022 \n\" style=\"fill:none;stroke:#000000;stroke-linecap:square;stroke-linejoin:miter;stroke-width:0.8;\"/>\n   </g>\n   <g id=\"patch_11\">\n    <path d=\"M 142.373276 22.318125 \nL 238.580172 22.318125 \n\" style=\"fill:none;stroke:#000000;stroke-linecap:square;stroke-linejoin:miter;stroke-width:0.8;\"/>\n   </g>\n   <g id=\"text_14\">\n    <!-- True Label : 0 -->\n    <g transform=\"translate(149.988912 16.318125)scale(0.12 -0.12)\">\n     <use xlink:href=\"#DejaVuSans-84\"/>\n     <use x=\"46.333984\" xlink:href=\"#DejaVuSans-114\"/>\n     <use x=\"87.447266\" xlink:href=\"#DejaVuSans-117\"/>\n     <use x=\"150.826172\" xlink:href=\"#DejaVuSans-101\"/>\n     <use x=\"212.349609\" xlink:href=\"#DejaVuSans-32\"/>\n     <use x=\"244.136719\" xlink:href=\"#DejaVuSans-76\"/>\n     <use x=\"299.849609\" xlink:href=\"#DejaVuSans-97\"/>\n     <use x=\"361.128906\" xlink:href=\"#DejaVuSans-98\"/>\n     <use x=\"424.605469\" xlink:href=\"#DejaVuSans-101\"/>\n     <use x=\"486.128906\" xlink:href=\"#DejaVuSans-108\"/>\n     <use x=\"513.912109\" xlink:href=\"#DejaVuSans-32\"/>\n     <use x=\"545.699219\" xlink:href=\"#DejaVuSans-58\"/>\n     <use x=\"579.390625\" xlink:href=\"#DejaVuSans-32\"/>\n     <use x=\"611.177734\" xlink:href=\"#DejaVuSans-48\"/>\n    </g>\n   </g>\n  </g>\n  <g id=\"axes_3\">\n   <g id=\"patch_12\">\n    <path d=\"M 257.821552 118.525022 \nL 354.028448 118.525022 \nL 354.028448 22.318125 \nL 257.821552 22.318125 \nz\n\" style=\"fill:#ffffff;\"/>\n   </g>\n   <g clip-path=\"url(#p4a099c8526)\">\n    <image height=\"97\" id=\"image3c135981f1\" transform=\"scale(1 -1)translate(0 -97)\" width=\"97\" x=\"257.821552\" xlink:href=\"data:image/png;base64,\niVBORw0KGgoAAAANSUhEUgAAAGEAAABhCAYAAADGBs+jAAAABHNCSVQICAgIfAhkiAAAA39JREFUeJztnLFLI0EUxidyqCkUrAS1jCIIWgQLrSNoaW0KEVFJZSFY+W+IIKSInTY22glqo2IKY0CNhQEjiI2ohTZBr3s3b7lwe3uz2c/b71d9w4u7Iz/fzGazMWGM+TIkUlqingChBAgoAQBKAIASAKAEACgBAEoAgBIA+BH1BJrJ7Oys5Hw+r2qbm5uSFxcXmzUlYww7AQJKAIASAIjVnjA1NSU5kUhEOBMNOwEASgAgVsuRzdcXzmdZ7AQAKAEASgAgtnuCl5OTk8jOzU4AgBIAiO1y5H3H/Pn5GdFM2AkQUAIAlABAbPcE722L29vbiGbCToCAEgCgBAAoAQBKAIASAIjtJaqX6elpyaenp009NzsBAEoAIGECfntzdXVV8vj4uJPJ7O7uSr6+vlY1F0vEwsKC5I2NDVW7u7uTnEql/vlcfwM7AQBKAIASAPC9J6yvr6ux/Qz/y8uLqt3f3/s6+fDwsJ6M9WlXvV5Xtff3d8lXV1eSz87O1OuKxaLko6MjVXt6epL88PCgal1dXZJbW1v/OHeXsBMAoAQAfL9jTiaTamwvHUtLS6q2s7Pj65gjIyMNj5nJZFStr69Psr1czM3NqdfNz89L/vj4UDV76Wpvb1e1lpZff4+Dg4OqdnNz8/tfwBHsBAAoAQBKAMDJXdTn5+dAP1cqlRrWLi4ufB0jl8upcWdnp+TJyUlVy2azktva2lTN3hPS6bSqcU+IAZQAgJPlaHR0VI0PDg5cHDYQb29vkre3t1XNHm9tbanazMyM5LW1NVXb29uT7L074AJ2AgCUAIDv5ahSqTSsDQ0NOZlMM1lZWVFj+x36wMCAqnV0dEjmcvSfQgkAUAIAvveE/f19NfZexn037A94jDGmWq1K7u7uVrXe3l7JtVrN+VzYCQBQAgC+l6PLy0s19rbzd+f19bVhbWJiQnIYj0iyEwCgBAAoAYDAd1Gj/AZ8GNgPCHgvQ/v7+0M9NzsBAEoAIPByVCgUJIfdrs3g8fFRsv0vm40xZmxsTHIYzySxEwCgBAAoAYDAe8Lh4aHkcrnsYi6RYl9y23dUjTGmp6dHchj/T5WdAAAlABB4OTo+PnY5DyjOz8/VeHl5OdTzsRMAoAQAKAGAwN/oJ+5gJwBACQBQAgCUAAAlAEAJAFACAJQAACUAQAkAUAIAlAAAJQBACQBQAgCUAMBP20jAPFbHsrUAAAAASUVORK5CYII=\" y=\"-21.525022\"/>\n   </g>\n   <g id=\"matplotlib.axis_5\">\n    <g id=\"xtick_7\">\n     <g id=\"line2d_13\">\n      <g>\n       <use style=\"stroke:#000000;stroke-width:0.8;\" x=\"259.539532\" xlink:href=\"#m19a06e1f41\" y=\"118.525022\"/>\n      </g>\n     </g>\n     <g id=\"text_15\">\n      <!-- 0 -->\n      <g transform=\"translate(256.358282 133.123459)scale(0.1 -0.1)\">\n       <use xlink:href=\"#DejaVuSans-48\"/>\n      </g>\n     </g>\n    </g>\n    <g id=\"xtick_8\">\n     <g id=\"line2d_14\">\n      <g>\n       <use style=\"stroke:#000000;stroke-width:0.8;\" x=\"293.899138\" xlink:href=\"#m19a06e1f41\" y=\"118.525022\"/>\n      </g>\n     </g>\n     <g id=\"text_16\">\n      <!-- 10 -->\n      <g transform=\"translate(287.536638 133.123459)scale(0.1 -0.1)\">\n       <use xlink:href=\"#DejaVuSans-49\"/>\n       <use x=\"63.623047\" xlink:href=\"#DejaVuSans-48\"/>\n      </g>\n     </g>\n    </g>\n    <g id=\"xtick_9\">\n     <g id=\"line2d_15\">\n      <g>\n       <use style=\"stroke:#000000;stroke-width:0.8;\" x=\"328.258744\" xlink:href=\"#m19a06e1f41\" y=\"118.525022\"/>\n      </g>\n     </g>\n     <g id=\"text_17\">\n      <!-- 20 -->\n      <g transform=\"translate(321.896244 133.123459)scale(0.1 -0.1)\">\n       <use xlink:href=\"#DejaVuSans-50\"/>\n       <use x=\"63.623047\" xlink:href=\"#DejaVuSans-48\"/>\n      </g>\n     </g>\n    </g>\n   </g>\n   <g id=\"matplotlib.axis_6\">\n    <g id=\"ytick_7\">\n     <g id=\"line2d_16\">\n      <g>\n       <use style=\"stroke:#000000;stroke-width:0.8;\" x=\"257.821552\" xlink:href=\"#m9033f13ae6\" y=\"24.036105\"/>\n      </g>\n     </g>\n     <g id=\"text_18\">\n      <!-- 0 -->\n      <g transform=\"translate(244.459052 27.835324)scale(0.1 -0.1)\">\n       <use xlink:href=\"#DejaVuSans-48\"/>\n      </g>\n     </g>\n    </g>\n    <g id=\"ytick_8\">\n     <g id=\"line2d_17\">\n      <g>\n       <use style=\"stroke:#000000;stroke-width:0.8;\" x=\"257.821552\" xlink:href=\"#m9033f13ae6\" y=\"58.395711\"/>\n      </g>\n     </g>\n     <g id=\"text_19\">\n      <!-- 10 -->\n      <g transform=\"translate(238.096552 62.19493)scale(0.1 -0.1)\">\n       <use xlink:href=\"#DejaVuSans-49\"/>\n       <use x=\"63.623047\" xlink:href=\"#DejaVuSans-48\"/>\n      </g>\n     </g>\n    </g>\n    <g id=\"ytick_9\">\n     <g id=\"line2d_18\">\n      <g>\n       <use style=\"stroke:#000000;stroke-width:0.8;\" x=\"257.821552\" xlink:href=\"#m9033f13ae6\" y=\"92.755317\"/>\n      </g>\n     </g>\n     <g id=\"text_20\">\n      <!-- 20 -->\n      <g transform=\"translate(238.096552 96.554536)scale(0.1 -0.1)\">\n       <use xlink:href=\"#DejaVuSans-50\"/>\n       <use x=\"63.623047\" xlink:href=\"#DejaVuSans-48\"/>\n      </g>\n     </g>\n    </g>\n   </g>\n   <g id=\"patch_13\">\n    <path d=\"M 257.821552 118.525022 \nL 257.821552 22.318125 \n\" style=\"fill:none;stroke:#000000;stroke-linecap:square;stroke-linejoin:miter;stroke-width:0.8;\"/>\n   </g>\n   <g id=\"patch_14\">\n    <path d=\"M 354.028448 118.525022 \nL 354.028448 22.318125 \n\" style=\"fill:none;stroke:#000000;stroke-linecap:square;stroke-linejoin:miter;stroke-width:0.8;\"/>\n   </g>\n   <g id=\"patch_15\">\n    <path d=\"M 257.821552 118.525022 \nL 354.028448 118.525022 \n\" style=\"fill:none;stroke:#000000;stroke-linecap:square;stroke-linejoin:miter;stroke-width:0.8;\"/>\n   </g>\n   <g id=\"patch_16\">\n    <path d=\"M 257.821552 22.318125 \nL 354.028448 22.318125 \n\" style=\"fill:none;stroke:#000000;stroke-linecap:square;stroke-linejoin:miter;stroke-width:0.8;\"/>\n   </g>\n   <g id=\"text_21\">\n    <!-- True Label : 4 -->\n    <defs>\n     <path d=\"M 37.796875 64.3125 \nL 12.890625 25.390625 \nL 37.796875 25.390625 \nz\nM 35.203125 72.90625 \nL 47.609375 72.90625 \nL 47.609375 25.390625 \nL 58.015625 25.390625 \nL 58.015625 17.1875 \nL 47.609375 17.1875 \nL 47.609375 0 \nL 37.796875 0 \nL 37.796875 17.1875 \nL 4.890625 17.1875 \nL 4.890625 26.703125 \nz\n\" id=\"DejaVuSans-52\"/>\n    </defs>\n    <g transform=\"translate(265.437188 16.318125)scale(0.12 -0.12)\">\n     <use xlink:href=\"#DejaVuSans-84\"/>\n     <use x=\"46.333984\" xlink:href=\"#DejaVuSans-114\"/>\n     <use x=\"87.447266\" xlink:href=\"#DejaVuSans-117\"/>\n     <use x=\"150.826172\" xlink:href=\"#DejaVuSans-101\"/>\n     <use x=\"212.349609\" xlink:href=\"#DejaVuSans-32\"/>\n     <use x=\"244.136719\" xlink:href=\"#DejaVuSans-76\"/>\n     <use x=\"299.849609\" xlink:href=\"#DejaVuSans-97\"/>\n     <use x=\"361.128906\" xlink:href=\"#DejaVuSans-98\"/>\n     <use x=\"424.605469\" xlink:href=\"#DejaVuSans-101\"/>\n     <use x=\"486.128906\" xlink:href=\"#DejaVuSans-108\"/>\n     <use x=\"513.912109\" xlink:href=\"#DejaVuSans-32\"/>\n     <use x=\"545.699219\" xlink:href=\"#DejaVuSans-58\"/>\n     <use x=\"579.390625\" xlink:href=\"#DejaVuSans-32\"/>\n     <use x=\"611.177734\" xlink:href=\"#DejaVuSans-52\"/>\n    </g>\n   </g>\n  </g>\n  <g id=\"axes_4\">\n   <g id=\"patch_17\">\n    <path d=\"M 373.269828 118.525022 \nL 469.476724 118.525022 \nL 469.476724 22.318125 \nL 373.269828 22.318125 \nz\n\" style=\"fill:#ffffff;\"/>\n   </g>\n   <g clip-path=\"url(#p25e694fbda)\">\n    <image height=\"97\" id=\"image601fd3362a\" transform=\"scale(1 -1)translate(0 -97)\" width=\"97\" x=\"373.269828\" xlink:href=\"data:image/png;base64,\niVBORw0KGgoAAAANSUhEUgAAAGEAAABhCAYAAADGBs+jAAAABHNCSVQICAgIfAhkiAAAAzRJREFUeJztnDFrIkEYhle5QkghgqCoiEgKCwtrsQlJE0hnSLqgJoU/QpCY1i5FCgvFJrFIkTpFxMqfYApRO5NKIYWN3nXfzSyXnHfsrK/mfap3GBc/ePxmVnddj2VZPy2yUbybLoBQAgSUAAAlAEAJAFACAJQAACUAQAkA/HD7DcPhsOROp6PN5XI5yaPRSJvb3983W9gGYScAQAkAUAIAru8JqVRKcjabdfvtIWEnAEAJAFACAJQAACUAQAkAuH6KOpvNJE+nU20uEolIjkaj2ly9XpdcqVQkLxYLp0t0HXYCAJQAgMfa4H1HzWZTGxcKBcmr1erT45LJpOTJZOJ4XW7DTgCAEgCgBAA2uifYWS6Xkr/aEy4uLiTf398brckN2AkAUAIAUMvR+/u75EAg8Onr+v2+5OPjY23u4+PD+cIMw04AgBIAoAQAoPaETCYj+fHxUZuLx+N/PObp6Ukbn56eOl+YYdgJAFACAFDLkcrd3Z02vrq6Wuu4dDot+fX11dGaTMFOAIASAKAEAGD3hEQioY2Hw+Fax7XbbcnFYtHJkozBTgCAEgBw/b6jdRmPx9o4n89LbrVakvf29rTXqTcBhEIhbe7t7c25Ah2EnQAAJQBACQDAnqJ+Rblclnx7e6vNeb2/P1fPz8/a3Pn5ueT5fG6oun+HnQAAJQCwlcuR+m3afvFHvTBkv3fp5uZGcq1WM1Pcf8BOAIASANjK5UglGAxqY/VbsX05Uv8ldHZ2ps29vLwYqG492AkAUAIAlADA1u8JdhqNhuRSqfTp67rdrjY+PDw0VdJfYScAQAkA7NxypD5Hz/4vHvX5e3YuLy8lq9ep3YCdAAAlAEAJAOzcnqBydHSkjR8eHiT7/X5tbjAYSD45OdHm1J9CTDzQhJ0AACUAsNPLkZ1qtSpZfWaSHfU6tWVZ1sHBgeRer+d4XewEACgBAEoAAPZeVBOoD6iyn2r6fD63yxHYCQBQAgDfajlSb6mPxWLa3PX1tWT7KarH4zFaFzsBAEoAgBIA+FY/W6DCTgCAEgCgBAAoAQBKAIASAKAEACgBAEoAgBIAoAQAKAEASgCAEgCgBAAoAYBfCvCeYdefU/oAAAAASUVORK5CYII=\" y=\"-21.525022\"/>\n   </g>\n   <g id=\"matplotlib.axis_7\">\n    <g id=\"xtick_10\">\n     <g id=\"line2d_19\">\n      <g>\n       <use style=\"stroke:#000000;stroke-width:0.8;\" x=\"374.987808\" xlink:href=\"#m19a06e1f41\" y=\"118.525022\"/>\n      </g>\n     </g>\n     <g id=\"text_22\">\n      <!-- 0 -->\n      <g transform=\"translate(371.806558 133.123459)scale(0.1 -0.1)\">\n       <use xlink:href=\"#DejaVuSans-48\"/>\n      </g>\n     </g>\n    </g>\n    <g id=\"xtick_11\">\n     <g id=\"line2d_20\">\n      <g>\n       <use style=\"stroke:#000000;stroke-width:0.8;\" x=\"409.347414\" xlink:href=\"#m19a06e1f41\" y=\"118.525022\"/>\n      </g>\n     </g>\n     <g id=\"text_23\">\n      <!-- 10 -->\n      <g transform=\"translate(402.984914 133.123459)scale(0.1 -0.1)\">\n       <use xlink:href=\"#DejaVuSans-49\"/>\n       <use x=\"63.623047\" xlink:href=\"#DejaVuSans-48\"/>\n      </g>\n     </g>\n    </g>\n    <g id=\"xtick_12\">\n     <g id=\"line2d_21\">\n      <g>\n       <use style=\"stroke:#000000;stroke-width:0.8;\" x=\"443.70702\" xlink:href=\"#m19a06e1f41\" y=\"118.525022\"/>\n      </g>\n     </g>\n     <g id=\"text_24\">\n      <!-- 20 -->\n      <g transform=\"translate(437.34452 133.123459)scale(0.1 -0.1)\">\n       <use xlink:href=\"#DejaVuSans-50\"/>\n       <use x=\"63.623047\" xlink:href=\"#DejaVuSans-48\"/>\n      </g>\n     </g>\n    </g>\n   </g>\n   <g id=\"matplotlib.axis_8\">\n    <g id=\"ytick_10\">\n     <g id=\"line2d_22\">\n      <g>\n       <use style=\"stroke:#000000;stroke-width:0.8;\" x=\"373.269828\" xlink:href=\"#m9033f13ae6\" y=\"24.036105\"/>\n      </g>\n     </g>\n     <g id=\"text_25\">\n      <!-- 0 -->\n      <g transform=\"translate(359.907328 27.835324)scale(0.1 -0.1)\">\n       <use xlink:href=\"#DejaVuSans-48\"/>\n      </g>\n     </g>\n    </g>\n    <g id=\"ytick_11\">\n     <g id=\"line2d_23\">\n      <g>\n       <use style=\"stroke:#000000;stroke-width:0.8;\" x=\"373.269828\" xlink:href=\"#m9033f13ae6\" y=\"58.395711\"/>\n      </g>\n     </g>\n     <g id=\"text_26\">\n      <!-- 10 -->\n      <g transform=\"translate(353.544828 62.19493)scale(0.1 -0.1)\">\n       <use xlink:href=\"#DejaVuSans-49\"/>\n       <use x=\"63.623047\" xlink:href=\"#DejaVuSans-48\"/>\n      </g>\n     </g>\n    </g>\n    <g id=\"ytick_12\">\n     <g id=\"line2d_24\">\n      <g>\n       <use style=\"stroke:#000000;stroke-width:0.8;\" x=\"373.269828\" xlink:href=\"#m9033f13ae6\" y=\"92.755317\"/>\n      </g>\n     </g>\n     <g id=\"text_27\">\n      <!-- 20 -->\n      <g transform=\"translate(353.544828 96.554536)scale(0.1 -0.1)\">\n       <use xlink:href=\"#DejaVuSans-50\"/>\n       <use x=\"63.623047\" xlink:href=\"#DejaVuSans-48\"/>\n      </g>\n     </g>\n    </g>\n   </g>\n   <g id=\"patch_18\">\n    <path d=\"M 373.269828 118.525022 \nL 373.269828 22.318125 \n\" style=\"fill:none;stroke:#000000;stroke-linecap:square;stroke-linejoin:miter;stroke-width:0.8;\"/>\n   </g>\n   <g id=\"patch_19\">\n    <path d=\"M 469.476724 118.525022 \nL 469.476724 22.318125 \n\" style=\"fill:none;stroke:#000000;stroke-linecap:square;stroke-linejoin:miter;stroke-width:0.8;\"/>\n   </g>\n   <g id=\"patch_20\">\n    <path d=\"M 373.269828 118.525022 \nL 469.476724 118.525022 \n\" style=\"fill:none;stroke:#000000;stroke-linecap:square;stroke-linejoin:miter;stroke-width:0.8;\"/>\n   </g>\n   <g id=\"patch_21\">\n    <path d=\"M 373.269828 22.318125 \nL 469.476724 22.318125 \n\" style=\"fill:none;stroke:#000000;stroke-linecap:square;stroke-linejoin:miter;stroke-width:0.8;\"/>\n   </g>\n   <g id=\"text_28\">\n    <!-- True Label : 1 -->\n    <g transform=\"translate(380.885463 16.318125)scale(0.12 -0.12)\">\n     <use xlink:href=\"#DejaVuSans-84\"/>\n     <use x=\"46.333984\" xlink:href=\"#DejaVuSans-114\"/>\n     <use x=\"87.447266\" xlink:href=\"#DejaVuSans-117\"/>\n     <use x=\"150.826172\" xlink:href=\"#DejaVuSans-101\"/>\n     <use x=\"212.349609\" xlink:href=\"#DejaVuSans-32\"/>\n     <use x=\"244.136719\" xlink:href=\"#DejaVuSans-76\"/>\n     <use x=\"299.849609\" xlink:href=\"#DejaVuSans-97\"/>\n     <use x=\"361.128906\" xlink:href=\"#DejaVuSans-98\"/>\n     <use x=\"424.605469\" xlink:href=\"#DejaVuSans-101\"/>\n     <use x=\"486.128906\" xlink:href=\"#DejaVuSans-108\"/>\n     <use x=\"513.912109\" xlink:href=\"#DejaVuSans-32\"/>\n     <use x=\"545.699219\" xlink:href=\"#DejaVuSans-58\"/>\n     <use x=\"579.390625\" xlink:href=\"#DejaVuSans-32\"/>\n     <use x=\"611.177734\" xlink:href=\"#DejaVuSans-49\"/>\n    </g>\n   </g>\n  </g>\n  <g id=\"axes_5\">\n   <g id=\"patch_22\">\n    <path d=\"M 488.718103 118.525022 \nL 584.925 118.525022 \nL 584.925 22.318125 \nL 488.718103 22.318125 \nz\n\" style=\"fill:#ffffff;\"/>\n   </g>\n   <g clip-path=\"url(#p616551e880)\">\n    <image height=\"97\" id=\"imagee466c86d38\" transform=\"scale(1 -1)translate(0 -97)\" width=\"97\" x=\"488.718103\" xlink:href=\"data:image/png;base64,\niVBORw0KGgoAAAANSUhEUgAAAGEAAABhCAYAAADGBs+jAAAABHNCSVQICAgIfAhkiAAAA+dJREFUeJztnMErbVEUxteVkCSJgSExQSaUCZmIEYkBygAzc6UkFGYmUkYGBqSIEhNMkAH/ABLKgImZEim82Xprnd6R+949937n9f1G324d5y591t777LOuhIh8CckoWZlOgNAECLIznUCqKSwsVD03N+diIyMjquvq6lzs4uIi2sS+gZUAAE0AgCYAEPs1wa4BIiIbGxuqW1tbXWx7e1v1/f19tIklASsBAJoAQOyno+7ubje2U9Dx8bGLTU9Pq355eYk0r2RgJQBAEwCgCQAkJOanqNfX125cUVGhuqmpycXOzs7SklOysBIAoAkAxHKLWltbq7qqqsrFPj8/Vd/e3qYtp3+BlQAATQCAJgAQyzWhublZtV0DRES+vuK342YlAEATAIjldHR3d5fpFFIKKwEAmgAATQAg9qeoHx8fbmy3qGVlZS729PSUlpyShZUAAE0AIJZb1Pb29kynkFJYCQDQBABoAgCxXBNeX19VZ2X5vyN7qtrX1+dii4uL0Sb2l7ASAKAJAEQ+HTU2Nrrx3t6e6uLiYhe7ublRvbOz42IrKyuqba9RsN/U9hrZHiRkWAkA0AQAaAIAkZyiFhUVqb68vHSx0tLS3x+eSLjYT1/SPz4+ht7DnpwGT02Dp6oosBIAoAkARLJFzcnJUW2nnyDl5eVu/Pb2pnpoaMjFOjs7Vdte1IKCAnedndJKSkpcrKOjQ/Xu7m5oXumGlQAATQCAJgAQ+Rb16urKxew8bY8wRES6urp+dP/KykrVa2trLlZfXx/6c1tbW6qHh4ddLJNfqWUlAEATAIi872hyctKNp6amVL+/v7vY/v6+6v7+fhezL3IseXl5btzW1qZ6fX099NrZ2dnQvNINKwEAmgBA2tsgZ2ZmVI+Pj7uYfdpdWlpysYmJCdXPz88/+qzg4WHwm56Wnp4e1cEXSlHDSgCAJgBAEwDIaGv84OCgGy8vL4dee3h4qLq3t1f1d+vDwMCAG9tmgSAPDw+qGxoaXCzqlnpWAgA0AYCMTkfZ2f6dkp0GDg4OXCw/P1/1ycmJarvlFRE5PT1VnZub62L233XaJ2sR/656bGzMxebn5//8C6QIVgIANAEAmgAA7Lc37TZURGRhYUG1fTEU7Ds6OjpSHWwyqK6uDv08e5/NzU0XC7bYpxpWAgA0AQDY6SiIbbG3T8ItLS3uupqamtB7jI6OqratlCK+pX51ddXFzs/Pk0s2SVgJANAEAGgCALFZE/5nWAkA0AQAaAIANAEAmgAATQCAJgBAEwCgCQDQBABoAgA0AQCaAABNAIAmAEATAKAJANAEAGgCADQBAJoAAE0AgCYA8AsLqdv+dBCISwAAAABJRU5ErkJggg==\" y=\"-21.525022\"/>\n   </g>\n   <g id=\"matplotlib.axis_9\">\n    <g id=\"xtick_13\">\n     <g id=\"line2d_25\">\n      <g>\n       <use style=\"stroke:#000000;stroke-width:0.8;\" x=\"490.436084\" xlink:href=\"#m19a06e1f41\" y=\"118.525022\"/>\n      </g>\n     </g>\n     <g id=\"text_29\">\n      <!-- 0 -->\n      <g transform=\"translate(487.254834 133.123459)scale(0.1 -0.1)\">\n       <use xlink:href=\"#DejaVuSans-48\"/>\n      </g>\n     </g>\n    </g>\n    <g id=\"xtick_14\">\n     <g id=\"line2d_26\">\n      <g>\n       <use style=\"stroke:#000000;stroke-width:0.8;\" x=\"524.79569\" xlink:href=\"#m19a06e1f41\" y=\"118.525022\"/>\n      </g>\n     </g>\n     <g id=\"text_30\">\n      <!-- 10 -->\n      <g transform=\"translate(518.43319 133.123459)scale(0.1 -0.1)\">\n       <use xlink:href=\"#DejaVuSans-49\"/>\n       <use x=\"63.623047\" xlink:href=\"#DejaVuSans-48\"/>\n      </g>\n     </g>\n    </g>\n    <g id=\"xtick_15\">\n     <g id=\"line2d_27\">\n      <g>\n       <use style=\"stroke:#000000;stroke-width:0.8;\" x=\"559.155296\" xlink:href=\"#m19a06e1f41\" y=\"118.525022\"/>\n      </g>\n     </g>\n     <g id=\"text_31\">\n      <!-- 20 -->\n      <g transform=\"translate(552.792796 133.123459)scale(0.1 -0.1)\">\n       <use xlink:href=\"#DejaVuSans-50\"/>\n       <use x=\"63.623047\" xlink:href=\"#DejaVuSans-48\"/>\n      </g>\n     </g>\n    </g>\n   </g>\n   <g id=\"matplotlib.axis_10\">\n    <g id=\"ytick_13\">\n     <g id=\"line2d_28\">\n      <g>\n       <use style=\"stroke:#000000;stroke-width:0.8;\" x=\"488.718103\" xlink:href=\"#m9033f13ae6\" y=\"24.036105\"/>\n      </g>\n     </g>\n     <g id=\"text_32\">\n      <!-- 0 -->\n      <g transform=\"translate(475.355603 27.835324)scale(0.1 -0.1)\">\n       <use xlink:href=\"#DejaVuSans-48\"/>\n      </g>\n     </g>\n    </g>\n    <g id=\"ytick_14\">\n     <g id=\"line2d_29\">\n      <g>\n       <use style=\"stroke:#000000;stroke-width:0.8;\" x=\"488.718103\" xlink:href=\"#m9033f13ae6\" y=\"58.395711\"/>\n      </g>\n     </g>\n     <g id=\"text_33\">\n      <!-- 10 -->\n      <g transform=\"translate(468.993103 62.19493)scale(0.1 -0.1)\">\n       <use xlink:href=\"#DejaVuSans-49\"/>\n       <use x=\"63.623047\" xlink:href=\"#DejaVuSans-48\"/>\n      </g>\n     </g>\n    </g>\n    <g id=\"ytick_15\">\n     <g id=\"line2d_30\">\n      <g>\n       <use style=\"stroke:#000000;stroke-width:0.8;\" x=\"488.718103\" xlink:href=\"#m9033f13ae6\" y=\"92.755317\"/>\n      </g>\n     </g>\n     <g id=\"text_34\">\n      <!-- 20 -->\n      <g transform=\"translate(468.993103 96.554536)scale(0.1 -0.1)\">\n       <use xlink:href=\"#DejaVuSans-50\"/>\n       <use x=\"63.623047\" xlink:href=\"#DejaVuSans-48\"/>\n      </g>\n     </g>\n    </g>\n   </g>\n   <g id=\"patch_23\">\n    <path d=\"M 488.718103 118.525022 \nL 488.718103 22.318125 \n\" style=\"fill:none;stroke:#000000;stroke-linecap:square;stroke-linejoin:miter;stroke-width:0.8;\"/>\n   </g>\n   <g id=\"patch_24\">\n    <path d=\"M 584.925 118.525022 \nL 584.925 22.318125 \n\" style=\"fill:none;stroke:#000000;stroke-linecap:square;stroke-linejoin:miter;stroke-width:0.8;\"/>\n   </g>\n   <g id=\"patch_25\">\n    <path d=\"M 488.718103 118.525022 \nL 584.925 118.525022 \n\" style=\"fill:none;stroke:#000000;stroke-linecap:square;stroke-linejoin:miter;stroke-width:0.8;\"/>\n   </g>\n   <g id=\"patch_26\">\n    <path d=\"M 488.718103 22.318125 \nL 584.925 22.318125 \n\" style=\"fill:none;stroke:#000000;stroke-linecap:square;stroke-linejoin:miter;stroke-width:0.8;\"/>\n   </g>\n   <g id=\"text_35\">\n    <!-- True Label : 9 -->\n    <defs>\n     <path d=\"M 10.984375 1.515625 \nL 10.984375 10.5 \nQ 14.703125 8.734375 18.5 7.8125 \nQ 22.3125 6.890625 25.984375 6.890625 \nQ 35.75 6.890625 40.890625 13.453125 \nQ 46.046875 20.015625 46.78125 33.40625 \nQ 43.953125 29.203125 39.59375 26.953125 \nQ 35.25 24.703125 29.984375 24.703125 \nQ 19.046875 24.703125 12.671875 31.3125 \nQ 6.296875 37.9375 6.296875 49.421875 \nQ 6.296875 60.640625 12.9375 67.421875 \nQ 19.578125 74.21875 30.609375 74.21875 \nQ 43.265625 74.21875 49.921875 64.515625 \nQ 56.59375 54.828125 56.59375 36.375 \nQ 56.59375 19.140625 48.40625 8.859375 \nQ 40.234375 -1.421875 26.421875 -1.421875 \nQ 22.703125 -1.421875 18.890625 -0.6875 \nQ 15.09375 0.046875 10.984375 1.515625 \nz\nM 30.609375 32.421875 \nQ 37.25 32.421875 41.125 36.953125 \nQ 45.015625 41.5 45.015625 49.421875 \nQ 45.015625 57.28125 41.125 61.84375 \nQ 37.25 66.40625 30.609375 66.40625 \nQ 23.96875 66.40625 20.09375 61.84375 \nQ 16.21875 57.28125 16.21875 49.421875 \nQ 16.21875 41.5 20.09375 36.953125 \nQ 23.96875 32.421875 30.609375 32.421875 \nz\n\" id=\"DejaVuSans-57\"/>\n    </defs>\n    <g transform=\"translate(496.333739 16.318125)scale(0.12 -0.12)\">\n     <use xlink:href=\"#DejaVuSans-84\"/>\n     <use x=\"46.333984\" xlink:href=\"#DejaVuSans-114\"/>\n     <use x=\"87.447266\" xlink:href=\"#DejaVuSans-117\"/>\n     <use x=\"150.826172\" xlink:href=\"#DejaVuSans-101\"/>\n     <use x=\"212.349609\" xlink:href=\"#DejaVuSans-32\"/>\n     <use x=\"244.136719\" xlink:href=\"#DejaVuSans-76\"/>\n     <use x=\"299.849609\" xlink:href=\"#DejaVuSans-97\"/>\n     <use x=\"361.128906\" xlink:href=\"#DejaVuSans-98\"/>\n     <use x=\"424.605469\" xlink:href=\"#DejaVuSans-101\"/>\n     <use x=\"486.128906\" xlink:href=\"#DejaVuSans-108\"/>\n     <use x=\"513.912109\" xlink:href=\"#DejaVuSans-32\"/>\n     <use x=\"545.699219\" xlink:href=\"#DejaVuSans-58\"/>\n     <use x=\"579.390625\" xlink:href=\"#DejaVuSans-32\"/>\n     <use x=\"611.177734\" xlink:href=\"#DejaVuSans-57\"/>\n    </g>\n   </g>\n  </g>\n </g>\n <defs>\n  <clipPath id=\"p3da4aacc16\">\n   <rect height=\"96.206897\" width=\"96.206897\" x=\"26.925\" y=\"22.318125\"/>\n  </clipPath>\n  <clipPath id=\"pd2909feb00\">\n   <rect height=\"96.206897\" width=\"96.206897\" x=\"142.373276\" y=\"22.318125\"/>\n  </clipPath>\n  <clipPath id=\"p4a099c8526\">\n   <rect height=\"96.206897\" width=\"96.206897\" x=\"257.821552\" y=\"22.318125\"/>\n  </clipPath>\n  <clipPath id=\"p25e694fbda\">\n   <rect height=\"96.206897\" width=\"96.206897\" x=\"373.269828\" y=\"22.318125\"/>\n  </clipPath>\n  <clipPath id=\"p616551e880\">\n   <rect height=\"96.206897\" width=\"96.206897\" x=\"488.718103\" y=\"22.318125\"/>\n  </clipPath>\n </defs>\n</svg>\n"
          },
          "metadata": {
            "tags": [],
            "needs_background": "light"
          }
        }
      ]
    },
    {
      "cell_type": "code",
      "metadata": {
        "id": "Pc5WK14SEZCZ",
        "colab_type": "code",
        "colab": {
          "base_uri": "https://localhost:8080/",
          "height": 92
        },
        "outputId": "244e864d-f752-41ec-b867-5cbdc80cf030"
      },
      "source": [
        "print(f'train images: {x_train.shape}')\n",
        "print(f'train labels: {y_train.shape}')\n",
        "print(f' test images: {x_test.shape}')\n",
        "print(f' test labels: {y_test.shape}')"
      ],
      "execution_count": 91,
      "outputs": [
        {
          "output_type": "stream",
          "text": [
            "train images: (60000, 28, 28)\n",
            "train labels: (60000,)\n",
            " test images: (10000, 28, 28)\n",
            " test labels: (10000,)\n"
          ],
          "name": "stdout"
        }
      ]
    },
    {
      "cell_type": "code",
      "metadata": {
        "id": "25y5Mx46INmk",
        "colab_type": "code",
        "colab": {
          "base_uri": "https://localhost:8080/",
          "height": 36
        },
        "outputId": "136efe8a-2c73-40c1-b2bb-f0b01e4afad8"
      },
      "source": [
        "s = x_train[1][:][:]\n",
        "print(s.shape)"
      ],
      "execution_count": 92,
      "outputs": [
        {
          "output_type": "stream",
          "text": [
            "(28, 28)\n"
          ],
          "name": "stdout"
        }
      ]
    },
    {
      "cell_type": "markdown",
      "metadata": {
        "id": "3lareQAKGLW0",
        "colab_type": "text"
      },
      "source": [
        "### **Preprocessing**"
      ]
    },
    {
      "cell_type": "code",
      "metadata": {
        "id": "nhkuc0XaGK3K",
        "colab_type": "code",
        "colab": {}
      },
      "source": [
        "# flatten images to 1-D vector of 784 features (28*28)\n",
        "\n",
        "x_train = x_train.reshape(60000 , num_features)\n",
        "x_test = x_test.reshape(10000, num_features)\n",
        "\n",
        "''' \n",
        "  another way\n",
        "  x_train, x_test = x_train.reshape([-1, num_features]), x_test.reshape([-1, num_features])\n",
        "'''\n",
        "# normalize images value from [0, 255] to [0.0, 1.0]\n",
        "x_train, x_test = x_train / 255., x_test / 255."
      ],
      "execution_count": 93,
      "outputs": []
    },
    {
      "cell_type": "code",
      "metadata": {
        "id": "vGI_stKVNSAU",
        "colab_type": "code",
        "colab": {
          "base_uri": "https://localhost:8080/",
          "height": 36
        },
        "outputId": "454a070f-d9e7-477b-cc0a-fc48dd12fd24"
      },
      "source": [
        "print(x_train.shape)"
      ],
      "execution_count": 94,
      "outputs": [
        {
          "output_type": "stream",
          "text": [
            "(60000, 784)\n"
          ],
          "name": "stdout"
        }
      ]
    },
    {
      "cell_type": "code",
      "metadata": {
        "id": "_Jp_TzVuNoKi",
        "colab_type": "code",
        "colab": {
          "base_uri": "https://localhost:8080/",
          "height": 36
        },
        "outputId": "7586cc9b-b4d6-40ab-8d8e-65d37a97f4b1"
      },
      "source": [
        "# Vector containing 784 elements\n",
        "print(x_train[1].shape)"
      ],
      "execution_count": 95,
      "outputs": [
        {
          "output_type": "stream",
          "text": [
            "(784,)\n"
          ],
          "name": "stdout"
        }
      ]
    },
    {
      "cell_type": "code",
      "metadata": {
        "id": "OkKbsZM8PYrs",
        "colab_type": "code",
        "colab": {
          "base_uri": "https://localhost:8080/",
          "height": 54
        },
        "outputId": "7cc94f96-14b4-4c28-a812-549d9f3bf376"
      },
      "source": [
        "# After normalization\n",
        "print(\"Min Value:{}\".format(x_train[1].min()))\n",
        "print(\"Max Value:{}\".format(x_train[1].max()))"
      ],
      "execution_count": 96,
      "outputs": [
        {
          "output_type": "stream",
          "text": [
            "Min Value:0.0\n",
            "Max Value:1.0\n"
          ],
          "name": "stdout"
        }
      ]
    },
    {
      "cell_type": "markdown",
      "metadata": {
        "id": "Kum4_m_CKVET",
        "colab_type": "text"
      },
      "source": [
        "### **One hot encoding**"
      ]
    },
    {
      "cell_type": "code",
      "metadata": {
        "id": "dlXQu4wIKm46",
        "colab_type": "code",
        "colab": {
          "base_uri": "https://localhost:8080/",
          "height": 36
        },
        "outputId": "caed98ae-0c0f-4b7b-f5e0-9b05ab46a508"
      },
      "source": [
        "y_train[:4]"
      ],
      "execution_count": 97,
      "outputs": [
        {
          "output_type": "execute_result",
          "data": {
            "text/plain": [
              "array([5, 0, 4, 1], dtype=uint8)"
            ]
          },
          "metadata": {
            "tags": []
          },
          "execution_count": 97
        }
      ]
    },
    {
      "cell_type": "code",
      "metadata": {
        "id": "uVDZjUaYKX8D",
        "colab_type": "code",
        "colab": {}
      },
      "source": [
        "with tf.compat.v1.Session() as sess:\n",
        "  y_train = sess.run(tf.one_hot(y_train,10))\n",
        "  y_test = sess.run(tf.one_hot(y_test,10))"
      ],
      "execution_count": 98,
      "outputs": []
    },
    {
      "cell_type": "code",
      "metadata": {
        "id": "TKu2qvh8H6yG",
        "colab_type": "code",
        "colab": {
          "base_uri": "https://localhost:8080/",
          "height": 92
        },
        "outputId": "2324e9ac-ae07-4c1c-d807-ec850c5aa07a"
      },
      "source": [
        "y_train[:4]"
      ],
      "execution_count": 99,
      "outputs": [
        {
          "output_type": "execute_result",
          "data": {
            "text/plain": [
              "array([[0., 0., 0., 0., 0., 1., 0., 0., 0., 0.],\n",
              "       [1., 0., 0., 0., 0., 0., 0., 0., 0., 0.],\n",
              "       [0., 0., 0., 0., 1., 0., 0., 0., 0., 0.],\n",
              "       [0., 1., 0., 0., 0., 0., 0., 0., 0., 0.]], dtype=float32)"
            ]
          },
          "metadata": {
            "tags": []
          },
          "execution_count": 99
        }
      ]
    },
    {
      "cell_type": "markdown",
      "metadata": {
        "id": "orhos4qBMBIl",
        "colab_type": "text"
      },
      "source": [
        "### **Hyper parameters**"
      ]
    },
    {
      "cell_type": "code",
      "metadata": {
        "id": "n_RzdAYDMIE9",
        "colab_type": "code",
        "colab": {}
      },
      "source": [
        "# hyper parameters\n",
        "learning_rate = 0.01\n",
        "epochs = 20\n",
        "batch_size = 100\n",
        "batches = int(x_train.shape[0] / batch_size)"
      ],
      "execution_count": 100,
      "outputs": []
    },
    {
      "cell_type": "markdown",
      "metadata": {
        "id": "pEkIF_N8qvx6",
        "colab_type": "text"
      },
      "source": [
        "\n",
        "lets see how to determine the shape of W and B\n",
        "\n",
        "$\\mathbf{Y}=\\sigma(\\mathbf{X}\\cdot\\mathbf{W} + \\mathbf{B})$\n",
        "\n",
        "<img src=\"https://render.githubusercontent.com/render/math?math=%5Cbegin%7Bpmatrix%7D%0A%20%20%20%20y_1%20%5C%5C%20y_2%20%5C%5C%20%5Cvdots%20%5C%5C%20y_%7B10%7D%0A%5Cend%7Bpmatrix%7D%3D%5Csigma%5Cleft%5B%0A%5Cbegin%7Bpmatrix%7D%0A%20%20%20%20x_1%20%26amp%3B%20x_2%20%26amp%3B%20%5Cdots%20%26amp%3B%20x_%7B784%7D%0A%5Cend%7Bpmatrix%7D%0A%5Cbegin%7Bpmatrix%7D%0A%20%20%20%20w_%7B1%2C%201%7D%20%26amp%3B%20w_%7B1%2C%202%7D%20%20%26amp%3B%20%5Cdots%20%20%26amp%3B%20w_%7B1%2C%2010%7D%20%5C%5C%0A%20%20%20%20w_%7B2%2C%201%7D%20%26amp%3B%20w_%7B2%2C%202%7D%20%20%26amp%3B%20%5Cdots%20%20%26amp%3B%20w_%7B2%2C%2010%7D%20%5C%5C%0A%20%20%20%20%5Cvdots%20%26amp%3B%20%20%5Cvdots%20%26amp%3B%20%5Cddots%20%26amp%3B%20%5Cvdots%20%5C%5C%0A%20%20%20%20w_%7B784%2C%201%7D%20%26amp%3B%20w_%7B784%2C%202%7D%20%20%26amp%3B%20%5Cdots%20%20%26amp%3B%20w_%7B784%2C%2010%7D%0A%5Cend%7Bpmatrix%7D%20%2B%0A%5Cbegin%7Bpmatrix%7D%0A%20%20%20%20b_1%20%5C%5C%20b_2%20%5C%5C%20%5Cvdots%20%5C%5C%20b_%7B10%7D%0A%5Cend%7Bpmatrix%7D%0A%5Cright%5D&mode=inline\"/>\n",
        "\n",
        "Weights shape: 784, 10\n",
        "Bias shape: 10"
      ]
    },
    {
      "cell_type": "code",
      "metadata": {
        "id": "GbstYw9qNCwN",
        "colab_type": "code",
        "colab": {}
      },
      "source": [
        "'''\n",
        "  y = softmax(x*w + b)\n",
        "  \n",
        "  x shape = [None,784] flattend / normalized image\n",
        "  w shape  = [784,10] the 28*28 image features, and total number of classes.\n",
        "  b shape = vector containing element [10]\n",
        "  y = one hot label vector [10]\n",
        "'''\n",
        "# inputs\n",
        "# X is our \"flattened / normalized\" images\n",
        "# Y is our \"one hot\" labels\n",
        "X = tf.placeholder(tf.float32, [None, 784])\n",
        "Y = tf.placeholder(tf.float32, [None, 10])\n",
        "\n",
        "# weights and bias\n",
        "# weights convert X to same shape as Y\n",
        "# bias is the same shape as Y\n",
        "\n",
        "W = tf.Variable(0.1 * np.random.randn(784, 10).astype(np.float32))\n",
        "B = tf.Variable(0.1 * np.random.randn(10).astype(np.float32))"
      ],
      "execution_count": 101,
      "outputs": []
    },
    {
      "cell_type": "code",
      "metadata": {
        "id": "0Ey1CW-SRm9J",
        "colab_type": "code",
        "colab": {}
      },
      "source": [
        "# y = softmax(x*w + b)\n",
        "pred = tf.nn.softmax(tf.add(tf.matmul(X, W), B))\n",
        "\n",
        "# Summation of -Y(true label)*log(prediction_label)      \n",
        "# predicted label would be probability of getting perticular output (0-9)\n",
        "# if input image pass is = 1 \n",
        "# output label = [0,1,0,0,0,0,0,0,0,0]\n",
        "# predicted label = [0.01,0.98,0.002,0.0004,0.001,0.0007,0.005,0.002,0.03.0.05]\n",
        "\n",
        "cost = tf.reduce_mean(-tf.reduce_sum(Y * tf.log(pred), axis=1))\n",
        "\n",
        "# Optimizer as gradient descent\n",
        "optimizer = tf.train.GradientDescentOptimizer(learning_rate).minimize(cost)"
      ],
      "execution_count": 102,
      "outputs": []
    },
    {
      "cell_type": "markdown",
      "metadata": {
        "id": "XbRN9OnLUui6",
        "colab_type": "text"
      },
      "source": [
        "### **Explanation of cost function**"
      ]
    },
    {
      "cell_type": "code",
      "metadata": {
        "id": "T3irdx9hUyxh",
        "colab_type": "code",
        "colab": {
          "base_uri": "https://localhost:8080/",
          "height": 352
        },
        "outputId": "20c390ab-a037-48e8-a1a0-034e957377fb"
      },
      "source": [
        "# log(0) is undefine \n",
        "x = np.linspace(1/100 , 1, 100)\n",
        "plt.plot(x,np.log(x))\n",
        "plt.show()"
      ],
      "execution_count": 51,
      "outputs": [
        {
          "output_type": "display_data",
          "data": {
            "text/plain": [
              "<Figure size 432x288 with 1 Axes>"
            ],
            "image/svg+xml": "<?xml version=\"1.0\" encoding=\"utf-8\" standalone=\"no\"?>\n<!DOCTYPE svg PUBLIC \"-//W3C//DTD SVG 1.1//EN\"\n  \"http://www.w3.org/Graphics/SVG/1.1/DTD/svg11.dtd\">\n<!-- Created with matplotlib (https://matplotlib.org/) -->\n<svg height=\"248.518125pt\" version=\"1.1\" viewBox=\"0 0 370.942187 248.518125\" width=\"370.942187pt\" xmlns=\"http://www.w3.org/2000/svg\" xmlns:xlink=\"http://www.w3.org/1999/xlink\">\n <defs>\n  <style type=\"text/css\">\n*{stroke-linecap:butt;stroke-linejoin:round;}\n  </style>\n </defs>\n <g id=\"figure_1\">\n  <g id=\"patch_1\">\n   <path d=\"M 0 248.518125 \nL 370.942187 248.518125 \nL 370.942187 0 \nL 0 0 \nz\n\" style=\"fill:none;\"/>\n  </g>\n  <g id=\"axes_1\">\n   <g id=\"patch_2\">\n    <path d=\"M 28.942188 224.64 \nL 363.742188 224.64 \nL 363.742188 7.2 \nL 28.942188 7.2 \nz\n\" style=\"fill:#ffffff;\"/>\n   </g>\n   <g id=\"matplotlib.axis_1\">\n    <g id=\"xtick_1\">\n     <g id=\"line2d_1\">\n      <defs>\n       <path d=\"M 0 0 \nL 0 3.5 \n\" id=\"m55aeb4aa20\" style=\"stroke:#000000;stroke-width:0.8;\"/>\n      </defs>\n      <g>\n       <use style=\"stroke:#000000;stroke-width:0.8;\" x=\"41.085989\" xlink:href=\"#m55aeb4aa20\" y=\"224.64\"/>\n      </g>\n     </g>\n     <g id=\"text_1\">\n      <!-- 0.0 -->\n      <defs>\n       <path d=\"M 31.78125 66.40625 \nQ 24.171875 66.40625 20.328125 58.90625 \nQ 16.5 51.421875 16.5 36.375 \nQ 16.5 21.390625 20.328125 13.890625 \nQ 24.171875 6.390625 31.78125 6.390625 \nQ 39.453125 6.390625 43.28125 13.890625 \nQ 47.125 21.390625 47.125 36.375 \nQ 47.125 51.421875 43.28125 58.90625 \nQ 39.453125 66.40625 31.78125 66.40625 \nz\nM 31.78125 74.21875 \nQ 44.046875 74.21875 50.515625 64.515625 \nQ 56.984375 54.828125 56.984375 36.375 \nQ 56.984375 17.96875 50.515625 8.265625 \nQ 44.046875 -1.421875 31.78125 -1.421875 \nQ 19.53125 -1.421875 13.0625 8.265625 \nQ 6.59375 17.96875 6.59375 36.375 \nQ 6.59375 54.828125 13.0625 64.515625 \nQ 19.53125 74.21875 31.78125 74.21875 \nz\n\" id=\"DejaVuSans-48\"/>\n       <path d=\"M 10.6875 12.40625 \nL 21 12.40625 \nL 21 0 \nL 10.6875 0 \nz\n\" id=\"DejaVuSans-46\"/>\n      </defs>\n      <g transform=\"translate(33.134427 239.238437)scale(0.1 -0.1)\">\n       <use xlink:href=\"#DejaVuSans-48\"/>\n       <use x=\"63.623047\" xlink:href=\"#DejaVuSans-46\"/>\n       <use x=\"95.410156\" xlink:href=\"#DejaVuSans-48\"/>\n      </g>\n     </g>\n    </g>\n    <g id=\"xtick_2\">\n     <g id=\"line2d_2\">\n      <g>\n       <use style=\"stroke:#000000;stroke-width:0.8;\" x=\"102.573592\" xlink:href=\"#m55aeb4aa20\" y=\"224.64\"/>\n      </g>\n     </g>\n     <g id=\"text_2\">\n      <!-- 0.2 -->\n      <defs>\n       <path d=\"M 19.1875 8.296875 \nL 53.609375 8.296875 \nL 53.609375 0 \nL 7.328125 0 \nL 7.328125 8.296875 \nQ 12.9375 14.109375 22.625 23.890625 \nQ 32.328125 33.6875 34.8125 36.53125 \nQ 39.546875 41.84375 41.421875 45.53125 \nQ 43.3125 49.21875 43.3125 52.78125 \nQ 43.3125 58.59375 39.234375 62.25 \nQ 35.15625 65.921875 28.609375 65.921875 \nQ 23.96875 65.921875 18.8125 64.3125 \nQ 13.671875 62.703125 7.8125 59.421875 \nL 7.8125 69.390625 \nQ 13.765625 71.78125 18.9375 73 \nQ 24.125 74.21875 28.421875 74.21875 \nQ 39.75 74.21875 46.484375 68.546875 \nQ 53.21875 62.890625 53.21875 53.421875 \nQ 53.21875 48.921875 51.53125 44.890625 \nQ 49.859375 40.875 45.40625 35.40625 \nQ 44.1875 33.984375 37.640625 27.21875 \nQ 31.109375 20.453125 19.1875 8.296875 \nz\n\" id=\"DejaVuSans-50\"/>\n      </defs>\n      <g transform=\"translate(94.62203 239.238437)scale(0.1 -0.1)\">\n       <use xlink:href=\"#DejaVuSans-48\"/>\n       <use x=\"63.623047\" xlink:href=\"#DejaVuSans-46\"/>\n       <use x=\"95.410156\" xlink:href=\"#DejaVuSans-50\"/>\n      </g>\n     </g>\n    </g>\n    <g id=\"xtick_3\">\n     <g id=\"line2d_3\">\n      <g>\n       <use style=\"stroke:#000000;stroke-width:0.8;\" x=\"164.061196\" xlink:href=\"#m55aeb4aa20\" y=\"224.64\"/>\n      </g>\n     </g>\n     <g id=\"text_3\">\n      <!-- 0.4 -->\n      <defs>\n       <path d=\"M 37.796875 64.3125 \nL 12.890625 25.390625 \nL 37.796875 25.390625 \nz\nM 35.203125 72.90625 \nL 47.609375 72.90625 \nL 47.609375 25.390625 \nL 58.015625 25.390625 \nL 58.015625 17.1875 \nL 47.609375 17.1875 \nL 47.609375 0 \nL 37.796875 0 \nL 37.796875 17.1875 \nL 4.890625 17.1875 \nL 4.890625 26.703125 \nz\n\" id=\"DejaVuSans-52\"/>\n      </defs>\n      <g transform=\"translate(156.109633 239.238437)scale(0.1 -0.1)\">\n       <use xlink:href=\"#DejaVuSans-48\"/>\n       <use x=\"63.623047\" xlink:href=\"#DejaVuSans-46\"/>\n       <use x=\"95.410156\" xlink:href=\"#DejaVuSans-52\"/>\n      </g>\n     </g>\n    </g>\n    <g id=\"xtick_4\">\n     <g id=\"line2d_4\">\n      <g>\n       <use style=\"stroke:#000000;stroke-width:0.8;\" x=\"225.548799\" xlink:href=\"#m55aeb4aa20\" y=\"224.64\"/>\n      </g>\n     </g>\n     <g id=\"text_4\">\n      <!-- 0.6 -->\n      <defs>\n       <path d=\"M 33.015625 40.375 \nQ 26.375 40.375 22.484375 35.828125 \nQ 18.609375 31.296875 18.609375 23.390625 \nQ 18.609375 15.53125 22.484375 10.953125 \nQ 26.375 6.390625 33.015625 6.390625 \nQ 39.65625 6.390625 43.53125 10.953125 \nQ 47.40625 15.53125 47.40625 23.390625 \nQ 47.40625 31.296875 43.53125 35.828125 \nQ 39.65625 40.375 33.015625 40.375 \nz\nM 52.59375 71.296875 \nL 52.59375 62.3125 \nQ 48.875 64.0625 45.09375 64.984375 \nQ 41.3125 65.921875 37.59375 65.921875 \nQ 27.828125 65.921875 22.671875 59.328125 \nQ 17.53125 52.734375 16.796875 39.40625 \nQ 19.671875 43.65625 24.015625 45.921875 \nQ 28.375 48.1875 33.59375 48.1875 \nQ 44.578125 48.1875 50.953125 41.515625 \nQ 57.328125 34.859375 57.328125 23.390625 \nQ 57.328125 12.15625 50.6875 5.359375 \nQ 44.046875 -1.421875 33.015625 -1.421875 \nQ 20.359375 -1.421875 13.671875 8.265625 \nQ 6.984375 17.96875 6.984375 36.375 \nQ 6.984375 53.65625 15.1875 63.9375 \nQ 23.390625 74.21875 37.203125 74.21875 \nQ 40.921875 74.21875 44.703125 73.484375 \nQ 48.484375 72.75 52.59375 71.296875 \nz\n\" id=\"DejaVuSans-54\"/>\n      </defs>\n      <g transform=\"translate(217.597237 239.238437)scale(0.1 -0.1)\">\n       <use xlink:href=\"#DejaVuSans-48\"/>\n       <use x=\"63.623047\" xlink:href=\"#DejaVuSans-46\"/>\n       <use x=\"95.410156\" xlink:href=\"#DejaVuSans-54\"/>\n      </g>\n     </g>\n    </g>\n    <g id=\"xtick_5\">\n     <g id=\"line2d_5\">\n      <g>\n       <use style=\"stroke:#000000;stroke-width:0.8;\" x=\"287.036402\" xlink:href=\"#m55aeb4aa20\" y=\"224.64\"/>\n      </g>\n     </g>\n     <g id=\"text_5\">\n      <!-- 0.8 -->\n      <defs>\n       <path d=\"M 31.78125 34.625 \nQ 24.75 34.625 20.71875 30.859375 \nQ 16.703125 27.09375 16.703125 20.515625 \nQ 16.703125 13.921875 20.71875 10.15625 \nQ 24.75 6.390625 31.78125 6.390625 \nQ 38.8125 6.390625 42.859375 10.171875 \nQ 46.921875 13.96875 46.921875 20.515625 \nQ 46.921875 27.09375 42.890625 30.859375 \nQ 38.875 34.625 31.78125 34.625 \nz\nM 21.921875 38.8125 \nQ 15.578125 40.375 12.03125 44.71875 \nQ 8.5 49.078125 8.5 55.328125 \nQ 8.5 64.0625 14.71875 69.140625 \nQ 20.953125 74.21875 31.78125 74.21875 \nQ 42.671875 74.21875 48.875 69.140625 \nQ 55.078125 64.0625 55.078125 55.328125 \nQ 55.078125 49.078125 51.53125 44.71875 \nQ 48 40.375 41.703125 38.8125 \nQ 48.828125 37.15625 52.796875 32.3125 \nQ 56.78125 27.484375 56.78125 20.515625 \nQ 56.78125 9.90625 50.3125 4.234375 \nQ 43.84375 -1.421875 31.78125 -1.421875 \nQ 19.734375 -1.421875 13.25 4.234375 \nQ 6.78125 9.90625 6.78125 20.515625 \nQ 6.78125 27.484375 10.78125 32.3125 \nQ 14.796875 37.15625 21.921875 38.8125 \nz\nM 18.3125 54.390625 \nQ 18.3125 48.734375 21.84375 45.5625 \nQ 25.390625 42.390625 31.78125 42.390625 \nQ 38.140625 42.390625 41.71875 45.5625 \nQ 45.3125 48.734375 45.3125 54.390625 \nQ 45.3125 60.0625 41.71875 63.234375 \nQ 38.140625 66.40625 31.78125 66.40625 \nQ 25.390625 66.40625 21.84375 63.234375 \nQ 18.3125 60.0625 18.3125 54.390625 \nz\n\" id=\"DejaVuSans-56\"/>\n      </defs>\n      <g transform=\"translate(279.08484 239.238437)scale(0.1 -0.1)\">\n       <use xlink:href=\"#DejaVuSans-48\"/>\n       <use x=\"63.623047\" xlink:href=\"#DejaVuSans-46\"/>\n       <use x=\"95.410156\" xlink:href=\"#DejaVuSans-56\"/>\n      </g>\n     </g>\n    </g>\n    <g id=\"xtick_6\">\n     <g id=\"line2d_6\">\n      <g>\n       <use style=\"stroke:#000000;stroke-width:0.8;\" x=\"348.524006\" xlink:href=\"#m55aeb4aa20\" y=\"224.64\"/>\n      </g>\n     </g>\n     <g id=\"text_6\">\n      <!-- 1.0 -->\n      <defs>\n       <path d=\"M 12.40625 8.296875 \nL 28.515625 8.296875 \nL 28.515625 63.921875 \nL 10.984375 60.40625 \nL 10.984375 69.390625 \nL 28.421875 72.90625 \nL 38.28125 72.90625 \nL 38.28125 8.296875 \nL 54.390625 8.296875 \nL 54.390625 0 \nL 12.40625 0 \nz\n\" id=\"DejaVuSans-49\"/>\n      </defs>\n      <g transform=\"translate(340.572443 239.238437)scale(0.1 -0.1)\">\n       <use xlink:href=\"#DejaVuSans-49\"/>\n       <use x=\"63.623047\" xlink:href=\"#DejaVuSans-46\"/>\n       <use x=\"95.410156\" xlink:href=\"#DejaVuSans-48\"/>\n      </g>\n     </g>\n    </g>\n   </g>\n   <g id=\"matplotlib.axis_2\">\n    <g id=\"ytick_1\">\n     <g id=\"line2d_7\">\n      <defs>\n       <path d=\"M 0 0 \nL -3.5 0 \n\" id=\"mc4ea41c614\" style=\"stroke:#000000;stroke-width:0.8;\"/>\n      </defs>\n      <g>\n       <use style=\"stroke:#000000;stroke-width:0.8;\" x=\"28.942188\" xlink:href=\"#mc4ea41c614\" y=\"188.779986\"/>\n      </g>\n     </g>\n     <g id=\"text_7\">\n      <!-- −4 -->\n      <defs>\n       <path d=\"M 10.59375 35.5 \nL 73.1875 35.5 \nL 73.1875 27.203125 \nL 10.59375 27.203125 \nz\n\" id=\"DejaVuSans-8722\"/>\n      </defs>\n      <g transform=\"translate(7.2 192.579204)scale(0.1 -0.1)\">\n       <use xlink:href=\"#DejaVuSans-8722\"/>\n       <use x=\"83.789062\" xlink:href=\"#DejaVuSans-52\"/>\n      </g>\n     </g>\n    </g>\n    <g id=\"ytick_2\">\n     <g id=\"line2d_8\">\n      <g>\n       <use style=\"stroke:#000000;stroke-width:0.8;\" x=\"28.942188\" xlink:href=\"#mc4ea41c614\" y=\"145.855898\"/>\n      </g>\n     </g>\n     <g id=\"text_8\">\n      <!-- −3 -->\n      <defs>\n       <path d=\"M 40.578125 39.3125 \nQ 47.65625 37.796875 51.625 33 \nQ 55.609375 28.21875 55.609375 21.1875 \nQ 55.609375 10.40625 48.1875 4.484375 \nQ 40.765625 -1.421875 27.09375 -1.421875 \nQ 22.515625 -1.421875 17.65625 -0.515625 \nQ 12.796875 0.390625 7.625 2.203125 \nL 7.625 11.71875 \nQ 11.71875 9.328125 16.59375 8.109375 \nQ 21.484375 6.890625 26.8125 6.890625 \nQ 36.078125 6.890625 40.9375 10.546875 \nQ 45.796875 14.203125 45.796875 21.1875 \nQ 45.796875 27.640625 41.28125 31.265625 \nQ 36.765625 34.90625 28.71875 34.90625 \nL 20.21875 34.90625 \nL 20.21875 43.015625 \nL 29.109375 43.015625 \nQ 36.375 43.015625 40.234375 45.921875 \nQ 44.09375 48.828125 44.09375 54.296875 \nQ 44.09375 59.90625 40.109375 62.90625 \nQ 36.140625 65.921875 28.71875 65.921875 \nQ 24.65625 65.921875 20.015625 65.03125 \nQ 15.375 64.15625 9.8125 62.3125 \nL 9.8125 71.09375 \nQ 15.4375 72.65625 20.34375 73.4375 \nQ 25.25 74.21875 29.59375 74.21875 \nQ 40.828125 74.21875 47.359375 69.109375 \nQ 53.90625 64.015625 53.90625 55.328125 \nQ 53.90625 49.265625 50.4375 45.09375 \nQ 46.96875 40.921875 40.578125 39.3125 \nz\n\" id=\"DejaVuSans-51\"/>\n      </defs>\n      <g transform=\"translate(7.2 149.655117)scale(0.1 -0.1)\">\n       <use xlink:href=\"#DejaVuSans-8722\"/>\n       <use x=\"83.789062\" xlink:href=\"#DejaVuSans-51\"/>\n      </g>\n     </g>\n    </g>\n    <g id=\"ytick_3\">\n     <g id=\"line2d_9\">\n      <g>\n       <use style=\"stroke:#000000;stroke-width:0.8;\" x=\"28.942188\" xlink:href=\"#mc4ea41c614\" y=\"102.931811\"/>\n      </g>\n     </g>\n     <g id=\"text_9\">\n      <!-- −2 -->\n      <g transform=\"translate(7.2 106.73103)scale(0.1 -0.1)\">\n       <use xlink:href=\"#DejaVuSans-8722\"/>\n       <use x=\"83.789062\" xlink:href=\"#DejaVuSans-50\"/>\n      </g>\n     </g>\n    </g>\n    <g id=\"ytick_4\">\n     <g id=\"line2d_10\">\n      <g>\n       <use style=\"stroke:#000000;stroke-width:0.8;\" x=\"28.942188\" xlink:href=\"#mc4ea41c614\" y=\"60.007724\"/>\n      </g>\n     </g>\n     <g id=\"text_10\">\n      <!-- −1 -->\n      <g transform=\"translate(7.2 63.806942)scale(0.1 -0.1)\">\n       <use xlink:href=\"#DejaVuSans-8722\"/>\n       <use x=\"83.789062\" xlink:href=\"#DejaVuSans-49\"/>\n      </g>\n     </g>\n    </g>\n    <g id=\"ytick_5\">\n     <g id=\"line2d_11\">\n      <g>\n       <use style=\"stroke:#000000;stroke-width:0.8;\" x=\"28.942188\" xlink:href=\"#mc4ea41c614\" y=\"17.083636\"/>\n      </g>\n     </g>\n     <g id=\"text_11\">\n      <!-- 0 -->\n      <g transform=\"translate(15.579688 20.882855)scale(0.1 -0.1)\">\n       <use xlink:href=\"#DejaVuSans-48\"/>\n      </g>\n     </g>\n    </g>\n   </g>\n   <g id=\"line2d_12\">\n    <path clip-path=\"url(#pa5efb1ef53)\" d=\"M 44.160369 214.756364 \nL 47.234749 185.003654 \nL 50.30913 167.599434 \nL 53.38351 155.250943 \nL 56.45789 145.67271 \nL 59.53227 137.846724 \nL 62.60665 131.229946 \nL 65.68103 125.498233 \nL 68.755411 120.442504 \nL 71.829791 115.92 \nL 74.904171 111.828898 \nL 77.978551 108.094014 \nL 81.052931 104.658253 \nL 84.127311 101.477236 \nL 87.201692 98.51578 \nL 90.276072 95.745523 \nL 93.350452 93.143267 \nL 96.424832 90.689794 \nL 99.499212 88.369008 \nL 102.573592 86.16729 \nL 105.647973 84.073017 \nL 108.722353 82.076187 \nL 111.796733 80.168136 \nL 114.871113 78.341303 \nL 117.945493 76.589057 \nL 121.019873 74.905543 \nL 124.094254 73.285574 \nL 127.168634 71.724526 \nL 130.243014 70.218263 \nL 133.317394 68.76307 \nL 136.391774 67.355597 \nL 139.466154 65.992813 \nL 142.540535 64.671968 \nL 145.614915 63.390556 \nL 148.689295 62.146293 \nL 151.763675 60.937084 \nL 154.838055 59.761008 \nL 157.912435 58.616298 \nL 160.986816 57.501324 \nL 164.061196 56.41458 \nL 167.135576 55.354672 \nL 170.209956 54.320306 \nL 173.284336 53.310281 \nL 176.358716 52.323477 \nL 179.433097 51.35885 \nL 182.507477 50.415426 \nL 185.581857 49.492292 \nL 188.656237 48.588593 \nL 191.730617 47.703529 \nL 194.804997 46.836346 \nL 197.879378 45.986337 \nL 200.953758 45.152833 \nL 204.028138 44.335207 \nL 207.102518 43.532864 \nL 210.176898 42.745244 \nL 213.251278 41.971816 \nL 216.325659 41.212078 \nL 219.400039 40.465553 \nL 222.474419 39.73179 \nL 225.548799 39.01036 \nL 228.623179 38.300855 \nL 231.697559 37.602887 \nL 234.77194 36.916087 \nL 237.84632 36.240103 \nL 240.9207 35.5746 \nL 243.99508 34.919258 \nL 247.06946 34.27377 \nL 250.14384 33.637846 \nL 253.218221 33.011206 \nL 256.292601 32.393583 \nL 259.366981 31.78472 \nL 262.441361 31.184374 \nL 265.515741 30.592308 \nL 268.590121 30.008298 \nL 271.664502 29.432127 \nL 274.738882 28.863587 \nL 277.813262 28.30248 \nL 280.887642 27.748613 \nL 283.962022 27.201802 \nL 287.036402 26.66187 \nL 290.110783 26.128644 \nL 293.185163 25.601962 \nL 296.259543 25.081663 \nL 299.333923 24.567596 \nL 302.408303 24.059613 \nL 305.482683 23.557571 \nL 308.557064 23.061334 \nL 311.631444 22.570767 \nL 314.705824 22.085744 \nL 317.780204 21.60614 \nL 320.854584 21.131836 \nL 323.928964 20.662716 \nL 327.003345 20.198667 \nL 330.077725 19.739582 \nL 333.152105 19.285354 \nL 336.226485 18.835883 \nL 339.300865 18.39107 \nL 342.375245 17.950819 \nL 345.449626 17.515038 \nL 348.524006 17.083636 \n\" style=\"fill:none;stroke:#1f77b4;stroke-linecap:square;stroke-width:1.5;\"/>\n   </g>\n   <g id=\"patch_3\">\n    <path d=\"M 28.942188 224.64 \nL 28.942188 7.2 \n\" style=\"fill:none;stroke:#000000;stroke-linecap:square;stroke-linejoin:miter;stroke-width:0.8;\"/>\n   </g>\n   <g id=\"patch_4\">\n    <path d=\"M 363.742188 224.64 \nL 363.742188 7.2 \n\" style=\"fill:none;stroke:#000000;stroke-linecap:square;stroke-linejoin:miter;stroke-width:0.8;\"/>\n   </g>\n   <g id=\"patch_5\">\n    <path d=\"M 28.942188 224.64 \nL 363.742188 224.64 \n\" style=\"fill:none;stroke:#000000;stroke-linecap:square;stroke-linejoin:miter;stroke-width:0.8;\"/>\n   </g>\n   <g id=\"patch_6\">\n    <path d=\"M 28.942188 7.2 \nL 363.742188 7.2 \n\" style=\"fill:none;stroke:#000000;stroke-linecap:square;stroke-linejoin:miter;stroke-width:0.8;\"/>\n   </g>\n  </g>\n </g>\n <defs>\n  <clipPath id=\"pa5efb1ef53\">\n   <rect height=\"217.44\" width=\"334.8\" x=\"28.942188\" y=\"7.2\"/>\n  </clipPath>\n </defs>\n</svg>\n"
          },
          "metadata": {
            "tags": [],
            "needs_background": "light"
          }
        }
      ]
    },
    {
      "cell_type": "code",
      "metadata": {
        "id": "SuQnM-SJVVrz",
        "colab_type": "code",
        "colab": {
          "base_uri": "https://localhost:8080/",
          "height": 54
        },
        "outputId": "f4dc8303-42df-4928-fb5e-1fd3f985be07"
      },
      "source": [
        "# Pred\n",
        "a = np.log([[0.04,0.13,0.96,0.12],\n",
        "            [0.01,0.93,0.06,0.07]])\n",
        "\n",
        "# actual label (one hot)\n",
        "b = np.array([[0,0,1,0],\n",
        "              [1,0,0,0]])\n",
        "\n",
        "'''\n",
        "Here we can see \"pred\" makes first output is right , but in second output we can see\n",
        "true label is \"0\"  but it makes probabiltity of \"1\" as high\n",
        "'''\n",
        "print(a*b)"
      ],
      "execution_count": 52,
      "outputs": [
        {
          "output_type": "stream",
          "text": [
            "[[-0.         -0.         -0.04082199 -0.        ]\n",
            " [-4.60517019 -0.         -0.         -0.        ]]\n"
          ],
          "name": "stdout"
        }
      ]
    },
    {
      "cell_type": "code",
      "metadata": {
        "id": "ZVmCbNxcWX0A",
        "colab_type": "code",
        "colab": {
          "base_uri": "https://localhost:8080/",
          "height": 54
        },
        "outputId": "411cdde8-0262-44af-8907-c54f2363d0dc"
      },
      "source": [
        "print(-(a*b))"
      ],
      "execution_count": 53,
      "outputs": [
        {
          "output_type": "stream",
          "text": [
            "[[0.         0.         0.04082199 0.        ]\n",
            " [4.60517019 0.         0.         0.        ]]\n"
          ],
          "name": "stdout"
        }
      ]
    },
    {
      "cell_type": "code",
      "metadata": {
        "id": "MCCYK9sPWa7L",
        "colab_type": "code",
        "colab": {
          "base_uri": "https://localhost:8080/",
          "height": 36
        },
        "outputId": "50bf49f3-5ac1-4c7b-e3a1-21f30d85b130"
      },
      "source": [
        "# axis=1 corresponds to row\n",
        "r_sum = np.sum(-(a*b),axis=1) \n",
        "print(r_sum)"
      ],
      "execution_count": 55,
      "outputs": [
        {
          "output_type": "stream",
          "text": [
            "[0.04082199 4.60517019]\n"
          ],
          "name": "stdout"
        }
      ]
    },
    {
      "cell_type": "code",
      "metadata": {
        "id": "MFwW90HaWwmb",
        "colab_type": "code",
        "colab": {
          "base_uri": "https://localhost:8080/",
          "height": 36
        },
        "outputId": "63b544fa-7409-40d5-e8dc-e21790f9d937"
      },
      "source": [
        "# Cost function will give output in the form of single scalar \n",
        "# that's reason we are using \"mean\"\n",
        "print(np.mean(r_sum))"
      ],
      "execution_count": 56,
      "outputs": [
        {
          "output_type": "stream",
          "text": [
            "2.322996090254173\n"
          ],
          "name": "stdout"
        }
      ]
    },
    {
      "cell_type": "markdown",
      "metadata": {
        "id": "gfCkDSQ7hHUm",
        "colab_type": "text"
      },
      "source": [
        "#### **Tensorflow Session**"
      ]
    },
    {
      "cell_type": "code",
      "metadata": {
        "id": "duv1A-Dpptes",
        "colab_type": "code",
        "colab": {}
      },
      "source": [
        "init = tf.global_variables_initializer()"
      ],
      "execution_count": 104,
      "outputs": []
    },
    {
      "cell_type": "code",
      "metadata": {
        "id": "bC6bAlOhbBUb",
        "colab_type": "code",
        "colab": {
          "base_uri": "https://localhost:8080/",
          "height": 317
        },
        "outputId": "267ff6fd-9fb2-4f16-b229-11b93becc9c3"
      },
      "source": [
        "\n",
        "\n",
        "with tf.Session() as sesh:\n",
        "    sesh.run(init)\n",
        "    \n",
        "    for epoch in range(epochs):\n",
        "        for i in range(batches):\n",
        "            offset = i * epoch\n",
        "            x = x_train[offset: offset + batch_size]\n",
        "            y = y_train[offset: offset + batch_size]\n",
        "            sesh.run(optimizer, feed_dict={X: x, Y:y})\n",
        "            c = sesh.run(cost, feed_dict={X:x, Y:y})\n",
        "        \n",
        "        if not epoch % 2:\n",
        "            print(f'epoch:{epoch:2d} cost={c:.4f}')\n",
        "            \n",
        "    correct_pred = tf.equal(tf.argmax(pred, 1), tf.argmax(Y, 1))\n",
        "    accuracy = tf.reduce_mean(tf.cast(correct_pred, tf.float32))\n",
        "    acc = accuracy.eval({X: x_test, Y: y_test})\n",
        "    print(f'Accuracy: {acc * 100:.2f}%')\n",
        "    \n",
        "    fig, axes = plt.subplots(1, 10, figsize=(8, 4))\n",
        "    for img, ax in zip(x_train[:10], axes):\n",
        "        guess = np.argmax(sesh.run(pred, feed_dict={X: [img]}))\n",
        "        ax.set_title(guess)\n",
        "        ax.imshow(img.reshape((28, 28)))\n",
        "        ax.axis('off')\n",
        "\n"
      ],
      "execution_count": 105,
      "outputs": [
        {
          "output_type": "stream",
          "text": [
            "epoch: 0 cost=0.3041\n",
            "epoch: 2 cost=0.5128\n",
            "epoch: 4 cost=0.4544\n",
            "epoch: 6 cost=0.4257\n",
            "epoch: 8 cost=0.4656\n",
            "epoch:10 cost=0.2093\n",
            "epoch:12 cost=0.5782\n",
            "epoch:14 cost=0.4302\n",
            "epoch:16 cost=0.3655\n",
            "epoch:18 cost=0.2473\n",
            "Accuracy: 89.93%\n"
          ],
          "name": "stdout"
        },
        {
          "output_type": "display_data",
          "data": {
            "text/plain": [
              "<Figure size 576x288 with 10 Axes>"
            ],
            "image/svg+xml": "<?xml version=\"1.0\" encoding=\"utf-8\" standalone=\"no\"?>\n<!DOCTYPE svg PUBLIC \"-//W3C//DTD SVG 1.1//EN\"\n  \"http://www.w3.org/Graphics/SVG/1.1/DTD/svg11.dtd\">\n<!-- Created with matplotlib (https://matplotlib.org/) -->\n<svg height=\"67.348633pt\" version=\"1.1\" viewBox=\"0 0 460.8 67.348633\" width=\"460.8pt\" xmlns=\"http://www.w3.org/2000/svg\" xmlns:xlink=\"http://www.w3.org/1999/xlink\">\n <defs>\n  <style type=\"text/css\">\n*{stroke-linecap:butt;stroke-linejoin:round;}\n  </style>\n </defs>\n <g id=\"figure_1\">\n  <g id=\"patch_1\">\n   <path d=\"M 0 67.348633 \nL 460.8 67.348633 \nL 460.8 0 \nL 0 0 \nz\n\" style=\"fill:none;\"/>\n  </g>\n  <g id=\"axes_1\">\n   <g clip-path=\"url(#pf3de47a62a)\">\n    <image height=\"38\" id=\"image47455a98f6\" transform=\"scale(1 -1)translate(0 -38)\" width=\"38\" x=\"7.2\" xlink:href=\"data:image/png;base64,\niVBORw0KGgoAAAANSUhEUgAAACYAAAAmCAYAAACoPemuAAAABHNCSVQICAgIfAhkiAAABcFJREFUWIXt2FtsFNcZwPH/OTOzO7NX73rXl2XtrINNDBRIQxwCoU2bNBGNaJpUVauoF4QUpD4kalWpN1WqIrUPaR9S0avUSkmkplFVFYmkaqAiRJArDyjQoEDcGuPFGN+YvbBrey8zc/oACXGzKWtstzzke5nV0dlvfzNzdL7vrPiM+KLiOgz5/wZ8WFy3ML3hqBAgJEKKecPKU+9+uHxdvlXQEHbxoU1M3lvnD5/8/XtjJc9ij30rLx5bi17U0OcEPb8dwrNzKMdZcph2o1jz2AcG29qZbfETWVlmlX+ClUaVPsNhpXWGWMcsmZ5J0r1TvPHxXmrpGzBDbejj+SUFNoQZmonhWRyyunlbS1HVoVWfolP3uDOQ4+7gBNvCo3w18zoHEl1kfXGipSh6TSFcF+W6i4aJq20XWjLJ2Ff6SGw/x47069wXzBKV5rw5x2oevxi/h1NPr6b9tRzqdBavUlleGFJDi0Uh3kIt3UKh14+9pcZP7/gLDwZzANSVS9GrMViP8OTUVl55p4/UCzqRv53Am529JljDVzkvlELNzaHyBYz8LEEbfKUwz5fXcdhKEjSniGpF2jWLbt2jxzpNIjnDm12t5NI96MkUpgyipu0lhr3fWKmi7BzmSJ7EPwVZujkaa0eaLkl9nIBQdOqSzVaOXakTuKtsDoQyeDJMxJao8gx4XlO/dfVXeZXQburF3pTE3jbH7tv+xIDfJva+NVhXLkOOx/fPfAGxU8cZOdtU3sYb7ALCGxmlNVek9WiMxzbtxL5Z0dKTZ2tqmB93vExA+GiRNda1nOeEcWPTeRddklS1ijs9jXvqX7QdHqfrgIf8a5wXnxvgwuVtIywkm0NDVG6IobXGm8q76Cd2Rahwhkcwh0cwpUZbJMTYzhBpvU5AGtzqn+Bixoc5Ggc79z+EXQ4tEkH1rGDsUzE6tBeQmJx15vjhuftpf2kcZ3ikqTxLBxMCbXUf2c8nUBsv8nD/flKaxhO5fp46dTvxPUGi0283nW5JYDIcRqQ7yD6QoO3TYzzc/SpfCk3x60I/v/vHViJHLGIvD+PMNL/ZLh4mBKKrk7F7Ejy1azcZvYZfSC64Lr/at430YY/QmyM44xMLSrtomJ7pJvu5BE9+YzfTbpjHRz/BW6Np9CGLVb8cxCsUca6h61gUTAYCZL+8gsRd50lpVR7a+yiJY4LMaBUjX8ArFK+5FbpmmNB13A19aLfn+VrXEQbrUdIHPUJHszgTkzRXeJYBJkNBBnf4+fnaPcS1Mo9n7yNw+BROqbRI0uX8C/2CFokgAwHQNLRwHVPUeS5/C2N7M6hKdUlQsIAnJk0Td2M/kx+zkHXQqopd6w+yxmdjh7LsHdiADAVxiy7SZyBTHUze1UnyaBHv+MllggmBbIly9s4AcqCA42hUSn6+FT+JxGLAPMvO9W/w0sY78OUrOJZBvt+ivr1AsRQlfHzBruZgMhSivrKT7339z//RWl9aCT26ybfjb1H8mcXoXIwVZoEftL1CyVPc/9p3CS/c1SQs3kIxbbLeP4YptIZzDKHxneSr1JTCJwRRaWKKOrMb5sjv2IxeudT2+couRrGOXqjA0MiHng2agqmLZSKnyzy471EwPcxwlVSsyObEGaL6LGvMMe61ZuY1iAB+YfDZm06yX65GTZhYmRKOI6mW/fjOx+j+u4VvaLxhVWgK5ubziOMlVj/RBYZONRWh0LuCZ9d1ooIOXakclZ6D780PyiopvYiGYnvsOMm1JZ7hNn5z8x/J6GVmPMnT+S3st7fQUU1CA9iiW2ukhrRMZOTKSqr1dnLmAT9uwMNKzlIp++n/SY53fhTjkVsO8c3YEHlvjk2HHqFtn5/Is0eWAQaXCrl2Ze0Jy0Im4ihNgs8Ax8XLnkNmunCjFm7QQHgKY6IEdh73wgdPUEvTjyk1ryaqUgmvQQVwB4cAePcW/tt5/br9G+oj2ELjI9hC49/rIiVkhNaBcgAAAABJRU5ErkJggg==\" y=\"-22.148633\"/>\n   </g>\n   <g id=\"text_1\">\n    <!-- 5 -->\n    <defs>\n     <path d=\"M 10.796875 72.90625 \nL 49.515625 72.90625 \nL 49.515625 64.59375 \nL 19.828125 64.59375 \nL 19.828125 46.734375 \nQ 21.96875 47.46875 24.109375 47.828125 \nQ 26.265625 48.1875 28.421875 48.1875 \nQ 40.625 48.1875 47.75 41.5 \nQ 54.890625 34.8125 54.890625 23.390625 \nQ 54.890625 11.625 47.5625 5.09375 \nQ 40.234375 -1.421875 26.90625 -1.421875 \nQ 22.3125 -1.421875 17.546875 -0.640625 \nQ 12.796875 0.140625 7.71875 1.703125 \nL 7.71875 11.625 \nQ 12.109375 9.234375 16.796875 8.0625 \nQ 21.484375 6.890625 26.703125 6.890625 \nQ 35.15625 6.890625 40.078125 11.328125 \nQ 45.015625 15.765625 45.015625 23.390625 \nQ 45.015625 31 40.078125 35.4375 \nQ 35.15625 39.890625 26.703125 39.890625 \nQ 22.75 39.890625 18.8125 39.015625 \nQ 14.890625 38.140625 10.796875 36.28125 \nz\n\" id=\"DejaVuSans-53\"/>\n    </defs>\n    <g transform=\"translate(22.297754 16.318125)scale(0.12 -0.12)\">\n     <use xlink:href=\"#DejaVuSans-53\"/>\n    </g>\n   </g>\n  </g>\n  <g id=\"axes_2\">\n   <g clip-path=\"url(#pcf5a5d8d1a)\">\n    <image height=\"38\" id=\"image1c35a40d0e\" transform=\"scale(1 -1)translate(0 -38)\" width=\"38\" x=\"52.59661\" xlink:href=\"data:image/png;base64,\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\" y=\"-22.148633\"/>\n   </g>\n   <g id=\"text_2\">\n    <!-- 0 -->\n    <defs>\n     <path d=\"M 31.78125 66.40625 \nQ 24.171875 66.40625 20.328125 58.90625 \nQ 16.5 51.421875 16.5 36.375 \nQ 16.5 21.390625 20.328125 13.890625 \nQ 24.171875 6.390625 31.78125 6.390625 \nQ 39.453125 6.390625 43.28125 13.890625 \nQ 47.125 21.390625 47.125 36.375 \nQ 47.125 51.421875 43.28125 58.90625 \nQ 39.453125 66.40625 31.78125 66.40625 \nz\nM 31.78125 74.21875 \nQ 44.046875 74.21875 50.515625 64.515625 \nQ 56.984375 54.828125 56.984375 36.375 \nQ 56.984375 17.96875 50.515625 8.265625 \nQ 44.046875 -1.421875 31.78125 -1.421875 \nQ 19.53125 -1.421875 13.0625 8.265625 \nQ 6.59375 17.96875 6.59375 36.375 \nQ 6.59375 54.828125 13.0625 64.515625 \nQ 19.53125 74.21875 31.78125 74.21875 \nz\n\" id=\"DejaVuSans-48\"/>\n    </defs>\n    <g transform=\"translate(67.694364 16.318125)scale(0.12 -0.12)\">\n     <use xlink:href=\"#DejaVuSans-48\"/>\n    </g>\n   </g>\n  </g>\n  <g id=\"axes_3\">\n   <g clip-path=\"url(#pb2f1de0944)\">\n    <image height=\"38\" id=\"image9b635a5e9c\" transform=\"scale(1 -1)translate(0 -38)\" width=\"38\" x=\"97.99322\" xlink:href=\"data:image/png;base64,\niVBORw0KGgoAAAANSUhEUgAAACYAAAAmCAYAAACoPemuAAAABHNCSVQICAgIfAhkiAAABElJREFUWIXtmM1vFGUcxz/PzOzOzHa7u+2WUrrbFlvBgiZiE9FCiEY84KUY49WD8ezRgwfBP8GDB67GcBATD5qgJl7UGhMbJVBoQ7EFWugu0Jd9677My/N4qPLWhZ0FtvbA9zjz+z7zmfn9nt88zyPeFO8qtqC0/xvgQdqyYEZLRxcChIbQBEoqkH5ga+u+mBCsvP8qa6cHePtchpkTIxg7erYCmMbKC4ojvVO8bF/GiLqgBX9cS2vMSJV5xrz1SN6WF7+vBD6iad+mzMqsFyc8GUFVq4E9mwLmKgOjAsjgvbzlYLpYh9EcQMnAvtb2MdZrbFlGiV92UY4b2LcpqZRqixZ/p1EiPxhChEOBPXVTKUwTzTQh9IBM+z7KcVGuh/JcUPWL2vd0XGWw27hBbsSh9xsbcvlHByuO7SN7QJDae6OuaWG+i/hkiI6LDvafl/GXljcGKUnbhM340C6OpmY5fvBbTrUfgkwgrvvAhGDxo1Hib2T5ZOc4lnA5Ux6gJu+EHYlPUh0MMTfazZVqkr+L27hZGCa3FCUyG6ZtURFddLGnMqR+vMX4/iFWdsBr9hynjNeDUW0E0yjtcvmg7y8O2XN8vHCUiUs7oabfDjk7lKLDLBPWffZEs/QkCyzH2rgY385af5hrtzpYvmkRfX6A2FWfSKSArwRpI4SXsNEtCxmg0W5IpQj7WMJlotrH3Be72fPVBfxC4fZ9bd9eitEOpKlz9uAwtS4fZUmE5XPiwJfEhtYfWpAWn18/zHvd52jXJLoQrKVtEvNJ5LXrzYP9p6oKYa1KlH/vGkqenUYTGhowMG4gxL+tQNP4zBhFxNrx0kmyr0SJvpXFEg7tmo6BzsqwRttCF+JxwBJ6mfygTswyYW3tzg2lQK3DqprP/fNRlMvopRKpfDflS0mOj73D7OhvHOua5LnDs1xdGaLnfDuyWHwo2IY+pioGZWmS0MqspX1EKHjvAVCeh5/L409fwjw9wfZfNU6e309BVvkw/ROltEJE7Ibj3AumJNaiwZVqkoRWIdpfgCbB7lfnDzP0fh1i0o0walbwOj1EW6RZMEX65wrji4PkZOO3CiJ/ZRV7scJ3uZeoKQ8j6uL0JpoEA8IzGVaX2pl3O58IGEohXEmmGsdFsSOZZ3W42VQCXiaLKBrc8OJPBgzQqg5/XB2gKBVD8SVK/QE89S4KBVI9uf+7nJvn2WNFLjjd7IrcpNbjNfTog2Lvpxuu9vbxi9GHabvEv3eQdzXYRyOTUCpz8sXDEFEkOsqIMylEvoTy6kPW7WPR6y7V6TCVrhCquvR4UABKoRwHIxNmrjNJzKphhQ3EQ7ZzdcHshQJJLY4T05vaQDSCs5YE+UIEIRRWg/C6YP7UDOYUmEDwVXpjdU67lEdgrP88vzPy0FixmcdQeiIO27chYzbiwiyyUnngIrPlm5G75efyt1ewjb7Glj2GegrWrJ6CNat/AOlqowIyUPRtAAAAAElFTkSuQmCC\" y=\"-22.148633\"/>\n   </g>\n   <g id=\"text_3\">\n    <!-- 4 -->\n    <defs>\n     <path d=\"M 37.796875 64.3125 \nL 12.890625 25.390625 \nL 37.796875 25.390625 \nz\nM 35.203125 72.90625 \nL 47.609375 72.90625 \nL 47.609375 25.390625 \nL 58.015625 25.390625 \nL 58.015625 17.1875 \nL 47.609375 17.1875 \nL 47.609375 0 \nL 37.796875 0 \nL 37.796875 17.1875 \nL 4.890625 17.1875 \nL 4.890625 26.703125 \nz\n\" id=\"DejaVuSans-52\"/>\n    </defs>\n    <g transform=\"translate(113.090975 16.318125)scale(0.12 -0.12)\">\n     <use xlink:href=\"#DejaVuSans-52\"/>\n    </g>\n   </g>\n  </g>\n  <g id=\"axes_4\">\n   <g clip-path=\"url(#p284596bd2a)\">\n    <image height=\"38\" id=\"image6244a4f12b\" transform=\"scale(1 -1)translate(0 -38)\" width=\"38\" x=\"143.389831\" xlink:href=\"data:image/png;base64,\niVBORw0KGgoAAAANSUhEUgAAACYAAAAmCAYAAACoPemuAAAABHNCSVQICAgIfAhkiAAAA55JREFUWIXtmM1vVFUYxn/nnrkz06FMZzqjrS3TDvQLqqGSgpVgq5VGGxesSDQKLtAYl25MXPIPqDsTMTFqJBpj2JgYFyaYiKUEaQBra2s/7QczzEydKZ1xOveee1wUWJgIHdrpNMZndxfve36L55z3fa7oE8c121BGuQH+TdsWzFV0hSEBEIZAOxoctdlMa8cUA+RqjPD7Jx08dlnzztgQj19R2Ec7ywtmuE0KDWF6W8c5FfqJJzx5DvhmUe7SuGH9XaUkH3bTVTVFs1m8A4rVtjX/+sGUwpO2GM7WM2+vYgrJUxVzLJy0WDp1GMPrLQ+Ytm08MynOz7UwmG/EQBAwXLyx/0eSBxVGMFA+MHt6FvtagG+SHUhh4BEmbwXHaW1bRNWGQIitB7ujhtMDXP92L5ZWODhYWtHkT5I45EdIWT4wAFmACWsVpdfGbH/gOsaxFEaoGuHanBv7QGBVU4qXrr7GtK1Y1TZ73Qle3X2Jm8eaMKKRMoINzBI8U8kPuVbSjsMuaXLCP8rDL8+S3ffQ3bG15WD2jRi+S5O8N9THiBUGwCNcfNVyjkSHC9kcLQ8YgLOSpf5rk4srLZhCYgqJR5hUHk6w2F9TPjBdKLDzyiJf/nqQM5koOV0A4MmaGW5FHQyfrzxgaI09N8+uz128+/0LTFsGlla0+WKI2jwiUrchr8k9ov30A1cDrqk44USAjwo9nOi4QJc3w6FHfuG7rja8gwHI5kAVv7NtGAytcQkXptiJ6E4TMePUSYuof4FzK91U3fKhY4mi227KduGkM1SOLvH+1aMM5uupMrw87U3DkTR/PupHhqrLBJbNosYmaHv7Jh/M9OLgYGBw9sDHxLsd8p17ygN2R/biDeIX6jg53Y8pJG2m5M0j55l+sfhem7soak1oRHF5uOnuLH2+cpju9nGsvs6inpBN32D9o2mC1yQfpnrIOAWaTc3x8M8sPOPGqA6uDfl1rEcbv5X/kE6kqFqwmZxvJ9IzQ43MUOvKUrF7hZGh/bhzDtgKbVlbCwbg5P7CN7/MFw29qBrFszvi7PPEaOyf4NNIN4FkEPFH7J49ShNGHIXKLONbkEzmwig0lcLkuYos7mAe5bn/sSVNSTsWNb8t1TBacCNv+0oIDcb9PVY6MK0JfHYReTbEKwOvY2BgCrnuWCBK/RtKhkMQClKo8wPgjq/AfAy1vHzPupJHapVMQTKFHLv9vc66/0AS32L9D1asti3Y39yySSXAMaIcAAAAAElFTkSuQmCC\" y=\"-22.148633\"/>\n   </g>\n   <g id=\"text_4\">\n    <!-- 1 -->\n    <defs>\n     <path d=\"M 12.40625 8.296875 \nL 28.515625 8.296875 \nL 28.515625 63.921875 \nL 10.984375 60.40625 \nL 10.984375 69.390625 \nL 28.421875 72.90625 \nL 38.28125 72.90625 \nL 38.28125 8.296875 \nL 54.390625 8.296875 \nL 54.390625 0 \nL 12.40625 0 \nz\n\" id=\"DejaVuSans-49\"/>\n    </defs>\n    <g transform=\"translate(158.487585 16.318125)scale(0.12 -0.12)\">\n     <use xlink:href=\"#DejaVuSans-49\"/>\n    </g>\n   </g>\n  </g>\n  <g id=\"axes_5\">\n   <g clip-path=\"url(#p75d606d297)\">\n    <image height=\"38\" id=\"imageea227d58c8\" transform=\"scale(1 -1)translate(0 -38)\" width=\"38\" x=\"188.786441\" xlink:href=\"data:image/png;base64,\niVBORw0KGgoAAAANSUhEUgAAACYAAAAmCAYAAACoPemuAAAABHNCSVQICAgIfAhkiAAABORJREFUWIXtmEtsVFUYx3/nvubRzqOdTqcz01JKaaFgJchLmmADoogaHoYokYUL6sZgQtSNbnRlTBRdEMOKhRgTE40LQyIoBh8ItcirQEuhBOi0ZaZPSmfuPO+9Lgq6s516G1jwW3/nf3459+b7To7YKHZYPIQodgdKTieivpb+5wIYLRM4j3qpOtpP4VasuBw7pYSiYDU3cLs1QPmmQfYt+5ZkDViaWnSWrScm+X307CrhldYTvBfs4MWunfivgjWYeHBiQlFIvNTIhrWdbPGd483+ZzAOhKg4208hlSo6z7ZPKTSN9LOTvFB+gc5sDe0/NOO9kMAcHp1Vnj1ikozk9fD20mOsdMTp0iNU/5LG6OvH1PUHJyYHykk/XsPW0uuEZTcTeRfa9SEsw5h1pi1iVihAYoUGgImFYYn/nWmLmDAMlIwdSf9ij1gyTcmgiWlH2D1sESvE+vEf7SZj2TfdbBFTohEmNyzGKf7/v3Ufe9qFqpB3i3/CQo5J9MciCKX4UXSfmXV+SUbSVKQyP0gSmCaWaUI6g5nNgmWhZCx0y8KDSYMrweHVKvN/V7HyubkTk+trGWkJ8cn7B1isprhZ0PhxspmDJ58i+pPA03sXb9c4b93axjvRowTkJJnqPEKd/cSbdqXs9RLbWsXKHRdpVnXcksYitUDA9xeNG25zZk0dN1IB4ikv2yq6CMppgnKaXavbOesIz50YDgd6tcm74SO4JY03YuvpS5UhYdEavMZ6TzfbfToGghKRxycJVCGx3XeG03VtyOkMxt279osJTcV0mtQqU5390ufNBDqGATj06tN8v2qIjZEetvjO0qgKZDFVt1AtEF9TSiQZgUtzIGZls8gpie6cSZMmEX29l97KBsKfnmL+hzGEonCuvJZTjatp+ugSbRW/0aRJqMiUbo4zPlJJ2Y0SzCKvPvICseSD/6zIGxg1EY5X1fJa5RVC7j7OB0MMRJfi7xjCTKex9AzqRJYb8SUcGlrLl+ZCdladYYFvgG+UpahyGMelfpvFTAOnO8htuZyqpl6WO4ZZ6LnN9Uo/ue5aFD2PqaexUkmc14YpG/cwppbx/BPtrHQUiJWonJHChDrBTOoww+kwvRgg+uIEenJ8XbWOloWXaXXprPdd5LOKNXgH/aijSaxsFgwDBodwllbh3jDOEscwmz2DBKtjHI+3UNp7Z6rOLjEAM6VTeWqS7/TNfOGpZ0+km5fnneTEyhBdkSYC51NYmakrhiacHCusYOuKE3glhYgyirpigit/Lke+o2Plpm+6MxYDsDJZPNlSUpPl7DOX0Ta/g3nuOH0BL1crF+NP+ZFzBmSyuHOl3FznolrrI6xIRNQEBwfW47nrhPiwvWIA1vA43iET54if/LoUq1wxlpfeQq+ROJ+tQ1N9SC43piaTbinQ7IlRr4JPUtk3sRx3woHaMzDtPsXPDNOgEOvHPTrGV/s30bM7xN7Kn/k4fBJpTzv7xxvo0UMscifY7b+MUyiYgIREY12c0WANrhlsI2b9RCAEss9LsnURI80KjlVjtDX8wZOu60TkHLIQrDmyF3VEAQGORRM4DvsInh7H7Lwyh2L3UKqj5OdVMFHvJlktyPksTIcFFkR/NdEmCiAgGdUo67yDGBjCGB2be7G5wta3Czt5JFYsj8SK5ZFYsTy0Yn8DXEfLY//lThAAAAAASUVORK5CYII=\" y=\"-22.148633\"/>\n   </g>\n   <g id=\"text_5\">\n    <!-- 9 -->\n    <defs>\n     <path d=\"M 10.984375 1.515625 \nL 10.984375 10.5 \nQ 14.703125 8.734375 18.5 7.8125 \nQ 22.3125 6.890625 25.984375 6.890625 \nQ 35.75 6.890625 40.890625 13.453125 \nQ 46.046875 20.015625 46.78125 33.40625 \nQ 43.953125 29.203125 39.59375 26.953125 \nQ 35.25 24.703125 29.984375 24.703125 \nQ 19.046875 24.703125 12.671875 31.3125 \nQ 6.296875 37.9375 6.296875 49.421875 \nQ 6.296875 60.640625 12.9375 67.421875 \nQ 19.578125 74.21875 30.609375 74.21875 \nQ 43.265625 74.21875 49.921875 64.515625 \nQ 56.59375 54.828125 56.59375 36.375 \nQ 56.59375 19.140625 48.40625 8.859375 \nQ 40.234375 -1.421875 26.421875 -1.421875 \nQ 22.703125 -1.421875 18.890625 -0.6875 \nQ 15.09375 0.046875 10.984375 1.515625 \nz\nM 30.609375 32.421875 \nQ 37.25 32.421875 41.125 36.953125 \nQ 45.015625 41.5 45.015625 49.421875 \nQ 45.015625 57.28125 41.125 61.84375 \nQ 37.25 66.40625 30.609375 66.40625 \nQ 23.96875 66.40625 20.09375 61.84375 \nQ 16.21875 57.28125 16.21875 49.421875 \nQ 16.21875 41.5 20.09375 36.953125 \nQ 23.96875 32.421875 30.609375 32.421875 \nz\n\" id=\"DejaVuSans-57\"/>\n    </defs>\n    <g transform=\"translate(203.884195 16.318125)scale(0.12 -0.12)\">\n     <use xlink:href=\"#DejaVuSans-57\"/>\n    </g>\n   </g>\n  </g>\n  <g id=\"axes_6\">\n   <g clip-path=\"url(#p32c808f499)\">\n    <image height=\"38\" id=\"image4e4d917209\" transform=\"scale(1 -1)translate(0 -38)\" width=\"38\" x=\"234.183051\" xlink:href=\"data:image/png;base64,\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\" y=\"-22.148633\"/>\n   </g>\n   <g id=\"text_6\">\n    <!-- 2 -->\n    <defs>\n     <path d=\"M 19.1875 8.296875 \nL 53.609375 8.296875 \nL 53.609375 0 \nL 7.328125 0 \nL 7.328125 8.296875 \nQ 12.9375 14.109375 22.625 23.890625 \nQ 32.328125 33.6875 34.8125 36.53125 \nQ 39.546875 41.84375 41.421875 45.53125 \nQ 43.3125 49.21875 43.3125 52.78125 \nQ 43.3125 58.59375 39.234375 62.25 \nQ 35.15625 65.921875 28.609375 65.921875 \nQ 23.96875 65.921875 18.8125 64.3125 \nQ 13.671875 62.703125 7.8125 59.421875 \nL 7.8125 69.390625 \nQ 13.765625 71.78125 18.9375 73 \nQ 24.125 74.21875 28.421875 74.21875 \nQ 39.75 74.21875 46.484375 68.546875 \nQ 53.21875 62.890625 53.21875 53.421875 \nQ 53.21875 48.921875 51.53125 44.890625 \nQ 49.859375 40.875 45.40625 35.40625 \nQ 44.1875 33.984375 37.640625 27.21875 \nQ 31.109375 20.453125 19.1875 8.296875 \nz\n\" id=\"DejaVuSans-50\"/>\n    </defs>\n    <g transform=\"translate(249.280805 16.318125)scale(0.12 -0.12)\">\n     <use xlink:href=\"#DejaVuSans-50\"/>\n    </g>\n   </g>\n  </g>\n  <g id=\"axes_7\">\n   <g clip-path=\"url(#p0283a6400b)\">\n    <image height=\"38\" id=\"image3fe2d684b6\" transform=\"scale(1 -1)translate(0 -38)\" width=\"38\" x=\"279.579661\" xlink:href=\"data:image/png;base64,\niVBORw0KGgoAAAANSUhEUgAAACYAAAAmCAYAAACoPemuAAAABHNCSVQICAgIfAhkiAAAAmtJREFUWIXtmF9LFFEYh58zs7Pb6m6165puaoShZRT986IIikDttkDoTojoqr5EF32F+gp10UW3XQQRCoJRIoqQqa1Eau7qZu2/mTmni9ENBIWdOTAiPpcvzI+HOe9552XEgBhW7EOMsAV241CsUfatWERrWHsbP+91U+xVyJQNQPs7i9T7edyV1ZDEhMDNZqgMbPLy8mvuxCsA9OWfkPqUhAbFtB2lME1+9ya50bnI7XgpcJ4+sUiEtfsl7qantOTpa37TpL9ridPWGsZWrIEAEaKYsKIYrS3cTM3Rblbr9ZxTwqgKhO2EI8aFHuYedfAgOUubGUMisZXL0OhTsmMuzsL3cMTco1HsrhrmjnNTgFD+PsVaxMqZKIPnZ7DE/ziJJPK1iVi+useTu6NljpVaDV50jCKxALCVS0E6ZMdqmAvLuD4ytd1KUxjeLQQ+1yIMTz0kPtH4xNcu5iqJxOunb7UTrE9nUDXbd542sW0piWRTxoluCJAyfDHdHHwxS5hbgQYm/o9wmwP8xoT3obaVN60kEldDbOCEtcfXsYeKgUV24n/yC4HZkqZw1WWke7JefrZ6jVdT/XTOOCHNMWEgEs2kTha5lZitl9/OX+TY+BGSkysoJwwxJVF/y2wUEsxUOuvl8o8E6dmqt+r43CwCiincfIHYYowPhR7fMbsRqPmFFcGNKZKWv9VmLwL0mMBINGOnHc40/dKo5BGo+WnLcOlcjpHjExqVPPyLSRc1n2N6vJvny4MYCN78ydCcM4ktbQQWC7TBykqF7JjLx+IVes72YaxGOfWlCvn1wGLi8MddgxyKNcq+FfsH+VLKzENQZI8AAAAASUVORK5CYII=\" y=\"-22.148633\"/>\n   </g>\n   <g id=\"text_7\">\n    <!-- 1 -->\n    <g transform=\"translate(294.677415 16.318125)scale(0.12 -0.12)\">\n     <use xlink:href=\"#DejaVuSans-49\"/>\n    </g>\n   </g>\n  </g>\n  <g id=\"axes_8\">\n   <g clip-path=\"url(#p45504f9621)\">\n    <image height=\"38\" id=\"image5c0d9a59fe\" transform=\"scale(1 -1)translate(0 -38)\" width=\"38\" x=\"324.976271\" xlink:href=\"data:image/png;base64,\niVBORw0KGgoAAAANSUhEUgAAACYAAAAmCAYAAACoPemuAAAABHNCSVQICAgIfAhkiAAABbBJREFUWIXtmF1sm1cdxn/n/XIcv07iOHa+3KSpmpiWNG2VrQOVdQIK7EuAtEmdhDRpo4C4QkLADTdclgtA3CCBiphQQeMGMQkNlY+sozHNWhqpS1u32ZaPZXZsx06c1I4/3/dw4a5u1jixs270Yo90JFvv/xz/dN5znucvi+PiWckDKOX/DVBLDyyYVnelEAhVBUDat9++tEF+NCdhWzDhcFA6Okz0cw6+99wr7DESnF09wCs3R3BdbKY7dAtlNoqVTH08YMLhQOkPkHjMT+pImScOTfI18yatikGvFiJ4OMa5/iBvjO6G1CBadghzHrzXcuhzCcqR6IcCE7VuperzkXxqL/mvp/nO0DgnW2c2XeCNgk605CFlmbw081myEx20hy1appLYM/PIcvn+gnHkAI+dvsi3PZO4FaOuxRQUpktFXs0M8+srxwj+KI4VT+wIru7DP18u8szkt8jlDKQtNjzze9c40XeZ77a9xYCm8kLrmzx59Cov/OZ5MhNH8P+3hONvlxoCU/eI/T/Z9IHTxdnAfvAV8WgxUraTv595lNYrKu6winmzOoozJv+JDvInbQCvO85ePUOnpuN1L5LoaiLsacc/Z0L6FtjWhwNTyjbuNQ9jvj6WXS4WSh2sn9JwXJjGmHoX43rkznBdW8J7LU92PcDkLh/B1jl61RL7jBxPtIYR/hxTV/fhmE0hS6W6wGq+SmttDf2flxl63WDucJDsrmbc8evI8r0Ly0KB8mKMtt/HyGYf4eTxb/L6Uz+nU3XQrOh0aLcoNwlQ6vfzbStlqYhybYaWc29hZzLbGmrL2DSDZ4oc/8MPiZYLdYM0DAZgZ7NYqeW6XN5aWUGbjtAdsrgl6w+WD6rxmUIgDANhGMh8oRJLH5DM53FNpyjJnUdxw2Da7j7SD3WRHFEInCui5i2wN+5kdpeT6FfKdKpFwPHRggndQBka4PoPTB79VJgX26aZejJA2Vbv1CjCxpYKbfo6D7lmaVcMFBRUce+u3j8wVaHc5uRo8B2+3/UPPm1o0BLZUKMLFUva2Ly/gypvlwqcTw9hRopQp1U0BCalBFuSLjpJWCb99iq62PwM2VR36K+ZA4yFgwRDU9ibWE0t1c7KzaSoKPsHSY16WPqMxZdHp1BFZbomLE51hdCFugEsbhU4kx7l5Ze+SO9YGrEQq9zwbVTT+TeVlIhsDjNp0TZrEL3SS3y8i/h4F9ELPfyUUSKmQqseo10toQkFhxB06TEyg4LQUAAhO3FOL4G1dTQ1BgbIUgk7vYpYiGGEI3eNRZxKgEsywDgDpHUVU0vgUsr0aDpfMCP0dCxwNjqCZ2Jp22hqGKw2sUS/EaH97HuYIZNL6REu9nQTMGPs0YsA7DOy/HL+YXzjq8hc7mMCu0v26hru68sktCFu9nl43DNFk6jYylXT5E3/ftpee2/LNRq3ZiFQXC7UTn9ldHhR3O6NNVJiZ7P4JjNMx3zErKrX7XamKPrLCH3r5rNx5+/pptTnI9PvBEAtShzLJRzzKRCimqdCUNJVwN4QTQOOBC2dGVSvByuZqtndNgy2+NV+tKeTnD90GoBw0eZ08hivThyC9xtbCQg4NDLDL3rOM2xUO94T7kX8w3/m1OjzNIfyWOnV+wO2ctDiG7037nzfq0t+3PkvTj79bxQhsWUVol0t0aqoO/mZxme0TWn80fkwuWGdF70hFCRuhUpE3VbVYO8N8PF8E7+KfJ6m6HqlO7lfYN1jSzQte/nL8hGsYwoOpUzAWOGR5rc5bFTOklLjTsWtHL+Lf4nwhQEG525gFWt7WWORdPdETYODQaSust7tJHlQZeLkzzCF464Q36gT7zzO7MuDdP72MrKwdXe7YzAApbm52ji2mBQGfNULsIn0lTxKLEU5nti2G9557wvY6+uVD9ksrKygzi9sXX971KMH9m+oT8Aa1Sdgjep/Q4I+FR5EerYAAAAASUVORK5CYII=\" y=\"-22.148633\"/>\n   </g>\n   <g id=\"text_8\">\n    <!-- 3 -->\n    <defs>\n     <path d=\"M 40.578125 39.3125 \nQ 47.65625 37.796875 51.625 33 \nQ 55.609375 28.21875 55.609375 21.1875 \nQ 55.609375 10.40625 48.1875 4.484375 \nQ 40.765625 -1.421875 27.09375 -1.421875 \nQ 22.515625 -1.421875 17.65625 -0.515625 \nQ 12.796875 0.390625 7.625 2.203125 \nL 7.625 11.71875 \nQ 11.71875 9.328125 16.59375 8.109375 \nQ 21.484375 6.890625 26.8125 6.890625 \nQ 36.078125 6.890625 40.9375 10.546875 \nQ 45.796875 14.203125 45.796875 21.1875 \nQ 45.796875 27.640625 41.28125 31.265625 \nQ 36.765625 34.90625 28.71875 34.90625 \nL 20.21875 34.90625 \nL 20.21875 43.015625 \nL 29.109375 43.015625 \nQ 36.375 43.015625 40.234375 45.921875 \nQ 44.09375 48.828125 44.09375 54.296875 \nQ 44.09375 59.90625 40.109375 62.90625 \nQ 36.140625 65.921875 28.71875 65.921875 \nQ 24.65625 65.921875 20.015625 65.03125 \nQ 15.375 64.15625 9.8125 62.3125 \nL 9.8125 71.09375 \nQ 15.4375 72.65625 20.34375 73.4375 \nQ 25.25 74.21875 29.59375 74.21875 \nQ 40.828125 74.21875 47.359375 69.109375 \nQ 53.90625 64.015625 53.90625 55.328125 \nQ 53.90625 49.265625 50.4375 45.09375 \nQ 46.96875 40.921875 40.578125 39.3125 \nz\n\" id=\"DejaVuSans-51\"/>\n    </defs>\n    <g transform=\"translate(340.074025 16.318125)scale(0.12 -0.12)\">\n     <use xlink:href=\"#DejaVuSans-51\"/>\n    </g>\n   </g>\n  </g>\n  <g id=\"axes_9\">\n   <g clip-path=\"url(#p2756a06edf)\">\n    <image height=\"38\" id=\"image625c6f88ad\" transform=\"scale(1 -1)translate(0 -38)\" width=\"38\" x=\"370.372881\" xlink:href=\"data:image/png;base64,\niVBORw0KGgoAAAANSUhEUgAAACYAAAAmCAYAAACoPemuAAAABHNCSVQICAgIfAhkiAAAAkRJREFUWIXtmL9rFEEUxz8zO7fu5fZyXEgMF5MLxnD4A4ylhaWFaGthY6VYWtiK/0s6wcpKC8HmChHBRiIhUVCCMce5Se6Sy+3d7exYhBAULLIzclfkW2315TPvzXtv34ib4q5hBCWHDfAvjSyYcuomvePvVNtZWaIcGwUB68tL8KbC+vISXu3Cn6DDAsPzuHXpMw/m6tRmG5i8b2XnDkxKpv02F/0GC8WIZDxASDECYIMBy+9u8DGuMh9E7C4GCJX9CjuvymZSpB4tMvVylbTXy+zjHCw1kp5WpPsdMNl7t1MwkU8Yk31Kfhc5f25EqjKX4/6199wOV3hYqbP6rIw3Hg4XTM3N0rpzhXulD0xIyavdq1RfeKSd7nDBTOATlwVTnkEKwXa/QH5jD6Ozd383qZSSVAk8BKkxJEYi4oGdpQuuNDzDwcxhtGKT0uyG6LWvVvPSCVhvMk/h8g45slfh33ITMV9SGW8D8KlfZnOnZO3pvME+/3Ud/SV7mziSc7BGt0huL/vwPtJ/GEkCHGwR1mBCKZK8ZCGM8IR9pI5kDSbDAp1pyeOzb1EjVZVKoQM4rwIAvkcTjDXsc+nun5/DNMZRnsJWYu3nbEvyxOEZ1a5H0Ny3vv/Oq1JqEH37iLlfeB09ODhLpTYpP/QBqiMQndjazx7MGNQB1GNFx0zit4DW/vDB0labmdebPG0+ovZkhXBLo5vN4YOZJEFvbFJqtfm5XqX4bQ27VwtHYABm0EdH2xBtO4GCEX6GOgU7qU7BTqrf/0e1TbofMS8AAAAASUVORK5CYII=\" y=\"-22.148633\"/>\n   </g>\n   <g id=\"text_9\">\n    <!-- 1 -->\n    <g transform=\"translate(385.470636 16.318125)scale(0.12 -0.12)\">\n     <use xlink:href=\"#DejaVuSans-49\"/>\n    </g>\n   </g>\n  </g>\n  <g id=\"axes_10\">\n   <g clip-path=\"url(#p0bf1c5ba66)\">\n    <image height=\"38\" id=\"image5dfa4ef1bb\" transform=\"scale(1 -1)translate(0 -38)\" width=\"38\" x=\"415.769492\" xlink:href=\"data:image/png;base64,\niVBORw0KGgoAAAANSUhEUgAAACYAAAAmCAYAAACoPemuAAAABHNCSVQICAgIfAhkiAAABS1JREFUWIXtmFlsVFUYx3/n3ul0tk5npjMttLadltJKkcKIhSLIErZiokBiTIwJD/JqBGOixMQEEg0YE32CNxITSOQJJVHE1BoQhLJaaEsXyjLQUjqdmXbWznbv9aFKXApdkT7wf73fufd3z/c/53zfEevEGxozUNLTBniUnoFNVDMWTDeZQXJVBYElLnxr0sxq0GG/GkS53jWtYJOasXiFHf/GBG0bDvBglUq00jatUDBJsFBZFp/VfocsBAvneQnMm9TEP1ZyuajePdFBuT7Bqe5lOFfcZLOjmYGSbFpdS8ht6gdVmRawSc2Y+sCH7coAX3RvIKbp2eq4gm3lA+QCFyJL/xTBEgm0Ph+RM/k0RuZTqAvxccVxoouKkPPs0wI2qVQCaOk09o4EZ3I9tNgK+KigFf3qHk57l5Pd2jNlsDFdO7RtGSZfBlPrfTI9vX8j01ACQWadz3DVWcp9d5J6s5c9tZAdrsXojQAgDUVQQ2HUSGR6wQI1GgEhY3yhlKJTDkTbTdR4fOShqmDoH8bQb+VKspBNJj+1S7u44HQjgiNbiPmuA3tXBsP3F6YXTO+OsmXONSxykkOmtbhTpch3H6BGY6CpIARSCi7H3Gw0+TjkbgA3qKgA7PEt5ptzdVQelye0Ysf0mGaYg7fMwH53A295TlP9ZheHa1eQNVyM5HRy612Jd9adZJfzGrKQEIiRcYxUU7P1Pdw25ZG6WALB8LjhxgSzBDQiiUK+kjy8X9ZMnpSkxtXNcJ3C7cVGPqhuoN7SgVnIHIq4GVJTKMSwyzLd6Qybf9iJfn8uctsdtERiXFAwjlRmenpxnTeDyOOTeXXscP3KGmOCVcbznLM1Y5KSdKSdHB4q5+um5cg5aSpmDbCv7ChZAkRaoIunJ2z+cW0Xmj+IpSfBtcxC7IsGqNL7MYgsinUKRyMVHLi1msuN85n7aQfOX5KE/KUMvKijPucOPqeec7YSnD8PTK/HHsLF4+T83k/b5To+z6zEPaeTiqxhdt1YT7ShgOIvL6PGYqjRKCbMNOVUsKX6HK9b7zK7uJefstZj64iOO50T22BVBV00iTVk4VjgJVZ7zlJkGaRRlOG4ZYe+AQCkZBpbwMyxmkoKLX0syO7jyqwC1B9NqEOhJwAGaIkEcjCGNWhgsF7HBks7IaOJlnA5ua1DaOk0WjIJvT76Sqq5k29lkdXLqtwuvu1eiyWmGxfcpI4kLZVCjic5WbqYyrJeXrO2oD6f5v4JNyKeQEunAXBcDeHNraK9II/38jvp86RoUhZgveQD5fF+m3RprYTDVO2+zt6WTXSkCthmO8+Qx4mU5/hHzHMngniPltOvJNnpuIj08iDhrZ4x3z+lml8Jh9E0MEgpTGL0GHGvH9utDM3JfLKFDr1OQRvHV6fcjCQHDVyKlePNGNFHFPgzjQ/hBwcx9sQ44ltKUE1hMw4z7JSQzGYQj/gbplD2/CX7UD5NkblcchRiPBhHGfD/xz86JG5nKsnz9LPR0UZkriDQUoXsDz/0478lpnpFIBkMCIsZkWNBudeLlsmMEiQj51qJHrGxo6yRuXof21u34fqQR3ZXU06lmkig+ANkbntHhwJQFZTBQe715NGZmI1LyrC9/DeCHge6stInAzYRmW/oafRVcV/R86qlk0CNIF7pevpgRfvOEj9YyNsXt2MSAmeNj1B51qix098QjiF7ww1M/W72znmFIkuIdnvBqHH/O5jiD5B9DY4fqwMBzvbRT4Apr8onpRl72/MMbKKasWB/AMtLGM6hjgr6AAAAAElFTkSuQmCC\" y=\"-22.148633\"/>\n   </g>\n   <g id=\"text_10\">\n    <!-- 4 -->\n    <g transform=\"translate(430.867246 16.318125)scale(0.12 -0.12)\">\n     <use xlink:href=\"#DejaVuSans-52\"/>\n    </g>\n   </g>\n  </g>\n </g>\n <defs>\n  <clipPath id=\"pf3de47a62a\">\n   <rect height=\"37.830508\" width=\"37.830508\" x=\"7.2\" y=\"22.318125\"/>\n  </clipPath>\n  <clipPath id=\"pcf5a5d8d1a\">\n   <rect height=\"37.830508\" width=\"37.830508\" x=\"52.59661\" y=\"22.318125\"/>\n  </clipPath>\n  <clipPath id=\"pb2f1de0944\">\n   <rect height=\"37.830508\" width=\"37.830508\" x=\"97.99322\" y=\"22.318125\"/>\n  </clipPath>\n  <clipPath id=\"p284596bd2a\">\n   <rect height=\"37.830508\" width=\"37.830508\" x=\"143.389831\" y=\"22.318125\"/>\n  </clipPath>\n  <clipPath id=\"p75d606d297\">\n   <rect height=\"37.830508\" width=\"37.830508\" x=\"188.786441\" y=\"22.318125\"/>\n  </clipPath>\n  <clipPath id=\"p32c808f499\">\n   <rect height=\"37.830508\" width=\"37.830508\" x=\"234.183051\" y=\"22.318125\"/>\n  </clipPath>\n  <clipPath id=\"p0283a6400b\">\n   <rect height=\"37.830508\" width=\"37.830508\" x=\"279.579661\" y=\"22.318125\"/>\n  </clipPath>\n  <clipPath id=\"p45504f9621\">\n   <rect height=\"37.830508\" width=\"37.830508\" x=\"324.976271\" y=\"22.318125\"/>\n  </clipPath>\n  <clipPath id=\"p2756a06edf\">\n   <rect height=\"37.830508\" width=\"37.830508\" x=\"370.372881\" y=\"22.318125\"/>\n  </clipPath>\n  <clipPath id=\"p0bf1c5ba66\">\n   <rect height=\"37.830508\" width=\"37.830508\" x=\"415.769492\" y=\"22.318125\"/>\n  </clipPath>\n </defs>\n</svg>\n"
          },
          "metadata": {
            "tags": [],
            "needs_background": "light"
          }
        }
      ]
    },
    {
      "cell_type": "markdown",
      "metadata": {
        "id": "nR2KIUtXyJde",
        "colab_type": "text"
      },
      "source": [
        "**Reference**:\n",
        "\n",
        "* [Logistic Regression with MNIST](https://www.youtube.com/watch?v=0OVldHsRxTs)\n"
      ]
    },
    {
      "cell_type": "code",
      "metadata": {
        "id": "Gk1JSUEGKkCY",
        "colab_type": "code",
        "colab": {}
      },
      "source": [
        ""
      ],
      "execution_count": null,
      "outputs": []
    }
  ]
}