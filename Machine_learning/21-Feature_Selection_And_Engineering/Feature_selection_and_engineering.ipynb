{
  "nbformat": 4,
  "nbformat_minor": 0,
  "metadata": {
    "colab": {
      "name": "Assignment_ML_L6.ipynb",
      "provenance": [],
      "collapsed_sections": []
    },
    "kernelspec": {
      "name": "python3",
      "display_name": "Python 3"
    }
  },
  "cells": [
    {
      "cell_type": "markdown",
      "metadata": {
        "id": "blXAIWH0h5QX",
        "colab_type": "text"
      },
      "source": [
        "# Assignment on Feature Engineering (L6)\n",
        "\n",
        "This assignment has been adapted from the course **Feature Engineering for Machine Learning in Python** On DataCamp. \n",
        "\n",
        "We will explore what feature engineering is and how to get started with applying it to real-world data. We will be working with a modified subset of the [Stackoverflow survey response data](https://insights.stackoverflow.com/survey/2018/#overview). This data set records the details, and preferences of thousands of users of the StackOverflow website. "
      ]
    },
    {
      "cell_type": "markdown",
      "metadata": {
        "id": "V8OJHHSFhkVo",
        "colab_type": "text"
      },
      "source": [
        "## Creating Features \n",
        "---"
      ]
    },
    {
      "cell_type": "code",
      "metadata": {
        "id": "xxrLsTxvi4Ef",
        "colab_type": "code",
        "outputId": "06b6952a-2606-4610-f16b-29443e7f3d95",
        "colab": {
          "base_uri": "https://localhost:8080/",
          "height": 71
        }
      },
      "source": [
        "import pandas as pd \n",
        "import numpy as np \n",
        "import matplotlib.pyplot as plt\n",
        "import seaborn as sns "
      ],
      "execution_count": 0,
      "outputs": [
        {
          "output_type": "stream",
          "text": [
            "/usr/local/lib/python3.6/dist-packages/statsmodels/tools/_testing.py:19: FutureWarning: pandas.util.testing is deprecated. Use the functions in the public API at pandas.testing instead.\n",
            "  import pandas.util.testing as tm\n"
          ],
          "name": "stderr"
        }
      ]
    },
    {
      "cell_type": "markdown",
      "metadata": {
        "id": "lw55w5YsB6jE",
        "colab_type": "text"
      },
      "source": [
        "---\n",
        "### Inspect your data\n",
        "---\n"
      ]
    },
    {
      "cell_type": "code",
      "metadata": {
        "id": "fCpuZS41h35f",
        "colab_type": "code",
        "colab": {}
      },
      "source": [
        "# Load the data which has been stored as a CSV on the URL given below:\n",
        "so_survey_csv = 'https://assets.datacamp.com/production/repositories/3752/datasets/19699a2441073ad6459bf5e3e17690e2cae86cf1/Combined_DS_v10.csv'\n",
        "\n",
        "# Import so_survey_csv into so_survey_df\n",
        "so_survey_df = pd.read_csv(so_survey_csv)"
      ],
      "execution_count": 0,
      "outputs": []
    },
    {
      "cell_type": "markdown",
      "metadata": {
        "id": "yO7TR7EGBgDP",
        "colab_type": "text"
      },
      "source": [
        "Instructions: For the `so_survey_df` DataFrame, \n",
        "* Print its shape and its first five rows. \n",
        "* Print the data type of each column.  "
      ]
    },
    {
      "cell_type": "code",
      "metadata": {
        "id": "1MdvPlW0ESJf",
        "colab_type": "code",
        "outputId": "086f4232-71ef-4a9e-eb96-6df6538315a2",
        "colab": {
          "base_uri": "https://localhost:8080/",
          "height": 306
        }
      },
      "source": [
        "# Print its shape and its first five rows\n",
        "so_survey_df.head(5)"
      ],
      "execution_count": 0,
      "outputs": [
        {
          "output_type": "execute_result",
          "data": {
            "text/html": [
              "<div>\n",
              "<style scoped>\n",
              "    .dataframe tbody tr th:only-of-type {\n",
              "        vertical-align: middle;\n",
              "    }\n",
              "\n",
              "    .dataframe tbody tr th {\n",
              "        vertical-align: top;\n",
              "    }\n",
              "\n",
              "    .dataframe thead th {\n",
              "        text-align: right;\n",
              "    }\n",
              "</style>\n",
              "<table border=\"1\" class=\"dataframe\">\n",
              "  <thead>\n",
              "    <tr style=\"text-align: right;\">\n",
              "      <th></th>\n",
              "      <th>SurveyDate</th>\n",
              "      <th>FormalEducation</th>\n",
              "      <th>ConvertedSalary</th>\n",
              "      <th>Hobby</th>\n",
              "      <th>Country</th>\n",
              "      <th>StackOverflowJobsRecommend</th>\n",
              "      <th>VersionControl</th>\n",
              "      <th>Age</th>\n",
              "      <th>Years Experience</th>\n",
              "      <th>Gender</th>\n",
              "      <th>RawSalary</th>\n",
              "    </tr>\n",
              "  </thead>\n",
              "  <tbody>\n",
              "    <tr>\n",
              "      <th>0</th>\n",
              "      <td>2/28/18 20:20</td>\n",
              "      <td>Bachelor's degree (BA. BS. B.Eng.. etc.)</td>\n",
              "      <td>NaN</td>\n",
              "      <td>Yes</td>\n",
              "      <td>South Africa</td>\n",
              "      <td>NaN</td>\n",
              "      <td>Git</td>\n",
              "      <td>21</td>\n",
              "      <td>13</td>\n",
              "      <td>Male</td>\n",
              "      <td>NaN</td>\n",
              "    </tr>\n",
              "    <tr>\n",
              "      <th>1</th>\n",
              "      <td>6/28/18 13:26</td>\n",
              "      <td>Bachelor's degree (BA. BS. B.Eng.. etc.)</td>\n",
              "      <td>70841.0</td>\n",
              "      <td>Yes</td>\n",
              "      <td>Sweeden</td>\n",
              "      <td>7.0</td>\n",
              "      <td>Git;Subversion</td>\n",
              "      <td>38</td>\n",
              "      <td>9</td>\n",
              "      <td>Male</td>\n",
              "      <td>70,841.00</td>\n",
              "    </tr>\n",
              "    <tr>\n",
              "      <th>2</th>\n",
              "      <td>6/6/18 3:37</td>\n",
              "      <td>Bachelor's degree (BA. BS. B.Eng.. etc.)</td>\n",
              "      <td>NaN</td>\n",
              "      <td>No</td>\n",
              "      <td>Sweeden</td>\n",
              "      <td>8.0</td>\n",
              "      <td>Git</td>\n",
              "      <td>45</td>\n",
              "      <td>11</td>\n",
              "      <td>NaN</td>\n",
              "      <td>NaN</td>\n",
              "    </tr>\n",
              "    <tr>\n",
              "      <th>3</th>\n",
              "      <td>5/9/18 1:06</td>\n",
              "      <td>Some college/university study without earning ...</td>\n",
              "      <td>21426.0</td>\n",
              "      <td>Yes</td>\n",
              "      <td>Sweeden</td>\n",
              "      <td>NaN</td>\n",
              "      <td>Zip file back-ups</td>\n",
              "      <td>46</td>\n",
              "      <td>12</td>\n",
              "      <td>Male</td>\n",
              "      <td>21,426.00</td>\n",
              "    </tr>\n",
              "    <tr>\n",
              "      <th>4</th>\n",
              "      <td>4/12/18 22:41</td>\n",
              "      <td>Bachelor's degree (BA. BS. B.Eng.. etc.)</td>\n",
              "      <td>41671.0</td>\n",
              "      <td>Yes</td>\n",
              "      <td>UK</td>\n",
              "      <td>8.0</td>\n",
              "      <td>Git</td>\n",
              "      <td>39</td>\n",
              "      <td>7</td>\n",
              "      <td>Male</td>\n",
              "      <td>£41,671.00</td>\n",
              "    </tr>\n",
              "  </tbody>\n",
              "</table>\n",
              "</div>"
            ],
            "text/plain": [
              "      SurveyDate  ...   RawSalary\n",
              "0  2/28/18 20:20  ...         NaN\n",
              "1  6/28/18 13:26  ...   70,841.00\n",
              "2    6/6/18 3:37  ...         NaN\n",
              "3    5/9/18 1:06  ...   21,426.00\n",
              "4  4/12/18 22:41  ...  £41,671.00\n",
              "\n",
              "[5 rows x 11 columns]"
            ]
          },
          "metadata": {
            "tags": []
          },
          "execution_count": 4
        }
      ]
    },
    {
      "cell_type": "code",
      "metadata": {
        "id": "7KHTQSSHEf_2",
        "colab_type": "code",
        "outputId": "3041d810-d830-4be1-b42e-38c955e25076",
        "colab": {
          "base_uri": "https://localhost:8080/",
          "height": 323
        }
      },
      "source": [
        "#Print the data type of each column.\n",
        "so_survey_df.info()"
      ],
      "execution_count": 0,
      "outputs": [
        {
          "output_type": "stream",
          "text": [
            "<class 'pandas.core.frame.DataFrame'>\n",
            "RangeIndex: 999 entries, 0 to 998\n",
            "Data columns (total 11 columns):\n",
            " #   Column                      Non-Null Count  Dtype  \n",
            "---  ------                      --------------  -----  \n",
            " 0   SurveyDate                  999 non-null    object \n",
            " 1   FormalEducation             999 non-null    object \n",
            " 2   ConvertedSalary             665 non-null    float64\n",
            " 3   Hobby                       999 non-null    object \n",
            " 4   Country                     999 non-null    object \n",
            " 5   StackOverflowJobsRecommend  487 non-null    float64\n",
            " 6   VersionControl              999 non-null    object \n",
            " 7   Age                         999 non-null    int64  \n",
            " 8   Years Experience            999 non-null    int64  \n",
            " 9   Gender                      693 non-null    object \n",
            " 10  RawSalary                   665 non-null    object \n",
            "dtypes: float64(2), int64(2), object(7)\n",
            "memory usage: 86.0+ KB\n"
          ],
          "name": "stdout"
        }
      ]
    },
    {
      "cell_type": "markdown",
      "metadata": {
        "id": "1MzXp3T8Cl8W",
        "colab_type": "text"
      },
      "source": [
        "---\n",
        "### Selecting specific data types\n",
        "---\n",
        "Often a data set will contain columns with several different data types (like the one we are working with). The majority of machine learning models require us to have a consistent data type across features. Similarly, most feature engineering techniques are applicable to only one type of data at a time. "
      ]
    },
    {
      "cell_type": "markdown",
      "metadata": {
        "id": "glnEQlrVCobL",
        "colab_type": "text"
      },
      "source": [
        "Instructions:\n",
        "\n",
        "* Create a subset of `so_survey_df` consisting of only the numeric (int and float) columns and save it as `so_numeric_df`. \n",
        "* Print the column names contained in `so_numeric_df`. "
      ]
    },
    {
      "cell_type": "code",
      "metadata": {
        "id": "7blOqce3Eqck",
        "colab_type": "code",
        "outputId": "56810b8c-60b5-4983-9c10-bcf2159f3ed2",
        "colab": {
          "base_uri": "https://localhost:8080/",
          "height": 419
        }
      },
      "source": [
        "so_numeric_df = so_survey_df.select_dtypes(exclude=['object'])\n",
        "so_numeric_df"
      ],
      "execution_count": 0,
      "outputs": [
        {
          "output_type": "execute_result",
          "data": {
            "text/html": [
              "<div>\n",
              "<style scoped>\n",
              "    .dataframe tbody tr th:only-of-type {\n",
              "        vertical-align: middle;\n",
              "    }\n",
              "\n",
              "    .dataframe tbody tr th {\n",
              "        vertical-align: top;\n",
              "    }\n",
              "\n",
              "    .dataframe thead th {\n",
              "        text-align: right;\n",
              "    }\n",
              "</style>\n",
              "<table border=\"1\" class=\"dataframe\">\n",
              "  <thead>\n",
              "    <tr style=\"text-align: right;\">\n",
              "      <th></th>\n",
              "      <th>ConvertedSalary</th>\n",
              "      <th>StackOverflowJobsRecommend</th>\n",
              "      <th>Age</th>\n",
              "      <th>Years Experience</th>\n",
              "    </tr>\n",
              "  </thead>\n",
              "  <tbody>\n",
              "    <tr>\n",
              "      <th>0</th>\n",
              "      <td>NaN</td>\n",
              "      <td>NaN</td>\n",
              "      <td>21</td>\n",
              "      <td>13</td>\n",
              "    </tr>\n",
              "    <tr>\n",
              "      <th>1</th>\n",
              "      <td>70841.0</td>\n",
              "      <td>7.0</td>\n",
              "      <td>38</td>\n",
              "      <td>9</td>\n",
              "    </tr>\n",
              "    <tr>\n",
              "      <th>2</th>\n",
              "      <td>NaN</td>\n",
              "      <td>8.0</td>\n",
              "      <td>45</td>\n",
              "      <td>11</td>\n",
              "    </tr>\n",
              "    <tr>\n",
              "      <th>3</th>\n",
              "      <td>21426.0</td>\n",
              "      <td>NaN</td>\n",
              "      <td>46</td>\n",
              "      <td>12</td>\n",
              "    </tr>\n",
              "    <tr>\n",
              "      <th>4</th>\n",
              "      <td>41671.0</td>\n",
              "      <td>8.0</td>\n",
              "      <td>39</td>\n",
              "      <td>7</td>\n",
              "    </tr>\n",
              "    <tr>\n",
              "      <th>...</th>\n",
              "      <td>...</td>\n",
              "      <td>...</td>\n",
              "      <td>...</td>\n",
              "      <td>...</td>\n",
              "    </tr>\n",
              "    <tr>\n",
              "      <th>994</th>\n",
              "      <td>NaN</td>\n",
              "      <td>NaN</td>\n",
              "      <td>45</td>\n",
              "      <td>10</td>\n",
              "    </tr>\n",
              "    <tr>\n",
              "      <th>995</th>\n",
              "      <td>58746.0</td>\n",
              "      <td>8.0</td>\n",
              "      <td>27</td>\n",
              "      <td>16</td>\n",
              "    </tr>\n",
              "    <tr>\n",
              "      <th>996</th>\n",
              "      <td>55000.0</td>\n",
              "      <td>NaN</td>\n",
              "      <td>54</td>\n",
              "      <td>16</td>\n",
              "    </tr>\n",
              "    <tr>\n",
              "      <th>997</th>\n",
              "      <td>NaN</td>\n",
              "      <td>NaN</td>\n",
              "      <td>23</td>\n",
              "      <td>9</td>\n",
              "    </tr>\n",
              "    <tr>\n",
              "      <th>998</th>\n",
              "      <td>1000000.0</td>\n",
              "      <td>NaN</td>\n",
              "      <td>18</td>\n",
              "      <td>7</td>\n",
              "    </tr>\n",
              "  </tbody>\n",
              "</table>\n",
              "<p>999 rows × 4 columns</p>\n",
              "</div>"
            ],
            "text/plain": [
              "     ConvertedSalary  StackOverflowJobsRecommend  Age  Years Experience\n",
              "0                NaN                         NaN   21                13\n",
              "1            70841.0                         7.0   38                 9\n",
              "2                NaN                         8.0   45                11\n",
              "3            21426.0                         NaN   46                12\n",
              "4            41671.0                         8.0   39                 7\n",
              "..               ...                         ...  ...               ...\n",
              "994              NaN                         NaN   45                10\n",
              "995          58746.0                         8.0   27                16\n",
              "996          55000.0                         NaN   54                16\n",
              "997              NaN                         NaN   23                 9\n",
              "998        1000000.0                         NaN   18                 7\n",
              "\n",
              "[999 rows x 4 columns]"
            ]
          },
          "metadata": {
            "tags": []
          },
          "execution_count": 6
        }
      ]
    },
    {
      "cell_type": "code",
      "metadata": {
        "id": "zsfZzlpcFqJH",
        "colab_type": "code",
        "outputId": "29afdaf1-af62-4051-8acc-78c22e06a1c4",
        "colab": {
          "base_uri": "https://localhost:8080/",
          "height": 419
        }
      },
      "source": [
        "## Another way\n",
        "so_numeric_df = so_survey_df._get_numeric_data()\n",
        "so_numeric_df"
      ],
      "execution_count": 0,
      "outputs": [
        {
          "output_type": "execute_result",
          "data": {
            "text/html": [
              "<div>\n",
              "<style scoped>\n",
              "    .dataframe tbody tr th:only-of-type {\n",
              "        vertical-align: middle;\n",
              "    }\n",
              "\n",
              "    .dataframe tbody tr th {\n",
              "        vertical-align: top;\n",
              "    }\n",
              "\n",
              "    .dataframe thead th {\n",
              "        text-align: right;\n",
              "    }\n",
              "</style>\n",
              "<table border=\"1\" class=\"dataframe\">\n",
              "  <thead>\n",
              "    <tr style=\"text-align: right;\">\n",
              "      <th></th>\n",
              "      <th>ConvertedSalary</th>\n",
              "      <th>StackOverflowJobsRecommend</th>\n",
              "      <th>Age</th>\n",
              "      <th>Years Experience</th>\n",
              "    </tr>\n",
              "  </thead>\n",
              "  <tbody>\n",
              "    <tr>\n",
              "      <th>0</th>\n",
              "      <td>NaN</td>\n",
              "      <td>NaN</td>\n",
              "      <td>21</td>\n",
              "      <td>13</td>\n",
              "    </tr>\n",
              "    <tr>\n",
              "      <th>1</th>\n",
              "      <td>70841.0</td>\n",
              "      <td>7.0</td>\n",
              "      <td>38</td>\n",
              "      <td>9</td>\n",
              "    </tr>\n",
              "    <tr>\n",
              "      <th>2</th>\n",
              "      <td>NaN</td>\n",
              "      <td>8.0</td>\n",
              "      <td>45</td>\n",
              "      <td>11</td>\n",
              "    </tr>\n",
              "    <tr>\n",
              "      <th>3</th>\n",
              "      <td>21426.0</td>\n",
              "      <td>NaN</td>\n",
              "      <td>46</td>\n",
              "      <td>12</td>\n",
              "    </tr>\n",
              "    <tr>\n",
              "      <th>4</th>\n",
              "      <td>41671.0</td>\n",
              "      <td>8.0</td>\n",
              "      <td>39</td>\n",
              "      <td>7</td>\n",
              "    </tr>\n",
              "    <tr>\n",
              "      <th>...</th>\n",
              "      <td>...</td>\n",
              "      <td>...</td>\n",
              "      <td>...</td>\n",
              "      <td>...</td>\n",
              "    </tr>\n",
              "    <tr>\n",
              "      <th>994</th>\n",
              "      <td>NaN</td>\n",
              "      <td>NaN</td>\n",
              "      <td>45</td>\n",
              "      <td>10</td>\n",
              "    </tr>\n",
              "    <tr>\n",
              "      <th>995</th>\n",
              "      <td>58746.0</td>\n",
              "      <td>8.0</td>\n",
              "      <td>27</td>\n",
              "      <td>16</td>\n",
              "    </tr>\n",
              "    <tr>\n",
              "      <th>996</th>\n",
              "      <td>55000.0</td>\n",
              "      <td>NaN</td>\n",
              "      <td>54</td>\n",
              "      <td>16</td>\n",
              "    </tr>\n",
              "    <tr>\n",
              "      <th>997</th>\n",
              "      <td>NaN</td>\n",
              "      <td>NaN</td>\n",
              "      <td>23</td>\n",
              "      <td>9</td>\n",
              "    </tr>\n",
              "    <tr>\n",
              "      <th>998</th>\n",
              "      <td>1000000.0</td>\n",
              "      <td>NaN</td>\n",
              "      <td>18</td>\n",
              "      <td>7</td>\n",
              "    </tr>\n",
              "  </tbody>\n",
              "</table>\n",
              "<p>999 rows × 4 columns</p>\n",
              "</div>"
            ],
            "text/plain": [
              "     ConvertedSalary  StackOverflowJobsRecommend  Age  Years Experience\n",
              "0                NaN                         NaN   21                13\n",
              "1            70841.0                         7.0   38                 9\n",
              "2                NaN                         8.0   45                11\n",
              "3            21426.0                         NaN   46                12\n",
              "4            41671.0                         8.0   39                 7\n",
              "..               ...                         ...  ...               ...\n",
              "994              NaN                         NaN   45                10\n",
              "995          58746.0                         8.0   27                16\n",
              "996          55000.0                         NaN   54                16\n",
              "997              NaN                         NaN   23                 9\n",
              "998        1000000.0                         NaN   18                 7\n",
              "\n",
              "[999 rows x 4 columns]"
            ]
          },
          "metadata": {
            "tags": []
          },
          "execution_count": 7
        }
      ]
    },
    {
      "cell_type": "code",
      "metadata": {
        "id": "9EAXPj7eGBHv",
        "colab_type": "code",
        "outputId": "52d1b16b-861a-4993-d1ef-841c7536e00f",
        "colab": {
          "base_uri": "https://localhost:8080/",
          "height": 68
        }
      },
      "source": [
        "## Print the column names contained in so_numeric_df.\n",
        "so_numeric_df.columns"
      ],
      "execution_count": 0,
      "outputs": [
        {
          "output_type": "execute_result",
          "data": {
            "text/plain": [
              "Index(['ConvertedSalary', 'StackOverflowJobsRecommend', 'Age',\n",
              "       'Years Experience'],\n",
              "      dtype='object')"
            ]
          },
          "metadata": {
            "tags": []
          },
          "execution_count": 8
        }
      ]
    },
    {
      "cell_type": "markdown",
      "metadata": {
        "id": "O_4kpncQDXuj",
        "colab_type": "text"
      },
      "source": [
        "---\n",
        "### One-hot encoding and dummy variables\n",
        "---\n",
        "To use categorical variables in a machine learning model, we first need to represent them in a quantitative way. The two most common approaches are to one-hot encode the variables using or to use dummy variables. "
      ]
    },
    {
      "cell_type": "markdown",
      "metadata": {
        "id": "oRQM6bVaDhnT",
        "colab_type": "text"
      },
      "source": [
        "Instructions:\n",
        "\n",
        "* One-hot encode the `Country` column of `so_survey_df` DataFrame, adding \"OH\" as a prefix for each column.\n",
        "* Create dummy variables for the `Country` column, adding \"DM\" as a prefix for each column."
      ]
    },
    {
      "cell_type": "code",
      "metadata": {
        "id": "aTWuuwYWGLW-",
        "colab_type": "code",
        "outputId": "d9a62b16-3386-4cb4-a913-1bb9c3044fb1",
        "colab": {
          "base_uri": "https://localhost:8080/",
          "height": 119
        }
      },
      "source": [
        "so_country_df = pd.get_dummies(so_survey_df , columns=['Country'],prefix='OH')\n",
        "so_country_df.columns"
      ],
      "execution_count": 0,
      "outputs": [
        {
          "output_type": "execute_result",
          "data": {
            "text/plain": [
              "Index(['SurveyDate', 'FormalEducation', 'ConvertedSalary', 'Hobby',\n",
              "       'StackOverflowJobsRecommend', 'VersionControl', 'Age',\n",
              "       'Years Experience', 'Gender', 'RawSalary', 'OH_France', 'OH_India',\n",
              "       'OH_Ireland', 'OH_Russia', 'OH_South Africa', 'OH_Spain', 'OH_Sweeden',\n",
              "       'OH_UK', 'OH_USA', 'OH_Ukraine'],\n",
              "      dtype='object')"
            ]
          },
          "metadata": {
            "tags": []
          },
          "execution_count": 9
        }
      ]
    },
    {
      "cell_type": "code",
      "metadata": {
        "id": "n4HZWc0dKa04",
        "colab_type": "code",
        "outputId": "72bca2d4-985b-445d-acf0-91fefd246250",
        "colab": {
          "base_uri": "https://localhost:8080/",
          "height": 119
        }
      },
      "source": [
        "dummy = pd.get_dummies(so_survey_df , columns=['Country'],prefix='OH',drop_first=True)\n",
        "dummy.columns"
      ],
      "execution_count": 0,
      "outputs": [
        {
          "output_type": "execute_result",
          "data": {
            "text/plain": [
              "Index(['SurveyDate', 'FormalEducation', 'ConvertedSalary', 'Hobby',\n",
              "       'StackOverflowJobsRecommend', 'VersionControl', 'Age',\n",
              "       'Years Experience', 'Gender', 'RawSalary', 'OH_India', 'OH_Ireland',\n",
              "       'OH_Russia', 'OH_South Africa', 'OH_Spain', 'OH_Sweeden', 'OH_UK',\n",
              "       'OH_USA', 'OH_Ukraine'],\n",
              "      dtype='object')"
            ]
          },
          "metadata": {
            "tags": []
          },
          "execution_count": 10
        }
      ]
    },
    {
      "cell_type": "markdown",
      "metadata": {
        "id": "UZ56-6j9oz4H",
        "colab_type": "text"
      },
      "source": [
        "---\n",
        "### Dealing with uncommon categories\n",
        "---\n",
        "Some features can have many different categories but a very uneven distribution of their occurrences. Take for example Data Science's favorite languages to code in, some common choices are Python, R, and Julia, but there can be individuals with bespoke choices, like FORTRAN, C etc. In these cases, we may not want to create a feature for each value, but only the more common occurrences."
      ]
    },
    {
      "cell_type": "markdown",
      "metadata": {
        "id": "1z1TCKQ7EHcb",
        "colab_type": "text"
      },
      "source": [
        "Instructions:\n",
        "\n",
        "* Extract the `Country` column of `so_survey_df` as a series and assign it to `countries`.\n",
        "* Find the counts of each category in the newly created `countries` series."
      ]
    },
    {
      "cell_type": "code",
      "metadata": {
        "id": "662VbhqbLmJt",
        "colab_type": "code",
        "outputId": "f0c23be3-4765-4505-e461-1643ed48873f",
        "colab": {
          "base_uri": "https://localhost:8080/",
          "height": 204
        }
      },
      "source": [
        "countries = so_survey_df.Country\n",
        "countries_counts = countries.value_counts()\n",
        "print(countries_counts)"
      ],
      "execution_count": 0,
      "outputs": [
        {
          "output_type": "stream",
          "text": [
            "South Africa    166\n",
            "USA             164\n",
            "Spain           134\n",
            "Sweeden         119\n",
            "France          115\n",
            "Russia           97\n",
            "UK               95\n",
            "India            95\n",
            "Ukraine           9\n",
            "Ireland           5\n",
            "Name: Country, dtype: int64\n"
          ],
          "name": "stdout"
        }
      ]
    },
    {
      "cell_type": "markdown",
      "metadata": {
        "id": "lKxW1Z70EW5W",
        "colab_type": "text"
      },
      "source": [
        "Instructions:\n",
        "\n",
        "* Create a mask for values occurring less than 10 times in `country_counts`.\n",
        "* Print the first 5 rows of the mask."
      ]
    },
    {
      "cell_type": "code",
      "metadata": {
        "id": "vkpBeGC9RcpV",
        "colab_type": "code",
        "outputId": "5475209d-5cde-47ae-f7d3-d2bb3df21c8d",
        "colab": {
          "base_uri": "https://localhost:8080/",
          "height": 119
        }
      },
      "source": [
        "mask = countries.isin(countries_counts[countries.value_counts()<10].index)\n",
        "mask.head(5)"
      ],
      "execution_count": 0,
      "outputs": [
        {
          "output_type": "execute_result",
          "data": {
            "text/plain": [
              "0    False\n",
              "1    False\n",
              "2    False\n",
              "3    False\n",
              "4    False\n",
              "Name: Country, dtype: bool"
            ]
          },
          "metadata": {
            "tags": []
          },
          "execution_count": 12
        }
      ]
    },
    {
      "cell_type": "markdown",
      "metadata": {
        "id": "6Zro-imOEiwt",
        "colab_type": "text"
      },
      "source": [
        "Instructions:\n",
        "\n",
        "* Label values occurring less than the `mask` cutoff as 'Other'.\n",
        "* Print the new category counts in `countries`."
      ]
    },
    {
      "cell_type": "code",
      "metadata": {
        "id": "IvLBKu9SYj4n",
        "colab_type": "code",
        "outputId": "93bea50c-2838-4787-a0ac-28852ae13052",
        "colab": {
          "base_uri": "https://localhost:8080/",
          "height": 272
        }
      },
      "source": [
        "countries[mask] = 'Other'\n",
        "print(countries.value_counts())"
      ],
      "execution_count": 0,
      "outputs": [
        {
          "output_type": "stream",
          "text": [
            "South Africa    166\n",
            "USA             164\n",
            "Spain           134\n",
            "Sweeden         119\n",
            "France          115\n",
            "Russia           97\n",
            "UK               95\n",
            "India            95\n",
            "Other            14\n",
            "Name: Country, dtype: int64\n"
          ],
          "name": "stdout"
        },
        {
          "output_type": "stream",
          "text": [
            "/usr/local/lib/python3.6/dist-packages/ipykernel_launcher.py:1: SettingWithCopyWarning: \n",
            "A value is trying to be set on a copy of a slice from a DataFrame\n",
            "\n",
            "See the caveats in the documentation: https://pandas.pydata.org/pandas-docs/stable/user_guide/indexing.html#returning-a-view-versus-a-copy\n",
            "  \"\"\"Entry point for launching an IPython kernel.\n"
          ],
          "name": "stderr"
        }
      ]
    },
    {
      "cell_type": "markdown",
      "metadata": {
        "id": "w0j7IlzLpke5",
        "colab_type": "text"
      },
      "source": [
        "---\n",
        "### Binarizing columns\n",
        "---\n",
        "While numeric values can often be used without any feature engineering, there will be cases when some form of manipulation can be useful. For example on some occasions, we might not care about the magnitude of a value but only care about its direction, or if it exists at all. In these situations, we will want to binarize a column. In the `so_survey_df` data, we have a large number of survey respondents that are working voluntarily (without pay). We will create a new column titled `Paid_Job` indicating whether each person is paid (their salary is greater than zero)."
      ]
    },
    {
      "cell_type": "markdown",
      "metadata": {
        "id": "HdCPaTzFExzS",
        "colab_type": "text"
      },
      "source": [
        "Instructions:\n",
        "\n",
        "* Create a new column called `Paid_Job` filled with zeros.\n",
        "* Replace all the `Paid_Job` values with a 1 where the corresponding `ConvertedSalary` is greater than 0."
      ]
    },
    {
      "cell_type": "code",
      "metadata": {
        "id": "jSS9fz3WY5LB",
        "colab_type": "code",
        "outputId": "46fc1a78-2888-449a-c12c-12af265fa131",
        "colab": {
          "base_uri": "https://localhost:8080/",
          "height": 640
        }
      },
      "source": [
        "# Create a new column called Paid_Job filled with zeros.\n",
        "\n",
        "Paid_job = np.zeros((so_survey_df.shape[0]))\n",
        "Paid_job = pd.DataFrame(Paid_job, columns=['Paid_job'])\n",
        "so_survey_df = so_survey_df.join(Paid_job)\n",
        "so_survey_df"
      ],
      "execution_count": 0,
      "outputs": [
        {
          "output_type": "execute_result",
          "data": {
            "text/html": [
              "<div>\n",
              "<style scoped>\n",
              "    .dataframe tbody tr th:only-of-type {\n",
              "        vertical-align: middle;\n",
              "    }\n",
              "\n",
              "    .dataframe tbody tr th {\n",
              "        vertical-align: top;\n",
              "    }\n",
              "\n",
              "    .dataframe thead th {\n",
              "        text-align: right;\n",
              "    }\n",
              "</style>\n",
              "<table border=\"1\" class=\"dataframe\">\n",
              "  <thead>\n",
              "    <tr style=\"text-align: right;\">\n",
              "      <th></th>\n",
              "      <th>SurveyDate</th>\n",
              "      <th>FormalEducation</th>\n",
              "      <th>ConvertedSalary</th>\n",
              "      <th>Hobby</th>\n",
              "      <th>Country</th>\n",
              "      <th>StackOverflowJobsRecommend</th>\n",
              "      <th>VersionControl</th>\n",
              "      <th>Age</th>\n",
              "      <th>Years Experience</th>\n",
              "      <th>Gender</th>\n",
              "      <th>RawSalary</th>\n",
              "      <th>Paid_job</th>\n",
              "    </tr>\n",
              "  </thead>\n",
              "  <tbody>\n",
              "    <tr>\n",
              "      <th>0</th>\n",
              "      <td>2/28/18 20:20</td>\n",
              "      <td>Bachelor's degree (BA. BS. B.Eng.. etc.)</td>\n",
              "      <td>NaN</td>\n",
              "      <td>Yes</td>\n",
              "      <td>South Africa</td>\n",
              "      <td>NaN</td>\n",
              "      <td>Git</td>\n",
              "      <td>21</td>\n",
              "      <td>13</td>\n",
              "      <td>Male</td>\n",
              "      <td>NaN</td>\n",
              "      <td>0.0</td>\n",
              "    </tr>\n",
              "    <tr>\n",
              "      <th>1</th>\n",
              "      <td>6/28/18 13:26</td>\n",
              "      <td>Bachelor's degree (BA. BS. B.Eng.. etc.)</td>\n",
              "      <td>70841.0</td>\n",
              "      <td>Yes</td>\n",
              "      <td>Sweeden</td>\n",
              "      <td>7.0</td>\n",
              "      <td>Git;Subversion</td>\n",
              "      <td>38</td>\n",
              "      <td>9</td>\n",
              "      <td>Male</td>\n",
              "      <td>70,841.00</td>\n",
              "      <td>0.0</td>\n",
              "    </tr>\n",
              "    <tr>\n",
              "      <th>2</th>\n",
              "      <td>6/6/18 3:37</td>\n",
              "      <td>Bachelor's degree (BA. BS. B.Eng.. etc.)</td>\n",
              "      <td>NaN</td>\n",
              "      <td>No</td>\n",
              "      <td>Sweeden</td>\n",
              "      <td>8.0</td>\n",
              "      <td>Git</td>\n",
              "      <td>45</td>\n",
              "      <td>11</td>\n",
              "      <td>NaN</td>\n",
              "      <td>NaN</td>\n",
              "      <td>0.0</td>\n",
              "    </tr>\n",
              "    <tr>\n",
              "      <th>3</th>\n",
              "      <td>5/9/18 1:06</td>\n",
              "      <td>Some college/university study without earning ...</td>\n",
              "      <td>21426.0</td>\n",
              "      <td>Yes</td>\n",
              "      <td>Sweeden</td>\n",
              "      <td>NaN</td>\n",
              "      <td>Zip file back-ups</td>\n",
              "      <td>46</td>\n",
              "      <td>12</td>\n",
              "      <td>Male</td>\n",
              "      <td>21,426.00</td>\n",
              "      <td>0.0</td>\n",
              "    </tr>\n",
              "    <tr>\n",
              "      <th>4</th>\n",
              "      <td>4/12/18 22:41</td>\n",
              "      <td>Bachelor's degree (BA. BS. B.Eng.. etc.)</td>\n",
              "      <td>41671.0</td>\n",
              "      <td>Yes</td>\n",
              "      <td>UK</td>\n",
              "      <td>8.0</td>\n",
              "      <td>Git</td>\n",
              "      <td>39</td>\n",
              "      <td>7</td>\n",
              "      <td>Male</td>\n",
              "      <td>£41,671.00</td>\n",
              "      <td>0.0</td>\n",
              "    </tr>\n",
              "    <tr>\n",
              "      <th>...</th>\n",
              "      <td>...</td>\n",
              "      <td>...</td>\n",
              "      <td>...</td>\n",
              "      <td>...</td>\n",
              "      <td>...</td>\n",
              "      <td>...</td>\n",
              "      <td>...</td>\n",
              "      <td>...</td>\n",
              "      <td>...</td>\n",
              "      <td>...</td>\n",
              "      <td>...</td>\n",
              "      <td>...</td>\n",
              "    </tr>\n",
              "    <tr>\n",
              "      <th>994</th>\n",
              "      <td>10/19/18 13:50</td>\n",
              "      <td>Some college/university study without earning ...</td>\n",
              "      <td>NaN</td>\n",
              "      <td>Yes</td>\n",
              "      <td>France</td>\n",
              "      <td>NaN</td>\n",
              "      <td>Subversion</td>\n",
              "      <td>45</td>\n",
              "      <td>10</td>\n",
              "      <td>Male</td>\n",
              "      <td>NaN</td>\n",
              "      <td>0.0</td>\n",
              "    </tr>\n",
              "    <tr>\n",
              "      <th>995</th>\n",
              "      <td>4/14/18 15:31</td>\n",
              "      <td>Bachelor's degree (BA. BS. B.Eng.. etc.)</td>\n",
              "      <td>58746.0</td>\n",
              "      <td>No</td>\n",
              "      <td>Spain</td>\n",
              "      <td>8.0</td>\n",
              "      <td>Git</td>\n",
              "      <td>27</td>\n",
              "      <td>16</td>\n",
              "      <td>Male</td>\n",
              "      <td>58,746.00</td>\n",
              "      <td>0.0</td>\n",
              "    </tr>\n",
              "    <tr>\n",
              "      <th>996</th>\n",
              "      <td>3/21/18 6:34</td>\n",
              "      <td>Bachelor's degree (BA. BS. B.Eng.. etc.)</td>\n",
              "      <td>55000.0</td>\n",
              "      <td>Yes</td>\n",
              "      <td>USA</td>\n",
              "      <td>NaN</td>\n",
              "      <td>Git</td>\n",
              "      <td>54</td>\n",
              "      <td>16</td>\n",
              "      <td>Male</td>\n",
              "      <td>$55,000.00</td>\n",
              "      <td>0.0</td>\n",
              "    </tr>\n",
              "    <tr>\n",
              "      <th>997</th>\n",
              "      <td>2/5/18 20:01</td>\n",
              "      <td>Bachelor's degree (BA. BS. B.Eng.. etc.)</td>\n",
              "      <td>NaN</td>\n",
              "      <td>Yes</td>\n",
              "      <td>Sweeden</td>\n",
              "      <td>NaN</td>\n",
              "      <td>Git;Subversion</td>\n",
              "      <td>23</td>\n",
              "      <td>9</td>\n",
              "      <td>NaN</td>\n",
              "      <td>NaN</td>\n",
              "      <td>0.0</td>\n",
              "    </tr>\n",
              "    <tr>\n",
              "      <th>998</th>\n",
              "      <td>2/11/18 21:23</td>\n",
              "      <td>Bachelor's degree (BA. BS. B.Eng.. etc.)</td>\n",
              "      <td>1000000.0</td>\n",
              "      <td>No</td>\n",
              "      <td>Russia</td>\n",
              "      <td>NaN</td>\n",
              "      <td>Git</td>\n",
              "      <td>18</td>\n",
              "      <td>7</td>\n",
              "      <td>NaN</td>\n",
              "      <td>1,000,000.00</td>\n",
              "      <td>0.0</td>\n",
              "    </tr>\n",
              "  </tbody>\n",
              "</table>\n",
              "<p>999 rows × 12 columns</p>\n",
              "</div>"
            ],
            "text/plain": [
              "         SurveyDate  ... Paid_job\n",
              "0     2/28/18 20:20  ...      0.0\n",
              "1     6/28/18 13:26  ...      0.0\n",
              "2       6/6/18 3:37  ...      0.0\n",
              "3       5/9/18 1:06  ...      0.0\n",
              "4     4/12/18 22:41  ...      0.0\n",
              "..              ...  ...      ...\n",
              "994  10/19/18 13:50  ...      0.0\n",
              "995   4/14/18 15:31  ...      0.0\n",
              "996    3/21/18 6:34  ...      0.0\n",
              "997    2/5/18 20:01  ...      0.0\n",
              "998   2/11/18 21:23  ...      0.0\n",
              "\n",
              "[999 rows x 12 columns]"
            ]
          },
          "metadata": {
            "tags": []
          },
          "execution_count": 14
        }
      ]
    },
    {
      "cell_type": "code",
      "metadata": {
        "id": "BHOiUUFvakIJ",
        "colab_type": "code",
        "outputId": "56286e0f-3c19-40a7-9946-78b1ff3e2432",
        "colab": {
          "base_uri": "https://localhost:8080/",
          "height": 640
        }
      },
      "source": [
        "# Create a new column called Paid_Job filled with zeros. (Another way)\n",
        "so_survey_df['Paid_job'] = 0\n",
        "so_survey_df"
      ],
      "execution_count": 0,
      "outputs": [
        {
          "output_type": "execute_result",
          "data": {
            "text/html": [
              "<div>\n",
              "<style scoped>\n",
              "    .dataframe tbody tr th:only-of-type {\n",
              "        vertical-align: middle;\n",
              "    }\n",
              "\n",
              "    .dataframe tbody tr th {\n",
              "        vertical-align: top;\n",
              "    }\n",
              "\n",
              "    .dataframe thead th {\n",
              "        text-align: right;\n",
              "    }\n",
              "</style>\n",
              "<table border=\"1\" class=\"dataframe\">\n",
              "  <thead>\n",
              "    <tr style=\"text-align: right;\">\n",
              "      <th></th>\n",
              "      <th>SurveyDate</th>\n",
              "      <th>FormalEducation</th>\n",
              "      <th>ConvertedSalary</th>\n",
              "      <th>Hobby</th>\n",
              "      <th>Country</th>\n",
              "      <th>StackOverflowJobsRecommend</th>\n",
              "      <th>VersionControl</th>\n",
              "      <th>Age</th>\n",
              "      <th>Years Experience</th>\n",
              "      <th>Gender</th>\n",
              "      <th>RawSalary</th>\n",
              "      <th>Paid_job</th>\n",
              "    </tr>\n",
              "  </thead>\n",
              "  <tbody>\n",
              "    <tr>\n",
              "      <th>0</th>\n",
              "      <td>2/28/18 20:20</td>\n",
              "      <td>Bachelor's degree (BA. BS. B.Eng.. etc.)</td>\n",
              "      <td>NaN</td>\n",
              "      <td>Yes</td>\n",
              "      <td>South Africa</td>\n",
              "      <td>NaN</td>\n",
              "      <td>Git</td>\n",
              "      <td>21</td>\n",
              "      <td>13</td>\n",
              "      <td>Male</td>\n",
              "      <td>NaN</td>\n",
              "      <td>0</td>\n",
              "    </tr>\n",
              "    <tr>\n",
              "      <th>1</th>\n",
              "      <td>6/28/18 13:26</td>\n",
              "      <td>Bachelor's degree (BA. BS. B.Eng.. etc.)</td>\n",
              "      <td>70841.0</td>\n",
              "      <td>Yes</td>\n",
              "      <td>Sweeden</td>\n",
              "      <td>7.0</td>\n",
              "      <td>Git;Subversion</td>\n",
              "      <td>38</td>\n",
              "      <td>9</td>\n",
              "      <td>Male</td>\n",
              "      <td>70,841.00</td>\n",
              "      <td>0</td>\n",
              "    </tr>\n",
              "    <tr>\n",
              "      <th>2</th>\n",
              "      <td>6/6/18 3:37</td>\n",
              "      <td>Bachelor's degree (BA. BS. B.Eng.. etc.)</td>\n",
              "      <td>NaN</td>\n",
              "      <td>No</td>\n",
              "      <td>Sweeden</td>\n",
              "      <td>8.0</td>\n",
              "      <td>Git</td>\n",
              "      <td>45</td>\n",
              "      <td>11</td>\n",
              "      <td>NaN</td>\n",
              "      <td>NaN</td>\n",
              "      <td>0</td>\n",
              "    </tr>\n",
              "    <tr>\n",
              "      <th>3</th>\n",
              "      <td>5/9/18 1:06</td>\n",
              "      <td>Some college/university study without earning ...</td>\n",
              "      <td>21426.0</td>\n",
              "      <td>Yes</td>\n",
              "      <td>Sweeden</td>\n",
              "      <td>NaN</td>\n",
              "      <td>Zip file back-ups</td>\n",
              "      <td>46</td>\n",
              "      <td>12</td>\n",
              "      <td>Male</td>\n",
              "      <td>21,426.00</td>\n",
              "      <td>0</td>\n",
              "    </tr>\n",
              "    <tr>\n",
              "      <th>4</th>\n",
              "      <td>4/12/18 22:41</td>\n",
              "      <td>Bachelor's degree (BA. BS. B.Eng.. etc.)</td>\n",
              "      <td>41671.0</td>\n",
              "      <td>Yes</td>\n",
              "      <td>UK</td>\n",
              "      <td>8.0</td>\n",
              "      <td>Git</td>\n",
              "      <td>39</td>\n",
              "      <td>7</td>\n",
              "      <td>Male</td>\n",
              "      <td>£41,671.00</td>\n",
              "      <td>0</td>\n",
              "    </tr>\n",
              "    <tr>\n",
              "      <th>...</th>\n",
              "      <td>...</td>\n",
              "      <td>...</td>\n",
              "      <td>...</td>\n",
              "      <td>...</td>\n",
              "      <td>...</td>\n",
              "      <td>...</td>\n",
              "      <td>...</td>\n",
              "      <td>...</td>\n",
              "      <td>...</td>\n",
              "      <td>...</td>\n",
              "      <td>...</td>\n",
              "      <td>...</td>\n",
              "    </tr>\n",
              "    <tr>\n",
              "      <th>994</th>\n",
              "      <td>10/19/18 13:50</td>\n",
              "      <td>Some college/university study without earning ...</td>\n",
              "      <td>NaN</td>\n",
              "      <td>Yes</td>\n",
              "      <td>France</td>\n",
              "      <td>NaN</td>\n",
              "      <td>Subversion</td>\n",
              "      <td>45</td>\n",
              "      <td>10</td>\n",
              "      <td>Male</td>\n",
              "      <td>NaN</td>\n",
              "      <td>0</td>\n",
              "    </tr>\n",
              "    <tr>\n",
              "      <th>995</th>\n",
              "      <td>4/14/18 15:31</td>\n",
              "      <td>Bachelor's degree (BA. BS. B.Eng.. etc.)</td>\n",
              "      <td>58746.0</td>\n",
              "      <td>No</td>\n",
              "      <td>Spain</td>\n",
              "      <td>8.0</td>\n",
              "      <td>Git</td>\n",
              "      <td>27</td>\n",
              "      <td>16</td>\n",
              "      <td>Male</td>\n",
              "      <td>58,746.00</td>\n",
              "      <td>0</td>\n",
              "    </tr>\n",
              "    <tr>\n",
              "      <th>996</th>\n",
              "      <td>3/21/18 6:34</td>\n",
              "      <td>Bachelor's degree (BA. BS. B.Eng.. etc.)</td>\n",
              "      <td>55000.0</td>\n",
              "      <td>Yes</td>\n",
              "      <td>USA</td>\n",
              "      <td>NaN</td>\n",
              "      <td>Git</td>\n",
              "      <td>54</td>\n",
              "      <td>16</td>\n",
              "      <td>Male</td>\n",
              "      <td>$55,000.00</td>\n",
              "      <td>0</td>\n",
              "    </tr>\n",
              "    <tr>\n",
              "      <th>997</th>\n",
              "      <td>2/5/18 20:01</td>\n",
              "      <td>Bachelor's degree (BA. BS. B.Eng.. etc.)</td>\n",
              "      <td>NaN</td>\n",
              "      <td>Yes</td>\n",
              "      <td>Sweeden</td>\n",
              "      <td>NaN</td>\n",
              "      <td>Git;Subversion</td>\n",
              "      <td>23</td>\n",
              "      <td>9</td>\n",
              "      <td>NaN</td>\n",
              "      <td>NaN</td>\n",
              "      <td>0</td>\n",
              "    </tr>\n",
              "    <tr>\n",
              "      <th>998</th>\n",
              "      <td>2/11/18 21:23</td>\n",
              "      <td>Bachelor's degree (BA. BS. B.Eng.. etc.)</td>\n",
              "      <td>1000000.0</td>\n",
              "      <td>No</td>\n",
              "      <td>Russia</td>\n",
              "      <td>NaN</td>\n",
              "      <td>Git</td>\n",
              "      <td>18</td>\n",
              "      <td>7</td>\n",
              "      <td>NaN</td>\n",
              "      <td>1,000,000.00</td>\n",
              "      <td>0</td>\n",
              "    </tr>\n",
              "  </tbody>\n",
              "</table>\n",
              "<p>999 rows × 12 columns</p>\n",
              "</div>"
            ],
            "text/plain": [
              "         SurveyDate  ... Paid_job\n",
              "0     2/28/18 20:20  ...        0\n",
              "1     6/28/18 13:26  ...        0\n",
              "2       6/6/18 3:37  ...        0\n",
              "3       5/9/18 1:06  ...        0\n",
              "4     4/12/18 22:41  ...        0\n",
              "..              ...  ...      ...\n",
              "994  10/19/18 13:50  ...        0\n",
              "995   4/14/18 15:31  ...        0\n",
              "996    3/21/18 6:34  ...        0\n",
              "997    2/5/18 20:01  ...        0\n",
              "998   2/11/18 21:23  ...        0\n",
              "\n",
              "[999 rows x 12 columns]"
            ]
          },
          "metadata": {
            "tags": []
          },
          "execution_count": 15
        }
      ]
    },
    {
      "cell_type": "code",
      "metadata": {
        "id": "2vSHRycqa11S",
        "colab_type": "code",
        "outputId": "f930f61b-e9d5-4868-bfc2-f23c39389741",
        "colab": {
          "base_uri": "https://localhost:8080/",
          "height": 68
        }
      },
      "source": [
        "# Replace all the Paid_Job values with a 1 where the corresponding ConvertedSalary is greater than 0\n",
        "so_survey_df.loc[so_survey_df['ConvertedSalary']>0,'Paid_job'] = 1\n",
        "so_survey_df.Paid_job.value_counts()"
      ],
      "execution_count": 0,
      "outputs": [
        {
          "output_type": "execute_result",
          "data": {
            "text/plain": [
              "1    663\n",
              "0    336\n",
              "Name: Paid_job, dtype: int64"
            ]
          },
          "metadata": {
            "tags": []
          },
          "execution_count": 16
        }
      ]
    },
    {
      "cell_type": "markdown",
      "metadata": {
        "id": "7lJTmpvzq_NJ",
        "colab_type": "text"
      },
      "source": [
        "---\n",
        "### Binning values\n",
        "---\n",
        "For many continuous values we will care less about the exact value of a numeric column, but instead care about the bucket it falls into. This can be useful when plotting values, or simplifying your machine learning models. It is mostly used on continuous variables where accuracy is not the biggest concern e.g. age, height, wages.\n",
        "\n",
        "Bins are created using `pd.cut(df['column_name'], bins)` where bins can be an integer specifying the number of evenly spaced bins, or a list of bin boundaries."
      ]
    },
    {
      "cell_type": "markdown",
      "metadata": {
        "id": "GglGS3NkFtU3",
        "colab_type": "text"
      },
      "source": [
        "Instructions:\n",
        "\n",
        "* Bin the value of the `ConvertedSalary` column in `so_survey_df` into 5 equal bins, in a new column called `equal_binned`.\n",
        "* Print the first five rows of both columns: `ConvertedSalary` and `equal_binned`. "
      ]
    },
    {
      "cell_type": "code",
      "metadata": {
        "id": "OLzti0KACjBQ",
        "colab_type": "code",
        "outputId": "7a786738-38c3-4666-cc9e-ed667f0fabc3",
        "colab": {
          "base_uri": "https://localhost:8080/",
          "height": 204
        }
      },
      "source": [
        "so_survey_df['equal_binned'] = pd.cut(so_survey_df['ConvertedSalary'],bins=5)\n",
        "so_survey_df[['ConvertedSalary','equal_binned']].head(5)"
      ],
      "execution_count": 0,
      "outputs": [
        {
          "output_type": "execute_result",
          "data": {
            "text/html": [
              "<div>\n",
              "<style scoped>\n",
              "    .dataframe tbody tr th:only-of-type {\n",
              "        vertical-align: middle;\n",
              "    }\n",
              "\n",
              "    .dataframe tbody tr th {\n",
              "        vertical-align: top;\n",
              "    }\n",
              "\n",
              "    .dataframe thead th {\n",
              "        text-align: right;\n",
              "    }\n",
              "</style>\n",
              "<table border=\"1\" class=\"dataframe\">\n",
              "  <thead>\n",
              "    <tr style=\"text-align: right;\">\n",
              "      <th></th>\n",
              "      <th>ConvertedSalary</th>\n",
              "      <th>equal_binned</th>\n",
              "    </tr>\n",
              "  </thead>\n",
              "  <tbody>\n",
              "    <tr>\n",
              "      <th>0</th>\n",
              "      <td>NaN</td>\n",
              "      <td>NaN</td>\n",
              "    </tr>\n",
              "    <tr>\n",
              "      <th>1</th>\n",
              "      <td>70841.0</td>\n",
              "      <td>(-2000.0, 400000.0]</td>\n",
              "    </tr>\n",
              "    <tr>\n",
              "      <th>2</th>\n",
              "      <td>NaN</td>\n",
              "      <td>NaN</td>\n",
              "    </tr>\n",
              "    <tr>\n",
              "      <th>3</th>\n",
              "      <td>21426.0</td>\n",
              "      <td>(-2000.0, 400000.0]</td>\n",
              "    </tr>\n",
              "    <tr>\n",
              "      <th>4</th>\n",
              "      <td>41671.0</td>\n",
              "      <td>(-2000.0, 400000.0]</td>\n",
              "    </tr>\n",
              "  </tbody>\n",
              "</table>\n",
              "</div>"
            ],
            "text/plain": [
              "   ConvertedSalary         equal_binned\n",
              "0              NaN                  NaN\n",
              "1          70841.0  (-2000.0, 400000.0]\n",
              "2              NaN                  NaN\n",
              "3          21426.0  (-2000.0, 400000.0]\n",
              "4          41671.0  (-2000.0, 400000.0]"
            ]
          },
          "metadata": {
            "tags": []
          },
          "execution_count": 17
        }
      ]
    },
    {
      "cell_type": "markdown",
      "metadata": {
        "id": "-o_1_UiiF1dc",
        "colab_type": "text"
      },
      "source": [
        "Instructions:\n",
        "\n",
        "* Bin the `ConvertedSalary` column using the boundaries in the list bins and label the bins using `labels` in a new column called `boundary_binned`. \n",
        "* Print the first 5 rows of the `boundary_binned` column. "
      ]
    },
    {
      "cell_type": "code",
      "metadata": {
        "id": "UZyNvV6krVLJ",
        "colab_type": "code",
        "colab": {}
      },
      "source": [
        "# Specify the boundaries of the bins\n",
        "bins = [-np.inf, 10000, 50000, 100000, 150000, np.inf]\n",
        "\n",
        "# Bin labels\n",
        "labels = ['Very low', 'Low', 'Medium', 'High', 'Very high']"
      ],
      "execution_count": 0,
      "outputs": []
    },
    {
      "cell_type": "code",
      "metadata": {
        "id": "6CqwGwY-EnYi",
        "colab_type": "code",
        "outputId": "aebcf83c-68fa-4cbe-bfd3-5eb0d92859b2",
        "colab": {
          "base_uri": "https://localhost:8080/",
          "height": 136
        }
      },
      "source": [
        "so_survey_df['boundary_binned'] = pd.cut(so_survey_df['ConvertedSalary'],bins=bins,labels=labels)\n",
        "so_survey_df.boundary_binned.head(5)"
      ],
      "execution_count": 0,
      "outputs": [
        {
          "output_type": "execute_result",
          "data": {
            "text/plain": [
              "0       NaN\n",
              "1    Medium\n",
              "2       NaN\n",
              "3       Low\n",
              "4       Low\n",
              "Name: boundary_binned, dtype: category\n",
              "Categories (5, object): [Very low < Low < Medium < High < Very high]"
            ]
          },
          "metadata": {
            "tags": []
          },
          "execution_count": 19
        }
      ]
    },
    {
      "cell_type": "markdown",
      "metadata": {
        "id": "cIkFDAVUGhcQ",
        "colab_type": "text"
      },
      "source": [
        "## Dealing with Messy Data\n",
        "---"
      ]
    },
    {
      "cell_type": "markdown",
      "metadata": {
        "id": "m8o-Z4YEsYF9",
        "colab_type": "text"
      },
      "source": [
        "---\n",
        "### How sparse is my data?\n",
        "---\n",
        "Most data sets contain missing values, often represented as NaN (Not a Number). If we are working with Pandas, we can easily check how many missing values exist in each column.\n",
        "\n",
        "Let's find out how many of the developers taking the survey chose to enter their age (found in the `Age` column of `so_survey_df`) and their gender (`Gender` column of `so_survey_df`)."
      ]
    },
    {
      "cell_type": "markdown",
      "metadata": {
        "id": "1n0JDxzMHMwD",
        "colab_type": "text"
      },
      "source": [
        "Instructions:\n",
        "\n",
        "* Subset the `so_survey_df` DataFrame to only include the `Age` and `Gender` columns.\n",
        "* Print the number of non-missing values in both columns."
      ]
    },
    {
      "cell_type": "code",
      "metadata": {
        "id": "9kGid5oiG8z4",
        "colab_type": "code",
        "outputId": "b93e29e2-6cab-4246-fe56-ee84558b3d6b",
        "colab": {
          "base_uri": "https://localhost:8080/",
          "height": 68
        }
      },
      "source": [
        "sub_df = so_survey_df[['Age','Gender']]\n",
        "sub_df.notna().sum()"
      ],
      "execution_count": 0,
      "outputs": [
        {
          "output_type": "execute_result",
          "data": {
            "text/plain": [
              "Age       999\n",
              "Gender    693\n",
              "dtype: int64"
            ]
          },
          "metadata": {
            "tags": []
          },
          "execution_count": 20
        }
      ]
    },
    {
      "cell_type": "markdown",
      "metadata": {
        "id": "STDb03R3swA4",
        "colab_type": "text"
      },
      "source": [
        "---\n",
        "### Finding the missing values\n",
        "---\n",
        "While having a summary of how much of your data is missing can be useful, often we will need to find the exact locations of these missing values. Using the same subset of the StackOverflow data from the last exercise (`sub_df`), we will show how a value can be flagged as missing."
      ]
    },
    {
      "cell_type": "markdown",
      "metadata": {
        "id": "E5XbMPSrHhY4",
        "colab_type": "text"
      },
      "source": [
        "Instructions:\n",
        "\n",
        "* Print the first 10 entries of the `sub_df` DataFrame.\n",
        "* Print the locations of the missing values in the first 10 rows of this DataFrame.\n",
        "* Print the locations of the non-missing values in the first 10 rows."
      ]
    },
    {
      "cell_type": "code",
      "metadata": {
        "id": "fGbXlq5DIHvz",
        "colab_type": "code",
        "outputId": "e4a12e63-3c18-4738-d805-5591a62aad48",
        "colab": {
          "base_uri": "https://localhost:8080/",
          "height": 359
        }
      },
      "source": [
        "sub_df.head(10)"
      ],
      "execution_count": 0,
      "outputs": [
        {
          "output_type": "execute_result",
          "data": {
            "text/html": [
              "<div>\n",
              "<style scoped>\n",
              "    .dataframe tbody tr th:only-of-type {\n",
              "        vertical-align: middle;\n",
              "    }\n",
              "\n",
              "    .dataframe tbody tr th {\n",
              "        vertical-align: top;\n",
              "    }\n",
              "\n",
              "    .dataframe thead th {\n",
              "        text-align: right;\n",
              "    }\n",
              "</style>\n",
              "<table border=\"1\" class=\"dataframe\">\n",
              "  <thead>\n",
              "    <tr style=\"text-align: right;\">\n",
              "      <th></th>\n",
              "      <th>Age</th>\n",
              "      <th>Gender</th>\n",
              "    </tr>\n",
              "  </thead>\n",
              "  <tbody>\n",
              "    <tr>\n",
              "      <th>0</th>\n",
              "      <td>21</td>\n",
              "      <td>Male</td>\n",
              "    </tr>\n",
              "    <tr>\n",
              "      <th>1</th>\n",
              "      <td>38</td>\n",
              "      <td>Male</td>\n",
              "    </tr>\n",
              "    <tr>\n",
              "      <th>2</th>\n",
              "      <td>45</td>\n",
              "      <td>NaN</td>\n",
              "    </tr>\n",
              "    <tr>\n",
              "      <th>3</th>\n",
              "      <td>46</td>\n",
              "      <td>Male</td>\n",
              "    </tr>\n",
              "    <tr>\n",
              "      <th>4</th>\n",
              "      <td>39</td>\n",
              "      <td>Male</td>\n",
              "    </tr>\n",
              "    <tr>\n",
              "      <th>5</th>\n",
              "      <td>39</td>\n",
              "      <td>Male</td>\n",
              "    </tr>\n",
              "    <tr>\n",
              "      <th>6</th>\n",
              "      <td>34</td>\n",
              "      <td>Male</td>\n",
              "    </tr>\n",
              "    <tr>\n",
              "      <th>7</th>\n",
              "      <td>24</td>\n",
              "      <td>Female</td>\n",
              "    </tr>\n",
              "    <tr>\n",
              "      <th>8</th>\n",
              "      <td>23</td>\n",
              "      <td>Male</td>\n",
              "    </tr>\n",
              "    <tr>\n",
              "      <th>9</th>\n",
              "      <td>36</td>\n",
              "      <td>NaN</td>\n",
              "    </tr>\n",
              "  </tbody>\n",
              "</table>\n",
              "</div>"
            ],
            "text/plain": [
              "   Age  Gender\n",
              "0   21    Male\n",
              "1   38    Male\n",
              "2   45     NaN\n",
              "3   46    Male\n",
              "4   39    Male\n",
              "5   39    Male\n",
              "6   34    Male\n",
              "7   24  Female\n",
              "8   23    Male\n",
              "9   36     NaN"
            ]
          },
          "metadata": {
            "tags": []
          },
          "execution_count": 21
        }
      ]
    },
    {
      "cell_type": "code",
      "metadata": {
        "id": "mDtfb0t_ILu1",
        "colab_type": "code",
        "outputId": "4656b645-0b9f-4671-c404-372e5eddf41b",
        "colab": {
          "base_uri": "https://localhost:8080/",
          "height": 419
        }
      },
      "source": [
        "sub_df.loc[:, sub_df.isnull().any()]"
      ],
      "execution_count": 0,
      "outputs": [
        {
          "output_type": "execute_result",
          "data": {
            "text/html": [
              "<div>\n",
              "<style scoped>\n",
              "    .dataframe tbody tr th:only-of-type {\n",
              "        vertical-align: middle;\n",
              "    }\n",
              "\n",
              "    .dataframe tbody tr th {\n",
              "        vertical-align: top;\n",
              "    }\n",
              "\n",
              "    .dataframe thead th {\n",
              "        text-align: right;\n",
              "    }\n",
              "</style>\n",
              "<table border=\"1\" class=\"dataframe\">\n",
              "  <thead>\n",
              "    <tr style=\"text-align: right;\">\n",
              "      <th></th>\n",
              "      <th>Gender</th>\n",
              "    </tr>\n",
              "  </thead>\n",
              "  <tbody>\n",
              "    <tr>\n",
              "      <th>0</th>\n",
              "      <td>Male</td>\n",
              "    </tr>\n",
              "    <tr>\n",
              "      <th>1</th>\n",
              "      <td>Male</td>\n",
              "    </tr>\n",
              "    <tr>\n",
              "      <th>2</th>\n",
              "      <td>NaN</td>\n",
              "    </tr>\n",
              "    <tr>\n",
              "      <th>3</th>\n",
              "      <td>Male</td>\n",
              "    </tr>\n",
              "    <tr>\n",
              "      <th>4</th>\n",
              "      <td>Male</td>\n",
              "    </tr>\n",
              "    <tr>\n",
              "      <th>...</th>\n",
              "      <td>...</td>\n",
              "    </tr>\n",
              "    <tr>\n",
              "      <th>994</th>\n",
              "      <td>Male</td>\n",
              "    </tr>\n",
              "    <tr>\n",
              "      <th>995</th>\n",
              "      <td>Male</td>\n",
              "    </tr>\n",
              "    <tr>\n",
              "      <th>996</th>\n",
              "      <td>Male</td>\n",
              "    </tr>\n",
              "    <tr>\n",
              "      <th>997</th>\n",
              "      <td>NaN</td>\n",
              "    </tr>\n",
              "    <tr>\n",
              "      <th>998</th>\n",
              "      <td>NaN</td>\n",
              "    </tr>\n",
              "  </tbody>\n",
              "</table>\n",
              "<p>999 rows × 1 columns</p>\n",
              "</div>"
            ],
            "text/plain": [
              "    Gender\n",
              "0     Male\n",
              "1     Male\n",
              "2      NaN\n",
              "3     Male\n",
              "4     Male\n",
              "..     ...\n",
              "994   Male\n",
              "995   Male\n",
              "996   Male\n",
              "997    NaN\n",
              "998    NaN\n",
              "\n",
              "[999 rows x 1 columns]"
            ]
          },
          "metadata": {
            "tags": []
          },
          "execution_count": 22
        }
      ]
    },
    {
      "cell_type": "code",
      "metadata": {
        "id": "uGrSbckMMFXs",
        "colab_type": "code",
        "outputId": "78a5e75c-1a2c-4954-9d36-d81492818f12",
        "colab": {
          "base_uri": "https://localhost:8080/",
          "height": 204
        }
      },
      "source": [
        "print(sub_df.head(10).isna())"
      ],
      "execution_count": 0,
      "outputs": [
        {
          "output_type": "stream",
          "text": [
            "     Age  Gender\n",
            "0  False   False\n",
            "1  False   False\n",
            "2  False    True\n",
            "3  False   False\n",
            "4  False   False\n",
            "5  False   False\n",
            "6  False   False\n",
            "7  False   False\n",
            "8  False   False\n",
            "9  False    True\n"
          ],
          "name": "stdout"
        }
      ]
    },
    {
      "cell_type": "code",
      "metadata": {
        "id": "2LT4GDNQMXsF",
        "colab_type": "code",
        "outputId": "234c8c32-94ce-4b0b-b5e7-eae3e889a261",
        "colab": {
          "base_uri": "https://localhost:8080/",
          "height": 204
        }
      },
      "source": [
        "print(sub_df.head(10).notnull())"
      ],
      "execution_count": 0,
      "outputs": [
        {
          "output_type": "stream",
          "text": [
            "    Age  Gender\n",
            "0  True    True\n",
            "1  True    True\n",
            "2  True   False\n",
            "3  True    True\n",
            "4  True    True\n",
            "5  True    True\n",
            "6  True    True\n",
            "7  True    True\n",
            "8  True    True\n",
            "9  True   False\n"
          ],
          "name": "stdout"
        }
      ]
    },
    {
      "cell_type": "markdown",
      "metadata": {
        "id": "CgR_uodEtS2o",
        "colab_type": "text"
      },
      "source": [
        "---\n",
        "### Listwise deletion\n",
        "---\n",
        "The simplest way to deal with missing values in our dataset when they are occurring entirely at random is to remove those rows, also called 'listwise deletion'.\n",
        "\n",
        "Depending on the use case, we will sometimes want to remove all missing values in our data while other times we may want to only remove a particular column if too many values are missing in that column."
      ]
    },
    {
      "cell_type": "markdown",
      "metadata": {
        "id": "kIioVg70H8fY",
        "colab_type": "text"
      },
      "source": [
        "Instructions:\n",
        "\n",
        "* Print the number of rows and columns in `so_survey_df`.\n",
        "* Drop all rows with missing values in `so_survey_df`.\n",
        "* Drop all columns with missing values in `so_survey_df`.\n",
        "* Drop all rows in `so_survey_df` where `Gender` is missing."
      ]
    },
    {
      "cell_type": "code",
      "metadata": {
        "id": "FB0bP8rMOXYI",
        "colab_type": "code",
        "outputId": "cbc54ccc-0118-4e90-c911-3e99330d45a4",
        "colab": {
          "base_uri": "https://localhost:8080/",
          "height": 34
        }
      },
      "source": [
        "so_survey_df.shape"
      ],
      "execution_count": 0,
      "outputs": [
        {
          "output_type": "execute_result",
          "data": {
            "text/plain": [
              "(999, 14)"
            ]
          },
          "metadata": {
            "tags": []
          },
          "execution_count": 25
        }
      ]
    },
    {
      "cell_type": "code",
      "metadata": {
        "id": "7ZanenQCPH4Z",
        "colab_type": "code",
        "outputId": "63079990-2847-4e27-bc6d-fca14e067af6",
        "colab": {
          "base_uri": "https://localhost:8080/",
          "height": 34
        }
      },
      "source": [
        "missing_rows = so_survey_df.dropna(axis=0)\n",
        "print(missing_rows.shape)"
      ],
      "execution_count": 0,
      "outputs": [
        {
          "output_type": "stream",
          "text": [
            "(264, 14)\n"
          ],
          "name": "stdout"
        }
      ]
    },
    {
      "cell_type": "code",
      "metadata": {
        "id": "40UTDbfAPSUK",
        "colab_type": "code",
        "outputId": "3209c6e9-bffc-47c6-f287-8344218ba269",
        "colab": {
          "base_uri": "https://localhost:8080/",
          "height": 34
        }
      },
      "source": [
        "missing_col = so_survey_df.dropna(axis=1)\n",
        "print(missing_col.shape)"
      ],
      "execution_count": 0,
      "outputs": [
        {
          "output_type": "stream",
          "text": [
            "(999, 8)\n"
          ],
          "name": "stdout"
        }
      ]
    },
    {
      "cell_type": "code",
      "metadata": {
        "id": "FpH5wIGDPex-",
        "colab_type": "code",
        "outputId": "0f99b2bc-661e-47e8-f6b8-f7d3f0fbd507",
        "colab": {
          "base_uri": "https://localhost:8080/",
          "height": 34
        }
      },
      "source": [
        "no_gender = so_survey_df.dropna(subset=['Gender'])\n",
        "\n",
        "no_gender.shape"
      ],
      "execution_count": 0,
      "outputs": [
        {
          "output_type": "execute_result",
          "data": {
            "text/plain": [
              "(693, 14)"
            ]
          },
          "metadata": {
            "tags": []
          },
          "execution_count": 28
        }
      ]
    },
    {
      "cell_type": "markdown",
      "metadata": {
        "id": "9C1H8JwhtxHU",
        "colab_type": "text"
      },
      "source": [
        "---\n",
        "### Replacing missing values with constants\n",
        "---\n",
        "While removing missing data entirely maybe a correct approach in many situations, this may result in a lot of information being omitted from your models.\n",
        "\n",
        "We may find categorical columns where the missing value is a valid piece of information in itself, such as someone refusing to answer a question in a survey. In these cases, we can fill all missing values with a new category entirely, for example 'No response given'."
      ]
    },
    {
      "cell_type": "markdown",
      "metadata": {
        "id": "cPq_Ae40IUnY",
        "colab_type": "text"
      },
      "source": [
        "Instructions:\n",
        "\n",
        "* Print the count of occurrences of each category in `so_survey_df`'s `Gender` column.\n",
        "* Replace all missing values in the `Gender` column with the string 'Not Given'. Make changes to the original DataFrame.\n",
        "* Print the count of occurrences of updated category in `so_survey_df`'s `Gender` column."
      ]
    },
    {
      "cell_type": "code",
      "metadata": {
        "id": "_ZSEprJBUipc",
        "colab_type": "code",
        "outputId": "6db9a14e-064b-4668-a6a7-355d3518fc51",
        "colab": {
          "base_uri": "https://localhost:8080/",
          "height": 170
        }
      },
      "source": [
        "so_survey_df.Gender.value_counts()"
      ],
      "execution_count": 0,
      "outputs": [
        {
          "output_type": "execute_result",
          "data": {
            "text/plain": [
              "Male                                                                         632\n",
              "Female                                                                        53\n",
              "Female;Male                                                                    2\n",
              "Transgender                                                                    2\n",
              "Female;Transgender                                                             1\n",
              "Non-binary. genderqueer. or gender non-conforming                              1\n",
              "Female;Male;Transgender;Non-binary. genderqueer. or gender non-conforming      1\n",
              "Male;Non-binary. genderqueer. or gender non-conforming                         1\n",
              "Name: Gender, dtype: int64"
            ]
          },
          "metadata": {
            "tags": []
          },
          "execution_count": 29
        }
      ]
    },
    {
      "cell_type": "code",
      "metadata": {
        "id": "AgEUgFnDYouZ",
        "colab_type": "code",
        "outputId": "4da640ff-9f5e-4340-d463-0f3035f874be",
        "colab": {
          "base_uri": "https://localhost:8080/",
          "height": 34
        }
      },
      "source": [
        "so_survey_df.Gender.isna().sum()"
      ],
      "execution_count": 0,
      "outputs": [
        {
          "output_type": "execute_result",
          "data": {
            "text/plain": [
              "306"
            ]
          },
          "metadata": {
            "tags": []
          },
          "execution_count": 30
        }
      ]
    },
    {
      "cell_type": "code",
      "metadata": {
        "id": "fPa1mSwiU7Xu",
        "colab_type": "code",
        "outputId": "2ae199ac-3792-4fc9-f820-d8e627363d43",
        "colab": {
          "base_uri": "https://localhost:8080/",
          "height": 187
        }
      },
      "source": [
        "so_survey_df['Gender'].fillna('Not given', inplace=True)\n",
        "so_survey_df.Gender.value_counts()"
      ],
      "execution_count": 0,
      "outputs": [
        {
          "output_type": "execute_result",
          "data": {
            "text/plain": [
              "Male                                                                         632\n",
              "Not given                                                                    306\n",
              "Female                                                                        53\n",
              "Female;Male                                                                    2\n",
              "Transgender                                                                    2\n",
              "Female;Transgender                                                             1\n",
              "Non-binary. genderqueer. or gender non-conforming                              1\n",
              "Female;Male;Transgender;Non-binary. genderqueer. or gender non-conforming      1\n",
              "Male;Non-binary. genderqueer. or gender non-conforming                         1\n",
              "Name: Gender, dtype: int64"
            ]
          },
          "metadata": {
            "tags": []
          },
          "execution_count": 31
        }
      ]
    },
    {
      "cell_type": "markdown",
      "metadata": {
        "id": "Rn2h-F8IuI0C",
        "colab_type": "text"
      },
      "source": [
        "---\n",
        "### Filling continuous missing values\n",
        "---\n",
        "Earlier, we dealt with different methods of removing data missing values and filling in missing values with a fixed string. These approaches are valid in many cases, particularly when dealing with categorical columns but have limited use when working with continuous values. In these cases, it may be most valid to fill the missing values in the column with a value calculated from the entries present in the column."
      ]
    },
    {
      "cell_type": "markdown",
      "metadata": {
        "id": "_S9YZ2GsIyLx",
        "colab_type": "text"
      },
      "source": [
        "Instructions:\n",
        "\n",
        "* Print the first five rows of the `StackOverflowJobsRecommend` column of `so_survey_df`.\n",
        "* Replace the missing values in the `StackOverflowJobsRecommend` column with its mean. Make changes directly to the original DataFrame.\n",
        "* Round the decimal values that we introduced in the `StackOverflowJobsRecommend` column."
      ]
    },
    {
      "cell_type": "code",
      "metadata": {
        "id": "ZIeznTUJZBm2",
        "colab_type": "code",
        "outputId": "ac7e0e04-4c84-41e1-a60c-53de56b575b7",
        "colab": {
          "base_uri": "https://localhost:8080/",
          "height": 119
        }
      },
      "source": [
        "so_survey_df.StackOverflowJobsRecommend.head(5)"
      ],
      "execution_count": 0,
      "outputs": [
        {
          "output_type": "execute_result",
          "data": {
            "text/plain": [
              "0    NaN\n",
              "1    7.0\n",
              "2    8.0\n",
              "3    NaN\n",
              "4    8.0\n",
              "Name: StackOverflowJobsRecommend, dtype: float64"
            ]
          },
          "metadata": {
            "tags": []
          },
          "execution_count": 32
        }
      ]
    },
    {
      "cell_type": "code",
      "metadata": {
        "id": "7XEx5jkUcJaN",
        "colab_type": "code",
        "outputId": "306c64b9-9280-44d2-af08-251a2259da11",
        "colab": {
          "base_uri": "https://localhost:8080/",
          "height": 119
        }
      },
      "source": [
        "so_survey_df.StackOverflowJobsRecommend = so_survey_df.StackOverflowJobsRecommend.fillna(np.mean(so_survey_df.StackOverflowJobsRecommend))\n",
        "so_survey_df.StackOverflowJobsRecommend.head(5)"
      ],
      "execution_count": 0,
      "outputs": [
        {
          "output_type": "execute_result",
          "data": {
            "text/plain": [
              "0    7.061602\n",
              "1    7.000000\n",
              "2    8.000000\n",
              "3    7.061602\n",
              "4    8.000000\n",
              "Name: StackOverflowJobsRecommend, dtype: float64"
            ]
          },
          "metadata": {
            "tags": []
          },
          "execution_count": 33
        }
      ]
    },
    {
      "cell_type": "code",
      "metadata": {
        "id": "0qLHdrwIc8VA",
        "colab_type": "code",
        "outputId": "7edc8152-c606-4e72-96ef-a787ed1094b5",
        "colab": {
          "base_uri": "https://localhost:8080/",
          "height": 119
        }
      },
      "source": [
        "so_survey_df.StackOverflowJobsRecommend = np.round(so_survey_df.StackOverflowJobsRecommend, decimals=2)\n",
        "so_survey_df.StackOverflowJobsRecommend.head(5)"
      ],
      "execution_count": 0,
      "outputs": [
        {
          "output_type": "execute_result",
          "data": {
            "text/plain": [
              "0    7.06\n",
              "1    7.00\n",
              "2    8.00\n",
              "3    7.06\n",
              "4    8.00\n",
              "Name: StackOverflowJobsRecommend, dtype: float64"
            ]
          },
          "metadata": {
            "tags": []
          },
          "execution_count": 34
        }
      ]
    },
    {
      "cell_type": "markdown",
      "metadata": {
        "id": "SKcC12f0vCuh",
        "colab_type": "text"
      },
      "source": [
        "---\n",
        "### Dealing with stray characters (I)\n",
        "---\n",
        "In this exercise, we will work with the `RawSalary` column of so_survey_df which contains the wages of the respondents along with the currency symbols and commas, such as $42,000. When importing data from Microsoft Excel, more often that not we will come across data in this form."
      ]
    },
    {
      "cell_type": "markdown",
      "metadata": {
        "id": "tz0CGSQkJI03",
        "colab_type": "text"
      },
      "source": [
        "Instructions:\n",
        "\n",
        "* Remove the commas (,) from the `RawSalary` column.\n",
        "* Remove the dollar ($) signs from the `RawSalary` column.\n",
        "* Print the first five rows of updated `RawSalary` column. "
      ]
    },
    {
      "cell_type": "code",
      "metadata": {
        "id": "ztrDlTkpdj9-",
        "colab_type": "code",
        "outputId": "6173b5c9-1adf-4304-fd72-67764f20569d",
        "colab": {
          "base_uri": "https://localhost:8080/",
          "height": 204
        }
      },
      "source": [
        "so_survey_df.RawSalary=so_survey_df.RawSalary.str.replace(',','')\n",
        "so_survey_df.RawSalary=so_survey_df.RawSalary.str.replace('$','')\n",
        "\n",
        "print(so_survey_df.RawSalary.head(10))"
      ],
      "execution_count": 0,
      "outputs": [
        {
          "output_type": "stream",
          "text": [
            "0          NaN\n",
            "1     70841.00\n",
            "2          NaN\n",
            "3     21426.00\n",
            "4    £41671.00\n",
            "5    120000.00\n",
            "6          NaN\n",
            "7    250000.00\n",
            "8          NaN\n",
            "9         0.00\n",
            "Name: RawSalary, dtype: object\n"
          ],
          "name": "stdout"
        }
      ]
    },
    {
      "cell_type": "markdown",
      "metadata": {
        "id": "UpayqY5IwMBl",
        "colab_type": "text"
      },
      "source": [
        "---\n",
        "### Dealing with stray characters (II)\n",
        "---\n",
        "In the last exercise, we could tell quickly based off of the `df.head()` call which characters were causing an issue. In many cases this will not be so apparent. There will often be values deep within a column that are preventing us from casting a column as a numeric type so that it can be used in a model or further feature engineering.\n",
        "\n",
        "One approach to finding these values is to force the column to the data type desired using `pd.to_numeric()`, coercing any values causing issues to `NaN`, Then filtering the DataFrame by just the rows containing the `NaN` values.\n",
        "\n",
        "Try to cast the `RawSalary` column as a float and it will fail as an additional character can now be found in it. Find the character and remove it so the column can be cast as a float."
      ]
    },
    {
      "cell_type": "markdown",
      "metadata": {
        "id": "Z7Duf4v7JpPv",
        "colab_type": "text"
      },
      "source": [
        "Instructions:\n",
        "\n",
        "* Attempt to convert the `RawSalary` column of `so_survey_df` to numeric values coercing all failures into null values.\n",
        "* Find the indexes of the rows containing `NaN`s.\n",
        "* Print the rows in `RawSalary` based on these indexes."
      ]
    },
    {
      "cell_type": "code",
      "metadata": {
        "id": "AYuh53vbv5_d",
        "colab_type": "code",
        "outputId": "d7f9a119-7c3f-4c38-dcb5-754af2df9fc5",
        "colab": {
          "base_uri": "https://localhost:8080/",
          "height": 221
        }
      },
      "source": [
        "# Attempt to convert the column to numeric values\n",
        "numeric_vals = pd.to_numeric(so_survey_df['RawSalary'], errors='coerce')\n",
        "\n",
        "index = numeric_vals.isna()\n",
        "print(so_survey_df['RawSalary'][index])"
      ],
      "execution_count": 0,
      "outputs": [
        {
          "output_type": "stream",
          "text": [
            "0            NaN\n",
            "2            NaN\n",
            "4      £41671.00\n",
            "6            NaN\n",
            "8            NaN\n",
            "         ...    \n",
            "989          NaN\n",
            "990          NaN\n",
            "992          NaN\n",
            "994          NaN\n",
            "997          NaN\n",
            "Name: RawSalary, Length: 401, dtype: object\n"
          ],
          "name": "stdout"
        }
      ]
    },
    {
      "cell_type": "markdown",
      "metadata": {
        "id": "vyllnJ5NKEwy",
        "colab_type": "text"
      },
      "source": [
        "Instructions:\n",
        "\n",
        "* Did you notice the pound (£) signs in the `RawSalary` column? Remove these signs like we did in the previous exercise."
      ]
    },
    {
      "cell_type": "code",
      "metadata": {
        "id": "ggnmk4YNsdTG",
        "colab_type": "code",
        "outputId": "eaf5faef-e5b4-4e5f-cd39-206e327df34e",
        "colab": {
          "base_uri": "https://localhost:8080/",
          "height": 204
        }
      },
      "source": [
        "so_survey_df.RawSalary=so_survey_df.RawSalary.str.replace('£','')\n",
        "\n",
        "print(so_survey_df.RawSalary.head(10))"
      ],
      "execution_count": 0,
      "outputs": [
        {
          "output_type": "stream",
          "text": [
            "0          NaN\n",
            "1     70841.00\n",
            "2          NaN\n",
            "3     21426.00\n",
            "4     41671.00\n",
            "5    120000.00\n",
            "6          NaN\n",
            "7    250000.00\n",
            "8          NaN\n",
            "9         0.00\n",
            "Name: RawSalary, dtype: object\n"
          ],
          "name": "stdout"
        }
      ]
    },
    {
      "cell_type": "markdown",
      "metadata": {
        "id": "feXhsa94wtBz",
        "colab_type": "text"
      },
      "source": [
        "---\n",
        "### Method chaining\n",
        "---\n",
        "When applying multiple operations on the same column (like in the previous exercises), you made the changes in several steps, assigning the results back in each step. However, when applying multiple successive operations on the same column, you can \"chain\" these operations together for clarity and ease of management. This can be achieved by calling multiple methods sequentially:\n",
        "```\n",
        "# Method chaining\n",
        "df['column'] = df['column'].method1().method2().method3()\n",
        "\n",
        "# Same as \n",
        "df['column'] = df['column'].method1()\n",
        "df['column'] = df['column'].method2()\n",
        "df['column'] = df['column'].method3()\n",
        "```"
      ]
    },
    {
      "cell_type": "markdown",
      "metadata": {
        "id": "yo-JUG77KTRi",
        "colab_type": "text"
      },
      "source": [
        "Instructions:\n",
        "\n",
        "* Remove the commas (`,`) from the `RawSalary` column of `so_survey_df`.\n",
        "* Remove the dollar (`$`) signs from the `RawSalary` column.\n",
        "* Remove the pound (`£`) signs from the `RawSalary` column.\n",
        "* Convert the `RawSalary` column to float."
      ]
    },
    {
      "cell_type": "code",
      "metadata": {
        "id": "-TKib3UjtDDE",
        "colab_type": "code",
        "outputId": "e63819a9-249f-44de-fa8a-3a65b61ea4c7",
        "colab": {
          "base_uri": "https://localhost:8080/",
          "height": 119
        }
      },
      "source": [
        "so_survey_df['RawSalary'] = so_survey_df['RawSalary'].str.replace(',','').str.replace('$','').str.replace('£','').astype(float)\n",
        "so_survey_df['RawSalary'].head(5)"
      ],
      "execution_count": 0,
      "outputs": [
        {
          "output_type": "execute_result",
          "data": {
            "text/plain": [
              "0        NaN\n",
              "1    70841.0\n",
              "2        NaN\n",
              "3    21426.0\n",
              "4    41671.0\n",
              "Name: RawSalary, dtype: float64"
            ]
          },
          "metadata": {
            "tags": []
          },
          "execution_count": 38
        }
      ]
    },
    {
      "cell_type": "markdown",
      "metadata": {
        "id": "CqpCNv72Kl_1",
        "colab_type": "text"
      },
      "source": [
        "## Conforming to Statistical Assumptions\n",
        "---"
      ]
    },
    {
      "cell_type": "markdown",
      "metadata": {
        "id": "hYwlN2FyyBml",
        "colab_type": "text"
      },
      "source": [
        "---\n",
        "### What does your data look like?\n",
        "---\n",
        "Up until now we have focused on creating new features and dealing with issues in our data. Feature engineering can also be used to make the most out of the data that we already have and use it more effectively when creating machine learning models.\n",
        "Many algorithms may assume that our data is normally distributed, or at least that all our columns are on the same scale. This will often not be the case, e.g. one feature may be measured in thousands of dollars while another would be number of years. In this exercise, we will create plots to examine the distributions of some numeric columns in the `so_survey_df` DataFrame. "
      ]
    },
    {
      "cell_type": "code",
      "metadata": {
        "id": "LHMvrvwxyTQu",
        "colab_type": "code",
        "colab": {}
      },
      "source": [
        "so_numeric_df = so_survey_df[['ConvertedSalary', 'Age', 'Years Experience']]"
      ],
      "execution_count": 0,
      "outputs": []
    },
    {
      "cell_type": "markdown",
      "metadata": {
        "id": "i8Ch5slQy6B-",
        "colab_type": "text"
      },
      "source": [
        "Instructions:\n",
        "\n",
        "* Generate a histogram of all columns in the `so_numeric_df` DataFrame.\n",
        "* Generate box plots of the `Age` and `Years Experience` columns in the `so_numeric_df` DataFrame.\n",
        "* Generate a box plot of the `ConvertedSalary` column in the `so_numeric_df`.\n",
        "* Plot pairwise relationships (using `sns.pairplot`) in the `so_numeric_df`."
      ]
    },
    {
      "cell_type": "code",
      "metadata": {
        "id": "Zw8VPt-MwLWV",
        "colab_type": "code",
        "outputId": "b05851cf-d2b0-4bae-afa0-8f6f125e23e1",
        "colab": {
          "base_uri": "https://localhost:8080/",
          "height": 608
        }
      },
      "source": [
        "\n",
        "so_numeric_df.hist(figsize=(10,10))\n",
        "plt.show()"
      ],
      "execution_count": 0,
      "outputs": [
        {
          "output_type": "display_data",
          "data": {
            "image/png": "[encoded data removed]",
            "text/plain": [
              "<Figure size 720x720 with 4 Axes>"
            ]
          },
          "metadata": {
            "tags": [],
            "needs_background": "light"
          }
        }
      ]
    },
    {
      "cell_type": "code",
      "metadata": {
        "id": "mg0GBYCkw2En",
        "colab_type": "code",
        "outputId": "c08bd29b-8fba-4f3a-fdd6-cd53e449ab0b",
        "colab": {
          "base_uri": "https://localhost:8080/",
          "height": 265
        }
      },
      "source": [
        "so_numeric_df[['Age', 'Years Experience']].boxplot()\n",
        "plt.show()"
      ],
      "execution_count": 0,
      "outputs": [
        {
          "output_type": "display_data",
          "data": {
            "image/png": "[encoded data removed]",
            "text/plain": [
              "<Figure size 432x288 with 1 Axes>"
            ]
          },
          "metadata": {
            "tags": [],
            "needs_background": "light"
          }
        }
      ]
    },
    {
      "cell_type": "code",
      "metadata": {
        "id": "sQ__EKHc0bKr",
        "colab_type": "code",
        "outputId": "8df17810-c0d3-4def-8414-e5deda86635a",
        "colab": {
          "base_uri": "https://localhost:8080/",
          "height": 276
        }
      },
      "source": [
        "so_numeric_df[['ConvertedSalary']].boxplot()\n",
        "plt.show()"
      ],
      "execution_count": 0,
      "outputs": [
        {
          "output_type": "display_data",
          "data": {
            "image/png": "[encoded data removed]",
            "text/plain": [
              "<Figure size 432x288 with 1 Axes>"
            ]
          },
          "metadata": {
            "tags": [],
            "needs_background": "light"
          }
        }
      ]
    },
    {
      "cell_type": "code",
      "metadata": {
        "id": "plUzYyVV1BF8",
        "colab_type": "code",
        "outputId": "350f21a9-49b4-4f7f-e90c-1bbd153bf776",
        "colab": {
          "base_uri": "https://localhost:8080/",
          "height": 578
        }
      },
      "source": [
        "sns.pairplot(so_numeric_df)\n",
        "plt.show()"
      ],
      "execution_count": 0,
      "outputs": [
        {
          "output_type": "display_data",
          "data": {
            "image/png": "[encoded data removed]",
            "text/plain": [
              "<Figure size 540x540 with 12 Axes>"
            ]
          },
          "metadata": {
            "tags": [],
            "needs_background": "light"
          }
        }
      ]
    },
    {
      "cell_type": "markdown",
      "metadata": {
        "id": "op7uFM-70CW5",
        "colab_type": "text"
      },
      "source": [
        "---\n",
        "### Normalization\n",
        "---\n",
        "In normalization we linearly scale the entire column between 0 and 1, with 0 corresponding with the lowest value in the column, and 1 with the largest. When using scikit-learn (the most commonly used machine learning library in Python) we can use a `MinMaxScaler` to apply normalization. (It is called this as it scales our values between a minimum and maximum value.)"
      ]
    },
    {
      "cell_type": "markdown",
      "metadata": {
        "id": "ME9djjbu0K83",
        "colab_type": "text"
      },
      "source": [
        "Instructions:\n",
        "\n",
        "* Fit the `MinMaxScaler` on the `Age` column of `so_numeric_df`.\n",
        "* Transform the same column with the scaler you just fit."
      ]
    },
    {
      "cell_type": "code",
      "metadata": {
        "id": "jNgwBJRp0Zgl",
        "colab_type": "code",
        "colab": {}
      },
      "source": [
        "# Import MinMaxScaler\n",
        "from sklearn.preprocessing import MinMaxScaler"
      ],
      "execution_count": 0,
      "outputs": []
    },
    {
      "cell_type": "code",
      "metadata": {
        "id": "iYeEJLVQ0HCU",
        "colab_type": "code",
        "colab": {}
      },
      "source": [
        "# Instantiate MinMaxScaler\n",
        "MM_scaler = MinMaxScaler()"
      ],
      "execution_count": 0,
      "outputs": []
    },
    {
      "cell_type": "code",
      "metadata": {
        "id": "5kDUmb061ZJv",
        "colab_type": "code",
        "outputId": "53ed7050-07a5-4e3f-9ead-d46a5f0d4bf9",
        "colab": {
          "base_uri": "https://localhost:8080/",
          "height": 221
        }
      },
      "source": [
        "MM_scaler.fit(so_numeric_df[['Age']])\n",
        "so_numeric_df['Age_MM'] = MM_scaler.transform(so_numeric_df[['Age']])\n",
        "print(so_numeric_df[['Age','Age_MM']].head(5))"
      ],
      "execution_count": 0,
      "outputs": [
        {
          "output_type": "stream",
          "text": [
            "   Age    Age_MM\n",
            "0   21  0.046154\n",
            "1   38  0.307692\n",
            "2   45  0.415385\n",
            "3   46  0.430769\n",
            "4   39  0.323077\n"
          ],
          "name": "stdout"
        },
        {
          "output_type": "stream",
          "text": [
            "/usr/local/lib/python3.6/dist-packages/ipykernel_launcher.py:2: SettingWithCopyWarning: \n",
            "A value is trying to be set on a copy of a slice from a DataFrame.\n",
            "Try using .loc[row_indexer,col_indexer] = value instead\n",
            "\n",
            "See the caveats in the documentation: https://pandas.pydata.org/pandas-docs/stable/user_guide/indexing.html#returning-a-view-versus-a-copy\n",
            "  \n"
          ],
          "name": "stderr"
        }
      ]
    },
    {
      "cell_type": "markdown",
      "metadata": {
        "id": "lBKJrNv60m2p",
        "colab_type": "text"
      },
      "source": [
        "---\n",
        "### Standardization\n",
        "---\n",
        "While normalization can be useful for scaling a column between two data points, it is hard to compare two scaled columns if even one of them is overly affected by outliers. One commonly used solution to this is called standardization, where instead of having a strict upper and lower bound, you center the data around its mean, and calculate the number of standard deviations away from mean each data point is."
      ]
    },
    {
      "cell_type": "markdown",
      "metadata": {
        "id": "gFyXLW3v0rU9",
        "colab_type": "text"
      },
      "source": [
        "Instructions:\n",
        "\n",
        "* Fit the `StandardScaler` on the `Age` column of `so_numeric_df`.\n",
        "* Transform the same column with the scaler we just fit."
      ]
    },
    {
      "cell_type": "code",
      "metadata": {
        "id": "TL8N_V9n03jy",
        "colab_type": "code",
        "colab": {}
      },
      "source": [
        "# Import StandardScaler\n",
        "from sklearn.preprocessing import StandardScaler"
      ],
      "execution_count": 0,
      "outputs": []
    },
    {
      "cell_type": "code",
      "metadata": {
        "id": "lOoRs_vR0qmJ",
        "colab_type": "code",
        "outputId": "414ccc40-be19-4ae5-a519-006f4961653a",
        "colab": {
          "base_uri": "https://localhost:8080/",
          "height": 221
        }
      },
      "source": [
        "# Instantiate StandardScaler\n",
        "SS_scaler = StandardScaler()\n",
        "SS_scaler.fit(so_numeric_df[['Age']])\n",
        "so_numeric_df['Age_MM'] = SS_scaler.transform(so_numeric_df[['Age']])\n",
        "print(so_numeric_df[['Age','Age_MM']].head(5))"
      ],
      "execution_count": 0,
      "outputs": [
        {
          "output_type": "stream",
          "text": [
            "   Age    Age_MM\n",
            "0   21 -1.132431\n",
            "1   38  0.150734\n",
            "2   45  0.679096\n",
            "3   46  0.754576\n",
            "4   39  0.226214\n"
          ],
          "name": "stdout"
        },
        {
          "output_type": "stream",
          "text": [
            "/usr/local/lib/python3.6/dist-packages/ipykernel_launcher.py:4: SettingWithCopyWarning: \n",
            "A value is trying to be set on a copy of a slice from a DataFrame.\n",
            "Try using .loc[row_indexer,col_indexer] = value instead\n",
            "\n",
            "See the caveats in the documentation: https://pandas.pydata.org/pandas-docs/stable/user_guide/indexing.html#returning-a-view-versus-a-copy\n",
            "  after removing the cwd from sys.path.\n"
          ],
          "name": "stderr"
        }
      ]
    },
    {
      "cell_type": "markdown",
      "metadata": {
        "id": "QLntVWcp1aZ1",
        "colab_type": "text"
      },
      "source": [
        "---\n",
        "### Log transformation\n",
        "---\n",
        "In the previous exercises we scaled the data linearly, which will not affect the data's shape. This works great if our data is normally distributed (or closely normally distributed), an assumption that a lot of machine learning models make. Sometimes we will work with data that closely conforms to normality, e.g the height or weight of a population. On the other hand, many variables in the real world do not follow this pattern e.g, wages or age of a population. \n",
        "\n",
        "Now, we will use a log transform on the `ConvertedSalary` column in the `so_numeric_df` DataFrame as it has a large amount of its data centered around the lower values, but contains very high values also. These distributions are said to have a long right tail."
      ]
    },
    {
      "cell_type": "markdown",
      "metadata": {
        "id": "NMQB-F4e1lMK",
        "colab_type": "text"
      },
      "source": [
        "Instructions:\n",
        "\n",
        "* Fit the `PowerTransformer` on the `ConvertedSalary` column of `so_numeric_df`.\n",
        "* Transform the same column with the scaler we just fit."
      ]
    },
    {
      "cell_type": "code",
      "metadata": {
        "id": "N95T8tjM1h5A",
        "colab_type": "code",
        "colab": {}
      },
      "source": [
        "# Import PowerTransformer\n",
        "from sklearn.preprocessing import PowerTransformer"
      ],
      "execution_count": 0,
      "outputs": []
    },
    {
      "cell_type": "code",
      "metadata": {
        "id": "9CNzVVOg1ueY",
        "colab_type": "code",
        "outputId": "75046643-dc9c-4f1c-f47e-15ae26963000",
        "colab": {
          "base_uri": "https://localhost:8080/",
          "height": 221
        }
      },
      "source": [
        "# Instantiate PowerTransformer\n",
        "pow_trans = PowerTransformer()\n",
        "\n",
        "pow_trans.fit(so_numeric_df[['ConvertedSalary']])\n",
        "\n",
        "so_numeric_df['ConvertedSalary_MM'] = pow_trans.transform(so_numeric_df[['ConvertedSalary']])\n",
        "\n",
        "print(so_numeric_df[['ConvertedSalary','ConvertedSalary_MM']].head(5))"
      ],
      "execution_count": 0,
      "outputs": [
        {
          "output_type": "stream",
          "text": [
            "   ConvertedSalary  ConvertedSalary_MM\n",
            "0              NaN                 NaN\n",
            "1          70841.0            0.312939\n",
            "2              NaN                 NaN\n",
            "3          21426.0           -0.652182\n",
            "4          41671.0           -0.135589\n"
          ],
          "name": "stdout"
        },
        {
          "output_type": "stream",
          "text": [
            "/usr/local/lib/python3.6/dist-packages/ipykernel_launcher.py:6: SettingWithCopyWarning: \n",
            "A value is trying to be set on a copy of a slice from a DataFrame.\n",
            "Try using .loc[row_indexer,col_indexer] = value instead\n",
            "\n",
            "See the caveats in the documentation: https://pandas.pydata.org/pandas-docs/stable/user_guide/indexing.html#returning-a-view-versus-a-copy\n",
            "  \n"
          ],
          "name": "stderr"
        }
      ]
    },
    {
      "cell_type": "code",
      "metadata": {
        "id": "WTMn-Kwa6TaD",
        "colab_type": "code",
        "outputId": "2a06a0b9-57e0-4853-f462-7d3b4e676b69",
        "colab": {
          "base_uri": "https://localhost:8080/",
          "height": 294
        }
      },
      "source": [
        "so_numeric_df[['ConvertedSalary','ConvertedSalary_MM']].hist()\n",
        "plt.show()"
      ],
      "execution_count": 0,
      "outputs": [
        {
          "output_type": "display_data",
          "data": {
            "image/png": "[encoded data removed]",
            "text/plain": [
              "<Figure size 432x288 with 2 Axes>"
            ]
          },
          "metadata": {
            "tags": [],
            "needs_background": "light"
          }
        }
      ]
    },
    {
      "cell_type": "markdown",
      "metadata": {
        "id": "VhlDOrtb18uG",
        "colab_type": "text"
      },
      "source": [
        "---\n",
        "### Percentage based outlier removal\n",
        "---\n",
        "One way to ensure a small portion of data is not having an overly adverse effect is by removing a certain percentage of the largest and/or smallest values in the column. This can be achieved by finding the relevant quantile and trimming the data using it with a mask. This approach is particularly useful if we are concerned that the highest values in our dataset should be avoided. When using this approach, we must remember that even if there are no outliers, this will still remove the same top N percentage from the dataset."
      ]
    },
    {
      "cell_type": "markdown",
      "metadata": {
        "id": "AhiOqx-v2CFB",
        "colab_type": "text"
      },
      "source": [
        "Instructions:\n",
        "\n",
        "* Find the 95th quantile of the `ConvertedSalary` column in `so_numeric_df` DataFrame.\n",
        "* Trim the `so_numeric_df` DataFrame to retain all rows where `ConvertedSalary` is less than it's 95th quantile and store this as `trimmed_df`.\n",
        "* Plot the histogram of `so_numeric_df[['ConvertedSalary']]`.\n",
        "* Plot the histogram of `trimmed_df[['ConvertedSalary']]`"
      ]
    },
    {
      "cell_type": "code",
      "metadata": {
        "id": "G1_-eGVu1_JA",
        "colab_type": "code",
        "outputId": "cb979384-eced-4cd6-b88e-b1e13034172c",
        "colab": {
          "base_uri": "https://localhost:8080/",
          "height": 34
        }
      },
      "source": [
        "# Find the 95th quantile\n",
        "\n",
        "quantile = so_numeric_df['ConvertedSalary'].quantile(0.95)\n",
        "quantile"
      ],
      "execution_count": 0,
      "outputs": [
        {
          "output_type": "execute_result",
          "data": {
            "text/plain": [
              "174268.59999999986"
            ]
          },
          "metadata": {
            "tags": []
          },
          "execution_count": 52
        }
      ]
    },
    {
      "cell_type": "code",
      "metadata": {
        "id": "Mhu_Vn_-WvcQ",
        "colab_type": "code",
        "outputId": "3cdbea1a-27b1-4584-c109-9f5e4c0da1b7",
        "colab": {
          "base_uri": "https://localhost:8080/",
          "height": 419
        }
      },
      "source": [
        "trimmed_df = so_numeric_df[so_numeric_df['ConvertedSalary']<quantile]\n",
        "trimmed_df"
      ],
      "execution_count": 0,
      "outputs": [
        {
          "output_type": "execute_result",
          "data": {
            "text/html": [
              "<div>\n",
              "<style scoped>\n",
              "    .dataframe tbody tr th:only-of-type {\n",
              "        vertical-align: middle;\n",
              "    }\n",
              "\n",
              "    .dataframe tbody tr th {\n",
              "        vertical-align: top;\n",
              "    }\n",
              "\n",
              "    .dataframe thead th {\n",
              "        text-align: right;\n",
              "    }\n",
              "</style>\n",
              "<table border=\"1\" class=\"dataframe\">\n",
              "  <thead>\n",
              "    <tr style=\"text-align: right;\">\n",
              "      <th></th>\n",
              "      <th>ConvertedSalary</th>\n",
              "      <th>Age</th>\n",
              "      <th>Years Experience</th>\n",
              "      <th>Age_MM</th>\n",
              "      <th>ConvertedSalary_MM</th>\n",
              "    </tr>\n",
              "  </thead>\n",
              "  <tbody>\n",
              "    <tr>\n",
              "      <th>1</th>\n",
              "      <td>70841.0</td>\n",
              "      <td>38</td>\n",
              "      <td>9</td>\n",
              "      <td>0.150734</td>\n",
              "      <td>0.312939</td>\n",
              "    </tr>\n",
              "    <tr>\n",
              "      <th>3</th>\n",
              "      <td>21426.0</td>\n",
              "      <td>46</td>\n",
              "      <td>12</td>\n",
              "      <td>0.754576</td>\n",
              "      <td>-0.652182</td>\n",
              "    </tr>\n",
              "    <tr>\n",
              "      <th>4</th>\n",
              "      <td>41671.0</td>\n",
              "      <td>39</td>\n",
              "      <td>7</td>\n",
              "      <td>0.226214</td>\n",
              "      <td>-0.135589</td>\n",
              "    </tr>\n",
              "    <tr>\n",
              "      <th>5</th>\n",
              "      <td>120000.0</td>\n",
              "      <td>39</td>\n",
              "      <td>2</td>\n",
              "      <td>0.226214</td>\n",
              "      <td>0.793168</td>\n",
              "    </tr>\n",
              "    <tr>\n",
              "      <th>9</th>\n",
              "      <td>0.0</td>\n",
              "      <td>36</td>\n",
              "      <td>2</td>\n",
              "      <td>-0.000227</td>\n",
              "      <td>-4.602944</td>\n",
              "    </tr>\n",
              "    <tr>\n",
              "      <th>...</th>\n",
              "      <td>...</td>\n",
              "      <td>...</td>\n",
              "      <td>...</td>\n",
              "      <td>...</td>\n",
              "      <td>...</td>\n",
              "    </tr>\n",
              "    <tr>\n",
              "      <th>988</th>\n",
              "      <td>50448.0</td>\n",
              "      <td>18</td>\n",
              "      <td>4</td>\n",
              "      <td>-1.358872</td>\n",
              "      <td>0.022095</td>\n",
              "    </tr>\n",
              "    <tr>\n",
              "      <th>991</th>\n",
              "      <td>55562.0</td>\n",
              "      <td>34</td>\n",
              "      <td>1</td>\n",
              "      <td>-0.151187</td>\n",
              "      <td>0.103394</td>\n",
              "    </tr>\n",
              "    <tr>\n",
              "      <th>993</th>\n",
              "      <td>30000.0</td>\n",
              "      <td>28</td>\n",
              "      <td>5</td>\n",
              "      <td>-0.604069</td>\n",
              "      <td>-0.396882</td>\n",
              "    </tr>\n",
              "    <tr>\n",
              "      <th>995</th>\n",
              "      <td>58746.0</td>\n",
              "      <td>27</td>\n",
              "      <td>16</td>\n",
              "      <td>-0.679549</td>\n",
              "      <td>0.150821</td>\n",
              "    </tr>\n",
              "    <tr>\n",
              "      <th>996</th>\n",
              "      <td>55000.0</td>\n",
              "      <td>54</td>\n",
              "      <td>16</td>\n",
              "      <td>1.358419</td>\n",
              "      <td>0.094781</td>\n",
              "    </tr>\n",
              "  </tbody>\n",
              "</table>\n",
              "<p>631 rows × 5 columns</p>\n",
              "</div>"
            ],
            "text/plain": [
              "     ConvertedSalary  Age  Years Experience    Age_MM  ConvertedSalary_MM\n",
              "1            70841.0   38                 9  0.150734            0.312939\n",
              "3            21426.0   46                12  0.754576           -0.652182\n",
              "4            41671.0   39                 7  0.226214           -0.135589\n",
              "5           120000.0   39                 2  0.226214            0.793168\n",
              "9                0.0   36                 2 -0.000227           -4.602944\n",
              "..               ...  ...               ...       ...                 ...\n",
              "988          50448.0   18                 4 -1.358872            0.022095\n",
              "991          55562.0   34                 1 -0.151187            0.103394\n",
              "993          30000.0   28                 5 -0.604069           -0.396882\n",
              "995          58746.0   27                16 -0.679549            0.150821\n",
              "996          55000.0   54                16  1.358419            0.094781\n",
              "\n",
              "[631 rows x 5 columns]"
            ]
          },
          "metadata": {
            "tags": []
          },
          "execution_count": 53
        }
      ]
    },
    {
      "cell_type": "code",
      "metadata": {
        "id": "wvFjKwsUQvEZ",
        "colab_type": "code",
        "outputId": "88ff4436-9b34-485d-cded-a8f63f1ccae5",
        "colab": {
          "base_uri": "https://localhost:8080/",
          "height": 294
        }
      },
      "source": [
        "so_numeric_df[['ConvertedSalary']].hist()\n",
        "plt.show()"
      ],
      "execution_count": 0,
      "outputs": [
        {
          "output_type": "display_data",
          "data": {
            "image/png": "[encoded data removed]",
            "text/plain": [
              "<Figure size 432x288 with 1 Axes>"
            ]
          },
          "metadata": {
            "tags": [],
            "needs_background": "light"
          }
        }
      ]
    },
    {
      "cell_type": "code",
      "metadata": {
        "id": "Xt8cA1ePW7jG",
        "colab_type": "code",
        "outputId": "9097c939-695f-4aa7-b22f-77b215dfc358",
        "colab": {
          "base_uri": "https://localhost:8080/",
          "height": 281
        }
      },
      "source": [
        "trimmed_df[['ConvertedSalary']].hist()\n",
        "plt.show()"
      ],
      "execution_count": 0,
      "outputs": [
        {
          "output_type": "display_data",
          "data": {
            "image/png": "[encoded data removed]",
            "text/plain": [
              "<Figure size 432x288 with 1 Axes>"
            ]
          },
          "metadata": {
            "tags": [],
            "needs_background": "light"
          }
        }
      ]
    },
    {
      "cell_type": "markdown",
      "metadata": {
        "id": "Lgva617FNqZy",
        "colab_type": "text"
      },
      "source": [
        "## Dealing with Text Data\n",
        "---"
      ]
    },
    {
      "cell_type": "markdown",
      "metadata": {
        "id": "IuHUqVR03PJV",
        "colab_type": "text"
      },
      "source": [
        "---\n",
        "### Cleaning up your text\n",
        "---\n",
        "Unstructured text data cannot be directly used in most analyses. Multiple steps need to be taken to go from a long free form string to a set of numeric columns in the right format that can be ingested by a machine learning model. The first step of this process is to standardize the data and eliminate any characters that could cause problems later on in your analytic pipeline.\n",
        "\n",
        "Here, we will be working with a new dataset containing the inaugural speeches of the presidents of the United States loaded as `speech_df`, with the speeches stored in the `text` column."
      ]
    },
    {
      "cell_type": "code",
      "metadata": {
        "id": "dFmYNs7W3hYj",
        "colab_type": "code",
        "outputId": "94a291ae-683a-45a7-c732-241c86c9e3c6",
        "colab": {
          "base_uri": "https://localhost:8080/",
          "height": 204
        }
      },
      "source": [
        "speech_df = pd.read_csv('https://raw.githubusercontent.com/shala2020/shala2020.github.io/master/Lecture_Materials/Assignments/MachineLearning/L6/inaugural_speeches.csv')\n",
        "speech_df.head()"
      ],
      "execution_count": 0,
      "outputs": [
        {
          "output_type": "execute_result",
          "data": {
            "text/html": [
              "<div>\n",
              "<style scoped>\n",
              "    .dataframe tbody tr th:only-of-type {\n",
              "        vertical-align: middle;\n",
              "    }\n",
              "\n",
              "    .dataframe tbody tr th {\n",
              "        vertical-align: top;\n",
              "    }\n",
              "\n",
              "    .dataframe thead th {\n",
              "        text-align: right;\n",
              "    }\n",
              "</style>\n",
              "<table border=\"1\" class=\"dataframe\">\n",
              "  <thead>\n",
              "    <tr style=\"text-align: right;\">\n",
              "      <th></th>\n",
              "      <th>Name</th>\n",
              "      <th>Inaugural Address</th>\n",
              "      <th>Date</th>\n",
              "      <th>text</th>\n",
              "    </tr>\n",
              "  </thead>\n",
              "  <tbody>\n",
              "    <tr>\n",
              "      <th>0</th>\n",
              "      <td>George Washington</td>\n",
              "      <td>First Inaugural Address</td>\n",
              "      <td>Thursday, April 30, 1789</td>\n",
              "      <td>Fellow-Citizens of the Senate and of the House...</td>\n",
              "    </tr>\n",
              "    <tr>\n",
              "      <th>1</th>\n",
              "      <td>George Washington</td>\n",
              "      <td>Second Inaugural Address</td>\n",
              "      <td>Monday, March 4, 1793</td>\n",
              "      <td>Fellow Citizens:  I AM again called upon by th...</td>\n",
              "    </tr>\n",
              "    <tr>\n",
              "      <th>2</th>\n",
              "      <td>John Adams</td>\n",
              "      <td>Inaugural Address</td>\n",
              "      <td>Saturday, March 4, 1797</td>\n",
              "      <td>WHEN it was first perceived, in early times, t...</td>\n",
              "    </tr>\n",
              "    <tr>\n",
              "      <th>3</th>\n",
              "      <td>Thomas Jefferson</td>\n",
              "      <td>First Inaugural Address</td>\n",
              "      <td>Wednesday, March 4, 1801</td>\n",
              "      <td>Friends and Fellow-Citizens:  CALLED upon to u...</td>\n",
              "    </tr>\n",
              "    <tr>\n",
              "      <th>4</th>\n",
              "      <td>Thomas Jefferson</td>\n",
              "      <td>Second Inaugural Address</td>\n",
              "      <td>Monday, March 4, 1805</td>\n",
              "      <td>PROCEEDING, fellow-citizens, to that qualifica...</td>\n",
              "    </tr>\n",
              "  </tbody>\n",
              "</table>\n",
              "</div>"
            ],
            "text/plain": [
              "                Name  ...                                               text\n",
              "0  George Washington  ...  Fellow-Citizens of the Senate and of the House...\n",
              "1  George Washington  ...  Fellow Citizens:  I AM again called upon by th...\n",
              "2         John Adams  ...  WHEN it was first perceived, in early times, t...\n",
              "3   Thomas Jefferson  ...  Friends and Fellow-Citizens:  CALLED upon to u...\n",
              "4   Thomas Jefferson  ...  PROCEEDING, fellow-citizens, to that qualifica...\n",
              "\n",
              "[5 rows x 4 columns]"
            ]
          },
          "metadata": {
            "tags": []
          },
          "execution_count": 56
        }
      ]
    },
    {
      "cell_type": "code",
      "metadata": {
        "id": "d86GG370hKtS",
        "colab_type": "code",
        "outputId": "1c43e107-0805-44aa-8881-209c790c1300",
        "colab": {
          "base_uri": "https://localhost:8080/",
          "height": 34
        }
      },
      "source": [
        "speech_df.text.shape"
      ],
      "execution_count": 0,
      "outputs": [
        {
          "output_type": "execute_result",
          "data": {
            "text/plain": [
              "(58,)"
            ]
          },
          "metadata": {
            "tags": []
          },
          "execution_count": 57
        }
      ]
    },
    {
      "cell_type": "markdown",
      "metadata": {
        "id": "qvbCog623SDx",
        "colab_type": "text"
      },
      "source": [
        "Instructions:\n",
        "\n",
        "* Print the first 5 rows of the `text` column in `speech_df` DataFrame to see the free text fields.\n",
        "* Replace all non letter characters in the `text` column with a whitespace and add it as a new column `text_clean` in the `speech_df` DataFrame. \n",
        "* Make all characters in the newly created `text_clean` column lower case.\n",
        "* Print the first 5 rows of the `text_clean` column. "
      ]
    },
    {
      "cell_type": "code",
      "metadata": {
        "id": "k-Jb1PGCZjSa",
        "colab_type": "code",
        "outputId": "0118e23b-bc0f-44ab-d6ae-537fc046dadd",
        "colab": {
          "base_uri": "https://localhost:8080/",
          "height": 119
        }
      },
      "source": [
        "speech_df.text.head(5)"
      ],
      "execution_count": 0,
      "outputs": [
        {
          "output_type": "execute_result",
          "data": {
            "text/plain": [
              "0    Fellow-Citizens of the Senate and of the House...\n",
              "1    Fellow Citizens:  I AM again called upon by th...\n",
              "2    WHEN it was first perceived, in early times, t...\n",
              "3    Friends and Fellow-Citizens:  CALLED upon to u...\n",
              "4    PROCEEDING, fellow-citizens, to that qualifica...\n",
              "Name: text, dtype: object"
            ]
          },
          "metadata": {
            "tags": []
          },
          "execution_count": 58
        }
      ]
    },
    {
      "cell_type": "code",
      "metadata": {
        "id": "KexOnlhHZoJF",
        "colab_type": "code",
        "outputId": "6a8341b6-d450-49bb-e546-ae7d290211eb",
        "colab": {
          "base_uri": "https://localhost:8080/",
          "height": 119
        }
      },
      "source": [
        "speech_df.text = speech_df.text.str.replace('[^a-zA-Z]',' ')\n",
        "speech_df.text.head(5)"
      ],
      "execution_count": 0,
      "outputs": [
        {
          "output_type": "execute_result",
          "data": {
            "text/plain": [
              "0    Fellow Citizens of the Senate and of the House...\n",
              "1    Fellow Citizens   I AM again called upon by th...\n",
              "2    WHEN it was first perceived  in early times  t...\n",
              "3    Friends and Fellow Citizens   CALLED upon to u...\n",
              "4    PROCEEDING  fellow citizens  to that qualifica...\n",
              "Name: text, dtype: object"
            ]
          },
          "metadata": {
            "tags": []
          },
          "execution_count": 59
        }
      ]
    },
    {
      "cell_type": "code",
      "metadata": {
        "id": "GYgooloubEKN",
        "colab_type": "code",
        "outputId": "9512eb15-6498-4bac-e610-aa9746a5719b",
        "colab": {
          "base_uri": "https://localhost:8080/",
          "height": 119
        }
      },
      "source": [
        "speech_df.text = speech_df.text.str.lower()\n",
        "speech_df.text.head(5)"
      ],
      "execution_count": 0,
      "outputs": [
        {
          "output_type": "execute_result",
          "data": {
            "text/plain": [
              "0    fellow citizens of the senate and of the house...\n",
              "1    fellow citizens   i am again called upon by th...\n",
              "2    when it was first perceived  in early times  t...\n",
              "3    friends and fellow citizens   called upon to u...\n",
              "4    proceeding  fellow citizens  to that qualifica...\n",
              "Name: text, dtype: object"
            ]
          },
          "metadata": {
            "tags": []
          },
          "execution_count": 60
        }
      ]
    },
    {
      "cell_type": "markdown",
      "metadata": {
        "id": "Ag6i4ijT4tcM",
        "colab_type": "text"
      },
      "source": [
        "---\n",
        "### High level text features\n",
        "---\n",
        "Once the text has been cleaned and standardized we can begin creating features from the data. The most fundamental information we can calculate about free form text is its size, such as its length and number of words. "
      ]
    },
    {
      "cell_type": "markdown",
      "metadata": {
        "id": "q4jPqRmA4zRA",
        "colab_type": "text"
      },
      "source": [
        "Instructions:\n",
        "\n",
        "* Record the character length of each speech (`speech_df['text_clean']`) and store it in a new `char_count` column.\n",
        "* Record the word count of each speech in the `word_count` column.\n",
        "* Record the average word length of each speech in the `avg_word_length` column.\n",
        "* Print the first 5 rows of the columns: `text_clean`, `char_cnt`, `word_cnt`, `avg_word_length`\n"
      ]
    },
    {
      "cell_type": "code",
      "metadata": {
        "id": "lnf05Frubcyr",
        "colab_type": "code",
        "outputId": "c26f254e-f7a8-461a-8f49-26d0ddd5ded4",
        "colab": {
          "base_uri": "https://localhost:8080/",
          "height": 54
        }
      },
      "source": [
        "char_count = []\n",
        "c = 0\n",
        "for i in range(speech_df.text.shape[0]):\n",
        "  \n",
        "  for i in speech_df.text[i]:\n",
        "    c+=1\n",
        "  char_count.append(c)\n",
        "print(char_count)"
      ],
      "execution_count": 0,
      "outputs": [
        {
          "output_type": "stream",
          "text": [
            "[8616, 9403, 23274, 33418, 46320, 53323, 60471, 80365, 106687, 124440, 131258, 138319, 161846, 194552, 223291, 229890, 249979, 266799, 287831, 291765, 298286, 306022, 320991, 338765, 348920, 375095, 387435, 411126, 424552, 430117, 462277, 471831, 480233, 500527, 524464, 547425, 558335, 568964, 576638, 579724, 593431, 607434, 616711, 624417, 632659, 644360, 654408, 661342, 675129, 689730, 702266, 711385, 723759, 732843, 745042, 758679, 770853, 779408]\n"
          ],
          "name": "stdout"
        }
      ]
    },
    {
      "cell_type": "code",
      "metadata": {
        "id": "n2Q_KMKycyW9",
        "colab_type": "code",
        "outputId": "1b062e34-3159-4e5d-f0ba-c693d20b2e20",
        "colab": {
          "base_uri": "https://localhost:8080/",
          "height": 204
        }
      },
      "source": [
        "# length (Another way)\n",
        "speech_df['char_cnt'] = speech_df['text'].str.len()\n",
        "speech_df.head(5)"
      ],
      "execution_count": 0,
      "outputs": [
        {
          "output_type": "execute_result",
          "data": {
            "text/html": [
              "<div>\n",
              "<style scoped>\n",
              "    .dataframe tbody tr th:only-of-type {\n",
              "        vertical-align: middle;\n",
              "    }\n",
              "\n",
              "    .dataframe tbody tr th {\n",
              "        vertical-align: top;\n",
              "    }\n",
              "\n",
              "    .dataframe thead th {\n",
              "        text-align: right;\n",
              "    }\n",
              "</style>\n",
              "<table border=\"1\" class=\"dataframe\">\n",
              "  <thead>\n",
              "    <tr style=\"text-align: right;\">\n",
              "      <th></th>\n",
              "      <th>Name</th>\n",
              "      <th>Inaugural Address</th>\n",
              "      <th>Date</th>\n",
              "      <th>text</th>\n",
              "      <th>char_cnt</th>\n",
              "    </tr>\n",
              "  </thead>\n",
              "  <tbody>\n",
              "    <tr>\n",
              "      <th>0</th>\n",
              "      <td>George Washington</td>\n",
              "      <td>First Inaugural Address</td>\n",
              "      <td>Thursday, April 30, 1789</td>\n",
              "      <td>fellow citizens of the senate and of the house...</td>\n",
              "      <td>8616</td>\n",
              "    </tr>\n",
              "    <tr>\n",
              "      <th>1</th>\n",
              "      <td>George Washington</td>\n",
              "      <td>Second Inaugural Address</td>\n",
              "      <td>Monday, March 4, 1793</td>\n",
              "      <td>fellow citizens   i am again called upon by th...</td>\n",
              "      <td>787</td>\n",
              "    </tr>\n",
              "    <tr>\n",
              "      <th>2</th>\n",
              "      <td>John Adams</td>\n",
              "      <td>Inaugural Address</td>\n",
              "      <td>Saturday, March 4, 1797</td>\n",
              "      <td>when it was first perceived  in early times  t...</td>\n",
              "      <td>13871</td>\n",
              "    </tr>\n",
              "    <tr>\n",
              "      <th>3</th>\n",
              "      <td>Thomas Jefferson</td>\n",
              "      <td>First Inaugural Address</td>\n",
              "      <td>Wednesday, March 4, 1801</td>\n",
              "      <td>friends and fellow citizens   called upon to u...</td>\n",
              "      <td>10144</td>\n",
              "    </tr>\n",
              "    <tr>\n",
              "      <th>4</th>\n",
              "      <td>Thomas Jefferson</td>\n",
              "      <td>Second Inaugural Address</td>\n",
              "      <td>Monday, March 4, 1805</td>\n",
              "      <td>proceeding  fellow citizens  to that qualifica...</td>\n",
              "      <td>12902</td>\n",
              "    </tr>\n",
              "  </tbody>\n",
              "</table>\n",
              "</div>"
            ],
            "text/plain": [
              "                Name  ... char_cnt\n",
              "0  George Washington  ...     8616\n",
              "1  George Washington  ...      787\n",
              "2         John Adams  ...    13871\n",
              "3   Thomas Jefferson  ...    10144\n",
              "4   Thomas Jefferson  ...    12902\n",
              "\n",
              "[5 rows x 5 columns]"
            ]
          },
          "metadata": {
            "tags": []
          },
          "execution_count": 62
        }
      ]
    },
    {
      "cell_type": "code",
      "metadata": {
        "id": "BqTOYpsldLO0",
        "colab_type": "code",
        "outputId": "093358c4-aabc-47df-c17a-a592b0483a45",
        "colab": {
          "base_uri": "https://localhost:8080/",
          "height": 204
        }
      },
      "source": [
        "# word count\n",
        "speech_df['word_cnt'] = speech_df['text'].str.split().str.len()\n",
        "speech_df.head(5)"
      ],
      "execution_count": 0,
      "outputs": [
        {
          "output_type": "execute_result",
          "data": {
            "text/html": [
              "<div>\n",
              "<style scoped>\n",
              "    .dataframe tbody tr th:only-of-type {\n",
              "        vertical-align: middle;\n",
              "    }\n",
              "\n",
              "    .dataframe tbody tr th {\n",
              "        vertical-align: top;\n",
              "    }\n",
              "\n",
              "    .dataframe thead th {\n",
              "        text-align: right;\n",
              "    }\n",
              "</style>\n",
              "<table border=\"1\" class=\"dataframe\">\n",
              "  <thead>\n",
              "    <tr style=\"text-align: right;\">\n",
              "      <th></th>\n",
              "      <th>Name</th>\n",
              "      <th>Inaugural Address</th>\n",
              "      <th>Date</th>\n",
              "      <th>text</th>\n",
              "      <th>char_cnt</th>\n",
              "      <th>word_cnt</th>\n",
              "    </tr>\n",
              "  </thead>\n",
              "  <tbody>\n",
              "    <tr>\n",
              "      <th>0</th>\n",
              "      <td>George Washington</td>\n",
              "      <td>First Inaugural Address</td>\n",
              "      <td>Thursday, April 30, 1789</td>\n",
              "      <td>fellow citizens of the senate and of the house...</td>\n",
              "      <td>8616</td>\n",
              "      <td>1432</td>\n",
              "    </tr>\n",
              "    <tr>\n",
              "      <th>1</th>\n",
              "      <td>George Washington</td>\n",
              "      <td>Second Inaugural Address</td>\n",
              "      <td>Monday, March 4, 1793</td>\n",
              "      <td>fellow citizens   i am again called upon by th...</td>\n",
              "      <td>787</td>\n",
              "      <td>135</td>\n",
              "    </tr>\n",
              "    <tr>\n",
              "      <th>2</th>\n",
              "      <td>John Adams</td>\n",
              "      <td>Inaugural Address</td>\n",
              "      <td>Saturday, March 4, 1797</td>\n",
              "      <td>when it was first perceived  in early times  t...</td>\n",
              "      <td>13871</td>\n",
              "      <td>2323</td>\n",
              "    </tr>\n",
              "    <tr>\n",
              "      <th>3</th>\n",
              "      <td>Thomas Jefferson</td>\n",
              "      <td>First Inaugural Address</td>\n",
              "      <td>Wednesday, March 4, 1801</td>\n",
              "      <td>friends and fellow citizens   called upon to u...</td>\n",
              "      <td>10144</td>\n",
              "      <td>1736</td>\n",
              "    </tr>\n",
              "    <tr>\n",
              "      <th>4</th>\n",
              "      <td>Thomas Jefferson</td>\n",
              "      <td>Second Inaugural Address</td>\n",
              "      <td>Monday, March 4, 1805</td>\n",
              "      <td>proceeding  fellow citizens  to that qualifica...</td>\n",
              "      <td>12902</td>\n",
              "      <td>2169</td>\n",
              "    </tr>\n",
              "  </tbody>\n",
              "</table>\n",
              "</div>"
            ],
            "text/plain": [
              "                Name         Inaugural Address  ... char_cnt word_cnt\n",
              "0  George Washington   First Inaugural Address  ...     8616     1432\n",
              "1  George Washington  Second Inaugural Address  ...      787      135\n",
              "2         John Adams         Inaugural Address  ...    13871     2323\n",
              "3   Thomas Jefferson   First Inaugural Address  ...    10144     1736\n",
              "4   Thomas Jefferson  Second Inaugural Address  ...    12902     2169\n",
              "\n",
              "[5 rows x 6 columns]"
            ]
          },
          "metadata": {
            "tags": []
          },
          "execution_count": 63
        }
      ]
    },
    {
      "cell_type": "code",
      "metadata": {
        "id": "9dBrzA1fevTh",
        "colab_type": "code",
        "outputId": "ef799c37-3583-44fb-a9ec-bacf242bbd73",
        "colab": {
          "base_uri": "https://localhost:8080/",
          "height": 204
        }
      },
      "source": [
        "speech_df['Average_cnt'] = speech_df['char_cnt'] / speech_df['word_cnt']\n",
        "speech_df.head(5)"
      ],
      "execution_count": 0,
      "outputs": [
        {
          "output_type": "execute_result",
          "data": {
            "text/html": [
              "<div>\n",
              "<style scoped>\n",
              "    .dataframe tbody tr th:only-of-type {\n",
              "        vertical-align: middle;\n",
              "    }\n",
              "\n",
              "    .dataframe tbody tr th {\n",
              "        vertical-align: top;\n",
              "    }\n",
              "\n",
              "    .dataframe thead th {\n",
              "        text-align: right;\n",
              "    }\n",
              "</style>\n",
              "<table border=\"1\" class=\"dataframe\">\n",
              "  <thead>\n",
              "    <tr style=\"text-align: right;\">\n",
              "      <th></th>\n",
              "      <th>Name</th>\n",
              "      <th>Inaugural Address</th>\n",
              "      <th>Date</th>\n",
              "      <th>text</th>\n",
              "      <th>char_cnt</th>\n",
              "      <th>word_cnt</th>\n",
              "      <th>Average_cnt</th>\n",
              "    </tr>\n",
              "  </thead>\n",
              "  <tbody>\n",
              "    <tr>\n",
              "      <th>0</th>\n",
              "      <td>George Washington</td>\n",
              "      <td>First Inaugural Address</td>\n",
              "      <td>Thursday, April 30, 1789</td>\n",
              "      <td>fellow citizens of the senate and of the house...</td>\n",
              "      <td>8616</td>\n",
              "      <td>1432</td>\n",
              "      <td>6.016760</td>\n",
              "    </tr>\n",
              "    <tr>\n",
              "      <th>1</th>\n",
              "      <td>George Washington</td>\n",
              "      <td>Second Inaugural Address</td>\n",
              "      <td>Monday, March 4, 1793</td>\n",
              "      <td>fellow citizens   i am again called upon by th...</td>\n",
              "      <td>787</td>\n",
              "      <td>135</td>\n",
              "      <td>5.829630</td>\n",
              "    </tr>\n",
              "    <tr>\n",
              "      <th>2</th>\n",
              "      <td>John Adams</td>\n",
              "      <td>Inaugural Address</td>\n",
              "      <td>Saturday, March 4, 1797</td>\n",
              "      <td>when it was first perceived  in early times  t...</td>\n",
              "      <td>13871</td>\n",
              "      <td>2323</td>\n",
              "      <td>5.971158</td>\n",
              "    </tr>\n",
              "    <tr>\n",
              "      <th>3</th>\n",
              "      <td>Thomas Jefferson</td>\n",
              "      <td>First Inaugural Address</td>\n",
              "      <td>Wednesday, March 4, 1801</td>\n",
              "      <td>friends and fellow citizens   called upon to u...</td>\n",
              "      <td>10144</td>\n",
              "      <td>1736</td>\n",
              "      <td>5.843318</td>\n",
              "    </tr>\n",
              "    <tr>\n",
              "      <th>4</th>\n",
              "      <td>Thomas Jefferson</td>\n",
              "      <td>Second Inaugural Address</td>\n",
              "      <td>Monday, March 4, 1805</td>\n",
              "      <td>proceeding  fellow citizens  to that qualifica...</td>\n",
              "      <td>12902</td>\n",
              "      <td>2169</td>\n",
              "      <td>5.948363</td>\n",
              "    </tr>\n",
              "  </tbody>\n",
              "</table>\n",
              "</div>"
            ],
            "text/plain": [
              "                Name         Inaugural Address  ... word_cnt Average_cnt\n",
              "0  George Washington   First Inaugural Address  ...     1432    6.016760\n",
              "1  George Washington  Second Inaugural Address  ...      135    5.829630\n",
              "2         John Adams         Inaugural Address  ...     2323    5.971158\n",
              "3   Thomas Jefferson   First Inaugural Address  ...     1736    5.843318\n",
              "4   Thomas Jefferson  Second Inaugural Address  ...     2169    5.948363\n",
              "\n",
              "[5 rows x 7 columns]"
            ]
          },
          "metadata": {
            "tags": []
          },
          "execution_count": 64
        }
      ]
    },
    {
      "cell_type": "markdown",
      "metadata": {
        "id": "Wi2hOh045bsm",
        "colab_type": "text"
      },
      "source": [
        "---\n",
        "### Counting words (I)\n",
        "---\n",
        "Once high level information has been recorded we can begin creating features based on the actual content of each text, as given below: \n",
        "\n",
        "* For each unique word in the dataset a column is created.\n",
        "* For each entry, the number of times this word occurs is counted and the count value is entered into the respective column.\n",
        "\n",
        "These \"count\" columns can then be used to train machine learning models."
      ]
    },
    {
      "cell_type": "markdown",
      "metadata": {
        "id": "b6sMPuHi5nB7",
        "colab_type": "text"
      },
      "source": [
        "Instructions:\n",
        "\n",
        "* Import `CountVectorizer` from `sklearn.feature_extraction.text`.\n",
        "* Instantiate `CountVectorizer` and assign it to 'cv'.\n",
        "* Fit the vectorizer to the `text_clean` column.\n",
        "* Print the feature names generated by the vectorizer and find the number of features.\n"
      ]
    },
    {
      "cell_type": "code",
      "metadata": {
        "id": "nomeBUIc5lA2",
        "colab_type": "code",
        "colab": {}
      },
      "source": [
        "# Import CountVectorizer\n",
        "from sklearn.feature_extraction.text import CountVectorizer\n",
        "\n",
        "# Instantiate CountVectorizer\n",
        "cv = CountVectorizer()"
      ],
      "execution_count": 0,
      "outputs": []
    },
    {
      "cell_type": "code",
      "metadata": {
        "id": "nBwSD4MCefVs",
        "colab_type": "code",
        "outputId": "f3f35a5d-76a2-438f-a656-3dd01a94e0ab",
        "colab": {
          "base_uri": "https://localhost:8080/",
          "height": 54
        }
      },
      "source": [
        "## fit_transform is similar as fit + transform\n",
        "X = cv.fit_transform(speech_df.text)\n",
        "\n",
        "## no. of feature\n",
        "print(cv.get_feature_names())"
      ],
      "execution_count": 0,
      "outputs": [
        {
          "output_type": "stream",
          "text": [
            "['abandon', 'abandoned', 'abandonment', 'abate', 'abdicated', 'abeyance', 'abhorring', 'abide', 'abiding', 'abilities', 'ability', 'abject', 'able', 'ably', 'abnormal', 'abode', 'abolish', 'abolished', 'abolishing', 'aboriginal', 'aborigines', 'abound', 'abounding', 'abounds', 'about', 'above', 'abraham', 'abreast', 'abridging', 'abroad', 'absence', 'absent', 'absolute', 'absolutely', 'absolutism', 'absorb', 'absorbed', 'absorbing', 'absorbs', 'abstain', 'abstaining', 'abstract', 'abstractions', 'absurd', 'abundance', 'abundant', 'abundantly', 'abuse', 'abused', 'abuses', 'academies', 'accept', 'acceptance', 'accepted', 'accepting', 'accepts', 'access', 'accessible', 'accession', 'accident', 'accidental', 'accidents', 'acclaim', 'accommodation', 'accommodations', 'accompanied', 'accompany', 'accomplish', 'accomplished', 'accomplishing', 'accomplishment', 'accomplishments', 'accord', 'accordance', 'accorded', 'according', 'accordingly', 'accords', 'account', 'accountability', 'accountable', 'accounted', 'accrue', 'accrued', 'accruing', 'accumulate', 'accumulated', 'accumulation', 'accurately', 'accustom', 'achieve', 'achieved', 'achievement', 'achievements', 'achieving', 'acknowledge', 'acknowledged', 'acknowledging', 'acknowledgment', 'acquaintance', 'acquainted', 'acquiesce', 'acquiesced', 'acquiescence', 'acquire', 'acquired', 'acquires', 'acquiring', 'acquisition', 'acquisitions', 'acquit', 'acrimony', 'across', 'act', 'acted', 'acting', 'action', 'actions', 'active', 'actively', 'activism', 'activities', 'activity', 'acts', 'actual', 'actually', 'actuate', 'actuated', 'acute', 'adams', 'adapted', 'add', 'added', 'addiction', 'adding', 'addition', 'additional', 'additions', 'address', 'addressed', 'addresses', 'addressing', 'adds', 'adduced', 'adequate', 'adequately', 'adhere', 'adhered', 'adherence', 'adheres', 'adjective', 'adjunct', 'adjust', 'adjusted', 'adjusting', 'adjustment', 'adjustments', 'administer', 'administered', 'administering', 'administrated', 'administration', 'administrations', 'administrative', 'administrators', 'admirable', 'admirably', 'admiration', 'admission', 'admissions', 'admit', 'admitted', 'admitting', 'admonish', 'admonished', 'admonishes', 'admonition', 'admonitions', 'adopt', 'adopted', 'adopting', 'adoption', 'adore', 'adoring', 'adorn', 'adorns', 'advance', 'advanced', 'advancement', 'advances', 'advancing', 'advantage', 'advantageous', 'advantageously', 'advantages', 'adventure', 'adventurers', 'adventurously', 'adversaries', 'adversary', 'adverse', 'adverted', 'advice', 'advisable', 'advised', 'advisers', 'advisory', 'advocacy', 'advocate', 'advocated', 'advocates', 'aegis', 'affairs', 'affect', 'affected', 'affecting', 'affection', 'affectionate', 'affections', 'affiliation', 'affirm', 'affirmation', 'affirmations', 'affirmed', 'affirms', 'afflict', 'affliction', 'afford', 'afforded', 'affording', 'affords', 'afghanistan', 'afield', 'afloat', 'afraid', 'afresh', 'africa', 'african', 'after', 'aftermath', 'again', 'against', 'age', 'aged', 'agencies', 'agency', 'agent', 'agents', 'ages', 'aggrandizement', 'aggravated', 'aggravation', 'aggregate', 'aggregations', 'aggression', 'aggressive', 'aggressor', 'aggressors', 'agitate', 'agitated', 'agitating', 'agitation', 'agitations', 'ago', 'agonizing', 'agony', 'agree', 'agreeably', 'agreed', 'agreeing', 'agreement', 'agreements', 'agricultural', 'agriculture', 'agriculturists', 'ahead', 'aid', 'aided', 'aids', 'aim', 'aimed', 'aims', 'air', 'airports', 'alacrity', 'alamo', 'alarm', 'alarmed', 'alert', 'alien', 'alienate', 'alienated', 'aliens', 'alike', 'aliment', 'ality', 'alive', 'all', 'allayed', 'allegation', 'allegations', 'alleged', 'alleghanies', 'allegiance', 'alleviate', 'alliance', 'alliances', 'allies', 'allocating', 'allotted', 'allow', 'allowed', 'allowing', 'allows', 'allude', 'allured', 'alluring', 'allusion', 'ally', 'almighty', 'almost', 'alone', 'along', 'alongside', 'aloof', 'aloofness', 'already', 'also', 'altar', 'alter', 'alteration', 'altercation', 'altered', 'alternative', 'although', 'altogether', 'always', 'am', 'amalgamated', 'amass', 'ambassadors', 'ambiguity', 'ambition', 'ambitions', 'ambitious', 'ambush', 'amelia', 'amen', 'amendatory', 'amended', 'amending', 'amendment', 'amendments', 'america', 'american', 'americanism', 'americans', 'americas', 'amiable', 'amicable', 'amicably', 'amid', 'amidst', 'amity', 'amnesty', 'among', 'amongst', 'amount', 'amounts', 'ample', 'amply', 'an', 'anarchy', 'ancestors', 'anchor', 'ancient', 'and', 'andes', 'anew', 'angel', 'angels', 'anger', 'angry', 'anguish', 'anguished', 'animate', 'animated', 'animates', 'animating', 'animation', 'animosities', 'animosity', 'annals', 'annexation', 'annexed', 'annihilate', 'annihilation', 'anniversary', 'announce', 'announced', 'announces', 'annoyance', 'annual', 'annually', 'annul', 'another', 'answer', 'answerable', 'answered', 'antagonistic', 'anticipate', 'anticipated', 'anticipating', 'anticipation', 'anticipations', 'antifederal', 'anting', 'antipathies', 'antiphilosophists', 'antiquity', 'antirepublican', 'antitrust', 'ants', 'anxieties', 'anxiety', 'anxious', 'anxiously', 'any', 'anybody', 'anymore', 'anyone', 'anything', 'anywhere', 'apart', 'apathy', 'apollo', 'apologize', 'apology', 'appalachia', 'appalled', 'appalling', 'apparent', 'apparently', 'appeal', 'appealing', 'appeals', 'appear', 'appearance', 'appeared', 'appearing', 'appears', 'appeasement', 'appertain', 'applauded', 'applicable', 'applicants', 'application', 'applied', 'applies', 'apply', 'applying', 'appoint', 'appointed', 'appointee', 'appointees', 'appointing', 'appointment', 'appointments', 'appraisal', 'appraise', 'appreciate', 'appreciated', 'appreciating', 'appreciation', 'appreciative', 'apprehend', 'apprehension', 'apprehensions', 'apprehensive', 'apprised', 'approach', 'approached', 'approaches', 'approaching', 'approbation', 'appropriate', 'appropriately', 'appropriateness', 'appropriation', 'appropriations', 'approval', 'approve', 'approved', 'approving', 'approximate', 'approximated', 'april', 'apt', 'aqueducts', 'arbitrament', 'arbitrarily', 'arbitrary', 'arbitration', 'archibald', 'archipelago', 'ardent', 'ardor', 'arduous', 'are', 'area', 'areas', 'argonne', 'argue', 'argued', 'argument', 'arguments', 'arid', 'aright', 'arise', 'arisen', 'arises', 'arising', 'aristocracy', 'ark', 'arlington', 'arm', 'armament', 'armaments', 'armed', 'armies', 'arms', 'army', 'arose', 'around', 'arouse', 'arraignment', 'arrange', 'arrangement', 'arrangements', 'array', 'arrest', 'arrested', 'arresting', 'arrests', 'arrive', 'arrived', 'arrives', 'arriving', 'arrogance', 'arrogate', 'arsenal', 'arsenals', 'art', 'article', 'articles', 'articulated', 'artifice', 'artificial', 'artificially', 'artillery', 'artisans', 'artists', 'arts', 'as', 'ascendancy', 'ascended', 'ascendency', 'ascertain', 'ascertained', 'ascertaining', 'ascribe', 'ascribed', 'ashamed', 'asia', 'asiatic', 'aside', 'ask', 'asked', 'asking', 'asks', 'asleep', 'aspect', 'aspects', 'aspiration', 'aspirations', 'aspire', 'aspires', 'assail', 'assailed', 'assault', 'assemblage', 'assemble', 'assembled', 'assembly', 'assent', 'assert', 'asserted', 'assertion', 'assertions', 'asserts', 'assess', 'assessed', 'assessing', 'assign', 'assigned', 'assignment', 'assigns', 'assist', 'assistance', 'assisted', 'assisting', 'associate', 'associated', 'associates', 'association', 'associations', 'assuage', 'assuaged', 'assume', 'assumed', 'assumes', 'assuming', 'assumption', 'assurance', 'assurances', 'assure', 'assured', 'assuredly', 'assuring', 'astonishing', 'astounding', 'astray', 'astronauts', 'asunder', 'asylum', 'at', 'ate', 'athens', 'atlantic', 'atmosphere', 'atom', 'atone', 'atrocious', 'atrocity', 'attach', 'attached', 'attachment', 'attachments', 'attack', 'attacked', 'attacks', 'attain', 'attained', 'attaining', 'attainment', 'attainments', 'attempt', 'attempted', 'attempting', 'attempts', 'attend', 'attendant', 'attended', 'attending', 'attends', 'attention', 'attentive', 'attest', 'attitude', 'attitudes', 'attorneys', 'attractive', 'attributable', 'attributes', 'audacity', 'audience', 'aught', 'augment', 'augmentation', 'augmented', 'augments', 'auguring', 'august', 'auspices', 'auspicious', 'auspiciously', 'author', 'authoritative', 'authorities', 'authority', 'authorized', 'authorizes', 'authorizing', 'authors', 'autocracy', 'autocratic', 'autonomy', 'auxiliaries', 'auxiliary', 'avail', 'availability', 'available', 'availed', 'avenue', 'avenues', 'aver', 'avert', 'averted', 'averting', 'avoid', 'avoidance', 'avoided', 'avoiding', 'avow', 'avowal', 'avowed', 'avowing', 'await', 'awaited', 'awaiting', 'awaits', 'awake', 'awaken', 'awakened', 'awakens', 'awarded', 'aware', 'away', 'awesome', 'awful', 'ax', 'back', 'background', 'backgrounds', 'backs', 'backward', 'bacteria', 'bad', 'badge', 'badly', 'baffled', 'baggage', 'baker', 'balance', 'balanced', 'balances', 'balancing', 'balk', 'ballot', 'baltimore', 'band', 'bane', 'baneful', 'banished', 'banishment', 'bank', 'banking', 'bankrupt', 'banks', 'banner', 'baptism', 'bar', 'barbarian', 'barbarians', 'barbarism', 'barbary', 'barber', 'bare', 'barely', 'bargain', 'barriers', 'barter', 'bartered', 'base', 'based', 'basic', 'basis', 'bastion', 'batavian', 'battalion', 'battalions', 'battle', 'battlefield', 'battlefields', 'battles', 'bay', 'bays', 'be', 'beach', 'beachhead', 'beacon', 'bear', 'bearing', 'bearings', 'bears', 'beaten', 'beating', 'beautiful', 'beauty', 'became', 'because', 'beckon', 'beckons', 'becloud', 'become', 'becomes', 'becoming', 'bedrock', 'been', 'befit', 'befits', 'befitting', 'befo', 'before', 'beg', 'began', 'begets', 'begin', 'beginning', 'beginnings', 'begins', 'begun', 'behalf', 'behave', 'behind', 'behold', 'beholds', 'behooves', 'being', 'belaboring', 'belied', 'belief', 'beliefs', 'beliefunder', 'believe', 'believed', 'believers', 'believes', 'believing', 'bell', 'belleau', 'belligerent', 'belong', 'belonged', 'belonging', 'belongs', 'belove', 'beloved', 'below', 'bend', 'beneath', 'benediction', 'benedictions', 'benefactors', 'beneficence', 'beneficent', 'beneficial', 'benefit', 'benefited', 'benefiting', 'benefits', 'benevolence', 'benevolent', 'benign', 'bequeathed', 'bernardin', 'beseech', 'beseeching', 'beseems', 'beset', 'besides', 'best', 'bestow', 'bestowal', 'bestowed', 'betray', 'betrays', 'better', 'between', 'beware', 'bewildered', 'beyon', 'beyond', 'bible', 'bicentennial', 'bicker', 'bickering', 'bidding', 'biden', 'big', 'bigger', 'bigoted', 'bigotry', 'bill', 'billion', 'billions', 'billows', 'bills', 'bimetallism', 'bind', 'binding', 'binds', 'biological', 'bipartisanship', 'birth', 'birthday', 'birthright', 'bitter', 'bitterness', 'black', 'blame', 'blast', 'blaze', 'blazed', 'bleak', 'bleakest', 'bled', 'bleed', 'blend', 'blended', 'bless', 'blessed', 'blessing', 'blessings', 'blight', 'blind', 'blinded', 'blindly', 'bloated', 'blood', 'bloodiest', 'bloodshed', 'bloody', 'blot', 'blotches', 'blow', 'blowing', 'blown', 'blows', 'blue', 'blueprint', 'board', 'boast', 'boasted', 'boastfulness', 'boat', 'bodies', 'bodily', 'body', 'bold', 'boldest', 'boldly', 'boldness', 'bombastic', 'bona', 'bond', 'bondage', 'bonds', 'bondsman', 'book', 'border', 'bordering', 'borders', 'bore', 'born', 'borne', 'borrowed', 'borrowing', 'bosom', 'bosoms', 'boston', 'both', 'bottoms', 'bound', 'boundaries', 'boundary', 'bounded', 'boundless', 'bounds', 'bounteous', 'bounties', 'bountiful', 'bounty', 'bow', 'box', 'boy', 'boycott', 'branch', 'branches', 'brave', 'bravely', 'bravery', 'breach', 'bread', 'break', 'breaking', 'breaks', 'breast', 'breath', 'breathes', 'breathing', 'bred', 'breed', 'breeze', 'brethren', 'bridge', 'bridges', 'bridle', 'brief', 'briefly', 'bright', 'brightens', 'brighter', 'brightest', 'brightly', 'brilliant', 'bring', 'bringing', 'brings', 'brink', 'britain', 'britannic', 'british', 'broad', 'broadcast', 'broadening', 'broader', 'broadly', 'broils', 'broke', 'broken', 'brood', 'brother', 'brotherhood', 'brotherly', 'brothers', 'brought', 'brown', 'brutal', 'buccaneering', 'budapest', 'budget', 'build', 'builded', 'builders', 'building', 'buildup', 'built', 'bulk', 'bulky', 'bullies', 'bulwark', 'bulwarks', 'burden', 'burdened', 'burdens', 'burdensome', 'bureau', 'bureaus', 'burger', 'burma', 'burns', 'burthen', 'burthened', 'burthening', 'bush', 'business', 'businesses', 'busy', 'but', 'buy', 'by', 'bygone', 'cabbies', 'cabinet', 'caesar', 'calamities', 'calamitous', 'calamity', 'calculate', 'calculated', 'calculating', 'calculation', 'calculations', 'calendar', 'california', 'call', 'called', 'calling', 'callous', 'calls', 'calm', 'calmly', 'calmness', 'calvin', 'came', 'camp', 'campaign', 'campfires', 'camps', 'can', 'canal', 'canals', 'cancers', 'candid', 'candidacy', 'candidate', 'candidates', 'candidly', 'candle', 'candor', 'cannot', 'canvass', 'capability', 'capable', 'capacities', 'capacity', 'cape', 'capital', 'capitalist', 'capitals', 'capitol', 'capped', 'caprice', 'captive', 'captives', 'capture', 'car', 'cardinal', 'care', 'cared', 'career', 'careful', 'carefully', 'careless', 'carelessly', 'cares', 'cargoes', 'caring', 'carnage', 'carolina', 'carried', 'carriers', 'carries', 'carry', 'carrying', 'cars', 'carter', 'case', 'cases', 'cash', 'cast', 'casting', 'casts', 'casual', 'casualties', 'catalogue', 'catastrophe', 'catch', 'cathedral', 'cattle', 'caught', 'cause', 'caused', 'causes', 'causing', 'caution', 'cautious', 'cease', 'ceased', 'ceaseless', 'ceasing', 'cede', 'ceded', 'celebrate', 'celebrated', 'celebration', 'cement', 'cemented', 'cementing', 'cemetery', 'censorship', 'censure', 'census', 'centennial', 'centennials', 'center', 'centered', 'centers', 'central', 'centuries', 'century', 'cereals', 'ceremonial', 'ceremony', 'certain', 'certainly', 'certainty', 'chain', 'chains', 'chair', 'chairman', 'chairs', 'chalice', 'challenge', 'challenged', 'challenges', 'chamber', 'chance', 'chances', 'change', 'changed', 'changefirst', 'changeless', 'changeliberty', 'changers', 'changes', 'changethe', 'changing', 'channel', 'channels', 'chaos', 'chapter', 'character', 'characteristic', 'characterize', 'characterized', 'characters', 'charge', 'chargeable', 'charged', 'charges', 'charity', 'chart', 'charta', 'charter', 'chase', 'chattel', 'cheap', 'cheapness', 'check', 'checked', 'checking', 'checks', 'cheered', 'cheerful', 'cheerfully', 'cheerfulness', 'cheering', 'chemical', 'cheney', 'cherish', 'cherished', 'cherishes', 'chest', 'chief', 'chiefly', 'child', 'childhood', 'childish', 'children', 'china', 'choice', 'choices', 'choose', 'chooses', 'choosing', 'chop', 'chords', 'chorus', 'chosen', 'chosin', 'christian', 'christianity', 'christians', 'christmas', 'church', 'churches', 'churchill', 'ci', 'cincinnati', 'circ', 'circle', 'circulating', 'circulation', 'circumscribed', 'circumstance', 'circumstances', 'citement', 'cities', 'citizen', 'citizenry', 'citizens', 'citizenship', 'city', 'civic', 'civil', 'civility', 'civilization', 'civilized', 'clad', 'claim', 'claimed', 'claiming', 'claims', 'clamor', 'clarification', 'clarified', 'clarify', 'clarity', 'class', 'classed', 'classes', 'classroom', 'clause', 'clauses', 'clay', 'clean', 'cleaner', 'cleanse', 'clear', 'clearcut', 'clearly', 'clearness', 'cleaves', 'clergy', 'clerk', 'clerks', 'climate', 'climb', 'climes', 'clinching', 'cling', 'clinton', 'cloaked', 'clocks', 'clogged', 'close', 'closed', 'closely', 'closeness', 'closer', 'closest', 'closing', 'clothe', 'clothed', 'clothing', 'clouds', 'co', 'coal', 'coaling', 'coarse', 'coast', 'coasts', 'cocaine', 'code', 'coequal', 'coercion', 'coercions', 'coercive', 'coeval', 'coffers', 'coherence', 'coin', 'coinage', 'coincidence', 'coined', 'cold', 'coldest', 'coleman', 'collaborator', 'collapse', 'collect', 'collected', 'collection', 'collective', 'collectively', 'college', 'colleges', 'collision', 'collisions', 'colonel', 'colonial', 'colonies', 'colonists', 'colonization', 'color', 'colorable', 'colored', 'colors', 'colossal', 'columbia', 'columns', 'combat', 'combated', 'combination', 'combinations', 'combine', 'combined', 'combining', 'come', 'comes', 'cometh', 'comfort', 'comforts', 'coming', 'comities', 'comity', 'command', 'commanded', 'commander', 'commanders', 'commanding', 'commandments', 'commands', 'commence', 'commenced', 'commencement', 'commencing', 'commendable', 'commended', 'commensurate', 'commerce', 'commercial', 'commiseration', 'commission', 'commissioners', 'commissions', 'commit', 'commitment', 'commitments', 'committed', 'committing', 'commodities', 'common', 'commonly', 'commonplace', 'commons', 'commonwealth', 'communicate', 'communicated', 'communicating', 'communication', 'communications', 'communion', 'communism', 'communist', 'communists', 'communities', 'community', 'compact', 'compacts', 'companies', 'companions', 'company', 'comparative', 'comparatively', 'compare', 'compared', 'comparison', 'compass', 'compassion', 'compassionate', 'compatible', 'compel', 'compelled', 'compelling', 'compensate', 'compensated', 'compensation', 'compensations', 'compete', 'competency', 'competent', 'competing', 'competition', 'competitions', 'competitive', 'complain', 'complained', 'complaining', 'complaint', 'complete', 'completed', 'completely', 'completeness', 'completion', 'complex', 'complexity', 'compliance', 'complicated', 'complications', 'compliment', 'comply', 'comport', 'comports', 'compose', 'composed', 'composing', 'composite', 'composition', 'comprehend', 'comprehending', 'comprehension', 'comprehensive', 'comprehensively', 'compress', 'comprise', 'comprised', 'compromise', 'compromises', 'compulsory', 'computation', 'computer', 'comrades', 'conceded', 'conceive', 'conceived', 'conceives', 'conceiving', 'concentrated', 'concentrating', 'concentration', 'concept', 'conception', 'concepts', 'concern', 'concerned', 'concerning', 'concernment', 'concerns', 'concert', 'concerted', 'concess', 'concession', 'concessions', 'conciliate', 'conciliated', 'conciliation', 'concise', 'concluded', 'conclusion', 'conclusions', 'conclusive', 'concord', 'concrete', 'concur', 'concurrence', 'concurrent', 'condemn', 'condemned', 'condemning', 'condescending', 'condition', 'conditions', 'condoned', 'conduct', 'conducted', 'conducting', 'conducts', 'confederacies', 'confederacy', 'confederate', 'confederated', 'confederation', 'confer', 'conference', 'conferences', 'conferred', 'conferring', 'confers', 'confess', 'confessedly', 'confession', 'confide', 'confided', 'confidence', 'confident', 'confidently', 'confiding', 'configuration', 'confine', 'confined', 'confines', 'confirm', 'confirmed', 'conflict', 'conflicting', 'conflicts', 'conform', 'conformable', 'conforming', 'conformity', 'confound', 'confront', 'confrontation', 'confronted', 'confronting', 'confronts', 'confuse', 'confusion', 'congenial', 'congratulate', 'congratulation', 'congratulations', 'congregations', 'congress', 'congressional', 'congressman', 'conjecture', 'connected', 'connection', 'connections', 'connects', 'connive', 'conquer', 'conquered', 'conquering', 'conquest', 'conquests', 'conscience', 'consciences', 'conscientious', 'conscientiously', 'consciou', 'conscious', 'consciousness', 'consecrate', 'consecrated', 'consecrates', 'consecration', 'consent', 'consequence', 'consequences', 'consequent', 'consequential', 'consequently', 'conservation', 'conservative', 'conservator', 'conserve', 'conserving', 'consider', 'considerable', 'considerably', 'considerate', 'considerately', 'consideration', 'considerations', 'considered', 'considering', 'consist', 'consistency', 'consistent', 'consistently', 'consisting', 'consists', 'consolation', 'consolatory', 'console', 'consoled', 'consolidate', 'consolidated', 'consoling', 'consort', 'conspicuous', 'conspicuously', 'conspiracies', 'constant', 'constantly', 'constants', 'constellation', 'constituent', 'constituents', 'constitute', 'constituted', 'constituting', 'constitution', 'constitutional', 'constitutionally', 'constitutions', 'constrain', 'constrained', 'constraint', 'constricted', 'construct', 'constructed', 'constructing', 'construction', 'constructive', 'construe', 'construed', 'consul', 'consult', 'consultations', 'consulted', 'consulting', 'consume', 'consumed', 'consummate', 'consummating', 'consummation', 'consumption', 'contacts', 'contain', 'containing', 'contains', 'contemplate', 'contemplated', 'contemplating', 'contemplation', 'contemplations', 'contempt', 'contend', 'contended', 'contending', 'content', 'contented', 'contention', 'contentions', 'contentious', 'contentment', 'contest', 'contests', 'contiguous', 'continent', 'continents', 'contingency', 'continually', 'continuance', 'continuation', 'continue', 'continued', 'continues', 'continuing', 'continuity', 'continuum', 'contour', 'contract', 'contracted', 'contracting', 'contraction', 'contracts', 'contradistinction', 'contrary', 'contrast', 'contrasts', 'contribute', 'contributed', 'contribution', 'contributions', 'contributory', 'contriving', 'control', 'controlled', 'controlling', 'controls', 'controversies', 'controversy', 'convene', 'convenience', 'convenient', 'convening', 'convention', 'conventional', 'conventions', 'converging', 'conversion', 'convert', 'convertible', 'convey', 'conviction', 'convictions', 'convinced', 'convinces', 'convulsed', 'convulsions', 'cook', 'cool', 'coolidge', 'cooperate', 'cooperating', 'cooperation', 'cooperative', 'coordinat', 'coordinate', 'cope', 'cordant', 'cordial', 'cordially', 'core', 'corn', 'corner', 'corners', 'corporation', 'corporations', 'corpus', 'correct', 'corrected', 'correction', 'corrective', 'correctives', 'correctly', 'corresponded', 'correspondent', 'corresponding', 'corroded', 'corrupt', 'corrupted', 'corrupting', 'corruption', 'cortes', 'cosmopolitan', 'cosmos', 'cost', 'costly', 'costs', 'cotton', 'cottons', 'could', 'councils', 'counsel', 'counsels', 'count', 'counted', 'countenance', 'counter', 'counteract', 'counteracted', 'counteraction', 'counties', 'counting', 'countless', 'countries', 'country', 'countrymen', 'countryside', 'county', 'courage', 'courageous', 'courageously', 'courier', 'course', 'courses', 'court', 'courtesy', 'courts', 'covenant', 'covenants', 'covenantthey', 'cover', 'covered', 'covering', 'covers', 'covet', 'cradle', 'craft', 'crafty', 'crave', 'craving', 'create', 'created', 'creates', 'creating', 'creation', 'creative', 'creativity', 'creator', 'credit', 'creditable', 'creditors', 'credits', 'creed', 'creeds', 'creep', 'crime', 'crimes', 'criminal', 'criminality', 'criminals', 'cripple', 'crippling', 'crises', 'crisis', 'critical', 'critically', 'criticism', 'croix', 'croplands', 'crops', 'cross', 'crosses', 'crowded', 'crowds', 'crown', 'crowned', 'crucial', 'crude', 'cruel', 'cruelty', 'cruising', 'crumble', 'crush', 'crushes', 'crushing', 'cry', 'ct', 'cuba', 'cuban', 'cubans', 'culpable', 'culprits', 'cultivate', 'cultivated', 'cultivation', 'cultivator', 'cultural', 'culture', 'cultures', 'cup', 'cupidity', 'curb', 'cure', 'cured', 'cures', 'curiosity', 'currency', 'current', 'currents', 'curse', 'curtailment', 'custody', 'custom', 'customary', 'customs', 'cut', 'cuts', 'cutting', 'cycle', 'cynicism', 'cynics', 'daily', 'dakota', 'dakotas', 'dam', 'damage', 'dams', 'danger', 'dangerous', 'dangerously', 'dangers', 'dare', 'dared', 'dares', 'daring', 'dark', 'darkened', 'darkest', 'darkness', 'data', 'date', 'daughters', 'david', 'dawn', 'dawning', 'day', 'days', 'de', 'dead', 'deadlock', 'deadly', 'deaf', 'deal', 'dealing', 'dealings', 'dealt', 'dear', 'dearer', 'dearest', 'death', 'deathless', 'deaths', 'debased', 'debasement', 'debate', 'debates', 'debauched', 'debt', 'debtor', 'debts', 'decade', 'decadent', 'decades', 'decay', 'decayed', 'deceit', 'deceive', 'deceived', 'december', 'decencies', 'decency', 'decent', 'decide', 'decided', 'decides', 'deciding', 'decision', 'decisions', 'decisive', 'decisively', 'declaration', 'declarations', 'declare', 'declared', 'declares', 'declaring', 'decline', 'declining', 'decoding', 'decoration', 'decrease', 'decreased', 'decreasing', 'decree', 'decreed', 'decrees', 'dedicate', 'dedicated', 'dedication', 'deed', 'deeds', 'deem', 'deemed', 'deems', 'deep', 'deepen', 'deepened', 'deepening', 'deeper', 'deepest', 'deeply', 'defamation', 'defamatory', 'defaulters', 'defaulting', 'defeat', 'defeated', 'defeatism', 'defect', 'defective', 'defects', 'defend', 'defended', 'defenders', 'defending', 'defense', 'defenseless', 'defenses', 'defensive', 'defer', 'deference', 'deferred', 'deficiencies', 'deficiency', 'deficit', 'deficits', 'defied', 'defies', 'define', 'defined', 'defines', 'defining', 'definite', 'definitely', 'definition', 'definitions', 'defray', 'defrayed', 'defy', 'degenerate', 'degeneration', 'degradation', 'degradations', 'degrades', 'degrading', 'degree', 'degrees', 'delano', 'delay', 'delayed', 'delays', 'delegated', 'delegation', 'deliberate', 'deliberately', 'deliberating', 'deliberation', 'deliberations', 'delicacy', 'delicate', 'delicious', 'delight', 'delights', 'delineated', 'delinquency', 'delinquent', 'delirium', 'deliver', 'deliverance', 'delivered', 'delivering', 'deluge', 'delusion', 'delusions', 'delusive', 'demand', 'demanded', 'demanding', 'demands', 'demilitarize', 'democracies', 'democracy', 'democrat', 'democratic', 'democrats', 'demolish', 'demonstrate', 'demonstrated', 'demonstration', 'demonstrations', 'demoralization', 'demoralizes', 'demoralizing', 'denial', 'denied', 'denies', 'denominations', 'denounce', 'denounced', 'dense', 'densely', 'deny', 'denying', 'depart', 'departed', 'department', 'departments', 'departure', 'depend', 'dependable', 'depended', 'dependence', 'dependencies', 'dependency', 'dependent', 'depending', 'depends', 'depletion', 'deplorable', 'deplorably', 'deplore', 'deplored', 'depositaries', 'deposits', 'deprecated', 'depreciation', 'depressed', 'depression', 'deprivation', 'deprive', 'deprived', 'depth', 'depths', 'deputed', 'derive', 'derived', 'derives', 'deriving', 'descendants', 'descending', 'descends', 'describe', 'described', 'describes', 'desert', 'deserted', 'deserters', 'deserts', 'deserve', 'deserved', 'deserves', 'deserving', 'design', 'designates', 'designation', 'designed', 'designing', 'designs', 'desirable', 'desire', 'desired', 'desires', 'desiring', 'desirous', 'desolated', 'despair', 'despaired', 'desperate', 'desperation', 'despise', 'despite', 'despondence', 'despotic', 'despotism', 'despots', 'destination', 'destined', 'destinies', 'destiny', 'destitute', 'destroy', 'destroyed', 'destroying', 'destroys', 'destruction', 'destructive', 'detached', 'detachment', 'detail', 'detailed', 'details', 'detained', 'deter', 'deteriorate', 'determination', 'determinations', 'determine', 'determined', 'determines', 'determining', 'detract', 'detriment', 'detroit', 'devastated', 'devastates', 'devastating', 'devastation', 'develop', 'developed', 'developing', 'development', 'developments', 'deviation', 'device', 'devices', 'devise', 'devised', 'devising', 'devolve', 'devolved', 'devote', 'devoted', 'devoti', 'devoting', 'devotion', 'devout', 'dew', 'diadem', 'diamonds', 'diary', 'dictate', 'dictated', 'dictates', 'dictator', 'dictators', 'dictatorship', 'did', 'didn', 'die', 'died', 'dies', 'dif', 'differ', 'differed', 'difference', 'differences', 'different', 'differentiating', 'differentiation', 'differently', 'differing', 'difficult', 'difficulties', 'difficulty', 'diffidence', 'diffused', 'diffusion', 'digest', 'digital', 'dignified', 'dignifies', 'dignity', 'diligence', 'diligent', 'diligently', 'dimensions', 'diminish', 'diminished', 'diminishes', 'diminishing', 'dimmed', 'dimness', 'din', 'dingley', 'diplomacy', 'diplomatic', 'dire', 'direct', 'directed', 'directing', 'direction', 'directions', 'directly', 'directs', 'dirksen', 'dis', 'disability', 'disabled', 'disadvantaged', 'disaffection', 'disagree', 'disagreements', 'disappeared', 'disappearing', 'disappointed', 'disappointment', 'disapproved', 'disarmament', 'disaster', 'disasters', 'disastrous', 'disbursed', 'disbursement', 'discard', 'discarding', 'discern', 'discernment', 'discharge', 'discharged', 'discharging', 'discipline', 'disciplined', 'disclaim', 'disclosed', 'discontents', 'discontinue', 'discontinued', 'discord', 'discordant', 'discountenanced', 'discountenancing', 'discourage', 'discouragement', 'discouraging', 'discover', 'discovered', 'discoveries', 'discovering', 'discrediting', 'discretion', 'discretionary', 'discriminate', 'discriminating', 'discrimination', 'discriminations', 'discuss', 'discussing', 'discussion', 'discussions', 'disease', 'diseases', 'disfigure', 'disfranchised', 'disgraceful', 'disguise', 'disguised', 'disguises', 'disheartened', 'dishonor', 'dishonorable', 'disinclination', 'disinterested', 'disloyal', 'dismember', 'disobedience', 'disorder', 'disorderly', 'disorders', 'disorganization', 'disorganize', 'disorganizing', 'dispassionate', 'dispel', 'dispelled', 'dispensations', 'dispense', 'dispensed', 'displaced', 'display', 'displayed', 'displaying', 'disposal', 'dispose', 'disposing', 'disposition', 'dispositions', 'dispute', 'disputed', 'disputes', 'disqualification', 'disquisitions', 'disregard', 'disregarded', 'disregards', 'disrepair', 'disruption', 'dissatisfied', 'dissemination', 'dissension', 'dissensions', 'dissent', 'dissenting', 'dissidents', 'dissipated', 'dissipation', 'dissolution', 'dissolve', 'distance', 'distances', 'distant', 'distinct', 'distinction', 'distinctions', 'distinctively', 'distinguished', 'distorts', 'distract', 'distracted', 'distress', 'distressed', 'distresses', 'distressing', 'distribute', 'distributed', 'distributer', 'distribution', 'district', 'districts', 'distrust', 'distrusted', 'distrustful', 'disturb', 'disturbance', 'disturbances', 'disturbed', 'disturbing', 'disturbs', 'disunion', 'divergent', 'diverse', 'diversification', 'diversified', 'diversity', 'divert', 'diverted', 'diverting', 'divide', 'divided', 'divides', 'divine', 'divisible', 'division', 'divisions', 'divisive', 'divisiveness', 'divorce', 'divorced', 'do', 'dock', 'dockyards', 'doctrine', 'doctrines', 'document', 'documents', 'doers', 'does', 'dogmas', 'dogmatic', 'dogs', 'doing', 'dole', 'dollar', 'dollars', 'domain', 'domestic', 'domestics', 'domiciled', 'domiciliary', 'dominant', 'dominate', 'dominated', 'domination', 'domingo', 'dominion', 'dominions', 'don', 'done', 'doomed', 'dooms', 'door', 'doors', 'doorstep', 'dot', 'doth', 'doubled', 'doubly', 'doubt', 'doubted', 'doubtful', 'doubting', 'doubtless', 'doubts', 'down', 'downfall', 'downward', 'dr', 'draft', 'drafted', 'drain', 'draining', 'drama', 'dramatic', 'dramatically', 'drastic', 'drastically', 'draw', 'drawing', 'drawn', 'dread', 'dreaded', 'dream', 'dreamed', 'dreams', 'dreary', 'dress', 'drift', 'drifted', 'drifting', 'drive', 'driven', 'driving', 'drop', 'dropped', 'drought', 'drugs', 'dry', 'due', 'dulled', 'duly', 'durability', 'durable', 'durably', 'duration', 'during', 'dust', 'duties', 'duty', 'dwarfed', 'dwell', 'dying', 'dynamic', 'dynamos', 'each', 'eager', 'earlier', 'earliest', 'early', 'earn', 'earned', 'earner', 'earners', 'earnest', 'earnestly', 'earnestness', 'earnings', 'earns', 'ears', 'earth', 'earthly', 'ease', 'easier', 'easily', 'easing', 'east', 'eastern', 'eastward', 'easy', 'ebb', 'ebbing', 'ecclesiastical', 'echo', 'echoes', 'economic', 'economical', 'economically', 'economics', 'economies', 'economy', 'ed', 'edge', 'edicts', 'edifice', 'educate', 'educated', 'education', 'educational', 'effaced', 'effect', 'effected', 'effective', 'effectively', 'effectiveness', 'effects', 'effectual', 'effectually', 'efficiency', 'efficient', 'efficiently', 'effort', 'efforts', 'eight', 'eighteenth', 'eighth', 'eighty', 'eisenhower', 'either', 'eject', 'elapsed', 'elasticity', 'elderly', 'elect', 'elected', 'election', 'elections', 'elective', 'elector', 'electoral', 'electorate', 'electors', 'electric', 'element', 'elementary', 'elements', 'elevat', 'elevate', 'elevated', 'elevation', 'eligibility', 'eliminated', 'elimination', 'elite', 'eloquence', 'eloquent', 'else', 'elsewhere', 'em', 'emanate', 'emanates', 'emancipated', 'emancipation', 'embark', 'embarked', 'embarking', 'embarrassed', 'embarrassing', 'embarrassment', 'embarrassments', 'embattled', 'embedded', 'embittered', 'embody', 'embrace', 'embraced', 'embraces', 'embracing', 'emerge', 'emerged', 'emergencies', 'emergency', 'emerging', 'emerson', 'emigrants', 'emigrating', 'eminence', 'eminent', 'eminently', 'emoluments', 'emotion', 'emotions', 'emperor', 'emphasis', 'emphasize', 'emphasizes', 'emphatic', 'emphatically', 'empire', 'empires', 'employ', 'employed', 'employees', 'employers', 'employment', 'employments', 'empower', 'empty', 'emulation', 'enable', 'enabled', 'enables', 'enact', 'enacted', 'enactment', 'encounter', 'encountered', 'encountering', 'encourage', 'encouraged', 'encouragement', 'encourages', 'encouraging', 'encroach', 'encroaches', 'encroaching', 'encroachments', 'encyclopedia', 'end', 'endanger', 'endangered', 'endearing', 'endeavor', 'endeavored', 'endeavors', 'ended', 'ending', 'endless', 'endlessly', 'endowed', 'endowments', 'ends', 'endurance', 'endure', 'endured', 'endures', 'enduring', 'enemies', 'enemy', 'energetic', 'energetically', 'energies', 'energy', 'enfeeble', 'enfeebled', 'enforce', 'enforced', 'enforcement', 'enforcing', 'enfranchisement', 'engage', 'engaged', 'engagement', 'engagements', 'engaging', 'engender', 'engenders', 'engine', 'engineers', 'england', 'engraven', 'engrossed', 'engrosses', 'engulf', 'enhance', 'enhanced', 'enhancing', 'enjoined', 'enjoins', 'enjoy', 'enjoyed', 'enjoying', 'enjoyment', 'enjoyments', 'enjoys', 'enlarge', 'enlarged', 'enlargement', 'enlarging', 'enlighten', 'enlightened', 'enlightening', 'enlist', 'enlisted', 'enlists', 'ennobled', 'ennobling', 'enormous', 'enough', 'enriched', 'enriching', 'enrichment', 'enshrined', 'ensign', 'enslaved', 'enslavement', 'ensued', 'ensure', 'ensured', 'entailing', 'entails', 'entangled', 'entanglement', 'entanglements', 'entangling', 'enter', 'entered', 'entering', 'enterprise', 'enterprises', 'enterprising', 'enters', 'entertain', 'entertained', 'entertaining', 'enthralled', 'enthusiasm', 'enthusiastically', 'entire', 'entirely', 'entirety', 'entitle', 'entitled', 'entitles', 'entity', 'entrance', 'entrepreneurial', 'entrepreneurs', 'entries', 'entrust', 'entrusted', 'entrusting', 'entwined', 'enumerate', 'enumerated', 'enumerates', 'enumeration', 'envious', 'environment', 'envisage', 'envy', 'epidemics', 'equal', 'equaled', 'equality', 'equally', 'equals', 'equip', 'equipment', 'equipments', 'equipped', 'equipping', 'equitable', 'equitably', 'equity', 'equivalent', 'era', 'eradicate', 'eradication', 'erase', 'erect', 'erected', 'erience', 'erode', 'eroded', 'errant', 'erroneous', 'error', 'errors', 'escape', 'escapes', 'escaping', 'especial', 'especially', 'espouse', 'ess', 'essence', 'essential', 'essentially', 'essentials', 'establish', 'established', 'establishes', 'establishing', 'establishment', 'establishments', 'estate', 'esteem', 'esteemed', 'estimate', 'estimated', 'estimates', 'estimation', 'estranged', 'eternal', 'eternally', 'eternity', 'ethics', 'ethnic', 'etimes', 'europe', 'european', 'evacuation', 'evade', 'evanescent', 'evasion', 'eve', 'even', 'evening', 'evenly', 'event', 'eventful', 'events', 'eventual', 'eventually', 'ever', 'every', 'everyday', 'everyone', 'everything', 'everywhere', 'evidence', 'evidences', 'evident', 'evidently', 'evil', 'evils', 'evince', 'evinced', 'evoke', 'evoked', 'evolutions', 'ex', 'exact', 'exacted', 'exacting', 'exaction', 'exactions', 'exactly', 'exaggerated', 'exalt', 'exalted', 'examination', 'examine', 'example', 'examples', 'exasperated', 'exasperation', 'exceed', 'exceeded', 'exceeding', 'excellence', 'excellent', 'except', 'excepted', 'excepting', 'exception', 'exceptional', 'exceptions', 'excess', 'excessive', 'exchange', 'exchanged', 'exchanges', 'excise', 'excises', 'excite', 'excited', 'excitement', 'exciting', 'exclude', 'excluded', 'exclusive', 'exclusively', 'excursions', 'excusable', 'excuse', 'excused', 'execute', 'executed', 'executes', 'executing', 'execution', 'executions', 'executive', 'exemplar', 'exemplified', 'exemplify', 'exempt', 'exempted', 'exercise', 'exercised', 'exercises', 'exercising', 'exert', 'exerted', 'exertion', 'exertions', 'exhaust', 'exhausted', 'exhausting', 'exhaustive', 'exhaustless', 'exhibit', 'exhibited', 'exhibiting', 'exhibitions', 'exhilarated', 'exhortation', 'exhortations', 'exigencies', 'exigency', 'exile', 'exiles', 'exist', 'existed', 'existence', 'existing', 'exists', 'exonerated', 'exp', 'expand', 'expanded', 'expanding', 'expands', 'expansion', 'expect', 'expectation', 'expectations', 'expected', 'expecting', 'expedience', 'expedient', 'expedients', 'expeditionary', 'expeditious', 'expelled', 'expen', 'expendable', 'expenditure', 'expenditures', 'expense', 'expenses', 'expensive', 'experience', 'experienced', 'experiences', 'experiencing', 'experiment', 'experimentation', 'experiments', 'experts', 'expiration', 'expiring', 'explain', 'explained', 'explaining', 'explanation', 'explicitly', 'exploded', 'exploit', 'exploitation', 'exploits', 'explore', 'explored', 'exploring', 'export', 'exportation', 'exports', 'expose', 'exposed', 'exposing', 'exposition', 'expositions', 'exposure', 'expounded', 'express', 'expressed', 'expresses', 'expressing', 'expression', 'expressly', 'extend', 'extended', 'extending', 'extends', 'extension', 'extensive', 'extensively', 'extent', 'extenuating', 'exterior', 'exterminating', 'extermination', 'external', 'extinct', 'extinction', 'extinguish', 'extinguished', 'extinguishment', 'extorted', 'extra', 'extraneous', 'extraordinary', 'extravagance', 'extravagant', 'extreme', 'extremely', 'extremities', 'extricate', 'exultation', 'eye', 'eyes', 'fabric', 'fabrics', 'face', 'faced', 'faces', 'facile', 'facilitate', 'facilitating', 'facilities', 'facility', 'facing', 'fact', 'faction', 'factions', 'factor', 'factories', 'factory', 'facts', 'faculties', 'faculty', 'fade', 'fail', 'failed', 'failing', 'failure', 'failures', 'faint', 'faintness', 'fair', 'faire', 'fairer', 'fairest', 'fairly', 'fairness', 'faith', 'faithful', 'faithfully', 'faiths', 'fall', 'fallacy', 'fallen', 'fallible', 'falling', 'falls', 'false', 'falsehood', 'falsity', 'falter', 'fame', 'famed', 'familiar', 'familiarity', 'families', 'family', 'fanatical', 'fanaticism', 'fans', 'fantastic', 'far', 'fare', 'farewell', 'farm', 'farmer', 'farmers', 'farms', 'farthing', 'fascism', 'fashion', 'fashioned', 'fashioning', 'fast', 'fatal', 'fatalistic', 'fate', 'father', 'fathers', 'fault', 'faults', 'favor', 'favorable', 'favorably', 'favored', 'favoritism', 'favors', 'fear', 'feared', 'fearful', 'fearfully', 'fearing', 'fearless', 'fears', 'fearsome', 'feasibility', 'feasible', 'feature', 'features', 'february', 'fed', 'federal', 'federalists', 'federative', 'feeble', 'feed', 'feel', 'feeling', 'feelings', 'feet', 'felicitate', 'felicitation', 'felicities', 'felicity', 'fell', 'fellow', 'fellowmen', 'fellowship', 'felt', 'fertile', 'fervent', 'fervently', 'fever', 'feverish', 'few', 'fiat', 'fiber', 'fiction', 'fide', 'fidelity', 'field', 'fields', 'fierce', 'fifteen', 'fifteenth', 'fifth', 'fiftieth', 'fifty', 'fight', 'fighting', 'figures', 'fill', 'filled', 'fills', 'final', 'finally', 'finance', 'finances', 'financial', 'financing', 'find', 'finding', 'finds', 'fine', 'finer', 'finish', 'finished', 'finishing', 'fire', 'fired', 'firefighter', 'fires', 'firing', 'firm', 'firmament', 'firmer', 'firmest', 'firmly', 'firmness', 'first', 'fiscal', 'fiscally', 'fish', 'fisheries', 'fist', 'fit', 'fitness', 'fitted', 'fitting', 'five', 'fix', 'fixed', 'fixing', 'flag', 'flame', 'flames', 'flashes', 'flattered', 'flattering', 'flattery', 'flawed', 'flaws', 'fled', 'fleeting', 'fleets', 'flew', 'flexible', 'flimsy', 'float', 'floats', 'flocking', 'florida', 'floridas', 'flourish', 'flourished', 'flourishes', 'flourishing', 'flout', 'flow', 'flowing', 'flows', 'fluctuation', 'flushed', 'fly', 'flyleaf', 'foe', 'foes', 'fog', 'fold', 'folds', 'follow', 'followed', 'following', 'follows', 'folly', 'fomenting', 'fondest', 'fondly', 'food', 'foolish', 'foolishly', 'footing', 'footprints', 'footsteps', 'for', 'forbear', 'forbearance', 'forbearers', 'forbearing', 'forbid', 'forbidden', 'forbidding', 'forbids', 'force', 'forced', 'forces', 'forebears', 'foreboding', 'forebodings', 'forecast', 'foreclosure', 'forefathers', 'forefront', 'forego', 'foregoing', 'foreign', 'foreigners', 'foremost', 'foresaw', 'foresee', 'foreseen', 'foresight', 'forest', 'forests', 'foretold', 'forever', 'forge', 'forged', 'forget', 'forgetting', 'forging', 'forgiveness', 'forgotten', 'form', 'formation', 'formed', 'former', 'formerly', 'formidable', 'formidably', 'forming', 'forms', 'formula', 'formulate', 'formulating', 'formulation', 'forsake', 'forsaken', 'fort', 'forth', 'forthwith', 'fortifications', 'fortified', 'fortifies', 'fortify', 'fortitude', 'fortress', 'forts', 'fortuitous', 'fortunate', 'fortunately', 'fortune', 'fortunes', 'forty', 'forum', 'forward', 'foster', 'fostered', 'fostering', 'fought', 'found', 'foundation', 'foundations', 'founded', 'founders', 'founding', 'fountain', 'fountains', 'four', 'fourfold', 'fourteenth', 'fourth', 'fraction', 'fractured', 'fragile', 'fragments', 'frame', 'framed', 'framers', 'framework', 'framing', 'france', 'franchise', 'franchises', 'frank', 'franklin', 'frankly', 'frankness', 'fraternal', 'fraternity', 'fraud', 'frauds', 'fraught', 'free', 'freed', 'freedmen', 'freedom', 'freedoms', 'freeing', 'freely', 'freeman', 'freemen', 'freer', 'freezing', 'french', 'frequency', 'frequent', 'frequently', 'fresh', 'freshman', 'friction', 'friend', 'friendliest', 'friendliness', 'friendly', 'friends', 'friendship', 'friendships', 'frightened', 'frightful', 'fringe', 'fringed', 'from', 'front', 'frontier', 'frontiers', 'frowning', 'frozen', 'frugal', 'frugality', 'fruit', 'fruitful', 'fruition', 'fruits', 'frustrated', 'frustration', 'fuel', 'fugitive', 'fugitives', 'fulfill', 'fulfilled', 'fulfilling', 'fulfillment', 'full', 'fuller', 'fullest', 'fullness', 'fully', 'function', 'functionaries', 'functions', 'fund', 'fundamental', 'fundamentally', 'funds', 'funeral', 'furnace', 'furnaces', 'furnish', 'furnished', 'furnishes', 'furnishing', 'further', 'furtherance', 'fury', 'futile', 'futility', 'future', 'gain', 'gained', 'gaining', 'gains', 'galaxy', 'gallant', 'gallantry', 'gangs', 'gaping', 'garden', 'garrison', 'gates', 'gather', 'gathered', 'gathering', 'gatun', 'gave', 'gay', 'gaze', 'general', 'generally', 'generate', 'generation', 'generations', 'generosity', 'generous', 'genial', 'genius', 'gentlemen', 'gentleness', 'gentler', 'genuine', 'geographical', 'george', 'germany', 'get', 'gets', 'gettysburg', 'ghent', 'giant', 'giants', 'gift', 'gifts', 'gigantic', 'gillis', 'girl', 'give', 'given', 'giver', 'gives', 'giving', 'glad', 'gladdened', 'gladly', 'gladness', 'glance', 'global', 'globe', 'gloomy', 'glories', 'glorified', 'glorious', 'glory', 'glow', 'glut', 'go', 'goad', 'goal', 'goals', 'god', 'godsend', 'goes', 'goethals', 'going', 'goingness', 'gold', 'golden', 'gone', 'good', 'goodness', 'goods', 'goodwill', 'gore', 'gotten', 'gover', 'govern', 'governed', 'governing', 'government', 'governmental', 'governments', 'governs', 'grace', 'gracious', 'graciously', 'gradual', 'gradually', 'graduated', 'grand', 'grandchildren', 'grander', 'grandest', 'grandeur', 'grandparents', 'grant', 'granted', 'granting', 'grants', 'grasp', 'grasping', 'grateful', 'gratefully', 'gratification', 'gratified', 'gratifying', 'gratitude', 'grave', 'graver', 'graves', 'gravest', 'gravity', 'gray', 'great', 'greater', 'greatest', 'greatly', 'greatness', 'greed', 'green', 'grids', 'grief', 'grievances', 'grim', 'grinding', 'grip', 'gripped', 'groans', 'groping', 'gross', 'grosser', 'ground', 'grounds', 'group', 'groupings', 'groups', 'grow', 'grower', 'growing', 'grown', 'grows', 'growth', 'grudging', 'grudgingly', 'guadalcanal', 'guarantee', 'guaranteed', 'guarantees', 'guaranties', 'guaranty', 'guard', 'guarded', 'guardian', 'guardians', 'guardianship', 'guarding', 'guards', 'guests', 'guidance', 'guide', 'guided', 'guides', 'guiding', 'guilt', 'guilty', 'gulf', 'guns', 'ha', 'habeas', 'habit', 'habits', 'habitual', 'habitually', 'had', 'hadn', 'hague', 'half', 'halfway', 'hall', 'hallowed', 'halls', 'halt', 'halted', 'halts', 'hamper', 'hand', 'handed', 'handful', 'handicap', 'handled', 'handmaid', 'hands', 'hang', 'hanging', 'hangs', 'happen', 'happenings', 'happens', 'happier', 'happiest', 'happily', 'happiness', 'happy', 'harbor', 'harbors', 'hard', 'harder', 'hardest', 'hardheartedness', 'hardier', 'hardihood', 'hardly', 'hardship', 'hardships', 'hardworking', 'hardy', 'harm', 'harmless', 'harmonious', 'harmoniously', 'harmonize', 'harmony', 'harness', 'harnessing', 'harshest', 'harshly', 'harvest', 'harvests', 'has', 'haste', 'hasten', 'hastily', 'hasty', 'hat', 'hatchet', 'hate', 'hated', 'hateful', 'hatfield', 'hath', 'hatred', 'hatreds', 'haunt', 'have', 'haven', 'having', 'havoc', 'hazard', 'hazarded', 'hazards', 'he', 'head', 'headedness', 'heading', 'headlines', 'heads', 'headsprings', 'heal', 'healed', 'healing', 'health', 'healthful', 'healthy', 'heaps', 'hear', 'heard', 'hearers', 'hearing', 'heart', 'heartburnings', 'hearted', 'heartened', 'heartening', 'heartfelt', 'hearthfire', 'hearthstone', 'heartily', 'heartless', 'hearts', 'heartstrings', 'hearty', 'heat', 'heated', 'heaven', 'heavenly', 'heavens', 'heavily', 'heavy', 'heed', 'heedless', 'heedlessness', 'height', 'heightened', 'heights', 'heirs', 'held', 'help', 'helped', 'helpful', 'helpfulness', 'helping', 'helpless', 'helps', 'helvetic', 'hemisphere', 'hence', 'henceforth', 'her', 'here', 'hereafter', 'herein', 'heretofore', 'heritage', 'hero', 'heroes', 'heroic', 'heroism', 'herself', 'hesitate', 'hesitation', 'hidden', 'hides', 'hiding', 'high', 'higher', 'highest', 'highly', 'highways', 'hile', 'hill', 'hills', 'hillsides', 'him', 'himself', 'hindrance', 'hindus', 'hire', 'hiring', 'his', 'historic', 'historical', 'history', 'hit', 'hitherto', 'hitherward', 'hoards', 'hold', 'holder', 'holders', 'holding', 'holds', 'holiday', 'holy', 'homage', 'home', 'homeless', 'homes', 'homestead', 'honest', 'honestly', 'honesty', 'honor', 'honorable', 'honorably', 'honored', 'honoring', 'honors', 'hope', 'hoped', 'hopeful', 'hopefully', 'hopefulness', 'hopeless', 'hopelessness', 'hopes', 'hoping', 'horizon', 'horizons', 'horn', 'horrors', 'horseback', 'hospitable', 'hospitality', 'host', 'hostile', 'hostilities', 'hostility', 'hot', 'hour', 'hours', 'house', 'housed', 'household', 'houses', 'housing', 'how', 'however', 'huddled', 'human', 'humane', 'humanity', 'humanize', 'humankind', 'humble', 'humbled', 'humblest', 'humbly', 'humiliating', 'humiliation', 'humiliations', 'humility', 'humors', 'humphrey', 'hundred', 'hundreds', 'hunger', 'hungers', 'hungry', 'hunter', 'hunters', 'hurricanes', 'hurry', 'hurt', 'hurtful', 'hurts', 'husband', 'husbandry', 'hushing', 'huts', 'hymns', 'hypercritical', 'hysteria', 'ich', 'icy', 'idea', 'ideal', 'idealism', 'idealistic', 'idealists', 'ideals', 'ideas', 'identical', 'identified', 'identity', 'ideologies', 'ideology', 'idle', 'idleness', 'if', 'igniting', 'ignorance', 'ignorant', 'ignore', 'ignored', 'ii', 'ill', 'illegal', 'illiteracy', 'illness', 'illnesses', 'ills', 'illuminated', 'illumined', 'illumines', 'illustrated', 'illustrious', 'image', 'imagination', 'imagine', 'imbibed', 'imbittered', 'imitate', 'imitating', 'imitation', 'immeasurable', 'immeasurably', 'immediate', 'immediately', 'immense', 'immensely', 'immigrant', 'immigrants', 'immigration', 'imminent', 'immortal', 'immunities', 'immunity', 'immutable', 'impact', 'impair', 'impaired', 'impairing', 'impairment', 'imparted', 'impartial', 'impartiality', 'impartially', 'impassable', 'impassioned', 'impatience', 'impede', 'impelled', 'impels', 'impending', 'impenetrable', 'imperative', 'imperatively', 'imperfect', 'imperfection', 'imperfectly', 'imperialism', 'imperiled', 'imperious', 'imperishable', 'impertinence', 'implements', 'implicated', 'implication', 'implicit', 'implied', 'implies', 'implore', 'imply', 'imponderable', 'import', 'importance', 'important', 'importantly', 'importation', 'imports', 'importunate', 'importunity', 'impose', 'imposed', 'imposes', 'imposing', 'imposition', 'impossibility', 'impossible', 'impost', 'imposts', 'impotence', 'impotency', 'impotent', 'impoverished', 'impoverishing', 'impoverishment', 'impracticable', 'impregnable', 'impregnably', 'impress', 'impressed', 'impresses', 'impression', 'impressions', 'impressive', 'impressively', 'improper', 'improprieties', 'impropriety', 'improve', 'improved', 'improvement', 'improvements', 'improving', 'improvised', 'impulse', 'impulses', 'impunity', 'in', 'inability', 'inaction', 'inadequacy', 'inadequate', 'inadmissible', 'inalienable', 'inapplicable', 'inasmuch', 'inattention', 'inaugural', 'inaugurate', 'inaugurated', 'inauguration', 'inborn', 'incalculable', 'incapable', 'incapacities', 'incapacity', 'incautiously', 'incentive', 'incentives', 'inches', 'incident', 'incidental', 'incidents', 'inclination', 'inclining', 'include', 'included', 'including', 'income', 'incomes', 'incoming', 'incomparably', 'incompatible', 'incompetence', 'incompetency', 'incompetent', 'inconceivable', 'incongruity', 'inconsiderable', 'inconsiderate', 'inconsiderately', 'inconsistencies', 'inconsistent', 'inconvenient', 'incorporated', 'increase', 'increased', 'increases', 'increasing', 'increasingly', 'incredible', 'incredibly', 'inculcate', 'inculcating', 'incumbency', 'incumbent', 'incumbents', 'incurred', 'incurring', 'indebted', 'indebtedness', 'indecent', 'indeed', 'independence', 'independent', 'independently', 'indian', 'indians', 'indicate', 'indicated', 'indicates', 'indicating', 'indications', 'indicators', 'indicted', 'indies', 'indifference', 'indifferent', 'indigent', 'indignant', 'indignantly', 'indignation', 'indignity', 'indirect', 'indirectly', 'indiscriminate', 'indispensable', 'indispensably', 'indissoluble', 'individual', 'individualists', 'individuality', 'individually', 'individuals', 'indivisible', 'indo', 'induce', 'induced', 'inducement', 'induces', 'inducing', 'induction', 'indulge', 'indulged', 'indulgence', 'indulging', 'industrial', 'industrialism', 'industrialists', 'industrially', 'industries', 'industrious', 'industry', 'inefficiency', 'inefficient', 'inefficiently', 'inequality', 'inescapably', 'inessential', 'inestimable', 'inevitability', 'inevitable', 'inevitably', 'inexcusable', 'inexhaustible', 'inexorable', 'inexpedient', 'inexpressibly', 'inextricably', 'infancy', 'infant', 'infect', 'inference', 'inferior', 'infinite', 'infinitely', 'infirm', 'infirmity', 'inflated', 'inflation', 'inflations', 'inflexible', 'inflict', 'inflicted', 'influence', 'influenced', 'influences', 'influential', 'inform', 'information', 'informed', 'infraction', 'infrastructure', 'infringed', 'infuriated', 'infused', 'infusing', 'ing', 'ingenuity', 'inhabit', 'inhabitant', 'inhabitants', 'inherent', 'inherently', 'inherit', 'inheritance', 'inheritances', 'inherited', 'inheriting', 'inhospitable', 'inimical', 'initiate', 'initiated', 'initiative', 'initiatives', 'injunction', 'injunctions', 'injure', 'injured', 'injuries', 'injuring', 'injurious', 'injuriously', 'injury', 'injustice', 'inland', 'inlets', 'inn', 'innate', 'inner', 'innocence', 'innocents', 'innovation', 'inordinate', 'inquietude', 'inquire', 'inquiry', 'inquisition', 'ins', 'insatiable', 'inscribes', 'insensible', 'inseparable', 'inside', 'insidious', 'insight', 'insignificance', 'insignificant', 'insinuation', 'insist', 'insisted', 'insistence', 'insistent', 'insisting', 'insists', 'insofar', 'insolent', 'inspection', 'inspiration', 'inspirations', 'inspire', 'inspired', 'inspires', 'inspiring', 'installed', 'instance', 'instances', 'instant', 'instantaneously', 'instantly', 'instead', 'instinct', 'instinctively', 'instituted', 'institution', 'institutions', 'instruct', 'instructed', 'instruction', 'instructions', 'instructive', 'instructors', 'instrument', 'instrumental', 'instrumentalities', 'instrumentality', 'instruments', 'insufficient', 'insult', 'insuperable', 'insurance', 'insure', 'insurgent', 'insurgents', 'insuring', 'insurmountable', 'insurrection', 'insurrectional', 'insurrectionary', 'intact', 'integrity', 'intellect', 'intellects', 'intellectual', 'intelligence', 'intelligences', 'intelligent', 'intelligible', 'intend', 'intended', 'intends', 'intense', 'intensely', 'intensity', 'intent', 'intention', 'intentional', 'intentioned', 'intentions', 'intercourse', 'interdependence', 'interdependent', 'interest', 'interested', 'interesting', 'interests', 'interfere', 'interfered', 'interference', 'interfering', 'interior', 'interlocked', 'interlude', 'intermission', 'internal', 'internally', 'international', 'internationality', 'internet', 'interoceanic', 'interpose', 'interposing', 'interpret', 'interpretation', 'interpreted', 'interpreters', 'interruptions', 'intersecting', 'interstate', 'interval', 'intervals', 'intervene', 'intervened', 'intervening', 'intervention', 'intimacy', 'intimate', 'intimately', 'intimidate', 'into', 'intolerable', 'intolerance', 'intolerant', 'intrenched', 'intricacies', 'intricate', 'intrigue', 'intrigues', 'intrinsic', 'intrinsically', 'introduced', 'introduction', 'intrusion', 'intrusions', 'intrust', 'intrusted', 'intuitions', 'intuitive', 'inure', 'inured', 'invade', 'invaded', 'invader', 'invading', 'invaluable', 'invariably', 'invasion', 'invasions', 'invective', 'invent', 'invented', 'invention', 'inventions', 'inventive', 'inventory', 'invest', 'invested', 'investigate', 'investigation', 'investigations', 'investing', 'investment', 'investments', 'investor', 'invidious', 'invigorate', 'invigorated', 'invincible', 'inviolability', 'inviolable', 'inviolate', 'invisible', 'invitation', 'invitations', 'invite', 'invited', 'invites', 'inviting', 'invoke', 'invoked', 'invokes', 'invoking', 'involuntary', 'involve', 'involved', 'involvement', 'involves', 'involving', 'ion', 'ions', 'iowa', 'iraq', 'iron', 'irredeemable', 'irresistible', 'irresistibly', 'irresponsibility', 'irresponsible', 'irrevocable', 'irrevocably', 'irritated', 'irritating', 'is', 'isaiah', 'islamic', 'island', 'islands', 'isle', 'isles', 'ism', 'isolated', 'isolation', 'israel', 'issue', 'issued', 'issues', 'issuing', 'isthmus', 'it', 'italy', 'itemized', 'items', 'its', 'itself', 'iwo', 'jailed', 'janeiro', 'january', 'jarring', 'jars', 'jealous', 'jealousies', 'jealously', 'jealousy', 'jefferson', 'jeopard', 'jeopardized', 'jericho', 'jews', 'jima', 'job', 'jobbers', 'jobs', 'john', 'johnson', 'join', 'joined', 'joint', 'joseph', 'journal', 'journey', 'journeyed', 'joy', 'joyful', 'jubilee', 'judge', 'judged', 'judges', 'judgment', 'judgments', 'judicial', 'judiciary', 'judicious', 'judiciously', 'juggler', 'julia', 'july', 'juncture', 'jungle', 'jungles', 'juries', 'jurisdiction', 'jurisprudence', 'just', 'justice', 'justiciable', 'justifiable', 'justification', 'justified', 'justifies', 'justify', 'justly', 'justness', 'kansas', 'keen', 'keep', 'keepers', 'keeping', 'keeps', 'kept', 'key', 'khe', 'kill', 'killed', 'killing', 'kind', 'kinder', 'kindled', 'kindles', 'kindly', 'kindness', 'kindred', 'kinds', 'king', 'kings', 'kitchen', 'kite', 'knees', 'knew', 'knife', 'knight', 'knit', 'know', 'knowing', 'knowingly', 'knowledge', 'known', 'knows', 'koran', 'korea', 'label', 'labeled', 'labor', 'laborer', 'laborers', 'laboring', 'labors', 'labs', 'lack', 'lacking', 'lady', 'laid', 'laissez', 'lakes', 'lamented', 'land', 'landmarks', 'lands', 'landscape', 'lanes', 'language', 'languished', 'languishes', 'languishing', 'languor', 'lapse', 'larceny', 'large', 'largely', 'larger', 'largest', 'lash', 'last', 'lasting', 'lastly', 'lasts', 'late', 'lately', 'latent', 'later', 'latest', 'lathes', 'latitude', 'latter', 'latterly', 'laugh', 'laughter', 'launched', 'law', 'lawful', 'lawfully', 'lawgiver', 'lawgivers', 'lawless', 'lawlessness', 'laws', 'lawyer', 'lay', 'laying', 'le', 'lead', 'leader', 'leaders', 'leadership', 'leading', 'leads', 'league', 'learn', 'learned', 'learning', 'learns', 'learnt', 'least', 'leave', 'leaves', 'leaving', 'led', 'ledgers', 'left', 'legacies', 'legacy', 'legal', 'legalized', 'legally', 'legend', 'legible', 'legions', 'legislate', 'legislated', 'legislation', 'legislative', 'legislators', 'legislature', 'legislatures', 'legitimate', 'legitimately', 'leisure', 'lend', 'lending', 'length', 'lengthens', 'lenient', 'less', 'lessen', 'lessened', 'lessening', 'lesson', 'lessons', 'lest', 'let', 'letter', 'letters', 'levees', 'level', 'leveled', 'levels', 'levers', 'levied', 'levy', 'levying', 'liabilities', 'liability', 'liable', 'liberal', 'liberality', 'liberally', 'liberate', 'liberated', 'liberating', 'liberation', 'liberator', 'liberties', 'liberty', 'library', 'licentiousness', 'lie', 'lies', 'lieu', 'life', 'lifeblood', 'lifeless', 'lifetime', 'lift', 'lifted', 'lifting', 'light', 'lighted', 'lighten', 'lightened', 'lightening', 'lightly', 'lightness', 'lightning', 'lights', 'like', 'likely', 'likeness', 'likes', 'likewise', 'limb', 'limbs', 'limit', 'limitation', 'limitations', 'limited', 'limiting', 'limitless', 'limits', 'lincoln', 'line', 'lines', 'link', 'linked', 'liquor', 'list', 'listen', 'listening', 'lit', 'literary', 'literature', 'litigation', 'little', 'livable', 'live', 'lived', 'livelihood', 'lives', 'living', 'll', 'loans', 'loath', 'local', 'locality', 'localized', 'locate', 'located', 'lock', 'locked', 'locks', 'locusts', 'lodging', 'loftiest', 'lofty', 'logic', 'logically', 'lone', 'lonely', 'long', 'longed', 'longer', 'longest', 'longing', 'longings', 'look', 'looked', 'looking', 'looks', 'loose', 'lopped', 'lord', 'lose', 'loses', 'losing', 'loss', 'losses', 'lost', 'lot', 'louder', 'loudly', 'louisiana', 'love', 'loved', 'loveliness', 'lover', 'loves', 'loving', 'low', 'lower', 'lowest', 'loyal', 'loyally', 'loyalty', 'lucky', 'lunar', 'lure', 'lures', 'luring', 'lurk', 'lurking', 'lurks', 'luster', 'luther', 'luxuries', 'lying', 'lynchings', 'machine', 'machinery', 'macleish', 'mad', 'made', 'madison', 'madness', 'magic', 'magical', 'magistrate', 'magna', 'magnanimity', 'magnanimous', 'magnificence', 'magnificent', 'magnificently', 'magnify', 'magnifying', 'magnitude', 'mai', 'mail', 'mailing', 'mails', 'maimed', 'main', 'mainland', 'maintain', 'maintained', 'maintaining', 'maintains', 'maintenance', 'majestic', 'majesty', 'major', 'majorities', 'majority', 'make', 'maker', 'makers', 'makes', 'maketh', 'makeup', 'making', 'malaya', 'malice', 'malign', 'mall', 'man', 'manage', 'managed', 'management', 'mandate', 'mandates', 'maneuver', 'manfully', 'manger', 'manhood', 'manifest', 'manifestation', 'manifestations', 'manifested', 'manifesting', 'manifestly', 'manifests', 'manifold', 'mankind', 'manlier', 'manliness', 'manly', 'manner', 'manners', 'manufactured', 'manufacturer', 'manufacturers', 'manufactures', 'manufacturing', 'many', 'maps', 'marble', 'march', 'marched', 'margin', 'marginalized', 'marine', 'mariners', 'maritime', 'mark', 'marked', 'marker', 'markers', 'market', 'markets', 'marks', 'marred', 'mars', 'marshaled', 'marshals', 'martin', 'marts', 'marvelous', 'mass', 'massachusetts', 'massacre', 'massed', 'masses', 'massive', 'master', 'mastered', 'masters', 'mastery', 'match', 'matches', 'matchless', 'material', 'materially', 'materials', 'math', 'mathias', 'matter', 'matters', 'mature', 'matured', 'maturing', 'maturity', 'maxim', 'maxims', 'maximum', 'may', 'mayflower', 'me', 'meager', 'mean', 'meaning', 'meaningful', 'means', 'meant', 'meantime', 'measurable', 'measure', 'measured', 'measureless', 'measures', 'mechanic', 'mechanical', 'mechanism', 'meddle', 'mediation', 'medicaid', 'medicare', 'medicine', 'mediocrity', 'mediterranean', 'medium', 'meet', 'meeting', 'meetings', 'meets', 'melancholy', 'meliorate', 'member', 'members', 'membership', 'memorable', 'memorial', 'memories', 'memory', 'men', 'menace', 'menaced', 'menaces', 'menacing', 'mental', 'mention', 'mentioned', 'mentor', 'mercantile', 'merchandise', 'merchant', 'mercifully', 'mercy', 'mere', 'merely', 'merge', 'merged', 'merit', 'merited', 'meritorious', 'meritoriously', 'merits', 'message', 'messages', 'met', 'metal', 'metallic', 'metals', 'method', 'methods', 'metropolis', 'mexico', 'micah', 'michel', 'michelle', 'microchip', 'middle', 'midst', 'midway', 'might', 'mightiest', 'mighty', 'mild', 'miles', 'milestone', 'militarists', 'militarize', 'military', 'militia', 'militias', 'mill', 'millennium', 'million', 'millions', 'mills', 'mind', 'minded', 'mindedness', 'mindful', 'mindfulness', 'minds', 'mine', 'mineral', 'mines', 'mingled', 'mingling', 'minimize', 'minimum', 'mining', 'minister', 'ministered', 'ministers', 'minor', 'minorities', 'minority', 'minute', 'miracle', 'miracles', 'misappropriation', 'mischief', 'mischiefs', 'mischievous', 'misconceptions', 'misconstruction', 'misconstrue', 'misconstrued', 'misdirect', 'miseries', 'misery', 'misfortune', 'misguided', 'misinterpret', 'misinterpreted', 'misjudged', 'mislead', 'misled', 'misrepresentation', 'miss', 'missiles', 'missing', 'mission', 'missions', 'mississippi', 'missouri', 'mistake', 'mistaken', 'mistakes', 'mistrust', 'mists', 'misunderstand', 'misunderstanding', 'misunderstood', 'mitchell', 'mitigate', 'mixed', 'mmunity', 'mob', 'mobile', 'mobs', 'mockery', 'mode', 'model', 'models', 'moderate', 'moderation', 'modern', 'modes', 'modification', 'modified', 'modify', 'molest', 'moment', 'momentous', 'moments', 'momentum', 'monarchical', 'monarchies', 'monarchy', 'mondale', 'monday', 'monetary', 'money', 'moneys', 'monopolies', 'monopoly', 'monroe', 'montana', 'month', 'monthly', 'months', 'monticello', 'monument', 'monumental', 'monuments', 'moomaw', 'moon', 'moral', 'morality', 'morally', 'morals', 'morbid', 'more', 'moreover', 'mormon', 'mortal', 'mortgaging', 'mortifications', 'moscow', 'mosque', 'most', 'mostly', 'mother', 'mothers', 'motion', 'motivated', 'motive', 'motives', 'motto', 'mount', 'mountain', 'mountaineer', 'mountains', 'mountaintop', 'mouth', 'move', 'moved', 'movement', 'movements', 'moves', 'moving', 'mr', 'mrs', 'much', 'multiplication', 'multiplied', 'multiply', 'multiplying', 'multitude', 'multitudes', 'municipal', 'munitions', 'murder', 'murmur', 'music', 'musket', 'muskets', 'muslim', 'muslims', 'must', 'muster', 'mustered', 'mutation', 'mutual', 'mutuality', 'mutually', 'my', 'myriad', 'myself', 'mysteries', 'mystery', 'mystic', 'mystical', 'nagging', 'naive', 'name', 'named', 'nameless', 'names', 'narrow', 'narrowed', 'narrowest', 'narrowing', 'narrowly', 'nation', 'national', 'nationalistic', 'nationality', 'nationhood', 'nations', 'native', 'natural', 'naturalization', 'naturalized', 'naturalizing', 'naturally', 'nature', 'naught', 'naval', 'navies', 'navigable', 'navigation', 'navy', 'nd', 'near', 'nearest', 'nearing', 'nearly', 'nebraska', 'necessaries', 'necessarily', 'necessary', 'necessities', 'necessity', 'neck', 'need', 'needed', 'needful', 'needing', 'needless', 'needs', 'needy', 'negation', 'negations', 'negative', 'neglect', 'neglected', 'negligence', 'negotiate', 'negotiated', 'negotiation', 'negotiations', 'negro', 'negroes', 'neighbor', 'neighborhood', 'neighborhoods', 'neighboring', 'neighbors', 'neill', 'neither', 'network', 'networks', 'neutr', 'neutral', 'neutrality', 'never', 'new', 'newly', 'news', 'newspaper', 'newtown', 'next', 'nflicts', 'nigh', 'night', 'ninth', 'nixon', 'nment', 'no', 'nobility', 'noble', 'nobleness', 'nobler', 'noblest', 'nominate', 'nominated', 'nomination', 'non', 'none', 'noninterference', 'noninvolvement', 'nonpartisan', 'nor', 'normal', 'normalcy', 'normandy', 'north', 'northern', 'northerners', 'not', 'notably', 'note', 'noted', 'notes', 'noteworthy', 'nothing', 'notice', 'notification', 'noting', 'notwithstanding', 'nourish', 'nourished', 'nourishes', 'november', 'now', 'nowhere', 'ntain', 'nticipate', 'nuclear', 'nucleus', 'nullify', 'number', 'numberless', 'numbers', 'numerous', 'nursery', 'nurture', 'oar', 'oath', 'oaths', 'obama', 'obedience', 'obedient', 'obey', 'obeyed', 'obeying', 'object', 'objection', 'objections', 'objective', 'objectives', 'objects', 'obligation', 'obligations', 'obliged', 'obliges', 'obliging', 'obliteration', 'obnoxious', 'obscure', 'obscured', 'observable', 'observance', 'observation', 'observations', 'observe', 'observed', 'observer', 'observers', 'observing', 'obsessions', 'obsolete', 'obstacle', 'obstacles', 'obstructed', 'obstruction', 'obstructionists', 'obstructions', 'obtain', 'obtained', 'obtaining', 'obtruding', 'obtrusive', 'obvious', 'obviously', 'occasion', 'occasional', 'occasionally', 'occasions', 'occupancy', 'occupants', 'occupation', 'occupations', 'occupied', 'occupy', 'occupying', 'occur', 'occurred', 'occurrence', 'occurrences', 'ocean', 'oceans', 'october', 'odd', 'odds', 'of', 'off', 'offenders', 'offends', 'offense', 'offenses', 'offensive', 'offer', 'offered', 'offering', 'offers', 'office', 'officer', 'officered', 'officers', 'offices', 'official', 'officially', 'officials', 'offspring', 'often', 'oftener', 'ohio', 'old', 'older', 'oldest', 'omaha', 'ome', 'omen', 'omission', 'omit', 'omitting', 'omnipotence', 'on', 'once', 'one', 'onerous', 'ones', 'onl', 'only', 'onto', 'onward', 'open', 'opened', 'opening', 'openly', 'openness', 'opens', 'operate', 'operated', 'operating', 'operation', 'operations', 'operatives', 'opini', 'opinion', 'opinions', 'opponent', 'opponents', 'opportunism', 'opportunities', 'opportunity', 'oppose', 'opposed', 'opposing', 'opposite', 'opposition', 'oppress', 'oppressed', 'oppressing', 'oppression', 'oppressive', 'oppressors', 'opprobrium', 'optimist', 'options', 'or', 'oracle', 'orators', 'orbits', 'ordain', 'ordained', 'ordaining', 'ordeal', 'order', 'ordered', 'orderly', 'orders', 'ordinances', 'ordinary', 'oregon', 'ores', 'organic', 'organization', 'organizations', 'organized', 'organizers', 'orient', 'origin', 'original', 'originate', 'originated', 'originating', 'origination', 'origins', 'orleans', 'ornament', 'orphan', 'orphans', 'ose', 'ostriches', 'other', 'others', 'otherwise', 'ought', 'our', 'ours', 'ourselves', 'out', 'outbursts', 'outcome', 'outgo', 'outgoing', 'outgrow', 'outgrown', 'outgrowth', 'outlast', 'outlaw', 'outlawing', 'outlawry', 'outlaws', 'outlays', 'outlet', 'outline', 'outlines', 'outpaced', 'output', 'outrage', 'outrages', 'outrun', 'outrunning', 'outset', 'outside', 'outstanding', 'outward', 'outweigh', 'outworn', 'over', 'overbalance', 'overbalanced', 'overburdened', 'overcome', 'overestimate', 'overestimated', 'overflowing', 'overleaps', 'overlooked', 'overlooking', 'overlooks', 'overrule', 'overruled', 'overruling', 'overseas', 'overset', 'overshadowed', 'overstep', 'overtake', 'overtaxed', 'overthrow', 'overthrown', 'overturning', 'overwhelm', 'overwhelmed', 'overwhelming', 'overwhelmingly', 'owe', 'owes', 'own', 'owners', 'ownership', 'owning', 'pace', 'paces', 'pacific', 'pacification', 'pacifists', 'pack', 'packed', 'pact', 'paddies', 'page', 'pages', 'paid', 'pain', 'painful', 'paint', 'pall', 'palladium', 'palliated', 'palliation', 'panama', 'panic', 'panoply', 'paper', 'par', 'paradox', 'parallel', 'paralysis', 'paralyzes', 'paramount', 'paraphrase', 'parcel', 'parchment', 'pardoned', 'pardoning', 'parent', 'parental', 'parents', 'paris', 'parity', 'parliament', 'part', 'partake', 'partaking', 'parted', 'partial', 'partialities', 'partiality', 'partially', 'participants', 'participate', 'participating', 'participation', 'particular', 'particularity', 'particularly', 'particulars', 'parties', 'partisan', 'partisans', 'partisanship', 'partition', 'partners', 'parts', 'party', 'pass', 'passage', 'passed', 'passengers', 'passes', 'passing', 'passion', 'passionately', 'passions', 'past', 'pastor', 'pat', 'patchwork', 'patent', 'paternalism', 'path', 'paths', 'pathway', 'patience', 'patient', 'patiently', 'patriot', 'patriotic', 'patriotically', 'patriotis', 'patriotism', 'patriots', 'patrol', 'patron', 'patronage', 'patronize', 'patronized', 'patronizes', 'pattern', 'pause', 'pave', 'paved', 'pay', 'payable', 'paying', 'payment', 'payments', 'pays', 'peabody', 'peace', 'peaceable', 'peaceably', 'peaceful', 'peacefully', 'peacemaker', 'peaks', 'peasantry', 'peculation', 'peculiar', 'peculiarly', 'pecuniary', 'peking', 'penalizes', 'penalties', 'pending', 'penetrating', 'pennsylvania', 'penny', 'pension', 'pensioners', 'penury', 'people', 'peoples', 'perceive', 'perceived', 'perceiving', 'percentage', 'perception', 'perfect', 'perfected', 'perfecting', 'perfection', 'perfectly', 'perform', 'performance', 'performed', 'performing', 'performs', 'perfunctory', 'perhaps', 'peril', 'perilous', 'perils', 'period', 'periodically', 'periods', 'perish', 'perished', 'permanence', 'permanent', 'permanently', 'permeated', 'permit', 'permitted', 'permitting', 'pernicious', 'perpetual', 'perpetuate', 'perpetuating', 'perpetuation', 'perpetuity', 'perplexed', 'perplexities', 'persecute', 'persecutions', 'perseverance', 'persevere', 'persevered', 'persevering', 'persian', 'persisted', 'persistence', 'persistent', 'persistently', 'person', 'personal', 'personally', 'persons', 'perspective', 'persuaded', 'persuading', 'persuasion', 'pertain', 'pervades', 'pervading', 'perversions', 'pervert', 'perverts', 'pestilence', 'petitions', 'petty', 'phase', 'phases', 'philadelphia', 'philanthropist', 'philippine', 'philippines', 'philosophies', 'philosophy', 'phrases', 'physical', 'physically', 'physicists', 'pick', 'picture', 'pictures', 'pieces', 'piercing', 'piety', 'pile', 'piled', 'pilgrimage', 'pillars', 'pioneer', 'pioneers', 'pious', 'piracy', 'piratical', 'pitching', 'pitiable', 'pitiful', 'pitilessly', 'pitted', 'pity', 'placate', 'place', 'placed', 'places', 'placing', 'plague', 'plagues', 'plain', 'plainer', 'plainest', 'plainly', 'plains', 'plan', 'planet', 'planned', 'planning', 'plans', 'plant', 'plantation', 'planted', 'planter', 'planting', 'platform', 'platforms', 'plausibly', 'play', 'plays', 'plead', 'pleading', 'pleasant', 'pleasantness', 'please', 'pleased', 'pleasing', 'pleasure', 'pleasures', 'pledge', 'pledged', 'pledges', 'pledging', 'plentiful', 'plenty', 'pliant', 'plight', 'plighted', 'plowed', 'plunge', 'plural', 'pockets', 'poet', 'poetry', 'point', 'pointed', 'points', 'poised', 'police', 'policies', 'policy', 'polite', 'politic', 'political', 'politically', 'politicians', 'politics', 'polity', 'polls', 'polygamy', 'ponders', 'pool', 'poor', 'pope', 'populace', 'popular', 'populated', 'population', 'populous', 'porch', 'pork', 'portents', 'portion', 'portions', 'porto', 'portray', 'ports', 'position', 'positions', 'positive', 'positively', 'poss', 'possess', 'possessed', 'possesses', 'possessing', 'possession', 'possessions', 'possibilities', 'possibility', 'possible', 'possibly', 'post', 'postal', 'posterity', 'postpone', 'postponed', 'postponement', 'postulations', 'postures', 'postwar', 'potent', 'potentates', 'potential', 'potomac', 'poured', 'poverty', 'power', 'powerful', 'powerless', 'powers', 'pra', 'practicability', 'practicable', 'practical', 'practicality', 'practically', 'practice', 'practiced', 'practices', 'praises', 'pray', 'prayer', 'prayers', 'pre', 'preach', 'preacher', 'precarious', 'precaution', 'precautions', 'preceded', 'precedent', 'preceding', 'precept', 'precepts', 'precious', 'precipitate', 'precise', 'precisely', 'precision', 'preconceived', 'predecessor', 'predecessors', 'predicted', 'prediction', 'predictions', 'predilection', 'predominating', 'preeminence', 'preeminent', 'preeminently', 'prefer', 'preferable', 'preference', 'preferment', 'prefers', 'prejudice', 'prejudices', 'prelude', 'premeditation', 'premium', 'preoccupations', 'preparation', 'preparations', 'preparatory', 'prepare', 'prepared', 'preparing', 'prepossessions', 'preposterous', 'prerequisites', 'prerogative', 'presage', 'presaging', 'prescribe', 'prescribed', 'prescribes', 'prescribing', 'prescription', 'presence', 'present', 'presented', 'presentiments', 'presenting', 'presently', 'presents', 'preservation', 'preserve', 'preserved', 'preserves', 'preserving', 'preside', 'presidency', 'president', 'presidential', 'presidents', 'presides', 'presiding', 'press', 'presses', 'pressing', 'pressure', 'presume', 'presumed', 'presumption', 'presumptuous', 'pretend', 'pretense', 'pretensions', 'pretext', 'prevail', 'prevailed', 'prevailing', 'prevails', 'prevalence', 'prevent', 'prevented', 'preventing', 'prevention', 'prevents', 'previous', 'prey', 'preyed', 'preying', 'price', 'priceless', 'prices', 'pride', 'prideful', 'primarily', 'primary', 'prime', 'primitive', 'prince', 'princes', 'principal', 'principle', 'principles', 'prior', 'priorities', 'prison', 'prisoner', 'prisoners', 'prisons', 'pristine', 'private', 'privilege', 'privileged', 'privileges', 'prize', 'prized', 'probability', 'probable', 'probably', 'probing', 'problem', 'problems', 'procedure', 'proceed', 'proceeded', 'proceeding', 'proceedings', 'proceeds', 'process', 'processes', 'proclaim', 'proclaimed', 'proclaiming', 'proclaims', 'proclamation', 'procured', 'prodigal', 'prodigality', 'produce', 'produced', 'producer', 'producers', 'produces', 'producing', 'product', 'production', 'productions', 'productive', 'productiveness', 'productivity', 'products', 'profaned', 'profess', 'professed', 'professionals', 'professions', 'proficiency', 'profit', 'profitable', 'profitably', 'profits', 'profligacy', 'profound', 'profoundly', 'profuse', 'progeny', 'program', 'programs', 'progress', 'progressed', 'progressing', 'progression', 'progressive', 'prohibit', 'prohibited', 'prohibiting', 'prohibition', 'prohibitions', 'prohibitory', 'project', 'projects', 'proliferation', 'prolific', 'prolonged', 'prominent', 'prominently', 'promise', 'promised', 'promises', 'promising', 'promote', 'promoted', 'promoters', 'promotes', 'promoting', 'promotion', 'promotions', 'prompt', 'prompted', 'promptitude', 'promptly', 'promptness', 'promulgation', 'prone', 'pronounce', 'pronounced', 'proof', 'proofs', 'prop', 'propaganda', 'propagating', 'propagation', 'proper', 'properly', 'property', 'prophecy', 'prophet', 'prophets', 'propitious', 'proportion', 'proportionate', 'proportions', 'proposal', 'proposals', 'propose', 'proposed', 'proposes', 'proposition', 'propositions', 'propriety', 'prosecuted', 'prosecution', 'prospect', 'prospective', 'prosper', 'prospered', 'prosperity', 'prosperous', 'prosperously', 'prospers', 'prostitutes', 'prostrate', 'prostration', 'protect', 'protected', 'protecting', 'protection', 'protective', 'protector', 'protects', 'protest', 'proud', 'proudly', 'prove', 'proved', 'proven', 'proves', 'provide', 'provided', 'providence', 'provident', 'providential', 'provides', 'providing', 'province', 'provincial', 'provincials', 'provision', 'provisions', 'provoking', 'prowess', 'prudence', 'prudent', 'prudential', 'prudently', 'public', 'publications', 'publicly', 'published', 'punish', 'punishment', 'punishments', 'punitive', 'purchase', 'purchased', 'purchasing', 'pure', 'purely', 'purged', 'purification', 'purified', 'purify', 'purity', 'purloining', 'purports', 'purpose', 'purposeful', 'purposes', 'purse', 'pursuance', 'pursue', 'pursued', 'pursuing', 'pursuit', 'pursuits', 'push', 'pushes', 'pushing', 'pusillanimous', 'put', 'puts', 'putting', 'quadrupled', 'qual', 'qualification', 'qualifications', 'qualified', 'qualities', 'quality', 'quarter', 'quarters', 'quayle', 'quest', 'questing', 'question', 'questioned', 'questioning', 'questions', 'quick', 'quicken', 'quickly', 'quiet', 'quieter', 'quietly', 'quite', 'quote', 'race', 'races', 'racial', 'racing', 'racism', 'radiance', 'radiant', 'radical', 'radically', 'rage', 'ragged', 'raging', 'rail', 'railroads', 'rails', 'railway', 'railways', 'rainbow', 'raise', 'raised', 'raising', 'rallied', 'rampart', 'rancor', 'rang', 'range', 'ranges', 'rank', 'ranks', 'rapid', 'rapidity', 'rapidly', 'rare', 'rarely', 'rash', 'rate', 'rates', 'rather', 'ratification', 'ratifications', 'ratified', 'ratify', 'rating', 'rational', 'raucous', 'ravaged', 'ravages', 'raw', 'rays', 're', 'reach', 'reached', 'reaches', 'reaching', 'reaction', 'read', 'readily', 'readiness', 'readjustment', 'readjusts', 'ready', 'reaffirm', 'reaffirming', 'reagan', 'real', 'realistically', 'realities', 'reality', 'realization', 'realize', 'realized', 'realizes', 'realizing', 'really', 'reannexation', 'reap', 'reaped', 'reappear', 'rear', 'reared', 'rearranged', 'reason', 'reasonable', 'reasonably', 'reasoned', 'reasoning', 'reasons', 'reasserted', 'reassurance', 'reassuring', 'reawaken', 'rebellion', 'reborn', 'rebuild', 'rebuilding', 'rebuilds', 'rebuilt', 'recall', 'recanted', 'receding', 'receipts', 'receive', 'received', 'receiving', 'recent', 'recently', 'reciprocal', 'reciprocated', 'reciprocity', 'recital', 'recited', 'reckless', 'reckoning', 'reclaim', 'reclaiming', 'reclamation', 'recognition', 'recognitions', 'recognize', 'recognized', 'recognizes', 'recognizing', 'recoil', 'recoiled', 'recollect', 'recollected', 'recollection', 'recommend', 'recommendation', 'recommendations', 'recommended', 'recommending', 'recommends', 'recompensed', 'reconciled', 'reconciliation', 'reconciling', 'reconnecting', 'reconsecrate', 'reconsider', 'reconsideration', 'reconstruction', 'record', 'recorded', 'records', 'recourse', 'recover', 'recovered', 'recovering', 'recovery', 'recreation', 'recriminations', 'recruiting', 'rectification', 'rectified', 'rectify', 'rectitude', 'recur', 'recurred', 'recurrence', 'recurring', 'red', 'rededicate', 'redeem', 'redemption', 'rediscover', 'rediscovered', 'redistributed', 'redistribution', 'redounds', 'redress', 'reduce', 'reduced', 'reduces', 'reducing', 'reduction', 'reelected', 'reelection', 'reenforced', 'reestablish', 'reestablished', 'reestablishment', 'refer', 'reference', 'referendum', 'referred', 'referring', 'refinements', 'reflect', 'reflected', 'reflecting', 'reflectio', 'reflection', 'reflections', 'reflects', 'reflex', 'reform', 'reformation', 'reformations', 'reformed', 'reformers', 'reforming', 'reforms', 'refrain', 'refresh', 'refreshed', 'refuge', 'refunding', 'refusal', 'refuse', 'refused', 'refuses', 'refusing', 'regain', 'regaining', 'regard', 'regarded', 'regarding', 'regardless', 'regards', 'regime', 'regimes', 'region', 'regional', 'regions', 'registered', 'regret', 'regretted', 'regular', 'regularity', 'regularly', 'regulars', 'regulate', 'regulated', 'regulates', 'regulating', 'regulation', 'regulations', 'rehabilitated', 'rehabilitation', 'reign', 'reinforce', 'reins', 'reinstate', 'reinvent', 'reinvention', 'reiterate', 'reject', 'rejected', 'rejecting', 'rejection', 'rejects', 'rejoice', 'rejoices', 'rejoicing', 'rekindle', 'rekindling', 'rel', 'related', 'relates', 'relation', 'relations', 'relationship', 'relationships', 'relative', 'relaxation', 'relaxed', 'relearned', 'released', 'reliable', 'reliance', 'reliant', 'relied', 'relief', 'relies', 'relieve', 'religion', 'religious', 'religiously', 'relinquished', 'reluctance', 'reluctant', 'reluctantly', 'rely', 'relying', 'remain', 'remainder', 'remained', 'remaining', 'remains', 'remake', 'remaking', 'remark', 'remarkable', 'remarkably', 'remarked', 'remarks', 'remedial', 'remedied', 'remedies', 'remediless', 'remedy', 'remember', 'remembered', 'remembering', 'remembrance', 'remind', 'reminded', 'reminds', 'remnant', 'remote', 'remotely', 'remotest', 'removable', 'removal', 'removals', 'remove', 'removed', 'removing', 'remunerating', 'remuneration', 'rend', 'render', 'rendered', 'rendering', 'renders', 'renew', 'renewal', 'renewed', 'renewing', 'renounce', 'renounced', 'renown', 'renunciation', 'reopen', 'reorganization', 'reorganize', 'repair', 'repaired', 'repairers', 'reparation', 'repartition', 'repay', 'repeal', 'repealed', 'repeat', 'repeated', 'repeatedly', 'repeating', 'repel', 'repelled', 'repelling', 'replace', 'replaced', 'replete', 'reply', 'report', 'reports', 'repose', 'reposed', 'reposes', 'represent', 'representation', 'representations', 'representative', 'representatives', 'represented', 'representing', 'represents', 'repressed', 'repression', 'reproach', 'republic', 'republican', 'republicanism', 'republicans', 'republics', 'repudiation', 'repudiator', 'repugnant', 'reputation', 'request', 'require', 'required', 'requirement', 'requirements', 'requires', 'requisite', 'requisites', 'rescind', 'research', 'researches', 'resentment', 'resentments', 'reservation', 'reservations', 'reserve', 'reserved', 'reservoir', 'resheathed', 'residence', 'resident', 'residents', 'residing', 'residue', 'resigned', 'resilience', 'resist', 'resistance', 'resisted', 'resolutely', 'resolution', 'resolve', 'resolved', 'resolves', 'resort', 'resorted', 'resorting', 'resounding', 'resource', 'resources', 'respect', 'respectable', 'respected', 'respectful', 'respectfully', 'respecting', 'respective', 'respectively', 'respects', 'respite', 'respond', 'responded', 'response', 'responses', 'responsibilities', 'responsibility', 'responsible', 'responsibly', 'rest', 'restated', 'restaurant', 'rested', 'resting', 'restless', 'restlessness', 'restoration', 'restore', 'restored', 'restoring', 'restrain', 'restrained', 'restraining', 'restrains', 'restraint', 'restraints', 'restrict', 'restricted', 'restricting', 'restriction', 'restrictions', 'restrictive', 'restricts', 'rests', 'result', 'resulted', 'resulting', 'results', 'resume', 'resumed', 'resumes', 'resumption', 'resurgent', 'retain', 'retained', 'retaining', 'retains', 'retaliate', 'retaliation', 'retard', 'retarded', 'retards', 'retire', 'retired', 'retirement', 'retrace', 'retreat', 'retrenchment', 'retrospect', 'return', 'returned', 'returning', 'returns', 'reunion', 'reunite', 'reunited', 'revamp', 'reveal', 'revealed', 'revealing', 'revelation', 'revenge', 'revengeful', 'revenue', 'revenues', 'revered', 'reverence', 'reverend', 'reverent', 'reverently', 'reverse', 'reversion', 'review', 'reviewed', 'revise', 'revised', 'revising', 'revision', 'revisions', 'revitalize', 'revival', 'revive', 'revived', 'reviving', 'revocation', 'revolution', 'revolutionary', 'revolutionize', 'reward', 'rewarding', 'rewards', 'rhetoric', 'ribbon', 'rice', 'rich', 'richer', 'riches', 'richest', 'rico', 'rid', 'ridding', 'ride', 'riders', 'rides', 'ridge', 'riding', 'right', 'righteous', 'righteousness', 'rightful', 'rightfully', 'rightly', 'rightness', 'rights', 'rigid', 'rigidly', 'rigor', 'rigorous', 'riminal', 'rings', 'rio', 'riper', 'ripped', 'rise', 'risen', 'rises', 'rising', 'risk', 'risks', 'rivalries', 'rivalry', 'rivals', 'river', 'rivers', 'rivet', 'riveted', 'road', 'roadblocks', 'roads', 'roaming', 'rob', 'robbed', 'robbing', 'robe', 'roberts', 'robes', 'robs', 'robust', 'rock', 'rocked', 'rocket', 'rocky', 'rod', 'rode', 'role', 'roll', 'rolling', 'rolls', 'roman', 'rome', 'room', 'roosevelt', 'root', 'rooted', 'rose', 'rough', 'rounded', 'route', 'routes', 'routinely', 'row', 'rude', 'rudest', 'rugged', 'ruggedness', 'ruin', 'ruinous', 'ruins', 'rule', 'ruler', 'rulers', 'rules', 'run', 'runaway', 'runs', 'rural', 'rush', 'russia', 'rusted', 'ruthless', 'ruthlessly', 'sabbatical', 'sabine', 'sacred', 'sacredly', 'sacredness', 'sacrifice', 'sacrificed', 'sacrifices', 'sacrificing', 'sad', 'safe', 'safeguard', 'safeguarded', 'safeguarding', 'safeguards', 'safely', 'safer', 'safety', 'sagacious', 'sages', 'sahn', 'said', 'sailing', 'sailors', 'saint', 'sake', 'sale', 'salerno', 'sales', 'salutary', 'salute', 'salvation', 'same', 'sanctimonious', 'sanction', 'sanctioned', 'sanctioning', 'sanctions', 'sanctities', 'sanctity', 'sane', 'sanguine', 'sanitary', 'santo', 'sap', 'sapping', 'saps', 'satisfaction', 'satisfactions', 'satisfactorily', 'satisfactory', 'satisfied', 'satisfy', 'satisfying', 'savage', 'savagery', 'savages', 'save', 'saved', 'saving', 'savings', 'savor', 'savory', 'saw', 'say', 'saying', 'says', 'scabbard', 'scale', 'scales', 'scan', 'scapegoats', 'scar', 'scarcely', 'scattered', 'scene', 'scenes', 'schedules', 'scheme', 'schemes', 'scholars', 'school', 'schoolchildren', 'schoolmaster', 'schools', 'science', 'scientific', 'scientists', 'scoffed', 'scope', 'score', 'scorn', 'scorning', 'scourge', 'scripture', 'scruple', 'scruples', 'scrupulous', 'scrupulously', 'scrutinize', 'scrutiny', 'sea', 'seaboard', 'seaboards', 'seacoast', 'seal', 'seamen', 'search', 'searching', 'seared', 'seas', 'season', 'seasonable', 'seasonably', 'seasons', 'seat', 'seats', 'secede', 'secession', 'second', 'secondary', 'secondhand', 'secondly', 'secret', 'secretary', 'secrets', 'sect', 'section', 'sectional', 'sectionalism', 'sections', 'sects', 'secure', 'secured', 'securely', 'secures', 'securing', 'security', 'sedition', 'seduce', 'sedulously', 'see', 'seed', 'seeds', 'seeing', 'seek', 'seekers', 'seeking', 'seeks', 'seem', 'seemed', 'seemingly', 'seemly', 'seems', 'seen', 'sees', 'segregation', 'seize', 'seized', 'seizing', 'seldom', 'select', 'selected', 'selection', 'selections', 'selective', 'self', 'selfish', 'selfishness', 'selflessness', 'sell', 'selma', 'senate', 'senator', 'senators', 'send', 'sending', 'sends', 'seneca', 'sense', 'sensed', 'senses', 'sensibility', 'sensible', 'sensibly', 'sensitive', 'sentence', 'sententious', 'sentiment', 'sentimental', 'sentimentalizing', 'sentiments', 'separate', 'separated', 'separation', 'september', 'serious', 'seriously', 'sermon', 'servant', 'servants', 'serve', 'served', 'serves', 'service', 'services', 'servile', 'serving', 'servitude', 'ses', 'session', 'set', 'sets', 'settle', 'settled', 'settlement', 'settlements', 'settler', 'settlers', 'settling', 'seven', 'seventeen', 'seventy', 'several', 'severe', 'severed', 'severely', 'severest', 'severity', 'shackles', 'shade', 'shades', 'shadow', 'shadows', 'shaken', 'shaking', 'shall', 'shallow', 'shameful', 'shamefully', 'shape', 'shaped', 'shaping', 'share', 'shared', 'shares', 'sharing', 'sharp', 'sharpest', 'shatter', 'shattered', 'she', 'shed', 'sheet', 'shelter', 'shepherd', 'shield', 'shielded', 'shielding', 'shift', 'shifted', 'shine', 'shines', 'shining', 'ship', 'shipmaster', 'ships', 'shipwreck', 'shirk', 'shirking', 'shock', 'shocks', 'shoot', 'shop', 'shopkeepers', 'shops', 'shore', 'shores', 'short', 'shortcuts', 'shorten', 'shortening', 'shorter', 'shortly', 'should', 'shoulder', 'shoulders', 'shouldn', 'shout', 'shouting', 'show', 'showed', 'showering', 'shown', 'shows', 'shrines', 'shrink', 'shrinking', 'shrinks', 'shrunken', 'shudder', 'shunned', 'shut', 'shuttered', 'sick', 'side', 'sides', 'sight', 'sights', 'sign', 'signally', 'signed', 'significant', 'significantly', 'signified', 'signifies', 'signify', 'signifying', 'signs', 'silence', 'silenced', 'silencing', 'silent', 'silk', 'silver', 'similar', 'similarly', 'simmer', 'simple', 'simplicity', 'simplification', 'simplify', 'simply', 'sinai', 'since', 'sincere', 'sincerely', 'sincerest', 'sincerity', 'sing', 'single', 'singled', 'singly', 'sings', 'singular', 'singularly', 'sinister', 'sink', 'sinking', 'sinks', 'sister', 'sisters', 'sit', 'sitting', 'situated', 'situation', 'six', 'sixth', 'sixty', 'size', 'skepticism', 'skies', 'skill', 'skillful', 'skills', 'skin', 'skirt', 'skirts', 'sky', 'slackerism', 'slander', 'slaughter', 'slaughtering', 'slave', 'slaveholding', 'slavery', 'slaves', 'sleep', 'sleeping', 'slightest', 'slightly', 'slipping', 'slogans', 'slope', 'slopes', 'sloping', 'slow', 'slowed', 'slowly', 'slums', 'small', 'smaller', 'smallest', 'smelting', 'smiled', 'smiles', 'smoke', 'smooth', 'smoothly', 'smother', 'smothered', 'smuggled', 'snow', 'snuffed', 'so', 'sober', 'social', 'societies', 'society', 'softened', 'soil', 'sojourn', 'solace', 'soldier', 'soldiers', 'sole', 'solecism', 'solely', 'solemn', 'solemnities', 'solemnity', 'solemnly', 'solicit', 'solicitation', 'solicitous', 'solicitude', 'solid', 'solidarity', 'solidity', 'solitary', 'solitude', 'solution', 'solutions', 'solve', 'solved', 'solving', 'som', 'somalia', 'some', 'someday', 'somehow', 'someone', 'something', 'sometimes', 'somewhat', 'son', 'song', 'sons', 'soon', 'sooner', 'sophistries', 'sophistry', 'sordid', 'sore', 'sorrow', 'sorrowful', 'sort', 'sought', 'soul', 'souls', 'sound', 'sounded', 'soundest', 'soundly', 'sounds', 'source', 'sources', 'south', 'southeastern', 'southern', 'southwestern', 'sovereign', 'sovereigns', 'sovereignties', 'sovereignty', 'soviet', 'soviets', 'sow', 'space', 'spain', 'span', 'spanish', 'spare', 'spared', 'sparing', 'spark', 'sparsely', 'spasmodic', 'spasms', 'speak', 'speaker', 'speaking', 'speaks', 'special', 'specialized', 'specie', 'species', 'specific', 'specifically', 'specified', 'specify', 'specifying', 'spectacle', 'spectators', 'specter', 'speculation', 'speculations', 'speculative', 'speculators', 'speech', 'speeches', 'speed', 'speedily', 'speedy', 'spend', 'spending', 'spent', 'sphere', 'spheres', 'spilled', 'spin', 'spiral', 'spiraling', 'spirit', 'spirits', 'spiritual', 'spirituality', 'spiritually', 'spite', 'splendid', 'splendor', 'split', 'spoil', 'spoils', 'spoke', 'spoken', 'spokesmen', 'spoliation', 'sponsors', 'spot', 'spotless', 'sprang', 'sprawl', 'spread', 'spreading', 'spring', 'springing', 'springs', 'spun', 'squadron', 'squander', 'squandered', 'squandering', 'square', 'squared', 'st', 'stability', 'stable', 'staff', 'stage', 'stages', 'staggering', 'stagnant', 'stagnation', 'stained', 'stairway', 'stake', 'staked', 'stakes', 'stale', 'stamina', 'stamp', 'stamped', 'stamping', 'stanch', 'stand', 'standard', 'standards', 'standing', 'standpoint', 'stands', 'staple', 'star', 'stars', 'start', 'started', 'starting', 'starved', 'state', 'stated', 'stately', 'statement', 'statements', 'states', 'statesman', 'statesmanship', 'statesmen', 'stating', 'station', 'stations', 'statistics', 'stature', 'status', 'statute', 'statutes', 'staunchest', 'stay', 'stayed', 'stays', 'stead', 'steadfast', 'steadfastness', 'steadily', 'steady', 'stealing', 'steam', 'steamers', 'steamship', 'steeled', 'steer', 'stennis', 'step', 'steps', 'sterile', 'stern', 'sternest', 'sternly', 'stewardship', 'stifle', 'stifles', 'still', 'stilling', 'stimulate', 'stimulating', 'stimulation', 'stimulus', 'stipulated', 'stipulations', 'stir', 'stirred', 'stock', 'stolen', 'stone', 'stonewall', 'stood', 'stop', 'stopped', 'stopping', 'stops', 'store', 'storm', 'storms', 'story', 'stout', 'straight', 'strain', 'strained', 'strange', 'stranger', 'strangers', 'strangle', 'strangled', 'stream', 'streams', 'streets', 'strength', 'strengthen', 'strengthened', 'strengthening', 'strengthens', 'strengths', 'strenuous', 'stress', 'stretched', 'stretching', 'stricken', 'strict', 'strictest', 'strictly', 'stride', 'strides', 'strife', 'strike', 'strikes', 'striking', 'stringent', 'strings', 'stripped', 'strive', 'strives', 'striving', 'strong', 'stronger', 'strongest', 'strongly', 'strove', 'struck', 'structure', 'structures', 'struggle', 'struggled', 'struggles', 'struggling', 'stubbornness', 'stuck', 'students', 'studied', 'studies', 'studiously', 'study', 'studying', 'stuff', 'stunning', 'stupefies', 'stupendous', 'stupid', 'sturdiness', 'sturdy', 'style', 'subdivision', 'subje', 'subject', 'subjected', 'subjects', 'sublime', 'submission', 'submit', 'submits', 'submitted', 'submitting', 'subordinate', 'subordination', 'subsequent', 'subserved', 'subserviency', 'subsided', 'subsidiary', 'subsidies', 'subsidized', 'subsistence', 'substance', 'substantial', 'substantially', 'substantive', 'substitute', 'substitutes', 'substituting', 'subterfuge', 'subterfuges', 'subtlety', 'subversion', 'succeed', 'succeeding', 'success', 'successes', 'successful', 'successfully', 'succession', 'successive', 'successively', 'successor', 'successors', 'succumb', 'succumbed', 'such', 'sudden', 'suddenly', 'suffer', 'suffered', 'suffering', 'sufferings', 'suffers', 'suffice', 'sufficiency', 'sufficient', 'sufficiently', 'suffrage', 'suffrages', 'sugar', 'suggest', 'suggested', 'suggesting', 'suggestion', 'suggestions', 'suggestive', 'suggests', 'suicide', 'suit', 'suitable', 'suitably', 'suited', 'sum', 'summary', 'summer', 'summit', 'summon', 'summoned', 'summons', 'sums', 'sumter', 'sun', 'sundered', 'sung', 'sunk', 'sunlight', 'suns', 'sunset', 'sunshine', 'superbly', 'superficial', 'superfluous', 'supergovernment', 'superintend', 'superior', 'superiority', 'superiors', 'supersede', 'superseded', 'superstructure', 'supervising', 'supervision', 'supplanted', 'supplement', 'supplemented', 'supplicating', 'supplication', 'supplications', 'supplies', 'supply', 'supplying', 'support', 'supported', 'supporters', 'supporting', 'supports', 'suppose', 'supposed', 'suppress', 'suppressed', 'suppressing', 'suppression', 'supremacy', 'supreme', 'sure', 'surely', 'surer', 'surest', 'surface', 'surge', 'surging', 'surmount', 'surmounting', 'surpass', 'surpassed', 'surpasses', 'surpassing', 'surplus', 'surpluses', 'surprised', 'surrender', 'surrendered', 'surround', 'surrounded', 'surroundings', 'survey', 'surveying', 'surveys', 'survival', 'survive', 'survived', 'surviving', 'susceptible', 'suspected', 'suspended', 'suspension', 'suspicion', 'sustain', 'sustainable', 'sustained', 'sustaining', 'sustenance', 'swallowed', 'swarming', 'sway', 'swayed', 'swear', 'swearing', 'sweat', 'sweats', 'sweatshops', 'sweep', 'sweeping', 'sweet', 'swell', 'swept', 'swerved', 'swift', 'swiftest', 'swill', 'swollen', 'sword', 'sworn', 'symbol', 'symbolizing', 'sympathetic', 'sympathies', 'sympathize', 'sympathized', 'sympathy', 'symptom', 'symptoms', 'synagogue', 'system', 'systematic', 'systems', 'table', 'tactic', 'tain', 'taint', 'take', 'taken', 'takers', 'takes', 'taking', 'talent', 'talents', 'talk', 'talking', 'tangible', 'tanks', 'tap', 'tapping', 'tarawa', 'tardy', 'target', 'targets', 'tariff', 'tariffs', 'tarry', 'task', 'tasked', 'tasks', 'tasted', 'taught', 'tax', 'taxation', 'taxes', 'taxgatherer', 'taxing', 'teach', 'teacher', 'teachers', 'teaches', 'teaching', 'teachings', 'tear', 'tearfully', 'tears', 'technical', 'technicalities', 'techniques', 'technological', 'technologies', 'technology', 'teem', 'teeming', 'telegraph', 'tell', 'telling', 'tells', 'temper', 'temperance', 'temperate', 'tempered', 'tempering', 'tempest', 'temple', 'temporarily', 'temporary', 'tempt', 'temptation', 'temptations', 'tempted', 'tempts', 'ten', 'tend', 'tended', 'tendencies', 'tendency', 'tender', 'tendered', 'tendering', 'tending', 'tends', 'tenets', 'tens', 'tense', 'tentative', 'tenure', 'term', 'termed', 'terminate', 'terminated', 'termination', 'terms', 'terrible', 'terrific', 'terrifying', 'territorial', 'territories', 'territory', 'terror', 'terrorism', 'terrors', 'test', 'testament', 'tested', 'testifying', 'testimony', 'tests', 'texas', 'text', 'texture', 'th', 'than', 'thank', 'thankful', 'thanks', 'that', 'the', 'thee', 'their', 'theirs', 'them', 'theme', 'themes', 'themselves', 'then', 'thence', 'theoretic', 'theorists', 'theory', 'there', 'thereby', 'therefor', 'therefore', 'therefrom', 'therein', 'thereof', 'thereon', 'thereto', 'therewith', 'these', 'they', 'thick', 'thing', 'things', 'think', 'thinking', 'third', 'thirdly', 'thirds', 'thirst', 'thirsting', 'thirteen', 'thirteenth', 'thirty', 'this', 'thomas', 'thorough', 'thoroughly', 'those', 'thou', 'though', 'thought', 'thoughtful', 'thoughtfully', 'thoughts', 'thousand', 'thousands', 'thousandth', 'thrashed', 'threat', 'threaten', 'threatened', 'threatening', 'threatens', 'threats', 'three', 'threefold', 'threshold', 'thrift', 'thrill', 'thrilling', 'thrive', 'thrives', 'thriving', 'throes', 'thrones', 'throng', 'through', 'throughout', 'throw', 'throwing', 'thrown', 'thrust', 'thus', 'thwarted', 'thy', 'tide', 'tides', 'tie', 'ties', 'tiger', 'tightly', 'till', 'tillage', 'tillers', 'time', 'timeless', 'times', 'timi', 'timid', 'timidity', 'tiny', 'tire', 'tireless', 'tirelessly', 'tiring', 'title', 'titles', 'titutions', 'tizens', 'to', 'tobacco', 'today', 'together', 'toil', 'toiled', 'toilers', 'toiling', 'token', 'told', 'tolerance', 'tolerant', 'tolerate', 'tolerated', 'toleration', 'tomb', 'tombstones', 'tomorrow', 'tomorrows', 'tone', 'tones', 'tongues', 'tonnage', 'too', 'took', 'tool', 'tools', 'topic', 'topics', 'toppled', 'torch', 'torment', 'tormented', 'torn', 'torture', 'total', 'totalitarian', 'totally', 'touch', 'touched', 'touching', 'touchstone', 'touchstones', 'toward', 'towards', 'tower', 'town', 'towns', 'traced', 'traces', 'tracing', 'tracts', 'trade', 'traded', 'trading', 'tradition', 'traditional', 'traditions', 'traffic', 'tragedy', 'tragic', 'tragically', 'train', 'trained', 'training', 'trait', 'traitors', 'traits', 'tranquil', 'tranquillity', 'transaction', 'transactions', 'transcend', 'transcended', 'transcendent', 'transcendently', 'transcending', 'transcends', 'transcontinental', 'transfer', 'transferred', 'transferring', 'transfers', 'transform', 'transit', 'transition', 'transitory', 'translated', 'translating', 'transmit', 'transmitted', 'transpire', 'transportation', 'transported', 'trapped', 'trappings', 'travail', 'travel', 'traveled', 'traveler', 'travels', 'traversed', 'traversing', 'tread', 'treading', 'treason', 'treasure', 'treasured', 'treasures', 'treasury', 'treat', 'treated', 'treaties', 'treating', 'treatment', 'treats', 'treaty', 'tree', 'tremble', 'trembling', 'tremendous', 'trend', 'treptow', 'trespass', 'trial', 'trials', 'tribe', 'tribes', 'tribulation', 'tribunal', 'tribunals', 'tributary', 'tribute', 'tried', 'trifling', 'trillions', 'trim', 'triple', 'triumph', 'triumphant', 'triumphantly', 'triumphed', 'triumphs', 'troops', 'tropic', 'troubled', 'troubles', 'troublesome', 'truce', 'truckdrivers', 'truculence', 'true', 'truest', 'truly', 'truman', 'trumpet', 'trumpets', 'trust', 'trusted', 'trustees', 'trustful', 'trusting', 'trusts', 'truth', 'truths', 'try', 'trying', 'tumults', 'tumultuous', 'tunnels', 'turbulence', 'turmoil', 'turn', 'turned', 'turning', 'turns', 'tutor', 'twelve', 'twentieth', 'twenty', 'twice', 'twilight', 'two', 'type', 'tyrannical', 'tyranny', 'tyrant', 'tyrants', 'ultimate', 'ultimately', 'umerable', 'umpire', 'unabashed', 'unabated', 'unable', 'unaccounted', 'unadjusted', 'unafraid', 'unaided', 'unalienable', 'unalloyed', 'unanimity', 'unanimous', 'unanswerably', 'unassailed', 'unattended', 'unauthorized', 'unavoidable', 'unavoidably', 'unbalanced', 'unbending', 'unbiased', 'unborn', 'unbounded', 'unbroken', 'uncanny', 'unceasing', 'unceasingly', 'uncertain', 'uncertainty', 'unchanged', 'unchanging', 'uncharitableness', 'unclench', 'unclimbed', 'uncomplaining', 'uncompromising', 'unconnected', 'unconquerable', 'unconstitutional', 'uncontrollable', 'uncontrolled', 'uncorrupted', 'uncounted', 'uncovered', 'uncrossed', 'unctions', 'undauntedly', 'undelayed', 'under', 'undercurrent', 'underdeveloped', 'undergoing', 'underlies', 'undermine', 'undermines', 'underneath', 'understand', 'understandable', 'understanding', 'understandings', 'understands', 'understood', 'undertake', 'undertaken', 'undertaking', 'undertakings', 'undertone', 'undeserved', 'undeveloped', 'undeviating', 'undiminished', 'undisturbed', 'undo', 'undoing', 'undone', 'undoubted', 'undoubtedly', 'undue', 'unduly', 'uneconomical', 'uneducated', 'unemployed', 'unemployment', 'unequal', 'unequaled', 'unequivocal', 'unerring', 'unessential', 'unexaggerated', 'unexampled', 'unexceptionable', 'unexpected', 'unexplained', 'unexplored', 'unfailing', 'unfair', 'unfairly', 'unfaithful', 'unfaltering', 'unfavorable', 'unfeeling', 'unfinished', 'unfitness', 'unflinching', 'unfocused', 'unfolded', 'unfolding', 'unfolds', 'unforeseen', 'unfortunate', 'unfortunately', 'unfounded', 'unfriendly', 'unfulfilled', 'unfurl', 'unfurling', 'ungrateful', 'ungrudging', 'unhallowed', 'unhampered', 'unhappily', 'unhappy', 'unheeded', 'unhesitatingly', 'unhonored', 'unification', 'uniform', 'uniformly', 'unify', 'unifying', 'unimagined', 'unimpaired', 'unimpressive', 'uninjured', 'uninspiring', 'unintelligible', 'uninteresting', 'uninterrupted', 'union', 'unique', 'unite', 'united', 'unitedly', 'unites', 'unity', 'universal', 'universality', 'universally', 'universe', 'universities', 'unjust', 'unjustified', 'unkept', 'unknowing', 'unknown', 'unlawful', 'unlawfulness', 'unlearned', 'unleash', 'unleashed', 'unless', 'unlike', 'unlikely', 'unlimited', 'unlock', 'unmade', 'unmake', 'unmatched', 'unmindful', 'unmistakable', 'unmolested', 'unmoved', 'unnatural', 'unnecessary', 'unnoticed', 'unobtrusive', 'unparalleled', 'unpatriotic', 'unpleasant', 'unplowed', 'unpracticed', 'unprecedented', 'unprepared', 'unpreparedness', 'unprofitable', 'unprovided', 'unquestionable', 'unquestionably', 'unquestioned', 'unquestioning', 'unrealized', 'unreasonable', 'unreasonably', 'unreasoning', 'unreclaimed', 'unrecompensed', 'unregarded', 'unremittingly', 'unrepealed', 'unrequited', 'unreserved', 'unrestrained', 'unrestricted', 'unrivaled', 'unscrupulous', 'unselfish', 'unselfishness', 'unsettled', 'unshaken', 'unsolicited', 'unsolvable', 'unsought', 'unspeakable', 'unspoken', 'unstable', 'unstoppable', 'unstrained', 'unsubstantial', 'unsuccessful', 'unsung', 'unsurpassed', 'untamed', 'untarnished', 'untended', 'until', 'unto', 'untouched', 'untrammeled', 'untried', 'untroubled', 'untrue', 'untrusting', 'untruths', 'unused', 'unusual', 'unvexed', 'unwanted', 'unwarrantable', 'unwasted', 'unwavering', 'unwholesome', 'unwilling', 'unwise', 'unwisely', 'unworthiness', 'unworthy', 'up', 'upbraidings', 'upbuilding', 'upgrade', 'upheaval', 'upheavals', 'upheld', 'uphold', 'upholding', 'upon', 'upper', 'uppermost', 'upright', 'uprooted', 'uprooting', 'upward', 'urban', 'urge', 'urged', 'urgent', 'urgently', 'urging', 'us', 'usage', 'usages', 'use', 'used', 'useful', 'usefulness', 'useless', 'uselessly', 'uses', 'ushered', 'ushering', 'using', 'usual', 'usually', 'usurp', 'usurpation', 'usurpations', 'usurped', 'usurper', 'usury', 'utilities', 'utmost', 'utter', 'utterance', 'uttered', 'uttering', 'utterly', 'uttermost', 'vacant', 'vain', 'vainglory', 'valiantly', 'valid', 'valley', 'valleys', 'valor', 'valuable', 'value', 'valued', 'values', 'vanish', 'vanquished', 'variance', 'variations', 'varied', 'varieties', 'variety', 'various', 'varnish', 'vary', 'varying', 'vast', 'vastly', 'vaults', 've', 'veil', 'venality', 'venerated', 'veneration', 'venture', 'ventured', 'ventures', 'verbal', 'verdict', 'verified', 'very', 'vessel', 'vessels', 'vested', 'veto', 'vexation', 'vibrant', 'vibrations', 'vice', 'vicious', 'vicissitude', 'vicissitudes', 'victim', 'victims', 'victories', 'victorious', 'victory', 'vietnam', 'view', 'viewed', 'viewing', 'viewpoint', 'views', 'vigilance', 'vigilant', 'vigilantly', 'vigor', 'vigorous', 'vigorously', 'village', 'villages', 'vindicate', 'vindicated', 'vindication', 'vindictiveness', 'violate', 'violated', 'violates', 'violation', 'violative', 'violence', 'violent', 'virginia', 'virility', 'virtual', 'virtually', 'virtue', 'virtues', 'virtuous', 'visible', 'vision', 'visionary', 'visit', 'visitation', 'visited', 'vista', 'vital', 'vitality', 'vitalizing', 'vitally', 'vitals', 'voice', 'voices', 'void', 'volume', 'voluntarily', 'voluntary', 'volunteer', 'volution', 'vote', 'voted', 'voter', 'voters', 'votes', 'voting', 'vouchsafed', 'vow', 'vowed', 'vows', 'voyage', 'vulnerability', 'vulnerable', 'wage', 'waged', 'wages', 'waging', 'wait', 'waited', 'waiting', 'waketh', 'walk', 'walked', 'wall', 'wallet', 'walls', 'wander', 'wane', 'want', 'wanted', 'wanting', 'wants', 'war', 'wards', 'warfare', 'warm', 'warmed', 'warming', 'warmly', 'warms', 'warmth', 'warned', 'warns', 'warrant', 'warren', 'warriors', 'wars', 'wartime', 'was', 'washington', 'wastage', 'waste', 'wasted', 'wasteful', 'wastefulness', 'watch', 'watched', 'watchful', 'watchfulness', 'watching', 'watchman', 'water', 'watercourses', 'waters', 'waterway', 'waterways', 'wave', 'waved', 'waver', 'wavering', 'waves', 'way', 'ways', 'we', 'weak', 'weaken', 'weakened', 'weakening', 'weaker', 'weakest', 'weakness', 'weaknesses', 'weal', 'wealth', 'wealthy', 'weapon', 'weapons', 'weary', 'weaving', 'webster', 'weed', 'week', 'weeks', 'weigh', 'weighed', 'weight', 'weightiest', 'weighty', 'welcome', 'welcomed', 'weld', 'welfare', 'well', 'wellspring', 'went', 'were', 'west', 'western', 'westward', 'wh', 'what', 'whatever', 'whatsoever', 'wheat', 'wheels', 'when', 'whenever', 'where', 'whereas', 'wherein', 'whereof', 'wherever', 'whether', 'which', 'while', 'whilst', 'whip', 'whirlwind', 'whisper', 'white', 'whitened', 'whites', 'whither', 'who', 'whoever', 'whole', 'wholesome', 'wholly', 'whom', 'whomsoever', 'whose', 'why', 'wi', 'wicked', 'wickedness', 'wide', 'widely', 'widen', 'widened', 'widening', 'wider', 'widespread', 'widow', 'widows', 'wield', 'wields', 'wife', 'wild', 'wilderness', 'will', 'willing', 'willingly', 'willingness', 'wills', 'wily', 'win', 'wind', 'winding', 'window', 'windows', 'winds', 'wings', 'winning', 'winston', 'winter', 'wipe', 'wisdom', 'wise', 'wisely', 'wiser', 'wisest', 'wish', 'wished', 'wishes', 'wishing', 'wit', 'with', 'withal', 'withdraw', 'withdrawal', 'withdrew', 'wither', 'withered', 'withheld', 'withhold', 'within', 'without', 'withstood', 'witness', 'witnessed', 'witnesses', 'wives', 'woe', 'woman', 'womanhood', 'women', 'won', 'wonder', 'wonderful', 'wonders', 'wonted', 'wood', 'woodsmen', 'word', 'words', 'work', 'worked', 'worker', 'workers', 'workforce', 'working', 'workingman', 'workingmen', 'workmanship', 'works', 'workshop', 'world', 'worldly', 'worlds', 'worldwide', 'worm', 'worn', 'worry', 'worse', 'worship', 'worst', 'worth', 'worthily', 'worthless', 'worthy', 'would', 'wouldn', 'wounded', 'wounds', 'wreckage', 'wrecked', 'wrest', 'wretchedness', 'wright', 'wringing', 'writ', 'write', 'writers', 'writing', 'written', 'wrong', 'wrongdoing', 'wronged', 'wrongfully', 'wrongs', 'wrote', 'wrought', 'year', 'yearn', 'yearning', 'years', 'yes', 'yesterday', 'yesterdays', 'yet', 'yield', 'yielded', 'yielding', 'yields', 'york', 'yorktown', 'you', 'young', 'younger', 'youngest', 'your', 'yours', 'yourself', 'yourselves', 'youth', 'youthful', 'zeal', 'zealous', 'zealously', 'zone']\n"
          ],
          "name": "stdout"
        }
      ]
    },
    {
      "cell_type": "code",
      "metadata": {
        "id": "ONZvGJR3gDbM",
        "colab_type": "code",
        "outputId": "93b5cb86-cb37-43c6-99b6-67aabb515f1b",
        "colab": {
          "base_uri": "https://localhost:8080/",
          "height": 34
        }
      },
      "source": [
        "## no. of feature\n",
        "print(len(cv.get_feature_names()))"
      ],
      "execution_count": 0,
      "outputs": [
        {
          "output_type": "stream",
          "text": [
            "9043\n"
          ],
          "name": "stdout"
        }
      ]
    },
    {
      "cell_type": "markdown",
      "metadata": {
        "id": "bAm6_JHr6Cto",
        "colab_type": "text"
      },
      "source": [
        "---\n",
        "### Counting words (II)\n",
        "---\n",
        "Once the vectorizer has been fit to the data, it can be used to transform the text to an array representing the word counts. "
      ]
    },
    {
      "cell_type": "markdown",
      "metadata": {
        "id": "JcFMh9k_6Hu4",
        "colab_type": "text"
      },
      "source": [
        "Instructions:\n",
        "\n",
        "* Apply the vectorizer ('cv' in the previous exercise) to the `text_clean` column.\n",
        "* Convert this transformed (sparse) array into a `numpy` array with counts and print it. "
      ]
    },
    {
      "cell_type": "code",
      "metadata": {
        "id": "Fcy82ZMKgVMa",
        "colab_type": "code",
        "outputId": "5fde9843-a32b-4df5-cc34-70ac94ac8734",
        "colab": {
          "base_uri": "https://localhost:8080/",
          "height": 136
        }
      },
      "source": [
        "print(X.toarray())"
      ],
      "execution_count": 0,
      "outputs": [
        {
          "output_type": "stream",
          "text": [
            "[[0 0 0 ... 0 0 0]\n",
            " [0 0 0 ... 0 0 0]\n",
            " [0 1 0 ... 0 0 0]\n",
            " ...\n",
            " [0 1 0 ... 0 0 0]\n",
            " [0 0 0 ... 0 0 0]\n",
            " [0 0 0 ... 0 0 0]]\n"
          ],
          "name": "stdout"
        }
      ]
    },
    {
      "cell_type": "code",
      "metadata": {
        "id": "Vnv85VN4gi3x",
        "colab_type": "code",
        "outputId": "3349dcea-5e55-4023-a04d-76ef58f8f97c",
        "colab": {
          "base_uri": "https://localhost:8080/",
          "height": 34
        }
      },
      "source": [
        "print(X.toarray().shape)"
      ],
      "execution_count": 0,
      "outputs": [
        {
          "output_type": "stream",
          "text": [
            "(58, 9043)\n"
          ],
          "name": "stdout"
        }
      ]
    },
    {
      "cell_type": "markdown",
      "metadata": {
        "id": "vUQAwgOV73BB",
        "colab_type": "text"
      },
      "source": [
        "---\n",
        "### Limiting your features\n",
        "---\n",
        "As we have seen, using the `CountVectorizer` with its default settings creates a feature for every single word in our corpus. This can create far too many features, often including ones that will provide very little analytical value.\n",
        "\n",
        "For this purpose `CountVectorizer` has parameters that you can set to reduce the number of features:\n",
        "\n",
        "* `min_df` : Use only words that occur in more than this percentage of documents. This can be used to remove outlier words that will not generalize across texts.\n",
        "* `max_df` : Use only words that occur in less than this percentage of documents. This is useful to eliminate very common words that occur in every corpus without adding value such as \"and\" or \"the\"."
      ]
    },
    {
      "cell_type": "markdown",
      "metadata": {
        "id": "I9X2x50g8Dfd",
        "colab_type": "text"
      },
      "source": [
        "Instructions:\n",
        "\n",
        "* Limit the number of features in the `CountVectorizer` by setting the minimum number of documents a word can appear to 20% and the maximum to 80%.\n",
        "* Fit and apply the vectorizer on `text_clean` column in one step.\n",
        "* Convert this transformed (sparse) array into a `numpy` array with counts and print the dimensions of the new reduced array.\n",
        "* Did you notice that the number of features (unique words) greatly reduced from 9043 to 818?\n"
      ]
    },
    {
      "cell_type": "code",
      "metadata": {
        "id": "RqNCtZu-8NbI",
        "colab_type": "code",
        "colab": {}
      },
      "source": [
        "# Import CountVectorizer\n",
        "from sklearn.feature_extraction.text import CountVectorizer\n",
        "\n",
        "# Specify arguements to limit the number of features generated\n",
        "cv = CountVectorizer(min_df=0.2, max_df=0.8)"
      ],
      "execution_count": 0,
      "outputs": []
    },
    {
      "cell_type": "code",
      "metadata": {
        "id": "LLcvRBAOiBuN",
        "colab_type": "code",
        "outputId": "813b987c-9644-4fcc-e169-3c419a82f21d",
        "colab": {
          "base_uri": "https://localhost:8080/",
          "height": 54
        }
      },
      "source": [
        "cv_transformed = cv.fit_transform(speech_df.text)\n",
        "\n",
        "## no. of feature\n",
        "print(cv.get_feature_names())"
      ],
      "execution_count": 0,
      "outputs": [
        {
          "output_type": "stream",
          "text": [
            "['abiding', 'ability', 'able', 'about', 'above', 'abroad', 'accept', 'accomplished', 'achieve', 'across', 'act', 'action', 'acts', 'add', 'adequate', 'administration', 'adopted', 'advance', 'advantage', 'affairs', 'afford', 'after', 'again', 'against', 'age', 'ago', 'agriculture', 'aid', 'alike', 'almighty', 'almost', 'alone', 'along', 'already', 'also', 'always', 'am', 'america', 'american', 'americans', 'among', 'ancient', 'another', 'appear', 'armed', 'arms', 'around', 'ask', 'assume', 'attempt', 'attention', 'authority', 'avoid', 'away', 'back', 'balance', 'basis', 'bear', 'because', 'become', 'beginning', 'being', 'belief', 'believe', 'believed', 'belongs', 'benefit', 'benefits', 'best', 'better', 'between', 'beyond', 'birth', 'bless', 'blessings', 'blood', 'body', 'bonds', 'born', 'both', 'bound', 'branches', 'bring', 'brought', 'build', 'burden', 'burdens', 'business', 'call', 'called', 'came', 'cannot', 'capacity', 'capital', 'care', 'carry', 'cause', 'centuries', 'century', 'certain', 'challenge', 'chance', 'change', 'changes', 'character', 'cherish', 'chief', 'children', 'choice', 'chosen', 'circumstances', 'citizen', 'citizenship', 'civil', 'civilization', 'claim', 'class', 'clear', 'clearly', 'close', 'come', 'command', 'commerce', 'committed', 'common', 'communities', 'community', 'complete', 'concern', 'concerns', 'condition', 'conditions', 'conduct', 'confidence', 'conflict', 'congress', 'conscience', 'consequences', 'consider', 'consideration', 'considered', 'constant', 'constantly', 'constitution', 'constitutional', 'continent', 'continue', 'continued', 'control', 'conviction', 'cooperation', 'cost', 'could', 'countries', 'countrymen', 'courage', 'course', 'create', 'created', 'credit', 'crisis', 'danger', 'dangers', 'day', 'days', 'debt', 'decision', 'decisions', 'declaration', 'declare', 'declared', 'deep', 'deeply', 'defend', 'defense', 'degree', 'demand', 'demands', 'democracy', 'departments', 'depend', 'desire', 'destiny', 'destroy', 'destruction', 'determination', 'determined', 'development', 'devotion', 'did', 'difference', 'differences', 'different', 'difficult', 'difficulties', 'dignity', 'direct', 'direction', 'discharge', 'disposition', 'distant', 'distinguished', 'divine', 'does', 'doing', 'domestic', 'done', 'doubt', 'down', 'due', 'during', 'duties', 'duty', 'each', 'earth', 'economic', 'economy', 'education', 'effect', 'effective', 'effort', 'efforts', 'either', 'election', 'employed', 'encourage', 'encouragement', 'end', 'endeavor', 'enemies', 'energy', 'engaged', 'enjoy', 'enjoyed', 'enlightened', 'enough', 'enter', 'enterprise', 'equal', 'equality', 'equally', 'especially', 'essential', 'establish', 'established', 'establishment', 'even', 'events', 'ever', 'everywhere', 'evil', 'example', 'except', 'execute', 'executive', 'exercise', 'existence', 'expect', 'expected', 'expenditures', 'experience', 'experiment', 'express', 'expression', 'extend', 'extended', 'extent', 'eyes', 'face', 'fact', 'fail', 'failure', 'fair', 'faith', 'faithful', 'family', 'far', 'fathers', 'favor', 'fear', 'federal', 'feel', 'felt', 'few', 'finally', 'find', 'firm', 'first', 'fixed', 'follow', 'followed', 'force', 'forces', 'foreign', 'forever', 'form', 'formed', 'forms', 'forth', 'forward', 'found', 'foundations', 'founded', 'four', 'freedom', 'friends', 'friendship', 'full', 'fully', 'functions', 'further', 'general', 'generation', 'generations', 'generous', 'genius', 'give', 'given', 'go', 'god', 'govern', 'governments', 'granted', 'grateful', 'gratitude', 'greater', 'greatest', 'greatly', 'growth', 'guidance', 'had', 'half', 'hand', 'hands', 'happiness', 'happy', 'hard', 'harmony', 'having', 'he', 'health', 'heart', 'hearts', 'held', 'help', 'her', 'here', 'high', 'highest', 'him', 'himself', 'history', 'hold', 'home', 'honest', 'honor', 'honorable', 'hope', 'hopes', 'how', 'however', 'human', 'humanity', 'humble', 'ideals', 'immediate', 'importance', 'important', 'impossible', 'improvement', 'increase', 'increasing', 'indeed', 'independence', 'independent', 'individual', 'individuals', 'industrial', 'industries', 'industry', 'influence', 'injustice', 'instead', 'institutions', 'instrument', 'integrity', 'intelligence', 'intercourse', 'interest', 'interests', 'internal', 'international', 'into', 'itself', 'join', 'judgment', 'justice', 'justly', 'keep', 'know', 'knowledge', 'known', 'labor', 'land', 'lands', 'large', 'last', 'lasting', 'law', 'laws', 'lead', 'leading', 'least', 'leave', 'led', 'left', 'legislation', 'legislative', 'legitimate', 'less', 'let', 'liberty', 'lies', 'light', 'like', 'limitations', 'limited', 'limits', 'lines', 'little', 'live', 'lives', 'living', 'local', 'long', 'longer', 'look', 'lost', 'love', 'made', 'maintain', 'maintained', 'maintenance', 'majority', 'make', 'makes', 'making', 'man', 'mankind', 'manner', 'many', 'material', 'matters', 'me', 'means', 'measure', 'measures', 'meet', 'members', 'mere', 'merely', 'might', 'military', 'millions', 'mind', 'minds', 'modern', 'moment', 'money', 'moral', 'move', 'mr', 'much', 'mutual', 'myself', 'national', 'natural', 'nature', 'navy', 'nearly', 'necessary', 'necessity', 'need', 'needed', 'needs', 'neighbors', 'neither', 'never', 'none', 'nor', 'north', 'nothing', 'number', 'oath', 'object', 'objects', 'obligation', 'obligations', 'occasion', 'ocean', 'off', 'offer', 'office', 'officers', 'official', 'often', 'old', 'once', 'open', 'operation', 'opinion', 'opinions', 'opportunity', 'order', 'organization', 'others', 'ought', 'ours', 'ourselves', 'out', 'over', 'part', 'parties', 'parts', 'party', 'pass', 'passed', 'passion', 'past', 'path', 'patriotic', 'patriotism', 'pay', 'peace', 'peaceful', 'peculiar', 'peoples', 'perfect', 'perform', 'perhaps', 'period', 'permanent', 'person', 'personal', 'place', 'placed', 'places', 'pledge', 'pledged', 'point', 'policy', 'political', 'popular', 'population', 'portion', 'position', 'possible', 'poverty', 'powerful', 'powers', 'practical', 'practice', 'precious', 'prejudice', 'presence', 'present', 'preservation', 'preserve', 'preserved', 'president', 'prevent', 'price', 'pride', 'principle', 'principles', 'private', 'problems', 'produce', 'productive', 'products', 'progress', 'promise', 'promote', 'proper', 'property', 'prosperity', 'prosperous', 'protect', 'protected', 'protection', 'proud', 'proved', 'provide', 'provided', 'providence', 'provision', 'public', 'purpose', 'purposes', 'pursue', 'pursued', 'put', 'question', 'questions', 'race', 'rather', 'reach', 'ready', 'real', 'realize', 'reason', 'reasonable', 'receive', 'recent', 'recognize', 'reform', 'regard', 'relations', 'religion', 'religious', 'remain', 'remains', 'remember', 'renew', 'renewed', 'representatives', 'republic', 'republican', 'require', 'required', 'requires', 'resolve', 'resources', 'respect', 'responsibilities', 'responsibility', 'responsible', 'rest', 'restore', 'rests', 'result', 'results', 'return', 'revenue', 'revolution', 'rewards', 'rich', 'right', 'rule', 'rules', 'sacred', 'sacrifice', 'safe', 'safety', 'said', 'same', 'satisfaction', 'say', 'schools', 'science', 'second', 'sections', 'secure', 'secured', 'security', 'see', 'seek', 'seeking', 'seem', 'seen', 'self', 'sense', 'sentiment', 'serious', 'serve', 'service', 'set', 'settled', 'several', 'share', 'short', 'should', 'show', 'shown', 'side', 'simple', 'since', 'single', 'small', 'social', 'society', 'soil', 'solemn', 'some', 'something', 'sometimes', 'soon', 'sound', 'source', 'south', 'sovereignty', 'speak', 'special', 'spirit', 'stand', 'standing', 'state', 'states', 'station', 'still', 'strength', 'strengthen', 'strengthened', 'strict', 'strong', 'stronger', 'struggle', 'subject', 'subjects', 'success', 'such', 'suffer', 'suffering', 'sufficient', 'support', 'supreme', 'sure', 'surely', 'sustained', 'system', 'take', 'taken', 'taking', 'task', 'taxes', 'terms', 'territory', 'themselves', 'then', 'therefore', 'things', 'think', 'though', 'thought', 'through', 'throughout', 'thus', 'times', 'today', 'together', 'too', 'toward', 'trade', 'treaty', 'true', 'trust', 'truth', 'turn', 'two', 'under', 'understand', 'understanding', 'union', 'unity', 'until', 'up', 'use', 'useful', 'value', 'values', 'various', 'vast', 'very', 'vice', 'view', 'views', 'virtue', 'vision', 'vital', 'voice', 'want', 'war', 'wars', 'washington', 'waste', 'way', 'ways', 'weak', 'wealth', 'weight', 'welfare', 'were', 'what', 'whatever', 'where', 'wherever', 'whether', 'while', 'whole', 'whom', 'whose', 'willing', 'wisdom', 'wise', 'wisely', 'wish', 'within', 'without', 'women', 'words', 'work', 'wrong', 'year', 'years', 'yet', 'you', 'young', 'your']\n"
          ],
          "name": "stdout"
        }
      ]
    },
    {
      "cell_type": "code",
      "metadata": {
        "id": "lrM2AvlTiPzW",
        "colab_type": "code",
        "outputId": "0d7ca26a-da18-4b42-93af-03255b34dde4",
        "colab": {
          "base_uri": "https://localhost:8080/",
          "height": 34
        }
      },
      "source": [
        "cv_array = cv_transformed.toarray()\n",
        "\n",
        "## print \n",
        "print(cv_array.shape)"
      ],
      "execution_count": 0,
      "outputs": [
        {
          "output_type": "stream",
          "text": [
            "(58, 818)\n"
          ],
          "name": "stdout"
        }
      ]
    },
    {
      "cell_type": "markdown",
      "metadata": {
        "id": "KKZ4xX3L9IxL",
        "colab_type": "text"
      },
      "source": [
        "---\n",
        "### Text to DataFrame\n",
        "---\n",
        "Now that we have generated these count based features in an array we will need to reformat them so that they can be combined with the rest of the dataset. This can be achieved by converting the array into a pandas DataFrame, with the feature names you found earlier as the column names, and then concatenate it with the original DataFrame.\n"
      ]
    },
    {
      "cell_type": "markdown",
      "metadata": {
        "id": "rvioGe8x9Olj",
        "colab_type": "text"
      },
      "source": [
        "Instructions:\n",
        "\n",
        "* Create a DataFrame `cv_df` containing the `cv_array` as the values and the feature names as the column names.\n",
        "* Add the prefix `Counts_` to the column names for ease of identification.\n",
        "* Concatenate this DataFrame (`cv_df`) to the original DataFrame (`speech_df`) column wise.\n"
      ]
    },
    {
      "cell_type": "code",
      "metadata": {
        "id": "FgPPel1Pi3qH",
        "colab_type": "code",
        "outputId": "041d6376-a28c-4829-9844-7df1e9f0bdb4",
        "colab": {
          "base_uri": "https://localhost:8080/",
          "height": 153
        }
      },
      "source": [
        "## create a dataframe\n",
        "\n",
        "cv_df = pd.DataFrame(cv_array, columns=cv.get_feature_names()).add_prefix('counts_')\n",
        "\n",
        "speech_df_new = pd.concat([speech_df,cv_df],axis=1,sort=False)\n",
        "print(speech_df_new.head(5))"
      ],
      "execution_count": 0,
      "outputs": [
        {
          "output_type": "stream",
          "text": [
            "                Name         Inaugural Address  ... counts_young counts_your\n",
            "0  George Washington   First Inaugural Address  ...            0           9\n",
            "1  George Washington  Second Inaugural Address  ...            0           1\n",
            "2         John Adams         Inaugural Address  ...            0           1\n",
            "3   Thomas Jefferson   First Inaugural Address  ...            0           7\n",
            "4   Thomas Jefferson  Second Inaugural Address  ...            0           4\n",
            "\n",
            "[5 rows x 825 columns]\n"
          ],
          "name": "stdout"
        }
      ]
    },
    {
      "cell_type": "code",
      "metadata": {
        "id": "sD46dpLKnR3n",
        "colab_type": "code",
        "outputId": "27f05c41-2224-429a-b879-3b932f18a540",
        "colab": {
          "base_uri": "https://localhost:8080/",
          "height": 34
        }
      },
      "source": [
        "speech_df_new.shape"
      ],
      "execution_count": 0,
      "outputs": [
        {
          "output_type": "execute_result",
          "data": {
            "text/plain": [
              "(58, 825)"
            ]
          },
          "metadata": {
            "tags": []
          },
          "execution_count": 74
        }
      ]
    },
    {
      "cell_type": "markdown",
      "metadata": {
        "id": "Rpo0ek00-dsr",
        "colab_type": "text"
      },
      "source": [
        "---\n",
        "### Tf-idf\n",
        "---\n",
        "While counts of occurrences of words can be useful to build models, words that occur many times may skew the results undesirably. To limit these common words from overpowering your model a form of normalization can be used. In this lesson we will be using **Term frequency-inverse document frequency** (**Tf-idf**). Tf-idf has the effect of reducing the value of common words, while increasing the weight of words that do not occur in many documents.\n",
        "\n",
        "Explanation :\n",
        "<br/>\n",
        "[https://towardsdatascience.com/tf-idf-for-document-ranking-from-scratch-in-python-on-real-world-dataset-796d339a4089](https://towardsdatascience.com/tf-idf-for-document-ranking-from-scratch-in-python-on-real-world-dataset-796d339a4089)"
      ]
    },
    {
      "cell_type": "markdown",
      "metadata": {
        "id": "c29xSq9Q-mcH",
        "colab_type": "text"
      },
      "source": [
        "Instructions:\n",
        "\n",
        "* Import `TfidfVectorizer` from `sklearn.feature_extraction.text`.\n",
        "* Instantiate `TfidfVectorizer` while limiting the number of features to 100 and removing English stop words.\n",
        "* Fit and apply the vectorizer on `text_clean` column in one step.\n",
        "* Create a DataFrame `tv_df` containing the weights of the words and the feature names as the column names.\n",
        "* Add the prefix `TFIDF_` to the column names for ease of identification."
      ]
    },
    {
      "cell_type": "code",
      "metadata": {
        "id": "-F0vdfx9-yIq",
        "colab_type": "code",
        "colab": {}
      },
      "source": [
        "# Import TfidfVectorizer\n",
        "from sklearn.feature_extraction.text import TfidfVectorizer\n",
        "\n",
        "# Instantiate TfidfVectorizer\n",
        "tv = TfidfVectorizer(max_features=100, stop_words='english')\n"
      ],
      "execution_count": 0,
      "outputs": []
    },
    {
      "cell_type": "code",
      "metadata": {
        "id": "RvTL3N8cqOwS",
        "colab_type": "code",
        "outputId": "02973779-4b0b-4e3d-eb6f-0a56cd53908b",
        "colab": {
          "base_uri": "https://localhost:8080/",
          "height": 34
        }
      },
      "source": [
        "tv_transformed = tv.fit_transform(speech_df.text)\n",
        "tv_transformed.shape"
      ],
      "execution_count": 0,
      "outputs": [
        {
          "output_type": "execute_result",
          "data": {
            "text/plain": [
              "(58, 100)"
            ]
          },
          "metadata": {
            "tags": []
          },
          "execution_count": 76
        }
      ]
    },
    {
      "cell_type": "code",
      "metadata": {
        "id": "7-iqeHn5ZMKe",
        "colab_type": "code",
        "outputId": "33358b9d-f9d6-42ee-a776-62b447c08eda",
        "colab": {
          "base_uri": "https://localhost:8080/",
          "height": 238
        }
      },
      "source": [
        "tv_transformed.toarray()"
      ],
      "execution_count": 0,
      "outputs": [
        {
          "output_type": "execute_result",
          "data": {
            "text/plain": [
              "array([[0.        , 0.13341519, 0.        , ..., 0.        , 0.04592879,\n",
              "        0.05269404],\n",
              "       [0.        , 0.2610165 , 0.26609667, ..., 0.        , 0.        ,\n",
              "        0.        ],\n",
              "       [0.        , 0.09243595, 0.1570584 , ..., 0.        , 0.06364299,\n",
              "        0.07301753],\n",
              "       ...,\n",
              "       [0.03761807, 0.        , 0.36891392, ..., 0.18400376, 0.17440593,\n",
              "        0.0285851 ],\n",
              "       [0.03897977, 0.        , 0.30581431, ..., 0.12710956, 0.07745104,\n",
              "        0.14809914],\n",
              "       [0.06921321, 0.03329018, 0.67876212, ..., 0.02821227, 0.13752353,\n",
              "        0.05259353]])"
            ]
          },
          "metadata": {
            "tags": []
          },
          "execution_count": 79
        }
      ]
    },
    {
      "cell_type": "code",
      "metadata": {
        "id": "WDHyAIySqfW4",
        "colab_type": "code",
        "outputId": "66854f5c-ffab-4574-9dbb-1e2d2a154770",
        "colab": {
          "base_uri": "https://localhost:8080/",
          "height": 153
        }
      },
      "source": [
        "tv_df = pd.DataFrame(tv_transformed.toarray(),columns=tv.get_feature_names()).add_prefix('TFIDF_')\n",
        "\n",
        "print(tv_df.head(5))"
      ],
      "execution_count": 0,
      "outputs": [
        {
          "output_type": "stream",
          "text": [
            "   TFIDF_action  TFIDF_administration  ...  TFIDF_world  TFIDF_years\n",
            "0      0.000000              0.133415  ...     0.045929     0.052694\n",
            "1      0.000000              0.261016  ...     0.000000     0.000000\n",
            "2      0.000000              0.092436  ...     0.063643     0.073018\n",
            "3      0.000000              0.092693  ...     0.095729     0.000000\n",
            "4      0.041334              0.039761  ...     0.054752     0.062817\n",
            "\n",
            "[5 rows x 100 columns]\n"
          ],
          "name": "stdout"
        }
      ]
    },
    {
      "cell_type": "markdown",
      "metadata": {
        "id": "qzcGgNmS_Yc5",
        "colab_type": "text"
      },
      "source": [
        "---\n",
        "### Inspecting Tf-idf values\n",
        "---\n",
        "After creating Tf-idf features we will often want to understand what are the most highest scored words for each corpus. This can be achieved by isolating the row we want to examine and then sorting the the scores from high to low."
      ]
    },
    {
      "cell_type": "markdown",
      "metadata": {
        "id": "MP0QjLZJ_cvX",
        "colab_type": "text"
      },
      "source": [
        "* Assign the first row of `tv_df` to `sample_row`.\n",
        "* `sample_row` is now a series of weights assigned to words. Sort these values to print the top 5 highest-rated words."
      ]
    },
    {
      "cell_type": "code",
      "metadata": {
        "id": "g800sJg2_j2x",
        "colab_type": "code",
        "colab": {}
      },
      "source": [
        "# Isolate the row to be examined\n",
        "\n",
        "sample_row = tv_df.iloc[0]"
      ],
      "execution_count": 0,
      "outputs": []
    },
    {
      "cell_type": "code",
      "metadata": {
        "id": "DwlXmUsRaoyX",
        "colab_type": "code",
        "outputId": "16ed8e2c-2858-45e9-ed98-0b3fddf78126",
        "colab": {
          "base_uri": "https://localhost:8080/",
          "height": 119
        }
      },
      "source": [
        "# top 5 highesst rated words\n",
        "sample_row.sort_values(ascending=False).head()"
      ],
      "execution_count": 0,
      "outputs": [
        {
          "output_type": "execute_result",
          "data": {
            "text/plain": [
              "TFIDF_government    0.367430\n",
              "TFIDF_public        0.333237\n",
              "TFIDF_present       0.315182\n",
              "TFIDF_duty          0.238637\n",
              "TFIDF_citizens      0.229644\n",
              "Name: 0, dtype: float64"
            ]
          },
          "metadata": {
            "tags": []
          },
          "execution_count": 102
        }
      ]
    },
    {
      "cell_type": "markdown",
      "metadata": {
        "id": "A7WK0CHgH_3J",
        "colab_type": "text"
      },
      "source": [
        "---\n",
        "### Sentiment analysis\n",
        "---\n",
        "You have been given the tweets about US airlines. Making use of this data, your task is to predict whether a tweet contains \n",
        "\n",
        "* positive, \n",
        "* negative, or \n",
        "* neutral sentiment \n",
        "\n",
        "about the airline."
      ]
    },
    {
      "cell_type": "code",
      "metadata": {
        "id": "mupsP8kXIFld",
        "colab_type": "code",
        "outputId": "d25b9742-4ee8-4649-802a-bf3a9e66df3f",
        "colab": {
          "base_uri": "https://localhost:8080/",
          "height": 445
        }
      },
      "source": [
        "data_source_url = \"https://raw.githubusercontent.com/shala2020/shala2020.github.io/master/Lecture_Materials/Assignments/MachineLearning/L6/Tweets.csv\"\n",
        "airline_tweets = pd.read_csv(data_source_url)\n",
        "airline_tweets.head()"
      ],
      "execution_count": 0,
      "outputs": [
        {
          "output_type": "execute_result",
          "data": {
            "text/html": [
              "<div>\n",
              "<style scoped>\n",
              "    .dataframe tbody tr th:only-of-type {\n",
              "        vertical-align: middle;\n",
              "    }\n",
              "\n",
              "    .dataframe tbody tr th {\n",
              "        vertical-align: top;\n",
              "    }\n",
              "\n",
              "    .dataframe thead th {\n",
              "        text-align: right;\n",
              "    }\n",
              "</style>\n",
              "<table border=\"1\" class=\"dataframe\">\n",
              "  <thead>\n",
              "    <tr style=\"text-align: right;\">\n",
              "      <th></th>\n",
              "      <th>tweet_id</th>\n",
              "      <th>airline_sentiment</th>\n",
              "      <th>airline_sentiment_confidence</th>\n",
              "      <th>negativereason</th>\n",
              "      <th>negativereason_confidence</th>\n",
              "      <th>airline</th>\n",
              "      <th>airline_sentiment_gold</th>\n",
              "      <th>name</th>\n",
              "      <th>negativereason_gold</th>\n",
              "      <th>retweet_count</th>\n",
              "      <th>text</th>\n",
              "      <th>tweet_coord</th>\n",
              "      <th>tweet_created</th>\n",
              "      <th>tweet_location</th>\n",
              "      <th>user_timezone</th>\n",
              "    </tr>\n",
              "  </thead>\n",
              "  <tbody>\n",
              "    <tr>\n",
              "      <th>0</th>\n",
              "      <td>570306133677760513</td>\n",
              "      <td>neutral</td>\n",
              "      <td>1.0000</td>\n",
              "      <td>NaN</td>\n",
              "      <td>NaN</td>\n",
              "      <td>Virgin America</td>\n",
              "      <td>NaN</td>\n",
              "      <td>cairdin</td>\n",
              "      <td>NaN</td>\n",
              "      <td>0</td>\n",
              "      <td>@VirginAmerica What @dhepburn said.</td>\n",
              "      <td>NaN</td>\n",
              "      <td>2015-02-24 11:35:52 -0800</td>\n",
              "      <td>NaN</td>\n",
              "      <td>Eastern Time (US &amp; Canada)</td>\n",
              "    </tr>\n",
              "    <tr>\n",
              "      <th>1</th>\n",
              "      <td>570301130888122368</td>\n",
              "      <td>positive</td>\n",
              "      <td>0.3486</td>\n",
              "      <td>NaN</td>\n",
              "      <td>0.0000</td>\n",
              "      <td>Virgin America</td>\n",
              "      <td>NaN</td>\n",
              "      <td>jnardino</td>\n",
              "      <td>NaN</td>\n",
              "      <td>0</td>\n",
              "      <td>@VirginAmerica plus you've added commercials t...</td>\n",
              "      <td>NaN</td>\n",
              "      <td>2015-02-24 11:15:59 -0800</td>\n",
              "      <td>NaN</td>\n",
              "      <td>Pacific Time (US &amp; Canada)</td>\n",
              "    </tr>\n",
              "    <tr>\n",
              "      <th>2</th>\n",
              "      <td>570301083672813571</td>\n",
              "      <td>neutral</td>\n",
              "      <td>0.6837</td>\n",
              "      <td>NaN</td>\n",
              "      <td>NaN</td>\n",
              "      <td>Virgin America</td>\n",
              "      <td>NaN</td>\n",
              "      <td>yvonnalynn</td>\n",
              "      <td>NaN</td>\n",
              "      <td>0</td>\n",
              "      <td>@VirginAmerica I didn't today... Must mean I n...</td>\n",
              "      <td>NaN</td>\n",
              "      <td>2015-02-24 11:15:48 -0800</td>\n",
              "      <td>Lets Play</td>\n",
              "      <td>Central Time (US &amp; Canada)</td>\n",
              "    </tr>\n",
              "    <tr>\n",
              "      <th>3</th>\n",
              "      <td>570301031407624196</td>\n",
              "      <td>negative</td>\n",
              "      <td>1.0000</td>\n",
              "      <td>Bad Flight</td>\n",
              "      <td>0.7033</td>\n",
              "      <td>Virgin America</td>\n",
              "      <td>NaN</td>\n",
              "      <td>jnardino</td>\n",
              "      <td>NaN</td>\n",
              "      <td>0</td>\n",
              "      <td>@VirginAmerica it's really aggressive to blast...</td>\n",
              "      <td>NaN</td>\n",
              "      <td>2015-02-24 11:15:36 -0800</td>\n",
              "      <td>NaN</td>\n",
              "      <td>Pacific Time (US &amp; Canada)</td>\n",
              "    </tr>\n",
              "    <tr>\n",
              "      <th>4</th>\n",
              "      <td>570300817074462722</td>\n",
              "      <td>negative</td>\n",
              "      <td>1.0000</td>\n",
              "      <td>Can't Tell</td>\n",
              "      <td>1.0000</td>\n",
              "      <td>Virgin America</td>\n",
              "      <td>NaN</td>\n",
              "      <td>jnardino</td>\n",
              "      <td>NaN</td>\n",
              "      <td>0</td>\n",
              "      <td>@VirginAmerica and it's a really big bad thing...</td>\n",
              "      <td>NaN</td>\n",
              "      <td>2015-02-24 11:14:45 -0800</td>\n",
              "      <td>NaN</td>\n",
              "      <td>Pacific Time (US &amp; Canada)</td>\n",
              "    </tr>\n",
              "  </tbody>\n",
              "</table>\n",
              "</div>"
            ],
            "text/plain": [
              "             tweet_id  ...               user_timezone\n",
              "0  570306133677760513  ...  Eastern Time (US & Canada)\n",
              "1  570301130888122368  ...  Pacific Time (US & Canada)\n",
              "2  570301083672813571  ...  Central Time (US & Canada)\n",
              "3  570301031407624196  ...  Pacific Time (US & Canada)\n",
              "4  570300817074462722  ...  Pacific Time (US & Canada)\n",
              "\n",
              "[5 rows x 15 columns]"
            ]
          },
          "metadata": {
            "tags": []
          },
          "execution_count": 103
        }
      ]
    },
    {
      "cell_type": "markdown",
      "metadata": {
        "id": "AYlKJmRzIHlu",
        "colab_type": "text"
      },
      "source": [
        "Instructions:\n",
        "\n",
        "* Draw a pie chart to see the number of tweets for each airline. \n",
        "* Draw a pie chart to see the distribution of sentiments across all the tweets. \n",
        "* Apply suitable data pre-processing steps to get rid of undesired symbols. This part has been done upto some extent.  \n",
        "* Using `TfidfVectorizer` class, convert text features into TF-IDF feature vectors.\n",
        "* `airline_sentiment` is the label and `text` is the feature. Apply suitable `train_test_split`, implement suitable machine learning classifier, and show the accuracy. \n",
        "\n",
        "Note: \n",
        "\n",
        "* For your convenience, the pre-processing of features have been done. \n",
        "* You are supposed to apply the vectorization on `processed_features` and implement ML algorithm. "
      ]
    },
    {
      "cell_type": "code",
      "metadata": {
        "id": "h5e4aHobj_mJ",
        "colab_type": "code",
        "outputId": "f896b931-875f-4997-e698-dee16d3beaf0",
        "colab": {
          "base_uri": "https://localhost:8080/",
          "height": 68
        }
      },
      "source": [
        "## two way \n",
        "s = airline_tweets.airline.value_counts().index.tolist()\n",
        "\n",
        "## another way\n",
        "k = airline_tweets.airline.value_counts().keys().tolist()\n",
        "\n",
        "## get count of unique category\n",
        "count = airline_tweets.airline.value_counts().tolist()\n",
        "\n",
        "print(\"Feature name : {}\\n\".format(s))\n",
        "print(\"count of feature name : {} \".format(count))"
      ],
      "execution_count": 0,
      "outputs": [
        {
          "output_type": "stream",
          "text": [
            "Feature name : ['United', 'US Airways', 'American', 'Southwest', 'Delta', 'Virgin America']\n",
            "\n",
            "count of feature name : [3822, 2913, 2759, 2420, 2222, 504] \n"
          ],
          "name": "stdout"
        }
      ]
    },
    {
      "cell_type": "code",
      "metadata": {
        "id": "-qjXH1dOir5q",
        "colab_type": "code",
        "outputId": "a8dec584-3e33-4de7-e2f5-4ffae1d5e432",
        "colab": {
          "base_uri": "https://localhost:8080/",
          "height": 248
        }
      },
      "source": [
        "plt.pie(airline_tweets.airline.value_counts(),labels=s, autopct='%1.2f%%')\n",
        "plt.show()"
      ],
      "execution_count": 0,
      "outputs": [
        {
          "output_type": "display_data",
          "data": {
            "image/png": "[encoded data removed]",
            "text/plain": [
              "<Figure size 432x288 with 1 Axes>"
            ]
          },
          "metadata": {
            "tags": []
          }
        }
      ]
    },
    {
      "cell_type": "code",
      "metadata": {
        "id": "FuLprKelk_fq",
        "colab_type": "code",
        "outputId": "96c7e95f-bf01-4980-8e51-746f3d7c894e",
        "colab": {
          "base_uri": "https://localhost:8080/",
          "height": 248
        }
      },
      "source": [
        "label = airline_tweets.airline_sentiment.value_counts().keys().tolist()\n",
        "\n",
        "plt.pie(airline_tweets.airline_sentiment.value_counts(),labels=label, autopct='%1.2f%%')\n",
        "plt.show()"
      ],
      "execution_count": 0,
      "outputs": [
        {
          "output_type": "display_data",
          "data": {
            "image/png": "[encoded data removed]",
            "text/plain": [
              "<Figure size 432x288 with 1 Axes>"
            ]
          },
          "metadata": {
            "tags": []
          }
        }
      ]
    },
    {
      "cell_type": "code",
      "metadata": {
        "id": "g5W-u3BCBfRN",
        "colab_type": "code",
        "colab": {}
      },
      "source": [
        "# Extracting features and label\n",
        "features = airline_tweets.iloc[:, 10].values\n",
        "labels = airline_tweets.iloc[:, 1].values"
      ],
      "execution_count": 0,
      "outputs": []
    },
    {
      "cell_type": "code",
      "metadata": {
        "id": "oeDEmJ8yBiQj",
        "colab_type": "code",
        "colab": {}
      },
      "source": [
        "import re \n",
        "\n",
        "processed_features = []\n",
        "\n",
        "for sentence in range(0, len(features)):\n",
        "    # Remove all the special characters\n",
        "    processed_feature = re.sub(r'\\W', ' ', str(features[sentence]))\n",
        "\n",
        "    # remove all single characters\n",
        "    processed_feature= re.sub(r'\\s+[a-zA-Z]\\s+', ' ', processed_feature)\n",
        "\n",
        "    # Remove single characters from the start\n",
        "    processed_feature = re.sub(r'\\^[a-zA-Z]\\s+', ' ', processed_feature) \n",
        "\n",
        "    # Substituting multiple spaces with single space\n",
        "    processed_feature = re.sub(r'\\s+', ' ', processed_feature, flags=re.I)\n",
        "\n",
        "    # Removing prefixed 'b'\n",
        "    processed_feature = re.sub(r'^b\\s+', '', processed_feature)\n",
        "\n",
        "    # Converting to Lowercase\n",
        "    processed_feature = processed_feature.lower()\n",
        "\n",
        "    processed_features.append(processed_feature)"
      ],
      "execution_count": 0,
      "outputs": []
    },
    {
      "cell_type": "code",
      "metadata": {
        "id": "C0J0IkfMsXWJ",
        "colab_type": "code",
        "colab": {
          "base_uri": "https://localhost:8080/",
          "height": 102
        },
        "outputId": "f7f714f6-fbed-43b8-e3bf-e6f345a7266a"
      },
      "source": [
        "processed_features[:][:5]"
      ],
      "execution_count": 134,
      "outputs": [
        {
          "output_type": "execute_result",
          "data": {
            "text/plain": [
              "[' virginamerica what dhepburn said ',\n",
              " ' virginamerica plus you ve added commercials to the experience tacky ',\n",
              " ' virginamerica didn today must mean need to take another trip ',\n",
              " ' virginamerica it really aggressive to blast obnoxious entertainment in your guests faces amp they have little recourse',\n",
              " ' virginamerica and it a really big bad thing about it']"
            ]
          },
          "metadata": {
            "tags": []
          },
          "execution_count": 134
        }
      ]
    },
    {
      "cell_type": "code",
      "metadata": {
        "id": "-6XBK8GWsc2q",
        "colab_type": "code",
        "colab": {
          "base_uri": "https://localhost:8080/",
          "height": 68
        },
        "outputId": "2982ace2-d366-4503-8814-4004fe1158c6"
      },
      "source": [
        "import nltk\n",
        "nltk.download(\"stopwords\")"
      ],
      "execution_count": 136,
      "outputs": [
        {
          "output_type": "stream",
          "text": [
            "[nltk_data] Downloading package stopwords to /root/nltk_data...\n",
            "[nltk_data]   Package stopwords is already up-to-date!\n"
          ],
          "name": "stdout"
        },
        {
          "output_type": "execute_result",
          "data": {
            "text/plain": [
              "True"
            ]
          },
          "metadata": {
            "tags": []
          },
          "execution_count": 136
        }
      ]
    },
    {
      "cell_type": "code",
      "metadata": {
        "id": "uJB9fzx8x89O",
        "colab_type": "code",
        "colab": {
          "base_uri": "https://localhost:8080/",
          "height": 136
        },
        "outputId": "c8112ae2-4ccd-41a0-918b-86a7d1eec907"
      },
      "source": [
        "# import nltk corpus\n",
        "from nltk.corpus import stopwords\n",
        "\n",
        "# Import TfidfVectorizer\n",
        "from sklearn.feature_extraction.text import TfidfVectorizer\n",
        "\n",
        "# Instantiate TfidfVectorizer\n",
        "\n",
        "# min_df - 7 (Terms should be appear in at least 7 document)\n",
        "# max_df - maximum it should be appear in 80% percent of the document \n",
        "\n",
        "vectorizer = TfidfVectorizer(max_features=2500, min_df=7,max_df=0.8, stop_words=stopwords.words('english'))\n",
        "processed_features = vectorizer.fit_transform(processed_features).toarray()\n",
        "\n",
        "processed_features"
      ],
      "execution_count": 137,
      "outputs": [
        {
          "output_type": "execute_result",
          "data": {
            "text/plain": [
              "array([[0., 0., 0., ..., 0., 0., 0.],\n",
              "       [0., 0., 0., ..., 0., 0., 0.],\n",
              "       [0., 0., 0., ..., 0., 0., 0.],\n",
              "       ...,\n",
              "       [0., 0., 0., ..., 0., 0., 0.],\n",
              "       [0., 0., 0., ..., 0., 0., 0.],\n",
              "       [0., 0., 0., ..., 0., 0., 0.]])"
            ]
          },
          "metadata": {
            "tags": []
          },
          "execution_count": 137
        }
      ]
    },
    {
      "cell_type": "code",
      "metadata": {
        "id": "QvzHMWXixNtg",
        "colab_type": "code",
        "colab": {}
      },
      "source": [
        "from sklearn.model_selection import train_test_split\n",
        "\n",
        "X_train, X_test, y_train, y_test= train_test_split(processed_features ,labels, test_size=0.2, random_state=101)"
      ],
      "execution_count": 0,
      "outputs": []
    },
    {
      "cell_type": "markdown",
      "metadata": {
        "id": "x7AUvW4A0CCM",
        "colab_type": "text"
      },
      "source": [
        "Use Bagging classifier"
      ]
    },
    {
      "cell_type": "code",
      "metadata": {
        "id": "fbDPtUah0OIQ",
        "colab_type": "code",
        "colab": {}
      },
      "source": [
        "from sklearn.tree import DecisionTreeClassifier\n",
        "from sklearn.ensemble import BaggingClassifier\n",
        "from sklearn.metrics import classification_report,confusion_matrix , accuracy_score"
      ],
      "execution_count": 0,
      "outputs": []
    },
    {
      "cell_type": "code",
      "metadata": {
        "id": "qCRDTiTFxNpB",
        "colab_type": "code",
        "colab": {
          "base_uri": "https://localhost:8080/",
          "height": 306
        },
        "outputId": "36d4b662-fc00-443c-e56d-841c4d1fea3c"
      },
      "source": [
        "# Set seed for reproducibility\n",
        "SEED = 1\n",
        "\n",
        "# Instantiate a classification-tree 'dt'\n",
        "dt = DecisionTreeClassifier(max_depth=4, min_samples_leaf=0.16, random_state=SEED)\n",
        "\n",
        "# Instantiate a BaggingClassifier 'bc'\n",
        "bc = BaggingClassifier(base_estimator=dt, n_estimators=300, n_jobs=-1) # n_jobs=-1 means that all the CPU cores are used in computation. \n",
        "\n",
        "# Fit 'bc' to the training set\n",
        "bc.fit(X_train, y_train)"
      ],
      "execution_count": 144,
      "outputs": [
        {
          "output_type": "execute_result",
          "data": {
            "text/plain": [
              "BaggingClassifier(base_estimator=DecisionTreeClassifier(ccp_alpha=0.0,\n",
              "                                                        class_weight=None,\n",
              "                                                        criterion='gini',\n",
              "                                                        max_depth=4,\n",
              "                                                        max_features=None,\n",
              "                                                        max_leaf_nodes=None,\n",
              "                                                        min_impurity_decrease=0.0,\n",
              "                                                        min_impurity_split=None,\n",
              "                                                        min_samples_leaf=0.16,\n",
              "                                                        min_samples_split=2,\n",
              "                                                        min_weight_fraction_leaf=0.0,\n",
              "                                                        presort='deprecated',\n",
              "                                                        random_state=1,\n",
              "                                                        splitter='best'),\n",
              "                  bootstrap=True, bootstrap_features=False, max_features=1.0,\n",
              "                  max_samples=1.0, n_estimators=300, n_jobs=-1, oob_score=False,\n",
              "                  random_state=None, verbose=0, warm_start=False)"
            ]
          },
          "metadata": {
            "tags": []
          },
          "execution_count": 144
        }
      ]
    },
    {
      "cell_type": "code",
      "metadata": {
        "id": "V4b_FUi70NXv",
        "colab_type": "code",
        "colab": {
          "base_uri": "https://localhost:8080/",
          "height": 34
        },
        "outputId": "abf16911-e3ee-4119-b689-d0f964841109"
      },
      "source": [
        "# Predict test set labels\n",
        "y_pred = bc.predict(X_test)\n",
        "print(y_pred[:][:4])"
      ],
      "execution_count": 146,
      "outputs": [
        {
          "output_type": "stream",
          "text": [
            "['negative' 'negative' 'negative' 'negative']\n"
          ],
          "name": "stdout"
        }
      ]
    },
    {
      "cell_type": "code",
      "metadata": {
        "id": "-laEwM35xNlO",
        "colab_type": "code",
        "colab": {
          "base_uri": "https://localhost:8080/",
          "height": 34
        },
        "outputId": "74197a51-703b-4128-cd29-1925452b851e"
      },
      "source": [
        "# Evaluate and print test-set accuracy\n",
        "accuracy = accuracy_score(y_test, y_pred)\n",
        "print('Accuracy of Bagging Classifier: {:.3f}'.format(accuracy))"
      ],
      "execution_count": 147,
      "outputs": [
        {
          "output_type": "stream",
          "text": [
            "Accuracy of Bagging Classifier: 0.621\n"
          ],
          "name": "stdout"
        }
      ]
    },
    {
      "cell_type": "code",
      "metadata": {
        "id": "ekLq8AHl0sUl",
        "colab_type": "code",
        "colab": {
          "base_uri": "https://localhost:8080/",
          "height": 241
        },
        "outputId": "dfe7ecd4-c64a-4083-d5e4-e6e9cf4e88fc"
      },
      "source": [
        "from sklearn.metrics import confusion_matrix,classification_report\n",
        "print(classification_report(y_test,y_pred))"
      ],
      "execution_count": 148,
      "outputs": [
        {
          "output_type": "stream",
          "text": [
            "              precision    recall  f1-score   support\n",
            "\n",
            "    negative       0.62      1.00      0.77      1817\n",
            "     neutral       0.00      0.00      0.00       628\n",
            "    positive       0.00      0.00      0.00       483\n",
            "\n",
            "    accuracy                           0.62      2928\n",
            "   macro avg       0.21      0.33      0.26      2928\n",
            "weighted avg       0.39      0.62      0.48      2928\n",
            "\n"
          ],
          "name": "stdout"
        },
        {
          "output_type": "stream",
          "text": [
            "/usr/local/lib/python3.6/dist-packages/sklearn/metrics/_classification.py:1272: UndefinedMetricWarning: Precision and F-score are ill-defined and being set to 0.0 in labels with no predicted samples. Use `zero_division` parameter to control this behavior.\n",
            "  _warn_prf(average, modifier, msg_start, len(result))\n"
          ],
          "name": "stderr"
        }
      ]
    },
    {
      "cell_type": "code",
      "metadata": {
        "id": "U47SGz9j0vbD",
        "colab_type": "code",
        "colab": {
          "base_uri": "https://localhost:8080/",
          "height": 306
        },
        "outputId": "9afebe07-be15-4f0f-dbea-044e3e76510e"
      },
      "source": [
        "from mlxtend.plotting import plot_confusion_matrix\n",
        "cm = confusion_matrix(y_test,y_pred)\n",
        "fig,ax = plot_confusion_matrix(conf_mat=cm, cmap='inferno_r',colorbar=True)\n",
        "plt.title('Confusion Matrix for DecisionTree Classifier (Survived - 1, No Survived - 0)')\n",
        "plt.show()"
      ],
      "execution_count": 149,
      "outputs": [
        {
          "output_type": "display_data",
          "data": {
            "image/png": "[encoded data removed]",
            "text/plain": [
              "<Figure size 432x288 with 2 Axes>"
            ]
          },
          "metadata": {
            "tags": [],
            "needs_background": "light"
          }
        }
      ]
    },
    {
      "cell_type": "markdown",
      "metadata": {
        "id": "RmFhiVF022Tn",
        "colab_type": "text"
      },
      "source": [
        "Use Random Forest classifier"
      ]
    },
    {
      "cell_type": "code",
      "metadata": {
        "id": "nvKXgKtr2HcD",
        "colab_type": "code",
        "colab": {
          "base_uri": "https://localhost:8080/",
          "height": 153
        },
        "outputId": "ef50a63d-6664-4151-b322-ac562055bd4e"
      },
      "source": [
        "from sklearn.ensemble import RandomForestClassifier\n",
        "\n",
        "text_classifier = RandomForestClassifier(n_estimators=100,random_state=0)\n",
        "text_classifier.fit(X_train,y_train)"
      ],
      "execution_count": 151,
      "outputs": [
        {
          "output_type": "execute_result",
          "data": {
            "text/plain": [
              "RandomForestClassifier(bootstrap=True, ccp_alpha=0.0, class_weight=None,\n",
              "                       criterion='gini', max_depth=None, max_features='auto',\n",
              "                       max_leaf_nodes=None, max_samples=None,\n",
              "                       min_impurity_decrease=0.0, min_impurity_split=None,\n",
              "                       min_samples_leaf=1, min_samples_split=2,\n",
              "                       min_weight_fraction_leaf=0.0, n_estimators=100,\n",
              "                       n_jobs=None, oob_score=False, random_state=0, verbose=0,\n",
              "                       warm_start=False)"
            ]
          },
          "metadata": {
            "tags": []
          },
          "execution_count": 151
        }
      ]
    },
    {
      "cell_type": "code",
      "metadata": {
        "id": "yb6QaXVH3dOw",
        "colab_type": "code",
        "colab": {
          "base_uri": "https://localhost:8080/",
          "height": 34
        },
        "outputId": "c2eb8259-7eac-4d52-cf0d-5a11a180d974"
      },
      "source": [
        "predictions = text_classifier.predict(X_test)\n",
        "print(predictions[:][:4])"
      ],
      "execution_count": 152,
      "outputs": [
        {
          "output_type": "stream",
          "text": [
            "['positive' 'negative' 'negative' 'positive']\n"
          ],
          "name": "stdout"
        }
      ]
    },
    {
      "cell_type": "code",
      "metadata": {
        "id": "8cHtOP3i37nN",
        "colab_type": "code",
        "colab": {
          "base_uri": "https://localhost:8080/",
          "height": 68
        },
        "outputId": "d9aec0a1-2c97-407d-df03-c9dfe8de15c6"
      },
      "source": [
        "print(confusion_matrix(y_test,predictions))"
      ],
      "execution_count": 153,
      "outputs": [
        {
          "output_type": "stream",
          "text": [
            "[[1687   89   41]\n",
            " [ 340  232   56]\n",
            " [ 156   72  255]]\n"
          ],
          "name": "stdout"
        }
      ]
    },
    {
      "cell_type": "code",
      "metadata": {
        "id": "ZL3d5Ja44XVE",
        "colab_type": "code",
        "colab": {
          "base_uri": "https://localhost:8080/",
          "height": 306
        },
        "outputId": "879efea5-5117-4b63-a13e-a676c8c91d01"
      },
      "source": [
        "fig,ax = plot_confusion_matrix(conf_mat=cm, cmap='inferno_r',colorbar=True)\n",
        "plt.title('Confusion Matrix for DecisionTree Classifier (Survived - 1, No Survived - 0)')\n",
        "plt.show()"
      ],
      "execution_count": 156,
      "outputs": [
        {
          "output_type": "display_data",
          "data": {
            "image/png": "[encoded data removed]",
            "text/plain": [
              "<Figure size 432x288 with 2 Axes>"
            ]
          },
          "metadata": {
            "tags": [],
            "needs_background": "light"
          }
        }
      ]
    },
    {
      "cell_type": "code",
      "metadata": {
        "id": "e0IWLokh4JMw",
        "colab_type": "code",
        "colab": {
          "base_uri": "https://localhost:8080/",
          "height": 187
        },
        "outputId": "8033206b-a676-4177-fbdf-47502960379c"
      },
      "source": [
        "print(classification_report(y_test,predictions))"
      ],
      "execution_count": 154,
      "outputs": [
        {
          "output_type": "stream",
          "text": [
            "              precision    recall  f1-score   support\n",
            "\n",
            "    negative       0.77      0.93      0.84      1817\n",
            "     neutral       0.59      0.37      0.45       628\n",
            "    positive       0.72      0.53      0.61       483\n",
            "\n",
            "    accuracy                           0.74      2928\n",
            "   macro avg       0.70      0.61      0.64      2928\n",
            "weighted avg       0.73      0.74      0.72      2928\n",
            "\n"
          ],
          "name": "stdout"
        }
      ]
    },
    {
      "cell_type": "code",
      "metadata": {
        "id": "FKfqLjZR4ND4",
        "colab_type": "code",
        "colab": {
          "base_uri": "https://localhost:8080/",
          "height": 34
        },
        "outputId": "0100ed53-e89d-4045-82d7-747e94a85321"
      },
      "source": [
        "print(accuracy_score(y_test,predictions))"
      ],
      "execution_count": 155,
      "outputs": [
        {
          "output_type": "stream",
          "text": [
            "0.7424863387978142\n"
          ],
          "name": "stdout"
        }
      ]
    }
  ]
}