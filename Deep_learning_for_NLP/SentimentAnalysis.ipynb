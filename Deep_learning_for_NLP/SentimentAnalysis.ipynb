{
  "nbformat": 4,
  "nbformat_minor": 0,
  "metadata": {
    "kernelspec": {
      "display_name": "Python 3",
      "language": "python",
      "name": "python3"
    },
    "language_info": {
      "codemirror_mode": {
        "name": "ipython",
        "version": 3
      },
      "file_extension": ".py",
      "mimetype": "text/x-python",
      "name": "python",
      "nbconvert_exporter": "python",
      "pygments_lexer": "ipython3",
      "version": "3.6.9"
    },
    "colab": {
      "name": "SentimentAnalysis.ipynb",
      "provenance": [],
      "collapsed_sections": []
    }
  },
  "cells": [
    {
      "cell_type": "markdown",
      "metadata": {
        "id": "ZUtpjIrKDq71"
      },
      "source": [
        "## **Sentiment Classification with Natural Language Processing** "
      ]
    },
    {
      "cell_type": "markdown",
      "metadata": {
        "id": "4q-SPQ8eLrNI"
      },
      "source": [
        "### **`What is sentiment analysis?`**\n",
        "\n",
        "\n",
        "Sentiment analysis is the computational task of automatically determining what feelings a writer is expressing in text. Sentiment is often framed as a binary distinction (positive vs. negative), but it can also be a more fine-grained, like identifying the specific emotion an author is expressing (like fear, joy or anger).\n",
        "\n",
        "Sentiment analysis is used for many applications, especially in business intelligence. Some examples of applications for sentiment analysis include:\n",
        "\n",
        "* Analyzing the social media discussion around a certain topic\n",
        "* Evaluating survey responses\n",
        "* Determining whether product reviews are positive or negative\n",
        "\n",
        "Sentiment analysis is not perfect, and as with any automatic analysis of language, you will have errors in your results. It also cannot tell you why a writer is feeling a certain way. However, it can be useful to quickly summarize some qualities of text, especially if you have so much text that a human reader cannot analyze all of it.\n",
        "\n",
        "```\n",
        "For this project,the goal is to to classify Food reviews based on customers' text.\n",
        "```"
      ]
    },
    {
      "cell_type": "markdown",
      "metadata": {
        "id": "hdzyzZ8LDq74"
      },
      "source": [
        "This dataset consists of reviews of fine foods from amazon. The data span a period of more than 10 years, including all ~500,000 reviews up to October 2012. Reviews include product and user information, ratings, and a plain text review. It also includes reviews from all other Amazon categories.\n",
        "\n",
        "<p align=\"center\"><img src=\"https://miro.medium.com/max/608/0*c7wMiVrApomEnqcl.png\" width=\"50%\"/>"
      ]
    },
    {
      "cell_type": "code",
      "metadata": {
        "id": "CHmCtwtqDq76"
      },
      "source": [
        "# Importing the libraries\n",
        "import pandas as pd\n",
        "import numpy as np\n",
        "import seaborn as sns\n",
        "import matplotlib.pyplot as plt\n",
        "%matplotlib inline"
      ],
      "execution_count": null,
      "outputs": []
    },
    {
      "cell_type": "code",
      "metadata": {
        "id": "WocvFBhVF7wc",
        "outputId": "3bbf2eaa-9350-4d67-c1f7-7cd7ca7ac1ff",
        "colab": {
          "base_uri": "https://localhost:8080/",
          "height": 34
        }
      },
      "source": [
        "# Mount Drive\n",
        "\n",
        "from google.colab import drive\n",
        "drive.mount('/content/drive/')"
      ],
      "execution_count": null,
      "outputs": [
        {
          "output_type": "stream",
          "text": [
            "Mounted at /content/drive/\n"
          ],
          "name": "stdout"
        }
      ]
    },
    {
      "cell_type": "code",
      "metadata": {
        "id": "INO2Y9iZGg4g",
        "outputId": "8aa890ea-4ef9-4b2b-afad-984ee917fc3c",
        "colab": {
          "base_uri": "https://localhost:8080/",
          "height": 34
        }
      },
      "source": [
        "!ls \"/content/drive/My Drive/Colab Notebooks/NLP/Sentiment_Analysis\""
      ],
      "execution_count": null,
      "outputs": [
        {
          "output_type": "stream",
          "text": [
            "Reviews.csv  Reviews.zip  Sentiment_analysis.ipynb  SentimentAnalysis.ipynb\n"
          ],
          "name": "stdout"
        }
      ]
    },
    {
      "cell_type": "markdown",
      "metadata": {
        "id": "CejO7xy4j8jm"
      },
      "source": [
        "## **`Extract Dataset`**"
      ]
    },
    {
      "cell_type": "code",
      "metadata": {
        "id": "Thwd675SGvXd",
        "outputId": "3bab43cc-4435-4e66-a127-989f19a3cd69",
        "colab": {
          "base_uri": "https://localhost:8080/",
          "height": 34
        }
      },
      "source": [
        "print(\"[INFO] Extracting Dataset .....\")\n",
        "!unzip -q \"/content/drive/My Drive/Colab Notebooks/NLP/Sentiment_Analysis/Reviews.zip\""
      ],
      "execution_count": null,
      "outputs": [
        {
          "output_type": "stream",
          "text": [
            "[INFO] Extracting Dataset .....\n"
          ],
          "name": "stdout"
        }
      ]
    },
    {
      "cell_type": "markdown",
      "metadata": {
        "id": "5Tj0N_hWJ7Z2"
      },
      "source": [
        "## **`Information about the dataset`**"
      ]
    },
    {
      "cell_type": "markdown",
      "metadata": {
        "id": "E2o1ohsrKC5H"
      },
      "source": [
        "### **The Amazon Fine Food Reviews dataset consists of reviews of fine foods from Amazon.**\n",
        "\n",
        "Number of reviews: 568,454 <br/>\n",
        "Number of users: 256,059 <br/>\n",
        "Number of products: 74,258 <br/>\n",
        "Timespan: Oct 1999 — Oct 2012 <br/>\n",
        "Number of Attributes/Columns in data: 10 <br/>\n",
        "\n",
        "### **The column or features in the dataset**\n",
        "\n",
        "1. **Id**\n",
        "2. **ProductId** — unique identifier for the product\n",
        "3. **UserId** — unqiue identifier for the user\n",
        "4. **ProfileName**\n",
        "5. **HelpfulnessNumerator** — number of users who found the \n",
        "review helpful\n",
        "6. **HelpfulnessDenominator** — number of users who indicated whether they found the review helpful or not\n",
        "7. **Score** — rating between 1 and 5\n",
        "8. **Time** — timestamp for the review\n",
        "9. **Summary** — brief summary of the review\n",
        "10. **Text** — text of the review\n",
        "\n"
      ]
    },
    {
      "cell_type": "markdown",
      "metadata": {
        "id": "8du-sPXCMpI-"
      },
      "source": [
        "## **`Loading the dataset`**\n"
      ]
    },
    {
      "cell_type": "code",
      "metadata": {
        "id": "HYZBFJEUDq8C"
      },
      "source": [
        "df = pd.read_csv('Reviews.csv')"
      ],
      "execution_count": null,
      "outputs": []
    },
    {
      "cell_type": "code",
      "metadata": {
        "id": "UGUHBn0iMrzd",
        "outputId": "67392386-d32d-4992-e63e-bbda2b919d4e",
        "colab": {
          "base_uri": "https://localhost:8080/",
          "height": 34
        }
      },
      "source": [
        "df.shape"
      ],
      "execution_count": null,
      "outputs": [
        {
          "output_type": "execute_result",
          "data": {
            "text/plain": [
              "(568454, 10)"
            ]
          },
          "metadata": {
            "tags": []
          },
          "execution_count": 14
        }
      ]
    },
    {
      "cell_type": "code",
      "metadata": {
        "id": "lrFnQP-CMwIG",
        "outputId": "a1f1a67f-fe68-45f3-c356-8eac4eebba35",
        "colab": {
          "base_uri": "https://localhost:8080/",
          "height": 204
        }
      },
      "source": [
        "df.dtypes"
      ],
      "execution_count": null,
      "outputs": [
        {
          "output_type": "execute_result",
          "data": {
            "text/plain": [
              "Id                         int64\n",
              "ProductId                 object\n",
              "UserId                    object\n",
              "ProfileName               object\n",
              "HelpfulnessNumerator       int64\n",
              "HelpfulnessDenominator     int64\n",
              "Score                      int64\n",
              "Time                       int64\n",
              "Summary                   object\n",
              "Text                      object\n",
              "dtype: object"
            ]
          },
          "metadata": {
            "tags": []
          },
          "execution_count": 15
        }
      ]
    },
    {
      "cell_type": "code",
      "metadata": {
        "id": "EMIW6DVeMy-N",
        "outputId": "c693ad48-8b0e-4a09-9b77-0788e3fd5666",
        "colab": {
          "base_uri": "https://localhost:8080/",
          "height": 306
        }
      },
      "source": [
        "df.info()"
      ],
      "execution_count": null,
      "outputs": [
        {
          "output_type": "stream",
          "text": [
            "<class 'pandas.core.frame.DataFrame'>\n",
            "RangeIndex: 568454 entries, 0 to 568453\n",
            "Data columns (total 10 columns):\n",
            " #   Column                  Non-Null Count   Dtype \n",
            "---  ------                  --------------   ----- \n",
            " 0   Id                      568454 non-null  int64 \n",
            " 1   ProductId               568454 non-null  object\n",
            " 2   UserId                  568454 non-null  object\n",
            " 3   ProfileName             568438 non-null  object\n",
            " 4   HelpfulnessNumerator    568454 non-null  int64 \n",
            " 5   HelpfulnessDenominator  568454 non-null  int64 \n",
            " 6   Score                   568454 non-null  int64 \n",
            " 7   Time                    568454 non-null  int64 \n",
            " 8   Summary                 568427 non-null  object\n",
            " 9   Text                    568454 non-null  object\n",
            "dtypes: int64(5), object(5)\n",
            "memory usage: 43.4+ MB\n"
          ],
          "name": "stdout"
        }
      ]
    },
    {
      "cell_type": "code",
      "metadata": {
        "id": "VvLqFwMoM1VN",
        "outputId": "bf0088ab-8101-4b89-8f0f-198f18d6be0c",
        "colab": {
          "base_uri": "https://localhost:8080/",
          "height": 297
        }
      },
      "source": [
        "df.describe()"
      ],
      "execution_count": null,
      "outputs": [
        {
          "output_type": "execute_result",
          "data": {
            "text/html": [
              "<div>\n",
              "<style scoped>\n",
              "    .dataframe tbody tr th:only-of-type {\n",
              "        vertical-align: middle;\n",
              "    }\n",
              "\n",
              "    .dataframe tbody tr th {\n",
              "        vertical-align: top;\n",
              "    }\n",
              "\n",
              "    .dataframe thead th {\n",
              "        text-align: right;\n",
              "    }\n",
              "</style>\n",
              "<table border=\"1\" class=\"dataframe\">\n",
              "  <thead>\n",
              "    <tr style=\"text-align: right;\">\n",
              "      <th></th>\n",
              "      <th>Id</th>\n",
              "      <th>HelpfulnessNumerator</th>\n",
              "      <th>HelpfulnessDenominator</th>\n",
              "      <th>Score</th>\n",
              "      <th>Time</th>\n",
              "    </tr>\n",
              "  </thead>\n",
              "  <tbody>\n",
              "    <tr>\n",
              "      <th>count</th>\n",
              "      <td>568454.000000</td>\n",
              "      <td>568454.000000</td>\n",
              "      <td>568454.00000</td>\n",
              "      <td>568454.000000</td>\n",
              "      <td>5.684540e+05</td>\n",
              "    </tr>\n",
              "    <tr>\n",
              "      <th>mean</th>\n",
              "      <td>284227.500000</td>\n",
              "      <td>1.743817</td>\n",
              "      <td>2.22881</td>\n",
              "      <td>4.183199</td>\n",
              "      <td>1.296257e+09</td>\n",
              "    </tr>\n",
              "    <tr>\n",
              "      <th>std</th>\n",
              "      <td>164098.679298</td>\n",
              "      <td>7.636513</td>\n",
              "      <td>8.28974</td>\n",
              "      <td>1.310436</td>\n",
              "      <td>4.804331e+07</td>\n",
              "    </tr>\n",
              "    <tr>\n",
              "      <th>min</th>\n",
              "      <td>1.000000</td>\n",
              "      <td>0.000000</td>\n",
              "      <td>0.00000</td>\n",
              "      <td>1.000000</td>\n",
              "      <td>9.393408e+08</td>\n",
              "    </tr>\n",
              "    <tr>\n",
              "      <th>25%</th>\n",
              "      <td>142114.250000</td>\n",
              "      <td>0.000000</td>\n",
              "      <td>0.00000</td>\n",
              "      <td>4.000000</td>\n",
              "      <td>1.271290e+09</td>\n",
              "    </tr>\n",
              "    <tr>\n",
              "      <th>50%</th>\n",
              "      <td>284227.500000</td>\n",
              "      <td>0.000000</td>\n",
              "      <td>1.00000</td>\n",
              "      <td>5.000000</td>\n",
              "      <td>1.311120e+09</td>\n",
              "    </tr>\n",
              "    <tr>\n",
              "      <th>75%</th>\n",
              "      <td>426340.750000</td>\n",
              "      <td>2.000000</td>\n",
              "      <td>2.00000</td>\n",
              "      <td>5.000000</td>\n",
              "      <td>1.332720e+09</td>\n",
              "    </tr>\n",
              "    <tr>\n",
              "      <th>max</th>\n",
              "      <td>568454.000000</td>\n",
              "      <td>866.000000</td>\n",
              "      <td>923.00000</td>\n",
              "      <td>5.000000</td>\n",
              "      <td>1.351210e+09</td>\n",
              "    </tr>\n",
              "  </tbody>\n",
              "</table>\n",
              "</div>"
            ],
            "text/plain": [
              "                  Id  HelpfulnessNumerator  ...          Score          Time\n",
              "count  568454.000000         568454.000000  ...  568454.000000  5.684540e+05\n",
              "mean   284227.500000              1.743817  ...       4.183199  1.296257e+09\n",
              "std    164098.679298              7.636513  ...       1.310436  4.804331e+07\n",
              "min         1.000000              0.000000  ...       1.000000  9.393408e+08\n",
              "25%    142114.250000              0.000000  ...       4.000000  1.271290e+09\n",
              "50%    284227.500000              0.000000  ...       5.000000  1.311120e+09\n",
              "75%    426340.750000              2.000000  ...       5.000000  1.332720e+09\n",
              "max    568454.000000            866.000000  ...       5.000000  1.351210e+09\n",
              "\n",
              "[8 rows x 5 columns]"
            ]
          },
          "metadata": {
            "tags": []
          },
          "execution_count": 17
        }
      ]
    },
    {
      "cell_type": "code",
      "metadata": {
        "id": "cmJvtwDZDq8I"
      },
      "source": [
        "df=df[:10000]"
      ],
      "execution_count": null,
      "outputs": []
    },
    {
      "cell_type": "code",
      "metadata": {
        "id": "bCEX5oBgDq8M",
        "outputId": "0838b1bf-4172-41aa-8c60-53a7ed0d12bc",
        "colab": {
          "base_uri": "https://localhost:8080/",
          "height": 683
        }
      },
      "source": [
        "df.head()"
      ],
      "execution_count": null,
      "outputs": [
        {
          "output_type": "execute_result",
          "data": {
            "text/html": [
              "<div>\n",
              "<style scoped>\n",
              "    .dataframe tbody tr th:only-of-type {\n",
              "        vertical-align: middle;\n",
              "    }\n",
              "\n",
              "    .dataframe tbody tr th {\n",
              "        vertical-align: top;\n",
              "    }\n",
              "\n",
              "    .dataframe thead th {\n",
              "        text-align: right;\n",
              "    }\n",
              "</style>\n",
              "<table border=\"1\" class=\"dataframe\">\n",
              "  <thead>\n",
              "    <tr style=\"text-align: right;\">\n",
              "      <th></th>\n",
              "      <th>Id</th>\n",
              "      <th>ProductId</th>\n",
              "      <th>UserId</th>\n",
              "      <th>ProfileName</th>\n",
              "      <th>HelpfulnessNumerator</th>\n",
              "      <th>HelpfulnessDenominator</th>\n",
              "      <th>Score</th>\n",
              "      <th>Time</th>\n",
              "      <th>Summary</th>\n",
              "      <th>Text</th>\n",
              "    </tr>\n",
              "  </thead>\n",
              "  <tbody>\n",
              "    <tr>\n",
              "      <th>0</th>\n",
              "      <td>1</td>\n",
              "      <td>B001E4KFG0</td>\n",
              "      <td>A3SGXH7AUHU8GW</td>\n",
              "      <td>delmartian</td>\n",
              "      <td>1</td>\n",
              "      <td>1</td>\n",
              "      <td>5</td>\n",
              "      <td>1303862400</td>\n",
              "      <td>Good Quality Dog Food</td>\n",
              "      <td>I have bought several of the Vitality canned d...</td>\n",
              "    </tr>\n",
              "    <tr>\n",
              "      <th>1</th>\n",
              "      <td>2</td>\n",
              "      <td>B00813GRG4</td>\n",
              "      <td>A1D87F6ZCVE5NK</td>\n",
              "      <td>dll pa</td>\n",
              "      <td>0</td>\n",
              "      <td>0</td>\n",
              "      <td>1</td>\n",
              "      <td>1346976000</td>\n",
              "      <td>Not as Advertised</td>\n",
              "      <td>Product arrived labeled as Jumbo Salted Peanut...</td>\n",
              "    </tr>\n",
              "    <tr>\n",
              "      <th>2</th>\n",
              "      <td>3</td>\n",
              "      <td>B000LQOCH0</td>\n",
              "      <td>ABXLMWJIXXAIN</td>\n",
              "      <td>Natalia Corres \"Natalia Corres\"</td>\n",
              "      <td>1</td>\n",
              "      <td>1</td>\n",
              "      <td>4</td>\n",
              "      <td>1219017600</td>\n",
              "      <td>\"Delight\" says it all</td>\n",
              "      <td>This is a confection that has been around a fe...</td>\n",
              "    </tr>\n",
              "    <tr>\n",
              "      <th>3</th>\n",
              "      <td>4</td>\n",
              "      <td>B000UA0QIQ</td>\n",
              "      <td>A395BORC6FGVXV</td>\n",
              "      <td>Karl</td>\n",
              "      <td>3</td>\n",
              "      <td>3</td>\n",
              "      <td>2</td>\n",
              "      <td>1307923200</td>\n",
              "      <td>Cough Medicine</td>\n",
              "      <td>If you are looking for the secret ingredient i...</td>\n",
              "    </tr>\n",
              "    <tr>\n",
              "      <th>4</th>\n",
              "      <td>5</td>\n",
              "      <td>B006K2ZZ7K</td>\n",
              "      <td>A1UQRSCLF8GW1T</td>\n",
              "      <td>Michael D. Bigham \"M. Wassir\"</td>\n",
              "      <td>0</td>\n",
              "      <td>0</td>\n",
              "      <td>5</td>\n",
              "      <td>1350777600</td>\n",
              "      <td>Great taffy</td>\n",
              "      <td>Great taffy at a great price.  There was a wid...</td>\n",
              "    </tr>\n",
              "  </tbody>\n",
              "</table>\n",
              "</div>"
            ],
            "text/plain": [
              "   Id  ...                                               Text\n",
              "0   1  ...  I have bought several of the Vitality canned d...\n",
              "1   2  ...  Product arrived labeled as Jumbo Salted Peanut...\n",
              "2   3  ...  This is a confection that has been around a fe...\n",
              "3   4  ...  If you are looking for the secret ingredient i...\n",
              "4   5  ...  Great taffy at a great price.  There was a wid...\n",
              "\n",
              "[5 rows x 10 columns]"
            ]
          },
          "metadata": {
            "tags": []
          },
          "execution_count": 19
        }
      ]
    },
    {
      "cell_type": "code",
      "metadata": {
        "id": "RteygAlgDq8U",
        "outputId": "9fc69710-ebf8-4c52-b212-3faa65e5fa3e",
        "colab": {
          "base_uri": "https://localhost:8080/",
          "height": 34
        }
      },
      "source": [
        "df.shape"
      ],
      "execution_count": null,
      "outputs": [
        {
          "output_type": "execute_result",
          "data": {
            "text/plain": [
              "(10000, 10)"
            ]
          },
          "metadata": {
            "tags": []
          },
          "execution_count": 20
        }
      ]
    },
    {
      "cell_type": "markdown",
      "metadata": {
        "id": "jiqJ1rpFDq8a"
      },
      "source": [
        "\n",
        "## **`Text Cleaning or Preprocessing`**"
      ]
    },
    {
      "cell_type": "markdown",
      "metadata": {
        "id": "amL8MwRKORhf"
      },
      "source": [
        "The entire process of cleaning and stardardization of text, making it noise free and ready for analysis is known as text preprocessing.\n",
        "\n",
        "* **Noise removal**:\n",
        "\n",
        "    Any peice of text which is not relevent to the context of the data and the end output can be specified as the noise\n",
        "\n",
        "    for example : language stopwords (commonly used words of a language - is,am, the, of , in etc), URL's or links, social media entities (mention,hashtags), punctuations and industry specific words\n",
        "\n",
        "* **Lexicon normalization**\n",
        "\n",
        "  Another type opf textual noise is about the multiplt representation exhibited by single word.\n",
        "\n",
        "  for example - \"play\",\"player\",\"played\",\"plays\" and \"playing\" are the diiferent variation of the word - \"play\"\n",
        "\n",
        "  the most common lexicon normalization practices are \n",
        "\n",
        "  1. **stemming**\n",
        "\n",
        "    Stemming is the process of reducing inflection in words (e.g. troubled, troubles) to their root form (e.g. trouble). The “root” in this case may not be a real root word, but just a canonical form of the original word.\n",
        "\n",
        "    <img src=\"https://cdn-images-1.medium.com/max/1600/1*9KLZmtSh-t6SfEGX_nbznA.png\" width=\"60%\"/>\n",
        "\n",
        "  2. Lemmatization\n",
        "\n",
        "    Lemmatization on the surface is very similar to stemming, where the goal is to remove inflections and map a word to its root form. The only difference is that, lemmatization tries to do it the proper way. It doesn’t just chop things off, it actually transforms words to the actual root. For example, the word “better” would map to “good”.\n",
        "\n",
        "    <img src=\"https://cdn-images-1.medium.com/max/1600/1*z4f7My5peI28lNpZdHk_Iw.png\" width=\"80%\"/>\n",
        "\n",
        "### **Stopwords**\n",
        "\n",
        "As mentioned earlier, stopwords are very common words. Words like “we” and “are” probably do not help at all in NLP tasks such as sentiment analysis or text classifications. Hence, we can remove stopwords to save computing time and efforts in processing large volumes of text.\n",
        "\n"
      ]
    },
    {
      "cell_type": "code",
      "metadata": {
        "id": "6QUdT9WkDq8b",
        "outputId": "8b5d3387-eb46-4d54-e951-b31f7d1253fb",
        "colab": {
          "base_uri": "https://localhost:8080/",
          "height": 51
        }
      },
      "source": [
        "# Cleaning the texts\n",
        "import re\n",
        "import nltk\n",
        "nltk.download('stopwords')\n",
        "from nltk.corpus import stopwords\n",
        "from nltk.stem.porter import PorterStemmer\n",
        "corpus = []\n",
        "for i in range(0, 10000):\n",
        "    \n",
        "    # here we are only dealing with text not any other special charachter\n",
        "    review = re.sub('[^a-zA-Z]', ' ', df['Text'][i])\n",
        "    \n",
        "    # convert all text in lower case \n",
        "    review = review.lower()\n",
        "\n",
        "    review = review.split()\n",
        "\n",
        "    # stemming\n",
        "    ps = PorterStemmer()\n",
        "\n",
        "    # stemming each word excluding stopword\n",
        "    review = [ps.stem(word) for word in review if not word in set(stopwords.words('english'))]\n",
        "    review = ' '.join(review)\n",
        "    corpus.append(review)"
      ],
      "execution_count": null,
      "outputs": [
        {
          "output_type": "stream",
          "text": [
            "[nltk_data] Downloading package stopwords to /root/nltk_data...\n",
            "[nltk_data]   Unzipping corpora/stopwords.zip.\n"
          ],
          "name": "stdout"
        }
      ]
    },
    {
      "cell_type": "code",
      "metadata": {
        "id": "yKl-CMSfDq8g",
        "outputId": "0767aa46-8621-41ab-ad8e-41e002690406",
        "colab": {
          "base_uri": "https://localhost:8080/",
          "height": 204
        }
      },
      "source": [
        "corpus=pd.DataFrame(corpus, columns=['Reviews']) \n",
        "corpus.head()"
      ],
      "execution_count": null,
      "outputs": [
        {
          "output_type": "execute_result",
          "data": {
            "text/html": [
              "<div>\n",
              "<style scoped>\n",
              "    .dataframe tbody tr th:only-of-type {\n",
              "        vertical-align: middle;\n",
              "    }\n",
              "\n",
              "    .dataframe tbody tr th {\n",
              "        vertical-align: top;\n",
              "    }\n",
              "\n",
              "    .dataframe thead th {\n",
              "        text-align: right;\n",
              "    }\n",
              "</style>\n",
              "<table border=\"1\" class=\"dataframe\">\n",
              "  <thead>\n",
              "    <tr style=\"text-align: right;\">\n",
              "      <th></th>\n",
              "      <th>Reviews</th>\n",
              "    </tr>\n",
              "  </thead>\n",
              "  <tbody>\n",
              "    <tr>\n",
              "      <th>0</th>\n",
              "      <td>bought sever vital can dog food product found ...</td>\n",
              "    </tr>\n",
              "    <tr>\n",
              "      <th>1</th>\n",
              "      <td>product arriv label jumbo salt peanut peanut a...</td>\n",
              "    </tr>\n",
              "    <tr>\n",
              "      <th>2</th>\n",
              "      <td>confect around centuri light pillowi citru gel...</td>\n",
              "    </tr>\n",
              "    <tr>\n",
              "      <th>3</th>\n",
              "      <td>look secret ingredi robitussin believ found go...</td>\n",
              "    </tr>\n",
              "    <tr>\n",
              "      <th>4</th>\n",
              "      <td>great taffi great price wide assort yummi taff...</td>\n",
              "    </tr>\n",
              "  </tbody>\n",
              "</table>\n",
              "</div>"
            ],
            "text/plain": [
              "                                             Reviews\n",
              "0  bought sever vital can dog food product found ...\n",
              "1  product arriv label jumbo salt peanut peanut a...\n",
              "2  confect around centuri light pillowi citru gel...\n",
              "3  look secret ingredi robitussin believ found go...\n",
              "4  great taffi great price wide assort yummi taff..."
            ]
          },
          "metadata": {
            "tags": []
          },
          "execution_count": 22
        }
      ]
    },
    {
      "cell_type": "markdown",
      "metadata": {
        "id": "aX89mLy3Tco_"
      },
      "source": [
        "We are only dealing with \"reviews\" and score column "
      ]
    },
    {
      "cell_type": "code",
      "metadata": {
        "id": "WXTeBfeWThr_",
        "outputId": "1e6634d6-1b2b-45e6-8407-84957cb3567e",
        "colab": {
          "base_uri": "https://localhost:8080/",
          "height": 675
        }
      },
      "source": [
        "import seaborn as sns\n",
        "sns.countplot(df['Score'], palette=\"plasma\")\n",
        "fig = plt.gcf()\n",
        "fig.set_size_inches(10,10)\n",
        "plt.title('Score')\n",
        "plt.show()"
      ],
      "execution_count": null,
      "outputs": [
        {
          "output_type": "stream",
          "text": [
            "/usr/local/lib/python3.6/dist-packages/seaborn/_decorators.py:43: FutureWarning: Pass the following variable as a keyword arg: x. From version 0.12, the only valid positional argument will be `data`, and passing other arguments without an explicit keyword will result in an error or misinterpretation.\n",
            "  FutureWarning\n"
          ],
          "name": "stderr"
        },
        {
          "output_type": "display_data",
          "data": {
            "image/png": "[encoded data removed]",
            "text/plain": [
              "<Figure size 720x720 with 1 Axes>"
            ]
          },
          "metadata": {
            "tags": [],
            "needs_background": "light"
          }
        }
      ]
    },
    {
      "cell_type": "code",
      "metadata": {
        "id": "PvvUdlwhDq8q",
        "outputId": "cf96941e-40cd-4329-a20c-142ca1aa4005",
        "colab": {
          "base_uri": "https://localhost:8080/",
          "height": 204
        }
      },
      "source": [
        "result=corpus.join(df[['Score']])\n",
        "result.head()"
      ],
      "execution_count": null,
      "outputs": [
        {
          "output_type": "execute_result",
          "data": {
            "text/html": [
              "<div>\n",
              "<style scoped>\n",
              "    .dataframe tbody tr th:only-of-type {\n",
              "        vertical-align: middle;\n",
              "    }\n",
              "\n",
              "    .dataframe tbody tr th {\n",
              "        vertical-align: top;\n",
              "    }\n",
              "\n",
              "    .dataframe thead th {\n",
              "        text-align: right;\n",
              "    }\n",
              "</style>\n",
              "<table border=\"1\" class=\"dataframe\">\n",
              "  <thead>\n",
              "    <tr style=\"text-align: right;\">\n",
              "      <th></th>\n",
              "      <th>Reviews</th>\n",
              "      <th>Score</th>\n",
              "    </tr>\n",
              "  </thead>\n",
              "  <tbody>\n",
              "    <tr>\n",
              "      <th>0</th>\n",
              "      <td>bought sever vital can dog food product found ...</td>\n",
              "      <td>5</td>\n",
              "    </tr>\n",
              "    <tr>\n",
              "      <th>1</th>\n",
              "      <td>product arriv label jumbo salt peanut peanut a...</td>\n",
              "      <td>1</td>\n",
              "    </tr>\n",
              "    <tr>\n",
              "      <th>2</th>\n",
              "      <td>confect around centuri light pillowi citru gel...</td>\n",
              "      <td>4</td>\n",
              "    </tr>\n",
              "    <tr>\n",
              "      <th>3</th>\n",
              "      <td>look secret ingredi robitussin believ found go...</td>\n",
              "      <td>2</td>\n",
              "    </tr>\n",
              "    <tr>\n",
              "      <th>4</th>\n",
              "      <td>great taffi great price wide assort yummi taff...</td>\n",
              "      <td>5</td>\n",
              "    </tr>\n",
              "  </tbody>\n",
              "</table>\n",
              "</div>"
            ],
            "text/plain": [
              "                                             Reviews  Score\n",
              "0  bought sever vital can dog food product found ...      5\n",
              "1  product arriv label jumbo salt peanut peanut a...      1\n",
              "2  confect around centuri light pillowi citru gel...      4\n",
              "3  look secret ingredi robitussin believ found go...      2\n",
              "4  great taffi great price wide assort yummi taff...      5"
            ]
          },
          "metadata": {
            "tags": []
          },
          "execution_count": 27
        }
      ]
    },
    {
      "cell_type": "markdown",
      "metadata": {
        "id": "VDg_xiMeDq8x"
      },
      "source": [
        "## **`TFIDF`**"
      ]
    },
    {
      "cell_type": "markdown",
      "metadata": {
        "id": "DOxpQt_bDq8y"
      },
      "source": [
        "TFIDF is an information retrieval technique that weighs a term’s frequency (TF) and its inverse document frequency (IDF). Each word has its respective TF and IDF score. The product of the TF and IDF scores of a word is called the TFIDF weight of that word.\n",
        "\n",
        "Put simply, the higher the TFIDF score (weight), the rarer the word and vice versa"
      ]
    },
    {
      "cell_type": "code",
      "metadata": {
        "id": "9daN-f-bDq8z",
        "outputId": "0a6a6a6d-3508-42fc-b607-f09cc0fedcc5",
        "colab": {
          "base_uri": "https://localhost:8080/",
          "height": 136
        }
      },
      "source": [
        "from sklearn.feature_extraction.text import TfidfVectorizer\n",
        "tfidf = TfidfVectorizer()\n",
        "tfidf.fit(result['Reviews'])"
      ],
      "execution_count": null,
      "outputs": [
        {
          "output_type": "execute_result",
          "data": {
            "text/plain": [
              "TfidfVectorizer(analyzer='word', binary=False, decode_error='strict',\n",
              "                dtype=<class 'numpy.float64'>, encoding='utf-8',\n",
              "                input='content', lowercase=True, max_df=1.0, max_features=None,\n",
              "                min_df=1, ngram_range=(1, 1), norm='l2', preprocessor=None,\n",
              "                smooth_idf=True, stop_words=None, strip_accents=None,\n",
              "                sublinear_tf=False, token_pattern='(?u)\\\\b\\\\w\\\\w+\\\\b',\n",
              "                tokenizer=None, use_idf=True, vocabulary=None)"
            ]
          },
          "metadata": {
            "tags": []
          },
          "execution_count": 28
        }
      ]
    },
    {
      "cell_type": "code",
      "metadata": {
        "id": "rdljIdIvDq84",
        "outputId": "32ba6c4d-c149-4c4d-d926-827de0ba179b",
        "colab": {
          "base_uri": "https://localhost:8080/",
          "height": 35
        }
      },
      "source": [
        "X = tfidf.transform(result['Reviews'])\n",
        "result['Reviews'][1]"
      ],
      "execution_count": null,
      "outputs": [
        {
          "output_type": "execute_result",
          "data": {
            "application/vnd.google.colaboratory.intrinsic+json": {
              "type": "string"
            },
            "text/plain": [
              "'product arriv label jumbo salt peanut peanut actual small size unsalt sure error vendor intend repres product jumbo'"
            ]
          },
          "metadata": {
            "tags": []
          },
          "execution_count": 29
        }
      ]
    },
    {
      "cell_type": "code",
      "metadata": {
        "id": "ZZqjZHVLDq89",
        "outputId": "46119acb-ac3c-4c79-ab3f-5dd8b3442c81"
      },
      "source": [
        "# Here 1 represent 1st row, tfidf value of word \"peanut\" is 0.375\n",
        "\n",
        "print([X[1, tfidf.vocabulary_['peanut']]])"
      ],
      "execution_count": null,
      "outputs": [
        {
          "output_type": "stream",
          "text": [
            "[0.37509695630835344]\n"
          ],
          "name": "stdout"
        }
      ]
    },
    {
      "cell_type": "code",
      "metadata": {
        "id": "c9y1zNdMDq9B",
        "outputId": "c0ad98ab-5cde-42e2-ccf0-7a14ba4634c6",
        "colab": {
          "base_uri": "https://localhost:8080/",
          "height": 34
        }
      },
      "source": [
        "print([X[1, tfidf.vocabulary_['jumbo']]])"
      ],
      "execution_count": null,
      "outputs": [
        {
          "output_type": "stream",
          "text": [
            "[0.5727828521365451]\n"
          ],
          "name": "stdout"
        }
      ]
    },
    {
      "cell_type": "code",
      "metadata": {
        "id": "Qbq0gdyyDq9G",
        "outputId": "7b84aeed-b1a6-402d-d118-b5e6e81b6072",
        "colab": {
          "base_uri": "https://localhost:8080/",
          "height": 34
        }
      },
      "source": [
        "print([X[1, tfidf.vocabulary_['error']]])"
      ],
      "execution_count": null,
      "outputs": [
        {
          "output_type": "stream",
          "text": [
            "[0.2706003734708304]\n"
          ],
          "name": "stdout"
        }
      ]
    },
    {
      "cell_type": "markdown",
      "metadata": {
        "id": "I1WeNxALDq9M"
      },
      "source": [
        "Among the three words, “peanut”, “jumbo” and “error”, tf-idf gives the highest weight to “jumbo”. Why? This indicates that “jumbo” is a much rarer word than “peanut” and “error”. This is how to use the tf-idf to indicate the importance of words or terms inside a collection of documents."
      ]
    },
    {
      "cell_type": "markdown",
      "metadata": {
        "id": "mWtpUTQhDq9N"
      },
      "source": [
        "## **`Sentiment Classification`**"
      ]
    },
    {
      "cell_type": "code",
      "metadata": {
        "id": "gHYPkxrXDq9O",
        "outputId": "c4f52d5a-bccd-4970-ca9c-8bcfcd80be0d",
        "colab": {
          "base_uri": "https://localhost:8080/",
          "height": 204
        }
      },
      "source": [
        "# Remove null values\n",
        "result.dropna(inplace=True)\n",
        "\n",
        "# We are removing neutral score  \n",
        "result[result['Score'] != 3]\n",
        "\n",
        "# if score value is greater then 3 , we mark it as \"positive\" i.e 1\n",
        "# else we mark it has \"negative\" i.e 0\n",
        "\n",
        "result['Positivity'] = np.where(result['Score'] > 3, 1, 0)\n",
        "cols = [ 'Score']\n",
        "\n",
        "# As we don't need score column , so we removing that column\n",
        "result.drop(cols, axis=1, inplace=True)\n",
        "\n",
        "# print the top 5 value\n",
        "result.head()"
      ],
      "execution_count": null,
      "outputs": [
        {
          "output_type": "execute_result",
          "data": {
            "text/html": [
              "<div>\n",
              "<style scoped>\n",
              "    .dataframe tbody tr th:only-of-type {\n",
              "        vertical-align: middle;\n",
              "    }\n",
              "\n",
              "    .dataframe tbody tr th {\n",
              "        vertical-align: top;\n",
              "    }\n",
              "\n",
              "    .dataframe thead th {\n",
              "        text-align: right;\n",
              "    }\n",
              "</style>\n",
              "<table border=\"1\" class=\"dataframe\">\n",
              "  <thead>\n",
              "    <tr style=\"text-align: right;\">\n",
              "      <th></th>\n",
              "      <th>Reviews</th>\n",
              "      <th>Positivity</th>\n",
              "    </tr>\n",
              "  </thead>\n",
              "  <tbody>\n",
              "    <tr>\n",
              "      <th>0</th>\n",
              "      <td>bought sever vital can dog food product found ...</td>\n",
              "      <td>1</td>\n",
              "    </tr>\n",
              "    <tr>\n",
              "      <th>1</th>\n",
              "      <td>product arriv label jumbo salt peanut peanut a...</td>\n",
              "      <td>0</td>\n",
              "    </tr>\n",
              "    <tr>\n",
              "      <th>2</th>\n",
              "      <td>confect around centuri light pillowi citru gel...</td>\n",
              "      <td>1</td>\n",
              "    </tr>\n",
              "    <tr>\n",
              "      <th>3</th>\n",
              "      <td>look secret ingredi robitussin believ found go...</td>\n",
              "      <td>0</td>\n",
              "    </tr>\n",
              "    <tr>\n",
              "      <th>4</th>\n",
              "      <td>great taffi great price wide assort yummi taff...</td>\n",
              "      <td>1</td>\n",
              "    </tr>\n",
              "  </tbody>\n",
              "</table>\n",
              "</div>"
            ],
            "text/plain": [
              "                                             Reviews  Positivity\n",
              "0  bought sever vital can dog food product found ...           1\n",
              "1  product arriv label jumbo salt peanut peanut a...           0\n",
              "2  confect around centuri light pillowi citru gel...           1\n",
              "3  look secret ingredi robitussin believ found go...           0\n",
              "4  great taffi great price wide assort yummi taff...           1"
            ]
          },
          "metadata": {
            "tags": []
          },
          "execution_count": 32
        }
      ]
    },
    {
      "cell_type": "code",
      "metadata": {
        "id": "dME3vYyllLqT",
        "outputId": "74056bcf-d122-454e-f008-b6d275cc3cb7",
        "colab": {
          "base_uri": "https://localhost:8080/",
          "height": 204
        }
      },
      "source": [
        "result.tail()"
      ],
      "execution_count": null,
      "outputs": [
        {
          "output_type": "execute_result",
          "data": {
            "text/html": [
              "<div>\n",
              "<style scoped>\n",
              "    .dataframe tbody tr th:only-of-type {\n",
              "        vertical-align: middle;\n",
              "    }\n",
              "\n",
              "    .dataframe tbody tr th {\n",
              "        vertical-align: top;\n",
              "    }\n",
              "\n",
              "    .dataframe thead th {\n",
              "        text-align: right;\n",
              "    }\n",
              "</style>\n",
              "<table border=\"1\" class=\"dataframe\">\n",
              "  <thead>\n",
              "    <tr style=\"text-align: right;\">\n",
              "      <th></th>\n",
              "      <th>Reviews</th>\n",
              "      <th>Positivity</th>\n",
              "    </tr>\n",
              "  </thead>\n",
              "  <tbody>\n",
              "    <tr>\n",
              "      <th>9995</th>\n",
              "      <td>switch advanc similac organ product think woul...</td>\n",
              "      <td>0</td>\n",
              "    </tr>\n",
              "    <tr>\n",
              "      <th>9996</th>\n",
              "      <td>like bad review say organ formula constip daug...</td>\n",
              "      <td>1</td>\n",
              "    </tr>\n",
              "    <tr>\n",
              "      <th>9997</th>\n",
              "      <td>want sole breastfe unabl keep supplement formu...</td>\n",
              "      <td>1</td>\n",
              "    </tr>\n",
              "    <tr>\n",
              "      <th>9998</th>\n",
              "      <td>love fact get deliev hous delievi charg hard f...</td>\n",
              "      <td>1</td>\n",
              "    </tr>\n",
              "    <tr>\n",
              "      <th>9999</th>\n",
              "      <td>week old ga constip problem first week tri two...</td>\n",
              "      <td>1</td>\n",
              "    </tr>\n",
              "  </tbody>\n",
              "</table>\n",
              "</div>"
            ],
            "text/plain": [
              "                                                Reviews  Positivity\n",
              "9995  switch advanc similac organ product think woul...           0\n",
              "9996  like bad review say organ formula constip daug...           1\n",
              "9997  want sole breastfe unabl keep supplement formu...           1\n",
              "9998  love fact get deliev hous delievi charg hard f...           1\n",
              "9999  week old ga constip problem first week tri two...           1"
            ]
          },
          "metadata": {
            "tags": []
          },
          "execution_count": 55
        }
      ]
    },
    {
      "cell_type": "code",
      "metadata": {
        "id": "nYVHv7IiDq9W",
        "outputId": "92a41cd8-0ec4-4e05-b1a0-e89d04db2e1e",
        "colab": {
          "base_uri": "https://localhost:8080/",
          "height": 85
        }
      },
      "source": [
        "# Total number of positive and negative comment are 7616 and 2384\n",
        "result.groupby('Positivity').size()"
      ],
      "execution_count": null,
      "outputs": [
        {
          "output_type": "execute_result",
          "data": {
            "text/plain": [
              "Positivity\n",
              "0    2384\n",
              "1    7616\n",
              "dtype: int64"
            ]
          },
          "metadata": {
            "tags": []
          },
          "execution_count": 33
        }
      ]
    },
    {
      "cell_type": "markdown",
      "metadata": {
        "id": "0W5inRQkDq9a"
      },
      "source": [
        "## **`Train Test Split`**"
      ]
    },
    {
      "cell_type": "code",
      "metadata": {
        "id": "SNHj3O4dDq9j"
      },
      "source": [
        "from sklearn.model_selection import train_test_split\n",
        "\n",
        "X = result.Reviews\n",
        "y = result.Positivity\n",
        "\n",
        "X_train, X_test, y_train, y_test = train_test_split(X, y, random_state = 0)"
      ],
      "execution_count": null,
      "outputs": []
    },
    {
      "cell_type": "code",
      "metadata": {
        "id": "xRS4WfFbDq9p",
        "outputId": "8f1e3468-b46a-40b4-ae67-2fa6f4168f50",
        "colab": {
          "base_uri": "https://localhost:8080/",
          "height": 34
        }
      },
      "source": [
        "print(\"Train set has total {0} entries with {1:.2f}% negative, {2:.2f}% positive\".format(len(X_train),\n",
        "                                                                             (len(X_train[y_train == 0]) / (len(X_train)*1.))*100,\n",
        "                                                                            (len(X_train[y_train == 1]) / (len(X_train)*1.))*100))"
      ],
      "execution_count": null,
      "outputs": [
        {
          "output_type": "stream",
          "text": [
            "Train set has total 7500 entries with 23.57% negative, 76.43% positive\n"
          ],
          "name": "stdout"
        }
      ]
    },
    {
      "cell_type": "code",
      "metadata": {
        "id": "ln4lCyVKDq9t",
        "outputId": "225443c7-5eef-413a-a31e-73c95fea6133",
        "colab": {
          "base_uri": "https://localhost:8080/",
          "height": 34
        }
      },
      "source": [
        "print(\"Test set has total {0} entries with {1:.2f}% negative, {2:.2f}% positive\".format(len(X_test),\n",
        "                                                                             (len(X_test[y_test == 0]) / (len(X_test)*1.))*100,\n",
        "                                                                            (len(X_test[y_test == 1]) / (len(X_test)*1.))*100))"
      ],
      "execution_count": null,
      "outputs": [
        {
          "output_type": "stream",
          "text": [
            "Test set has total 2500 entries with 24.64% negative, 75.36% positive\n"
          ],
          "name": "stdout"
        }
      ]
    },
    {
      "cell_type": "markdown",
      "metadata": {
        "id": "XqjXxkcmXK5Z"
      },
      "source": [
        "Here we can see that our classes are imbalanced, and the ratio of negative to positive instance is 22:78\n",
        "\n",
        "One of the tactics of combining imbalance classes is using **Decision tree algorithm**, so we are using **Random forest classifier** to learn imbalanced data and set class_weight=balanced"
      ]
    },
    {
      "cell_type": "code",
      "metadata": {
        "id": "cjsu-EH7Dq9z"
      },
      "source": [
        "from sklearn.feature_extraction.text import CountVectorizer\n",
        "from sklearn.ensemble import RandomForestClassifier\n",
        "from sklearn.pipeline import Pipeline\n",
        "from sklearn.metrics import accuracy_score"
      ],
      "execution_count": null,
      "outputs": []
    },
    {
      "cell_type": "code",
      "metadata": {
        "id": "6UdzNCPgDq95"
      },
      "source": [
        "def accuracy_summary(pipeline, X_train, y_train, X_test, y_test):\n",
        "    sentiment_fit = pipeline.fit(X_train, y_train)\n",
        "    y_pred = sentiment_fit.predict(X_test)\n",
        "    accuracy = accuracy_score(y_test, y_pred)\n",
        "    print(\"accuracy score: {0:.2f}%\".format(accuracy*100))\n",
        "    return accuracy"
      ],
      "execution_count": null,
      "outputs": []
    },
    {
      "cell_type": "code",
      "metadata": {
        "id": "Il9xiFQuDq-A"
      },
      "source": [
        "cv = CountVectorizer()\n",
        "rf = RandomForestClassifier(class_weight=\"balanced\")\n",
        "n_features = np.arange(10000,25001,5000)\n",
        "\n",
        "def nfeature_accuracy_checker(vectorizer=cv, n_features=n_features, stop_words=None, ngram_range=(1, 1), classifier=rf):\n",
        "    result = []\n",
        "    print(classifier)\n",
        "    print(\"\\n\")\n",
        "    for n in n_features:\n",
        "        vectorizer.set_params(stop_words=stop_words, max_features=n, ngram_range=ngram_range)\n",
        "        checker_pipeline = Pipeline([\n",
        "            ('vectorizer', vectorizer),\n",
        "            ('classifier', classifier)\n",
        "        ])\n",
        "        print(\"Test result for {} features\".format(n))\n",
        "        nfeature_accuracy = accuracy_summary(checker_pipeline, X_train, y_train, X_test, y_test)\n",
        "        result.append((n,nfeature_accuracy))\n",
        "    return result"
      ],
      "execution_count": null,
      "outputs": []
    },
    {
      "cell_type": "code",
      "metadata": {
        "id": "26q9uYEFDq-G"
      },
      "source": [
        "from sklearn.feature_extraction.text import TfidfVectorizer\n",
        "tfidf = TfidfVectorizer()"
      ],
      "execution_count": null,
      "outputs": []
    },
    {
      "cell_type": "code",
      "metadata": {
        "id": "JCVT1UVADq-M",
        "outputId": "d644c40d-bd9c-4947-c1e1-0ffde279a3fa",
        "colab": {
          "base_uri": "https://localhost:8080/",
          "height": 357
        }
      },
      "source": [
        "print(\"Result for trigram with stop words (Tfidf)\\n\")\n",
        "feature_result_tgt = nfeature_accuracy_checker(vectorizer=tfidf,ngram_range=(1, 3))"
      ],
      "execution_count": null,
      "outputs": [
        {
          "output_type": "stream",
          "text": [
            "Result for trigram with stop words (Tfidf)\n",
            "\n",
            "RandomForestClassifier(bootstrap=True, ccp_alpha=0.0, class_weight='balanced',\n",
            "                       criterion='gini', max_depth=None, max_features='auto',\n",
            "                       max_leaf_nodes=None, max_samples=None,\n",
            "                       min_impurity_decrease=0.0, min_impurity_split=None,\n",
            "                       min_samples_leaf=1, min_samples_split=2,\n",
            "                       min_weight_fraction_leaf=0.0, n_estimators=100,\n",
            "                       n_jobs=None, oob_score=False, random_state=None,\n",
            "                       verbose=0, warm_start=False)\n",
            "\n",
            "\n",
            "Test result for 10000 features\n",
            "accuracy score: 84.32%\n",
            "Test result for 15000 features\n",
            "accuracy score: 83.60%\n",
            "Test result for 20000 features\n",
            "accuracy score: 83.96%\n",
            "Test result for 25000 features\n",
            "accuracy score: 83.32%\n"
          ],
          "name": "stdout"
        }
      ]
    },
    {
      "cell_type": "markdown",
      "metadata": {
        "id": "1VgdL7Xhdd1e"
      },
      "source": [
        "## **Confusion matrix**\n",
        "\n",
        "Confusion matrix is a table that is often used to describe the performance of a classification model on a set of the test data for which the true values are known.\n",
        "\n",
        "<p align=\"center\"><img src=\"https://miro.medium.com/max/700/1*pOtBHai4jFd-ujaNXPilRg.png\"/></p>\n",
        "\n",
        "\n",
        "**Accuracy** : Accuracy is the most intuitive performance measure and it is simple a ratio of correctly predicted observation to the total observations\n",
        "\n",
        "**Precision** : Precision is the ratio of correctly predicted positive observation to the total predicted positive observations.\n",
        "\n",
        "**Recall (Sensitiviy)** - Recall is the ratio of correctly predicted positive observation to all observation in the actual class"
      ]
    },
    {
      "cell_type": "code",
      "metadata": {
        "id": "MIMiAPBaj2fu",
        "outputId": "f8a85734-242c-44c9-d726-2112f9bc65b3",
        "colab": {
          "base_uri": "https://localhost:8080/",
          "height": 85
        }
      },
      "source": [
        "print(X_train.shape)\n",
        "print(y_train.shape)\n",
        "print(X_test.shape)\n",
        "print(y_test.shape)"
      ],
      "execution_count": null,
      "outputs": [
        {
          "output_type": "stream",
          "text": [
            "(7500,)\n",
            "(7500,)\n",
            "(2500,)\n",
            "(2500,)\n"
          ],
          "name": "stdout"
        }
      ]
    },
    {
      "cell_type": "code",
      "metadata": {
        "id": "uYpPI3i8kFqt",
        "outputId": "6fe1d95d-661c-44dd-f4fd-404f30fc7a91",
        "colab": {
          "base_uri": "https://localhost:8080/",
          "height": 85
        }
      },
      "source": [
        "X_train[:3]"
      ],
      "execution_count": null,
      "outputs": [
        {
          "output_type": "execute_result",
          "data": {
            "text/plain": [
              "2967    disappoint receiv shipment seawe contain msg l...\n",
              "700     plocki red bean rice tortilla chip realli tast...\n",
              "3481    got keurig brewer last month bought two differ...\n",
              "Name: Reviews, dtype: object"
            ]
          },
          "metadata": {
            "tags": []
          },
          "execution_count": 49
        }
      ]
    },
    {
      "cell_type": "code",
      "metadata": {
        "id": "jVzdbmOEDq-U",
        "outputId": "82952e2e-9943-43fa-df39-d0acb1fd97c3",
        "colab": {
          "base_uri": "https://localhost:8080/",
          "height": 170
        }
      },
      "source": [
        "from sklearn.metrics import classification_report\n",
        "\n",
        "cv = CountVectorizer(max_features=30000,ngram_range=(1, 3))\n",
        "pipeline = Pipeline([\n",
        "        ('vectorizer', cv),\n",
        "        ('classifier', rf)\n",
        "    ])\n",
        "sentiment_fit = pipeline.fit(X_train, y_train)\n",
        "y_pred = sentiment_fit.predict(X_test)\n",
        "\n",
        "print(classification_report(y_test, y_pred, target_names=['negative','positive']))"
      ],
      "execution_count": null,
      "outputs": [
        {
          "output_type": "stream",
          "text": [
            "              precision    recall  f1-score   support\n",
            "\n",
            "    negative       0.94      0.34      0.50       616\n",
            "    positive       0.82      0.99      0.90      1884\n",
            "\n",
            "    accuracy                           0.83      2500\n",
            "   macro avg       0.88      0.67      0.70      2500\n",
            "weighted avg       0.85      0.83      0.80      2500\n",
            "\n"
          ],
          "name": "stdout"
        }
      ]
    },
    {
      "cell_type": "code",
      "metadata": {
        "id": "aecYPD7jDq-b",
        "outputId": "fc14ff70-6ffa-411f-ee65-3e146329ee0e",
        "colab": {
          "base_uri": "https://localhost:8080/",
          "height": 34
        }
      },
      "source": [
        "## K-fold Cross Validation\n",
        "from sklearn.model_selection import cross_val_score\n",
        "accuracies = cross_val_score(estimator = pipeline, X= X_train, y = y_train,\n",
        "                             cv = 10)\n",
        "print(\"Random Forest Classifier Accuracy: %0.2f (+/- %0.2f)\"  % (accuracies.mean(), accuracies.std() * 2))"
      ],
      "execution_count": null,
      "outputs": [
        {
          "output_type": "stream",
          "text": [
            "Random Forest Classifier Accuracy: 0.83 (+/- 0.01)\n"
          ],
          "name": "stdout"
        }
      ]
    },
    {
      "cell_type": "markdown",
      "metadata": {
        "id": "3pzbH1SNkx-Z"
      },
      "source": [
        "### **Prediction**"
      ]
    },
    {
      "cell_type": "code",
      "metadata": {
        "id": "LQCEMaM8Dq_v",
        "outputId": "0efbb7dd-7d08-4dac-d01b-6931ecbacd17",
        "colab": {
          "base_uri": "https://localhost:8080/",
          "height": 34
        }
      },
      "source": [
        "print(sentiment_fit.predict(['I love Angle hair pasta and this recipe is so amazing','The pasta is worst , I will not eat them again']))"
      ],
      "execution_count": null,
      "outputs": [
        {
          "output_type": "stream",
          "text": [
            "[1 0]\n"
          ],
          "name": "stdout"
        }
      ]
    },
    {
      "cell_type": "markdown",
      "metadata": {
        "id": "nt3g00eflb1U"
      },
      "source": [
        "Here we can see that model is working perfectly , output 1 indicate positive review where 0 indicate negative review"
      ]
    },
    {
      "cell_type": "code",
      "metadata": {
        "id": "Z6kUHD6cwADQ"
      },
      "source": [
        ""
      ],
      "execution_count": null,
      "outputs": []
    }
  ]
}