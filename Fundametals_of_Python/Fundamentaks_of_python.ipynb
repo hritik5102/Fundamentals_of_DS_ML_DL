{
  "nbformat": 4,
  "nbformat_minor": 0,
  "metadata": {
    "kernelspec": {
      "display_name": "Python 3",
      "language": "python",
      "name": "python3"
    },
    "language_info": {
      "codemirror_mode": {
        "name": "ipython",
        "version": 3
      },
      "file_extension": ".py",
      "mimetype": "text/x-python",
      "name": "python",
      "nbconvert_exporter": "python",
      "pygments_lexer": "ipython3",
      "version": "3.6.8"
    },
    "colab": {
      "provenance": [],
      "toc_visible": true
    }
  },
  "cells": [
    {
      "cell_type": "markdown",
      "metadata": {
        "id": "8RAj1bR71mrr"
      },
      "source": [
        "## **Perceiving Python programming paradigms 👀**"
      ]
    },
    {
      "cell_type": "markdown",
      "metadata": {
        "id": "htHaLqL512UT"
      },
      "source": [
        "Early each year, TIOBE announces its Programming Language of The Year. When its latest annual [TIOBE index](https://www.tiobe.com/tiobe-index//programming-languages-definition/) report came out, I was not at all surprised to see [Python again winning the title](https://www.tiobe.com/tiobe-index/python/), which was based on capturing the most search engine ranking points (especially on Google, Bing, Yahoo, Wikipedia, Amazon, YouTube, and Baidu) in 2018.\n",
        "\n",
        "\n",
        "<p align=\"center\"><img src=\"https://opensource.com/sites/default/files/uploads/python_tiobe-index.png\" />\n",
        "\n",
        "\n",
        "Adding weight to TIOBE's findings, earlier this year, nearly 90,000 developers took Stack Overflow's annual [Developer Survey](https://insights.stackoverflow.com/survey/2019), which is the largest and most comprehensive survey of people who code around the world. The main takeaway from this year's results was:\n",
        "\n",
        "\"Python, the fastest-growing major programming language, has risen in the ranks of programming languages in our survey yet again, edging out Java this year and standing as the second most loved language (behind Rust).\"\n",
        "\n",
        "Ever since I started programming and exploring different languages, I have seen admiration for Python soaring high. Since 2003, it has consistently been among the top 10 most popular programming languages. As TIOBE's report stated:\n",
        "\n",
        "```\n",
        "\"It is the most frequently taught first language at universities nowadays, it is number one in the statistical domain,\n",
        "number one in AI programming, number one in scripting and number one in writing system tests.\n",
        "Besides this, Python is also leading in web programming and scientific computing (just to name some other domains).\n",
        "In summary, Python is everywhere.\"\n",
        "```\n",
        "There are several reasons for Python's rapid rise, bloom, and dominance in multiple domains, including web development, scientific computing, testing, data science, machine learning, and more. The reasons include its\n",
        "\n",
        "* Readable and maintainable code\n",
        "* Extensive support for third-party integrations and libraries\n",
        "* Modular, dynamic, and portable structure\n",
        "* Flexible programming; learning ease and support\n",
        "* User-friendly data structures\n",
        "* productivity and speed and, most important, community support.\n",
        "\n",
        "The diverse application of Python is a result of its combined features, which give it an edge over other languages.\n",
        "\n",
        "\n",
        "### **Reference** :\n",
        "\n",
        "[opensource - python programming paradigms](https://opensource.com/article/19/10/python-programming-paradigms)"
      ]
    },
    {
      "cell_type": "markdown",
      "metadata": {
        "id": "BMdZ-xEkhbVU"
      },
      "source": [
        "## **Introduction to Python 🐍**\n",
        "\n",
        "**Interpreter** : Translates program one statement at a time.\t<br/>\n",
        "**Compiler** : Scans the entire program and translates it as a whole into machine code.\n",
        "\n",
        "In various books of python programming, it is mentioned that python language is interpreted. But that is half correct the python program is first compiled and then interpreted. The compilation part is hidden from the programmer thus, many programmers believe that it is an interpreted language. The compilation part is done first when we execute our code and this will generate byte code and internally this byte code gets converted by the python virtual machine(p.v.m) according to the underlying platform(machine+operating system).\n",
        "\n",
        "Now the question is – if there is any proof that python first compiles the program internally and then run the code via interpreter?\n",
        "The answer is yes! and note this compiled part is get deleted by the python(as soon as you execute your code) just it does not want programmers to get into complexity.\n",
        "\n",
        "<p align=\"center\"><img src=\"https://indianpythonista.files.wordpress.com/2018/01/pjme67t.png\" width=\"50%\"/></p>\n",
        "\n",
        "\n",
        "### **Reference**\n",
        "\n",
        "* [https://indianpythonista.files.wordpress.com/2018/01/pjme67t.png](https://indianpythonista.files.wordpress.com/2018/01/pjme67t.png)"
      ]
    },
    {
      "cell_type": "markdown",
      "metadata": {
        "id": "uYrnRVz11Ccf"
      },
      "source": [
        "```\n",
        "Python supports four main programming paradigms: imperative, functional, procedural, and object-oriented.\n",
        "```\n",
        "\n",
        "The conept of imperative programming, functional programming, procedural programming, and object-oriented programming explained in detail."
      ]
    },
    {
      "cell_type": "markdown",
      "metadata": {
        "id": "lGAH2AkB5-C6"
      },
      "source": [
        "## **Data types in Python**\n",
        "\n",
        "\n",
        "Every value in Python has a datatype. Since everything is an object in Python programming, data types are actually classes and variables are instance (object) of these classes.\n",
        "\n",
        "Datatypes in python\n",
        "* int\n",
        "* float\n",
        "* string\n",
        "* bool\n",
        "* set\n",
        "* tuple\n",
        "* dict\n",
        "\n",
        "We can use the type() function to know which class a variable or a value belongs to. Similarly, the isinstance() function is used to check if an object belongs to a particular class."
      ]
    },
    {
      "cell_type": "markdown",
      "metadata": {
        "id": "snnHr-Vf_2Hz"
      },
      "source": [
        "## **Python Number**"
      ]
    },
    {
      "cell_type": "code",
      "metadata": {
        "id": "WIkZlrvx7STq",
        "colab": {
          "base_uri": "https://localhost:8080/"
        },
        "outputId": "78e82262-82ad-454d-8c2a-601b1a6eaa5e"
      },
      "source": [
        "a = 5\n",
        "print(a, \"is of type\", type(a))\n",
        "\n",
        "a = 2.0\n",
        "print(a, \"is of type\", type(a))\n",
        "\n",
        "a = 1+2j\n",
        "print(a, \"is of type\", type(a))\n",
        "\n",
        "# The isinstance() function returns True if the specified object is of the specified type, otherwise False\n",
        "print(a, \"is complex number?\", isinstance(1+2j,complex))"
      ],
      "execution_count": null,
      "outputs": [
        {
          "output_type": "stream",
          "text": [
            "5 is of type <class 'int'>\n",
            "2.0 is of type <class 'float'>\n",
            "(1+2j) is of type <class 'complex'>\n",
            "(1+2j) is complex number? True\n"
          ],
          "name": "stdout"
        }
      ]
    },
    {
      "cell_type": "markdown",
      "metadata": {
        "id": "g1y5XQaVqfAu"
      },
      "source": [
        "```\n",
        "When converting a bool to an int, the integer value is always 0 or 1,\n",
        "but when converting an int to a bool, the boolean value is True for all integers except 0.\n",
        "```\n",
        "\n",
        "```python\n",
        ">>> int(False)\n",
        "0\n",
        ">>> int(True)\n",
        "1\n",
        ">>> bool(5)\n",
        "True\n",
        ">>> bool(-5)\n",
        "True\n",
        ">>> bool(0)\n",
        "False\n",
        "```"
      ]
    },
    {
      "cell_type": "code",
      "metadata": {
        "id": "nNAy64jI8xVz",
        "colab": {
          "base_uri": "https://localhost:8080/",
          "height": 68
        },
        "outputId": "31bc55c5-533b-40eb-e0eb-7d18020e2660"
      },
      "source": [
        "# integer equivalent of binary number 101\n",
        "num = 0b101\n",
        "print(num)\n",
        "\n",
        "# integer equivalent of Octal number 32\n",
        "num2 = 0o32\n",
        "print(num2)\n",
        "\n",
        "# integer equivalent of Hexadecimal number FF\n",
        "num3 = 0xFF\n",
        "print(num3)"
      ],
      "execution_count": null,
      "outputs": [
        {
          "output_type": "stream",
          "text": [
            "5\n",
            "26\n",
            "255\n"
          ],
          "name": "stdout"
        }
      ]
    },
    {
      "cell_type": "code",
      "metadata": {
        "id": "a7BlEyvqqaFP",
        "colab": {
          "base_uri": "https://localhost:8080/",
          "height": 51
        },
        "outputId": "faba2fb6-a59f-4e3a-e48c-25d3441c2b29"
      },
      "source": [
        "# In python 3\n",
        "\n",
        "# Boolean 'True' is interpreted as 1\n",
        "# Boolean 'False' is interpreted as 0\n",
        "\n",
        "print(1 + True)\n",
        "print(1 - False)"
      ],
      "execution_count": null,
      "outputs": [
        {
          "output_type": "stream",
          "text": [
            "2\n",
            "1\n"
          ],
          "name": "stdout"
        }
      ]
    },
    {
      "cell_type": "code",
      "metadata": {
        "id": "VuO1OoMMhbVp",
        "outputId": "abe7c5d3-1fa4-4020-e101-bcda1c6c8dbc"
      },
      "source": [
        "# type\n",
        "\n",
        "print(type(name))"
      ],
      "execution_count": null,
      "outputs": [
        {
          "output_type": "stream",
          "text": [
            "<class 'str'>\n"
          ],
          "name": "stdout"
        }
      ]
    },
    {
      "cell_type": "code",
      "metadata": {
        "id": "3AErsj7JhbVw",
        "outputId": "c0aea576-bda8-4663-c85e-c21fcb110bcb"
      },
      "source": [
        "# Type conversion from string to int\n",
        "weight = input(\"what is weight \")\n",
        "final = int(weight)*0.45\n",
        "print(final)"
      ],
      "execution_count": null,
      "outputs": [
        {
          "output_type": "stream",
          "text": [
            "what is weight 45\n",
            "20.25\n"
          ],
          "name": "stdout"
        }
      ]
    },
    {
      "cell_type": "markdown",
      "metadata": {
        "id": "1imPgTpp_kpA"
      },
      "source": [
        "## **String**\n",
        "\n",
        "```\n",
        "String is sequence of Unicode characters. We can use single quotes or double quotes to represent strings.\n",
        "Multi-line strings can be denoted using triple quotes, ''' or \"\"\".\n",
        "```\n",
        "### **Points to remember**\n",
        "\n",
        "* Just like a list and tuple, the slicing operator [ ] can be used with strings. Strings, however, are immutable.\n",
        "\n",
        "* A **mutable** type means that the inner value can change, not just what the variable references.\n",
        "\n",
        "* A **immutable** type means that the inner value can not be change.\n"
      ]
    },
    {
      "cell_type": "code",
      "metadata": {
        "id": "dMWoxVNYhbV8",
        "colab": {
          "base_uri": "https://localhost:8080/",
          "height": 221
        },
        "outputId": "7ca38315-c8f5-445e-9996-18a8396b7daf"
      },
      "source": [
        "# if we want to use this type of words in sentence -> year's\n",
        "# then we have to use double quotes \" \" or \\\n",
        "\n",
        "string = \"you're awesome\"\n",
        "print(string)\n",
        "\n",
        "string2 = 'I\\'m John Robert'\n",
        "print(string2)\n",
        "\n",
        "# if want to assign \"important msg\" like this we have to use single quote  ''\n",
        "str = 'im \"Hritik\"'\n",
        "print(str)\n",
        "\n",
        "# for multitline string ''' % ''' for sending mail\n",
        "\n",
        "mail = '''\n",
        "        Hii buddy\n",
        "\n",
        "        im Hritik\n",
        "\n",
        "        you look awesome\n",
        "\n",
        "        thank you,\n",
        " '''\n",
        "\n",
        "print(mail)\n",
        "\n",
        "'''\n",
        "In python, the string data types are immutable. Which means a string value cannot be updated.\n",
        "We can verify this by trying to update a part of the string which will led us to an error.\n",
        "'''\n",
        "\n",
        "# Generates error\n",
        "# Strings are immutable in Python\n",
        "# string[5] ='d'"
      ],
      "execution_count": null,
      "outputs": [
        {
          "output_type": "stream",
          "text": [
            "you're awesome\n",
            "I'm John Robert\n",
            "im \"Hritik\"\n",
            "\n",
            "        Hii buddy \n",
            "\n",
            "        im Hritik \n",
            "\n",
            "        you look awesome \n",
            "\n",
            "        thank you,\n",
            " \n"
          ],
          "name": "stdout"
        }
      ]
    },
    {
      "cell_type": "markdown",
      "metadata": {
        "id": "FCpt3QdCFXwQ"
      },
      "source": [
        "### **Access characters in a string**\n",
        "\n",
        "We can access individual characters using **`indexing`** and a range of characters using slicing. Index starts from 0. <br/>\n",
        "\n",
        "Trying to access a character out of index range will raise an **`IndexError`**. The index must be an integer. We can't use floats or other types, this will result into **`TypeError`**.\n",
        "\n",
        "Python allows negative indexing for its sequences.\n",
        "\n",
        "The index of -1 refers to the last item, -2 to the second last item and so on. We can access a range of items in a string by using the slicing operator :(colon)."
      ]
    },
    {
      "cell_type": "code",
      "metadata": {
        "id": "qugiCnQoGLz6",
        "colab": {
          "base_uri": "https://localhost:8080/",
          "height": 102
        },
        "outputId": "9355496a-e387-4844-bc30-2996c6856be9"
      },
      "source": [
        "# Accessing string characters in Python\n",
        "str = 'Programiz'\n",
        "print('str = ', str)\n",
        "\n",
        "# first character\n",
        "print('str[0] = ', str[0])\n",
        "\n",
        "# last character\n",
        "print('str[-1] = ', str[-1])\n",
        "\n",
        "# slicing 2nd to 5th character\n",
        "print('str[1:5] = ', str[1:5])\n",
        "\n",
        "# slicing 6th to 2nd last character\n",
        "print('str[5:-2] = ', str[5:-2])"
      ],
      "execution_count": null,
      "outputs": [
        {
          "output_type": "stream",
          "text": [
            "str =  Programiz\n",
            "str[0] =  P\n",
            "str[-1] =  z\n",
            "str[1:5] =  rogr\n",
            "str[5:-2] =  am\n"
          ],
          "name": "stdout"
        }
      ]
    },
    {
      "cell_type": "markdown",
      "metadata": {
        "id": "3It2HOJyGn-X"
      },
      "source": [
        "Slicing can be best visualized by considering the index to be between the elements as shown below.\n",
        "\n",
        "If we want to access a range, we need the index that will slice the portion from the string.\n",
        "\n",
        "\n",
        "<p align=\"center\"><img src =\"https://www.nltk.org/images/string-slicing.png\" width=\"80%\"/></p>\n"
      ]
    },
    {
      "cell_type": "markdown",
      "metadata": {
        "id": "OA28I1UeHixZ"
      },
      "source": [
        "### **Remember**\n",
        "\n",
        "```\n",
        "Strings are immutable.\n",
        "```\n",
        "This means that elements of a string cannot be changed once they have been assigned. <br/>\n",
        "\n",
        "We can simply reassign different strings to the same name.\n",
        "\n",
        "However, lists are mutable, and their contents can be modified at any time. As a result, lists support operations that modify the original value rather than producing a new value.\n",
        "\n",
        "( Concept of List is explained in detail in the below few section)\n",
        "\n",
        "```python\n",
        ">>> my_string = 'programiz'\n",
        ">>> my_string[5] = 'a'\n",
        "...\n",
        "TypeError: 'str' object does not support item assignment\n",
        ">>> my_string = 'Python'\n",
        ">>> my_string\n",
        "```\n",
        "\n",
        "We cannot delete or remove characters from a string. But deleting the string entirely is possible using the del keyword.\n",
        "\n",
        "```python\n",
        ">>> del my_string[1]\n",
        "...\n",
        "TypeError: 'str' object doesn't support item deletion\n",
        ">>> del my_string\n",
        ">>> my_string\n",
        "...\n",
        "NameError: name 'my_string' is not defined\n",
        "```"
      ]
    },
    {
      "cell_type": "code",
      "metadata": {
        "id": "LNhWsyW6lNdR",
        "colab": {
          "base_uri": "https://localhost:8080/",
          "height": 51
        },
        "outputId": "c4240e62-5ca7-4b45-d9de-cf2a38ee4292"
      },
      "source": [
        "str1 = \"first\"\n",
        "print(id(str1))\n",
        "\n",
        "str1 = str1+ \"Two\"\n",
        "print(id(str1))"
      ],
      "execution_count": null,
      "outputs": [
        {
          "output_type": "stream",
          "text": [
            "140303069318592\n",
            "140302495689712\n"
          ],
          "name": "stdout"
        }
      ]
    },
    {
      "cell_type": "markdown",
      "metadata": {
        "id": "UcZ8f-zOlUWw"
      },
      "source": [
        "```\n",
        "Earlier str1 was pointing to memory address 140303069318592 now, it’s pointing to 140302495689712\n",
        "which means Python, update the id of same variable containing different string.\n",
        "```\n"
      ]
    },
    {
      "cell_type": "markdown",
      "metadata": {
        "id": "ONjRYg6xJPQh"
      },
      "source": [
        "### **Concatenation of Two or More Strings**\n",
        "\n",
        "Joining of two or more strings into a single one is called concatenation.\n",
        "\n",
        "The + operator does this in Python. Simply writing two string literals together also concatenates them.\n",
        "\n",
        "The * operator can be used to repeat the string for a given number of times.\n",
        "\n",
        "When we run the above program, we get the following output:\n",
        "\n",
        "```python\n",
        "str1 + str2 =  HelloWorld!\n",
        "str1 * 3 = HelloHelloHello\n",
        "```\n",
        "Writing two string literals together also concatenates them like + operator.\n",
        "\n",
        "If we want to concatenate strings in different lines, we can use parentheses.\n",
        "\n",
        "```python\n",
        ">>> # two string literals together\n",
        ">>> 'Hello ''World!'\n",
        "'Hello World!'\n",
        "\n",
        ">>> # using parentheses\n",
        ">>> s = ('Hello '\n",
        "...      'World')\n",
        ">>> s\n",
        "'Hello World'\n",
        "```"
      ]
    },
    {
      "cell_type": "code",
      "metadata": {
        "id": "BLCExMP4JOBO",
        "colab": {
          "base_uri": "https://localhost:8080/",
          "height": 51
        },
        "outputId": "f3a8d538-7c40-44ae-c145-d5411b894784"
      },
      "source": [
        "# Python String Operations\n",
        "str1 = 'Hello'\n",
        "str2 ='World!'\n",
        "\n",
        "# using +\n",
        "print('str1 + str2 = ', str1 + str2)\n",
        "\n",
        "# using *\n",
        "print('str1 * 3 =', str1 * 3)"
      ],
      "execution_count": null,
      "outputs": [
        {
          "output_type": "stream",
          "text": [
            "str1 + str2 =  HelloWorld!\n",
            "str1 * 3 = HelloHelloHello\n"
          ],
          "name": "stdout"
        }
      ]
    },
    {
      "cell_type": "markdown",
      "metadata": {
        "id": "pvzrFKz69hui"
      },
      "source": [
        "## **List**\n",
        "\n",
        "*List* is an ordered sequence of items. It is one of the most used datatype in Python and is very flexible. All the items in a list do not need to be of the same type.\n",
        "\n",
        "There are a few things we typically want to do with lists:\n",
        "\n",
        "* retrieve (or set) an item at a specific position via indexing\n",
        "* check for membership (e.g. does b_list contain the number 2?)\n",
        "* concatenate two lists together\n",
        "* get the length of the list\n",
        "* add an item to the list\n",
        "* remove an item from the list"
      ]
    },
    {
      "cell_type": "code",
      "metadata": {
        "id": "RzCSuWRDbjkW",
        "colab": {
          "base_uri": "https://localhost:8080/",
          "height": 54
        },
        "outputId": "4d91f9b1-493c-4da7-c041-4eec0eec9057"
      },
      "source": [
        "words = ['green', 'blue', 'red']\n",
        "print(words[0])\n",
        "\n",
        "words[2] = 'orange'\n",
        "print(words)"
      ],
      "execution_count": null,
      "outputs": [
        {
          "output_type": "stream",
          "text": [
            "green\n",
            "['green', 'blue', 'orange']\n"
          ],
          "name": "stdout"
        }
      ]
    },
    {
      "cell_type": "code",
      "metadata": {
        "id": "lP59Tcz0mUIW",
        "colab": {
          "base_uri": "https://localhost:8080/",
          "height": 35
        },
        "outputId": "157a68cd-bd39-4359-8b55-2e182d56b4cf"
      },
      "source": [
        "# Concatenating Lists\n",
        "\n",
        "a_list = [1, 2, 3, 4]\n",
        "b_list = ['cinco', 'six', 'VII']\n",
        "print(a_list + b_list)"
      ],
      "execution_count": null,
      "outputs": [
        {
          "output_type": "stream",
          "text": [
            "[1, 2, 3, 4, 'cinco', 'six', 'VII']\n"
          ],
          "name": "stdout"
        }
      ]
    },
    {
      "cell_type": "code",
      "metadata": {
        "id": "T_q4SEFq97eK",
        "colab": {
          "base_uri": "https://localhost:8080/",
          "height": 68
        },
        "outputId": "67870fb5-7bf3-480f-b514-1dbc948474b0"
      },
      "source": [
        "# List slicing\n",
        "'''\n",
        "List slicing works for both int array and string\n",
        "'''\n",
        "a = [5,10,15,20,25,30,35,40]\n",
        "\n",
        "# a[2] = 15\n",
        "print(\"a[2] = \", a[2])\n",
        "\n",
        "# a[0:3] = [5, 10, 15]\n",
        "print(\"a[0:3] = \", a[0:3])\n",
        "\n",
        "# a[5:] = [30, 35, 40]\n",
        "print(\"a[5:] = \", a[5:])"
      ],
      "execution_count": null,
      "outputs": [
        {
          "output_type": "stream",
          "text": [
            "a[2] =  15\n",
            "a[0:3] =  [5, 10, 15]\n",
            "a[5:] =  [30, 35, 40]\n"
          ],
          "name": "stdout"
        }
      ]
    },
    {
      "cell_type": "code",
      "metadata": {
        "id": "F0bnKpYWhbWE",
        "colab": {
          "base_uri": "https://localhost:8080/",
          "height": 85
        },
        "outputId": "49116e4a-182a-42b6-fc2d-ad8434eec6b5"
      },
      "source": [
        "course = 'python for beginners'\n",
        "\n",
        "# Display 1st element of string\n",
        "print(\"course[0] : \",course[0])\n",
        "\n",
        "# Print in last element of string\n",
        "print(\"course[-1] : \",course[-1])\n",
        "\n",
        "# Print in 2nd last element of string\n",
        "print(\"course[-2] : \",course[-2])\n",
        "\n",
        "# display all elements\n",
        "'''\n",
        "Usecase : create a duplicate array with same length\n",
        "'''\n",
        "print(\"course[:] : \",course[:])"
      ],
      "execution_count": null,
      "outputs": [
        {
          "output_type": "stream",
          "text": [
            "course[0] :  p\n",
            "course[-1] :  s\n",
            "course[-2] :  r\n",
            "course[:] :  python for beginners\n"
          ],
          "name": "stdout"
        }
      ]
    },
    {
      "cell_type": "code",
      "metadata": {
        "id": "G2ylT6RiHT1o",
        "colab": {
          "base_uri": "https://localhost:8080/",
          "height": 102
        },
        "outputId": "23cc51db-7d2a-42f7-916c-35fd93845061"
      },
      "source": [
        "# List slicing ( start : end : increment )\n",
        "'''\n",
        "By default increment is 1\n",
        "'''\n",
        "\n",
        "# start from 0 till end\n",
        "print(\"course[0:] : \",course[0:])\n",
        "\n",
        "# start from 0th index and end at 4th index (Exclude 5)\n",
        "print(\"course[:5] : \",course[:5])\n",
        "\n",
        "# start from 0th index and end at 4th index\n",
        "print(\"course[0:5] : \",course[0:5])\n",
        "\n",
        "# start from 1st index to 2nd index\n",
        "print(\"course[1:3] : \",course[1:3]) # exclude 3 only takes 1,2\n",
        "\n",
        "# start from 1st index and end at 2nd last element\n",
        "print(\"course[1:-1] : \",course[1:-1]) # exclude -1"
      ],
      "execution_count": null,
      "outputs": [
        {
          "output_type": "stream",
          "text": [
            "course[0:] :  python for beginners\n",
            "course[:5] :  pytho\n",
            "course[0:5] :  pytho\n",
            "course[1:3] :  yt\n",
            "course[1:-1] :  ython for beginner\n"
          ],
          "name": "stdout"
        }
      ]
    },
    {
      "cell_type": "code",
      "metadata": {
        "id": "drCZP8BVJRef",
        "colab": {
          "base_uri": "https://localhost:8080/",
          "height": 102
        },
        "outputId": "69fd7a92-3f54-43b7-adee-b7489fca9ac6"
      },
      "source": [
        "arr = [2,3,6,4,5,8,10,1]\n",
        "\n",
        "# print from 2nd element till end\n",
        "print(\"arr[2::] : \",arr[2::])\n",
        "\n",
        "# print from 2nd element till 5th (exclude 6) and increment by 1\n",
        "print(\"arr[2:6:] : \",arr[2:6:])\n",
        "\n",
        "# print from 2nd element till end and increment by 2\n",
        "print(\"arr[2::2] : \",arr[2::2])\n",
        "\n",
        "\n",
        "# print from 2nd element till 8 and increment by 2\n",
        "print(\"arr[2:6:2] : \",arr[2:6:2])\n",
        "\n",
        "# print reverse list\n",
        "'''\n",
        "Default start = 0 and increment = 1\n",
        "'''\n",
        "print(\"arr[::-1] : \",arr[::-1])  ## (start : end : increment)"
      ],
      "execution_count": null,
      "outputs": [
        {
          "output_type": "stream",
          "text": [
            "arr[2::] :  [6, 4, 5, 8, 10, 1]\n",
            "arr[2:6:] :  [6, 4, 5, 8]\n",
            "arr[2::2] :  [6, 5, 10]\n",
            "arr[2:6:2] :  [6, 5]\n",
            "arr[::-1] :  [1, 10, 8, 5, 4, 6, 3, 2]\n"
          ],
          "name": "stdout"
        }
      ]
    },
    {
      "cell_type": "markdown",
      "metadata": {
        "id": "oQxlsGXgLx2z"
      },
      "source": [
        "List methods are present below in [Inbuilt - Function](#Inbuilt-Function)"
      ]
    },
    {
      "cell_type": "markdown",
      "metadata": {
        "id": "k3_XoGermreB"
      },
      "source": [
        "## **Mutability in Python**\n",
        "\n",
        "Lists are the first Python type that we’ve seen that is “mutable.” A  mutable type means that the inner value can change, not just what the variable references. This can be a confusing concept so let’s dive a bit into it:\n",
        "\n",
        "When we assign a scalar value like x = 7 we are essentially saying that x now has the value 7 until we say otherwise. If we then say y = x we are saying y is 7 too. If we change x later, y does not also change. Here’s a demonstration:\n",
        "\n",
        "```python\n",
        ">>> x = 7\n",
        ">>> y = x\n",
        ">>> print('x =', x, '    y =', y)\n",
        "x = 7      y = 7\n",
        "\n",
        ">>> x = 8\n",
        ">>> print('x =', x, '    y =', y)\n",
        "x = 8      y = 7\n",
        "\n",
        ">>> y = 9\n",
        ">>> print('x =', x, '    y =', y)\n",
        "x = 8      y = 9\n",
        "```\n",
        "\n",
        "Notice that x and y change independently of one another. This is also true if we do it with any of the other scalar types from Part 1 (str, float, bool, etc.)\n",
        "\n",
        "We can change what value a variable points to as many times as we like:\n",
        "```python\n",
        "x = 7, x = \"hello\", x = 3.14, etc.\n",
        "```\n",
        "\n",
        "Lists offer a different option. If we set x to a list, we can also change the make-up of the list:\n",
        "\n",
        "```python\n",
        ">>> x = [1, 2, 3]\n",
        ">>> y = x\n",
        ">>> print('x =', x, '       y =', y)\n",
        "x = [1, 2, 3]        y = [1, 2, 3]\n",
        "\n",
        ">>> x.append(4)\n",
        ">>> print('x =', x, '    y =', y)\n",
        "x = [1, 2, 3, 4]     y = [1, 2, 3, 4]\n",
        "Wait.. what?! y changed when x changed?\n",
        "```\n",
        "\n",
        "What is the difference between this and the above? Why are x and y now linked?\n",
        "\n",
        "Let’s explore...\n",
        "\n",
        "```python\n",
        ">>> x = [1, 2, 3]\n",
        ">>> y = x\n",
        ">>> z = x\n",
        ">>> print('x=', x, '       y=', y, '        z=', z)\n",
        "x= [1, 2, 3]        y= [1, 2, 3]         z= [1, 2, 3]\n",
        "\n",
        "\n",
        ">>> # append 4 to x, it will also appear in y and z\n",
        ">>> x.append(4)\n",
        ">>> print('x=', x, '    y=', y, '     z=', z)\n",
        "x= [1, 2, 3, 4]     y= [1, 2, 3, 4]      z= [1, 2, 3, 4]\n",
        "\n",
        ">>> # ok at this point all three have changed, let's assign to x now\n",
        ">>> x = [0, 0, 0]\n",
        ">>> print('x=', x, '       y=', y, '     z=', z)\n",
        "x= [0, 0, 0]        y= [1, 2, 3, 4]      z= [1, 2, 3, 4]\n",
        "\n",
        "# wait... that time it only changed x?\n",
        "```\n",
        "\n",
        "If the above isn’t making sense to you that’s fine. Let’s think about what we know though:\n",
        "\n",
        "In our first example with the integers, any time we set x = or y = it didn’t affect the other one.\n",
        "\n",
        "In our second example, when we called x.append we know that y changed too.\n",
        "\n",
        "In our third example, when we set **`x = [0, 0, 0]`** those changes didn’t affect y or z.\n",
        "\n",
        "The common thread here is the = operator. When we set x to a new value, whether it is an int or list (or anything else)- we are creating a new value. When we call a method like x.append(4) though, we are not creating a new value but instead modifying (mutating) the underlying array we created when we said **`x = [1, 2, 3]`**.\n",
        "\n",
        "It can take some getting used to but there’s a separation between the concept of a value and a variable.\n",
        "\n",
        "Whenever we define a variable by typing an int, str, float, or list directly (what we call a literal) we’re doing the same thing, regardless of what type we’re using:\n",
        "\n",
        "**`x = [1, 2, 3]`** creates a new list with the value **`[1, 2, 3]`** and points x at it.\n",
        "\n",
        "y = \"hello\" creates a new string with the value “hello” and points y at it.\n",
        "\n",
        "When we assign from one variable to another the behavior varies slightly though:\n",
        "\n",
        "**`x = y`** when **`y`** is immutable means that **`x`** now has a copy of the value of **`y`**.\n",
        "\n",
        "**`x = y`** when **`y`** is mutable means that **`x`** is a reference to the same value as **`x`**.\n",
        "\n",
        "This is why we have the ability to modify our list in the above examples, but when we assign a new value to x the other values do not update.\n",
        "\n",
        "```\n",
        "\n",
        "x = 7\n",
        "\n",
        "variables                  values\n",
        "\n",
        "x   --------------------->  7\n",
        "y = x\n",
        "\n",
        "variables                  values\n",
        "\n",
        "x   --------------------->  7\n",
        "y   --------------------->  7\n",
        "a = [1, 2, 3]\n",
        "\n",
        "variables                  values\n",
        "\n",
        "x   --------------------->  7\n",
        "y   --------------------->  7\n",
        "a   --------------------->  [1, 2, 3]\n",
        "b = a\n",
        "\n",
        "variables                  values\n",
        "\n",
        "x   --------------------->  7\n",
        "y   --------------------->  7\n",
        "a   --------------------->  [1, 2, 3]\n",
        "b   ----------/\n",
        "a.append(4)\n",
        "\n",
        "variables                  values\n",
        "\n",
        "x   --------------------->  7\n",
        "y   --------------------->  7\n",
        "a   --------------------->  [1, 2, 3, 4]\n",
        "b   ----------/\n",
        "a = []\n",
        "\n",
        "variables                  values\n",
        "\n",
        "x   --------------------->  7\n",
        "y   --------------------->  7\n",
        "a   --------------------->  []\n",
        "b   --------------------->  [1, 2, 3, 4]\n",
        "b = None\n",
        "\n",
        "variables                  values\n",
        "\n",
        "x   --------------------->  7\n",
        "y   --------------------->  7\n",
        "a   --------------------->  []\n",
        "b   --------------------->  None\n",
        "                            [1, 2, 3, 4] *will be deleted*\n",
        "```\n",
        "\n",
        "**Reference** :\n",
        "\n",
        "* [https://jpt-pynotes.readthedocs.io/en/latest/more-types.html](https://jpt-pynotes.readthedocs.io/en/latest/more-types.html)\n"
      ]
    },
    {
      "cell_type": "markdown",
      "metadata": {
        "id": "6xO71CwMhbY8"
      },
      "source": [
        "## **tuple**\n",
        "\n",
        "Tuple is an ordered sequence of items same as a list. The only difference is that tuples are immutable. Tuples once created cannot be modified.\n",
        "\n",
        "Tuples are used to write-protect data and are usually faster than lists as they cannot change dynamically.\n",
        "\n",
        "tuple -> we can not append , remove , pop , insert , u can not modify your list.\n",
        "\n",
        "only thing u can do -> count , index a item in list\n",
        "\n",
        "```\n",
        "The main diffrence between tuple and list is :- tuple is immutable and list is mutable\n",
        "```\n",
        "that mean we can not change tuple value by modifying it but in list we can do that.\n",
        "\n",
        "### **`Note`**\n",
        "\n",
        "Another thing to note is that strictly speaking, the comma is what makes the tuple, not the parentheses. In practice it is a good idea to include the parentheses for clarity and because they are needed in some situations to make operator precedence clear.\n",
        "\n",
        "Let’s look at a quick example:\n",
        "\n",
        "```python\n",
        ">>> a_tuple = (1, 2, 3)\n",
        ">>> another_tuple = 1, 2, 3\n",
        ">>> a_tuple == b_tuple\n",
        "True\n",
        "This is also important if you need to make a single element tuple:\n",
        "\n",
        ">>> x = ('one')\n",
        ">>> y = ('one',)\n",
        ">>> type(x)\n",
        "str\n",
        ">>> type(y)\n",
        "tuple\n",
        "```"
      ]
    },
    {
      "cell_type": "code",
      "metadata": {
        "id": "1ixyzU9u5n9r",
        "colab": {
          "base_uri": "https://localhost:8080/",
          "height": 54
        },
        "outputId": "8ed6b68c-0486-42eb-cf92-0c2de5774816"
      },
      "source": [
        "a = (1,2,3)\n",
        "b = 1,2,3\n",
        "print(type(b))\n",
        "print(a==b)"
      ],
      "execution_count": null,
      "outputs": [
        {
          "output_type": "stream",
          "text": [
            "<class 'tuple'>\n",
            "True\n"
          ],
          "name": "stdout"
        }
      ]
    },
    {
      "cell_type": "code",
      "metadata": {
        "id": "nhhHINvfoz3G",
        "colab": {
          "base_uri": "https://localhost:8080/",
          "height": 35
        },
        "outputId": "60bf82ee-0fba-4621-b369-fa7d4f2c592e"
      },
      "source": [
        "thistuple = (\"apple\", \"banana\", \"cherry\")\n",
        "print(thistuple)"
      ],
      "execution_count": null,
      "outputs": [
        {
          "output_type": "stream",
          "text": [
            "('apple', 'banana', 'cherry')\n"
          ],
          "name": "stdout"
        }
      ]
    },
    {
      "cell_type": "code",
      "metadata": {
        "id": "Xm1SaBCApdUW",
        "colab": {
          "base_uri": "https://localhost:8080/",
          "height": 35
        },
        "outputId": "645c841f-cbb2-48b7-b8c3-980b167a88b4"
      },
      "source": [
        "thistuple = (\"apple\", \"banana\", \"cherry\")\n",
        "print(thistuple[1])"
      ],
      "execution_count": null,
      "outputs": [
        {
          "output_type": "stream",
          "text": [
            "banana\n"
          ],
          "name": "stdout"
        }
      ]
    },
    {
      "cell_type": "code",
      "metadata": {
        "id": "3HsNgwmEpg8C",
        "colab": {
          "base_uri": "https://localhost:8080/",
          "height": 35
        },
        "outputId": "a6b9edab-f8fd-4126-af4b-daa2bb03633b"
      },
      "source": [
        "thistuple = (\"apple\", \"banana\", \"cherry\")\n",
        "print(thistuple[-1])"
      ],
      "execution_count": null,
      "outputs": [
        {
          "output_type": "stream",
          "text": [
            "cherry\n"
          ],
          "name": "stdout"
        }
      ]
    },
    {
      "cell_type": "code",
      "metadata": {
        "id": "5AZj_Y3zplMs",
        "colab": {
          "base_uri": "https://localhost:8080/",
          "height": 35
        },
        "outputId": "38548226-12b2-427f-b557-b022f075bf7a"
      },
      "source": [
        "# Range of Indexes\n",
        "# You can specify a range of indexes by specifying where to start and where to end the range.\n",
        "# Return the third, fourth, and fifth item:\n",
        "\n",
        "thistuple = (\"apple\", \"banana\", \"cherry\", \"orange\", \"kiwi\", \"melon\", \"mango\")\n",
        "print(thistuple[2:5])"
      ],
      "execution_count": null,
      "outputs": [
        {
          "output_type": "stream",
          "text": [
            "('cherry', 'orange', 'kiwi')\n"
          ],
          "name": "stdout"
        }
      ]
    },
    {
      "cell_type": "code",
      "metadata": {
        "id": "tcd8R-p_pknS",
        "colab": {
          "base_uri": "https://localhost:8080/",
          "height": 35
        },
        "outputId": "5ca1730a-ae14-4b41-d499-a8aed0e50cd7"
      },
      "source": [
        "# Negative indexing means starting from the end of the tuple.\n",
        "\n",
        "# This example returns the items from index -4 (included) to index -1 (excluded)\n",
        "\n",
        "thistuple = (\"apple\", \"banana\", \"cherry\", \"orange\", \"kiwi\", \"melon\", \"mango\")\n",
        "print(thistuple[-4:-1])"
      ],
      "execution_count": null,
      "outputs": [
        {
          "output_type": "stream",
          "text": [
            "('orange', 'kiwi', 'melon')\n"
          ],
          "name": "stdout"
        }
      ]
    },
    {
      "cell_type": "code",
      "metadata": {
        "id": "NbD6DmUwqGex",
        "colab": {
          "base_uri": "https://localhost:8080/",
          "height": 35
        },
        "outputId": "62240218-c31d-4625-d732-2ae07539d8ca"
      },
      "source": [
        "# Change Tuple Values\n",
        "'''\n",
        "Once a tuple is created, you cannot change its values. Tuples are unchangeable, or immutable as it also is called.\n",
        "\n",
        "But there is a workaround. You can convert the tuple into a list, change the list, and convert the list back into a tuple.\n",
        "'''\n",
        "\n",
        "x = (\"apple\", \"banana\", \"cherry\")\n",
        "y = list(x)\n",
        "y[1] = \"kiwi\"\n",
        "x = tuple(y)\n",
        "\n",
        "print(x)"
      ],
      "execution_count": null,
      "outputs": [
        {
          "output_type": "stream",
          "text": [
            "('apple', 'kiwi', 'cherry')\n"
          ],
          "name": "stdout"
        }
      ]
    },
    {
      "cell_type": "code",
      "metadata": {
        "id": "YMgk1WaVqQlg",
        "colab": {
          "base_uri": "https://localhost:8080/",
          "height": 72
        },
        "outputId": "b91e1534-a39e-4666-9fab-7e04829ecd36"
      },
      "source": [
        "# Iterate through the items and print the values:\n",
        "\n",
        "thistuple = (\"apple\", \"banana\", \"cherry\")\n",
        "for x in thistuple:\n",
        "  print(x)"
      ],
      "execution_count": null,
      "outputs": [
        {
          "output_type": "stream",
          "text": [
            "apple\n",
            "banana\n",
            "cherry\n"
          ],
          "name": "stdout"
        }
      ]
    },
    {
      "cell_type": "code",
      "metadata": {
        "id": "UlNXmlc2qZFx",
        "colab": {
          "base_uri": "https://localhost:8080/",
          "height": 35
        },
        "outputId": "adc43448-5acd-49a4-897c-96b923b92a1f"
      },
      "source": [
        "# To determine if a specified item is present in a tuple use the in keyword\n",
        "\n",
        "thistuple = (\"apple\", \"banana\", \"cherry\")\n",
        "if \"apple\" in thistuple:\n",
        "  print(\"Yes, 'apple' is in the fruits tuple\")"
      ],
      "execution_count": null,
      "outputs": [
        {
          "output_type": "stream",
          "text": [
            "Yes, 'apple' is in the fruits tuple\n"
          ],
          "name": "stdout"
        }
      ]
    },
    {
      "cell_type": "code",
      "metadata": {
        "id": "eIxxOCFoqgr9",
        "colab": {
          "base_uri": "https://localhost:8080/",
          "height": 35
        },
        "outputId": "263d999e-41d1-4517-f940-7c9809b74c11"
      },
      "source": [
        "# To determine how many items a tuple has, use the len() method\n",
        "\n",
        "thistuple = (\"apple\", \"banana\", \"cherry\")\n",
        "print(len(thistuple))"
      ],
      "execution_count": null,
      "outputs": [
        {
          "output_type": "stream",
          "text": [
            "3\n"
          ],
          "name": "stdout"
        }
      ]
    },
    {
      "cell_type": "code",
      "metadata": {
        "id": "RUFAiUdkxAdW"
      },
      "source": [
        "# Once a tuple is created, you cannot add items to it. Tuples are unchangeable.\n",
        "'''\n",
        "\n",
        "thistuple = (\"apple\", \"banana\", \"cherry\")\n",
        "thistuple[3] = \"orange\" # This will raise an error\n",
        "print(thistuple)\n",
        "\n",
        "'''"
      ],
      "execution_count": null,
      "outputs": []
    },
    {
      "cell_type": "markdown",
      "metadata": {
        "id": "FvRDLGLJhbZD"
      },
      "source": [
        "##  **Set**\n",
        "\n",
        "A set is an unordered, mutable collection. Set is an unordered and unindexed collection of items in Python. Unordered means when we display the elements of a set, it will come out in a random order. Unindexed means, we cannot access the elements of a set using the indexes like we can do in list and tuples.\n",
        "\n",
        "Set is an unordered collection of unique items. Set is defined by values separated by comma inside braces { }. Items in a set are not ordered.\n",
        "\n",
        "You cannot access items in a set by referring to an index, since sets are unordered the items has no index.\n",
        "\n",
        "\n",
        "We can perform set operations like union, intersection on two sets.\n",
        "* Sets have unique values. <br/>\n",
        "* They eliminate duplicates.\n"
      ]
    },
    {
      "cell_type": "code",
      "metadata": {
        "id": "osBw4y1bAuD0",
        "colab": {
          "base_uri": "https://localhost:8080/",
          "height": 54
        },
        "outputId": "c7783433-a785-4462-9d91-9aa216c02f68"
      },
      "source": [
        "a = {5,2,3,1,4}\n",
        "\n",
        "# printing set variable\n",
        "print(\"a = \", a)\n",
        "\n",
        "# data type of variable a\n",
        "print(type(a))"
      ],
      "execution_count": null,
      "outputs": [
        {
          "output_type": "stream",
          "text": [
            "a =  {1, 2, 3, 4, 5}\n",
            "<class 'set'>\n"
          ],
          "name": "stdout"
        }
      ]
    },
    {
      "cell_type": "code",
      "metadata": {
        "id": "wjfyCMcPhbZE",
        "colab": {
          "base_uri": "https://localhost:8080/",
          "height": 34
        },
        "outputId": "fab1a1ed-600c-4caf-a9e5-a815f8be6afd"
      },
      "source": [
        "# Create an empty set\n",
        "\n",
        "s = set()\n",
        "print(f'type of s is : {type(s)}')"
      ],
      "execution_count": null,
      "outputs": [
        {
          "output_type": "stream",
          "text": [
            "type of s is : <class 'set'>\n"
          ],
          "name": "stdout"
        }
      ]
    },
    {
      "cell_type": "code",
      "metadata": {
        "id": "72_zsW8XhbZN",
        "colab": {
          "base_uri": "https://localhost:8080/",
          "height": 35
        },
        "outputId": "49ddc509-c1c7-4740-e97e-0ba4df53ed46"
      },
      "source": [
        "# display unique value\n",
        "\n",
        "# 1st way without using set() function\n",
        "{1,1,4,2,2,5}"
      ],
      "execution_count": null,
      "outputs": [
        {
          "output_type": "execute_result",
          "data": {
            "text/plain": [
              "{1, 2, 4, 5}"
            ]
          },
          "metadata": {
            "tags": []
          },
          "execution_count": 65
        }
      ]
    },
    {
      "cell_type": "code",
      "metadata": {
        "id": "mt5-_-dsPTwx",
        "colab": {
          "base_uri": "https://localhost:8080/",
          "height": 34
        },
        "outputId": "2615db3f-84e6-4fc4-9077-2cb7fb224cb1"
      },
      "source": [
        "# 2nd way with using set() function\n",
        "set([1,2,4,4,8,8,4])"
      ],
      "execution_count": null,
      "outputs": [
        {
          "output_type": "execute_result",
          "data": {
            "text/plain": [
              "{1, 2, 4, 8}"
            ]
          },
          "metadata": {
            "tags": []
          },
          "execution_count": 25
        }
      ]
    },
    {
      "cell_type": "code",
      "metadata": {
        "id": "2Z560ABh408y",
        "colab": {
          "base_uri": "https://localhost:8080/",
          "height": 51
        },
        "outputId": "d243c17a-3437-4fbe-9010-8be5aaf6156c"
      },
      "source": [
        "# set | add() method\n",
        "# We can add item into the set\n",
        "thisset = {\"apple\", \"banana\", \"cherry\"}\n",
        "\n",
        "thisset.add(\"orange\")\n",
        "\n",
        "print(thisset)\n",
        "\n",
        "# add value to the set\n",
        "s = {1,2,3}\n",
        "s.add(5)\n",
        "print(s)"
      ],
      "execution_count": null,
      "outputs": [
        {
          "output_type": "stream",
          "text": [
            "{'orange', 'apple', 'cherry', 'banana'}\n",
            "{1, 2, 3, 5}\n"
          ],
          "name": "stdout"
        }
      ]
    },
    {
      "cell_type": "code",
      "metadata": {
        "id": "i-tUTDBs6a21",
        "colab": {
          "base_uri": "https://localhost:8080/",
          "height": 35
        },
        "outputId": "116a180d-46af-4f98-d853-a405c612630d"
      },
      "source": [
        "# set | update() method\n",
        "# We can update item into the set\n",
        "thisset = {\"apple\", \"banana\", \"cherry\"}\n",
        "\n",
        "thisset.update([\"orange\", \"mango\", \"grapes\"])\n",
        "\n",
        "print(thisset)"
      ],
      "execution_count": null,
      "outputs": [
        {
          "output_type": "stream",
          "text": [
            "{'cherry', 'apple', 'banana', 'orange', 'grapes', 'mango'}\n"
          ],
          "name": "stdout"
        }
      ]
    },
    {
      "cell_type": "code",
      "metadata": {
        "id": "9BvwvmFs54Yd",
        "colab": {
          "base_uri": "https://localhost:8080/",
          "height": 68
        },
        "outputId": "4a4c2c4f-8f6c-4d86-8829-0ad1a620a8f8"
      },
      "source": [
        "# set | Remove() method\n",
        "'''\n",
        "This operation removes element  from the set.\n",
        "If element  does not exist, it raises a KeyError.\n",
        "The .remove(x) operation returns None.\n",
        "\n",
        "'''\n",
        "s1 = set([1, 2, 3, 4, 5, 6, 7, 8, 9])\n",
        "s1.remove(5)\n",
        "print(s1)\n",
        "\n",
        "# Return None\n",
        "set([1, 2, 3, 4, 6, 7, 8, 9])\n",
        "print(s1.remove(4))\n",
        "print(s1)"
      ],
      "execution_count": null,
      "outputs": [
        {
          "output_type": "stream",
          "text": [
            "{1, 2, 3, 4, 6, 7, 8, 9}\n",
            "None\n",
            "{1, 2, 3, 6, 7, 8, 9}\n"
          ],
          "name": "stdout"
        }
      ]
    },
    {
      "cell_type": "code",
      "metadata": {
        "id": "a-v44eV06_DV"
      },
      "source": [
        "# If element does not exist in the set , then it raises KeyError\n",
        "'''\n",
        "s2 = set([1, 2, 3, 6, 7, 8, 9])\n",
        "s2.remove(0)\n",
        "KeyError: 0\n",
        "'''"
      ],
      "execution_count": null,
      "outputs": []
    },
    {
      "cell_type": "code",
      "metadata": {
        "id": "mBImPBjz7SJa",
        "colab": {
          "base_uri": "https://localhost:8080/",
          "height": 85
        },
        "outputId": "a7809515-d825-440c-8956-30027a56e3de"
      },
      "source": [
        "# set | pop() method\n",
        "'''\n",
        "This operation removes and return an arbitrary element from the set.\n",
        "If there are no elements to remove, it raises a KeyError.\n",
        "'''\n",
        "\n",
        "s3 = set([1,2])\n",
        "# 1st pop\n",
        "print(s3.pop())\n",
        "print(s3)\n",
        "\n",
        "# 2nd pop\n",
        "print(s3.pop())\n",
        "print(s3)\n",
        "\n",
        "# Now set is empty\n",
        "# if we try pop then it raises a KeyError"
      ],
      "execution_count": null,
      "outputs": [
        {
          "output_type": "stream",
          "text": [
            "1\n",
            "{2}\n",
            "2\n",
            "set()\n"
          ],
          "name": "stdout"
        }
      ]
    },
    {
      "cell_type": "code",
      "metadata": {
        "id": "VNmiOCxyO4jB",
        "colab": {
          "base_uri": "https://localhost:8080/",
          "height": 51
        },
        "outputId": "c0c81c70-2fa3-4256-ccd7-c04e2b15846d"
      },
      "source": [
        "# set | clear() in python\n",
        "\n",
        "'''\n",
        "The clear() method removes all elements from the set.\n",
        "\n",
        "parameters:\n",
        "  The clear() method doesn't take any parameters.\n",
        "Return:\n",
        "  The clear() method doesn't return any value.\n",
        "\n",
        "'''\n",
        "# set of letters\n",
        "set1 = {6, 0, 4, 1}\n",
        "print('set1 before clear:', set1)\n",
        "\n",
        "# clearing vowels\n",
        "set1.clear()\n",
        "print('set1 after clear:', set1)"
      ],
      "execution_count": null,
      "outputs": [
        {
          "output_type": "stream",
          "text": [
            "set1 before clear: {0, 1, 4, 6}\n",
            "set1 after clear: set()\n"
          ],
          "name": "stdout"
        }
      ]
    },
    {
      "cell_type": "code",
      "metadata": {
        "id": "hQ1mPVzTQpSa",
        "colab": {
          "base_uri": "https://localhost:8080/",
          "height": 119
        },
        "outputId": "f02a8d72-7335-4085-9c15-8137fac08ddb"
      },
      "source": [
        "# set | copy() function\n",
        "'''\n",
        "Parameters:The copy() method for sets doesn’t take any parameters.\n",
        "\n",
        "Return value:The function returns a shallow copy of the original set.\n",
        "'''\n",
        "# Python program to demonstrate that copy , created using set copy is shallow\n",
        "\n",
        "first = {1,2,3,4,5}\n",
        "second = first.copy()\n",
        "\n",
        "# before adding\n",
        "print('before adding: ')\n",
        "print('first: ',first)\n",
        "print('second: ', second)\n",
        "\n",
        "# Adding element to second, first does not change.\n",
        "second.add(7)\n",
        "\n",
        "# after adding\n",
        "print('after adding: ')\n",
        "print('first: ',first)\n",
        "print('second: ', second)"
      ],
      "execution_count": null,
      "outputs": [
        {
          "output_type": "stream",
          "text": [
            "before adding: \n",
            "first:  {1, 2, 3, 4, 5}\n",
            "second:  {1, 2, 3, 4, 5}\n",
            "after adding: \n",
            "first:  {1, 2, 3, 4, 5}\n",
            "second:  {1, 2, 3, 4, 5, 7}\n"
          ],
          "name": "stdout"
        }
      ]
    },
    {
      "cell_type": "code",
      "metadata": {
        "id": "CV9poYf2UNiM",
        "colab": {
          "base_uri": "https://localhost:8080/",
          "height": 326
        },
        "outputId": "b490f465-ec0d-4251-971f-0201f1ea441a"
      },
      "source": [
        "my_set = {1,2,3,4,5}\n",
        "your_set = {4,5,6,7,8,9,10}\n",
        "\n",
        "\n",
        "# difference(x) : Returns a set containing the difference between two or more sets\n",
        "print(my_set.difference(your_set))\n",
        "print(my_set)\n",
        "\n",
        "# discard(x) : This operation also removes element x from the set\n",
        "'''\n",
        "Question : Then what is the difference between remove and discard ?\n",
        "\n",
        "Answer : If element x does not exist, it does not raise a KeyError.\n",
        "The .discard(x) operation returns None.\n",
        "'''\n",
        "print(your_set.discard(10))\n",
        "print(your_set)\n",
        "\n",
        "# difference_update(x) : Removes the items in this set that are also included in another, specified set\n",
        "print(my_set.difference_update(your_set))\n",
        "print(my_set)\n",
        "\n",
        "# intersection(x) : Returns a set, that is the intersection of two other sets\n",
        "print(my_set.intersection(your_set))\n",
        "print(my_set)\n",
        "\n",
        "# isdisjoint(x) : Returns whether two sets have a intersection or not\n",
        "print(my_set.isdisjoint(your_set))\n",
        "print(my_set)\n",
        "\n",
        "# union\n",
        "print(my_set.union(your_set))\n",
        "\n",
        "# issubset(x)\tReturns whether another set contains this set or not\n",
        "print(my_set.issubset(your_set))\n",
        "print(my_set)\n",
        "\n",
        "# issuperset(x)\tReturns whether this set contains another set or not\n",
        "print(my_set.issuperset(your_set))\n",
        "print(my_set)\n",
        "\n",
        "# intersection_update()\tRemoves the items in this set that are not present in other, specified set(s)\n",
        "print(my_set.intersection_update(your_set))\n",
        "print(my_set)"
      ],
      "execution_count": null,
      "outputs": [
        {
          "output_type": "stream",
          "text": [
            "{1, 2, 3}\n",
            "{1, 2, 3, 4, 5}\n",
            "None\n",
            "{4, 5, 6, 7, 8, 9}\n",
            "None\n",
            "{1, 2, 3}\n",
            "set()\n",
            "{1, 2, 3}\n",
            "True\n",
            "{1, 2, 3}\n",
            "{1, 2, 3, 4, 5, 6, 7, 8, 9}\n",
            "False\n",
            "{1, 2, 3}\n",
            "False\n",
            "{1, 2, 3}\n",
            "None\n",
            "set()\n"
          ],
          "name": "stdout"
        }
      ]
    },
    {
      "cell_type": "code",
      "metadata": {
        "id": "XFix5jWfBjeJ",
        "colab": {
          "base_uri": "https://localhost:8080/",
          "height": 34
        },
        "outputId": "07ad5e20-db6d-49f9-d3d8-4da1d34d5702"
      },
      "source": [
        "x = {\"a\", \"b\", \"c\"}\n",
        "y = {\"f\", \"d\", \"a\"}\n",
        "z = {\"c\", \"d\", \"e\"}\n",
        "\n",
        "result = x.union(y, z)\n",
        "\n",
        "print(result)"
      ],
      "execution_count": null,
      "outputs": [
        {
          "output_type": "stream",
          "text": [
            "{'d', 'c', 'a', 'e', 'f', 'b'}\n"
          ],
          "name": "stdout"
        }
      ]
    },
    {
      "cell_type": "code",
      "metadata": {
        "id": "P7_EyW_s2aS5",
        "colab": {
          "base_uri": "https://localhost:8080/",
          "height": 34
        },
        "outputId": "449312b1-3de6-4bd3-bb74-1bbd4e965aa5"
      },
      "source": [
        "# Transfer value of y to e and then print it\n",
        "y = [9,8,3,6,4,4,5,6,7]\n",
        "e = set()\n",
        "\n",
        "for i in y:\n",
        "  e.add(i)\n",
        "\n",
        "print(list(e))"
      ],
      "execution_count": null,
      "outputs": [
        {
          "output_type": "stream",
          "text": [
            "[3, 4, 5, 6, 7, 8, 9]\n"
          ],
          "name": "stdout"
        }
      ]
    },
    {
      "cell_type": "markdown",
      "metadata": {
        "id": "VXxP9BZgCS_6"
      },
      "source": [
        "Since, set are unordered collection, indexing has no meaning. Hence, the slicing operator [ ] does not work.\n",
        "\n",
        "```python\n",
        "\n",
        ">>> a = {1,2,3}\n",
        ">>> a[1]\n",
        "Traceback (most recent call last):\n",
        "  File \"<string>\", line 301, in runcode\n",
        "  File \"<interactive input>\", line 1, in <module>\n",
        "TypeError: 'set' object does not support indexing\n",
        "\n",
        "```"
      ]
    },
    {
      "cell_type": "markdown",
      "metadata": {
        "id": "NivLza3hhbaw"
      },
      "source": [
        "## **Dictionaries**\n",
        "\n",
        "A dictionary is a collection which is ~**`unordered`**~ **`ordered`**, **`changeable`** and **`indexed`**. In Python dictionaries are written with curly brackets, and they have keys and values.\n",
        "\n",
        "```\n",
        "Note : I've cross the unordered word, because in python version > 3.6.0, dictionary are ordered previously in\n",
        "version < 3.6.0 , dictionary was unordered\n",
        "```\n",
        "\n",
        "The details explanation is given at the end of this section.\n",
        "\n",
        "### **`Creating Python Dictionary`**\n",
        "\n",
        "Creating a dictionary is as simple as placing items inside curly braces **`{}`** separated by commas.\n",
        "\n",
        "An item has a key and a corresponding value that is expressed as a pair **`(key: value)`**.\n",
        "\n",
        "While the values can be of any data type and can repeat, keys must be of immutable type (string, number or tuple with immutable elements) and must be unique.\n"
      ]
    },
    {
      "cell_type": "code",
      "metadata": {
        "id": "N7lVlU3kP47c",
        "colab": {
          "base_uri": "https://localhost:8080/"
        },
        "outputId": "11597d2d-4b9c-4095-9b4f-e8da95115cbe"
      },
      "source": [
        "# empty dictionary\n",
        "my_dict = {}\n",
        "\n",
        "# dictionary with integer keys\n",
        "my_dict = {1: 'apple', 2: 'ball'}\n",
        "\n",
        "# dictionary with mixed keys\n",
        "my_dict = {'name': 'John', 1: [2, 4, 3]}\n",
        "print(\"my_dict : \", type(my_dict))\n",
        "\n",
        "# using dict()\n",
        "my_dict = dict({1:'apple', 2:'ball'})\n",
        "print(\"my_dict : \", type(my_dict))\n",
        "\n",
        "# from sequence having each item as a pair\n",
        "my_dict = dict([(1,'apple'), (2,'ball')])"
      ],
      "execution_count": null,
      "outputs": [
        {
          "output_type": "stream",
          "text": [
            "my_dict :  <class 'dict'>\n",
            "my_dict :  <class 'dict'>\n"
          ],
          "name": "stdout"
        }
      ]
    },
    {
      "cell_type": "code",
      "metadata": {
        "colab": {
          "base_uri": "https://localhost:8080/"
        },
        "id": "UxKDtbsMnaNV",
        "outputId": "cfd78c55-7061-4d69-9afd-f58575de5ae5"
      },
      "source": [
        "my_dict = {\n",
        "            'fruits': ['apples', 'oranges'],\n",
        "            'vegetables': ['carrots', 'peas']\n",
        "          }\n",
        "print(my_dict)"
      ],
      "execution_count": null,
      "outputs": [
        {
          "output_type": "stream",
          "text": [
            "{'fruits': ['apples', 'oranges'], 'vegetables': ['carrots', 'peas']}\n"
          ],
          "name": "stdout"
        }
      ]
    },
    {
      "cell_type": "markdown",
      "metadata": {
        "id": "0eHv-GgqQKuG"
      },
      "source": [
        "### **`Accessing Elements from Dictionary`**\n",
        "\n",
        "  While indexing is used with other data types to access values, a dictionary uses keys.\n",
        "\n",
        "  Keys can be used either inside square brackets **`[ ]`** or with the **`get()`** method.\n",
        "\n",
        "  If we use the square brackets **`[  ]`**, KeyError is raised in case a key is not found in the dictionary.\n",
        "\n",
        "On the other hand\n",
        "```\n",
        "the get() method returns None if the key is not found.\n",
        "```"
      ]
    },
    {
      "cell_type": "code",
      "metadata": {
        "id": "EGuzUWAehbax",
        "colab": {
          "base_uri": "https://localhost:8080/",
          "height": 90
        },
        "outputId": "5a4d7728-2e2d-40ab-c128-415f3ca715dd"
      },
      "source": [
        "# Dictionaries -> contain key - value pairs\n",
        "\n",
        "people = {\n",
        "    \"name\" :\"Hritik Jaiswal\",\n",
        "    \"age\" : 19,\n",
        "    \"is_male\" : True,\n",
        "    \"Fav_number\":[5,10,15 ]\n",
        "}\n",
        "\n",
        "# you can not write like -> print(people[\"Name\"])\n",
        "\n",
        "print(people[\"name\"])\n",
        "\n",
        "# We can use GET method to take key-value pair if its not present then\n",
        "# It will temporely add that into dict and display value related that key\n",
        "\n",
        "print(people.get(\"birth\",\"Jan 15 1889\"))\n",
        "\n",
        "# None -> is the object that represent absence of the key\n",
        "print(people.get(\"gender\"))\n",
        "\n",
        "people[\"name\"] = \"John martin\"  # modify name\n",
        "print(people.get(\"name\"))"
      ],
      "execution_count": null,
      "outputs": [
        {
          "output_type": "stream",
          "text": [
            "Hritik Jaiswal\n",
            "Jan 15 1889\n",
            "None\n",
            "John martin\n"
          ],
          "name": "stdout"
        }
      ]
    },
    {
      "cell_type": "markdown",
      "metadata": {
        "id": "vEy7IkCxt4n0"
      },
      "source": [
        "If you've little bit of programming knowledge then i think you already know, how for loop works.\n",
        "```\n",
        "As if now, just understand the purpose of using for loop.\n",
        "```"
      ]
    },
    {
      "cell_type": "code",
      "metadata": {
        "id": "Qzrcc9tdpJ5Q",
        "colab": {
          "base_uri": "https://localhost:8080/",
          "height": 145
        },
        "outputId": "b9f54dbb-604a-4035-a58c-2b4e9a02001d"
      },
      "source": [
        "thisdict =\t{\n",
        "  \"brand\": \"Ford\",\n",
        "  \"model\": \"Mustang\",\n",
        "  \"year\": 1964\n",
        "}\n",
        "\n",
        "for x in thisdict:\n",
        "  print(\"key : \" , x)\n",
        "\n",
        "print(\"-----------------\")\n",
        "for x in thisdict:\n",
        "  print(\"value : \", thisdict[x])"
      ],
      "execution_count": null,
      "outputs": [
        {
          "output_type": "stream",
          "text": [
            "key :  brand\n",
            "key :  model\n",
            "key :  year\n",
            "-----------------\n",
            "value :  Ford\n",
            "value :  Mustang\n",
            "value :  1964\n"
          ],
          "name": "stdout"
        }
      ]
    },
    {
      "cell_type": "code",
      "metadata": {
        "id": "YfoT2PRNr6ov",
        "colab": {
          "base_uri": "https://localhost:8080/",
          "height": 290
        },
        "outputId": "d6091c41-3809-4bd6-f06e-94d519d6bb62"
      },
      "source": [
        "user = {\n",
        "    'username' : 'john',\n",
        "    'password' : 123,\n",
        "    'email': 'john@gmail.com'\n",
        "}\n",
        "\n",
        "for i in user.items():\n",
        "  print(i)\n",
        "\n",
        "print(\"------------------------\")\n",
        "\n",
        "# Tuple unpacking\n",
        "for key,value in user.items():\n",
        "  print(key,value)\n",
        "\n",
        "print(\"------------------------\")\n",
        "\n",
        "for i in user.keys():\n",
        "  print(i)\n",
        "print(\"------------------------\")\n",
        "\n",
        "for i in user.values():\n",
        "  print(i)"
      ],
      "execution_count": null,
      "outputs": [
        {
          "output_type": "stream",
          "text": [
            "('username', 'john')\n",
            "('password', 123)\n",
            "('email', 'john@gmail.com')\n",
            "------------------------\n",
            "username john\n",
            "password 123\n",
            "email john@gmail.com\n",
            "------------------------\n",
            "username\n",
            "password\n",
            "email\n",
            "------------------------\n",
            "john\n",
            "123\n",
            "john@gmail.com\n"
          ],
          "name": "stdout"
        }
      ]
    },
    {
      "cell_type": "code",
      "metadata": {
        "id": "DXd_Gn5NqfMo",
        "colab": {
          "base_uri": "https://localhost:8080/",
          "height": 108
        },
        "outputId": "de73381b-a748-4144-d36e-ddac4960e8f5"
      },
      "source": [
        "# update() : Insert an item to the dictionary\n",
        "car = {\n",
        "  \"brand\": \"Ford\",\n",
        "  \"model\": \"Mustang\",\n",
        "  \"year\": 1964\n",
        "}\n",
        "\n",
        "car.update({\"color\": \"White\"})\n",
        "\n",
        "print(car)\n",
        "\n",
        "# The pop() method removes the item with the specified key name\n",
        "\n",
        "thisdict = {\n",
        "  \"brand\": \"Ford\",\n",
        "  \"model\": \"Mustang\",\n",
        "  \"year\": 1964\n",
        "}\n",
        "\n",
        "print(thisdict.pop(\"model\"))   # return the value of pop element\n",
        "print(thisdict)\n",
        "\n",
        "# The popitem() method removes the last inserted item (in versions before 3.7, a random item is removed instead):\n",
        "\n",
        "thisdict = {\n",
        "  \"brand\": \"Ford\",\n",
        "  \"model\": \"Mustang\",\n",
        "  \"year\": 1964\n",
        "}\n",
        "thisdict.popitem()\n",
        "print(thisdict)\n",
        "\n",
        "# The clear() method empties the dictionary\n",
        "\n",
        "thisdict = {\n",
        "  \"brand\": \"Ford\",\n",
        "  \"model\": \"Mustang\",\n",
        "  \"year\": 1964\n",
        "}\n",
        "\n",
        "thisdict.clear()\n",
        "print(thisdict)"
      ],
      "execution_count": null,
      "outputs": [
        {
          "output_type": "stream",
          "text": [
            "{'brand': 'Ford', 'model': 'Mustang', 'year': 1964, 'color': 'White'}\n",
            "Mustang\n",
            "{'brand': 'Ford', 'year': 1964}\n",
            "{'brand': 'Ford', 'model': 'Mustang'}\n",
            "{}\n"
          ],
          "name": "stdout"
        }
      ]
    },
    {
      "cell_type": "code",
      "metadata": {
        "id": "s8SUJk_uvj7Z",
        "colab": {
          "base_uri": "https://localhost:8080/",
          "height": 90
        },
        "outputId": "041bf725-a1e6-4009-b52d-bb28784457fe"
      },
      "source": [
        "# Create an empty dict and assign a value\n",
        "\n",
        "d = {}\n",
        "\n",
        "iterable = [('a','b'),('1','2'),('c','4')]\n",
        "\n",
        "for k,v in iterable:\n",
        "  print(k,v)\n",
        "  d[k] = v\n",
        "\n",
        "print(d)"
      ],
      "execution_count": null,
      "outputs": [
        {
          "output_type": "stream",
          "text": [
            "a b\n",
            "1 2\n",
            "c 4\n",
            "{'a': 'b', '1': '2', 'c': '4'}\n"
          ],
          "name": "stdout"
        }
      ]
    },
    {
      "cell_type": "code",
      "metadata": {
        "id": "dWrWpCH-hba1",
        "outputId": "66f9fe4e-7a97-457a-c270-547c391a6c44"
      },
      "source": [
        "# Excersice\n",
        "\n",
        "'''\n",
        "input : 1234\n",
        "output : one two three four\n",
        "'''\n",
        "\n",
        "phone =  input(\"phone : \")\n",
        "\n",
        "dict  = {\n",
        "    \"1\" :\"One\",\n",
        "    \"2\":\"Two\",\n",
        "    \"3\" :\"Three\",\n",
        "    \"4\" :\"Four\",\n",
        "    \"5\" :\"Five\",\n",
        "    \"6\" :\"Six\",\n",
        "    \"7\" :\"Seven\",\n",
        "    \"8\" :\"Eight\",\n",
        "    \"9\" :\"Nine\",\n",
        "    \"0\" :\"zero\",\n",
        "}\n",
        "output = \"\"\n",
        "for i in phone:\n",
        "\n",
        "    output += (dict.get(i,\"?\")) + \" \"\n",
        "    print(i)\n",
        "print(output)"
      ],
      "execution_count": null,
      "outputs": [
        {
          "output_type": "stream",
          "text": [
            "phone : 105\n",
            "1\n",
            "0\n",
            "5\n",
            "One zero Five \n"
          ],
          "name": "stdout"
        }
      ]
    },
    {
      "cell_type": "code",
      "metadata": {
        "id": "HIBHo-Svhba9",
        "outputId": "e841e714-2d37-4fea-c826-b64082bc004f"
      },
      "source": [
        "#excerisce -> opposite\n",
        "words = [\"one\", \"two\",\"three\",\"four\",\"five\",\"six\", \"seven\",\"eight\",\"nine\",\"zero\"]\n",
        "\n",
        "word = input(\"Enter the word : \")\n",
        "mapping  = {\n",
        "    \"one\":\"1\",\n",
        "    \"two\":\"2\",\n",
        "    \"three\":\"3\",\n",
        "    \"four\":\"4\",\n",
        "    \"five\":\"5\",\n",
        "    \"six\":\"6\",\n",
        "    \"seven\":\"7\",\n",
        "    \"eight\":\"8\",\n",
        "    \"nine\":\"9\",\n",
        "    \"zero\":\"0\"\n",
        "}\n",
        "spliting = word.split()\n",
        "print(spliting)\n",
        "for i in spliting:\n",
        "    print(mapping.get(i,\"&\"))\n",
        "\n"
      ],
      "execution_count": null,
      "outputs": [
        {
          "output_type": "stream",
          "text": [
            "Enter the word : one seven two\n",
            "['one', 'seven', 'two']\n",
            "1\n",
            "7\n",
            "2\n"
          ],
          "name": "stdout"
        }
      ]
    },
    {
      "cell_type": "code",
      "metadata": {
        "id": "y-I41vXUhbbG",
        "outputId": "e47caf0f-29c3-48f5-bbc5-dce50fcee6df"
      },
      "source": [
        "#excersice -> print emoji\n",
        "message = input(\">\")\n",
        "words= message.split()\n",
        "emoji = {\n",
        "    \":)\" :\"😄\",\n",
        "    \":(\" :\"😔\"\n",
        "}\n",
        "output = \"\"\n",
        "for i in words:\n",
        "    output += emoji.get(i,i) + \" \"\n",
        "\n",
        "print(output)"
      ],
      "execution_count": null,
      "outputs": [
        {
          "output_type": "stream",
          "text": [
            ">good morning :)\n",
            "good morning 😄 \n"
          ],
          "name": "stdout"
        }
      ]
    },
    {
      "cell_type": "markdown",
      "metadata": {
        "id": "ewvk-wZUyRkv"
      },
      "source": [
        "```\n",
        "Since the python dictionary is unordered, so to preserve it's order. we can use OrderedDict\n",
        "```"
      ]
    },
    {
      "cell_type": "markdown",
      "metadata": {
        "id": "iXGaHHZbqllN"
      },
      "source": [
        "---\n",
        "### **OrderedDict**\n",
        "---\n",
        "An OrderedDict is a dictionary subclass that remembers the order that keys were first inserted. The only difference between dict() and OrderedDict() is that:\n",
        "\n",
        "OrderedDict preserves the order in which the keys are inserted. A regular dict doesn’t track the insertion order, and iterating it gives the values in an arbitrary order. By contrast, the order the items are inserted is remembered by OrderedDict.\n"
      ]
    },
    {
      "cell_type": "code",
      "metadata": {
        "colab": {
          "base_uri": "https://localhost:8080/"
        },
        "id": "JRVI_iABy6Yn",
        "outputId": "f62a5c17-ae9e-4033-e58c-cb45b23c583f"
      },
      "source": [
        "# A Python program to demonstrate working of OrderedDict\n",
        "from collections import OrderedDict\n",
        "\n",
        "print(\"This is a Dict:\\n\")\n",
        "d = {}\n",
        "d['a'] = 1\n",
        "d['b'] = 2\n",
        "d['c'] = 3\n",
        "d['d'] = 4\n",
        "\n",
        "for key, value in d.items():\n",
        "    print(key, value)\n",
        "\n",
        "print(\"\\nThis is an Ordered Dict:\\n\")\n",
        "od = OrderedDict()\n",
        "od['a'] = 1\n",
        "od['b'] = 2\n",
        "od['c'] = 3\n",
        "od['d'] = 4\n",
        "\n",
        "for key, value in od.items():\n",
        "    print(key, value)"
      ],
      "execution_count": null,
      "outputs": [
        {
          "output_type": "stream",
          "text": [
            "This is a Dict:\n",
            "\n",
            "a 1\n",
            "b 2\n",
            "c 3\n",
            "d 4\n",
            "\n",
            "This is an Ordered Dict:\n",
            "\n",
            "a 1\n",
            "b 2\n",
            "c 3\n",
            "d 4\n"
          ],
          "name": "stdout"
        }
      ]
    },
    {
      "cell_type": "markdown",
      "metadata": {
        "id": "v3qcLvNhzGhF"
      },
      "source": [
        "Important Points:\n",
        "```\n",
        "Key value Change: If the value of a certain key is changed, the position of the key remains unchanged in OrderedDict.\n",
        "```"
      ]
    },
    {
      "cell_type": "code",
      "metadata": {
        "colab": {
          "base_uri": "https://localhost:8080/"
        },
        "id": "HWJxDPhby8mM",
        "outputId": "6d1944c2-5d02-4ec5-f5ed-7fe26c3c5226"
      },
      "source": [
        "# A Python program to demonstrate working of key\n",
        "# value change in OrderedDict\n",
        "from collections import OrderedDict\n",
        "\n",
        "print(\"Before:\\n\")\n",
        "od = OrderedDict()\n",
        "od['a'] = 1\n",
        "od['b'] = 2\n",
        "od['c'] = 3\n",
        "od['d'] = 4\n",
        "for key, value in od.items():\n",
        "\tprint(key, value)\n",
        "\n",
        "print(\"\\nAfter:\\n\")\n",
        "od['c'] = 5\n",
        "for key, value in od.items():\n",
        "\tprint(key, value)"
      ],
      "execution_count": null,
      "outputs": [
        {
          "output_type": "stream",
          "text": [
            "Before:\n",
            "\n",
            "a 1\n",
            "b 2\n",
            "c 3\n",
            "d 4\n",
            "\n",
            "After:\n",
            "\n",
            "a 1\n",
            "b 2\n",
            "c 5\n",
            "d 4\n"
          ],
          "name": "stdout"
        }
      ]
    },
    {
      "cell_type": "markdown",
      "metadata": {
        "id": "utuZD4C3zRyH"
      },
      "source": [
        "Deletion and Re-Inserting:\n",
        "```\n",
        "Deleting and re-inserting the same key will push it to the back as OrderedDict however maintains the order of insertion.\n",
        "```"
      ]
    },
    {
      "cell_type": "code",
      "metadata": {
        "colab": {
          "base_uri": "https://localhost:8080/"
        },
        "id": "vMqcaS6IzPHo",
        "outputId": "ad374f33-17ae-4920-e07f-73754550d01a"
      },
      "source": [
        "# A Python program to demonstrate working of deletion\n",
        "# re-inserion in OrderedDict\n",
        "from collections import OrderedDict\n",
        "\n",
        "print(\"Before deleting:\\n\")\n",
        "od = OrderedDict()\n",
        "od['a'] = 1\n",
        "od['b'] = 2\n",
        "od['c'] = 3\n",
        "od['d'] = 4\n",
        "\n",
        "for key, value in od.items():\n",
        "\tprint(key, value)\n",
        "\n",
        "print(\"\\nAfter deleting:\\n\")\n",
        "od.pop('c')\n",
        "for key, value in od.items():\n",
        "\tprint(key, value)\n",
        "\n",
        "print(\"\\nAfter re-inserting:\\n\")\n",
        "od['c'] = 3\n",
        "for key, value in od.items():\n",
        "\tprint(key, value)"
      ],
      "execution_count": null,
      "outputs": [
        {
          "output_type": "stream",
          "text": [
            "Before deleting:\n",
            "\n",
            "a 1\n",
            "b 2\n",
            "c 3\n",
            "d 4\n",
            "\n",
            "After deleting:\n",
            "\n",
            "a 1\n",
            "b 2\n",
            "d 4\n",
            "\n",
            "After re-inserting:\n",
            "\n",
            "a 1\n",
            "b 2\n",
            "d 4\n",
            "c 3\n"
          ],
          "name": "stdout"
        }
      ]
    },
    {
      "cell_type": "markdown",
      "metadata": {
        "id": "2QRevuVh1WAU"
      },
      "source": [
        "**Reference**: [GeeksforGeeks - OrderedDict in Python](https://www.geeksforgeeks.org/ordereddict-in-python/)"
      ]
    },
    {
      "cell_type": "markdown",
      "metadata": {
        "id": "D56Y1ucBndGl"
      },
      "source": [
        "### **NOTE : Python Dictionaries Are Now Ordered. But Keep Using OrderedDict.**\n",
        "\n",
        "\n"
      ]
    },
    {
      "cell_type": "markdown",
      "metadata": {
        "id": "NBVrrLqcoxES"
      },
      "source": [
        "Until recently (i.e In Python version < 3.6.0), Python dictionaries did not preserve the order in which items were added to them. For instance, you might type\n",
        "\n",
        "```python\n",
        ">> my_dict = {'fruits': ['apples', 'oranges'], 'vegetables': ['carrots', 'peas']}\n",
        "\n",
        ">> print(my_dict)\n",
        "{'vegetables': ['carrots', 'peas'], 'fruits': ['apples', 'oranges']}\n",
        "```\n",
        "\n",
        "But in python version > 3.6.0  👇"
      ]
    },
    {
      "cell_type": "code",
      "metadata": {
        "colab": {
          "base_uri": "https://localhost:8080/"
        },
        "id": "0E9srtoUpzrI",
        "outputId": "ee4dcbb9-8bef-4742-af6e-fd8881ae7e30"
      },
      "source": [
        "my_dict = {'fruits': ['apples', 'oranges'], 'vegetables': ['carrots', 'peas']}\n",
        "\n",
        "print(my_dict)"
      ],
      "execution_count": null,
      "outputs": [
        {
          "output_type": "stream",
          "text": [
            "{'fruits': ['apples', 'oranges'], 'vegetables': ['carrots', 'peas']}\n"
          ],
          "name": "stdout"
        }
      ]
    },
    {
      "cell_type": "markdown",
      "metadata": {
        "id": "W91H42qVqO2Z"
      },
      "source": [
        "In the above example dictionary is preserved it's order because of python version > 3.6.0"
      ]
    },
    {
      "cell_type": "code",
      "metadata": {
        "colab": {
          "base_uri": "https://localhost:8080/"
        },
        "id": "pSK7WiRUqcEC",
        "outputId": "36fb8e6c-df07-47fc-fb8b-0a2c16a26186"
      },
      "source": [
        "!python --version"
      ],
      "execution_count": null,
      "outputs": [
        {
          "output_type": "stream",
          "text": [
            "Python 3.6.9\n"
          ],
          "name": "stdout"
        }
      ]
    },
    {
      "cell_type": "markdown",
      "metadata": {
        "id": "aKuVjxOM2r6i"
      },
      "source": [
        "```\n",
        "Python dict objects now preserve insertion order in the reference CPython implementation\n",
        "— but relying on that property is risky.\n",
        "```"
      ]
    },
    {
      "cell_type": "markdown",
      "metadata": {
        "id": "rue3-m1s0-VO"
      },
      "source": [
        "If you wanted a dictionary that preserved order, you could use the **`OrderedDict`** class in the standard library module **`collections`**. (As we already discussed)\n",
        "\n",
        "However, this situation is changing. Standard dict objects preserve order in the reference (CPython) implementations of Python 3.5 and 3.6, and this order-preserving property is becoming a language feature in Python 3.7.\n",
        "\n"
      ]
    },
    {
      "cell_type": "markdown",
      "metadata": {
        "id": "5L6PqtBgp0NK"
      },
      "source": [
        "---\n",
        "You might think that this change makes the OrderedDict class obsolete. However, there are at least two good reasons to continue using OrderedDict.\n",
        "\n",
        "1. Relying on standard dict objects to preserve order will cause your code to break on versions of CPython earlier than 3.5 and on some alternative implementations of Python 3.5 and 3.6.\n",
        "\n",
        "2. Using an OrderedDict communicates your intention to rely on the order of items in your dictionary being preserved, both to human readers of your code and to the third-party libraries you call within it.\n",
        "\n",
        "In fact, some tools that are widely used in data science assume that the order of items in a dict is not significant.\n",
        "\n",
        "You can read more about it, in the below article <br/>\n",
        "\n",
        "---\n",
        "\n",
        "**Reference** : [Gandenberger - ordered-dicts-vs-ordereddict](http://gandenberger.org/2018/03/10/ordered-dicts-vs-ordereddict/)"
      ]
    },
    {
      "cell_type": "markdown",
      "metadata": {
        "id": "w6P_sI6BN3NW"
      },
      "source": [
        "## **Precedence and Associativity of Operators**\n",
        "\n",
        "The operator precedence in Python is listed in the following table. It is in descending order (upper group has higher precedence than the lower ones).\n",
        "\n",
        "| Operator    | Message  |\n",
        "|:---------: | :------------------:  |\n",
        "| ( )  | Parentheses |\n",
        "| **  | Exponenet |\n",
        "| +x, -x, ~x  | Unary plus, Unary minus, Bitwise NOT |\n",
        "| /, *, //, %\t  | Multiplication, Division, Floor division, Modulus |\n",
        "| +, -  | Addition, Subtraction |\n",
        "| <<, >>  | Bitwise shift operators |\n",
        "| &\t | Bitwise AND |\n",
        "| ^\t | Bitwise XOR |\n",
        "| \\| | Bitwise OR  |\n",
        "| ==, !=, >, >=, <, <=, is, is not, in, not in|\tComparisons, Identity, Membership operators |\n",
        "| not | \tLogical NOT |\n",
        "| and\t|   Logical AND |\n",
        "| or\t|   Logical OR  |\n",
        "\n",
        "Reference :\n",
        "\n",
        "* [Programiz : precedence and associative in python ](https://www.programiz.com/python-programming/precedence-associativity#:~:text=For%20example%2C%20multiplication%20has%20higher%20precedence%20than%20subtraction.&text=But%20we%20can%20change%20this,has%20higher%20precedence%20than%20multiplication.&text=The%20operator%20precedence%20in%20Python,precedence%20than%20the%20lower%20ones)"
      ]
    },
    {
      "cell_type": "code",
      "metadata": {
        "id": "ucbRNAW4TiPM",
        "colab": {
          "base_uri": "https://localhost:8080/",
          "height": 34
        },
        "outputId": "daa1ecf9-761c-4687-a4ae-d67da424fae5"
      },
      "source": [
        "# Precedence of /, *,+, ()\n",
        "\n",
        "# Order\n",
        "'''\n",
        "  Here precendence of div and mul are same , but according to associative (which follows form left to right)\n",
        "  then order will be :\n",
        "   () > (div) > (mul) > (add)\n",
        "'''\n",
        "x = 36 / 4 * (3 +  2) * 4 + 2\n",
        "print(x)"
      ],
      "execution_count": null,
      "outputs": [
        {
          "output_type": "stream",
          "text": [
            "182.0\n"
          ],
          "name": "stdout"
        }
      ]
    },
    {
      "cell_type": "code",
      "metadata": {
        "id": "05uyWAo6b-j7",
        "colab": {
          "base_uri": "https://localhost:8080/",
          "height": 34
        },
        "outputId": "9dd4f92f-32fb-46e7-d3a7-fa8199ff0f39"
      },
      "source": [
        "# ordering\n",
        "# () > ** (exponent) > (mul or div) > (add or sub)\n",
        "\n",
        "exp = 10 + 3*2**2\n",
        "print(exp)"
      ],
      "execution_count": null,
      "outputs": [
        {
          "output_type": "stream",
          "text": [
            "22\n"
          ],
          "name": "stdout"
        }
      ]
    },
    {
      "cell_type": "code",
      "metadata": {
        "id": "O6opmrUsOAVY",
        "colab": {
          "base_uri": "https://localhost:8080/",
          "height": 34
        },
        "outputId": "fb2f72ac-c7c7-4b61-ae0c-ad18e8ceda79"
      },
      "source": [
        "# Precedence of or & and\n",
        "\n",
        "# order\n",
        "'''\n",
        " and > or\n",
        "'''\n",
        "\n",
        "meal = \"fruit\"\n",
        "\n",
        "money = 0\n",
        "\n",
        "if meal == \"fruit\" or meal == \"sandwich\" and money >= 2:\n",
        "    print(\"Lunch being delivered\")\n",
        "else:\n",
        "    print(\"Can't deliver lunch\")"
      ],
      "execution_count": null,
      "outputs": [
        {
          "output_type": "stream",
          "text": [
            "Lunch being delivered\n"
          ],
          "name": "stdout"
        }
      ]
    },
    {
      "cell_type": "markdown",
      "metadata": {
        "id": "CP3aAdqbUNPI"
      },
      "source": [
        "This program runs if block even when money is 0. It does not give us the desired output since the precedence of and is higher than or.\n",
        "\n",
        "We can get the desired output by using parenthesis () in the following way:"
      ]
    },
    {
      "cell_type": "code",
      "metadata": {
        "id": "UZwIbUUmUWvB",
        "colab": {
          "base_uri": "https://localhost:8080/",
          "height": 34
        },
        "outputId": "ef75daab-92f1-43eb-b2b8-b4c7b18664fd"
      },
      "source": [
        "# Precedence of or & and\n",
        "\n",
        "# order\n",
        "'''\n",
        " () > and > or\n",
        "'''\n",
        "\n",
        "meal = \"fruit\"\n",
        "\n",
        "money = 0\n",
        "\n",
        "if (meal == \"fruit\" or meal == \"sandwich\") and money >= 2:\n",
        "    print(\"Lunch being delivered\")\n",
        "else:\n",
        "    print(\"Can't deliver lunch\")"
      ],
      "execution_count": null,
      "outputs": [
        {
          "output_type": "stream",
          "text": [
            "Can't deliver lunch\n"
          ],
          "name": "stdout"
        }
      ]
    },
    {
      "cell_type": "markdown",
      "metadata": {
        "id": "u-6BeWKrVta5"
      },
      "source": [
        "Associativity of Python Operators\n",
        "\n",
        "```\n",
        "We can see in the above table that more than one operator exists in the same group. These operators have the same precedence.\n",
        "\n",
        "When two operators have the same precedence, associativity helps to determine the order of operations.\n",
        "\n",
        "Associativity is the order in which an expression is evaluated that has multiple operators of the same precedence.\n",
        "Almost all the operators have left-to-right associativity.\n",
        "```\n",
        "For example, multiplication and floor division have the same precedence. Hence, if both of them are present in an expression, the left one is evaluated first."
      ]
    },
    {
      "cell_type": "code",
      "metadata": {
        "id": "06Dpnv0oWJKS",
        "colab": {
          "base_uri": "https://localhost:8080/",
          "height": 51
        },
        "outputId": "2596e37b-d71d-4d69-b342-bc8aa0c1b86f"
      },
      "source": [
        "# Left-right associativity\n",
        "# Output: 3\n",
        "print(5 * 2 // 3)\n",
        "\n",
        "# Shows left-right associativity\n",
        "# Output: 0\n",
        "print(5 * (2 // 3))"
      ],
      "execution_count": null,
      "outputs": [
        {
          "output_type": "stream",
          "text": [
            "3\n",
            "0\n"
          ],
          "name": "stdout"
        }
      ]
    },
    {
      "cell_type": "code",
      "metadata": {
        "id": "taLjYnNTp5b7",
        "colab": {
          "base_uri": "https://localhost:8080/",
          "height": 85
        },
        "outputId": "62b8d5d0-49e3-4bd4-e54b-5bb73ea2bb08"
      },
      "source": [
        "a = 20\n",
        "b = 10\n",
        "c = 15\n",
        "d = 5\n",
        "e = 0\n",
        "\n",
        "e = (a + b) * c / d       #( 30 * 15 ) / 5\n",
        "print(\"Value of (a + b) * c / d is \",  e)\n",
        "\n",
        "e = ((a + b) * c) / d     # (30 * 15 ) / 5\n",
        "print(\"Value of ((a + b) * c) / d is \",  e)\n",
        "\n",
        "e = (a + b) * (c / d);    # (30) * (15/5)\n",
        "print(\"Value of (a + b) * (c / d) is \",  e)\n",
        "\n",
        "e = a + (b * c) / d;      #  20 + (150/5)\n",
        "print(\"Value of a + (b * c) / d is \",  e)"
      ],
      "execution_count": null,
      "outputs": [
        {
          "output_type": "stream",
          "text": [
            "Value of (a + b) * c / d is  90.0\n",
            "Value of ((a + b) * c) / d is  90.0\n",
            "Value of (a + b) * (c / d) is  90.0\n",
            "Value of a + (b * c) / d is  50.0\n"
          ],
          "name": "stdout"
        }
      ]
    },
    {
      "cell_type": "code",
      "metadata": {
        "id": "rBVVWxPwWJhh",
        "colab": {
          "base_uri": "https://localhost:8080/",
          "height": 51
        },
        "outputId": "bbff5fbd-6090-4ad1-9920-bb50030019d8"
      },
      "source": [
        "## Note: Exponent operator ** has right-to-left associativity in Python.\n",
        "\n",
        "# Shows the right-left associativity of **\n",
        "# Output: 512, Since 2**(3**2) = 2**9\n",
        "print(2 ** 3 ** 2)\n",
        "\n",
        "# If 2 needs to be exponated fisrt, need to use ()\n",
        "# Output: 64\n",
        "print((2 ** 3) ** 2)"
      ],
      "execution_count": null,
      "outputs": [
        {
          "output_type": "stream",
          "text": [
            "512\n",
            "64\n"
          ],
          "name": "stdout"
        }
      ]
    },
    {
      "cell_type": "markdown",
      "metadata": {
        "id": "tSWq9rPaWh0X"
      },
      "source": [
        "```\n",
        "  We can see that 2 ** 3 ** 2 is equivalent to 2 ** (3 ** 2)\n",
        "```"
      ]
    },
    {
      "cell_type": "markdown",
      "metadata": {
        "id": "j12GP0ur8-DJ"
      },
      "source": [
        "##  **Input**\n",
        "\n",
        "```\n",
        "input ( ) : This function first takes the input from the user and then\n",
        "evaluates the expression, which means Python automatically identifies\n",
        "whether user entered a string or a number or list. If the input\n",
        "provided is not correct then either syntax error or exception is raised by python. For example –\n",
        "```"
      ]
    },
    {
      "cell_type": "code",
      "metadata": {
        "scrolled": true,
        "id": "B1eKOiuuhbVW",
        "cellView": "code",
        "colab": {
          "base_uri": "https://localhost:8080/",
          "height": 72
        },
        "outputId": "ea72cc8d-28a3-41a5-d3df-0dbf8fae557b"
      },
      "source": [
        "# input type string\n",
        "\n",
        "name = input(\"what is name ? \")\n",
        "print('Hii' , name)\n",
        "print(type(name))"
      ],
      "execution_count": null,
      "outputs": [
        {
          "output_type": "stream",
          "text": [
            "what is name ? Mike\n",
            "Hii Mike\n",
            "<class 'str'>\n"
          ],
          "name": "stdout"
        }
      ]
    },
    {
      "cell_type": "code",
      "metadata": {
        "id": "7TDbWPbnhbVh",
        "outputId": "2497ee06-42fa-4734-f49e-959762fe5ced"
      },
      "source": [
        "# To get the input in the form of 'int'\n",
        "# We have convert 'str' into 'int'\n",
        "\n",
        "name = input('what is your birthyear ? ')\n",
        "year = 2019 -int(name);\n",
        "print(year)"
      ],
      "execution_count": null,
      "outputs": [
        {
          "output_type": "stream",
          "text": [
            "what is your birthdate ? 2000\n",
            "19\n"
          ],
          "name": "stdout"
        }
      ]
    },
    {
      "cell_type": "code",
      "metadata": {
        "id": "2qekqoNn-Qvz",
        "colab": {
          "base_uri": "https://localhost:8080/",
          "height": 72
        },
        "outputId": "34124de7-ba76-44cc-beb9-c38c383b8dd3"
      },
      "source": [
        "# char input\n",
        "\n",
        "string = input(\"Enter a string : \")\n",
        "print(string[0])\n",
        "\n",
        "# string into list of char\n",
        "print(list(string))"
      ],
      "execution_count": null,
      "outputs": [
        {
          "output_type": "stream",
          "text": [
            "Enter a string : hello\n",
            "h\n",
            "['h', 'e', 'l', 'l', 'o']\n"
          ],
          "name": "stdout"
        }
      ]
    },
    {
      "cell_type": "code",
      "metadata": {
        "id": "GD9p3bBq_Jya",
        "colab": {
          "base_uri": "https://localhost:8080/",
          "height": 54
        },
        "outputId": "b366a0f4-8075-4026-a86d-a4f0f3a4c697"
      },
      "source": [
        "# What if we enter the expression instead of any data type\n",
        "\n",
        "'''\n",
        "Their is function called \"eval\" which evalute the expression and gives the output\n",
        "'''\n",
        "expr = eval(input(\"Enter an expression : \"))\n",
        "print(expr)"
      ],
      "execution_count": null,
      "outputs": [
        {
          "output_type": "stream",
          "text": [
            "Enter an expression : 2 + 3**2 + (1-2)\n",
            "10\n"
          ],
          "name": "stdout"
        }
      ]
    },
    {
      "cell_type": "code",
      "metadata": {
        "id": "JTIhEPhw6QnV",
        "colab": {
          "base_uri": "https://localhost:8080/",
          "height": 54
        },
        "outputId": "d31015dc-a619-40ec-822b-7bdd352023ed"
      },
      "source": [
        "# rstrip(): will remove the white spaces present in the input\n",
        "# split(): will convert the string into a list\n",
        "# map(function, iterable) : typecast the list\n",
        "\n",
        "# Enter input in horizontal form\n",
        "ar = list(map(int, input().rstrip().split()))\n",
        "print(ar)"
      ],
      "execution_count": null,
      "outputs": [
        {
          "output_type": "stream",
          "text": [
            "1 4 5 2\n",
            "[1, 4, 5, 2]\n"
          ],
          "name": "stdout"
        }
      ]
    },
    {
      "cell_type": "markdown",
      "metadata": {
        "id": "V9nUOQ0arfEl"
      },
      "source": [
        "## **Important stuff 🎯**\n",
        "\n",
        "``` python\n",
        "\n",
        ">> print(type(10))                 ## output : <class 'int'>\n",
        ">> print(bool(-3))                 ## output : True\n",
        ">> print(bool(0))                  ## output : False\n",
        ">> print(bool(2))                  ## output : True\n",
        ">> print(type(0xFF))               ## output : <class 'int'>\n",
        "\n",
        "All our belongs to type -> int\n",
        "\n",
        "0b or 0B for Binary and base is 2\n",
        "0o or 0O for Octal and base is 8\n",
        "0x or 0X for Hexadecimal and base is 16\n",
        "\n",
        ">>  type(range(5))                 ## output : <class 'range'>\n",
        "\n",
        ">> x = 100\n",
        "   y = 50\n",
        "   print(x and y)                  ## output : 50\n",
        "\n",
        "   In Python, When we join two non-Boolean values using a and operator, the value of the expression is the second operands\n",
        "\n",
        ">> y = 10\n",
        "   x = y += 2\n",
        "   print(x)                         ## output : Syntax Error (invalid syntax)\n",
        "\n",
        "\n",
        ">> a = 4                            ## binary : 0100\n",
        "   b = 11                           ## binary : 1011\n",
        "   print(a | b)                     ## output : 1111\n",
        "   print(a >> 2)                    ## output : 1     ( binary : 01)\n",
        "   print(b >> 2)                    ## output : 2     ( binary : 10)\n",
        "\n",
        "   Bitwise right shift operator(>>): The a’s and b’s value is moved right by the 2 bits.\n",
        "\n",
        ">>  a = [10, 20]\n",
        "    b = a\n",
        "    b += [30, 40]\n",
        "    print(a)                        # [10, 20, 30, 40]\n",
        "    print(b)                        # [10, 20, 30, 40]\n",
        "\n",
        "    Because since b and a reference to the same object, when we use, Addition assignment += on b, it changes both a and b\n",
        "\n",
        ">>  a = ['x','y']\n",
        "    b = a\n",
        "    b = b + ['z']\n",
        "    print(a)                        # ['x','y']\n",
        "    print(b)                        # ['x','y','z']\n",
        "\n",
        "    Here, we are not using assignment operator, hence as b changes a does not changed.\n",
        "\n",
        ">>  print('%x, %X' % (15, 15))      # output : f F\n",
        "\n",
        "    In output formatting, We use type %x and %X to convert decimal number to hexadecimal number on the screen.\n",
        "    %x produces lowercase output, and %X produces uppercase output.\n",
        "\n",
        ">> x = float('NaN')\n",
        "   print('%f, %e, %F, %E' % (x, x, x, x))         # output :  nan, nan, NAN, NAN\n",
        "\n",
        ">> print('[%c]' % 65)               # output : [A]\n",
        "\n",
        "  The c conversion type supports character conversion from ASCII code to the character. It also works for the Unicode\n",
        "```\n"
      ]
    },
    {
      "cell_type": "markdown",
      "metadata": {
        "id": "1Bw8lOjfFY4M"
      },
      "source": [
        "## **Command Line and Variable Arguments**"
      ]
    },
    {
      "cell_type": "markdown",
      "metadata": {
        "id": "2N_QtteDGMT0"
      },
      "source": [
        "```\n",
        "Till now, we have taken input in python using raw_input() or input() [for integers].\n",
        "There is another method that uses command line arguments.\n",
        "The command line arguments must be given whenever we want to give the input before the start of the script,\n",
        "while on the other hand, raw_input() is used to get the input while the python program / script is running.\n",
        "```\n",
        "\n",
        "For example, in the UNIX environment, the arguments **`‘-a’`** and **`‘-l’`** for the ‘ls’ command give different results.\n",
        "\n",
        "The command line arguments in python can be processed by using either ‘sys’ module or ‘argparse’ module.\n",
        "\n"
      ]
    },
    {
      "cell_type": "markdown",
      "metadata": {
        "id": "3DmcuRXHGxNo"
      },
      "source": [
        "---\n",
        "\n",
        "Suppose we want to calculate sum of two numbers\n",
        "\n",
        "Program for that will be :\n",
        "\n",
        "```python\n",
        "# Python code to demonstrate the use of 'sys' module\n",
        "# for command line arguments\n",
        "\n",
        "import sys\n",
        "\n",
        "# command line arguments are stored in the form\n",
        "# of list in sys.argv\n",
        "argumentList = sys.argv\n",
        "print argumentList\n",
        "\n",
        "# Print the name of file\n",
        "print sys.argv[0]\n",
        "\n",
        "# Print the first argument after the name of file\n",
        "print sys.argv[1]\n",
        "\n",
        "# Print the second argument after the name of file\n",
        "print sys.argv[1]\n",
        "\n",
        "# add 2 numbers\n",
        "a = sys.argv[1]\n",
        "b = sys.argv[2]\n",
        "print(\"addition of two number is :\" a+b)\n",
        "```\n",
        "\n",
        "```sh\n",
        "$ python addNumber.py 6 2\n",
        "\n",
        "['addNumber.py',6,2]\n",
        "addNumber.py\n",
        "6\n",
        "2\n",
        "addition of two number is : 8\n",
        "```\n"
      ]
    },
    {
      "cell_type": "markdown",
      "metadata": {
        "id": "qvlnJTRik585"
      },
      "source": [
        "## **Formating string**\n"
      ]
    },
    {
      "cell_type": "code",
      "metadata": {
        "id": "eeqA0-m6lq_v",
        "colab": {
          "base_uri": "https://localhost:8080/",
          "height": 54
        },
        "outputId": "1b31a3b6-a838-40e1-f4ee-557837988251"
      },
      "source": [
        "username = 'johny'\n",
        "age = 23\n",
        "\n",
        "# Simple string\n",
        "print(\"Hiii \" + username + \", you're \" + str(age) + ' old')\n",
        "\n",
        "# Formated string\n",
        "print(f'Hiii {username}, you\\'re {age} old')"
      ],
      "execution_count": null,
      "outputs": [
        {
          "output_type": "stream",
          "text": [
            "Hiii johny, you're 23 old\n",
            "Hiii johny, you're 23 old\n"
          ],
          "name": "stdout"
        }
      ]
    },
    {
      "cell_type": "markdown",
      "metadata": {
        "id": "LtDlpPCBhbW3"
      },
      "source": [
        "## **Format**\n",
        "\n",
        "The string format() method formats the given string into a nicer output in Python.\n",
        "\n",
        "#### **`String format() Parameters`**\n",
        "\n",
        "format() method takes any number of parameters. But, is divided into two types of parameters:\n",
        "\n",
        "* Positional parameters - list of parameters that can be accessed with index of parameter inside curly braces {index}\n",
        "\n",
        "* Keyword parameters - list of parameters of type key=value, that can be accessed with key of parameter inside curly braces {key}\n",
        "\n",
        "#### **`Return value from String format()`**\n",
        "\n",
        "The format() method returns the formatted string.\n",
        "\n",
        "#### **`How String format() works?`**\n",
        "\n",
        "The format() reads the type of arguments passed to it and formats it according to the format codes defined in the string.\n"
      ]
    },
    {
      "cell_type": "code",
      "metadata": {
        "id": "vLgKTeq7hbW4",
        "colab": {
          "base_uri": "https://localhost:8080/",
          "height": 54
        },
        "outputId": "970e97a0-c5c0-4b18-8323-abf136b659fc"
      },
      "source": [
        "x = \"Hii\"\n",
        "y = 'Hritik'\n",
        "z = 'Jaiswal'\n",
        "\n",
        "print(f\"sum of string is x + y : {x} {y}\")  # using formatted string\n",
        "print(\"Hello, {} {}\".format(y,z))           # using format function"
      ],
      "execution_count": null,
      "outputs": [
        {
          "output_type": "stream",
          "text": [
            "sum of string is x + y : Hii Hritik\n",
            "Hello, Hritik Jaiswal\n"
          ],
          "name": "stdout"
        }
      ]
    },
    {
      "cell_type": "code",
      "metadata": {
        "id": "5yN7tPBezBa9",
        "colab": {
          "base_uri": "https://localhost:8080/",
          "height": 90
        },
        "outputId": "47ed144c-a33d-4c5f-87a0-7bd148ec8a3f"
      },
      "source": [
        "# default arguments\n",
        "print(\"Hello {}, your balance is {:.2f}.\".format(\"Adam\", 230.2346))\n",
        "\n",
        "# positional arguments\n",
        "print(\"Hello {0}, your balance is {1}.\".format(\"Adam\", 230.2346))\n",
        "\n",
        "# keyword arguments\n",
        "print(\"Hello {name}, your balance is {blc:.2f}.\".format(name=\"Adam\", blc=230.2346))\n",
        "\n",
        "# mixed arguments\n",
        "print(\"Hello {0}, your balance is {blc}.\".format(\"Adam\", blc=230.2346))"
      ],
      "execution_count": null,
      "outputs": [
        {
          "output_type": "stream",
          "text": [
            "Hello Adam, your balance is 230.23.\n",
            "Hello Adam, your balance is 230.2346.\n",
            "Hello Adam, your balance is 230.23.\n",
            "Hello Adam, your balance is 230.2346.\n"
          ],
          "name": "stdout"
        }
      ]
    },
    {
      "cell_type": "code",
      "metadata": {
        "id": "sb1NdBwH3rDS",
        "colab": {
          "base_uri": "https://localhost:8080/",
          "height": 72
        },
        "outputId": "d5d58814-35a4-4dff-b594-20df2187beb3"
      },
      "source": [
        "## Simple number formatting\n",
        "\n",
        "# integer arguments\n",
        "print(\"The number is:{:d}\".format(123))\n",
        "\n",
        "# float arguments\n",
        "print(\"The float number is:{:f}\".format(123.4567898))\n",
        "\n",
        "# octal, binary and hexadecimal format\n",
        "print(\"bin: {0:b}, oct: {0:o}, hex: {0:x}\".format(12))"
      ],
      "execution_count": null,
      "outputs": [
        {
          "output_type": "stream",
          "text": [
            "The number is:123\n",
            "The float number is:123.456790\n",
            "bin: 1100, oct: 14, hex: c\n"
          ],
          "name": "stdout"
        }
      ]
    },
    {
      "cell_type": "code",
      "metadata": {
        "id": "zHPg6Bup41Nm",
        "colab": {
          "base_uri": "https://localhost:8080/",
          "height": 72
        },
        "outputId": "d6721b0f-f7ea-4c72-cd94-78d54a8eed55"
      },
      "source": [
        "# Number formatting for signed numbers\n",
        "\n",
        "# show the + sign\n",
        "print(\"{:+f} {:+f}\".format(12.23, -12.23))\n",
        "\n",
        "# show the - sign only\n",
        "print(\"{:-f} {:-f}\".format(12.23, -12.23))\n",
        "\n",
        "# show space for + sign\n",
        "print(\"{: f} {: f}\".format(12.23, -12.23))"
      ],
      "execution_count": null,
      "outputs": [
        {
          "output_type": "stream",
          "text": [
            "+12.230000 -12.230000\n",
            "12.230000 -12.230000\n",
            " 12.230000 -12.230000\n"
          ],
          "name": "stdout"
        }
      ]
    },
    {
      "cell_type": "markdown",
      "metadata": {
        "id": "o0-CUvkU32y4"
      },
      "source": [
        "**Reference** :- [String - Format (Programmiz.com)](https://www.programiz.com/python-programming/methods/string/format)"
      ]
    },
    {
      "cell_type": "markdown",
      "metadata": {
        "id": "2eOEsMqChbWc"
      },
      "source": [
        "## **Math function**"
      ]
    },
    {
      "cell_type": "code",
      "metadata": {
        "id": "jzJ8gTa4hbWf",
        "outputId": "58a62303-a31e-4f1f-f452-b33e156de84c"
      },
      "source": [
        "#Math function\n",
        "# 1) round\n",
        "x = 6.5\n",
        "y = 7.66\n",
        "print(round(x))\n",
        "print(round(y))"
      ],
      "execution_count": null,
      "outputs": [
        {
          "output_type": "stream",
          "text": [
            "6\n",
            "8\n"
          ],
          "name": "stdout"
        }
      ]
    },
    {
      "cell_type": "code",
      "metadata": {
        "id": "1MDvwOeU7mj6",
        "colab": {
          "base_uri": "https://localhost:8080/",
          "height": 90
        },
        "outputId": "93bf057a-8725-4a61-94f6-df979e070ab6"
      },
      "source": [
        "## Round Function\n",
        "\n",
        "b = 13.9423486\n",
        "print(b)\n",
        "\n",
        "# without using round function\n",
        "# their are 2 ways\n",
        "\n",
        "print(\"%.2f\" % a)\n",
        "print(\"{:.2f}\".format(a))\n",
        "\n",
        "# with round function\n",
        "print(\"round function : \",round(a,2))"
      ],
      "execution_count": null,
      "outputs": [
        {
          "output_type": "stream",
          "text": [
            "13.9423486\n",
            "13.95\n",
            "13.95\n",
            "round function :  13.95\n"
          ],
          "name": "stdout"
        }
      ]
    },
    {
      "cell_type": "code",
      "metadata": {
        "id": "x5xQ3aOfhbWk",
        "outputId": "b8ad60ea-5830-49fd-8fe0-0a260c950412"
      },
      "source": [
        "# 2) abs -> return positive no.\n",
        "x = -3.5\n",
        "print(abs(x))"
      ],
      "execution_count": null,
      "outputs": [
        {
          "output_type": "stream",
          "text": [
            "3.5\n"
          ],
          "name": "stdout"
        }
      ]
    },
    {
      "cell_type": "code",
      "metadata": {
        "id": "xS2rNboVhbWr",
        "colab": {
          "base_uri": "https://localhost:8080/",
          "height": 54
        },
        "outputId": "4e9961a6-553d-4be9-dc6b-5e2a7a909ba3"
      },
      "source": [
        "# 3) Mathametical function\n",
        "\n",
        "import math\n",
        "pi = 3.142\n",
        "math.cos((60*pi)/180)\n",
        "\n",
        "# ceil() method in Python returns ceiling value of x i.e., the smallest integer not less than x.\n",
        "print(math.ceil(2.9))\n",
        "\n",
        "# floor() method in Python returns floor of x i.e., the largest integer not greater than x.\n",
        "print(math.floor(2.9))"
      ],
      "execution_count": null,
      "outputs": [
        {
          "output_type": "stream",
          "text": [
            "3\n",
            "2\n"
          ],
          "name": "stdout"
        }
      ]
    },
    {
      "cell_type": "code",
      "metadata": {
        "id": "TFF_2F0U8MhA",
        "colab": {
          "base_uri": "https://localhost:8080/",
          "height": 72
        },
        "outputId": "31a3144e-19a5-40e6-bd97-a27ea60d3ca5"
      },
      "source": [
        "print(\"math.floor(-23.11) : \", math.floor(-23.11))\n",
        "print(\"math.floor(300.16) : \", math.floor(300.16))\n",
        "print(\"math.floor(300.72) : \", math.floor(300.72))"
      ],
      "execution_count": null,
      "outputs": [
        {
          "output_type": "stream",
          "text": [
            "math.floor(-23.11) :  -24\n",
            "math.floor(300.16) :  300\n",
            "math.floor(300.72) :  300\n"
          ],
          "name": "stdout"
        }
      ]
    },
    {
      "cell_type": "code",
      "metadata": {
        "id": "icp8F59f8cBI",
        "colab": {
          "base_uri": "https://localhost:8080/",
          "height": 72
        },
        "outputId": "becafd73-99ec-4283-d034-0fc3ded6eab2"
      },
      "source": [
        "print(\"math.floor(-23.11) : \", math.ceil(-23.11))\n",
        "print(\"math.floor(300.16) : \", math.ceil(300.16))\n",
        "print(\"math.floor(300.72) : \", math.ceil(300.72))"
      ],
      "execution_count": null,
      "outputs": [
        {
          "output_type": "stream",
          "text": [
            "math.floor(-23.11) :  -23\n",
            "math.floor(300.16) :  301\n",
            "math.floor(300.72) :  301\n"
          ],
          "name": "stdout"
        }
      ]
    },
    {
      "cell_type": "markdown",
      "metadata": {
        "id": "ubFg7eVNhbWx"
      },
      "source": [
        "## **If - Statement**"
      ]
    },
    {
      "cell_type": "code",
      "metadata": {
        "id": "fiWtAj60hbW-",
        "colab": {
          "base_uri": "https://localhost:8080/",
          "height": 35
        },
        "outputId": "9a5dec5a-2f4e-469e-a9ed-4da0f3b5d0d5"
      },
      "source": [
        "# we can use 'and' & 'or' in if statement\n",
        "a=2\n",
        "b=3\n",
        "c=4\n",
        "if (a<b) and (c>b):\n",
        "    print('True')\n",
        "elif (a==b) or (c>a):\n",
        "    print('Truee')\n",
        "elif (b>a) and not (b>c):\n",
        "    print('Trueee')\n",
        "else:\n",
        "    print('false')"
      ],
      "execution_count": null,
      "outputs": [
        {
          "output_type": "stream",
          "text": [
            "True\n"
          ],
          "name": "stdout"
        }
      ]
    },
    {
      "cell_type": "code",
      "metadata": {
        "id": "xYUHpzSehbXG",
        "outputId": "598bcb40-dd4d-4728-9d84-aa88b3dd5e24"
      },
      "source": [
        "# Exercise\n",
        "\n",
        "weight = int(input('Weight :'))\n",
        "unit = input('(L)bs or (K)g')\n",
        "if unit.lower()=='l' or unit.upper()=='L':\n",
        "    c = weight*0.45;\n",
        "else:\n",
        "    c = weight/0.45;\n",
        "print(c)"
      ],
      "execution_count": null,
      "outputs": [
        {
          "output_type": "stream",
          "text": [
            "Weight :45\n",
            "(L)bs or (K)gv\n",
            "100.0\n"
          ],
          "name": "stdout"
        }
      ]
    },
    {
      "cell_type": "code",
      "metadata": {
        "id": "GORGhsUshbWy",
        "outputId": "f54d79d8-464a-4da0-8094-d1cf7bed14fd"
      },
      "source": [
        "#if statement\n",
        "\n",
        "x = 5\n",
        "y = 10\n",
        "\n",
        "if (x>y):\n",
        "    print(\"truee\")\n",
        "elif (x==y):\n",
        "    print(\"falsee\")\n",
        "else:\n",
        "    print(\"nothing\")\n",
        "\n",
        "print(f\"SUM OF X AND Y : {x+y}\")\n"
      ],
      "execution_count": null,
      "outputs": [
        {
          "output_type": "stream",
          "text": [
            "nothing\n",
            "SUM OF X AND Y : 15\n"
          ],
          "name": "stdout"
        }
      ]
    },
    {
      "cell_type": "markdown",
      "metadata": {
        "id": "zHaYKHEGTmTX"
      },
      "source": [
        "## **Truthy and Falsy**\n",
        "\n",
        "In Python, True and False are keywords and will always be equal to 1 and 0.\n",
        "\n",
        "Under normal circumstances in Python 2, and always in Python 3:\n",
        "```\n",
        "False object is of type bool, which is a subclass of int\n",
        "```\n",
        "```python\n",
        "object\n",
        "   |\n",
        " int\n",
        "   |\n",
        " bool\n",
        "```\n",
        "There are two types of integers:\n",
        "\n",
        "      1. integer\n",
        "      2. Boolean\n",
        "\n",
        "### **Booleans (bool) - [Python3 Doc](https://docs.python.org/3/reference/datamodel.html#index-10)**\n",
        "\n",
        "These represent the truth values False and True. The two objects representing the values False and True are the only Boolean objects. The Boolean type is a subtype of the integer type, and Boolean values behave like the values 0 and 1, respectively, in almost all contexts, the exception being that when converted to a string, the strings \"False\" or \"True\" are returned, respectively.\n",
        "\n",
        "All values are considered \"truthy\" except for the following, which are falsy\n",
        "\n",
        "### *`Falsy`*\n",
        "\n",
        "- None\n",
        "- False\n",
        "- 0\n",
        "- 0.0\n",
        "- 0j\n",
        "- Decimal(0)\n",
        "- Fraction(0,1)\n",
        "- **`[]`** Empty dict\n",
        "- **`{}`** Empty Set\n",
        "- **`()`** Empty tuple\n",
        "- **`''`** Empty string\n",
        "- **`b''`** Empty bytes\n",
        "- set( )\n",
        "- Empty range(0)\n",
        "- Object which\n",
        "    - **`obj.__ bool__()`** return False\n",
        "    - **`obj.__ len__()`** return 0"
      ]
    },
    {
      "cell_type": "code",
      "metadata": {
        "colab": {
          "base_uri": "https://localhost:8080/"
        },
        "id": "XJoq3ScH_Sa2",
        "outputId": "a0ef1545-e162-4dfd-e9ae-af850ca07d09"
      },
      "source": [
        "print(\"1 + True = \", 1 + True )\n",
        "print(\"==============\")\n",
        "print(\"1 + False = \", 1 + False )"
      ],
      "execution_count": null,
      "outputs": [
        {
          "output_type": "stream",
          "text": [
            "1 + True =  2\n",
            "==============\n",
            "1 + False =  1\n"
          ],
          "name": "stdout"
        }
      ]
    },
    {
      "cell_type": "code",
      "metadata": {
        "colab": {
          "base_uri": "https://localhost:8080/"
        },
        "id": "y7m0GA4gdkBp",
        "outputId": "414bd9dd-2195-4e1b-98eb-d3f2560b7b64"
      },
      "source": [
        "# All values (including positive and negative value) considered as True except 0\n",
        "if -1 or False:\n",
        "  print(\"yes\")"
      ],
      "execution_count": null,
      "outputs": [
        {
          "output_type": "stream",
          "text": [
            "yes\n"
          ],
          "name": "stdout"
        }
      ]
    },
    {
      "cell_type": "code",
      "metadata": {
        "colab": {
          "base_uri": "https://localhost:8080/"
        },
        "id": "R9OTFv_weQlK",
        "outputId": "e1e3dc56-ed6f-4faa-d30b-37bb412aff71"
      },
      "source": [
        "if 1 and True:\n",
        "  print(\"Executed\")"
      ],
      "execution_count": null,
      "outputs": [
        {
          "output_type": "stream",
          "text": [
            "Executed\n"
          ],
          "name": "stdout"
        }
      ]
    },
    {
      "cell_type": "code",
      "metadata": {
        "colab": {
          "base_uri": "https://localhost:8080/"
        },
        "id": "o2LFBJtgeaFp",
        "outputId": "61a1b797-6fd2-4cd8-8730-b613e6cf5eab"
      },
      "source": [
        "if []:\n",
        "  print(\"[] is True\")\n",
        "else:\n",
        "  print(\"[] is False\")"
      ],
      "execution_count": null,
      "outputs": [
        {
          "output_type": "stream",
          "text": [
            "[] is False\n"
          ],
          "name": "stdout"
        }
      ]
    },
    {
      "cell_type": "code",
      "metadata": {
        "colab": {
          "base_uri": "https://localhost:8080/"
        },
        "id": "et9JzW4ReoqB",
        "outputId": "00a24bcd-371d-4749-f7d0-648a1333e612"
      },
      "source": [
        "if None:\n",
        "  print(\"None is True\")\n",
        "else:\n",
        "  print(\"None is False\")"
      ],
      "execution_count": null,
      "outputs": [
        {
          "output_type": "stream",
          "text": [
            "None is False\n"
          ],
          "name": "stdout"
        }
      ]
    },
    {
      "cell_type": "code",
      "metadata": {
        "colab": {
          "base_uri": "https://localhost:8080/"
        },
        "id": "Xav6Wqlne_6z",
        "outputId": "e49d05ce-c230-41cb-a5f0-e9a537a283be"
      },
      "source": [
        "## Examples\n",
        "\n",
        "# '' (Empty string) refers to False\n",
        "\n",
        "username = input(\"Enter username : \")\n",
        "password = int(input(\"Enter password : \"))\n",
        "\n",
        "if username and password:\n",
        "  print(\"Hello, {}\".format(username))\n",
        "else:\n",
        "  print(\"Empty username provided\")"
      ],
      "execution_count": null,
      "outputs": [
        {
          "output_type": "stream",
          "text": [
            "Enter username : \n",
            "Enter password : 123\n",
            "Empty username provided\n"
          ],
          "name": "stdout"
        }
      ]
    },
    {
      "cell_type": "code",
      "metadata": {
        "colab": {
          "base_uri": "https://localhost:8080/"
        },
        "id": "bCmG2vNg8sUE",
        "outputId": "a8eed595-1e5f-49d6-a259-e94de3f024a0"
      },
      "source": [
        "print('\\033[92m')  # Green color\n",
        "arr = ['Hello','world'][False]\n",
        "print(arr)\n",
        "\n",
        "print('\\033[94m')  # Blue color\n",
        "arr = ['Hello','world'][True]\n",
        "print(arr)"
      ],
      "execution_count": null,
      "outputs": [
        {
          "output_type": "stream",
          "text": [
            "\u001b[92m\n",
            "Hello\n",
            "\u001b[94m\n",
            "world\n"
          ],
          "name": "stdout"
        }
      ]
    },
    {
      "cell_type": "markdown",
      "metadata": {
        "id": "KTg5FMh_9i4K"
      },
      "source": [
        "Let's try this one"
      ]
    },
    {
      "cell_type": "code",
      "metadata": {
        "colab": {
          "base_uri": "https://localhost:8080/"
        },
        "id": "yUvKXVci9oRM",
        "outputId": "8d06a14e-49e9-4857-90c8-11dd2b9e6682"
      },
      "source": [
        "print( 0 == 0.0 )\n",
        "print( 1 == 1.0 )\n",
        "\n",
        "print(\"==============\")\n",
        "\n",
        "print( False == 0.0 )\n",
        "print( True == 1.0 )"
      ],
      "execution_count": null,
      "outputs": [
        {
          "output_type": "stream",
          "text": [
            "True\n",
            "True\n",
            "==============\n",
            "True\n",
            "True\n"
          ],
          "name": "stdout"
        }
      ]
    },
    {
      "cell_type": "code",
      "metadata": {
        "colab": {
          "base_uri": "https://localhost:8080/",
          "height": 262
        },
        "id": "WUuorTK_-ppD",
        "outputId": "8a9ebaae-626a-4cd9-bc57-cff11933dc33"
      },
      "source": [
        "# So can we use 0.0 instead of False or 1.0 instead of True ? let's see\n",
        "\n",
        "print('\\033[92m')  # Green color\n",
        "\n",
        "arr = ['Hello','world'][0.0]\n",
        "print(arr)\n",
        "\n",
        "print('\\033[94m')  # Blue color\n",
        "arr = ['Hello','world'][1.0]\n",
        "print(arr)"
      ],
      "execution_count": null,
      "outputs": [
        {
          "output_type": "stream",
          "text": [
            "\u001b[92m\n"
          ],
          "name": "stdout"
        },
        {
          "output_type": "error",
          "ename": "TypeError",
          "evalue": "ignored",
          "traceback": [
            "\u001b[0;31m---------------------------------------------------------------------------\u001b[0m",
            "\u001b[0;31mTypeError\u001b[0m                                 Traceback (most recent call last)",
            "\u001b[0;32m<ipython-input-9-3e70940c627a>\u001b[0m in \u001b[0;36m<module>\u001b[0;34m()\u001b[0m\n\u001b[1;32m      1\u001b[0m \u001b[0mprint\u001b[0m\u001b[0;34m(\u001b[0m\u001b[0;34m'\\033[92m'\u001b[0m\u001b[0;34m)\u001b[0m  \u001b[0;31m# Green color\u001b[0m\u001b[0;34m\u001b[0m\u001b[0;34m\u001b[0m\u001b[0m\n\u001b[1;32m      2\u001b[0m \u001b[0;34m\u001b[0m\u001b[0m\n\u001b[0;32m----> 3\u001b[0;31m \u001b[0marr\u001b[0m \u001b[0;34m=\u001b[0m \u001b[0;34m[\u001b[0m\u001b[0;34m'Hello'\u001b[0m\u001b[0;34m,\u001b[0m\u001b[0;34m'world'\u001b[0m\u001b[0;34m]\u001b[0m\u001b[0;34m[\u001b[0m\u001b[0;36m0.0\u001b[0m\u001b[0;34m]\u001b[0m\u001b[0;34m\u001b[0m\u001b[0;34m\u001b[0m\u001b[0m\n\u001b[0m\u001b[1;32m      4\u001b[0m \u001b[0mprint\u001b[0m\u001b[0;34m(\u001b[0m\u001b[0marr\u001b[0m\u001b[0;34m)\u001b[0m\u001b[0;34m\u001b[0m\u001b[0;34m\u001b[0m\u001b[0m\n\u001b[1;32m      5\u001b[0m \u001b[0;34m\u001b[0m\u001b[0m\n",
            "\u001b[0;31mTypeError\u001b[0m: list indices must be integers or slices, not float"
          ]
        }
      ]
    },
    {
      "cell_type": "markdown",
      "metadata": {
        "id": "3Z70rScF9gQl"
      },
      "source": [
        "This because list indexing only works with integers, or objects that define a **`__index__`** method\n",
        "\n"
      ]
    },
    {
      "cell_type": "markdown",
      "metadata": {
        "id": "_RB0rkp0f9aT"
      },
      "source": [
        "## **`is` vs `==`**\n",
        "\n",
        "The Equality operator **`(==)`** compares the values of both the operands and checks for value equality.\n"
      ]
    },
    {
      "cell_type": "code",
      "metadata": {
        "colab": {
          "base_uri": "https://localhost:8080/"
        },
        "id": "V38mw4s9giS9",
        "outputId": "a565777a-5a37-491d-b7da-6a9ca8876d99"
      },
      "source": [
        "# Observe, what's going on\n",
        "\n",
        "# Here 1 refers to bool(1) => True\n",
        "print(True == 1)         # True\n",
        "print(\"\" == 1)           # False\n",
        "print([] == 1)           # False\n",
        "print(10 == 10.0)        # True\n",
        "print([] == [])          # True\n",
        "print(\"1\" == 1)          # False"
      ],
      "execution_count": null,
      "outputs": [
        {
          "output_type": "stream",
          "text": [
            "True\n",
            "False\n",
            "False\n",
            "True\n",
            "True\n"
          ],
          "name": "stdout"
        }
      ]
    },
    {
      "cell_type": "markdown",
      "metadata": {
        "id": "0q_g9d8qoxHL"
      },
      "source": [
        "Whereas the **`‘is’`** operator checks whether two variables point to the same object in memory.\n",
        "\n",
        "Eg : When I was a kid, our neighbors had two twin cats.\n",
        "Both cats looked seemingly identical—same charcoal fur, same piercing green eyes. Some personality quirks aside, you just couldn’t tell them apart just from looking at them. But of course they were two different cats, two separate beings, even though they looked exactly the same.\n",
        "\n",
        "The == operator compares by checking for equality:\n",
        "```\n",
        "If these cats were Python objects and we’d compare\n",
        "them with the == operator, we’d get “both cats are equal” as an answer.\n",
        "```\n",
        "The is operator, however, compares identities:\n",
        "```\n",
        "If we compared our cats with the is operator, we’d get “these are two different cats” as an answer.\n",
        "```"
      ]
    },
    {
      "cell_type": "code",
      "metadata": {
        "colab": {
          "base_uri": "https://localhost:8080/"
        },
        "id": "zOcwAu76oziP",
        "outputId": "76572992-bdc7-42d1-de30-e018cf3640af"
      },
      "source": [
        "# True\n",
        "print(True is 1)         # False\n",
        "print(\"\" is 1)           # False\n",
        "print([] is 1)           # False\n",
        "print(10 is 10.0)        # False\n",
        "print([] is [])          # False\n",
        "print(\"1\" is 1)          # False"
      ],
      "execution_count": null,
      "outputs": [
        {
          "output_type": "stream",
          "text": [
            "False\n",
            "False\n",
            "False\n",
            "False\n",
            "False\n",
            "False\n"
          ],
          "name": "stdout"
        }
      ]
    },
    {
      "cell_type": "code",
      "metadata": {
        "colab": {
          "base_uri": "https://localhost:8080/"
        },
        "id": "spv5174mtRPC",
        "outputId": "f5095a63-661e-4d97-e4b4-f4a6fa69e4bb"
      },
      "source": [
        "# pointing to different object and in different memory location,\n",
        "# that means changing 'a' does not affect 'b'\n",
        "\n",
        "a = [1,2,3]\n",
        "b = [1,2,3]\n",
        "print(\"a == b : {}\".format(a==b))   # Care only about values, not the location\n",
        "print(\"a is b : {}\".format(a is b)) # Doesn't point to same memory location"
      ],
      "execution_count": null,
      "outputs": [
        {
          "output_type": "stream",
          "text": [
            "a == b : True\n",
            "a is b : False\n"
          ],
          "name": "stdout"
        }
      ]
    },
    {
      "cell_type": "code",
      "metadata": {
        "colab": {
          "base_uri": "https://localhost:8080/"
        },
        "id": "ahyTnfWru5RD",
        "outputId": "ec26adc6-263b-414b-a2a0-210793ad9856"
      },
      "source": [
        "# both are different\n",
        "print(id(a))\n",
        "print(id(b))"
      ],
      "execution_count": null,
      "outputs": [
        {
          "output_type": "stream",
          "text": [
            "140570679145608\n",
            "140570810310792\n"
          ],
          "name": "stdout"
        }
      ]
    },
    {
      "cell_type": "code",
      "metadata": {
        "colab": {
          "base_uri": "https://localhost:8080/"
        },
        "id": "SzZCsN-lsQP0",
        "outputId": "8e7d4c06-9f37-4c38-ab58-64151994c1c3"
      },
      "source": [
        "# So what we actually means by pointing to same object 🤔 ❓\n",
        "\n",
        "# Let's understand with an example\n",
        "\n",
        "a = [1,2,3]\n",
        "b = a\n",
        "\n",
        "print(a)\n",
        "print(b)"
      ],
      "execution_count": null,
      "outputs": [
        {
          "output_type": "stream",
          "text": [
            "[1, 2, 3]\n",
            "[1, 2, 3]\n"
          ],
          "name": "stdout"
        }
      ]
    },
    {
      "cell_type": "code",
      "metadata": {
        "colab": {
          "base_uri": "https://localhost:8080/"
        },
        "id": "Uq2f2G1zs0lL",
        "outputId": "c3c55e30-961b-4ec1-9381-5747a2879d69"
      },
      "source": [
        "# We know this already, what's new in this?\n",
        "# Yeah, right\n",
        "\n",
        "# Now see the magic, when we changes a and then b also gets changed\n",
        "# it means changing 'a', 'b' also get affected.\n",
        "\n",
        "a[0] = 'Hello'\n",
        "\n",
        "print(a)\n",
        "print(b)"
      ],
      "execution_count": null,
      "outputs": [
        {
          "output_type": "stream",
          "text": [
            "['Hello', 2, 3]\n",
            "['Hello', 2, 3]\n"
          ],
          "name": "stdout"
        }
      ]
    },
    {
      "cell_type": "code",
      "metadata": {
        "colab": {
          "base_uri": "https://localhost:8080/"
        },
        "id": "xw8un86juwwG",
        "outputId": "beff6578-f7b4-42cd-c521-a2225cc62399"
      },
      "source": [
        "# See both are equal\n",
        "print(id(a))\n",
        "print(id(b))"
      ],
      "execution_count": null,
      "outputs": [
        {
          "output_type": "stream",
          "text": [
            "140570678454728\n",
            "140570678454728\n"
          ],
          "name": "stdout"
        }
      ]
    },
    {
      "cell_type": "markdown",
      "metadata": {
        "id": "7Byw_2tj8v4B"
      },
      "source": [
        "## **Ternary operator**\n",
        "\n",
        "Ternary operators also known as conditional expressions are operators that evaluate something based on a condition being true or false."
      ]
    },
    {
      "cell_type": "code",
      "metadata": {
        "id": "IrMRNaYo80ZX",
        "colab": {
          "base_uri": "https://localhost:8080/",
          "height": 35
        },
        "outputId": "5a51068f-569d-4fec-947c-c81967169f92"
      },
      "source": [
        "# pattern\n",
        "\n",
        "# \"value_if_condition_true\" if condition else \"value_if_condition_false\"\n",
        "\n",
        "is_allowed = True\n",
        "message = \"Authenticate user\" if is_allowed==True else \"Unauthenticate user\"\n",
        "print(message)"
      ],
      "execution_count": null,
      "outputs": [
        {
          "output_type": "stream",
          "text": [
            "Authenticate user\n"
          ],
          "name": "stdout"
        }
      ]
    },
    {
      "cell_type": "code",
      "metadata": {
        "id": "8owzjPgI98BG",
        "colab": {
          "base_uri": "https://localhost:8080/",
          "height": 35
        },
        "outputId": "f082ef5e-0cb4-4147-9be5-2a8459982e42"
      },
      "source": [
        "is_allowed = False\n",
        "message = \"Authenticate user\" if is_allowed==True else \"Unauthenticate user\"\n",
        "print(message)"
      ],
      "execution_count": null,
      "outputs": [
        {
          "output_type": "stream",
          "text": [
            "Unauthenticate user\n"
          ],
          "name": "stdout"
        }
      ]
    },
    {
      "cell_type": "code",
      "metadata": {
        "id": "L9Gmc7xpRLyP",
        "colab": {
          "base_uri": "https://localhost:8080/",
          "height": 72
        },
        "outputId": "2ea01e88-0fe9-4369-9f0e-1b266c19fdb2"
      },
      "source": [
        "# Python program to demonstrate ternary operator\n",
        "a, b = 10, 20\n",
        "\n",
        "# Use tuple for selecting an item\n",
        "# (if_test_false,if_test_true)[test]\n",
        "print( (b, a) [a < b] )\n",
        "\n",
        "# Use Dictionary for selecting an item\n",
        "print({True: a, False: b} [a < b])\n",
        "\n",
        "# lamda is more efficient than above two methods\n",
        "# because in lambda  we are assure that\n",
        "# only one expression will be evaluated unlike in\n",
        "# tuple and Dictionary\n",
        "print((lambda: b, lambda: a)[a < b]())"
      ],
      "execution_count": null,
      "outputs": [
        {
          "output_type": "stream",
          "text": [
            "10\n",
            "10\n",
            "10\n"
          ],
          "name": "stdout"
        }
      ]
    },
    {
      "cell_type": "markdown",
      "metadata": {
        "id": "jDDUMxc-RM0L"
      },
      "source": [
        "### **Reference**\n",
        "\n",
        "* [geeksforgeeks - ternary operator in python](https://www.geeksforgeeks.org/ternary-operator-in-python/)"
      ]
    },
    {
      "cell_type": "markdown",
      "metadata": {
        "id": "R5Mh0kgL-9US"
      },
      "source": [
        "## **Bit manipulation**\n",
        "\n",
        "\n",
        "```\n",
        "1.  Complement (~)  - Bitwise not\n",
        "2.  And (&)\n",
        "3.  Or (|)\n",
        "4.  Xor (^)\n",
        "5.  Right shift (>>)\n",
        "6.  Left shift (<<)\n",
        "```"
      ]
    },
    {
      "cell_type": "code",
      "metadata": {
        "colab": {
          "base_uri": "https://localhost:8080/"
        },
        "id": "cGvzx94QQ45R",
        "outputId": "4610800f-46a5-40c7-b39d-eb8a226662b9"
      },
      "source": [
        "x = 8\n",
        "print(type(x))\n",
        "\n",
        "# Binary representation of number 8\n",
        "y = bin(8)\n",
        "print(type(y))\n",
        "print(y)\n",
        "\n",
        "# replace the trailing 0b from y\n",
        "y = y.replace('0b','')\n",
        "print(y)\n",
        "print(type(y))"
      ],
      "execution_count": null,
      "outputs": [
        {
          "output_type": "stream",
          "text": [
            "<class 'int'>\n",
            "<class 'str'>\n",
            "0b1000\n",
            "1000\n",
            "<class 'str'>\n"
          ],
          "name": "stdout"
        }
      ]
    },
    {
      "cell_type": "code",
      "metadata": {
        "colab": {
          "base_uri": "https://localhost:8080/"
        },
        "id": "gNIxuj_ngX3H",
        "outputId": "b0ea75b1-8481-4614-d094-f0ce7cfd7899"
      },
      "source": [
        "# check bit length\n",
        "print(bin(42)[2:])\n",
        "print((42).bit_length())"
      ],
      "execution_count": null,
      "outputs": [
        {
          "output_type": "stream",
          "text": [
            "101010\n",
            "6\n"
          ],
          "name": "stdout"
        }
      ]
    },
    {
      "cell_type": "code",
      "metadata": {
        "colab": {
          "base_uri": "https://localhost:8080/"
        },
        "id": "XC5XigRk_D7m",
        "outputId": "422e1072-36cd-4d74-f2fd-105247678cff"
      },
      "source": [
        "# Comp\n",
        "# For positive number  9  => the result would be -(9 + 1)\n",
        "# For negative number -10 => the result would be  (10 - 1)\n",
        "\n",
        "print(\"Complement of 9 : \", ~9)\n",
        "print(\"Complement of -10 : \", ~-10)"
      ],
      "execution_count": null,
      "outputs": [
        {
          "output_type": "stream",
          "text": [
            "Complement of 9 :  -10\n",
            "Complement of -10 :  9\n"
          ],
          "name": "stdout"
        }
      ]
    },
    {
      "cell_type": "code",
      "metadata": {
        "colab": {
          "base_uri": "https://localhost:8080/"
        },
        "id": "E43Sc1oDS75P",
        "outputId": "3c6bcdfb-1a8e-4b0c-9f4c-c91d014657a8"
      },
      "source": [
        "# bitwise operators\n",
        "\n",
        "a = 6\n",
        "b = 4\n",
        "\n",
        "# Print bitwise AND operation\n",
        "print(\"a & b =\", a & b)\n",
        "\n",
        "# Print bitwise OR operation\n",
        "print(\"a | b =\", a | b)\n",
        "\n",
        "# print bitwise XOR operation\n",
        "print(\"a ^ b =\", a ^ b)"
      ],
      "execution_count": null,
      "outputs": [
        {
          "output_type": "stream",
          "text": [
            "a & b = 4\n",
            "a | b = 6\n",
            "a ^ b = 2\n"
          ],
          "name": "stdout"
        }
      ]
    },
    {
      "cell_type": "code",
      "metadata": {
        "colab": {
          "base_uri": "https://localhost:8080/"
        },
        "id": "aubFW87C5K-8",
        "outputId": "12136049-2f11-483a-b842-3dda23f4b228"
      },
      "source": [
        "# This operator seems useless, unless untill we don't go in depth in bit manipulation\n",
        "# Note: Bit manipulation is very useful when we do competitive programming ,\n",
        "'''\n",
        "Property of XOR:\n",
        "\n",
        "X^0 = X\n",
        "X^X = X\n",
        "\n",
        "  a ^ b ^ c ^ a ^ b     # Commutativity\n",
        "= a ^ a ^ b ^ b ^ c     # Using x ^ x = 0\n",
        "= 0 ^ 0 ^ c             # Using x ^ 0 = x (and commutativity)\n",
        "= c\n",
        "'''\n",
        "# Problem 1 : Find the non-repetitive number from arr (For loops : Checkout below section )\n",
        "\n",
        "arr = [1,2,1,2,3]\n",
        "xor = 0\n",
        "for i in arr:\n",
        "  xor^=i\n",
        "print(\"Non repetitive : \",xor)\n",
        "\n",
        "# Problem 2: Swap 2 number without using helper variable\n",
        "\n",
        "x = 3\n",
        "y = 4\n",
        "\n",
        "print(\"Before swap : {} and {}\".format(x,y))\n",
        "\n",
        "x ^=y\n",
        "y ^=x\n",
        "x ^=y\n",
        "\n",
        "print(\"After swap : {} and {}\".format(x,y))\n",
        "\n",
        "# Problem 3: You are given an array A of n - 1 integers which are in the range between 1 and n.\n",
        "#            All numbers appear exactly once, except one number, which is missing. Find this missing number.\n",
        "\n",
        "x = [1,2,3,4,6,7,8,9,10]              # missing number = 5\n",
        "\n",
        "'''\n",
        "As previously, numbers are repeated , so they becomes zero because of property(x^x=0)\n",
        "But now here we don't have any repeated number, so now how we do it 🤔?\n",
        "'''\n",
        "\n",
        "# Solution\n",
        "'''\n",
        "What we can do additionally is to also XOR all values between 1 and n:\n",
        "\n",
        "1 ^ 2 ^ ... ^ n ^ A[0] ^ A[1] ^ ... ^ A[n - 1]\n",
        "This will give us a sequence of XOR statements where elements appear as follows:\n",
        "\n",
        "All values in the given list now appear twice:\n",
        "    once from taking all the values between 1 and n\n",
        "    once because they were in the original list\n",
        "The missing value appears exactly once:\n",
        "    once from taking all the values between 1 and n\n",
        "'''\n",
        "xor = 0\n",
        "for i in range(1,len(x)+2):\n",
        "  xor^=i\n",
        "\n",
        "for i in x:\n",
        "  xor^=i\n",
        "\n",
        "print(\"Missing number : \",xor)"
      ],
      "execution_count": null,
      "outputs": [
        {
          "output_type": "stream",
          "text": [
            "Non repetitive :  3\n",
            "Before swap : 3 and 4\n",
            "After swap : 4 and 3\n",
            "Missing number :  5\n"
          ],
          "name": "stdout"
        }
      ]
    },
    {
      "cell_type": "markdown",
      "metadata": {
        "id": "4NKbl7xBTW83"
      },
      "source": [
        "**Shift Operators**\n",
        "\n",
        "These operators are used to shift the bits of a number left or right thereby multiplying or dividing the number by two respectively. They can be used when we have to multiply or divide a number by two.\n",
        "\n",
        "**Bitwise right shift**: Shifts the bits of the number to the right and fills 0 on voids left as a result. Similar effect as of dividing the number with some power of two.\n",
        "\n",
        "```\n",
        "Binary of 10 = 1010\n",
        "Right shift by 1 bit = 0101 = 5\n",
        "10 >> 1  = 0101\n",
        "```\n",
        "\n",
        "**Bitwise left shift**: Shifts the bits of the number to the left and fills 0 on voids left as a result. Similar effect as of multiplying the number with some power of two.\n",
        "\n",
        "```\n",
        "Binary of 10 = 1010\n",
        "Left shift by 1 bit = 10100 = 20\n",
        "10 << 1  = 10100\n",
        "```\n"
      ]
    },
    {
      "cell_type": "code",
      "metadata": {
        "colab": {
          "base_uri": "https://localhost:8080/"
        },
        "id": "PJ65qxiXW_-q",
        "outputId": "67f77442-9faa-4b47-dc56-1f4139db81b8"
      },
      "source": [
        "# Shift operator (shift 1 bit only)\n",
        "\n",
        "a = 10\n",
        "b = -10\n",
        "\n",
        "# print bitwise right shift operator\n",
        "print(\"a >> 1 =\", a >> 1)\n",
        "print(\"b >> 1 =\", b >> 1)\n",
        "\n",
        "a = 5\n",
        "b = -10\n",
        "\n",
        "# print bitwise left shift operator\n",
        "print(\"a << 1 =\", a << 1)\n",
        "print(\"b << 1 =\", b << 1)"
      ],
      "execution_count": null,
      "outputs": [
        {
          "output_type": "stream",
          "text": [
            "a >> 1 = 5\n",
            "b >> 1 = -5\n",
            "a << 1 = 10\n",
            "b << 1 = -20\n"
          ],
          "name": "stdout"
        }
      ]
    },
    {
      "cell_type": "code",
      "metadata": {
        "colab": {
          "base_uri": "https://localhost:8080/"
        },
        "id": "6xob1C3TXph6",
        "outputId": "44605fcd-c9fc-4230-ed99-fa3ffe0c878e"
      },
      "source": [
        "# Shift operator (bit shifted by 2 position)\n",
        "\n",
        "# print bitwise right shift operator\n",
        "print(\"1 >> 2 =\", 1 >> 2)\n",
        "print(\"-1 >> 2 =\", -1 >> 2)\n",
        "\n",
        "# print bitwise left shift operator\n",
        "print(\" 1 << 2 =\", 1 << 2)\n",
        "print(\"-1 << 2 =\", -1 << 2)"
      ],
      "execution_count": null,
      "outputs": [
        {
          "output_type": "stream",
          "text": [
            "1 >> 2 = 0\n",
            "-1 >> 2 = -1\n",
            " 1 << 2 = 4\n",
            "-1 << 2 = -4\n"
          ],
          "name": "stdout"
        }
      ]
    },
    {
      "cell_type": "markdown",
      "metadata": {
        "id": "-vOYPl5xJ3_E"
      },
      "source": [
        "## **range function**\n",
        "\n",
        "The built-in function range() generates the integer numbers between\n",
        "the given start integer to the stop integer, i.e., It returns a\n",
        "range object. Using for loop, we can iterate over a sequence of numbers produced by the range() function.\n",
        "\n",
        "\n",
        "```python\n",
        "range(start, stop[, step])\n",
        "```\n",
        "\n",
        "It takes three arguments. Out of the three 2 arguments are optional. I.e., start and step are the optional arguments.\n",
        "\n",
        "* A **`start argument`** is a starting number of the sequence. i.e., lower limit. By default, it starts with 0 if not specified.\n",
        "\n",
        "* A **`stop argument`** is an upper limit. i.e., generate numbers up to this number, The range() doesn’t include this number in the result.\n",
        "\n",
        "* The **`step`** is a difference between each number in the result. The default value of the step is 1 if not specified.\n",
        "\n",
        "#### range() function Examples\n",
        "\n",
        "Let see all the possible scenarios now. Below are the three variant of range() function."
      ]
    },
    {
      "cell_type": "code",
      "metadata": {
        "id": "RRBhSybrXglM",
        "colab": {
          "base_uri": "https://localhost:8080/",
          "height": 34
        },
        "outputId": "cd2f2f0a-41d4-4ea5-fcb0-d314f702c6d1"
      },
      "source": [
        "# start from 0 and end at 3 (exclude 4 as index start from 0)\n",
        "list(range(4))    # step by default is 1"
      ],
      "execution_count": null,
      "outputs": [
        {
          "output_type": "execute_result",
          "data": {
            "text/plain": [
              "[0, 1, 2, 3]"
            ]
          },
          "metadata": {
            "tags": []
          },
          "execution_count": 4
        }
      ]
    },
    {
      "cell_type": "code",
      "metadata": {
        "id": "s9d7XANaKAyU",
        "colab": {
          "base_uri": "https://localhost:8080/",
          "height": 34
        },
        "outputId": "70877689-09d3-4677-f8f9-ee27d27572a0"
      },
      "source": [
        "# Print first 5 numbers using range function\n",
        "for i in range(5):\n",
        "    print(i, end=', ')"
      ],
      "execution_count": null,
      "outputs": [
        {
          "output_type": "stream",
          "text": [
            "0, 1, 2, 3, 4, "
          ],
          "name": "stdout"
        }
      ]
    },
    {
      "cell_type": "code",
      "metadata": {
        "id": "SXYrzkLXXkoS",
        "colab": {
          "base_uri": "https://localhost:8080/",
          "height": 34
        },
        "outputId": "b82b1b81-8b79-4d6f-df70-29b9231c14a0"
      },
      "source": [
        "# start from 1 and end at 9 (exclude 10)\n",
        "list(range(1,10))  # step by default is 1"
      ],
      "execution_count": null,
      "outputs": [
        {
          "output_type": "execute_result",
          "data": {
            "text/plain": [
              "[1, 2, 3, 4, 5, 6, 7, 8, 9]"
            ]
          },
          "metadata": {
            "tags": []
          },
          "execution_count": 19
        }
      ]
    },
    {
      "cell_type": "code",
      "metadata": {
        "id": "fBGGvIYVYPR1",
        "colab": {
          "base_uri": "https://localhost:8080/",
          "height": 34
        },
        "outputId": "e12b6a81-cdea-4316-8466-670cdff1bdcd"
      },
      "source": [
        "# start from 2 and end at 9 (exclude 10)\n",
        "list(range(2,10,1))   # step by default 1"
      ],
      "execution_count": null,
      "outputs": [
        {
          "output_type": "execute_result",
          "data": {
            "text/plain": [
              "[2, 3, 4, 5, 6, 7, 8, 9]"
            ]
          },
          "metadata": {
            "tags": []
          },
          "execution_count": 6
        }
      ]
    },
    {
      "cell_type": "code",
      "metadata": {
        "id": "yUkeKcD7W_IV",
        "colab": {
          "base_uri": "https://localhost:8080/",
          "height": 51
        },
        "outputId": "808a760c-f41a-4914-eb98-6a4b331e7d97"
      },
      "source": [
        "# using start, stop, and step arguments in range()\n",
        "print(\"Printing All even numbers between 2 and 10 using range()\")\n",
        "\n",
        "for i in range(2, 10, 2):\n",
        "    print(i, end=', ')"
      ],
      "execution_count": null,
      "outputs": [
        {
          "output_type": "stream",
          "text": [
            "Printing All even numbers between 2 and 10 using range()\n",
            "2, 4, 6, 8, "
          ],
          "name": "stdout"
        }
      ]
    },
    {
      "cell_type": "markdown",
      "metadata": {
        "id": "HZsKucujpioD"
      },
      "source": [
        "The first is to use a negative or down step value. i.e., set the step argument of a range() to -1.\n",
        "\n",
        "For example, if you want to display a number sequence like [5, 4, 3, 2, 1, 0] i.e., we want reverse iteration or backward iteration of for loop with range() function.\n",
        "\n",
        "Let’s see how to loop backward using indices in Python to display a range of numbers from 5 to 0."
      ]
    },
    {
      "cell_type": "code",
      "metadata": {
        "id": "XqY-Rbfdptsq",
        "colab": {
          "base_uri": "https://localhost:8080/",
          "height": 51
        },
        "outputId": "de3a4da9-3908-47df-ef7b-cd470595cf7c"
      },
      "source": [
        "print (\"Displaying a range of numbers by reverse order\")\n",
        "for i in range(5, -1, -1):\n",
        "    print (i, end=', ')"
      ],
      "execution_count": null,
      "outputs": [
        {
          "output_type": "stream",
          "text": [
            "Displaying a range of numbers by reverse order\n",
            "5, 4, 3, 2, 1, 0, "
          ],
          "name": "stdout"
        }
      ]
    },
    {
      "cell_type": "code",
      "metadata": {
        "id": "2lpkz0Gty6qx",
        "colab": {
          "base_uri": "https://localhost:8080/",
          "height": 119
        },
        "outputId": "91a177e8-7817-4268-dd95-0468b83636f7"
      },
      "source": [
        "print(\"Printing reverse range using reversed()\")\n",
        "for i in reversed(range(0, 5)):\n",
        "    print(i)"
      ],
      "execution_count": null,
      "outputs": [
        {
          "output_type": "stream",
          "text": [
            "Printing reverse range using reversed()\n",
            "4\n",
            "3\n",
            "2\n",
            "1\n",
            "0\n"
          ],
          "name": "stdout"
        }
      ]
    },
    {
      "cell_type": "code",
      "metadata": {
        "id": "vQmROoAey_3-",
        "colab": {
          "base_uri": "https://localhost:8080/",
          "height": 68
        },
        "outputId": "027424ba-6290-4e6b-8074-dcf9a9cfa875"
      },
      "source": [
        "print(\"Checking the type\")\n",
        "print(type(range(0, 5)))\n",
        "print(type(reversed(range(0,5))))"
      ],
      "execution_count": null,
      "outputs": [
        {
          "output_type": "stream",
          "text": [
            "Checking the type\n",
            "<class 'range'>\n",
            "<class 'range_iterator'>\n"
          ],
          "name": "stdout"
        }
      ]
    },
    {
      "cell_type": "code",
      "metadata": {
        "id": "kCRIjNtDZL_6",
        "colab": {
          "base_uri": "https://localhost:8080/",
          "height": 51
        },
        "outputId": "e3bcde12-aaa3-44bc-f694-a506c4a1a54c"
      },
      "source": [
        "# using start, stop, and step arguments in range()\n",
        "print(\"Printing All numbers between 10 to 2 with decrement of -1 using range()\")\n",
        "\n",
        "for i in range(10, 2, -1):\n",
        "    print(i, end=', ')"
      ],
      "execution_count": null,
      "outputs": [
        {
          "output_type": "stream",
          "text": [
            "Printing All numbers between 10 to 2 with decrement of -1 using range()\n",
            "10, 9, 8, 7, 6, 5, 4, 3, "
          ],
          "name": "stdout"
        }
      ]
    },
    {
      "cell_type": "markdown",
      "metadata": {
        "id": "bu6ujXOAY8y2"
      },
      "source": [
        "**Points to remember about range() function arguments**\n",
        "\n",
        "* **range()** only works with the integers.\n",
        "\n",
        "* All arguments must be integers. You can not use float number or any other type in a start, stop and step argument of a range().\n",
        "\n",
        "* All three arguments can be positive or negative.\n",
        "\n",
        "* The step value must not be zero. If a step is zero Python raises a ValueError exception"
      ]
    },
    {
      "cell_type": "code",
      "metadata": {
        "id": "Fd8mHV4aoRe-"
      },
      "source": [
        "# >> list(range(1,10,0))\n",
        "\n",
        "# ValueError: range() arg 3 must not be zero"
      ],
      "execution_count": null,
      "outputs": []
    },
    {
      "cell_type": "code",
      "metadata": {
        "id": "Tqg1Zo9wouce",
        "colab": {
          "base_uri": "https://localhost:8080/",
          "height": 34
        },
        "outputId": "bca4da0d-96ab-4b29-d4c1-b967d9b11f51"
      },
      "source": [
        "# Printing inclusive range (index start from 1 and end at n)\n",
        "\n",
        "start = 1\n",
        "stop  = 5\n",
        "step  = 1\n",
        "stop +=step # now stop is 6\n",
        "\n",
        "for i in range(start, stop, step):\n",
        "    print(i, end=', ')"
      ],
      "execution_count": null,
      "outputs": [
        {
          "output_type": "stream",
          "text": [
            "1, 2, 3, 4, 5, "
          ],
          "name": "stdout"
        }
      ]
    },
    {
      "cell_type": "markdown",
      "metadata": {
        "id": "LOt7bFPjcsxG"
      },
      "source": [
        "### **`Note`**\n",
        "\n",
        "```\n",
        "In for i in range() i is the iterator variable.\n",
        "```\n",
        "To understand what does for i in range() mean in Python, first, we need to understand the working of range() function.  The range() function uses the generator to produce numbers within a range, i.e., it doesn’t produce all numbers at once. It generates the next value only when for **loop** iteration asked for it."
      ]
    },
    {
      "cell_type": "code",
      "metadata": {
        "id": "Z9iDzYPKjyKY",
        "colab": {
          "base_uri": "https://localhost:8080/",
          "height": 102
        },
        "outputId": "447e443d-9110-4cdd-beab-5a5ebcde85f4"
      },
      "source": [
        "# Excersice (using range)\n",
        "'''\n",
        "1\n",
        "2 2\n",
        "3 3 3\n",
        "4 4 4 4\n",
        "5 5 5 5 5\n",
        "'''\n",
        "\n",
        "for i in range(1,6):\n",
        "  for j in range(i):\n",
        "    print(i,end= ' ')\n",
        "  print()"
      ],
      "execution_count": null,
      "outputs": [
        {
          "output_type": "stream",
          "text": [
            "1 \n",
            "2 2 \n",
            "3 3 3 \n",
            "4 4 4 4 \n",
            "5 5 5 5 5 \n"
          ],
          "name": "stdout"
        }
      ]
    },
    {
      "cell_type": "code",
      "metadata": {
        "id": "c8t8c2NA2K6S",
        "colab": {
          "base_uri": "https://localhost:8080/",
          "height": 54
        },
        "outputId": "45b101af-4763-4cf3-dc1d-7dee2abec7df"
      },
      "source": [
        "# In these example, we used funtion and generator\n",
        "# which covered in the bottom of section\n",
        "\n",
        "def char_range(a,b):\n",
        "  for i in range(ord(a),ord(b)+1):\n",
        "    yield i\n",
        "\n",
        "val = []\n",
        "for i in char_range('a','z'):\n",
        "  val.append(chr(i))\n",
        "\n",
        "print(val)"
      ],
      "execution_count": null,
      "outputs": [
        {
          "output_type": "stream",
          "text": [
            "['a', 'b', 'c', 'd', 'e', 'f', 'g', 'h', 'i', 'j', 'k', 'l', 'm', 'n', 'o', 'p', 'q', 'r', 's', 't', 'u', 'v', 'w', 'x', 'y', 'z']\n"
          ],
          "name": "stdout"
        }
      ]
    },
    {
      "cell_type": "markdown",
      "metadata": {
        "id": "aNIKR6qpJrdi"
      },
      "source": [
        "## **Float range**\n",
        "\n",
        "```\n",
        "Python’s range() function doesn’t support the float numbers.\n",
        "```\n",
        "i.e.,\n",
        "we cannot use floating-point or non-integer numbers in any of its arguments. we can use only integer numbers. However, we can create a custom range function where we can use float numbers like 0.1 or 1.6 in any of its arguments. I have demonstrated this in the below example.\n",
        "\n"
      ]
    },
    {
      "cell_type": "code",
      "metadata": {
        "id": "qVvKtugQJw4K",
        "colab": {
          "base_uri": "https://localhost:8080/",
          "height": 34
        },
        "outputId": "7defe427-aac1-47a2-e1d7-6544c652064c"
      },
      "source": [
        "def frange(start, stop=None, step=None):\n",
        "\n",
        "    if step==None:\n",
        "        step=1.0\n",
        "\n",
        "    if stop==None:\n",
        "        stop = start\n",
        "        start = 0.0\n",
        "\n",
        "    while True:\n",
        "        if (step>0 and start>=stop):\n",
        "            break\n",
        "        elif (step<0 and start<=stop):\n",
        "            break\n",
        "        yield start\n",
        "        start +=step\n",
        "\n",
        "res = frange(5.5,-5.5,-1)\n",
        "print(list(res))"
      ],
      "execution_count": null,
      "outputs": [
        {
          "output_type": "stream",
          "text": [
            "[5.5, 4.5, 3.5, 2.5, 1.5, 0.5, -0.5, -1.5, -2.5, -3.5, -4.5]\n"
          ],
          "name": "stdout"
        }
      ]
    },
    {
      "cell_type": "markdown",
      "metadata": {
        "id": "YlhFLWNZGqqr"
      },
      "source": [
        "## 1️⃣ **Imperative programming**\n",
        "\n",
        "### **`Note`**\n",
        "```\n",
        "As if now, Don't look at the code, only understand the concept, the code will be explained in below few section.\n",
        "```\n",
        "\n",
        "Imperative: Computation is performed as a direct change to program state. This style is especially useful when manipulating data structures and produces elegant yet simple code. Python fully implements this paradigm.\n",
        "\n",
        "In imperative programming, you focus on how a program operates. Programs change state information as needed in order to achieve a goal. Here’s an example using my_list:\n",
        "\n",
        "\n",
        "```python\n",
        "sum = 0\n",
        "for x in my_list:\n",
        "    sum += x\n",
        "print(sum)\n",
        "```\n",
        "Unlike the previous examples, the value of sum changes with each iteration of the loop. As a result, sum has state. When a variable has state, something must maintain that state, which means that the variable is tied to a specific processor. Imperative coding works on simple applications, but code executes too slowly for optimal results on complex data science applications."
      ]
    },
    {
      "cell_type": "markdown",
      "metadata": {
        "id": "ai9MvwW7hbXV"
      },
      "source": [
        "## **For loop**\n",
        "\n",
        "The for loop in Python is used to iterate over a sequence (list, tuple, string) or other iterable objects. Iterating over a sequence is called traversal.\n",
        "\n",
        "### **Syntax of for Loop**\n",
        "\n",
        "```python\n",
        "for val in sequence:\n",
        "\tBody of for\n",
        "```\n",
        "\n",
        "Here, val is the variable that takes the value of the item inside the sequence on each iteration.\n",
        "\n",
        "Loop continues until we reach the last item in the sequence.\n",
        "The body of for loop is separated from the rest of the code using indentation."
      ]
    },
    {
      "cell_type": "code",
      "metadata": {
        "id": "Sb5On_oohbXW",
        "outputId": "e8d489c5-ff50-45dc-fbbb-eeb04841b6d1"
      },
      "source": [
        "# for loop\n",
        "for item in 'Teacher':\n",
        "    print(item)"
      ],
      "execution_count": null,
      "outputs": [
        {
          "output_type": "stream",
          "text": [
            "T\n",
            "e\n",
            "a\n",
            "c\n",
            "h\n",
            "e\n",
            "r\n"
          ],
          "name": "stdout"
        }
      ]
    },
    {
      "cell_type": "code",
      "metadata": {
        "id": "Xpkw1az8hbXc",
        "colab": {
          "base_uri": "https://localhost:8080/",
          "height": 425
        },
        "outputId": "dbf8f4bc-7f5b-42fb-ca44-33c528999fe6"
      },
      "source": [
        "for i in ['Hello','Good ','Morning','Ryan']:\n",
        "    print(i)\n",
        "print('-----------------')\n",
        "for i in range(4):\n",
        "    print(i)\n",
        "print('-----------------')\n",
        "for i in range(2,8):\n",
        "    print(i)\n",
        "print('-----------------')\n",
        "for i in range(2,8,3):\n",
        "    print(i)\n",
        "print('-----------------')\n",
        "for i in [5,6,7,8]:\n",
        "    print(i)"
      ],
      "execution_count": null,
      "outputs": [
        {
          "output_type": "stream",
          "text": [
            "Hello\n",
            "Good \n",
            "Morning\n",
            "Ryan\n",
            "-----------------\n",
            "0\n",
            "1\n",
            "2\n",
            "3\n",
            "-----------------\n",
            "2\n",
            "3\n",
            "4\n",
            "5\n",
            "6\n",
            "7\n",
            "-----------------\n",
            "2\n",
            "5\n",
            "-----------------\n",
            "5\n",
            "6\n",
            "7\n",
            "8\n"
          ],
          "name": "stdout"
        }
      ]
    },
    {
      "cell_type": "code",
      "metadata": {
        "id": "_CCIiLEyhbXn",
        "colab": {
          "base_uri": "https://localhost:8080/",
          "height": 85
        },
        "outputId": "2788b314-471e-423c-aab3-b5347085fe9e"
      },
      "source": [
        "# Program to find the sum of all numbers stored in a list\n",
        "\n",
        "print('\\n# ------ Without using Inbuilt sum() Function-----#\\n')\n",
        "\n",
        "# List of numbers\n",
        "numbers = [6, 5, 3, 8, 4, 2, 5, 4, 11]\n",
        "\n",
        "# variable to store the sum\n",
        "total = 0\n",
        "\n",
        "# iterate over the list\n",
        "for val in numbers:\n",
        "\ttotal = total+val\n",
        "\n",
        "print(\"The total is\", total)"
      ],
      "execution_count": null,
      "outputs": [
        {
          "output_type": "stream",
          "text": [
            "\n",
            "# ------ Without using Inbuilt sum() Function-----#\n",
            "\n",
            "The total is 48\n"
          ],
          "name": "stdout"
        }
      ]
    },
    {
      "cell_type": "code",
      "metadata": {
        "id": "J7i0YoZvXkzB",
        "colab": {
          "base_uri": "https://localhost:8080/",
          "height": 34
        },
        "outputId": "3c55bb51-f262-4c92-aa32-620216cca368"
      },
      "source": [
        "# sum(iterable, start)\n",
        "'''\n",
        "iterable : iterable can be anything list , tuples or dictionaries, but most importantly it should be numbers.\n",
        "start : this start is added to the sum of numbers in the iterable.\n",
        "\n",
        "If start is not given in the syntax , it is assumed to be 0.\n",
        "'''\n",
        "print(sum(numbers))"
      ],
      "execution_count": null,
      "outputs": [
        {
          "output_type": "stream",
          "text": [
            "48\n"
          ],
          "name": "stdout"
        }
      ]
    },
    {
      "cell_type": "code",
      "metadata": {
        "id": "0C2QlTQjhbXv",
        "outputId": "6fd7ab55-e1c9-4f97-d022-1af72c9399cd"
      },
      "source": [
        "for i in range(4):\n",
        "    for j in range(3):\n",
        "        print(f'({i},{j})')"
      ],
      "execution_count": null,
      "outputs": [
        {
          "output_type": "stream",
          "text": [
            "(0,0)\n",
            "(0,1)\n",
            "(0,2)\n",
            "(1,0)\n",
            "(1,1)\n",
            "(1,2)\n",
            "(2,0)\n",
            "(2,1)\n",
            "(2,2)\n",
            "(3,0)\n",
            "(3,1)\n",
            "(3,2)\n"
          ],
          "name": "stdout"
        }
      ]
    },
    {
      "cell_type": "code",
      "metadata": {
        "id": "8YEEOMHEhbX1",
        "outputId": "bc4a1dd8-2cea-494a-df7d-5dd9c82f6c69"
      },
      "source": [
        "#array\n",
        "num = [1,2,3,4,5]\n",
        "for i in num:\n",
        "    print('$'*i)"
      ],
      "execution_count": null,
      "outputs": [
        {
          "output_type": "stream",
          "text": [
            "$\n",
            "$$\n",
            "$$$\n",
            "$$$$\n",
            "$$$$$\n"
          ],
          "name": "stdout"
        }
      ]
    },
    {
      "cell_type": "code",
      "metadata": {
        "id": "KQpnsA_ohbX7",
        "colab": {
          "base_uri": "https://localhost:8080/",
          "height": 145
        },
        "outputId": "0f1b9dbd-4049-49a0-9316-e4e144b12ea4"
      },
      "source": [
        "#Exercise!\n",
        "\n",
        "'''\n",
        "Display the image below to the right hand side where the 0 is going to be ' ',\n",
        "and the 1 is going to be '*'. This will reveal an image!\n",
        "'''\n",
        "\n",
        "picture = [\n",
        "  [0,0,0,1,0,0,0],\n",
        "  [0,0,1,1,1,0,0],\n",
        "  [0,1,1,1,1,1,0],\n",
        "  [1,1,1,1,1,1,1],\n",
        "  [0,0,0,1,0,0,0],\n",
        "  [0,0,0,1,0,0,0]\n",
        "]\n",
        "\n",
        "# ---------- Code ----------#\n",
        "\n",
        "for i in picture:\n",
        "    for j in i:\n",
        "        if j==0:\n",
        "            print(' ', end='')  # when we use print() defualt end='\\n' i.e next line but we want ouput to in same line so end=''\n",
        "        else:\n",
        "            print('*',end= '')\n",
        "    print('')\n",
        "\n",
        "print(\"Wow it's Tree\")\n"
      ],
      "execution_count": null,
      "outputs": [
        {
          "output_type": "stream",
          "text": [
            "   *   \n",
            "  ***  \n",
            " ***** \n",
            "*******\n",
            "   *   \n",
            "   *   \n",
            "Wow it's Tree\n"
          ],
          "name": "stdout"
        }
      ]
    },
    {
      "cell_type": "code",
      "metadata": {
        "id": "qtp2N74QmpfE",
        "colab": {
          "base_uri": "https://localhost:8080/",
          "height": 51
        },
        "outputId": "4f871d13-7de9-4e16-eb3a-84f9e7cef79b"
      },
      "source": [
        "# If loop inside print statement\n",
        "width = 0\n",
        "for i in range(20):\n",
        "  print(i , end = ' ' if width<9 else '\\n')\n",
        "  width+=1\n",
        "  if width==10:\n",
        "    width = 0"
      ],
      "execution_count": null,
      "outputs": [
        {
          "output_type": "stream",
          "text": [
            "0 1 2 3 4 5 6 7 8 9\n",
            "10 11 12 13 14 15 16 17 18 19\n"
          ],
          "name": "stdout"
        }
      ]
    },
    {
      "cell_type": "code",
      "metadata": {
        "colab": {
          "base_uri": "https://localhost:8080/"
        },
        "id": "Tt_TP-vorcUM",
        "outputId": "0ebb041e-bc41-4f6f-ccfb-348962a25565"
      },
      "source": [
        "#@title Excercise :- Print each digit of a number (from first to last) { vertical-output: true, display-mode: \"form\" }\n",
        "\n",
        "# This code will be hidden when the notebook is loaded.\n",
        "\n",
        "print(\n",
        "'''\n",
        "Input : 12345\n",
        "Output : 1 2 3 4 5\n",
        "'''\n",
        ")\n",
        "import math\n",
        "\n",
        "num = 12345\n",
        "\n",
        "for i in range(int(math.log(num,10)),-1,-1):\n",
        "\n",
        "  temp = ( num // (10**i) ) % 10\n",
        "  print(temp, end = ', ')"
      ],
      "execution_count": null,
      "outputs": [
        {
          "output_type": "stream",
          "text": [
            "\n",
            "Input : 12345\n",
            "Output : 1 2 3 4 5\n",
            "\n",
            "1, 2, 3, 4, 5, "
          ],
          "name": "stdout"
        }
      ]
    },
    {
      "cell_type": "code",
      "metadata": {
        "colab": {
          "base_uri": "https://localhost:8080/"
        },
        "id": "cwGu_fyIqdrd",
        "outputId": "4ec0bb4e-efe8-4c1e-eb14-4dfbbf77c679"
      },
      "source": [
        "## Print each digit of number\n",
        "\n",
        "# Input : 12345\n",
        "# Output : 1, 2, 3, 4, 5\n",
        "\n",
        "import math\n",
        "\n",
        "num = 12345\n",
        "\n",
        "for i in range(int(math.log(num,10)),-1,-1):\n",
        "\n",
        "  temp = ( num // (10**i) ) % 10\n",
        "  print(temp, end = '\\t')"
      ],
      "execution_count": null,
      "outputs": [
        {
          "output_type": "stream",
          "text": [
            "1\t2\t3\t4\t5\t"
          ],
          "name": "stdout"
        }
      ]
    },
    {
      "cell_type": "code",
      "metadata": {
        "colab": {
          "base_uri": "https://localhost:8080/"
        },
        "id": "guvPqv_KceHN",
        "outputId": "5f33c430-1ae6-4b51-b05c-1ed12db6b934"
      },
      "source": [
        "# Excerise : find the two largest from the array\n",
        "\n",
        "nums = [1,4,3,2]\n",
        "\n",
        "first = float('-inf')\n",
        "\n",
        "for num in nums:\n",
        "    if num > first:\n",
        "        second = first\n",
        "        first = num\n",
        "    elif num > second:\n",
        "        second = num\n",
        "\n",
        "print(first,second)"
      ],
      "execution_count": null,
      "outputs": [
        {
          "output_type": "stream",
          "text": [
            "4 3\n"
          ],
          "name": "stdout"
        }
      ]
    },
    {
      "cell_type": "markdown",
      "metadata": {
        "id": "DNHab03jhbXM"
      },
      "source": [
        "## **While loop**\n",
        "\n",
        "\n",
        "The while loop in Python is used to iterate over a block of code as long as the test expression (condition) is true.\n",
        "\n",
        "### **`NOTE`**\n",
        "\n",
        "We generally use this loop when we don't know the number of times to iterate beforehand.\n",
        "\n",
        "```\n",
        "The while loop is somewhat similar to an if statement, it executes the code inside,\n",
        "if the condition is True. However, as opposed to the if statement, the\n",
        "while loop continues to execute the code repeatedly as long as the condition is True.\n",
        "```\n",
        "Format of while loops\n",
        "\n",
        "```python\n",
        "while condition:\n",
        "  expression\n",
        "```\n",
        "\n",
        "In the while loop, test expression is checked first. The body of the loop is entered only if the test_expression evaluates to True.\n",
        "\n",
        "After one iteration, the test expression is checked again. This process continues until the test_expression evaluates to False.\n"
      ]
    },
    {
      "cell_type": "code",
      "metadata": {
        "id": "92jiZHJwW5J-",
        "colab": {
          "base_uri": "https://localhost:8080/"
        },
        "outputId": "45518ede-9260-41f1-9af0-d4d44c0183c8"
      },
      "source": [
        "'''Example to illustrate\n",
        "the use of else statement\n",
        "with the while loop'''\n",
        "\n",
        "counter = 0\n",
        "\n",
        "while counter < 3:\n",
        "    print(\"Inside loop\")\n",
        "    counter = counter + 1\n",
        "else:\n",
        "    print(\"Inside else\")"
      ],
      "execution_count": null,
      "outputs": [
        {
          "output_type": "stream",
          "text": [
            "Inside loop\n",
            "Inside loop\n",
            "Inside loop\n",
            "Inside else\n"
          ],
          "name": "stdout"
        }
      ]
    },
    {
      "cell_type": "code",
      "metadata": {
        "id": "cHRvymrHUKJP",
        "colab": {
          "base_uri": "https://localhost:8080/"
        },
        "outputId": "0275f18d-e56d-43ff-a23c-c5445ff03940"
      },
      "source": [
        "# Python interprets any non-zero value as True.\n",
        "# And None and 0 are interpreted as False.\n",
        "\n",
        "# While + else statement\n",
        "\n",
        "error = 20\n",
        "\n",
        "while error > 1:\n",
        "  error /= 2\n",
        "  print(error)\n",
        "else:\n",
        "  print(\"Loop break\")"
      ],
      "execution_count": null,
      "outputs": [
        {
          "output_type": "stream",
          "text": [
            "10.0\n",
            "5.0\n",
            "2.5\n",
            "1.25\n",
            "0.625\n",
            "Loop break\n"
          ],
          "name": "stdout"
        }
      ]
    },
    {
      "cell_type": "code",
      "metadata": {
        "id": "2k807SVghbXO",
        "outputId": "408175bd-7ac8-4779-c0ff-4c5d2811cce6"
      },
      "source": [
        "# Create a pattern using while loop\n",
        "\n",
        "i=1\n",
        "while (i<5):\n",
        "    print('*'*i)\n",
        "    i+=1"
      ],
      "execution_count": null,
      "outputs": [
        {
          "output_type": "stream",
          "text": [
            "*\n",
            "**\n",
            "***\n",
            "****\n"
          ],
          "name": "stdout"
        }
      ]
    },
    {
      "cell_type": "code",
      "metadata": {
        "id": "DKYEVCZM8Cij",
        "colab": {
          "base_uri": "https://localhost:8080/"
        },
        "outputId": "7865e086-4ee0-4f2d-8cf1-eda34ba0018b"
      },
      "source": [
        "# The following programs ask the user to enter some numbers, and then return their sum\n",
        "\n",
        "n = int(input(\"Enter n : \"))\n",
        "\n",
        "sum = 0\n",
        "i = 0\n",
        "while i<n:\n",
        "  val = int(input(\"Enter number : \"))\n",
        "  sum +=val\n",
        "  i = i+1\n",
        "\n",
        "print(sum)"
      ],
      "execution_count": null,
      "outputs": [
        {
          "output_type": "stream",
          "text": [
            "Enter n : 4\n",
            "Enter number : 1\n",
            "Enter number : 2\n",
            "Enter number : 3\n",
            "Enter number : 4\n",
            "10\n"
          ],
          "name": "stdout"
        }
      ]
    },
    {
      "cell_type": "code",
      "metadata": {
        "id": "CwvUdFFGVOkW",
        "colab": {
          "base_uri": "https://localhost:8080/"
        },
        "outputId": "83cc0533-057e-4a04-9c81-8a80945e8d1f"
      },
      "source": [
        "# While loop with if and else statement\n",
        "\n",
        "# Sum the number until stops\n",
        "sum = 0\n",
        "while True:\n",
        "  value = input(\"Enter value : \")\n",
        "  if value =='exit' or value=='e':\n",
        "    break\n",
        "  else:\n",
        "    sum +=int(value)\n",
        "print(sum)"
      ],
      "execution_count": null,
      "outputs": [
        {
          "output_type": "stream",
          "text": [
            "Enter value : 1\n",
            "Enter value : 2\n",
            "Enter value : 3\n",
            "Enter value : 4\n",
            "Enter value : 5\n",
            "Enter value : exit\n",
            "15\n"
          ],
          "name": "stdout"
        }
      ]
    },
    {
      "cell_type": "code",
      "metadata": {
        "colab": {
          "base_uri": "https://localhost:8080/"
        },
        "id": "TMhIPCuitfRQ",
        "outputId": "296441ce-f170-439f-9665-e9840f14cda7"
      },
      "source": [
        "#@title Excercise :- Print each digit of a number (from last to first) { vertical-output: true, display-mode: \"form\" }\n",
        "\n",
        "# This code will be hidden when the notebook is loaded.\n",
        "\n",
        "print(\n",
        "'''\n",
        "Input : 12345\n",
        "Output : 5, 4, 3, 2, 1\n",
        "'''\n",
        ")\n",
        "import math\n",
        "\n",
        "num = 12345\n",
        "\n",
        "while num:\n",
        "  temp = num%10\n",
        "  num//=10\n",
        "  print(temp, end = ', ')\n",
        "# This code will be hidden when the notebook is loaded.\n"
      ],
      "execution_count": null,
      "outputs": [
        {
          "output_type": "stream",
          "text": [
            "\n",
            "Input : 12345\n",
            "Output : 5, 4, 3, 2, 1\n",
            "\n",
            "5, 4, 3, 2, 1, "
          ],
          "name": "stdout"
        }
      ]
    },
    {
      "cell_type": "code",
      "metadata": {
        "id": "bBo5YnaOXoMj",
        "colab": {
          "base_uri": "https://localhost:8080/"
        },
        "outputId": "533d7d29-c707-45d4-a051-b5da363203b2"
      },
      "source": [
        "## Comparing for loop and while loop\n",
        "\n",
        "## Factorial using for loop and while loop\n",
        "\n",
        "value = int(input(\"Enter value : \"))\n",
        "method = input(\"Enter methods : \")\n",
        "\n",
        "if method=='f' or method =='for':\n",
        "  #---------------- For loop ---------------------#\n",
        "  fact = 1\n",
        "  for i in range(1,value+1):\n",
        "    fact=fact*i\n",
        "  print(f'Fact of 4 is : {fact}')\n",
        "\n",
        "else:\n",
        "  #---------------- While loop ---------------------#\n",
        "  facto = 1\n",
        "  i = 1\n",
        "  while i<=value:\n",
        "    facto = facto*i\n",
        "    i=i+1\n",
        "\n",
        "  print(f'facto of 4 is : {facto}')"
      ],
      "execution_count": null,
      "outputs": [
        {
          "output_type": "stream",
          "text": [
            "Enter value : 5\n",
            "Enter methods : f\n",
            "Fact of 4 is : 120\n"
          ],
          "name": "stdout"
        }
      ]
    },
    {
      "cell_type": "code",
      "metadata": {
        "id": "icktRb2B9xIq",
        "colab": {
          "base_uri": "https://localhost:8080/"
        },
        "outputId": "e6941c7a-e50d-4616-dca5-65b3c4eb5da8"
      },
      "source": [
        "## Compair for loop and while loop in terms of list\n",
        "\n",
        "# Here no need to define the list\n",
        "for i in ['a','b','c']:\n",
        "  print(i)\n",
        "\n",
        "print('\\n')\n",
        "\n",
        "# Here we have to define the list\n",
        "arr = ['x','y','z']\n",
        "i=0\n",
        "while i<len(arr):\n",
        "  print(arr[i])\n",
        "  i=i+1"
      ],
      "execution_count": null,
      "outputs": [
        {
          "output_type": "stream",
          "text": [
            "a\n",
            "b\n",
            "c\n",
            "\n",
            "\n",
            "x\n",
            "y\n",
            "z\n"
          ],
          "name": "stdout"
        }
      ]
    },
    {
      "cell_type": "markdown",
      "metadata": {
        "id": "YLmVLirubqtc"
      },
      "source": [
        "### **Reference**\n",
        "\n",
        "- [https://www.programiz.com/python-programming/while-loop](https://www.programiz.com/python-programming/while-loop)"
      ]
    },
    {
      "cell_type": "markdown",
      "metadata": {
        "id": "W0DyxEVGvy3i"
      },
      "source": [
        "## **Iterables vs Iterators**\n",
        "\n",
        "\n",
        "###  *`Iterables`*\n",
        "\n",
        "```\n",
        "An iterable is any Python object capable of returning its members one at a time,\n",
        "permitting it to be iterated over in a for-loop. Familiar examples of iterables include lists,\n",
        "tuples, and strings, set,dictionary - any such sequence can be iterated over in a for-loop.\n",
        "```\n",
        "\n",
        "###  *`Iterators`*\n",
        "\n",
        "```\n",
        "Iterator in Python is simply an object that can be iterated upon. An object which will return data, one element at\n",
        "a time.\n",
        "```\n",
        "* An iterator is an object representing a stream of data.\n",
        "\n",
        "* It returns the data one element at a time.\n",
        "\n",
        "* A Python iterator must support a method called  __ next__() that takes no arguments and always returns the next element of the stream.\n",
        "\n",
        "* If there are no more elements in the stream,\n",
        "  __ next__() must raise the StopIteration exception.\n",
        "\n",
        "* Iterators don’t have to be finite.It’s perfectly reasonable to write an iterator that produces an infinite stream of data.\n",
        "\n",
        "###  *`Iterables vs Iterators`*\n",
        "\n",
        "```\n",
        "In Python,Iterable is anything you can loop over with a for loop.\n",
        "\n",
        "An object is called an iterable if u can get an iterator out of it.\n",
        "\n",
        "1. Calling iter() function on an iterable gives us an iterator.\n",
        "\n",
        "2. Calling next() function on iterator gives us the next element.\n",
        "\n",
        "3. If the iterator is exhausted(if it has no more elements), calling next() raises StopIteration exception.\n",
        "```\n",
        "\n",
        "<p align=\"center\"><img src=\"https://miro.medium.com/max/500/1*YHHSa-AdCYxlERxRvXjZ2g.png\" height=\"70%\"/></>\n",
        "\n",
        "## **`Reference`**\n",
        "\n",
        "- [Analytics vidya - Medium](https://medium.com/analytics-vidhya/iterable-vs-iterator-in-python-eda1295a815e)\n",
        "\n",
        "I Know, this defination would not help you to understand things better ... so let me give break this defination into pieces\n",
        "\n"
      ]
    },
    {
      "cell_type": "code",
      "metadata": {
        "colab": {
          "base_uri": "https://localhost:8080/"
        },
        "id": "PvAk1r8rv3D4",
        "outputId": "2506ba63-93c8-4948-95e7-981b4abcb235"
      },
      "source": [
        "# Iterables : List, String, Tuple, Set, Dictionary\n",
        "\n",
        "# List\n",
        "arr = [1,2,3,4]\n",
        "for i in arr:\n",
        "  print(i,end=\" -> \")\n",
        "\n",
        "print(\"\\n\")\n",
        "\n",
        "# String\n",
        "arr = [\"Hey\",\"there\",\"I'm\", \"john\"]\n",
        "for i in arr:\n",
        "  print(i,end=\" -> \")\n",
        "\n",
        "print(\"\\n\")\n",
        "\n",
        "# tuple\n",
        "arr = (10,11,12,13)\n",
        "for i in arr:\n",
        "  print(i,end=\" -> \")\n",
        "\n",
        "print(\"\\n\")\n",
        "\n",
        "# Set\n",
        "arr = (\"Hello\", 12, 23)\n",
        "for i in arr:\n",
        "  print(i,end=\" -> \")\n",
        "\n",
        "print(\"\\n\")\n",
        "\n",
        "# Dict\n",
        "d  = {\n",
        "        'Name':'Hritik',\n",
        "        'age': 'DOB-Current',\n",
        "        'Salary':'NA',\n",
        "        'Fav emoji':\"👨‍💻\"\n",
        "     }\n",
        "for k,v in d.items():\n",
        "  print(\"{} : {}\".format(k,v))"
      ],
      "execution_count": null,
      "outputs": [
        {
          "output_type": "stream",
          "text": [
            "1 -> 2 -> 3 -> 4 -> \n",
            "\n",
            "Hey -> there -> I'm -> john -> \n",
            "\n",
            "10 -> 11 -> 12 -> 13 -> \n",
            "\n",
            "Hello -> 12 -> 23 -> \n",
            "\n",
            "Name : Hritik\n",
            "age : DOB-Current\n",
            "Salary : NA\n",
            "Fav emoji : 👨‍💻\n"
          ],
          "name": "stdout"
        }
      ]
    },
    {
      "cell_type": "code",
      "metadata": {
        "colab": {
          "base_uri": "https://localhost:8080/"
        },
        "id": "cVTKRGAe9M1R",
        "outputId": "2149e2ca-f200-413e-c401-57025b7ed687"
      },
      "source": [
        "# so how do we know, particular datatypes is iterable or not?\n",
        "# Solution :\n",
        "\n",
        "'''\n",
        "If that particular datatype contains __iter__ method , then we can say it is Iterable\n",
        "Here we can see that in dir of x (i.e list) , it contain __iter__ method , so it is iterable\n",
        "'''\n",
        "x = [5,10,15,20,25]\n",
        "print(dir(x))"
      ],
      "execution_count": null,
      "outputs": [
        {
          "output_type": "stream",
          "text": [
            "['__add__', '__class__', '__contains__', '__delattr__', '__delitem__', '__dir__', '__doc__', '__eq__', '__format__', '__ge__', '__getattribute__', '__getitem__', '__gt__', '__hash__', '__iadd__', '__imul__', '__init__', '__init_subclass__', '__iter__', '__le__', '__len__', '__lt__', '__mul__', '__ne__', '__new__', '__reduce__', '__reduce_ex__', '__repr__', '__reversed__', '__rmul__', '__setattr__', '__setitem__', '__sizeof__', '__str__', '__subclasshook__', 'append', 'clear', 'copy', 'count', 'extend', 'index', 'insert', 'pop', 'remove', 'reverse', 'sort']\n"
          ],
          "name": "stdout"
        }
      ]
    },
    {
      "cell_type": "code",
      "metadata": {
        "colab": {
          "base_uri": "https://localhost:8080/"
        },
        "id": "3pn9QbgO82Qq",
        "outputId": "cc1de4c9-0226-4fdb-efd1-037a33f11d90"
      },
      "source": [
        "# Calling iter() function on an iterable gives us an iterator.\n",
        "# So what does that means 🤔?\n",
        "\n",
        "# Solution:\n",
        "'''\n",
        "So here , when we call iter function over x which is list\n",
        "It generates an Iterator object of first element in x\n",
        "'''\n",
        "iterator = iter(x)\n",
        "print(iterator)"
      ],
      "execution_count": null,
      "outputs": [
        {
          "output_type": "stream",
          "text": [
            "<list_iterator object at 0x7f34758585f8>\n"
          ],
          "name": "stdout"
        }
      ]
    },
    {
      "cell_type": "code",
      "metadata": {
        "colab": {
          "base_uri": "https://localhost:8080/"
        },
        "id": "iX2Dq2w__TZn",
        "outputId": "f59e9568-7a76-4dec-a508-b845128466d8"
      },
      "source": [
        "# Calling next() function on iterator gives us the next element.\n",
        "'''\n",
        "so when, we pass iterator object inside next function, it generates the output, which is the\n",
        "first element of x.\n",
        "'''\n",
        "print(next(iterator))"
      ],
      "execution_count": null,
      "outputs": [
        {
          "output_type": "stream",
          "text": [
            "5\n"
          ],
          "name": "stdout"
        }
      ]
    },
    {
      "cell_type": "code",
      "metadata": {
        "colab": {
          "base_uri": "https://localhost:8080/"
        },
        "id": "Kqx1eqRG_TP4",
        "outputId": "77265c37-ea6a-43a8-a1c2-032fefb9d2dd"
      },
      "source": [
        "# So if we call next function again, it will return 2nd element of list x.\n",
        "print(next(iterator))"
      ],
      "execution_count": null,
      "outputs": [
        {
          "output_type": "stream",
          "text": [
            "10\n"
          ],
          "name": "stdout"
        }
      ]
    },
    {
      "cell_type": "code",
      "metadata": {
        "colab": {
          "base_uri": "https://localhost:8080/"
        },
        "id": "GtCquzWqANEd",
        "outputId": "20e8b372-845e-4275-d3b3-821c3b694492"
      },
      "source": [
        "# So if we call next function again, it will return 3nd element of list x.\n",
        "print(next(iterator))"
      ],
      "execution_count": null,
      "outputs": [
        {
          "output_type": "stream",
          "text": [
            "15\n"
          ],
          "name": "stdout"
        }
      ]
    },
    {
      "cell_type": "code",
      "metadata": {
        "colab": {
          "base_uri": "https://localhost:8080/"
        },
        "id": "6jvIZjSjASU2",
        "outputId": "67bd778e-7ba9-41aa-971d-322e8ef41c7e"
      },
      "source": [
        "# Now, we call again, it will return 4th element of list x.\n",
        "print(next(iterator))"
      ],
      "execution_count": null,
      "outputs": [
        {
          "output_type": "stream",
          "text": [
            "20\n"
          ],
          "name": "stdout"
        }
      ]
    },
    {
      "cell_type": "code",
      "metadata": {
        "colab": {
          "base_uri": "https://localhost:8080/"
        },
        "id": "S3lH7oB5AXuZ",
        "outputId": "c7cc1fca-6ced-4bdb-8c76-92e5b4842a3a"
      },
      "source": [
        "# Now, we call again, it will return 5th element of list x.\n",
        "print(next(iterator))"
      ],
      "execution_count": null,
      "outputs": [
        {
          "output_type": "stream",
          "text": [
            "25\n"
          ],
          "name": "stdout"
        }
      ]
    },
    {
      "cell_type": "code",
      "metadata": {
        "colab": {
          "base_uri": "https://localhost:8080/",
          "height": 189
        },
        "id": "lMYMqzJUAez5",
        "outputId": "593f0081-b0fe-44dd-e43d-0369c6f7db61"
      },
      "source": [
        "# So when we call again, what happen is it raise \"StopIteration\" exception.\n",
        "'''\n",
        "Because we reach end of list, and after that we don't have element in the list\n",
        "'''\n",
        "print(next(iterator))"
      ],
      "execution_count": null,
      "outputs": [
        {
          "output_type": "error",
          "ename": "StopIteration",
          "evalue": "ignored",
          "traceback": [
            "\u001b[0;31m---------------------------------------------------------------------------\u001b[0m",
            "\u001b[0;31mStopIteration\u001b[0m                             Traceback (most recent call last)",
            "\u001b[0;32m<ipython-input-26-d97d2ffad30d>\u001b[0m in \u001b[0;36m<module>\u001b[0;34m()\u001b[0m\n\u001b[1;32m      1\u001b[0m \u001b[0;31m# So when we call again, what happen is it raise \"Stop iteration\" exception.\u001b[0m\u001b[0;34m\u001b[0m\u001b[0;34m\u001b[0m\u001b[0;34m\u001b[0m\u001b[0m\n\u001b[0;32m----> 2\u001b[0;31m \u001b[0mprint\u001b[0m\u001b[0;34m(\u001b[0m\u001b[0mnext\u001b[0m\u001b[0;34m(\u001b[0m\u001b[0miterator\u001b[0m\u001b[0;34m)\u001b[0m\u001b[0;34m)\u001b[0m\u001b[0;34m\u001b[0m\u001b[0;34m\u001b[0m\u001b[0m\n\u001b[0m",
            "\u001b[0;31mStopIteration\u001b[0m: "
          ]
        }
      ]
    },
    {
      "cell_type": "code",
      "metadata": {
        "id": "c5_NNTb_BNTc"
      },
      "source": [
        "# NOTE\n",
        "\n",
        "'''\n",
        "That is how, for loop works, it calls iterables (list)\n",
        "then iterables calls, iterator (which return memory location of each element in list)\n",
        "Now to print the element in that perticular memory location we use \"Next\"\n",
        "Next is like a pointer , which keep track of element which processed.\n",
        "'''\n",
        "\n",
        "# Important point :\n",
        "\n",
        "'''\n",
        "For loop internally handle \"StopIteration\" error, after it reaches end of list.\n",
        "'''"
      ],
      "execution_count": null,
      "outputs": []
    },
    {
      "cell_type": "markdown",
      "metadata": {
        "id": "47sgiIhHtgrD"
      },
      "source": [
        "## **4 ways to find binary to decimal**"
      ]
    },
    {
      "cell_type": "code",
      "metadata": {
        "colab": {
          "base_uri": "https://localhost:8080/"
        },
        "id": "VLHc6Dc7trzW",
        "outputId": "57611cc6-77a8-4949-d8eb-380e800b66e1"
      },
      "source": [
        "# Method 01 : Without reversing the binary number\n",
        "\n",
        "# Input : Binary String\n",
        "def bin2dec_01(binary):\n",
        "    decimal = 0\n",
        "    l = len(binary)\n",
        "    for i in binary:\n",
        "        l = l - 1\n",
        "        decimal+= (2**l * int(i))\n",
        "    print(decimal)\n",
        "\n",
        "bin2dec_01('1011')\n",
        "\n",
        "# Input : Binary array\n",
        "def bin2dec_02(binary):\n",
        "    decimal = 0\n",
        "    l = len(binary)\n",
        "    for i in binary:\n",
        "        l = l - 1\n",
        "        decimal+= (2**l * i)\n",
        "    print(decimal)\n",
        "\n",
        "bin2dec_02([1,0,1,1])\n",
        "\n",
        "# Method 02: With Reversing the binary number\n",
        "\n",
        "# Input : Binary String\n",
        "def bin2dec_03(binary):\n",
        "    decimal = 0\n",
        "    for i,v in enumerate(list(binary)[::-1]):\n",
        "        decimal += (2**i) * int(v)\n",
        "    print(decimal)\n",
        "\n",
        "bin2dec_03('1011')\n",
        "\n",
        "# Input : Binary array\n",
        "def bin2dec_04(binary):\n",
        "    decimal = 0\n",
        "    for i,v in enumerate(binary[::-1]):\n",
        "        decimal+= (2**i) * v\n",
        "    print(decimal)\n",
        "\n",
        "bin2dec_04([1,0,1,1])\n",
        "\n",
        "# Method 03 : Using python in-built function\n",
        "\n",
        "# Input : Binary String\n",
        "def bin2dec_05(binary):\n",
        "    print(int(binary,2))\n",
        "\n",
        "bin2dec_05('1011')\n",
        "\n",
        "# Input : Binary array\n",
        "def bin2dec_06(binary):\n",
        "    res = ''\n",
        "    for i in binary:\n",
        "      res+=str(i)\n",
        "    print(int(res,2))\n",
        "\n",
        "bin2dec_06([1,0,1,1])\n",
        "\n",
        "# Method 04 : Using Bit manipulation (Faster)\n",
        "\n",
        "\n",
        "# Input : Binary String\n",
        "def bin2dec_07(binary):\n",
        "    res =  0\n",
        "    for i in list(binary):\n",
        "        res = (res << 1) + int(i)\n",
        "    print(res)\n",
        "\n",
        "bin2dec_07('1011')\n",
        "\n",
        "# Input : Binary Array\n",
        "def bin2dec_08(binary):\n",
        "    res =  0\n",
        "    for i in binary:\n",
        "        res = (res << 1) + i\n",
        "    print(res)\n",
        "\n",
        "bin2dec_08([1,0,1,1])"
      ],
      "execution_count": null,
      "outputs": [
        {
          "output_type": "stream",
          "text": [
            "11\n",
            "11\n",
            "11\n",
            "11\n",
            "11\n",
            "11\n",
            "11\n",
            "11\n"
          ],
          "name": "stdout"
        }
      ]
    },
    {
      "cell_type": "markdown",
      "metadata": {
        "id": "lv3Fxk2thbYC"
      },
      "source": [
        "## **2D - List**"
      ]
    },
    {
      "cell_type": "code",
      "metadata": {
        "id": "uvcIuN8UhbYF",
        "outputId": "66033dc9-1865-458c-b22e-4c6111e20bcb"
      },
      "source": [
        "#2D-List\n",
        "\n",
        "matrix = [[1,2,3],[4,5,6],[7,8,9]]\n",
        "for i in matrix:\n",
        "    print(i)\n",
        "\n",
        "print('-----print individual item-----')\n",
        "for i in matrix:\n",
        "    for j in i:\n",
        "        print(j)"
      ],
      "execution_count": null,
      "outputs": [
        {
          "output_type": "stream",
          "text": [
            "[1, 2, 3]\n",
            "[4, 5, 6]\n",
            "[7, 8, 9]\n",
            "-----print individual item-----\n",
            "1\n",
            "2\n",
            "3\n",
            "4\n",
            "5\n",
            "6\n",
            "7\n",
            "8\n",
            "9\n"
          ],
          "name": "stdout"
        }
      ]
    },
    {
      "cell_type": "code",
      "metadata": {
        "id": "FiNCg9aTcGI4",
        "colab": {
          "base_uri": "https://localhost:8080/",
          "height": 153
        },
        "outputId": "616b7816-abac-4df0-9ae4-b9ec7ff0bd01"
      },
      "source": [
        "# 2-d array of booleans using list comprehension:\n",
        "rows = int(input(\"Enter rows : \"))\n",
        "cols = int(input(\"Enter cols : \"))\n",
        "matrix = [[int(input(\"Enter value : \")) for col in range(cols)] for row in range(rows)]\n",
        "print(\"\\nMatrix : \",matrix)"
      ],
      "execution_count": null,
      "outputs": [
        {
          "output_type": "stream",
          "text": [
            "Enter rows : 2\n",
            "Enter cols : 2\n",
            "Enter value : 1\n",
            "Enter value : 2\n",
            "Enter value : 3\n",
            "Enter value : 4\n",
            "\n",
            "Matrix :  [[1, 2], [3, 4]]\n"
          ],
          "name": "stdout"
        }
      ]
    },
    {
      "cell_type": "code",
      "metadata": {
        "colab": {
          "base_uri": "https://localhost:8080/"
        },
        "id": "08_K5HEy6reh",
        "outputId": "d472e759-9eac-4991-e96f-96e8050ce637"
      },
      "source": [
        "row,col = 5,5\n",
        "\n",
        "M = [[0 for i in range(col)] for i in range(row)]\n",
        "\n",
        "for i in range(row):\n",
        "  for j in range(row):\n",
        "    M[i][j] = j\n",
        "\n",
        "for i in range(row):\n",
        "  for j in range(col):\n",
        "    print(M[i][j], end = \" \")\n",
        "  print()"
      ],
      "execution_count": null,
      "outputs": [
        {
          "output_type": "stream",
          "text": [
            "0 1 2 3 4 \n",
            "0 1 2 3 4 \n",
            "0 1 2 3 4 \n",
            "0 1 2 3 4 \n",
            "0 1 2 3 4 \n"
          ],
          "name": "stdout"
        }
      ]
    },
    {
      "cell_type": "code",
      "metadata": {
        "colab": {
          "base_uri": "https://localhost:8080/"
        },
        "id": "k-1Yk-sl76nt",
        "outputId": "1a9e84b8-3c06-4b4b-fcd2-d6495eed4d99"
      },
      "source": [
        "#@title Excersice :- Create a column matrix  { vertical-output: true, display-mode: \"both\" }\n",
        "\n",
        "\n",
        "# This code will be hidden when the notebook is loaded.\n",
        "print(\n",
        "  '''\n",
        "  Input :  [1,2,5,3,1,3]\n",
        "  Output :  1 1 1 1 1 1\n",
        "            0 1 1 1 0 1\n",
        "            0 0 1 1 0 1\n",
        "            0 0 1 0 0 0\n",
        "            0 0 0 0 0 0\n",
        "            0 0 0 0 0 0\n",
        "\n",
        "  Examplanation:\n",
        "\n",
        "  Given a list A = [1,2,5,3,1,3], the function should return\n",
        "  the NxN matrix, where N is size of list, every cell is colored\n",
        "  with either black (0) or white (1)\n",
        "\n",
        "  The first element of list A : 1\n",
        "  so only first cell is filled with '1'\n",
        "\n",
        "  The first element of list A : 2\n",
        "  so only first cell and second cell of 2nd column is filled with '1'\n",
        "\n",
        "  and so on.\n",
        "\n",
        "  Note : [Source code is hidden]\n",
        "  '''\n",
        "\n",
        ")\n",
        "\n",
        "# Sample code\n",
        "def solution(A):\n",
        "    n = len(A)\n",
        "    M = [[0 for j in range(n)] for i in range(n)]\n",
        "    for i in range(0,n,1):\n",
        "        for j in range(0,n,1):\n",
        "            if A[i]!=0:\n",
        "                M[j][i] = 1\n",
        "                A[i] = A[i]-1\n",
        "            else:\n",
        "                M[i][j] = 0\n",
        "\n",
        "    for i in range(0, n,1):\n",
        "        for j in range(0,n,1):\n",
        "            print (M[i][j], end = \" \")\n",
        "        print(\"\")\n",
        "\n",
        "# solution(A = [1,2,5,3,1,3])"
      ],
      "execution_count": null,
      "outputs": [
        {
          "output_type": "stream",
          "text": [
            "\n",
            "  Input :  [1,2,5,3,1,3]\n",
            "  Output :  1 1 1 1 1 1 \n",
            "            0 1 1 1 0 1 \n",
            "            0 0 1 1 0 1 \n",
            "            0 0 1 0 0 0 \n",
            "            0 0 0 0 0 0 \n",
            "            0 0 0 0 0 0\n",
            "\n",
            "  Examplanation:\n",
            "\n",
            "  Given a list A = [1,2,5,3,1,3], the function should return\n",
            "  the NxN matrix, where N is size of list, every cell is colored \n",
            "  with either black (0) or white (1)\n",
            "\n",
            "  The first element of list A : 1\n",
            "  so only first cell is filled with '1' \n",
            "\n",
            "  The first element of list A : 2\n",
            "  so only first cell and second cell of 2nd column is filled with '1' \n",
            "\n",
            "  and so on.\n",
            "\n",
            "  Note : [Source code is hidden]\n",
            "  \n"
          ],
          "name": "stdout"
        }
      ]
    },
    {
      "cell_type": "markdown",
      "metadata": {
        "id": "9U8JfbqGhbWJ"
      },
      "source": [
        "## **String - Inbuilt methods**"
      ]
    },
    {
      "cell_type": "code",
      "metadata": {
        "id": "hawMzB_whbWJ",
        "outputId": "5e3f6c5e-90f5-4922-bbe4-685b8a1dcfc6"
      },
      "source": [
        "# length of string including space\n",
        "c = 'hii buddy'\n",
        "print(len(c))"
      ],
      "execution_count": null,
      "outputs": [
        {
          "output_type": "stream",
          "text": [
            "9\n"
          ],
          "name": "stdout"
        }
      ]
    },
    {
      "cell_type": "code",
      "metadata": {
        "id": "wWPXS_o6hbWS",
        "colab": {
          "base_uri": "https://localhost:8080/",
          "height": 68
        },
        "outputId": "df8fcdcb-b73b-4109-8616-0c9ef294822b"
      },
      "source": [
        "# various methods for string\n",
        "\n",
        "msg = 'Python is the most popular langauge'\n",
        "\n",
        "# capitalize()\n",
        "'''\n",
        "capitalize() : method converts first character of a string to uppercase letter\n",
        "and lowercases all other characters, if any.\n",
        "'''\n",
        "\n",
        "print(msg.capitalize())\n",
        "\n",
        "# center()\n",
        "'''\n",
        "center() : The center() method returns a string which is padded with the specified character.\n",
        "\n",
        "center() Parameters\n",
        "  The center() method takes two arguments:\n",
        "\n",
        "  width - length of the string with padded characters\n",
        "  fillchar (optional) - padding character\n",
        "\n",
        "The fillchar argument is optional. If it's not provided, space is taken as default argument.\n",
        "'''\n",
        "\n",
        "string = \"Python is awesome\"\n",
        "\n",
        "new_string = string.center(24)\n",
        "\n",
        "print(\"Centered String: \", new_string)\n",
        "\n",
        "string = \"Python is awesome\"\n",
        "\n",
        "new_string = string.center(24, '*')\n",
        "\n",
        "print(\"Centered String: \", new_string)"
      ],
      "execution_count": null,
      "outputs": [
        {
          "output_type": "stream",
          "text": [
            "Python is the most popular langauge\n",
            "Centered String:     Python is awesome    \n",
            "Centered String:  ***Python is awesome****\n"
          ],
          "name": "stdout"
        }
      ]
    },
    {
      "cell_type": "code",
      "metadata": {
        "id": "46SeWJkvFJ12",
        "colab": {
          "base_uri": "https://localhost:8080/",
          "height": 51
        },
        "outputId": "49d54205-3141-4444-d0a6-9d8acf6a6d5f"
      },
      "source": [
        "# Count()\n",
        "'''\n",
        "The string count() method returns the number of occurrences of a substring in the given string.\n",
        "'''\n",
        "\n",
        "# String count() Parameters\n",
        "'''\n",
        "count() method only requires a single parameter for execution. However, it also has two optional parameters:\n",
        "\n",
        "substring - string whose count is to be found.\n",
        "start (Optional) - starting index within the string where search starts.\n",
        "end (Optional) - ending index within the string where search ends.\n",
        "'''\n",
        "# define string\n",
        "string = \"Python is awesome, isn't it?\"\n",
        "substring = \"is\"\n",
        "\n",
        "count = string.count(substring)\n",
        "\n",
        "# print count\n",
        "print(\"The count is:\", count)\n",
        "\n",
        "# Count number of occurrences of a given substring using start and end\n",
        "\n",
        "string = \"smile is awesome\"\n",
        "substring = \"e\"\n",
        "\n",
        "# count after first 'i' and before the last 'i'\n",
        "count = string.count(substring, 0, 5)\n",
        "\n",
        "print(\"The count is:\", count)"
      ],
      "execution_count": null,
      "outputs": [
        {
          "output_type": "stream",
          "text": [
            "The count is: 2\n",
            "The count is: 1\n"
          ],
          "name": "stdout"
        }
      ]
    },
    {
      "cell_type": "code",
      "metadata": {
        "id": "5XiGtr0zHDep",
        "colab": {
          "base_uri": "https://localhost:8080/",
          "height": 119
        },
        "outputId": "b6e179e0-6fc3-493e-d951-08740f233b0c"
      },
      "source": [
        "# endswith()\n",
        "'''\n",
        "The endswith() method returns True if a string ends with the specified suffix. If not, it returns False.\n",
        "\n",
        "The syntax of endswith() is:\n",
        "    str.endswith(suffix[, start[, end]])\n",
        "'''\n",
        "# Parameter\n",
        "\n",
        "'''\n",
        "Return Value from endswith()\n",
        "The endswith() method returns a boolean.\n",
        "\n",
        "It returns True if strings ends with the specified suffix.\n",
        "It returns False if string doesn't end with the specified suffix.\n",
        "'''\n",
        "\n",
        "text = \"Python is easy to learn.\"\n",
        "\n",
        "result = text.endswith('to learn')\n",
        "# returns False\n",
        "print(result)\n",
        "\n",
        "result = text.endswith('to learn.')\n",
        "# returns True\n",
        "print(result)\n",
        "\n",
        "result = text.endswith('Python is easy to learn.')\n",
        "# returns True\n",
        "print(result)\n",
        "\n",
        "# start parameter: 7\n",
        "# \"programming is easy to learn.\" string is searched\n",
        "result = text.endswith('learn.', 7)\n",
        "print(result)\n",
        "\n",
        "# Both start and end is provided\n",
        "# start: 7, end: 26\n",
        "# \"programming is easy\" string is searched\n",
        "\n",
        "result = text.endswith('is', 7, 26)\n",
        "# Returns False\n",
        "print(result)\n",
        "\n",
        "result = text.endswith('easy', 7, 26)\n",
        "# returns True\n",
        "print(result)"
      ],
      "execution_count": null,
      "outputs": [
        {
          "output_type": "stream",
          "text": [
            "False\n",
            "True\n",
            "True\n",
            "True\n",
            "False\n",
            "False\n"
          ],
          "name": "stdout"
        }
      ]
    },
    {
      "cell_type": "code",
      "metadata": {
        "id": "_4hpf-CbEnm8",
        "colab": {
          "base_uri": "https://localhost:8080/",
          "height": 119
        },
        "outputId": "29e9a195-d5a8-4973-aed2-f5611f101e74"
      },
      "source": [
        "# find()\n",
        "'''\n",
        "The find() method returns the index of first occurrence of the substring (if found). If not found, it returns -1.\n",
        "'''\n",
        "# Parameters for the find() method\n",
        "'''\n",
        "The find() method takes maximum of three parameters:\n",
        "\n",
        "sub - It is the substring to be searched in the str string.\n",
        "start and end (optional) - The range str[start:end] within which substring is searched.\n",
        "'''\n",
        "quote = 'Learn fundamentals of pythons'\n",
        "\n",
        "# first occurance of 'let it'(case sensitive)\n",
        "result = quote.find('of')\n",
        "print(\"Substring 'of':\", result)\n",
        "\n",
        "# find returns -1 if substring not found\n",
        "result = quote.find('small')\n",
        "print(\"Substring 'small ':\", result)\n",
        "\n",
        "quote = 'Do small things with great love'\n",
        "\n",
        "# Substring is searched in 'hings with great love'\n",
        "print(quote.find('small things', 10))\n",
        "\n",
        "# Substring is searched in ' small things with great love'\n",
        "print(quote.find('small things', 2))\n",
        "\n",
        "# Substring is searched in 'hings with great lov'\n",
        "print(quote.find('o small ', 10, -1))\n",
        "\n",
        "# Substring is searched in 'll things with'\n",
        "print(quote.find('things ', 6, 20))\n"
      ],
      "execution_count": null,
      "outputs": [
        {
          "output_type": "stream",
          "text": [
            "Substring 'of': 19\n",
            "Substring 'small ': -1\n",
            "-1\n",
            "3\n",
            "-1\n",
            "9\n"
          ],
          "name": "stdout"
        }
      ]
    },
    {
      "cell_type": "code",
      "metadata": {
        "id": "OxjPJ6B5KPxq",
        "colab": {
          "base_uri": "https://localhost:8080/",
          "height": 68
        },
        "outputId": "b6536179-d457-4b13-ecbd-0b9fe377a1d8"
      },
      "source": [
        "# index()\n",
        "'''\n",
        "The index() method returns the index of a substring inside the string (if found).\n",
        "If the substring is not found, it raises an exception.\n",
        "\n",
        "The syntax of the index() method for string is:\n",
        "    str.index(sub[, start[, end]] )\n",
        "'''\n",
        "\n",
        "# Return Value from index()\n",
        "'''\n",
        "If substring exists inside the string, it returns the lowest index in the string where substring is found.\n",
        "If substring doesn't exist inside the string, it raises a ValueError exception.\n",
        "The index() method is similar to find() method for strings.\n",
        "\n",
        "The only difference is that find() method returns -1 if the substring is not found,\n",
        "whereas index() throws an exception.\n",
        "'''\n",
        "sentence = 'Python programming is fun.'\n",
        "\n",
        "result = sentence.index('is fun')\n",
        "print(\"Substring 'is fun':\", result)\n",
        "\n",
        "sentence = 'Python programming is fun.'\n",
        "\n",
        "# Substring is searched in 'gramming is fun.'\n",
        "print(sentence.index('ing', 10))\n",
        "\n",
        "# Substring is searched in 'gramming is '\n",
        "print(sentence.index('g is', 10, -4))"
      ],
      "execution_count": null,
      "outputs": [
        {
          "output_type": "stream",
          "text": [
            "Substring 'is fun': 19\n",
            "15\n",
            "17\n"
          ],
          "name": "stdout"
        }
      ]
    },
    {
      "cell_type": "code",
      "metadata": {
        "id": "U0dxXqrnNAPi",
        "colab": {
          "base_uri": "https://localhost:8080/",
          "height": 85
        },
        "outputId": "04090d2d-c8e7-4e54-df77-affbb1d153ef"
      },
      "source": [
        "# isalnum()\n",
        "'''\n",
        "isalnum() returns:\n",
        "\n",
        "True : if all characters in the string are alphanumeric\n",
        "False : if at least one character is not alphanumeric\n",
        "'''\n",
        "\n",
        "name = \"M234onica\"\n",
        "print(name.isalnum())\n",
        "\n",
        "# contains whitespace\n",
        "name = \"M3onica Gell22er \"\n",
        "print(name.isalnum())\n",
        "\n",
        "name = \"Mo3nicaGell22er\"\n",
        "print(name.isalnum())\n",
        "\n",
        "name = \"133\"\n",
        "print(name.isalnum())"
      ],
      "execution_count": null,
      "outputs": [
        {
          "output_type": "stream",
          "text": [
            "True\n",
            "False\n",
            "True\n",
            "True\n"
          ],
          "name": "stdout"
        }
      ]
    },
    {
      "cell_type": "code",
      "metadata": {
        "id": "cb0kOBVDLlCJ",
        "colab": {
          "base_uri": "https://localhost:8080/",
          "height": 68
        },
        "outputId": "9912cb59-0bdd-4c20-99ed-e7c08dc7e3d9"
      },
      "source": [
        "# isdecimal()\n",
        "'''\n",
        "The isdecimal() returns:\n",
        "\n",
        "True : if all characters in the string are decimal characters.\n",
        "False : if at least one character is not decimal character.\n",
        "'''\n",
        "s = \"28212\"\n",
        "print(s.isdecimal())\n",
        "\n",
        "# contains alphabets\n",
        "s = \"32ladk3\"\n",
        "print(s.isdecimal())\n",
        "\n",
        "# contains alphabets and spaces\n",
        "s = \"Mo3 nicaG el l22er\"\n",
        "print(s.isdecimal())"
      ],
      "execution_count": null,
      "outputs": [
        {
          "output_type": "stream",
          "text": [
            "True\n",
            "False\n",
            "False\n"
          ],
          "name": "stdout"
        }
      ]
    },
    {
      "cell_type": "code",
      "metadata": {
        "colab": {
          "base_uri": "https://localhost:8080/"
        },
        "id": "Cfv_wd848IGg",
        "outputId": "0fa218a9-8fd1-4f55-f008-9fbc3717df18"
      },
      "source": [
        "# PROTIP : If you forgot methods names like me,then try this out :)\n",
        "#          This saves time, because you now won't switch to the doc to find the answer\n",
        "\n",
        "\"\"\"\n",
        "Python help() Method.\n",
        "The Python help() function invokes the interactive built-in help system.\n",
        "If the argument is a string, then the string is treated as the name of a module, function, class, keyword, or documentation topic, and\n",
        "a help page is printed on the console.\n",
        "\"\"\"\n",
        "# Note: object is passed to help() (not a string)\n",
        "print(help(str))\n",
        "\n",
        "\n",
        "# You can try other things as well\n",
        "'''\n",
        "print(help(list))\n",
        "print(help(dict))\n",
        "print(help(print))\n",
        "print(help([1, 2, 3]))\n",
        "'''"
      ],
      "execution_count": null,
      "outputs": [
        {
          "output_type": "stream",
          "text": [
            "Help on class str in module builtins:\n",
            "\n",
            "class str(object)\n",
            " |  str(object='') -> str\n",
            " |  str(bytes_or_buffer[, encoding[, errors]]) -> str\n",
            " |  \n",
            " |  Create a new string object from the given object. If encoding or\n",
            " |  errors is specified, then the object must expose a data buffer\n",
            " |  that will be decoded using the given encoding and error handler.\n",
            " |  Otherwise, returns the result of object.__str__() (if defined)\n",
            " |  or repr(object).\n",
            " |  encoding defaults to sys.getdefaultencoding().\n",
            " |  errors defaults to 'strict'.\n",
            " |  \n",
            " |  Methods defined here:\n",
            " |  \n",
            " |  __add__(self, value, /)\n",
            " |      Return self+value.\n",
            " |  \n",
            " |  __contains__(self, key, /)\n",
            " |      Return key in self.\n",
            " |  \n",
            " |  __eq__(self, value, /)\n",
            " |      Return self==value.\n",
            " |  \n",
            " |  __format__(self, format_spec, /)\n",
            " |      Return a formatted version of the string as described by format_spec.\n",
            " |  \n",
            " |  __ge__(self, value, /)\n",
            " |      Return self>=value.\n",
            " |  \n",
            " |  __getattribute__(self, name, /)\n",
            " |      Return getattr(self, name).\n",
            " |  \n",
            " |  __getitem__(self, key, /)\n",
            " |      Return self[key].\n",
            " |  \n",
            " |  __getnewargs__(...)\n",
            " |  \n",
            " |  __gt__(self, value, /)\n",
            " |      Return self>value.\n",
            " |  \n",
            " |  __hash__(self, /)\n",
            " |      Return hash(self).\n",
            " |  \n",
            " |  __iter__(self, /)\n",
            " |      Implement iter(self).\n",
            " |  \n",
            " |  __le__(self, value, /)\n",
            " |      Return self<=value.\n",
            " |  \n",
            " |  __len__(self, /)\n",
            " |      Return len(self).\n",
            " |  \n",
            " |  __lt__(self, value, /)\n",
            " |      Return self<value.\n",
            " |  \n",
            " |  __mod__(self, value, /)\n",
            " |      Return self%value.\n",
            " |  \n",
            " |  __mul__(self, value, /)\n",
            " |      Return self*value.\n",
            " |  \n",
            " |  __ne__(self, value, /)\n",
            " |      Return self!=value.\n",
            " |  \n",
            " |  __repr__(self, /)\n",
            " |      Return repr(self).\n",
            " |  \n",
            " |  __rmod__(self, value, /)\n",
            " |      Return value%self.\n",
            " |  \n",
            " |  __rmul__(self, value, /)\n",
            " |      Return value*self.\n",
            " |  \n",
            " |  __sizeof__(self, /)\n",
            " |      Return the size of the string in memory, in bytes.\n",
            " |  \n",
            " |  __str__(self, /)\n",
            " |      Return str(self).\n",
            " |  \n",
            " |  capitalize(self, /)\n",
            " |      Return a capitalized version of the string.\n",
            " |      \n",
            " |      More specifically, make the first character have upper case and the rest lower\n",
            " |      case.\n",
            " |  \n",
            " |  casefold(self, /)\n",
            " |      Return a version of the string suitable for caseless comparisons.\n",
            " |  \n",
            " |  center(self, width, fillchar=' ', /)\n",
            " |      Return a centered string of length width.\n",
            " |      \n",
            " |      Padding is done using the specified fill character (default is a space).\n",
            " |  \n",
            " |  count(...)\n",
            " |      S.count(sub[, start[, end]]) -> int\n",
            " |      \n",
            " |      Return the number of non-overlapping occurrences of substring sub in\n",
            " |      string S[start:end].  Optional arguments start and end are\n",
            " |      interpreted as in slice notation.\n",
            " |  \n",
            " |  encode(self, /, encoding='utf-8', errors='strict')\n",
            " |      Encode the string using the codec registered for encoding.\n",
            " |      \n",
            " |      encoding\n",
            " |        The encoding in which to encode the string.\n",
            " |      errors\n",
            " |        The error handling scheme to use for encoding errors.\n",
            " |        The default is 'strict' meaning that encoding errors raise a\n",
            " |        UnicodeEncodeError.  Other possible values are 'ignore', 'replace' and\n",
            " |        'xmlcharrefreplace' as well as any other name registered with\n",
            " |        codecs.register_error that can handle UnicodeEncodeErrors.\n",
            " |  \n",
            " |  endswith(...)\n",
            " |      S.endswith(suffix[, start[, end]]) -> bool\n",
            " |      \n",
            " |      Return True if S ends with the specified suffix, False otherwise.\n",
            " |      With optional start, test S beginning at that position.\n",
            " |      With optional end, stop comparing S at that position.\n",
            " |      suffix can also be a tuple of strings to try.\n",
            " |  \n",
            " |  expandtabs(self, /, tabsize=8)\n",
            " |      Return a copy where all tab characters are expanded using spaces.\n",
            " |      \n",
            " |      If tabsize is not given, a tab size of 8 characters is assumed.\n",
            " |  \n",
            " |  find(...)\n",
            " |      S.find(sub[, start[, end]]) -> int\n",
            " |      \n",
            " |      Return the lowest index in S where substring sub is found,\n",
            " |      such that sub is contained within S[start:end].  Optional\n",
            " |      arguments start and end are interpreted as in slice notation.\n",
            " |      \n",
            " |      Return -1 on failure.\n",
            " |  \n",
            " |  format(...)\n",
            " |      S.format(*args, **kwargs) -> str\n",
            " |      \n",
            " |      Return a formatted version of S, using substitutions from args and kwargs.\n",
            " |      The substitutions are identified by braces ('{' and '}').\n",
            " |  \n",
            " |  format_map(...)\n",
            " |      S.format_map(mapping) -> str\n",
            " |      \n",
            " |      Return a formatted version of S, using substitutions from mapping.\n",
            " |      The substitutions are identified by braces ('{' and '}').\n",
            " |  \n",
            " |  index(...)\n",
            " |      S.index(sub[, start[, end]]) -> int\n",
            " |      \n",
            " |      Return the lowest index in S where substring sub is found, \n",
            " |      such that sub is contained within S[start:end].  Optional\n",
            " |      arguments start and end are interpreted as in slice notation.\n",
            " |      \n",
            " |      Raises ValueError when the substring is not found.\n",
            " |  \n",
            " |  isalnum(self, /)\n",
            " |      Return True if the string is an alpha-numeric string, False otherwise.\n",
            " |      \n",
            " |      A string is alpha-numeric if all characters in the string are alpha-numeric and\n",
            " |      there is at least one character in the string.\n",
            " |  \n",
            " |  isalpha(self, /)\n",
            " |      Return True if the string is an alphabetic string, False otherwise.\n",
            " |      \n",
            " |      A string is alphabetic if all characters in the string are alphabetic and there\n",
            " |      is at least one character in the string.\n",
            " |  \n",
            " |  isascii(self, /)\n",
            " |      Return True if all characters in the string are ASCII, False otherwise.\n",
            " |      \n",
            " |      ASCII characters have code points in the range U+0000-U+007F.\n",
            " |      Empty string is ASCII too.\n",
            " |  \n",
            " |  isdecimal(self, /)\n",
            " |      Return True if the string is a decimal string, False otherwise.\n",
            " |      \n",
            " |      A string is a decimal string if all characters in the string are decimal and\n",
            " |      there is at least one character in the string.\n",
            " |  \n",
            " |  isdigit(self, /)\n",
            " |      Return True if the string is a digit string, False otherwise.\n",
            " |      \n",
            " |      A string is a digit string if all characters in the string are digits and there\n",
            " |      is at least one character in the string.\n",
            " |  \n",
            " |  isidentifier(self, /)\n",
            " |      Return True if the string is a valid Python identifier, False otherwise.\n",
            " |      \n",
            " |      Use keyword.iskeyword() to test for reserved identifiers such as \"def\" and\n",
            " |      \"class\".\n",
            " |  \n",
            " |  islower(self, /)\n",
            " |      Return True if the string is a lowercase string, False otherwise.\n",
            " |      \n",
            " |      A string is lowercase if all cased characters in the string are lowercase and\n",
            " |      there is at least one cased character in the string.\n",
            " |  \n",
            " |  isnumeric(self, /)\n",
            " |      Return True if the string is a numeric string, False otherwise.\n",
            " |      \n",
            " |      A string is numeric if all characters in the string are numeric and there is at\n",
            " |      least one character in the string.\n",
            " |  \n",
            " |  isprintable(self, /)\n",
            " |      Return True if the string is printable, False otherwise.\n",
            " |      \n",
            " |      A string is printable if all of its characters are considered printable in\n",
            " |      repr() or if it is empty.\n",
            " |  \n",
            " |  isspace(self, /)\n",
            " |      Return True if the string is a whitespace string, False otherwise.\n",
            " |      \n",
            " |      A string is whitespace if all characters in the string are whitespace and there\n",
            " |      is at least one character in the string.\n",
            " |  \n",
            " |  istitle(self, /)\n",
            " |      Return True if the string is a title-cased string, False otherwise.\n",
            " |      \n",
            " |      In a title-cased string, upper- and title-case characters may only\n",
            " |      follow uncased characters and lowercase characters only cased ones.\n",
            " |  \n",
            " |  isupper(self, /)\n",
            " |      Return True if the string is an uppercase string, False otherwise.\n",
            " |      \n",
            " |      A string is uppercase if all cased characters in the string are uppercase and\n",
            " |      there is at least one cased character in the string.\n",
            " |  \n",
            " |  join(self, iterable, /)\n",
            " |      Concatenate any number of strings.\n",
            " |      \n",
            " |      The string whose method is called is inserted in between each given string.\n",
            " |      The result is returned as a new string.\n",
            " |      \n",
            " |      Example: '.'.join(['ab', 'pq', 'rs']) -> 'ab.pq.rs'\n",
            " |  \n",
            " |  ljust(self, width, fillchar=' ', /)\n",
            " |      Return a left-justified string of length width.\n",
            " |      \n",
            " |      Padding is done using the specified fill character (default is a space).\n",
            " |  \n",
            " |  lower(self, /)\n",
            " |      Return a copy of the string converted to lowercase.\n",
            " |  \n",
            " |  lstrip(self, chars=None, /)\n",
            " |      Return a copy of the string with leading whitespace removed.\n",
            " |      \n",
            " |      If chars is given and not None, remove characters in chars instead.\n",
            " |  \n",
            " |  partition(self, sep, /)\n",
            " |      Partition the string into three parts using the given separator.\n",
            " |      \n",
            " |      This will search for the separator in the string.  If the separator is found,\n",
            " |      returns a 3-tuple containing the part before the separator, the separator\n",
            " |      itself, and the part after it.\n",
            " |      \n",
            " |      If the separator is not found, returns a 3-tuple containing the original string\n",
            " |      and two empty strings.\n",
            " |  \n",
            " |  replace(self, old, new, count=-1, /)\n",
            " |      Return a copy with all occurrences of substring old replaced by new.\n",
            " |      \n",
            " |        count\n",
            " |          Maximum number of occurrences to replace.\n",
            " |          -1 (the default value) means replace all occurrences.\n",
            " |      \n",
            " |      If the optional argument count is given, only the first count occurrences are\n",
            " |      replaced.\n",
            " |  \n",
            " |  rfind(...)\n",
            " |      S.rfind(sub[, start[, end]]) -> int\n",
            " |      \n",
            " |      Return the highest index in S where substring sub is found,\n",
            " |      such that sub is contained within S[start:end].  Optional\n",
            " |      arguments start and end are interpreted as in slice notation.\n",
            " |      \n",
            " |      Return -1 on failure.\n",
            " |  \n",
            " |  rindex(...)\n",
            " |      S.rindex(sub[, start[, end]]) -> int\n",
            " |      \n",
            " |      Return the highest index in S where substring sub is found,\n",
            " |      such that sub is contained within S[start:end].  Optional\n",
            " |      arguments start and end are interpreted as in slice notation.\n",
            " |      \n",
            " |      Raises ValueError when the substring is not found.\n",
            " |  \n",
            " |  rjust(self, width, fillchar=' ', /)\n",
            " |      Return a right-justified string of length width.\n",
            " |      \n",
            " |      Padding is done using the specified fill character (default is a space).\n",
            " |  \n",
            " |  rpartition(self, sep, /)\n",
            " |      Partition the string into three parts using the given separator.\n",
            " |      \n",
            " |      This will search for the separator in the string, starting at the end. If\n",
            " |      the separator is found, returns a 3-tuple containing the part before the\n",
            " |      separator, the separator itself, and the part after it.\n",
            " |      \n",
            " |      If the separator is not found, returns a 3-tuple containing two empty strings\n",
            " |      and the original string.\n",
            " |  \n",
            " |  rsplit(self, /, sep=None, maxsplit=-1)\n",
            " |      Return a list of the words in the string, using sep as the delimiter string.\n",
            " |      \n",
            " |        sep\n",
            " |          The delimiter according which to split the string.\n",
            " |          None (the default value) means split according to any whitespace,\n",
            " |          and discard empty strings from the result.\n",
            " |        maxsplit\n",
            " |          Maximum number of splits to do.\n",
            " |          -1 (the default value) means no limit.\n",
            " |      \n",
            " |      Splits are done starting at the end of the string and working to the front.\n",
            " |  \n",
            " |  rstrip(self, chars=None, /)\n",
            " |      Return a copy of the string with trailing whitespace removed.\n",
            " |      \n",
            " |      If chars is given and not None, remove characters in chars instead.\n",
            " |  \n",
            " |  split(self, /, sep=None, maxsplit=-1)\n",
            " |      Return a list of the words in the string, using sep as the delimiter string.\n",
            " |      \n",
            " |      sep\n",
            " |        The delimiter according which to split the string.\n",
            " |        None (the default value) means split according to any whitespace,\n",
            " |        and discard empty strings from the result.\n",
            " |      maxsplit\n",
            " |        Maximum number of splits to do.\n",
            " |        -1 (the default value) means no limit.\n",
            " |  \n",
            " |  splitlines(self, /, keepends=False)\n",
            " |      Return a list of the lines in the string, breaking at line boundaries.\n",
            " |      \n",
            " |      Line breaks are not included in the resulting list unless keepends is given and\n",
            " |      true.\n",
            " |  \n",
            " |  startswith(...)\n",
            " |      S.startswith(prefix[, start[, end]]) -> bool\n",
            " |      \n",
            " |      Return True if S starts with the specified prefix, False otherwise.\n",
            " |      With optional start, test S beginning at that position.\n",
            " |      With optional end, stop comparing S at that position.\n",
            " |      prefix can also be a tuple of strings to try.\n",
            " |  \n",
            " |  strip(self, chars=None, /)\n",
            " |      Return a copy of the string with leading and trailing whitespace removed.\n",
            " |      \n",
            " |      If chars is given and not None, remove characters in chars instead.\n",
            " |  \n",
            " |  swapcase(self, /)\n",
            " |      Convert uppercase characters to lowercase and lowercase characters to uppercase.\n",
            " |  \n",
            " |  title(self, /)\n",
            " |      Return a version of the string where each word is titlecased.\n",
            " |      \n",
            " |      More specifically, words start with uppercased characters and all remaining\n",
            " |      cased characters have lower case.\n",
            " |  \n",
            " |  translate(self, table, /)\n",
            " |      Replace each character in the string using the given translation table.\n",
            " |      \n",
            " |        table\n",
            " |          Translation table, which must be a mapping of Unicode ordinals to\n",
            " |          Unicode ordinals, strings, or None.\n",
            " |      \n",
            " |      The table must implement lookup/indexing via __getitem__, for instance a\n",
            " |      dictionary or list.  If this operation raises LookupError, the character is\n",
            " |      left untouched.  Characters mapped to None are deleted.\n",
            " |  \n",
            " |  upper(self, /)\n",
            " |      Return a copy of the string converted to uppercase.\n",
            " |  \n",
            " |  zfill(self, width, /)\n",
            " |      Pad a numeric string with zeros on the left, to fill a field of the given width.\n",
            " |      \n",
            " |      The string is never truncated.\n",
            " |  \n",
            " |  ----------------------------------------------------------------------\n",
            " |  Static methods defined here:\n",
            " |  \n",
            " |  __new__(*args, **kwargs) from builtins.type\n",
            " |      Create and return a new object.  See help(type) for accurate signature.\n",
            " |  \n",
            " |  maketrans(x, y=None, z=None, /)\n",
            " |      Return a translation table usable for str.translate().\n",
            " |      \n",
            " |      If there is only one argument, it must be a dictionary mapping Unicode\n",
            " |      ordinals (integers) or characters to Unicode ordinals, strings or None.\n",
            " |      Character keys will be then converted to ordinals.\n",
            " |      If there are two arguments, they must be strings of equal length, and\n",
            " |      in the resulting dictionary, each character in x will be mapped to the\n",
            " |      character at the same position in y. If there is a third argument, it\n",
            " |      must be a string, whose characters will be mapped to None in the result.\n",
            "\n",
            "None\n",
            "Help on module abc:\n",
            "\n",
            "NAME\n",
            "    abc - Abstract Base Classes (ABCs) according to PEP 3119.\n",
            "\n",
            "MODULE REFERENCE\n",
            "    https://docs.python.org/3.7/library/abc\n",
            "    \n",
            "    The following documentation is automatically generated from the Python\n",
            "    source files.  It may be incomplete, incorrect or include features that\n",
            "    are considered implementation detail and may vary between Python\n",
            "    implementations.  When in doubt, consult the module reference at the\n",
            "    location listed above.\n",
            "\n",
            "CLASSES\n",
            "    builtins.classmethod(builtins.object)\n",
            "        abstractclassmethod\n",
            "    builtins.object\n",
            "        ABC\n",
            "    builtins.property(builtins.object)\n",
            "        abstractproperty\n",
            "    builtins.staticmethod(builtins.object)\n",
            "        abstractstaticmethod\n",
            "    builtins.type(builtins.object)\n",
            "        ABCMeta\n",
            "    \n",
            "    class ABC(builtins.object)\n",
            "     |  Helper class that provides a standard way to create an ABC using\n",
            "     |  inheritance.\n",
            "     |  \n",
            "     |  Data and other attributes defined here:\n",
            "     |  \n",
            "     |  __abstractmethods__ = frozenset()\n",
            "    \n",
            "    class ABCMeta(builtins.type)\n",
            "     |  ABCMeta(name, bases, namespace, **kwargs)\n",
            "     |  \n",
            "     |  Metaclass for defining Abstract Base Classes (ABCs).\n",
            "     |  \n",
            "     |  Use this metaclass to create an ABC.  An ABC can be subclassed\n",
            "     |  directly, and then acts as a mix-in class.  You can also register\n",
            "     |  unrelated concrete classes (even built-in classes) and unrelated\n",
            "     |  ABCs as 'virtual subclasses' -- these and their descendants will\n",
            "     |  be considered subclasses of the registering ABC by the built-in\n",
            "     |  issubclass() function, but the registering ABC won't show up in\n",
            "     |  their MRO (Method Resolution Order) nor will method\n",
            "     |  implementations defined by the registering ABC be callable (not\n",
            "     |  even via super()).\n",
            "     |  \n",
            "     |  Method resolution order:\n",
            "     |      ABCMeta\n",
            "     |      builtins.type\n",
            "     |      builtins.object\n",
            "     |  \n",
            "     |  Methods defined here:\n",
            "     |  \n",
            "     |  __instancecheck__(cls, instance)\n",
            "     |      Override for isinstance(instance, cls).\n",
            "     |  \n",
            "     |  __subclasscheck__(cls, subclass)\n",
            "     |      Override for issubclass(subclass, cls).\n",
            "     |  \n",
            "     |  register(cls, subclass)\n",
            "     |      Register a virtual subclass of an ABC.\n",
            "     |      \n",
            "     |      Returns the subclass, to allow usage as a class decorator.\n",
            "     |  \n",
            "     |  ----------------------------------------------------------------------\n",
            "     |  Static methods defined here:\n",
            "     |  \n",
            "     |  __new__(mcls, name, bases, namespace, **kwargs)\n",
            "     |      Create and return a new object.  See help(type) for accurate signature.\n",
            "     |  \n",
            "     |  ----------------------------------------------------------------------\n",
            "     |  Methods inherited from builtins.type:\n",
            "     |  \n",
            "     |  __call__(self, /, *args, **kwargs)\n",
            "     |      Call self as a function.\n",
            "     |  \n",
            "     |  __delattr__(self, name, /)\n",
            "     |      Implement delattr(self, name).\n",
            "     |  \n",
            "     |  __dir__(self, /)\n",
            "     |      Specialized __dir__ implementation for types.\n",
            "     |  \n",
            "     |  __getattribute__(self, name, /)\n",
            "     |      Return getattr(self, name).\n",
            "     |  \n",
            "     |  __init__(self, /, *args, **kwargs)\n",
            "     |      Initialize self.  See help(type(self)) for accurate signature.\n",
            "     |  \n",
            "     |  __repr__(self, /)\n",
            "     |      Return repr(self).\n",
            "     |  \n",
            "     |  __setattr__(self, name, value, /)\n",
            "     |      Implement setattr(self, name, value).\n",
            "     |  \n",
            "     |  __sizeof__(self, /)\n",
            "     |      Return memory consumption of the type object.\n",
            "     |  \n",
            "     |  __subclasses__(self, /)\n",
            "     |      Return a list of immediate subclasses.\n",
            "     |  \n",
            "     |  mro(self, /)\n",
            "     |      Return a type's method resolution order.\n",
            "     |  \n",
            "     |  ----------------------------------------------------------------------\n",
            "     |  Class methods inherited from builtins.type:\n",
            "     |  \n",
            "     |  __prepare__(...) from builtins.type\n",
            "     |      __prepare__() -> dict\n",
            "     |      used to create the namespace for the class statement\n",
            "     |  \n",
            "     |  ----------------------------------------------------------------------\n",
            "     |  Data descriptors inherited from builtins.type:\n",
            "     |  \n",
            "     |  __abstractmethods__\n",
            "     |  \n",
            "     |  __dict__\n",
            "     |  \n",
            "     |  __text_signature__\n",
            "     |  \n",
            "     |  ----------------------------------------------------------------------\n",
            "     |  Data and other attributes inherited from builtins.type:\n",
            "     |  \n",
            "     |  __base__ = <class 'type'>\n",
            "     |      type(object_or_name, bases, dict)\n",
            "     |      type(object) -> the object's type\n",
            "     |      type(name, bases, dict) -> a new type\n",
            "     |  \n",
            "     |  __bases__ = (<class 'type'>,)\n",
            "     |  \n",
            "     |  __basicsize__ = 864\n",
            "     |  \n",
            "     |  __dictoffset__ = 264\n",
            "     |  \n",
            "     |  __flags__ = 2148292097\n",
            "     |  \n",
            "     |  __itemsize__ = 40\n",
            "     |  \n",
            "     |  __mro__ = (<class 'abc.ABCMeta'>, <class 'type'>, <class 'object'>)\n",
            "     |  \n",
            "     |  __weakrefoffset__ = 368\n",
            "    \n",
            "    class abstractclassmethod(builtins.classmethod)\n",
            "     |  abstractclassmethod(callable)\n",
            "     |  \n",
            "     |  A decorator indicating abstract classmethods.\n",
            "     |  \n",
            "     |  Similar to abstractmethod.\n",
            "     |  \n",
            "     |  Usage:\n",
            "     |  \n",
            "     |      class C(metaclass=ABCMeta):\n",
            "     |          @abstractclassmethod\n",
            "     |          def my_abstract_classmethod(cls, ...):\n",
            "     |              ...\n",
            "     |  \n",
            "     |  'abstractclassmethod' is deprecated. Use 'classmethod' with\n",
            "     |  'abstractmethod' instead.\n",
            "     |  \n",
            "     |  Method resolution order:\n",
            "     |      abstractclassmethod\n",
            "     |      builtins.classmethod\n",
            "     |      builtins.object\n",
            "     |  \n",
            "     |  Methods defined here:\n",
            "     |  \n",
            "     |  __init__(self, callable)\n",
            "     |      Initialize self.  See help(type(self)) for accurate signature.\n",
            "     |  \n",
            "     |  ----------------------------------------------------------------------\n",
            "     |  Data descriptors defined here:\n",
            "     |  \n",
            "     |  __weakref__\n",
            "     |      list of weak references to the object (if defined)\n",
            "     |  \n",
            "     |  ----------------------------------------------------------------------\n",
            "     |  Data and other attributes defined here:\n",
            "     |  \n",
            "     |  __isabstractmethod__ = True\n",
            "     |  \n",
            "     |  ----------------------------------------------------------------------\n",
            "     |  Methods inherited from builtins.classmethod:\n",
            "     |  \n",
            "     |  __get__(self, instance, owner, /)\n",
            "     |      Return an attribute of instance, which is of type owner.\n",
            "     |  \n",
            "     |  ----------------------------------------------------------------------\n",
            "     |  Static methods inherited from builtins.classmethod:\n",
            "     |  \n",
            "     |  __new__(*args, **kwargs) from builtins.type\n",
            "     |      Create and return a new object.  See help(type) for accurate signature.\n",
            "     |  \n",
            "     |  ----------------------------------------------------------------------\n",
            "     |  Data descriptors inherited from builtins.classmethod:\n",
            "     |  \n",
            "     |  __dict__\n",
            "     |  \n",
            "     |  __func__\n",
            "    \n",
            "    class abstractproperty(builtins.property)\n",
            "     |  abstractproperty(fget=None, fset=None, fdel=None, doc=None)\n",
            "     |  \n",
            "     |  A decorator indicating abstract properties.\n",
            "     |  \n",
            "     |  Requires that the metaclass is ABCMeta or derived from it.  A\n",
            "     |  class that has a metaclass derived from ABCMeta cannot be\n",
            "     |  instantiated unless all of its abstract properties are overridden.\n",
            "     |  The abstract properties can be called using any of the normal\n",
            "     |  'super' call mechanisms.\n",
            "     |  \n",
            "     |  Usage:\n",
            "     |  \n",
            "     |      class C(metaclass=ABCMeta):\n",
            "     |          @abstractproperty\n",
            "     |          def my_abstract_property(self):\n",
            "     |              ...\n",
            "     |  \n",
            "     |  This defines a read-only property; you can also define a read-write\n",
            "     |  abstract property using the 'long' form of property declaration:\n",
            "     |  \n",
            "     |      class C(metaclass=ABCMeta):\n",
            "     |          def getx(self): ...\n",
            "     |          def setx(self, value): ...\n",
            "     |          x = abstractproperty(getx, setx)\n",
            "     |  \n",
            "     |  'abstractproperty' is deprecated. Use 'property' with 'abstractmethod'\n",
            "     |  instead.\n",
            "     |  \n",
            "     |  Method resolution order:\n",
            "     |      abstractproperty\n",
            "     |      builtins.property\n",
            "     |      builtins.object\n",
            "     |  \n",
            "     |  Data descriptors defined here:\n",
            "     |  \n",
            "     |  __dict__\n",
            "     |      dictionary for instance variables (if defined)\n",
            "     |  \n",
            "     |  __weakref__\n",
            "     |      list of weak references to the object (if defined)\n",
            "     |  \n",
            "     |  ----------------------------------------------------------------------\n",
            "     |  Data and other attributes defined here:\n",
            "     |  \n",
            "     |  __isabstractmethod__ = True\n",
            "     |  \n",
            "     |  ----------------------------------------------------------------------\n",
            "     |  Methods inherited from builtins.property:\n",
            "     |  \n",
            "     |  __delete__(self, instance, /)\n",
            "     |      Delete an attribute of instance.\n",
            "     |  \n",
            "     |  __get__(self, instance, owner, /)\n",
            "     |      Return an attribute of instance, which is of type owner.\n",
            "     |  \n",
            "     |  __getattribute__(self, name, /)\n",
            "     |      Return getattr(self, name).\n",
            "     |  \n",
            "     |  __init__(self, /, *args, **kwargs)\n",
            "     |      Initialize self.  See help(type(self)) for accurate signature.\n",
            "     |  \n",
            "     |  __set__(self, instance, value, /)\n",
            "     |      Set an attribute of instance to value.\n",
            "     |  \n",
            "     |  deleter(...)\n",
            "     |      Descriptor to change the deleter on a property.\n",
            "     |  \n",
            "     |  getter(...)\n",
            "     |      Descriptor to change the getter on a property.\n",
            "     |  \n",
            "     |  setter(...)\n",
            "     |      Descriptor to change the setter on a property.\n",
            "     |  \n",
            "     |  ----------------------------------------------------------------------\n",
            "     |  Static methods inherited from builtins.property:\n",
            "     |  \n",
            "     |  __new__(*args, **kwargs) from builtins.type\n",
            "     |      Create and return a new object.  See help(type) for accurate signature.\n",
            "     |  \n",
            "     |  ----------------------------------------------------------------------\n",
            "     |  Data descriptors inherited from builtins.property:\n",
            "     |  \n",
            "     |  fdel\n",
            "     |  \n",
            "     |  fget\n",
            "     |  \n",
            "     |  fset\n",
            "    \n",
            "    class abstractstaticmethod(builtins.staticmethod)\n",
            "     |  abstractstaticmethod(callable)\n",
            "     |  \n",
            "     |  A decorator indicating abstract staticmethods.\n",
            "     |  \n",
            "     |  Similar to abstractmethod.\n",
            "     |  \n",
            "     |  Usage:\n",
            "     |  \n",
            "     |      class C(metaclass=ABCMeta):\n",
            "     |          @abstractstaticmethod\n",
            "     |          def my_abstract_staticmethod(...):\n",
            "     |              ...\n",
            "     |  \n",
            "     |  'abstractstaticmethod' is deprecated. Use 'staticmethod' with\n",
            "     |  'abstractmethod' instead.\n",
            "     |  \n",
            "     |  Method resolution order:\n",
            "     |      abstractstaticmethod\n",
            "     |      builtins.staticmethod\n",
            "     |      builtins.object\n",
            "     |  \n",
            "     |  Methods defined here:\n",
            "     |  \n",
            "     |  __init__(self, callable)\n",
            "     |      Initialize self.  See help(type(self)) for accurate signature.\n",
            "     |  \n",
            "     |  ----------------------------------------------------------------------\n",
            "     |  Data descriptors defined here:\n",
            "     |  \n",
            "     |  __weakref__\n",
            "     |      list of weak references to the object (if defined)\n",
            "     |  \n",
            "     |  ----------------------------------------------------------------------\n",
            "     |  Data and other attributes defined here:\n",
            "     |  \n",
            "     |  __isabstractmethod__ = True\n",
            "     |  \n",
            "     |  ----------------------------------------------------------------------\n",
            "     |  Methods inherited from builtins.staticmethod:\n",
            "     |  \n",
            "     |  __get__(self, instance, owner, /)\n",
            "     |      Return an attribute of instance, which is of type owner.\n",
            "     |  \n",
            "     |  ----------------------------------------------------------------------\n",
            "     |  Static methods inherited from builtins.staticmethod:\n",
            "     |  \n",
            "     |  __new__(*args, **kwargs) from builtins.type\n",
            "     |      Create and return a new object.  See help(type) for accurate signature.\n",
            "     |  \n",
            "     |  ----------------------------------------------------------------------\n",
            "     |  Data descriptors inherited from builtins.staticmethod:\n",
            "     |  \n",
            "     |  __dict__\n",
            "     |  \n",
            "     |  __func__\n",
            "\n",
            "FUNCTIONS\n",
            "    abstractmethod(funcobj)\n",
            "        A decorator indicating abstract methods.\n",
            "        \n",
            "        Requires that the metaclass is ABCMeta or derived from it.  A\n",
            "        class that has a metaclass derived from ABCMeta cannot be\n",
            "        instantiated unless all of its abstract methods are overridden.\n",
            "        The abstract methods can be called using any of the normal\n",
            "        'super' call mechanisms.\n",
            "        \n",
            "        Usage:\n",
            "        \n",
            "            class C(metaclass=ABCMeta):\n",
            "                @abstractmethod\n",
            "                def my_abstract_method(self, ...):\n",
            "                    ...\n",
            "    \n",
            "    get_cache_token()\n",
            "        Returns the current ABC cache token.\n",
            "        \n",
            "        The token is an opaque object (supporting equality testing) identifying the\n",
            "        current version of the ABC cache for virtual subclasses. The token changes\n",
            "        with every call to register() on any ABC.\n",
            "\n",
            "FILE\n",
            "    /usr/lib/python3.7/abc.py\n",
            "\n",
            "\n",
            "None\n"
          ],
          "name": "stdout"
        }
      ]
    },
    {
      "cell_type": "markdown",
      "metadata": {
        "id": "ThnzVRez7Shw"
      },
      "source": [
        "## **List - Inbuilt methods**"
      ]
    },
    {
      "cell_type": "markdown",
      "metadata": {
        "id": "-oTywHeLo-KM"
      },
      "source": [
        "### **Append method**\n",
        "```\n",
        "Defination : The append() method appends an element to the end of the list.\n",
        "```\n",
        "\n",
        "The syntax of the append() method is:\n",
        "```\n",
        "list.append(item)\n",
        "```\n",
        "\n",
        "**append() Parameters**\n",
        "\n",
        "The method takes a single argument\n",
        "```\n",
        "item - an item to be added at the end of the list\n",
        "The item can be numbers, strings, dictionaries, another list, and so on.\n",
        "```"
      ]
    },
    {
      "cell_type": "code",
      "metadata": {
        "colab": {
          "base_uri": "https://localhost:8080/"
        },
        "id": "VKgJmvP6piPC",
        "outputId": "f5f39dba-f1e7-4b63-fa4f-0252d1fdc21f"
      },
      "source": [
        "# The append() method modifies the original list. It doesn't return any value.\n",
        "\n",
        "# Append integer to list\n",
        "number = [2,3,4,6]\n",
        "\n",
        "number.append(9)\n",
        "print('Updated number list: ', number)\n",
        "\n",
        "# Append string to list\n",
        "number = [2,3,4,6]\n",
        "\n",
        "number.append('Hello')\n",
        "print('Updated number list: ', number)\n",
        "\n",
        "# Append list to list\n",
        "number = [2,3,4,6]\n",
        "number.append([1,2])\n",
        "print('Updated number list: ', number)"
      ],
      "execution_count": null,
      "outputs": [
        {
          "output_type": "stream",
          "text": [
            "Updated number list:  [2, 3, 4, 6, 9]\n",
            "Updated number list:  [2, 3, 4, 6, 'Hello']\n",
            "Updated number list:  [2, 3, 4, 6, [1, 2]]\n"
          ],
          "name": "stdout"
        }
      ]
    },
    {
      "cell_type": "code",
      "metadata": {
        "colab": {
          "base_uri": "https://localhost:8080/"
        },
        "id": "3G2tFt_XqhHI",
        "outputId": "dba8c571-5a3a-4b1a-9a83-f15b18a95b36"
      },
      "source": [
        "# Append 2D list to list\n",
        "number = [2,3,4,6]\n",
        "\n",
        "number.append([[1,2]])\n",
        "print('Updated number list: ', number)\n",
        "\n",
        "# Append dictionary to list\n",
        "number = [2,3,4,6]\n",
        "\n",
        "number.append({'key':2})\n",
        "print('Updated number list: ', number)\n",
        "\n",
        "# Append sets to list\n",
        "number = [2,3,4,6]\n",
        "\n",
        "number.append({6,7})\n",
        "print('Updated number list: ', number)\n",
        "\n",
        "# Append tuple to list\n",
        "number = [2,3,4,6]\n",
        "\n",
        "number.append((8,9))\n",
        "print('Updated number list: ', number)"
      ],
      "execution_count": null,
      "outputs": [
        {
          "output_type": "stream",
          "text": [
            "Updated number list:  [2, 3, 4, 6, [[1, 2]]]\n",
            "Updated number list:  [2, 3, 4, 6, {'key': 2}]\n",
            "Updated number list:  [2, 3, 4, 6, {6, 7}]\n",
            "Updated number list:  [2, 3, 4, 6, (8, 9)]\n"
          ],
          "name": "stdout"
        }
      ]
    },
    {
      "cell_type": "markdown",
      "metadata": {
        "id": "rGTJX8_TtKtZ"
      },
      "source": [
        "### **Extend method**\n",
        "\n",
        "```\n",
        "Defination : The extend() method adds all the elements of an iterable (list, tuple, string etc.) to the end of the list.\n",
        "```\n",
        "\n",
        "The syntax of the extend() method is:\n",
        "```\n",
        "list.extend(iterable)\n",
        "```\n",
        "Here, all the elements of iterable are added to the end of list.\n",
        "\n",
        "**extend() Parameters**\n",
        "```\n",
        "As mentioned, the extend() method takes an iterable such as list, tuple, string etc.\n",
        "```"
      ]
    },
    {
      "cell_type": "code",
      "metadata": {
        "colab": {
          "base_uri": "https://localhost:8080/"
        },
        "id": "5Bz2RDkSuBpE",
        "outputId": "f2ddff93-6524-4aa9-8514-bf482c870e87"
      },
      "source": [
        "# The extend() method modifies the original list. It doesn't return any value.\n",
        "\n",
        "# fruits list\n",
        "fruits1 = ['Apple', 'Orange']\n",
        "\n",
        "# another list of fruits\n",
        "fruits2 = ['Banana', 'Pear']\n",
        "\n",
        "# appending fruits2 elements to fruits1\n",
        "fruits1.extend(fruits2)\n",
        "\n",
        "print('fruits List:', fruits1)"
      ],
      "execution_count": null,
      "outputs": [
        {
          "output_type": "stream",
          "text": [
            "fruits List: ['Apple', 'Orange', 'Banana', 'Pear']\n"
          ],
          "name": "stdout"
        }
      ]
    },
    {
      "cell_type": "code",
      "metadata": {
        "colab": {
          "base_uri": "https://localhost:8080/"
        },
        "id": "Lj3w05ftuBZ-",
        "outputId": "c78d39aa-a946-47c7-c91c-66d08ceb00d9"
      },
      "source": [
        "# Add Elements of Tuple and Set to List\n",
        "\n",
        "# languages list\n",
        "languages = ['French']\n",
        "\n",
        "# languages tuple\n",
        "languages_tuple = ('Spanish', 'Portuguese')\n",
        "\n",
        "# languages set\n",
        "languages_set = {'Chinese', 'Japanese'}\n",
        "\n",
        "# appending language_tuple elements to language\n",
        "languages.extend(languages_tuple)\n",
        "\n",
        "print('New Language List:', languages)\n",
        "\n",
        "# appending language_set elements to language\n",
        "languages.extend(languages_set)\n",
        "\n",
        "print('Newer Languages List:', languages)"
      ],
      "execution_count": null,
      "outputs": [
        {
          "output_type": "stream",
          "text": [
            "New Language List: ['French', 'Spanish', 'Portuguese']\n",
            "Newer Languages List: ['French', 'Spanish', 'Portuguese', 'Japanese', 'Chinese']\n"
          ],
          "name": "stdout"
        }
      ]
    },
    {
      "cell_type": "markdown",
      "metadata": {
        "id": "t5wDEMECsWgy"
      },
      "source": [
        "### **Insert method**\n",
        "\n",
        "```\n",
        "Defination :\n",
        "```"
      ]
    },
    {
      "cell_type": "code",
      "metadata": {
        "id": "spV1FOWyhbYc",
        "outputId": "8a1a5856-2871-4a56-a7d9-1825a42a121e"
      },
      "source": [
        "# working with function\n",
        "\n",
        "'''\n",
        "# Append : The append() method appends an element to the end of the list.\n",
        "\n",
        "The syntax of the append() method is: list.append(item)\n",
        "\n",
        "'''\n",
        "number = [2,3,4,6]\n",
        "print('-----Append---------')\n",
        "\n",
        "number.append(9)\n",
        "print(number)\n",
        "\n",
        "'''\n",
        "2.insert : The list insert() method inserts an element to the list at the specified index.\n",
        "\n",
        "'''\n",
        "print('-----Insert---------')\n",
        "number.insert(2,8)\n",
        "print(number)\n",
        "\n",
        "# 3.remove\n",
        "print('-----Remove---------')\n",
        "number.remove(8)\n",
        "print(number)\n",
        "\n",
        "# 4.pop\n",
        "print('-----pop---------')\n",
        "number.pop()\n",
        "print(number)\n",
        "\n",
        "# 5.clear\n",
        "print('-----clear---------')\n",
        "number.clear()\n",
        "print(number)"
      ],
      "execution_count": null,
      "outputs": [
        {
          "output_type": "stream",
          "text": [
            "-----Append---------\n",
            "[2, 3, 4, 6, 9]\n",
            "-----Insert---------\n",
            "[2, 3, 8, 4, 6, 9]\n",
            "-----Remove---------\n",
            "[2, 3, 4, 6, 9]\n",
            "-----pop---------\n",
            "[2, 3, 4, 6]\n",
            "-----clear---------\n",
            "[]\n"
          ],
          "name": "stdout"
        }
      ]
    },
    {
      "cell_type": "code",
      "metadata": {
        "id": "IXXTo0fNhbYh",
        "outputId": "b4e00467-8046-4d29-a954-e090235fb6fe"
      },
      "source": [
        "# index\n",
        "list_item = [2,4,6,7,2,4]\n",
        "print(list_item.index(6))\n",
        "print(list_item.count(2))"
      ],
      "execution_count": null,
      "outputs": [
        {
          "output_type": "stream",
          "text": [
            "2\n",
            "2\n"
          ],
          "name": "stdout"
        }
      ]
    },
    {
      "cell_type": "code",
      "metadata": {
        "id": "2lTcOcKyhbYm",
        "colab": {
          "base_uri": "https://localhost:8080/",
          "height": 72
        },
        "outputId": "ff4060f1-9670-42f1-b9be-ddcb5374564f"
      },
      "source": [
        "# 1.sort 2.reverse 3.sorted\n",
        "\n",
        "item = [3,5,2,8,1]\n",
        "item.sort()     # Does not return any thing\n",
        "print(item)\n",
        "\n",
        "\n",
        "item.reverse()\n",
        "print(item)\n",
        "'''\n",
        "Reverse a list without using reverse method\n",
        ">> item_copy = item[:]\n",
        ">> print(item_copy[: : -1])\n",
        "'''\n",
        "\n",
        "print(sorted(item)) # sorted : return an list which is sorted (it creates a copy of list and sort the list)"
      ],
      "execution_count": null,
      "outputs": [
        {
          "output_type": "stream",
          "text": [
            "[1, 2, 3, 5, 8]\n",
            "[8, 5, 3, 2, 1]\n",
            "[1, 2, 3, 5, 8]\n"
          ],
          "name": "stdout"
        }
      ]
    },
    {
      "cell_type": "code",
      "metadata": {
        "id": "WxxLgiMhj6AE",
        "colab": {
          "base_uri": "https://localhost:8080/",
          "height": 35
        },
        "outputId": "c637964b-1eec-4f20-87b7-a453fa0ff35e"
      },
      "source": [
        "# join method works on string\n",
        "\n",
        "sentance = ' '\n",
        "new_sentance = sentance.join(['hii','i\\'m', 'martin'])   # join method require an iterable i.e list\n",
        "print(new_sentance)"
      ],
      "execution_count": null,
      "outputs": [
        {
          "output_type": "stream",
          "text": [
            "hii i'm martin\n"
          ],
          "name": "stdout"
        }
      ]
    },
    {
      "cell_type": "code",
      "metadata": {
        "id": "Pgq1XZqOhbYu",
        "outputId": "2b33e8bf-4965-49e1-9bb3-060f6d91fef7"
      },
      "source": [
        "#list will update if we changing list item before calling copy function ,\n",
        "# but list will not be change when u are appending and deleting after copy function\n",
        "a = [2,3,4,5]\n",
        "b = a.copy()\n",
        "a.append(10)\n",
        "print(b)"
      ],
      "execution_count": null,
      "outputs": [
        {
          "output_type": "stream",
          "text": [
            "[2, 3, 4, 5]\n"
          ],
          "name": "stdout"
        }
      ]
    },
    {
      "cell_type": "code",
      "metadata": {
        "id": "a2B0YnA_hbYz",
        "outputId": "30ecac71-4916-4c2e-fc4d-60b496512a10"
      },
      "source": [
        "#excercise -> remove a duplicate no. from the list\n",
        "numbers = [2,3,4,4,3,5]\n",
        "unique = []\n",
        "\n",
        "for i in numbers:\n",
        "    if i not in unique:\n",
        "        unique.append(i)\n",
        "\n",
        "print(unique)"
      ],
      "execution_count": null,
      "outputs": [
        {
          "output_type": "stream",
          "text": [
            "[2, 3, 4, 5]\n"
          ],
          "name": "stdout"
        }
      ]
    },
    {
      "cell_type": "markdown",
      "metadata": {
        "id": "g6g4Nm5AAtnU"
      },
      "source": [
        "## **Enumerate**\n",
        "\n",
        "The enumerate() method adds counter to an iterable and returns it (the enumerate object).\n",
        "\n",
        "### *`enumerate() Parameters`*\n",
        "\n",
        "enumerate() method takes two parameters:\n",
        "\n",
        "* iterable - a sequence, an iterator, or objects that supports iteration\n",
        "* start (optional) - enumerate() starts counting from this number. If start is omitted, 0 is taken as start.\n",
        "\n",
        "### *`Return Value from enumerate()`*\n",
        "\n",
        "enumerate() method adds counter to an iterable and returns it. The returned object is a enumerate object.\n",
        "\n",
        "You can convert enumerate objects to list and tuple using list() and tuple() method respectively.\n",
        "\n",
        "### *`Reference`*\n",
        "\n",
        "* [Programiz - Enumerate](https://www.programiz.com/python-programming/methods/built-in/enumerate)"
      ]
    },
    {
      "cell_type": "code",
      "metadata": {
        "id": "ZCJ_cZHKA0TY",
        "colab": {
          "base_uri": "https://localhost:8080/",
          "height": 72
        },
        "outputId": "dd5f95ea-2ca3-4e52-8cdd-6b6991432552"
      },
      "source": [
        "# Applying enumerate function\n",
        "\n",
        "fruits = ['apple', 'mango', 'orange']\n",
        "enumerateFruits = enumerate(fruits)\n",
        "print(type(enumerateFruits))\n",
        "\n",
        "# converting to list\n",
        "print(list(enumerateFruits))\n",
        "\n",
        "# changing the default counter\n",
        "enumerateFruits = enumerate(fruits, 10)\n",
        "print(list(enumerateFruits))"
      ],
      "execution_count": null,
      "outputs": [
        {
          "output_type": "stream",
          "text": [
            "<class 'enumerate'>\n",
            "[(0, 'apple'), (1, 'mango'), (2, 'orange')]\n",
            "[(10, 'apple'), (11, 'mango'), (12, 'orange')]\n"
          ],
          "name": "stdout"
        }
      ]
    },
    {
      "cell_type": "code",
      "metadata": {
        "id": "EtQxRYo7DYQR",
        "colab": {
          "base_uri": "https://localhost:8080/",
          "height": 254
        },
        "outputId": "66488ea5-dd6a-4cd4-df86-667c3b6611d1"
      },
      "source": [
        "# Works with list\n",
        "# Looping Over an Enumerate object\n",
        "grocery = ['bread', 'milk', 'butter']\n",
        "\n",
        "for item in enumerate(grocery):\n",
        "  print(item)\n",
        "\n",
        "print('\\n')\n",
        "for count, item in enumerate(grocery):\n",
        "  print(count, item)\n",
        "\n",
        "print('\\n')\n",
        "# changing default start value\n",
        "for count, item in enumerate(grocery, 100):\n",
        "  print(count, item)"
      ],
      "execution_count": null,
      "outputs": [
        {
          "output_type": "stream",
          "text": [
            "(0, 'bread')\n",
            "(1, 'milk')\n",
            "(2, 'butter')\n",
            "\n",
            "\n",
            "0 bread\n",
            "1 milk\n",
            "2 butter\n",
            "\n",
            "\n",
            "100 bread\n",
            "101 milk\n",
            "102 butter\n"
          ],
          "name": "stdout"
        }
      ]
    },
    {
      "cell_type": "code",
      "metadata": {
        "id": "8uCFGqab3O4F",
        "colab": {
          "base_uri": "https://localhost:8080/",
          "height": 199
        },
        "outputId": "7b902030-0faa-4e24-82c9-e49397b0a316"
      },
      "source": [
        "# Work with string\n",
        "\n",
        "for i,char in enumerate('hello'):\n",
        "  print(char)\n",
        "\n",
        "print(\"\\n\")\n",
        "\n",
        "# work with tuple\n",
        "\n",
        "for i,char in enumerate(('hello','i\\'m','josh')):\n",
        "  print(char)"
      ],
      "execution_count": null,
      "outputs": [
        {
          "output_type": "stream",
          "text": [
            "h\n",
            "e\n",
            "l\n",
            "l\n",
            "o\n",
            "\n",
            "\n",
            "hello\n",
            "i'm\n",
            "josh\n"
          ],
          "name": "stdout"
        }
      ]
    },
    {
      "cell_type": "markdown",
      "metadata": {
        "id": "rjgSZgu3aL4T"
      },
      "source": [
        "## **isinstance**\n",
        "```\n",
        "The isinstance() function returns True if the specified object is of the specified type, otherwise False\n",
        "\n",
        "OR\n",
        "\n",
        "The isinstance() function checks if the object (first argument) is an instance or subclass of classinfo class (second argument).\n",
        "```\n",
        "\n",
        "### *`The syntax of isinstance() is:`*\n",
        "\n",
        "```\n",
        "isinstance(object, classinfo)\n",
        "```\n",
        "\n",
        "### *`isinstance() Parameters`*\n",
        "isinstance() takes two parameters:\n",
        "```\n",
        "object - object to be checked\n",
        "classinfo - class, type, or tuple of classes and types\n",
        "```"
      ]
    },
    {
      "cell_type": "code",
      "metadata": {
        "colab": {
          "base_uri": "https://localhost:8080/"
        },
        "id": "A5huBkb6azcN",
        "outputId": "78c413f9-bcd2-4111-e7e2-cc5c5e30b681"
      },
      "source": [
        "numbers = [1, 2, 3]\n",
        "\n",
        "result = isinstance(numbers, list)\n",
        "print(numbers,'instance of list?', result)\n",
        "\n",
        "result = isinstance(numbers, dict)\n",
        "print(numbers,'instance of dict?', result)\n",
        "\n",
        "result = isinstance(numbers, (dict, list))\n",
        "print(numbers,'instance of dict or list?', result)"
      ],
      "execution_count": null,
      "outputs": [
        {
          "output_type": "stream",
          "text": [
            "[1, 2, 3] instance of list? True\n",
            "[1, 2, 3] instance of dict? False\n",
            "[1, 2, 3] instance of dict or list? True\n"
          ],
          "name": "stdout"
        }
      ]
    },
    {
      "cell_type": "code",
      "metadata": {
        "colab": {
          "base_uri": "https://localhost:8080/"
        },
        "id": "8TJSHzvpa2lo",
        "outputId": "18c0f911-8265-46e8-e0da-99d87f49299e"
      },
      "source": [
        "number = 5\n",
        "\n",
        "result = isinstance(number, list)\n",
        "print(number,'instance of list?', result)\n",
        "\n",
        "result = isinstance(number, int)\n",
        "print(number,'instance of int?', result)"
      ],
      "execution_count": null,
      "outputs": [
        {
          "output_type": "stream",
          "text": [
            "5 instance of list? False\n",
            "5 instance of int? True\n"
          ],
          "name": "stdout"
        }
      ]
    },
    {
      "cell_type": "code",
      "metadata": {
        "colab": {
          "base_uri": "https://localhost:8080/"
        },
        "id": "QP9oESmda464",
        "outputId": "1d39cee6-390a-44ea-cf99-f4f74d903913"
      },
      "source": [
        "string = \"Hello\"\n",
        "\n",
        "result = isinstance(string, int)\n",
        "print(string,'instance of int?', result)\n",
        "\n",
        "result = isinstance(string, float)\n",
        "print(string,'instance of float?', result)\n",
        "\n",
        "result = isinstance(string, str)\n",
        "print(string,'instance of str?', result)"
      ],
      "execution_count": null,
      "outputs": [
        {
          "output_type": "stream",
          "text": [
            "Hello instance of int? False\n",
            "Hello instance of float? False\n",
            "Hello instance of str? True\n"
          ],
          "name": "stdout"
        }
      ]
    },
    {
      "cell_type": "code",
      "metadata": {
        "colab": {
          "base_uri": "https://localhost:8080/"
        },
        "id": "fS4RJTfrZnZZ",
        "outputId": "c571e52a-781e-4292-f2d0-c02a89643287"
      },
      "source": [
        "# Will discuss about the \"class\" in python, later . This example is just to show you the working of isinstance.\n",
        "\n",
        "class Foo:\n",
        "  a = 5\n",
        "\n",
        "fooInstance = Foo()\n",
        "\n",
        "print(isinstance(fooInstance, Foo))\n",
        "print(isinstance(fooInstance, (list, tuple)))\n",
        "print(isinstance(fooInstance, (list, tuple, Foo)))"
      ],
      "execution_count": null,
      "outputs": [
        {
          "output_type": "stream",
          "text": [
            "True\n",
            "False\n",
            "True\n"
          ],
          "name": "stdout"
        }
      ]
    },
    {
      "cell_type": "markdown",
      "metadata": {
        "id": "bmwkCSPd_nsQ"
      },
      "source": [
        "## **max and min function**\n",
        "\n",
        "### *`Max function`*\n",
        "```\n",
        "max()\n",
        "This function is used to compute the maximum of the values passed in its argument and lexicographically largest value\n",
        "if strings are passed as arguments.\n",
        "\n",
        "or\n",
        "\n",
        "The Python max() function returns the largest item in an iterable. It can also be used to find the largest item between\n",
        "two or more parameters.\n",
        "```\n",
        "### *`Min function`*\n",
        "```\n",
        "The Python min() function returns the smallest item in an iterable.\n",
        "\n",
        "It can also be used to find the smallest item between two or more parameters.\n",
        "```\n",
        "\n",
        "The max() and min() function has two forms:\n",
        "```\n",
        "// to find the largest item in an iterable\n",
        "max(iterable, *iterables, key, default)\n",
        "\n",
        "// to find the largest item between two or more objects\n",
        "max(arg1, arg2, *args, key)\n",
        "```\n",
        "\n",
        "### *`Parameters`*\n",
        "\n",
        "- iterable - an iterable such as list, tuple, set, dictionary, etc.\n",
        "\n",
        "- *iterables (optional) - any number of iterables; can be more than one\n",
        "\n",
        "- key (optional) - key function where the iterables are passed and comparison is performed based on its return value.\n",
        "\n",
        "- default (optional) - default value if the given iterable is empty"
      ]
    },
    {
      "cell_type": "code",
      "metadata": {
        "colab": {
          "base_uri": "https://localhost:8080/"
        },
        "id": "9reBpQdx_nPR",
        "outputId": "4a63e34b-1a33-4be5-e83f-156aeca5fd09"
      },
      "source": [
        "# Example - 1\n",
        "\n",
        "print(\"Maximum of 4,1,69,7,56 is : \",end=\"\")\n",
        "print (max(4,1,69,7,56) )\n",
        "\n",
        "print(\"minimum of 4,1,69,7,56 is : \",end=\"\")\n",
        "print (min(4,1,69,7,56) )"
      ],
      "execution_count": null,
      "outputs": [
        {
          "output_type": "stream",
          "text": [
            "Maximum of 4,1,69,7,56 is : 69\n",
            "minimum of 4,1,69,7,56 is : 1\n"
          ],
          "name": "stdout"
        }
      ]
    },
    {
      "cell_type": "code",
      "metadata": {
        "colab": {
          "base_uri": "https://localhost:8080/"
        },
        "id": "RFVDQMAWCfBj",
        "outputId": "2d41d976-325b-406b-bb36-243d7e4185db"
      },
      "source": [
        "# Example - 2\n",
        "'''\n",
        "One of the practical application among many are finding lexicographically largest\n",
        "and smallest of Strings i.e String appearing first in dictionary or last.\n",
        "'''\n",
        "print(\"lexicographically largest : \",max(\"Hello\", \"I'm\", \"programmer\", \"who\", \"don't\", \"know\", \"how\", \"to\", \"use\", \"max\", \"function\"))\n",
        "print(\"lexicographically smallest : \",min(\"Hello\", \"I'm\", \"programmer\", \"who\", \"don't\", \"know\", \"how\", \"to\", \"use\", \"min\", \"function\"))"
      ],
      "execution_count": null,
      "outputs": [
        {
          "output_type": "stream",
          "text": [
            "lexicographically largest :  who\n",
            "lexicographically smallest :  Hello\n"
          ],
          "name": "stdout"
        }
      ]
    },
    {
      "cell_type": "code",
      "metadata": {
        "colab": {
          "base_uri": "https://localhost:8080/"
        },
        "id": "n9e1M4UP-afm",
        "outputId": "b4463e41-b5b0-461c-b9cb-15477da2a2dd"
      },
      "source": [
        "# Example - 3\n",
        "'''\n",
        "Example 1: Get the largest item in a list\n",
        "'''\n",
        "number = [3, 2, 8, 5, 10, 6]\n",
        "largest_number = max(number);\n",
        "print(\"The largest number is:\", largest_number)\n",
        "\n",
        "\n",
        "'''\n",
        "Example 1: Get the smallest item in a list\n",
        "'''\n",
        "number = [3, 2, 8, 5, 10, 6]\n",
        "smallest_number = min(number);\n",
        "print(\"The smallest number is:\", smallest_number)"
      ],
      "execution_count": null,
      "outputs": [
        {
          "output_type": "stream",
          "text": [
            "The largest number is: 10\n",
            "The smallest number is: 2\n"
          ],
          "name": "stdout"
        }
      ]
    },
    {
      "cell_type": "code",
      "metadata": {
        "colab": {
          "base_uri": "https://localhost:8080/"
        },
        "id": "OCnyYjNv-61H",
        "outputId": "4093dbd0-47f0-4ced-ef2c-74865a4f1e3f"
      },
      "source": [
        "# Example 4: the largest string in a list\n",
        "\n",
        "languages = [\"Python\", \"C Programming\", \"Java\", \"JavaScript\"]\n",
        "largest_string = max(languages);\n",
        "print(\"The largest string is:\", largest_string)\n",
        "\n",
        "# Example 5: the smallest string in a list\n",
        "\n",
        "smallest_string = min(languages);\n",
        "print(\"The smallest string is:\", smallest_string)"
      ],
      "execution_count": null,
      "outputs": [
        {
          "output_type": "stream",
          "text": [
            "The largest string is: Python\n",
            "The smallest string is: C Programming\n"
          ],
          "name": "stdout"
        }
      ]
    },
    {
      "cell_type": "code",
      "metadata": {
        "colab": {
          "base_uri": "https://localhost:8080/"
        },
        "id": "Nko1Jt62_F9J",
        "outputId": "c5758c44-495a-416d-ea6b-70423250d64e"
      },
      "source": [
        "# Now let's see usecase of key arguments\n",
        "\n",
        "square = {2: 4, -3: 9, -1: 1, -2: 4}\n",
        "\n",
        "# the largest key\n",
        "key1 = max(square)\n",
        "print(\"The largest key:\", key1)    # 2\n",
        "\n",
        "# the key whose value is the largest (lambda : In below few section you can see how lambda function works)\n",
        "key2 = max(square, key = lambda k: square[k])\n",
        "\n",
        "print(\"The key with the largest value:\", key2)    # -3\n",
        "\n",
        "# getting the largest value\n",
        "print(\"The largest value:\", square[key2])    # 9"
      ],
      "execution_count": null,
      "outputs": [
        {
          "output_type": "stream",
          "text": [
            "The largest key: 2\n",
            "The key with the largest value: -3\n",
            "The largest value: 9\n"
          ],
          "name": "stdout"
        }
      ]
    },
    {
      "cell_type": "code",
      "metadata": {
        "colab": {
          "base_uri": "https://localhost:8080/"
        },
        "id": "J5-So75IHUzO",
        "outputId": "8ce67960-958c-49aa-efd9-8d7ea8a0ecd4"
      },
      "source": [
        "# Now let's see usecase of key arguments\n",
        "\n",
        "square = {2: 4, -3: 9, -1: 1, -2: 4}\n",
        "\n",
        "# the largest key\n",
        "key1 = min(square)\n",
        "print(\"The largest key:\", key1)    # 2\n",
        "\n",
        "# the key whose value is the largest (lambda : In below few section you can see how lambda function works)\n",
        "key2 = min(square, key = lambda k: square[k])\n",
        "\n",
        "print(\"The key with the largest value:\", key2)    # -3\n",
        "\n",
        "# getting the largest value\n",
        "print(\"The largest value:\", square[key2])    # 9"
      ],
      "execution_count": null,
      "outputs": [
        {
          "output_type": "stream",
          "text": [
            "The largest key: -3\n",
            "The key with the largest value: -1\n",
            "The largest value: 1\n"
          ],
          "name": "stdout"
        }
      ]
    },
    {
      "cell_type": "markdown",
      "metadata": {
        "id": "NBxKSP8PBR2e"
      },
      "source": [
        "Few Notes:\n",
        "\n",
        "- If we pass an empty iterator, a ValueError exception is raised. To avoid this, we can pass the default parameter.\n",
        "- If we pass more than one iterators, the largest item from the given iterators is returned.\n"
      ]
    },
    {
      "cell_type": "code",
      "metadata": {
        "colab": {
          "base_uri": "https://localhost:8080/"
        },
        "id": "JOgTEPJoA81e",
        "outputId": "c3cb38a4-9bb4-439c-ef83-9531a01aff4e"
      },
      "source": [
        "# Same for both min() and max() function\n",
        "'''\n",
        "max({}) or max({}) or max('') or max(()) -> Returns ValueError\n",
        "'''\n",
        "# So handle this error use default argument\n",
        "\n",
        "print(max([], default=\"List is empty\"))\n",
        "print(max((), default=[1,2,3]))\n",
        "print(min({}, default=None))\n",
        "print(min('', default=5))"
      ],
      "execution_count": null,
      "outputs": [
        {
          "output_type": "stream",
          "text": [
            "List is empty\n",
            "[1, 2, 3]\n",
            "None\n",
            "5\n"
          ],
          "name": "stdout"
        }
      ]
    },
    {
      "cell_type": "code",
      "metadata": {
        "colab": {
          "base_uri": "https://localhost:8080/"
        },
        "id": "N8VWGB1mqgS8",
        "outputId": "93b59f1e-6e1a-4518-ac13-019472b970a8"
      },
      "source": [
        "# want to find max or min sum array from the given nested list\n",
        "'''\n",
        "Use key = sum\n",
        "'''\n",
        "print(\"max sum list : \",max([[1,2,4,3],[4,5,6],[0,9,10],[19,2,21]],key=sum))\n",
        "print(\"min sum list : \",min([[1,2,4,3],[4,5,6],[0,9,10],[19,2,21]],key=sum))"
      ],
      "execution_count": null,
      "outputs": [
        {
          "output_type": "stream",
          "text": [
            "max sum list :  [19, 2, 21]\n",
            "min sum list :  [1, 2, 4, 3]\n"
          ],
          "name": "stdout"
        }
      ]
    },
    {
      "cell_type": "code",
      "metadata": {
        "colab": {
          "base_uri": "https://localhost:8080/"
        },
        "id": "CwPZDKANDSij",
        "outputId": "3231c60d-f3ec-4c04-b07e-349f6a50306a"
      },
      "source": [
        "# want to find max or min length array from the given nested list\n",
        "'''\n",
        "Use key = len\n",
        "'''\n",
        "print(\"max len list\",max([[1,2,4,3],[4,5,6],[0,9,10],[19,2,21]],key=len))\n",
        "print(\"min len list\",min([[1,2,4,3],[4,5],[0,9,10],[19,2,21]],key=len))"
      ],
      "execution_count": null,
      "outputs": [
        {
          "output_type": "stream",
          "text": [
            "max len list [1, 2, 4, 3]\n",
            "min len list [4, 5]\n"
          ],
          "name": "stdout"
        }
      ]
    },
    {
      "cell_type": "code",
      "metadata": {
        "colab": {
          "base_uri": "https://localhost:8080/"
        },
        "id": "PEnUpMC0ESKO",
        "outputId": "debd201f-ae93-4f84-a83b-746361b4a460"
      },
      "source": [
        "# want to find max or min length array from the given nested list\n",
        "'''\n",
        "Use key = lambda (In below few section you can see how lambda function works)\n",
        "'''\n",
        "print(\"max len list\", max([[1,2,4,3],[4,5,6],[0,9,10],[19,2,21]], key = lambda i: len(i)))\n",
        "print(\"min len list\", min([[1,2,4,3],[4,5,6],[0,9,10],[19,2,21]], key = lambda i: len(i)))"
      ],
      "execution_count": null,
      "outputs": [
        {
          "output_type": "stream",
          "text": [
            "max len list [1, 2, 4, 3]\n",
            "min len list [4, 5, 6]\n"
          ],
          "name": "stdout"
        }
      ]
    },
    {
      "cell_type": "markdown",
      "metadata": {
        "id": "YweVddikfq2m"
      },
      "source": [
        "## **all**\n",
        "\n",
        "The all() method returns True when all elements in the given iterable are true. If not, it returns False.\n",
        "\n",
        "The syntax of all() method is:\n",
        "\n",
        "```\n",
        "all(iterable)\n",
        "```\n",
        "\n",
        "\n",
        "#### **`all() Parameters`** <br/>\n",
        "\n",
        "---\n",
        "all() method takes a single parameter:\n",
        "\n",
        "  * iterable - any iterable (list, tuple, dictionary, etc.) .which contains the elements\n",
        "\n",
        "#### **`Return Value from all()`**\n",
        "----\n",
        "\n",
        "all() method returns:\n",
        "\n",
        "```\n",
        "True - If all elements in an iterable are true\n",
        "False - If any element in an iterable is false\n",
        "```\n",
        "\n",
        "#### **`Truth table for all()`**\n",
        "\n",
        "| When    |  Return value |\n",
        "|---------| ------------------  |\n",
        "| All values are true  | True |\n",
        "| All values are false  | False |\n",
        "| One value is true (others are false)  | False |\n",
        "| One value is false (others are true) | False |"
      ]
    },
    {
      "cell_type": "code",
      "metadata": {
        "id": "r1vKlxOAjMHf",
        "colab": {
          "base_uri": "https://localhost:8080/",
          "height": 119
        },
        "outputId": "2408e6c2-0897-4f88-9019-4dd28d8856f1"
      },
      "source": [
        "# Return value is boolean which is either True or False\n",
        "\n",
        "# all values true\n",
        "l = [1, 3, 4, 5]\n",
        "print(all(l))                       # Result : True\n",
        "\n",
        "# all values false\n",
        "l = [0, False]\n",
        "print(all(l))                       # Result : False\n",
        "\n",
        "# one false value\n",
        "l = [1, 3, 4, 0]\n",
        "print(all(l))                       # Result : False\n",
        "\n",
        "# one true value\n",
        "l = [0, False, 5]\n",
        "print(all(l))                       # Result : False\n",
        "\n",
        "# empty iterable\n",
        "l = []\n",
        "print(all(l))          # when using all for empty iterable it return True\n",
        "print(bool(l))         # without using all for empty iterable it return False (so by default [] is represent boolean 'False')"
      ],
      "execution_count": null,
      "outputs": [
        {
          "output_type": "stream",
          "text": [
            "True\n",
            "False\n",
            "False\n",
            "False\n",
            "True\n",
            "False\n"
          ],
          "name": "stdout"
        }
      ]
    },
    {
      "cell_type": "code",
      "metadata": {
        "id": "V-M6zvIFneYs",
        "colab": {
          "base_uri": "https://localhost:8080/",
          "height": 68
        },
        "outputId": "ab8c3daa-f7e1-4abe-b681-f8f669ef63fa"
      },
      "source": [
        "## How all() works for strings\n",
        "\n",
        "s = \"This is good\"\n",
        "print(all(s))\n",
        "\n",
        "# 0 is False\n",
        "# '0' is True\n",
        "s = '000'\n",
        "print(all(s))\n",
        "\n",
        "s = ''\n",
        "print(all(s))"
      ],
      "execution_count": null,
      "outputs": [
        {
          "output_type": "stream",
          "text": [
            "True\n",
            "True\n",
            "True\n"
          ],
          "name": "stdout"
        }
      ]
    },
    {
      "cell_type": "code",
      "metadata": {
        "id": "Rymj3fwLnkn-",
        "colab": {
          "base_uri": "https://localhost:8080/",
          "height": 102
        },
        "outputId": "bb90727e-b2e7-4bd7-e161-8dc1fe0a71cb"
      },
      "source": [
        "# all() also works with Python dictionaries\n",
        "\n",
        "'''\n",
        "In case of dictionaries, if all keys (not values) are true or the dictionary is empty,\n",
        "all() returns True. Else, it returns false for all other cases..\n",
        "'''\n",
        "\n",
        "s = {0: 'False', 1: 'False'}\n",
        "print(all(s))\n",
        "\n",
        "s = {1: 'True', 2: 'True'}\n",
        "print(all(s))\n",
        "\n",
        "s = {1: 'True', False: 0}\n",
        "print(all(s))\n",
        "\n",
        "s = {}\n",
        "print(all(s))\n",
        "\n",
        "# 0 is False\n",
        "# '0' is True\n",
        "s = {'0': 'True'}\n",
        "print(all(s))"
      ],
      "execution_count": null,
      "outputs": [
        {
          "output_type": "stream",
          "text": [
            "False\n",
            "True\n",
            "False\n",
            "True\n",
            "True\n"
          ],
          "name": "stdout"
        }
      ]
    },
    {
      "cell_type": "markdown",
      "metadata": {
        "id": "zvrsSIHS9QiD"
      },
      "source": [
        "## **any**\n",
        "\n",
        "```\n",
        "The any() function returns True if any element of an iterable is True. If not, any() returns False.\n",
        "```\n",
        "The syntax of any() is:\n",
        "```\n",
        "any(iterable)\n",
        "```\n",
        "Parameters for the any() function\n",
        "The any() function takes an iterable (list, string, dictionary etc.) in Python.\n",
        "\n",
        "Value Returned by the any() function\n",
        "The any() function returns a boolean value:\n",
        "\n",
        "* [x] True if at least one element of an iterable is true.\n",
        "* [x] False if all elements are false or if an iterable is empty\n",
        "\n",
        "#### **`Truth table for any()`**\n",
        "\n",
        "| When    |  Return value |\n",
        "|---------| ------------------  |\n",
        "| All values are true  | True |\n",
        "| All values are false  | False |\n",
        "| One value is true (others are false)  | True |\n",
        "| One value is false (others are true) | True |\n",
        "| Empty iterable | False |\n",
        "\n",
        "**Reference**\n",
        "\n",
        "- [Programiz - Python any](https://www.programiz.com/python-programming/methods/built-in/any)\n"
      ]
    },
    {
      "cell_type": "code",
      "metadata": {
        "colab": {
          "base_uri": "https://localhost:8080/"
        },
        "id": "G4l5pRZj_FJG",
        "outputId": "dbe481f3-d6e1-4a4d-dc5a-0fca07c5a22e"
      },
      "source": [
        "# True since 1,3 and 4 (at least one) is true\n",
        "l = [1, 3, 4, 0]\n",
        "print(any(l))\n",
        "\n",
        "# False since both are False\n",
        "l = [0, False]\n",
        "print(any(l))\n",
        "\n",
        "# True since 5 is true\n",
        "l = [0, False, 5]\n",
        "print(any(l))\n",
        "\n",
        "# False since iterable is empty\n",
        "l = []\n",
        "print(any(l))"
      ],
      "execution_count": null,
      "outputs": [
        {
          "output_type": "stream",
          "text": [
            "True\n",
            "False\n",
            "True\n",
            "False\n"
          ],
          "name": "stdout"
        }
      ]
    },
    {
      "cell_type": "code",
      "metadata": {
        "colab": {
          "base_uri": "https://localhost:8080/"
        },
        "id": "Xpeo0bwN_PLR",
        "outputId": "f75f0d95-2ce8-48b4-afec-7dd7a8d0283c"
      },
      "source": [
        "'''\n",
        "Using any() on Python Strings\n",
        "'''\n",
        "# Atleast one (in fact all) elements are True\n",
        "s = \"This is good\"\n",
        "print(any(s))\n",
        "\n",
        "# 0 is False\n",
        "# '0' is True since its a string character\n",
        "s = '000'\n",
        "print(any(s))\n",
        "\n",
        "# False since empty iterable\n",
        "s = ''\n",
        "print(any(s))"
      ],
      "execution_count": null,
      "outputs": [
        {
          "output_type": "stream",
          "text": [
            "True\n",
            "True\n",
            "False\n"
          ],
          "name": "stdout"
        }
      ]
    },
    {
      "cell_type": "code",
      "metadata": {
        "colab": {
          "base_uri": "https://localhost:8080/"
        },
        "id": "3cRwgFEU_aNV",
        "outputId": "a8e78b6e-5871-47c2-8e6f-dbd01da90865"
      },
      "source": [
        "# 0 is False\n",
        "d = {0: 'False'}\n",
        "print(any(d))\n",
        "\n",
        "# 1 is True\n",
        "d = {0: 'False', 1: 'True'}\n",
        "print(any(d))\n",
        "\n",
        "# 0 and False are false\n",
        "d = {0: 'False', False: 0}\n",
        "print(any(d))\n",
        "\n",
        "# iterable is empty\n",
        "d = {}\n",
        "print(any(d))\n",
        "\n",
        "# 0 is False\n",
        "# '0' is True\n",
        "d = {'0': 'False'}\n",
        "print(any(d))"
      ],
      "execution_count": null,
      "outputs": [
        {
          "output_type": "stream",
          "text": [
            "False\n",
            "True\n",
            "False\n",
            "False\n",
            "True\n"
          ],
          "name": "stdout"
        }
      ]
    },
    {
      "cell_type": "markdown",
      "metadata": {
        "id": "TIMbj8htKK0a"
      },
      "source": [
        "## 2️⃣ **Functional programming**\n",
        "\n",
        "### **`Note`**\n",
        "```\n",
        "As if now, Don't look at the code, only understand the concept, the code will be explained in below few section.\n",
        "```\n",
        "\n",
        "### **`Reference`** :\n",
        "[Newrelic - Python Programming style](https://blog.newrelic.com/engineering/python-programming-styles/)\n",
        "\n",
        "**Functional**: Every statement is treated as a mathematical equation and any forms of state or mutable data are avoided. The main advantage of this approach is that it lends itself well to parallel processing because there is no state to consider. Many developers prefer this coding style for recursion and for lambda calculus. (Note that Python’s implementation of functional programming deviates from the standard—read, is impure— because it’s possible to maintain state and create side effects if you’re not careful.\n",
        "\n",
        "## *`Using the functional coding style`*\n",
        "\n",
        "The functional coding style treats everything like a math equation. The two most common ways to compute the sum of my_list would be to use a local function or a lambda expression. Here’s how you’d do it with a local function in Python 3.6:\n",
        "\n",
        "```python\n",
        "import functools\n",
        "my_list = [1, 2, 3, 4, 5]\n",
        "def add_it(x, y):\n",
        "    return (x + y)\n",
        "sum = functools.reduce(add_it, my_list)\n",
        "print(sum)  # Output : 15\n",
        "\n",
        "```\n",
        "\n",
        "The functools package provides access to higher-order functions for data manipulation. However, you don’t always use it to perform functional programming with Python. Here’s a simple example using my_list with a lambda function:\n",
        "\n",
        "```python\n",
        "square = lambda x: x**2\n",
        "double = lambda x: x + x\n",
        "print(list(map(square, my_list)))      # Output : [1, 4, 9, 16, 25]\n",
        "print(list(map(double, my_list)))      # Output : [2, 4, 6, 8, 10]\n",
        "```\n",
        "\n",
        "As you can see, the lambda expression is simpler (or, at least, shorter) than a similar procedural approach. Here’s a lambda function version of the functools.reduce() call:\n",
        "```python\n",
        "import functools\n",
        "my_list = [1, 2, 3, 4, 5]\n",
        "sum = functools.reduce(lambda x, y: x + y, my_list)\n",
        "print(sum)      # Output : 15\n",
        "```"
      ]
    },
    {
      "cell_type": "markdown",
      "metadata": {
        "id": "ygLEQhP0hbZs"
      },
      "source": [
        "## **Map**"
      ]
    },
    {
      "cell_type": "code",
      "metadata": {
        "id": "e-PcAtkdhbZt"
      },
      "source": [
        "def times(var):\n",
        "    return var*2;\n",
        "    load"
      ],
      "execution_count": null,
      "outputs": []
    },
    {
      "cell_type": "code",
      "metadata": {
        "id": "fgm7v-PQhbZz",
        "outputId": "ba3fdcfc-3d52-493c-f2d7-0961576686a3"
      },
      "source": [
        "times(2)"
      ],
      "execution_count": null,
      "outputs": [
        {
          "output_type": "execute_result",
          "data": {
            "text/plain": [
              "4"
            ]
          },
          "metadata": {
            "tags": []
          },
          "execution_count": 16
        }
      ]
    },
    {
      "cell_type": "code",
      "metadata": {
        "id": "nv3tgjIkhbZ5",
        "outputId": "89c824cc-8536-40c0-e216-07991aaf05f4"
      },
      "source": [
        "seq = [1,2,3]\n",
        "\n",
        "list(map(times,seq))"
      ],
      "execution_count": null,
      "outputs": [
        {
          "output_type": "execute_result",
          "data": {
            "text/plain": [
              "[2, 4, 6]"
            ]
          },
          "metadata": {
            "tags": []
          },
          "execution_count": 17
        }
      ]
    },
    {
      "cell_type": "markdown",
      "metadata": {
        "id": "oFDppJHLhbZ-"
      },
      "source": [
        "## **Lambda**"
      ]
    },
    {
      "cell_type": "code",
      "metadata": {
        "id": "QWKWLk17hbZ_"
      },
      "source": [
        "# instead of writing like this we can write\n",
        "# def times(var):\n",
        "#     return var*2;\n",
        "\n",
        "t = lambda var : var*2"
      ],
      "execution_count": null,
      "outputs": []
    },
    {
      "cell_type": "code",
      "metadata": {
        "id": "EpmE6728hbaI",
        "outputId": "780bcbfa-b2a1-4595-d3d3-ae4d88a80ea3"
      },
      "source": [
        "t(3)"
      ],
      "execution_count": null,
      "outputs": [
        {
          "output_type": "execute_result",
          "data": {
            "text/plain": [
              "6"
            ]
          },
          "metadata": {
            "tags": []
          },
          "execution_count": 22
        }
      ]
    },
    {
      "cell_type": "code",
      "metadata": {
        "id": "4JWVcmfghbaN",
        "outputId": "ca6d100c-1663-4263-d1a8-cc74dbd748a1"
      },
      "source": [
        "list(map(t,seq))"
      ],
      "execution_count": null,
      "outputs": [
        {
          "output_type": "execute_result",
          "data": {
            "text/plain": [
              "[2, 4, 6]"
            ]
          },
          "metadata": {
            "tags": []
          },
          "execution_count": 23
        }
      ]
    },
    {
      "cell_type": "markdown",
      "metadata": {
        "id": "I077PegShbaY"
      },
      "source": [
        "## **Filter**"
      ]
    },
    {
      "cell_type": "code",
      "metadata": {
        "id": "Pb-1PFOThbaa",
        "outputId": "0f2f6580-f1b0-4e17-c5eb-2d0653408e59"
      },
      "source": [
        "list(map(lambda num : num %2 ==0,seq))"
      ],
      "execution_count": null,
      "outputs": [
        {
          "output_type": "execute_result",
          "data": {
            "text/plain": [
              "[False, True, False]"
            ]
          },
          "metadata": {
            "tags": []
          },
          "execution_count": 25
        }
      ]
    },
    {
      "cell_type": "code",
      "metadata": {
        "id": "bzKUHySQhbah",
        "outputId": "196616f9-449f-4065-ede4-07d733335911"
      },
      "source": [
        "list(filter(lambda num : num %2 ==0,seq))"
      ],
      "execution_count": null,
      "outputs": [
        {
          "output_type": "execute_result",
          "data": {
            "text/plain": [
              "[2]"
            ]
          },
          "metadata": {
            "tags": []
          },
          "execution_count": 26
        }
      ]
    },
    {
      "cell_type": "markdown",
      "metadata": {
        "id": "wsHbitA4hbap"
      },
      "source": [
        "## **Unpacking**"
      ]
    },
    {
      "cell_type": "code",
      "metadata": {
        "id": "0bEzSU75hbar",
        "colab": {
          "base_uri": "https://localhost:8080/",
          "height": 90
        },
        "outputId": "15d360ce-26ce-4c25-e8c7-96ddc0f036f9"
      },
      "source": [
        "#unpacking\n",
        "coordinates = [2,3,4]\n",
        "# x = coordinates[0]\n",
        "# y = coordinates[1]\n",
        "# z = coordinates[2]\n",
        "# instead of writing like this we can write\n",
        "x,y,z = coordinates  #unpacking -> work with both list and tuple\n",
        "print(x)\n",
        "\n",
        "larger_cordinates = [1,2,3,4,5,6,7,8]     # a,b,c contain values 1,2,3 but rest will be stored in others variable using (*)\n",
        "a,b,c,*other = larger_cordinates\n",
        "print(other)\n",
        "\n",
        "a,b,c,*other,d = larger_cordinates\n",
        "print(other,d)\n",
        "\n",
        "box_cordinates = [50,100,200,200]\n",
        "(x,y,w,h) = box_cordinates\n",
        "print(x,y,w,h)\n",
        "\n"
      ],
      "execution_count": null,
      "outputs": [
        {
          "output_type": "stream",
          "text": [
            "2\n",
            "[4, 5, 6, 7, 8]\n",
            "[4, 5, 6, 7] 8\n",
            "50 100 200 200\n"
          ],
          "name": "stdout"
        }
      ]
    },
    {
      "cell_type": "markdown",
      "metadata": {
        "id": "kPoD_bdBreQJ"
      },
      "source": [
        "## **Zip**"
      ]
    },
    {
      "cell_type": "code",
      "metadata": {
        "colab": {
          "base_uri": "https://localhost:8080/"
        },
        "id": "f-1EHGfHriO9",
        "outputId": "580b2f41-43e2-4d4a-d96c-2f9e49bac0b3"
      },
      "source": [
        "# Exercise\n",
        "def wordListToFreqDict(wordstring):\n",
        "\n",
        "  wordlist = wordstring.split()\n",
        "  wordfreq = [wordlist.count(p) for p in wordlist]\n",
        "  return dict(list(zip(wordlist,wordfreq)))\n",
        "\n",
        "wordstring ='it was the best of times it was the worst of times , it was the age of wisdom it was the age of foolishness'\n",
        "print(wordListToFreqDict(wordstring))"
      ],
      "execution_count": null,
      "outputs": [
        {
          "output_type": "stream",
          "text": [
            "{'it': 4, 'was': 4, 'the': 4, 'best': 1, 'of': 4, 'times': 2, 'worst': 1, ',': 1, 'age': 2, 'wisdom': 1, 'foolishness': 1}\n"
          ],
          "name": "stdout"
        }
      ]
    },
    {
      "cell_type": "markdown",
      "metadata": {
        "id": "jU_ddqrGkYNk"
      },
      "source": [
        "## **Itertools**\n",
        "---\n",
        "[Python’s Itertool](https://www.geeksforgeeks.org/python-itertools/) is a module that provides various functions that work on iterators to produce complex iterators. This module works as a fast, memory-efficient tool that is used either by themselves or in combination to form iterator algebra.\n",
        "\n",
        "Iterators in Python is an object that can iterate like sequence data types such as list, tuple, str and so on."
      ]
    },
    {
      "cell_type": "markdown",
      "metadata": {
        "id": "wPi15TLTkoy3"
      },
      "source": [
        "### **Itertools – zip_longest()**\n",
        "\n",
        "\n",
        "- This iterator falls under the category of Terminating Iterators.\n",
        "\n",
        "- It prints the values of iterables alternatively in sequence. If one of the iterables is printed fully, the remaining values are filled by the values assigned to fillvalue parameter."
      ]
    },
    {
      "cell_type": "code",
      "metadata": {
        "colab": {
          "base_uri": "https://localhost:8080/"
        },
        "id": "OI7A4VDclkOX",
        "outputId": "2ae9b4c9-8148-4357-f73d-de98e0f023b6"
      },
      "source": [
        "# zip_longest( iterable1, iterable2, fillval)\n",
        "# Similar to zip function but it also works for iterators of different length\n",
        "\n",
        "import itertools\n",
        "\n",
        "# using zip_longest() to combine two iterables.\n",
        "print(\"The combined values of iterables is  : \")\n",
        "print(*(itertools.zip_longest('ABCD', 'EFGHI', fillvalue ='_' )))"
      ],
      "execution_count": null,
      "outputs": [
        {
          "output_type": "stream",
          "text": [
            "The combined values of iterables is  : \n",
            "('A', 'E') ('B', 'F') ('C', 'G') ('D', 'H') ('_', 'I')\n"
          ],
          "name": "stdout"
        }
      ]
    },
    {
      "cell_type": "code",
      "metadata": {
        "colab": {
          "base_uri": "https://localhost:8080/"
        },
        "id": "fEFpL4kymbbQ",
        "outputId": "556d5364-ba8d-449a-9324-153eff5dd292"
      },
      "source": [
        "#@title Excercise : Merge Strings Alternately { vertical-output: true, display-mode: \"both\" }\n",
        "\n",
        "print(\n",
        "'''\n",
        "Input: word1 = \"abc\", word2 = \"pqr\"\n",
        "Output: \"apbqcr\"\n",
        "Explanation: The merged string will be merged as so:\n",
        "word1:  a   b   c\n",
        "word2:    p   q   r\n",
        "merged: a p b q c r\n",
        "\n",
        "NOTE : [Source code is hidden]\n",
        "'''\n",
        ")\n",
        "# This code will be hidden when the notebook is loaded.\n",
        "\n",
        "\n"
      ],
      "execution_count": null,
      "outputs": [
        {
          "output_type": "stream",
          "text": [
            "\n",
            "Input: word1 = \"abc\", word2 = \"pqr\"\n",
            "Output: \"apbqcr\"\n",
            "Explanation: The merged string will be merged as so:\n",
            "word1:  a   b   c\n",
            "word2:    p   q   r\n",
            "merged: a p b q c r\n",
            "\n",
            "NOTE : [Source code is hidden]\n",
            "\n"
          ],
          "name": "stdout"
        }
      ]
    },
    {
      "cell_type": "markdown",
      "metadata": {
        "id": "WYcZfjggvWuv"
      },
      "source": [
        "## **Ways Convert 2D list to 1D list**\n",
        "\n",
        "Given a 2D list, write a Python program to convert the given list into a flattened list.\n",
        "\n"
      ]
    },
    {
      "cell_type": "code",
      "metadata": {
        "colab": {
          "base_uri": "https://localhost:8080/"
        },
        "id": "gt8Wu5qBve7N",
        "outputId": "2265ad22-7aaf-4747-8728-871673cae37e"
      },
      "source": [
        "# Method 1: Using chain.iterable()\n",
        "\n",
        "from itertools import chain\n",
        "\n",
        "grid = [[1, 2, 3],\n",
        "            [3, 6, 7],\n",
        "            [7, 5, 4]]\n",
        "\n",
        "# printing initial list\n",
        "print (\"initial list \", grid)\n",
        "\n",
        "# converting 2d list into 1d\n",
        "# using chain.from_iterables\n",
        "flatten_list = list(chain.from_iterable(grid))\n",
        "\n",
        "# printing flatten_list\n",
        "print (\"final_result\", flatten_list)"
      ],
      "execution_count": null,
      "outputs": [
        {
          "output_type": "stream",
          "text": [
            "initial list  [[1, 2, 3], [3, 6, 7], [7, 5, 4]]\n",
            "final_result [1, 2, 3, 3, 6, 7, 7, 5, 4]\n"
          ],
          "name": "stdout"
        }
      ]
    },
    {
      "cell_type": "code",
      "metadata": {
        "colab": {
          "base_uri": "https://localhost:8080/"
        },
        "id": "LY61mc1oxBR0",
        "outputId": "bf02ee3d-1f6f-4a74-a38b-7c2a894eb78c"
      },
      "source": [
        "# Method 02: Using list comprehension\n",
        "\n",
        "# using list comprehension\n",
        "flatten_list = [j for sub in grid for j in sub]\n",
        "\n",
        "# printing flatten_list\n",
        "print (\"final_result\", flatten_list)"
      ],
      "execution_count": null,
      "outputs": [
        {
          "output_type": "stream",
          "text": [
            "final_result [1, 2, 3, 3, 6, 7, 7, 5, 4]\n"
          ],
          "name": "stdout"
        }
      ]
    },
    {
      "cell_type": "code",
      "metadata": {
        "colab": {
          "base_uri": "https://localhost:8080/"
        },
        "id": "1NiVVnfjxgVD",
        "outputId": "4734de22-2c3d-4961-b79e-1c1855ba4c7b"
      },
      "source": [
        "# Method 03: Using functools.reduce\n",
        "\n",
        "from functools import reduce\n",
        "\n",
        "flatten_list = reduce(lambda z, y :z + y, grid)\n",
        "\n",
        "# printing flatten_list\n",
        "print (\"final_result\", flatten_list)"
      ],
      "execution_count": null,
      "outputs": [
        {
          "output_type": "stream",
          "text": [
            "final_result [1, 2, 3, 3, 6, 7, 7, 5, 4]\n"
          ],
          "name": "stdout"
        }
      ]
    },
    {
      "cell_type": "markdown",
      "metadata": {
        "id": "etnC_rvx0dRM"
      },
      "source": [
        "To make it slightly faster you could can use operator.add, which is built-in, instead of lambda:\n"
      ]
    },
    {
      "cell_type": "code",
      "metadata": {
        "colab": {
          "base_uri": "https://localhost:8080/"
        },
        "id": "G7CNxdSn0ZWh",
        "outputId": "02a262f3-3eea-4787-c703-e6efd5efb6ed"
      },
      "source": [
        "from operator import add\n",
        "\n",
        "flatten_list = reduce(add, grid)\n",
        "\n",
        "# printing flatten_list\n",
        "print (\"final_result\", flatten_list)"
      ],
      "execution_count": null,
      "outputs": [
        {
          "output_type": "stream",
          "text": [
            "final_result [1, 2, 3, 3, 6, 7, 7, 5, 4]\n"
          ],
          "name": "stdout"
        }
      ]
    },
    {
      "cell_type": "code",
      "metadata": {
        "colab": {
          "base_uri": "https://localhost:8080/"
        },
        "id": "4MornK92ywqX",
        "outputId": "cf0d25d6-38e5-49d0-d5bd-ac0ab3ccf246"
      },
      "source": [
        "# Method #4: Using sum\n",
        "'''\n",
        "sum has an optional argument: sum(iterable [, start])\n",
        "NOTE: sum (its fast for short list but not for long list)\n",
        "'''\n",
        "\n",
        "flatten_list = sum(grid, [])\n",
        "\n",
        "print(\"final_result\", flatten_list)"
      ],
      "execution_count": null,
      "outputs": [
        {
          "output_type": "stream",
          "text": [
            "final_result [1, 2, 3, 3, 6, 7, 7, 5, 4]\n"
          ],
          "name": "stdout"
        }
      ]
    },
    {
      "cell_type": "markdown",
      "metadata": {
        "id": "jax7lOVE1lW0"
      },
      "source": [
        "this works because the + operator happens to be the concatenation operator for lists, and you've told it that the starting value is [ ] - an empty list.\n",
        "\n",
        "but the documentaion for sum advises that you use itertools.chain instead, as it's much clearer."
      ]
    },
    {
      "cell_type": "markdown",
      "metadata": {
        "id": "hhUj2KY5L8UK"
      },
      "source": [
        "## 3️⃣ **Procedural Programming**\n",
        "\n",
        "\n",
        "### **`Note`**\n",
        "```\n",
        "As if now, Don't look at the code, only understand the concept, the code will be explained in below few section.\n",
        "```\n",
        "\n",
        "Tasks are treated as step-by-step iterations where common tasks are placed in functions that are called as needed. This coding style favors iteration, sequencing, selection, and modularization. Python excels in implementing this particular paradigm.\n",
        "\n",
        "\n",
        "## *`Using the procedural coding style`*\n",
        "\n",
        "The procedural style relies on procedure calls to create modularized code. This approach simplifies your application code by breaking it into small pieces that a developer can view easily. Even though procedural coding is an older form of application development, it’s still a viable approach for tasks that lend themselves to step-by-step execution. Here’s an example of the procedural coding style using my_list:\n",
        "```python\n",
        "def do_add(any_list):\n",
        "    sum = 0\n",
        "    for x in any_list:\n",
        "        sum += x\n",
        "    return sum\n",
        "print(do_add(my_list))\n",
        "```\n",
        "The use of a function, do_add(), simplifies the overall code in this case. The execution is still systematic, but the code is easier to understand because it’s broken into chunks. However, this code suffers from the same issues as the imperative paradigm in that the use of state limits execution options, which means that this approach may not use hardware efficiently when tackling complex problems."
      ]
    },
    {
      "cell_type": "markdown",
      "metadata": {
        "id": "OXtwgj_L4zsy"
      },
      "source": [
        "## **Python Identifiers**\n",
        "\n",
        "An identifier is a name given to entities like class, functions, variables, etc. It helps to differentiate one entity from another."
      ]
    },
    {
      "cell_type": "markdown",
      "metadata": {
        "id": "I84Dam16hbbM"
      },
      "source": [
        "## **Function**\n",
        "\n",
        "In Python, a function is a group of related statements that performs a specific task.\n",
        "\n",
        "Functions help break our program into smaller and modular chunks. As our program grows larger and larger, functions make it more organized and manageable.\n",
        "\n",
        "Furthermore, it avoids repetition and makes the code reusable.\n",
        "\n",
        "#### **`Syntax of Function`**\n",
        "\n",
        "```python\n",
        "def function_name(parameters):\n",
        "\t\"\"\"docstring\"\"\"\n",
        "\tstatement(s)\n",
        "  return\n",
        "```\n",
        "\n",
        "* Keyword def that marks the start of the function header.\n",
        "* Optional documentation string (docstring) to describe what the function does.\n",
        "* One or more valid python statements that make up the function body. Statements must have the same indentation level (usually 4 spaces).\n",
        "* An optional return statement to return a value from the function.\n",
        "\n",
        "\n",
        "#### **Reference** :\n",
        "\n",
        "* [Programiz - Python Function](https://www.programiz.com/python-programming/function)"
      ]
    },
    {
      "cell_type": "code",
      "metadata": {
        "id": "7k6u7VEehbbN",
        "colab": {
          "base_uri": "https://localhost:8080/",
          "height": 54
        },
        "outputId": "699183fb-2ccd-4dcd-d17b-8474b448ba4f"
      },
      "source": [
        "# Function without arguments\n",
        "def text():\n",
        "    print(\"i'm John\")\n",
        "\n",
        "print(\"hii\")\n",
        "text()"
      ],
      "execution_count": null,
      "outputs": [
        {
          "output_type": "stream",
          "text": [
            "hii\n",
            "i'm John\n"
          ],
          "name": "stdout"
        }
      ]
    },
    {
      "cell_type": "code",
      "metadata": {
        "id": "9Q5P8BTfpUXL",
        "colab": {
          "base_uri": "https://localhost:8080/",
          "height": 35
        },
        "outputId": "02deeb97-89d0-4abb-b7cc-d90e0aea8dd0"
      },
      "source": [
        "# Function without arguments\n",
        "def greet(name):\n",
        "    \"\"\"\n",
        "    This function greets to\n",
        "    the person passed in as\n",
        "    a parameter\n",
        "    \"\"\"\n",
        "    print(\"Hello, \" + name + \". Good morning!\")\n",
        "\n",
        "greet('Paul')"
      ],
      "execution_count": null,
      "outputs": [
        {
          "output_type": "stream",
          "text": [
            "Hello, Paul. Good morning!\n"
          ],
          "name": "stdout"
        }
      ]
    },
    {
      "cell_type": "code",
      "metadata": {
        "id": "q4N-1atGl5AN",
        "colab": {
          "base_uri": "https://localhost:8080/",
          "height": 34
        },
        "outputId": "573efd41-ce5e-4411-9a90-93f76841c3d5"
      },
      "source": [
        "# In Python, we can set default values for arguments.\n",
        "# If the function is called without the argument, the default value is used.\n",
        "\n",
        "'''\n",
        "Type of arguments clearly explained in few section below\n",
        "'''\n",
        "\n",
        "def calculate (num1, num2=4):\n",
        "  res = num1 * num2\n",
        "  print(res)\n",
        "\n",
        "calculate(5, 6)"
      ],
      "execution_count": null,
      "outputs": [
        {
          "output_type": "stream",
          "text": [
            "30\n"
          ],
          "name": "stdout"
        }
      ]
    },
    {
      "cell_type": "code",
      "metadata": {
        "id": "Dp-0GbAkhbbv",
        "colab": {
          "base_uri": "https://localhost:8080/",
          "height": 72
        },
        "outputId": "25ae1e1e-3537-4fae-e9c5-31b4a3ec5569"
      },
      "source": [
        "'''\n",
        " Return: If we doesn't return anything then function will return 'none' by default\n",
        " Note : As soon we return something from the function it will exit from that function\n",
        " i.e if we write any peice of code after return statement , it would not execute\n",
        "'''\n",
        "\n",
        "# Note -> if you don't write return statement then it will return object which is : none\n",
        "\n",
        "def cube(n):\n",
        "    print(n**3)                     # output : 27\n",
        "print(cube(3))                      # output : None\n",
        "\n",
        "def square(num):\n",
        "    return num*num\n",
        "result = square(5)\n",
        "print(result)                       # output : 25"
      ],
      "execution_count": null,
      "outputs": [
        {
          "output_type": "stream",
          "text": [
            "27\n",
            "None\n",
            "25\n"
          ],
          "name": "stdout"
        }
      ]
    },
    {
      "cell_type": "code",
      "metadata": {
        "id": "f_CwPxpP6fDL",
        "colab": {
          "base_uri": "https://localhost:8080/",
          "height": 35
        },
        "outputId": "7224ffdb-9a25-4a87-ab20-15a0c5d7f984"
      },
      "source": [
        "# Nested function\n",
        "# Sum function calling the multiply function\n",
        "\n",
        "def sum_function(num1,num2):\n",
        "    def multiply_function(n1,n2):\n",
        "        return n1*n2\n",
        "\n",
        "    return multiply_function(num1,num2)\n",
        "\n",
        "total = sum_function(5,2)\n",
        "print(total)"
      ],
      "execution_count": null,
      "outputs": [
        {
          "output_type": "stream",
          "text": [
            "10\n"
          ],
          "name": "stdout"
        }
      ]
    },
    {
      "cell_type": "code",
      "metadata": {
        "id": "6HW-Ks2nQTNJ",
        "colab": {
          "base_uri": "https://localhost:8080/",
          "height": 34
        },
        "outputId": "4806529e-bd20-4b68-a7c5-07e23e5e061a"
      },
      "source": [
        "# Adding multiple return statements doesn’t perform any task.\n",
        "# Once function execution encountered with the return statement,\n",
        "# it stops the function execution by returning whatever specified by the return statement\n",
        "\n",
        "def outerFun(a, b):\n",
        "    def innerFun(c, d):\n",
        "        return c + d\n",
        "    return innerFun(a, b)\n",
        "    return a\n",
        "\n",
        "result = outerFun(5, 10)\n",
        "print(result)"
      ],
      "execution_count": null,
      "outputs": [
        {
          "output_type": "stream",
          "text": [
            "15\n"
          ],
          "name": "stdout"
        }
      ]
    },
    {
      "cell_type": "code",
      "metadata": {
        "id": "SgJbKRErP-Nv"
      },
      "source": [
        "'''\n",
        "def fun1(num):\n",
        "    return num + 25\n",
        "\n",
        "fun1(5)\n",
        "print(num)\n",
        "'''\n",
        "\n",
        "# We must accept the return value of a function into a variable.\n",
        "# so we can access it in outside function like this"
      ],
      "execution_count": null,
      "outputs": []
    },
    {
      "cell_type": "code",
      "metadata": {
        "id": "2tUQM95ZvN4A",
        "colab": {
          "base_uri": "https://localhost:8080/",
          "height": 68
        },
        "outputId": "dc39b53e-38f3-4d88-8f6c-1b3518c3c685"
      },
      "source": [
        "def add(a, b):\n",
        "    return a+5, b+5\n",
        "\n",
        "result = add(3, 2)\n",
        "print(result)\n",
        "print(type(result))\n",
        "\n",
        "# Destructure\n",
        "\n",
        "m,n =  result\n",
        "print('m = ', m ,'and','n = ', n)"
      ],
      "execution_count": null,
      "outputs": [
        {
          "output_type": "stream",
          "text": [
            "(8, 7)\n",
            "<class 'tuple'>\n",
            "m =  8 and n =  7\n"
          ],
          "name": "stdout"
        }
      ]
    },
    {
      "cell_type": "code",
      "metadata": {
        "id": "DvtN2Vrj9mIn",
        "colab": {
          "base_uri": "https://localhost:8080/",
          "height": 72
        },
        "outputId": "889a08d9-ab89-4041-d32f-bedc951c65ff"
      },
      "source": [
        "# -------------- Exercise ---------- #\n",
        "\n",
        "'''\n",
        "input : ['a','v','a','x','b','x','d','g']\n",
        "output : ['a', 'b', 'd', 'g', 'v', 'x']\n",
        "'''\n",
        "\n",
        "# Remove duplicates\n",
        "# print duplicate value\n",
        "# print list without duplicate\n",
        "# sort without inbuilt function\n",
        "\n",
        "\n",
        "# ------------ Remove duplicate --------------- #\n",
        "input_list = ['a','v','a','x','b','x','d','g']\n",
        "\n",
        "unique = []\n",
        "duplicate = []\n",
        "\n",
        "for i in input_list:\n",
        "    if i not in unique:\n",
        "        unique.append(i)\n",
        "    else:\n",
        "        duplicate.append(i)\n",
        "\n",
        "print(f'unique list : {list(unique)}')\n",
        "print(f'duplicate element : {list(duplicate)}')\n",
        "\n",
        "# ----------- Sort with using inbuilt function ------------- #\n",
        "\n",
        "d = list(sorted(unique))\n",
        "\n",
        "print(f'sorted list : {d}')"
      ],
      "execution_count": null,
      "outputs": [
        {
          "output_type": "stream",
          "text": [
            "unique list : ['a', 'v', 'x', 'b', 'd', 'g']\n",
            "duplicate element : ['a', 'x']\n",
            "sorted list : ['a', 'b', 'd', 'g', 'v', 'x']\n"
          ],
          "name": "stdout"
        }
      ]
    },
    {
      "cell_type": "code",
      "metadata": {
        "id": "PXUYi2GC_Gkf",
        "colab": {
          "base_uri": "https://localhost:8080/",
          "height": 72
        },
        "outputId": "6ba47edc-e190-419d-b1ab-daecc3c51f25"
      },
      "source": [
        "\n",
        "# ----------- Sort without using inbuilt function ------------- #\n",
        "\n",
        "'''\n",
        "used lot of function because to understand what is use case of each function.\n",
        "'''\n",
        "\n",
        "# char to ascii\n",
        "number_list = list(map(lambda x:ord(x),unique))\n",
        "print(f'char to ascii : {number_list}')\n",
        "\n",
        "# sort list of ascii value\n",
        "new_list = []\n",
        "def sorting(number_list):\n",
        "    while number_list:\n",
        "        min = number_list[0]\n",
        "        for x in number_list:\n",
        "            if x<min:\n",
        "                min=x\n",
        "        new_list.append(min)\n",
        "        number_list.remove(min)\n",
        "\n",
        "sorting(number_list)\n",
        "print(f'sorted ascii list : {list(new_list)}')\n",
        "\n",
        "# convert ascii list to char list\n",
        "final_list =[]\n",
        "\n",
        "for i,val in enumerate(new_list):\n",
        "    final_list.insert(i,chr(val))   # we can also use append here (just to show you the usecase)\n",
        "\n",
        "print(f'ascii to char list : {list(final_list)}')"
      ],
      "execution_count": null,
      "outputs": [
        {
          "output_type": "stream",
          "text": [
            "char to ascii : [97, 118, 120, 98, 100, 103]\n",
            "sorted ascii list : [97, 98, 100, 103, 118, 120]\n",
            "ascii to char list : ['a', 'b', 'd', 'g', 'v', 'x']\n"
          ],
          "name": "stdout"
        }
      ]
    },
    {
      "cell_type": "markdown",
      "metadata": {
        "id": "ogHgmovbqXEt"
      },
      "source": [
        "## **Docstring**\n",
        "```\n",
        "The first string after the function header is called the docstring and is short for documentation string.\n",
        "It is briefly used to explain what a function does.\n",
        "\n",
        "Although optional, documentation is a good programming practice.\n",
        "```\n",
        "\n",
        "Inbuilt function in python already includes docstring ,so when you hover over any function ,you can see what each function do."
      ]
    },
    {
      "cell_type": "code",
      "metadata": {
        "id": "333jUtGfqams",
        "colab": {
          "base_uri": "https://localhost:8080/",
          "height": 181
        },
        "outputId": "1146b29e-5226-4815-d0b3-d5b9d8d72271"
      },
      "source": [
        "# Docstring\n",
        "'''\n",
        "         # this is known as Docstring\n",
        "'''\n",
        "\n",
        "# Usecase of docstring\n",
        "def mean_function(n1,n2):\n",
        "    '''\n",
        "    Info : this function is used to find the mean\n",
        "    '''\n",
        "    return (n1+n2)/2\n",
        "\n",
        "\n",
        "help(mean_function)\n",
        "\n",
        "print(\"#--------------------------------------------------------------------#\")\n",
        "# or else we can use\n",
        "\n",
        "print(mean_function.__doc__)"
      ],
      "execution_count": null,
      "outputs": [
        {
          "output_type": "stream",
          "text": [
            "Help on function mean_function in module __main__:\n",
            "\n",
            "mean_function(n1, n2)\n",
            "    Info : this function is used to find the mean\n",
            "\n",
            "#--------------------------------------------------------------------#\n",
            "\n",
            "    Info : this function is used to find the mean \n",
            "    \n"
          ],
          "name": "stdout"
        }
      ]
    },
    {
      "cell_type": "markdown",
      "metadata": {
        "id": "T9M9dkRqsWP2"
      },
      "source": [
        "## **Scope and Lifetime of variables**\n",
        "\n",
        "Scope of a variable is the portion of a program where the variable is recognized. Parameters and variables defined inside a function are not visible from outside the function. Hence, they have a local scope.\n",
        "\n",
        "The lifetime of a variable is the period throughout which the variable exits in the memory. The lifetime of variables inside a function is as long as the function executes.\n",
        "\n",
        "They are destroyed once we return from the function. Hence, a function does not remember the value of a variable from its previous calls.\n",
        "\n",
        "Here is an example to illustrate the scope of a variable inside a function."
      ]
    },
    {
      "cell_type": "code",
      "metadata": {
        "id": "Kwd4IOL-sxGr",
        "colab": {
          "base_uri": "https://localhost:8080/",
          "height": 54
        },
        "outputId": "92875e5e-f280-4d58-8f97-f741d6b005c8"
      },
      "source": [
        "def my_func():\n",
        "\tx = 10\n",
        "\tprint(\"Value inside function:\",x)\n",
        "\n",
        "x = 20\n",
        "my_func()\n",
        "print(\"Value outside function:\",x)"
      ],
      "execution_count": null,
      "outputs": [
        {
          "output_type": "stream",
          "text": [
            "Value inside function: 10\n",
            "Value outside function: 20\n"
          ],
          "name": "stdout"
        }
      ]
    },
    {
      "cell_type": "markdown",
      "metadata": {
        "id": "DTGpAOOLWo5R"
      },
      "source": [
        "## **Scope rules**\n"
      ]
    },
    {
      "cell_type": "code",
      "metadata": {
        "colab": {
          "base_uri": "https://localhost:8080/"
        },
        "id": "602eYCXPWtZH",
        "outputId": "3844eaa6-12b2-4913-bf23-661aec562f5c"
      },
      "source": [
        "# Scope rules\n",
        "'''\n",
        "1. Start with local function scope ( if variable present inside the function just return it - As shown in eg 1 )\n",
        "2. Check variable present in parent scope ( As shown in eg 2. )\n",
        "3. Check variable present in global scope\n",
        "4. Built-in python function ( As shown in eg 3)\n",
        "'''\n",
        "\n",
        "# -------------------Example 1------------------------- #\n",
        "\n",
        "# Global variable\n",
        "a = 5\n",
        "\n",
        "def confusion():\n",
        "    a = 1\n",
        "    return a\n",
        "\n",
        "print(confusion())        # Answer = 1\n",
        "print(a)                  # Answer = 5\n"
      ],
      "execution_count": null,
      "outputs": [
        {
          "output_type": "stream",
          "text": [
            "1\n",
            "5\n"
          ],
          "name": "stdout"
        }
      ]
    },
    {
      "cell_type": "code",
      "metadata": {
        "colab": {
          "base_uri": "https://localhost:8080/"
        },
        "id": "FM5SxEqBW1TA",
        "outputId": "83f4f53e-80a1-4cb2-8fce-10edfb7fde96"
      },
      "source": [
        "# ------------------- Example 2 ------------------------- #\n",
        "\n",
        "a = 5\n",
        "def parent():\n",
        "    a = 1\n",
        "    def confusion():\n",
        "        return a\n",
        "    return confusion()\n",
        "\n",
        "print(parent())           # Answer = 1\n",
        "print(a)                  # Answer = 5"
      ],
      "execution_count": null,
      "outputs": [
        {
          "output_type": "stream",
          "text": [
            "1\n",
            "5\n"
          ],
          "name": "stdout"
        }
      ]
    },
    {
      "cell_type": "code",
      "metadata": {
        "colab": {
          "base_uri": "https://localhost:8080/"
        },
        "id": "Hbum2VYdW3jF",
        "outputId": "fa790f4f-fbc9-4819-8f65-f2cbdb0c664f"
      },
      "source": [
        "# ------------------- Example 3 ------------------------- #\n",
        "\n",
        "\n",
        "def parent():\n",
        "    def confusion():\n",
        "        return sum\n",
        "    return confusion()\n",
        "\n",
        "print(parent())           # Answer = <built-in function sum>  ( sum in inbuilt function in python )\n",
        "print(a)                  # Answer = 5"
      ],
      "execution_count": null,
      "outputs": [
        {
          "output_type": "stream",
          "text": [
            "<built-in function sum>\n",
            "5\n"
          ],
          "name": "stdout"
        }
      ]
    },
    {
      "cell_type": "code",
      "metadata": {
        "colab": {
          "base_uri": "https://localhost:8080/"
        },
        "id": "NLvj8loOW7ix",
        "outputId": "8a8a7f3e-5eb6-4974-ddca-77ac36140094"
      },
      "source": [
        "# -------------------Example 4 ------------------------- #\n",
        "\n",
        "\n",
        "# if python keyword (like sum, len, max, min) used as variable then it will act like a normal variable not a function\n",
        "sum = 0\n",
        "def parent():\n",
        "    def confusion():\n",
        "        return sum\n",
        "    return confusion()\n",
        "\n",
        "print(parent())           # Answer = 0\n",
        "print(a)                  # Answer = 5"
      ],
      "execution_count": null,
      "outputs": [
        {
          "output_type": "stream",
          "text": [
            "0\n",
            "5\n"
          ],
          "name": "stdout"
        }
      ]
    },
    {
      "cell_type": "markdown",
      "metadata": {
        "id": "sQG0wAqwhbbg"
      },
      "source": [
        "## **Parameter and Arguments**"
      ]
    },
    {
      "cell_type": "code",
      "metadata": {
        "id": "jQSU1pL7hbbh",
        "colab": {
          "base_uri": "https://localhost:8080/",
          "height": 54
        },
        "outputId": "90572cc9-15a6-4754-914d-1e0116f7e913"
      },
      "source": [
        "# ------------------------ Parameter and arguments ---------------------------- #\n",
        "\n",
        "# Parameter -> is placeholder that we passed to the function\n",
        "\n",
        "def text(f_name, l_name):\n",
        "    print(f'Good morning, {f_name} {l_name}')\n",
        "print(\"Hello\")\n",
        "\n",
        "text('Hritik','jaiswal')              # Argument -> is actual value that you gone pass inside function"
      ],
      "execution_count": null,
      "outputs": [
        {
          "output_type": "stream",
          "text": [
            "Hello\n",
            "Good morning, Hritik jaiswal\n"
          ],
          "name": "stdout"
        }
      ]
    },
    {
      "cell_type": "code",
      "metadata": {
        "id": "oGTvL0wZwmN1",
        "colab": {
          "base_uri": "https://localhost:8080/",
          "height": 108
        },
        "outputId": "e6d7a306-9198-4a54-a169-f0fb8e40d7da"
      },
      "source": [
        "# ------------------------ Type of arguments ---------------------------- #\n",
        "\n",
        "def say_hello(firstName, lastName):\n",
        "    print(f'Hello {firstName}  {lastName}')\n",
        "\n",
        "# Positional arguments : Require to maintain the position of arguments\n",
        "say_hello('Hritik','Jaiswal')\n",
        "\n",
        "# Keyword arguments : we change the order of passed arguments\n",
        "'''\n",
        "keyword argument -> its helpful when you don't want to pass argument in order you can pass in any order\n",
        "'''\n",
        "def text(discount , shipping ,total ):\n",
        "    print(f'Here total is {total} including shipping charges {shipping} + discount {discount}')\n",
        "\n",
        "text(shipping=2000,total=5000,discount=500)\n",
        "\n",
        "# Default arguments : Even if you haven't passed , any argument to a function , the default parameters will be considered as arguments\n",
        "\n",
        "def greeting(name='Hritik',greet='Morning'):\n",
        "    print(f'Good {greet}, {name}')\n",
        "\n",
        "greeting()\n",
        "greeting('mike')\n",
        "greeting(greet='night')\n"
      ],
      "execution_count": null,
      "outputs": [
        {
          "output_type": "stream",
          "text": [
            "Hello Hritik  Jaiswal\n",
            "Here total is 5000 including shipping charges 2000 + discount 500\n",
            "Good Morning, Hritik\n",
            "Good Morning, mike\n",
            "Good night, Hritik\n"
          ],
          "name": "stdout"
        }
      ]
    },
    {
      "cell_type": "code",
      "metadata": {
        "id": "TDgQqpv4lkeo",
        "colab": {
          "base_uri": "https://localhost:8080/",
          "height": 51
        },
        "outputId": "557b8ada-8f83-4c24-8bf7-c21ff9fd1e13"
      },
      "source": [
        "def fun1(name, age):\n",
        "    print(name, age)\n",
        "\n",
        "fun1(name='Emma', age=23)   # keyword arguments\n",
        "fun1('Emma', 23)            # Positional arguments\n",
        "\n",
        "# fun1(name='Emma', 23)"
      ],
      "execution_count": null,
      "outputs": [
        {
          "output_type": "stream",
          "text": [
            "Emma 23\n",
            "Emma 23\n"
          ],
          "name": "stdout"
        }
      ]
    },
    {
      "cell_type": "markdown",
      "metadata": {
        "id": "DAJmWXovmR0E"
      },
      "source": [
        "```\n",
        "Explanation:\n",
        "\n",
        "We can pass either use either positional arguments or keyword arguments, not both at the same time.\n",
        "\n",
        "If you try to do do you will get syntax Error The positional argument follows keyword argument\n",
        "\n",
        "Positional arguments: fun1('Emma', 23)\n",
        "keyword arguments: fun1(name='Emma', age=23)\n",
        "```"
      ]
    },
    {
      "cell_type": "markdown",
      "metadata": {
        "id": "Un5jEJGgtOMg"
      },
      "source": [
        "## **Method and Function in Python**\n",
        "\n",
        "**Java** is also an OOP language, but their is no concept of Function in it. But **Python** has both concept of Method and Function.\n",
        "\n",
        "\n",
        "### **`Method`**\n",
        "\n",
        "* Method is called by its name, but it is associated to an object i.e it's dependent on class.\n",
        "\n",
        "  ```python\n",
        "  # Basic Python method\n",
        "  class class_name\n",
        "      def method_name () :\n",
        "          ......\n",
        "          # method body\n",
        "          ......\n",
        "  ```\n",
        "* A method is implicitly passed the object on which it is invoked.\n",
        "* It may or may not return any data.\n",
        "```python\n",
        "# Python 3  User-Defined  Method\n",
        "class ABC :\n",
        "    def method_abc (self):\n",
        "        print(\"I am in method_abc of ABC class. \")\n",
        "\n",
        "  class_ref = ABC() # object of ABC class\n",
        "  class_ref.method_abc()\n",
        "```\n",
        "\n",
        "* A method can operate on the data (string, list, tuple, dictionary, sets).\n",
        "  #### **` Inbuilt Methods :`**\n",
        "  ```python\n",
        "  >> 'hellooooo'.upper()        # upper() is method : prints HELLOOOOO\n",
        "  >> x = [1,2,3,2].count(2)     # index() is method : prints 2\n",
        "  >> (1,2,3,2).index(2)         # index() is method : prints 1\n",
        "  ```\n",
        "\n",
        "### **`Function`**\n",
        "\n",
        "* Function is block of code that is also called by its name. (independent).\n",
        "\n",
        "  ```python\n",
        "  def function_name ( arg1, arg2, ...) :\n",
        "    ......\n",
        "    # function body\n",
        "    ......\n",
        "  ```\n",
        "\n",
        "\n",
        "* The function can have different parameters or may not have any at all. If any data (parameters) are passed, they are passed explicitly.\n",
        "\n",
        "* It may or may not return any data.\n",
        "  ```python\n",
        "    def Subtract (a, b):\n",
        "        return (a-b)\n",
        "\n",
        "    print( Subtract(10, 12) ) # prints -2\n",
        "  ```\n",
        "* Function does not deal with Class and its instance concept.\n",
        "\n",
        "   #### **` Inbuilt Function :`**\n",
        "   ```python\n",
        "    print(sum([5, 15, 2]))             # sum() is function : prints 22\n",
        "    print(len([5, 15, 2]))             # len() is function : prints 3\n",
        "    print(max(1,4,7,3))                # max() is function : prints 7\n",
        "   ```\n",
        "\n",
        "### **Reference**\n",
        "\n",
        "* [GeeksForGeeks - Method vs Function](https://www.geeksforgeeks.org/difference-method-function-python/)\n"
      ]
    },
    {
      "cell_type": "markdown",
      "metadata": {
        "id": "OAKwB2_j1w9G"
      },
      "source": [
        "## **args(arguments) and kwargs(keyword arguments)**\n",
        "\n",
        "```python\n",
        "def super_function(args):\n",
        "    return sum(args)\n",
        "\n",
        "print(super_function(1,2,3,4))\n",
        "\n",
        "if we run above code then we get following error i.e\n",
        "TypeError: super_function() takes 1 positional argument but 4 were given\n",
        "```\n",
        "\n",
        "To accept multiple values or if the number of arguments is unknown, we can add * before the parameter name to accept arbitrary arguments. i.e., To accept Variable Length of Positional Arguments, i.e., To create functions that take n number of Positional arguments we use *args(prefix a parameter name with an asterisk * ).\n",
        "\n",
        "To suppress the error , we will use (*)\n",
        "```python\n",
        "def super_function(*args):\n",
        "    print(args)\n",
        "    return sum(args)    # sum of tuple\n",
        "\n",
        "print(super_function(1,2,3,4))             ## prints : 10\n",
        "```\n",
        "\n",
        "we have also keywords arguments , that will be are 2nd arguments\n",
        "\n",
        "```python\n",
        "def super_function(*args,**kwargs):\n",
        "    print(args)\n",
        "    print(kwargs)\n",
        "    total=0\n",
        "    for i in kwargs.values():\n",
        "        total+=i\n",
        "\n",
        "    return sum(args)+total    # sum of tuple + total\n",
        "\n",
        "print(super_function(1,2,3,4, num1=10,num2=20))\n",
        "```\n",
        "\n",
        "```\n",
        "if we are using the *args and **kwargs as parameter then we\n",
        "have to follow one rule i.e\n",
        "\n",
        "parameters follow order : (params, *args, default params,**kwargs)\n",
        "```\n",
        "\n",
        "Example\n",
        "\n",
        "```python\n",
        "\n",
        "def display(**kwargs):\n",
        "    for i in kwargs:\n",
        "        print(i)\n",
        "display(emp=\"Kelly\", salary=9000)\n",
        "```\n",
        "output\n",
        "```\n",
        "emp\n",
        "salary\n",
        "```\n",
        "To accept Variable Length of Keyword Arguments, i.e., To create functions that take n number of Keyword arguments we use **kwargs(prefix a parameter name with a double asterisk ** ).\n",
        "\n",
        "keyword arguments: display(emp=\"Kelly\", salary=9000)\n",
        "\n",
        "This **kwargs collects all passed arguments into a new dictionary, where the argument names are the keys =>\n",
        "**kwargs.keys(), and their values are the key’s value => **kwargs.value().\n",
        "\n",
        "So to get the values we need to iterate the kwargs dictionary like this\n",
        "```\n",
        "('emp', 'Kelly')\n",
        "('salary', 9000)\n",
        "```"
      ]
    },
    {
      "cell_type": "markdown",
      "metadata": {
        "id": "_93GCpOHyaFm"
      },
      "source": [
        "## **Quizzzz time** 🎉"
      ]
    },
    {
      "cell_type": "code",
      "metadata": {
        "id": "yBlbaDSOzJLb"
      },
      "source": [],
      "execution_count": null,
      "outputs": []
    },
    {
      "cell_type": "code",
      "metadata": {
        "colab": {
          "base_uri": "https://localhost:8080/",
          "height": 197
        },
        "id": "yHhRYpO2yqsf",
        "outputId": "02c9faa9-4b58-465e-9e0b-4698606298a8"
      },
      "source": [
        "#@title Give me a name { display-mode: \"code\" }\n",
        "\n",
        "# This code will be hidden when the notebook is loaded.\n",
        "x = 2\n",
        "print(x)\n"
      ],
      "execution_count": null,
      "outputs": [
        {
          "output_type": "error",
          "ename": "NameError",
          "evalue": "ignored",
          "traceback": [
            "\u001b[0;31m---------------------------------------------------------------------------\u001b[0m",
            "\u001b[0;31mNameError\u001b[0m                                 Traceback (most recent call last)",
            "\u001b[0;32m<ipython-input-3-9ad67d16e8ff>\u001b[0m in \u001b[0;36m<module>\u001b[0;34m()\u001b[0m\n\u001b[1;32m      2\u001b[0m \u001b[0;34m\u001b[0m\u001b[0m\n\u001b[1;32m      3\u001b[0m \u001b[0;31m# This code will be hidden when the notebook is loaded.\u001b[0m\u001b[0;34m\u001b[0m\u001b[0;34m\u001b[0m\u001b[0;34m\u001b[0m\u001b[0m\n\u001b[0;32m----> 4\u001b[0;31m \u001b[0mprint\u001b[0m\u001b[0;34m(\u001b[0m\u001b[0mx\u001b[0m\u001b[0;34m)\u001b[0m\u001b[0;34m\u001b[0m\u001b[0;34m\u001b[0m\u001b[0m\n\u001b[0m",
            "\u001b[0;31mNameError\u001b[0m: name 'x' is not defined"
          ]
        }
      ]
    },
    {
      "cell_type": "markdown",
      "metadata": {
        "id": "ISbRTIlshbcD"
      },
      "source": [
        "\n",
        "## **Exception**"
      ]
    },
    {
      "cell_type": "code",
      "metadata": {
        "id": "0_udbo4BhbcE",
        "outputId": "2a37af9c-b083-4d2b-d27a-92a12c92a435"
      },
      "source": [
        "#exception -> when we try to input string value instead of int\n",
        "# age = int(input(\"your age\"))\n",
        "# print(age)\n",
        "\n",
        "try:\n",
        "    age = int(input(\"your age : \"))\n",
        "    print(age)\n",
        "except ValueError:\n",
        "    print('invalid value')"
      ],
      "execution_count": null,
      "outputs": [
        {
          "output_type": "stream",
          "text": [
            "your age : twenty\n",
            "invalid value\n"
          ],
          "name": "stdout"
        }
      ]
    },
    {
      "cell_type": "code",
      "metadata": {
        "id": "K1W03IkhhbcK",
        "outputId": "d4d5f1d4-7155-4a55-d28f-5582335d2546"
      },
      "source": [
        "\n",
        "try:\n",
        "    age = int(input(\"your age : \"))\n",
        "    income = 20000\n",
        "    risk = float(income/age);\n",
        "    print(f'risk is {risk}')\n",
        "except ValueError and ZeroDivisionError:\n",
        "    print(\"invalid value or age can't be negative \")"
      ],
      "execution_count": null,
      "outputs": [
        {
          "output_type": "stream",
          "text": [
            "your age : 0\n",
            "invalid value or age can't be negative \n"
          ],
          "name": "stdout"
        }
      ]
    },
    {
      "cell_type": "markdown",
      "metadata": {
        "id": "27tf3F5sMuwz"
      },
      "source": [
        "## 4️⃣ **Object-oriented programming**\n",
        "\n",
        "### **`Note`**\n",
        "```\n",
        "As if now, Don't look at the code, only understand the concept, the code will be explained in below few section.\n",
        "```\n",
        "\n",
        "The object-oriented programming paradigm considers basic entities as objects whose instance can contain both data and the corresponding methods to modify that data. The different principles of object-oriented design help code reusability, data hiding, etc., but it is a complex beast, and writing the same logic an in object-oriented method is tricky.\n",
        "\n",
        "\n",
        "Object-oriented coding is all about increasing an application’s ability to reuse code and make it easier to understand. The encapsulation that object-orientation provides allows developers to treat code as a black box. Using object-orientation features like inheritance make it easier to expand the functionality of existing code. Here is the my_list example in object-oriented form:\n",
        "\n",
        "```python\n",
        "\n",
        "class ChangeList(object):\n",
        "    def __init__(self, any_list):\n",
        "        self.any_list = any_list\n",
        "    def do_add(self):\n",
        "      self.sum = sum(self.any_list)\n",
        "create_sum = ChangeList([1,2,3,4,5])\n",
        "create_sum.do_add()\n",
        "print(create_sum.sum)     # Output : 15\n",
        "\n",
        "```\n",
        "In this case, create_sum is an instance of ChangeList. The inner workings of ChangeList don’t matter to the person using it. All that really matters is that you can create an instance using a list and then call the do_add() method to output the sum of the list elements. Because the inner workings are hidden, the overall application is easier to understand.\n",
        "\n",
        "### **`Reference`** :\n",
        "[Newrelic - Python Programming style](https://blog.newrelic.com/engineering/python-programming-styles/)\n"
      ]
    },
    {
      "cell_type": "markdown",
      "metadata": {
        "id": "SVOwWgU9hbcP"
      },
      "source": [
        "## **Class**\n",
        "\n",
        "An **`object`** is simply a collection of data (variables) and methods (functions) that act on those data.\n",
        "\n",
        "Similarly, a **`class`** is a blueprint for that object.\n",
        "\n",
        "\n",
        "#### **NOTE** :\n",
        "```\n",
        "Every function in the class contain self as a parameter.\n",
        "```"
      ]
    },
    {
      "cell_type": "code",
      "metadata": {
        "id": "p8IwxtuVhbcQ",
        "outputId": "68ae77f3-8222-423b-b3ba-03c136605b0a"
      },
      "source": [
        "#class\n",
        "# 1) type -1\n",
        "\n",
        "class rect:\n",
        "    def rect_area(self):\n",
        "        print(\"area\")\n",
        "p = rect()\n",
        "p.rect_area()\n",
        "\n"
      ],
      "execution_count": null,
      "outputs": [
        {
          "output_type": "stream",
          "text": [
            "area\n"
          ],
          "name": "stdout"
        }
      ]
    },
    {
      "cell_type": "code",
      "metadata": {
        "id": "u9AfLmdXhbcf",
        "outputId": "b019d241-bdf2-40e9-df74-cc13ee61db92"
      },
      "source": [
        "# 2) type -2\n",
        "class Employee:\n",
        "    def __init__(self, first, last , salary):\n",
        "        self.first = first\n",
        "        self.last = last\n",
        "        self.salary = salary\n",
        "        self.email = first + '.'+last +'@gmail.com'\n",
        "\n",
        "    def fullname(self):\n",
        "        return \"{} {}\".format(self.first,self.last)\n",
        "\n",
        "emp1 = Employee('Hritik','Jaiswal',5000)\n",
        "emp2 = Employee('Aniket','Jaiswal',6000)\n",
        "\n",
        "#their are two methods\n",
        "print(emp1.fullname())\n",
        "print(Employee.fullname(emp1))\n"
      ],
      "execution_count": null,
      "outputs": [
        {
          "output_type": "stream",
          "text": [
            "Hritik Jaiswal\n",
            "Hritik Jaiswal\n"
          ],
          "name": "stdout"
        }
      ]
    },
    {
      "cell_type": "code",
      "metadata": {
        "id": "B1jkagxRhbck",
        "outputId": "9d0b14ac-36fb-437d-dbd1-eaa8847028a8"
      },
      "source": [
        "# 3) type -3\n",
        "class Point:\n",
        "    def __init__(self,a,l,h):\n",
        "        self.a = a\n",
        "        self.l = l\n",
        "        self.h = h\n",
        "\n",
        "    def square(self):\n",
        "        print(f\"area of square :{self.a*self.a}\")\n",
        "\n",
        "    def rectangle(self):\n",
        "        print(\"area of rectangle is : {}\".format(self.l*self.h))\n",
        "\n",
        "\n",
        "#create a object\n",
        "point1 = Point(3,2,3)\n",
        "point1.square()\n",
        "point1.rectangle()"
      ],
      "execution_count": null,
      "outputs": [
        {
          "output_type": "stream",
          "text": [
            "area of square :9\n",
            "area of rectangle is : 6\n"
          ],
          "name": "stdout"
        }
      ]
    },
    {
      "cell_type": "markdown",
      "metadata": {
        "id": "qpRxN1DBeM8u"
      },
      "source": [
        "## **Class attributre vs Instance attribute**\n",
        "\n",
        "### *`Python Class Variable vs. Instance Variable: What’s the Difference?`*\n",
        "\n",
        "A Python class attribute is an attribute of the class (circular, I know), rather than an attribute of an instance of a class.\n",
        "\n",
        "Let’s use a Python class example to illustrate the difference. Here, *`class_var`* is a class attribute, and *`i_var`* is an instance attribute:\n",
        "\n",
        "```python\n",
        "class MyClass(object):\n",
        "    # Class attribute\n",
        "    class_var = 1\n",
        "\n",
        "    def __init__(self, i_var):\n",
        "        # Instance (object) attribute\n",
        "        self.i_var = i_var\n",
        "```\n",
        "\n",
        "Note that all instances of the class have access to *`class_var`*, and that it can also be accessed as a property of the class itself:"
      ]
    },
    {
      "cell_type": "code",
      "metadata": {
        "colab": {
          "base_uri": "https://localhost:8080/"
        },
        "id": "UPmy11RUhvEX",
        "outputId": "603e2f99-dc32-492d-80ab-80f54629212b"
      },
      "source": [
        "class MyClass(object):\n",
        "    # Class attribute\n",
        "    class_var = 1\n",
        "\n",
        "    def __init__(self, i_var):\n",
        "        # Instance (object) attribute\n",
        "        self.i_var = i_var\n",
        "\n",
        "foo = MyClass(2)\n",
        "bar = MyClass(3)\n",
        "\n",
        "print(\"foo.class_var : \",foo.class_var, \"foo.i_var : \",foo.i_var)\n",
        "print(\"bar.class_var : \",bar.class_var, \"bar.i_var : \" ,bar.i_var)"
      ],
      "execution_count": null,
      "outputs": [
        {
          "output_type": "stream",
          "text": [
            "foo.class_var :  1 foo.i_var :  2\n",
            "bar.class_var :  1 bar.i_var :  3\n"
          ],
          "name": "stdout"
        }
      ]
    },
    {
      "cell_type": "markdown",
      "metadata": {
        "id": "_nqtvg_blagn"
      },
      "source": [
        "### *`Class vs. Instance Namespaces`*\n",
        "\n",
        "To understand what’s happening here, let’s talk briefly about Python namespaces.\n",
        "\n",
        "\n",
        "A *`namespace`* is a system to have a unique name for each and every object in Python. An object might be a variable or a method. Python itself maintains a namespace in the form of a Python dictionary.\n",
        "\n",
        "Let’s go through an example, a directory-file system structure in computers. Needless to say, that one can have multiple directories having a file with the same name inside of every directory. But one can get directed to the file, one wishes, just by specifying the absolute path to the file.\n",
        "\n",
        "Real-time example, the role of a namespace is like a surname. One might not find a single “Alice” in the class there might be multiple “Alice” but when you particularly ask for “Alice Lee” or “Alice Clark” (with a surname), there will be only one (time being don’t think of both first name and surname are same for multiple students).\n",
        "\n",
        "On the similar lines, Python interpreter understands what exact method or variable one is trying to point to in the code, depending upon the namespace. So, the division of the word itself gives little more information. Its Name (which means name, an unique identifier) + Space(which talks something related to scope). Here, a name might be of any Python method or variable and space depends upon the location from where is trying to access a variable or a method.\n",
        "\n",
        "<p align=\"center\"><img src=\"https://media.geeksforgeeks.org/wp-content/uploads/types_namespace-1.png\" width=\"40%\"/></p>\n",
        "\n",
        "```\n",
        "Lifetime of a namespace :\n",
        "\n",
        "A lifetime of a namespace depends upon the scope of objects, if the scope of an object ends,\n",
        "\n",
        "the lifetime of that namespace comes to an end.\n",
        "Hence, it is not possible to access inner namespace’s objects from an outer namespace.\n",
        "```\n",
        "\n",
        "Example:\n",
        "\n",
        "```python\n",
        "# var1 is in the global namespace\n",
        "var1 = 5\n",
        "def some_func():\n",
        "\n",
        "    # var2 is in the local namespace\n",
        "    var2 = 6\n",
        "    def some_inner_func():\n",
        "\n",
        "        # var3 is in the nested local\n",
        "        # namespace\n",
        "        var3 = 7\n",
        "```\n",
        "Depending on the context, you may need to access a namespace using dot syntax (e.g., *`object.name_from_objects_namespace`*) or as a local variable (e.g., *`object_from_namespace`*). As a concrete example:\n",
        "```python\n",
        "class MyClass(object):\n",
        "    ## No need for dot syntax\n",
        "    class_var = 1\n",
        "\n",
        "    def __init__(self, i_var):\n",
        "        self.i_var = i_var\n",
        "\n",
        "## Need dot syntax as we've left scope of class namespace\n",
        "MyClass.class_var\n",
        "## 1\n",
        "```\n",
        "\n",
        "Python classes and instances of classes each have their own distinct namespaces represented by pre-defined attributes *`MyClass. __ dict__`* and *`instance_of_MyClass. __ dict__`*, respectively.\n",
        "\n",
        "When you try to access an attribute from an instance of a class, it first looks at its instance namespace.\n",
        "- If it finds the attribute, it returns the associated value.\n",
        "- If not, it then looks in the class namespace and returns the attribute (if it’s present, throwing an error otherwise).\n",
        "\n",
        "For example:\n",
        "```python\n",
        "foo = MyClass(2)\n",
        "\n",
        "## Finds i_var in foo's instance namespace\n",
        "foo.i_var\n",
        "## 2\n",
        "\n",
        "## Doesn't find class_var in instance namespace…\n",
        "## So look's in class namespace (MyClass.__dict__)\n",
        "foo.class_var\n",
        "## 1\n",
        "```\n",
        "\n",
        "The instance namespace takes supremacy over the class namespace: if there is an attribute with the same name in both, the instance namespace will be checked first and its value returned. Here’s a simplified version of the code (source) for attribute lookup:\n",
        "\n",
        "```python\n",
        "def instlookup(inst, name):\n",
        "    ## simplified algorithm...\n",
        "    if inst.__dict__.has_key(name):\n",
        "        return inst.__dict__[name]\n",
        "    else:\n",
        "        return inst.__class__.__dict__[name]\n",
        "```\n",
        "And, in visual form:\n",
        "\n",
        "<p align=\"center\"><img src=\"https://uploads.toptal.io/blog/image/301/toptal-blog-image-1392824596580.png\" /></p>\n",
        "\n",
        "\n",
        "### **Reference**\n",
        "\n",
        "- [TopTal - Python class attributes](https://www.toptal.com/python/python-class-attributes-an-overly-thorough-guide)\n",
        "\n",
        "- [GeeksForGeeks - Namespace and scope in python](https://www.geeksforgeeks.org/namespaces-and-scope-in-python/)"
      ]
    },
    {
      "cell_type": "markdown",
      "metadata": {
        "id": "lIS21KqWhbcs"
      },
      "source": [
        "## **Inheritance**"
      ]
    },
    {
      "cell_type": "code",
      "metadata": {
        "id": "rb0rjS_bhbct",
        "outputId": "c0cc86b9-5d88-4ce1-ef01-76309982c0fe"
      },
      "source": [
        "#inheritance -> dog and cat are inherite a class mammel\n",
        "class mammel:\n",
        "    def walk(self):\n",
        "        print(\"walk\")\n",
        "\n",
        "class dog(mammel):\n",
        "    def bark(self):\n",
        "        print(\"bark\")\n",
        "\n",
        "class cat(mammel):\n",
        "    pass\n",
        "\n",
        "dog1 = dog()\n",
        "dog1.bark()\n",
        "\n",
        "cat1 = cat()\n",
        "cat1.walk()"
      ],
      "execution_count": null,
      "outputs": [
        {
          "output_type": "stream",
          "text": [
            "bark\n",
            "walk\n"
          ],
          "name": "stdout"
        }
      ]
    },
    {
      "cell_type": "markdown",
      "metadata": {
        "id": "BYAvXYxnbOBN"
      },
      "source": [
        "## **Multiprocessing**"
      ]
    },
    {
      "cell_type": "markdown",
      "metadata": {
        "id": "_z-VfHtSbeLu"
      },
      "source": [
        "### **NOTE**\n",
        "\n",
        "If you guys running the code on PYTHON IDLE it Won't work ->\n",
        "[See here for more info](https://stackoverflow.com/questions/21198857/python-multiprocessing-example-not-working)\n",
        "\n",
        "**Why exactly is the commend \"if _name_ == '__main__':\"  required?**\n",
        "\n",
        "**Answer** :\n",
        "```\n",
        "Since you're importing the multiprocessing module, you use \"if _name_ == '__main__':\"\n",
        "to avoid unintended side effects, such as starting a new process.\n",
        "A module that doesn't have it, when imported, runs as if it were being ran directly.\n",
        "By including the \"if\" statement there, this will only allow the code within that \"if\" statement to run if ran directly (such as running it yourself),\n",
        "whereas if you were to import a module that has that \"if\" statement,\n",
        "it \"loads\" it in a sense, since it's no longer referred to as \"__main__\".\n",
        "\n",
        "If you ran it directly, it's \"labelled\" as \"__main__\".\n",
        "When imported, it's \"labelled\" as it's filename, more or less.\n",
        "```"
      ]
    },
    {
      "cell_type": "code",
      "metadata": {
        "colab": {
          "base_uri": "https://localhost:8080/"
        },
        "id": "9jdvoYszbSfZ",
        "outputId": "24535e22-54bc-4aaa-e7fe-314e82e20b21"
      },
      "source": [
        "import multiprocessing\n",
        "import time\n",
        "\n",
        "# Example - 01\n",
        "\n",
        "start = time.perf_counter()\n",
        "\n",
        "def do_something():\n",
        "    print('Sleeping for 1 second')\n",
        "    time.sleep(1)\n",
        "    print('Done sleeping...')\n",
        "\n",
        "if __name__ == '__main__':\n",
        "    p1 = multiprocessing.Process(target=do_something) # Just initializing it, not calling it ( Don't do this do_something())\n",
        "\n",
        "    # To start the process\n",
        "    p1.start()\n",
        "\n",
        "    finish = time.perf_counter()\n",
        "    print(f'Finished in {round(finish-start,4)} seconds')\n",
        "\n",
        "# As it executing do_something function, it sees that cpu will be idle for 1 sec\n",
        "# So it jump to finish statement and printed the finished time\n",
        "# And after 1 sec, It doesn't resume where it was stoped (it not executed the \"Done sleeping ..\" statement)"
      ],
      "execution_count": null,
      "outputs": [
        {
          "output_type": "stream",
          "text": [
            "Finished in 0.0056 seconds\n",
            "Sleeping for 1 second\n"
          ],
          "name": "stdout"
        }
      ]
    },
    {
      "cell_type": "code",
      "metadata": {
        "colab": {
          "base_uri": "https://localhost:8080/"
        },
        "id": "0KohXjUtd5fs",
        "outputId": "a63e3b03-a537-4bc6-b14c-b0d5fba55749"
      },
      "source": [
        "start = time.perf_counter()\n",
        "\n",
        "def do_something():\n",
        "    print('Sleeping for 1 second')\n",
        "    time.sleep(1)\n",
        "    print('Done sleeping...')\n",
        "\n",
        "if __name__ == '__main__':\n",
        "    p1 = multiprocessing.Process(target=do_something) # Just initializing it, not calling it ( Don't do this do_something())\n",
        "\n",
        "    # To start the process\n",
        "    p1.start()\n",
        "    # Use join : To fully execute the function\n",
        "    p1.join()\n",
        "    finish = time.perf_counter()\n",
        "    print(f'Finished in {round(finish-start,4)} seconds')"
      ],
      "execution_count": null,
      "outputs": [
        {
          "output_type": "stream",
          "text": [
            "Sleeping for 1 second\n",
            "Done sleeping...\n",
            "Finished in 1.0287 seconds\n"
          ],
          "name": "stdout"
        }
      ]
    },
    {
      "cell_type": "code",
      "metadata": {
        "colab": {
          "base_uri": "https://localhost:8080/"
        },
        "id": "AXX1d3rPcPuV",
        "outputId": "568986ab-d6b2-45e1-ebb7-8c5fd429bfa7"
      },
      "source": [
        "# Example 03 : Two processes\n",
        "start = time.perf_counter()\n",
        "\n",
        "def do_something():\n",
        "    print('Sleeping for 1 second')\n",
        "    time.sleep(1)\n",
        "    print('Done sleeping...')\n",
        "\n",
        "if __name__ == '__main__':\n",
        "    p1 = multiprocessing.Process(target=do_something) # Just initializing it, not calling it ( Don't do this do_something())\n",
        "    p2 = multiprocessing.Process(target=do_something)\n",
        "\n",
        "    # To start the process\n",
        "    p1.start()\n",
        "    p2.start()\n",
        "    p1.join()\n",
        "    p2.join()\n",
        "\n",
        "    finish = time.perf_counter()\n",
        "    print(f'Finished in {round(finish-start,4)} seconds')"
      ],
      "execution_count": null,
      "outputs": [
        {
          "output_type": "stream",
          "text": [
            "Sleeping for 1 second\n",
            "Sleeping for 1 second\n",
            "Done sleeping...\n",
            "Done sleeping...\n",
            "Finished in 1.035 seconds\n"
          ],
          "name": "stdout"
        }
      ]
    },
    {
      "cell_type": "code",
      "metadata": {
        "colab": {
          "base_uri": "https://localhost:8080/"
        },
        "id": "Yq2iEOFXhUQv",
        "outputId": "80eb219e-b7dd-4c27-c4eb-06b9cae61ec3"
      },
      "source": [
        "# Example : Running 10 Processes for 1 sec, so instead of taking 10 sec to execute the code, it will take only 1 sec\n",
        "start = time.perf_counter()\n",
        "\n",
        "def do_something():\n",
        "    print('Sleeping for 1 second')\n",
        "    time.sleep(1)\n",
        "    print('Done sleeping...')\n",
        "\n",
        "if __name__ == '__main__':\n",
        "\n",
        "  processes = []\n",
        "\n",
        "  # We creating a 10 processes here\n",
        "  for _ in range(10):\n",
        "    p = multiprocessing.Process(target=do_something)\n",
        "    p.start()\n",
        "    processes.append(p)\n",
        "\n",
        "  for process in processes:\n",
        "    process.join()\n",
        "\n",
        "  finish = time.perf_counter()\n",
        "  print(f'Finished in {round(finish-start,4)} seconds')"
      ],
      "execution_count": null,
      "outputs": [
        {
          "output_type": "stream",
          "text": [
            "Sleeping for 1 second\n",
            "Sleeping for 1 second\n",
            "Sleeping for 1 second\n",
            "Sleeping for 1 second\n",
            "Sleeping for 1 second\n",
            "Sleeping for 1 second\n",
            "Sleeping for 1 second\n",
            "Sleeping for 1 second\n",
            "Sleeping for 1 second\n",
            "Sleeping for 1 second\n",
            "Done sleeping...\n",
            "Done sleeping...\n",
            "Done sleeping...\n",
            "Done sleeping...\n",
            "Done sleeping...\n",
            "Done sleeping...\n",
            "Done sleeping...\n",
            "Done sleeping...\n",
            "Done sleeping...\n",
            "Done sleeping...\n",
            "Finished in 1.1446 seconds\n"
          ],
          "name": "stdout"
        }
      ]
    },
    {
      "cell_type": "code",
      "metadata": {
        "colab": {
          "base_uri": "https://localhost:8080/"
        },
        "id": "6js6IBPZiw5-",
        "outputId": "d38ea8b7-d154-4ce6-ceac-6534abc0c0f6"
      },
      "source": [
        "# Example : Running 10 Processes for 1.5 sec so instead of taking 10 sec to execute the code, it will take only 1 sec\n",
        "start = time.perf_counter()\n",
        "\n",
        "def do_something(seconds):\n",
        "    print(f'Sleeping for {seconds} second')\n",
        "    time.sleep(1)\n",
        "    print('Done sleeping...')\n",
        "\n",
        "if __name__ == '__main__':\n",
        "\n",
        "  processes = []\n",
        "\n",
        "  # We creating a 10 processes here\n",
        "  for _ in range(10):\n",
        "    p = multiprocessing.Process(target=do_something,args=[1.5])\n",
        "    p.start()\n",
        "    processes.append(p)\n",
        "\n",
        "  for process in processes:\n",
        "    process.join()\n",
        "\n",
        "  finish = time.perf_counter()\n",
        "  print(f'Finished in {round(finish-start,4)} seconds')"
      ],
      "execution_count": null,
      "outputs": [
        {
          "output_type": "stream",
          "text": [
            "Sleeping for 1.5 second\n",
            "Sleeping for 1.5 second\n",
            "Sleeping for 1.5 second\n",
            "Sleeping for 1.5 second\n",
            "Sleeping for 1.5 second\n",
            "Sleeping for 1.5 second\n",
            "Sleeping for 1.5 second\n",
            "Sleeping for 1.5 second\n",
            "Sleeping for 1.5 second\n",
            "Sleeping for 1.5 second\n",
            "Done sleeping...\n",
            "Done sleeping...\n",
            "Done sleeping...\n",
            "Done sleeping...\n",
            "Done sleeping...\n",
            "Done sleeping...\n",
            "Done sleeping...\n",
            "Done sleeping...\n",
            "Done sleeping...\n",
            "Done sleeping...\n",
            "Finished in 1.1307 seconds\n"
          ],
          "name": "stdout"
        }
      ]
    },
    {
      "cell_type": "markdown",
      "metadata": {
        "id": "_6jLWG8Vhbcy"
      },
      "source": [
        "## **Module**\n",
        "\n"
      ]
    },
    {
      "cell_type": "code",
      "metadata": {
        "id": "lgDYD5qZhbcy",
        "outputId": "2206993f-6b55-478e-8665-92510b96f5d6"
      },
      "source": [
        "#module -> module.ipynb file which we have created we can directly import function also\n",
        "#we need to install from anaconda prompt -> pip install import-ipynb\n",
        "import import_ipynb\n",
        "\n",
        "import module\n",
        "from module import cm2m\n",
        "\n",
        "cm2m(100)\n",
        "m2cm"
      ],
      "execution_count": null,
      "outputs": [
        {
          "output_type": "stream",
          "text": [
            "1.0\n"
          ],
          "name": "stdout"
        }
      ]
    },
    {
      "cell_type": "code",
      "metadata": {
        "id": "4HMefN8mhbc4",
        "outputId": "8e7dc160-85b5-43cc-afcf-2423b184f29d"
      },
      "source": [
        "numbers = [5,4,6,8,10]\n",
        "print(max(numbers))\n",
        "print(min(numbers))\n"
      ],
      "execution_count": null,
      "outputs": [
        {
          "output_type": "stream",
          "text": [
            "10\n",
            "4\n"
          ],
          "name": "stdout"
        }
      ]
    },
    {
      "cell_type": "markdown",
      "metadata": {
        "id": "zKIjZX__hbc8"
      },
      "source": [
        "## **Packages**\n"
      ]
    },
    {
      "cell_type": "markdown",
      "metadata": {
        "id": "gH8vJE7uhbc9"
      },
      "source": [
        "package -: we can create a seperate .py file and extract this file and import into another file as similar to module\n",
        "\n",
        "package is collections of different modules\n",
        "\n",
        "### Type of Module\n",
        "\n",
        "        1) Absolute module\n",
        "from mypackage.mymodule1 import class A\n",
        "obj = class A\n",
        "\n",
        "        2) relative module\n",
        "if im working in \"module1\" & i want to import Class C from \"module2\" into my \"module1\"\n",
        "\n",
        "```python\n",
        "from module2 import classC\n",
        "obj = classC()\n",
        "```\n",
        "\n",
        "\n"
      ]
    },
    {
      "cell_type": "markdown",
      "metadata": {
        "id": "EGmOUGiQhbc9"
      },
      "source": [
        "## **Random**\n"
      ]
    },
    {
      "cell_type": "code",
      "metadata": {
        "id": "t7q5rTHAhbc-",
        "outputId": "d29f55e3-769e-4887-f400-20a57dd8b1dc"
      },
      "source": [
        "import random\n",
        "\n",
        "for i in range(3):\n",
        "    print(random.random())"
      ],
      "execution_count": null,
      "outputs": [
        {
          "output_type": "stream",
          "text": [
            "0.8556515733440572\n",
            "0.9018671283206765\n",
            "0.6655666651378818\n"
          ],
          "name": "stdout"
        }
      ]
    },
    {
      "cell_type": "code",
      "metadata": {
        "id": "GI3T71G-hbdF",
        "outputId": "9371b4e8-149a-4218-84db-7da93ed28840"
      },
      "source": [
        "for i in range(3):\n",
        "    print(random.randint(10,20))"
      ],
      "execution_count": null,
      "outputs": [
        {
          "output_type": "stream",
          "text": [
            "12\n",
            "20\n",
            "15\n"
          ],
          "name": "stdout"
        }
      ]
    },
    {
      "cell_type": "code",
      "metadata": {
        "id": "L6Oo1U-QhbdJ",
        "outputId": "f09e0c88-b3b9-4f48-aaf2-fba49eb56aef"
      },
      "source": [
        "# randomly choose the value\n",
        "members = ['hritik', 'jaiswal','aniket','shweta']\n",
        "show = random.choice(members)\n",
        "print(show)"
      ],
      "execution_count": null,
      "outputs": [
        {
          "output_type": "stream",
          "text": [
            "jaiswal\n"
          ],
          "name": "stdout"
        }
      ]
    },
    {
      "cell_type": "code",
      "metadata": {
        "id": "rYWLaWCthbdP",
        "outputId": "322b1df3-8793-4a2f-9b1f-d9b495d38c45"
      },
      "source": [
        "#excercise -> dice thrown give random value\n",
        "\n",
        "class Dice:\n",
        "    def roll(self):\n",
        "        x = (1,2,3,4,5,6)\n",
        "        y = (1,2,3,4,5,6)\n",
        "        m = random.choice(x)\n",
        "        l = random.choice(y)\n",
        "        print(\"({},{})\".format(m,l))\n",
        "\n",
        "\n",
        "r = Dice()\n",
        "r.roll()\n",
        "\n"
      ],
      "execution_count": null,
      "outputs": [
        {
          "output_type": "stream",
          "text": [
            "(2,4)\n"
          ],
          "name": "stdout"
        }
      ]
    },
    {
      "cell_type": "code",
      "metadata": {
        "id": "XwtFW7IOhbdT",
        "outputId": "6a505dd7-1ec1-4249-8ff8-8ef23e35906d"
      },
      "source": [
        "# another method\n",
        "\n",
        "class Dice:\n",
        "    def roll(self):\n",
        "        first = random.randint(1,6)\n",
        "        second = random.randint(1,6)\n",
        "        return first,second\n",
        "dice = Dice()\n",
        "print(dice.roll())"
      ],
      "execution_count": null,
      "outputs": [
        {
          "output_type": "stream",
          "text": [
            "(5, 6)\n"
          ],
          "name": "stdout"
        }
      ]
    },
    {
      "cell_type": "markdown",
      "metadata": {
        "id": "1-SgBeOzhbdc"
      },
      "source": [
        "## **Files and Directories**"
      ]
    },
    {
      "cell_type": "code",
      "metadata": {
        "id": "zyNHwjQWhbdd",
        "outputId": "d2d06981-cec9-4a58-868f-f37e7981b02f"
      },
      "source": [
        "from pathlib import Path\n",
        "path = Path(\".\")\n",
        "print(path.exists())\n",
        "\n",
        "\n",
        "#if u want to make new directory\n",
        "\n",
        "# path1 = Path(\"Files_Directories\")\n",
        "# path1.mkdir()\n",
        "\n",
        "#when u want to remove directory\n",
        "#path.rmdir()\n",
        "\n"
      ],
      "execution_count": null,
      "outputs": [
        {
          "output_type": "stream",
          "text": [
            "True\n"
          ],
          "name": "stdout"
        }
      ]
    },
    {
      "cell_type": "code",
      "metadata": {
        "id": "phU32ZfVhbdh",
        "outputId": "f970c197-438e-4fc7-b9f9-68c4134304e7"
      },
      "source": [
        "path2 = Path()\n",
        "for file in path2.glob(\"*.ipynb\"):\n",
        "    print(file)"
      ],
      "execution_count": null,
      "outputs": [
        {
          "output_type": "stream",
          "text": [
            "ch02.ipynb\n",
            "module.ipynb\n",
            "Python-1.ipynb\n"
          ],
          "name": "stdout"
        }
      ]
    },
    {
      "cell_type": "code",
      "metadata": {
        "id": "qKEwz7Zkhbdn",
        "outputId": "c636358a-9ad6-4da8-f0ec-a691a71cd13f"
      },
      "source": [
        "path3 = Path()\n",
        "for file in path3.glob(\"*\"):\n",
        "    print(file)"
      ],
      "execution_count": null,
      "outputs": [
        {
          "output_type": "stream",
          "text": [
            ".ipynb_checkpoints\n",
            "ch02.ipynb\n",
            "Files_Directories\n",
            "module.ipynb\n",
            "Python-1.ipynb\n"
          ],
          "name": "stdout"
        }
      ]
    },
    {
      "cell_type": "markdown",
      "metadata": {
        "id": "VikxkKeUhbdr"
      },
      "source": [
        "## **Working with spreadsheet**"
      ]
    },
    {
      "cell_type": "code",
      "metadata": {
        "id": "XxLGnKOPhbdt",
        "outputId": "aed479f5-00d6-430a-8a0d-35603a6f63bd"
      },
      "source": [
        "import openpyxl as xl\n",
        "from openpyxl.chart import BarChart,Reference\n",
        "\n",
        "# Here openpyxl -> package , chart -> module , BarChart -> class\n",
        "#instead of passing a file name ->  we can use function and store the path in \"filename\" variable and pass as argument to function\n",
        "\n",
        "wb = xl.load_workbook(r'C:\\Users\\Hritik Jaiswal\\Downloads\\Spreadsheet\\transactions.xlsx')\n",
        "sheet = wb['Sheet1']\n",
        "\n",
        "\n",
        "#method to get a cell\n",
        "\n",
        "cell = sheet['a1']\n",
        "#another method ->   cell = sheet.cell(1,1)\n",
        "\n",
        "print(cell.value)\n",
        "#print max row\n",
        "print(sheet.max_row)"
      ],
      "execution_count": null,
      "outputs": [
        {
          "output_type": "stream",
          "text": [
            "transaction_id\n",
            "4\n"
          ],
          "name": "stdout"
        }
      ]
    },
    {
      "cell_type": "code",
      "metadata": {
        "id": "_6hJ43w_hbdz",
        "outputId": "6b2a6fbd-90ea-42e0-fd27-c615d91fadee"
      },
      "source": [
        "#we have to modify value of the cell and store into another excel file\n",
        "\n",
        "for row in range(2,sheet.max_row+1):\n",
        "    cell = sheet.cell(row,3)  # column is 3\n",
        "    print(cell.value)\n",
        "    corrected_value = cell.value * 0.9\n",
        "\n",
        "    #now we have to place a corrected value into anther column\n",
        "    corrected_value_cell = sheet.cell(row,4)  #add corrected value into the 4 column\n",
        "\n",
        "    corrected_value_cell.value = corrected_value\n",
        "#Excersice\n",
        "\n",
        "# u have to create a bar graph in excel\n",
        "\n",
        "\n",
        "values = Reference(sheet,\n",
        "\n",
        "          min_row=2,max_row = sheet.max_row,\n",
        "\n",
        "          min_col = 4 , max_col = 4\n",
        "         )\n",
        "\n",
        "chart = BarChart()\n",
        "chart.add_data(values)\n",
        "sheet.add_chart(chart, 'f2')\n",
        "\n",
        "\n",
        "wb.save(\"transaction2.xlsx\")\n",
        "\n"
      ],
      "execution_count": null,
      "outputs": [
        {
          "output_type": "stream",
          "text": [
            "5.95\n",
            "6.95\n",
            "7.95\n"
          ],
          "name": "stdout"
        }
      ]
    },
    {
      "cell_type": "markdown",
      "metadata": {
        "id": "yuyalto8hbd5"
      },
      "source": [
        "## **Machine learning**"
      ]
    },
    {
      "cell_type": "markdown",
      "metadata": {
        "id": "Hu9WRoI2hbd5"
      },
      "source": [
        "### Steps :\n",
        "\n",
        "                    1) Import the Data\n",
        "                    2) clean the Data\n",
        "                    3) split the Data into training/test sets\n",
        "                    4) create a model\n",
        "                    5) train the model\n",
        "                    6) make prediction\n",
        "                    7) Evaluate and Improve\n"
      ]
    },
    {
      "cell_type": "code",
      "metadata": {
        "id": "qzGufszyhbd6",
        "outputId": "41683492-4bb6-44c8-c094-e56fd123a6fc"
      },
      "source": [
        "#Importing a data set\n",
        "import pandas as pd\n",
        "df = pd.read_csv('vgsales.csv')\n",
        "df.shape"
      ],
      "execution_count": null,
      "outputs": [
        {
          "output_type": "execute_result",
          "data": {
            "text/plain": [
              "(16598, 11)"
            ]
          },
          "metadata": {
            "tags": []
          },
          "execution_count": 31
        }
      ]
    },
    {
      "cell_type": "code",
      "metadata": {
        "id": "MMxezOmQhbd-",
        "outputId": "747ae6ff-cb3f-4396-e8fe-a75f14c2fde5"
      },
      "source": [
        "df.describe()"
      ],
      "execution_count": null,
      "outputs": [
        {
          "output_type": "execute_result",
          "data": {
            "text/html": [
              "<div>\n",
              "<style scoped>\n",
              "    .dataframe tbody tr th:only-of-type {\n",
              "        vertical-align: middle;\n",
              "    }\n",
              "\n",
              "    .dataframe tbody tr th {\n",
              "        vertical-align: top;\n",
              "    }\n",
              "\n",
              "    .dataframe thead th {\n",
              "        text-align: right;\n",
              "    }\n",
              "</style>\n",
              "<table border=\"1\" class=\"dataframe\">\n",
              "  <thead>\n",
              "    <tr style=\"text-align: right;\">\n",
              "      <th></th>\n",
              "      <th>Rank</th>\n",
              "      <th>Year</th>\n",
              "      <th>NA_Sales</th>\n",
              "      <th>EU_Sales</th>\n",
              "      <th>JP_Sales</th>\n",
              "      <th>Other_Sales</th>\n",
              "      <th>Global_Sales</th>\n",
              "    </tr>\n",
              "  </thead>\n",
              "  <tbody>\n",
              "    <tr>\n",
              "      <th>count</th>\n",
              "      <td>16598.000000</td>\n",
              "      <td>16327.000000</td>\n",
              "      <td>16598.000000</td>\n",
              "      <td>16598.000000</td>\n",
              "      <td>16598.000000</td>\n",
              "      <td>16598.000000</td>\n",
              "      <td>16598.000000</td>\n",
              "    </tr>\n",
              "    <tr>\n",
              "      <th>mean</th>\n",
              "      <td>8300.605254</td>\n",
              "      <td>2006.406443</td>\n",
              "      <td>0.264667</td>\n",
              "      <td>0.146652</td>\n",
              "      <td>0.077782</td>\n",
              "      <td>0.048063</td>\n",
              "      <td>0.537441</td>\n",
              "    </tr>\n",
              "    <tr>\n",
              "      <th>std</th>\n",
              "      <td>4791.853933</td>\n",
              "      <td>5.828981</td>\n",
              "      <td>0.816683</td>\n",
              "      <td>0.505351</td>\n",
              "      <td>0.309291</td>\n",
              "      <td>0.188588</td>\n",
              "      <td>1.555028</td>\n",
              "    </tr>\n",
              "    <tr>\n",
              "      <th>min</th>\n",
              "      <td>1.000000</td>\n",
              "      <td>1980.000000</td>\n",
              "      <td>0.000000</td>\n",
              "      <td>0.000000</td>\n",
              "      <td>0.000000</td>\n",
              "      <td>0.000000</td>\n",
              "      <td>0.010000</td>\n",
              "    </tr>\n",
              "    <tr>\n",
              "      <th>25%</th>\n",
              "      <td>4151.250000</td>\n",
              "      <td>2003.000000</td>\n",
              "      <td>0.000000</td>\n",
              "      <td>0.000000</td>\n",
              "      <td>0.000000</td>\n",
              "      <td>0.000000</td>\n",
              "      <td>0.060000</td>\n",
              "    </tr>\n",
              "    <tr>\n",
              "      <th>50%</th>\n",
              "      <td>8300.500000</td>\n",
              "      <td>2007.000000</td>\n",
              "      <td>0.080000</td>\n",
              "      <td>0.020000</td>\n",
              "      <td>0.000000</td>\n",
              "      <td>0.010000</td>\n",
              "      <td>0.170000</td>\n",
              "    </tr>\n",
              "    <tr>\n",
              "      <th>75%</th>\n",
              "      <td>12449.750000</td>\n",
              "      <td>2010.000000</td>\n",
              "      <td>0.240000</td>\n",
              "      <td>0.110000</td>\n",
              "      <td>0.040000</td>\n",
              "      <td>0.040000</td>\n",
              "      <td>0.470000</td>\n",
              "    </tr>\n",
              "    <tr>\n",
              "      <th>max</th>\n",
              "      <td>16600.000000</td>\n",
              "      <td>2020.000000</td>\n",
              "      <td>41.490000</td>\n",
              "      <td>29.020000</td>\n",
              "      <td>10.220000</td>\n",
              "      <td>10.570000</td>\n",
              "      <td>82.740000</td>\n",
              "    </tr>\n",
              "  </tbody>\n",
              "</table>\n",
              "</div>"
            ],
            "text/plain": [
              "               Rank          Year      NA_Sales      EU_Sales      JP_Sales  \\\n",
              "count  16598.000000  16327.000000  16598.000000  16598.000000  16598.000000   \n",
              "mean    8300.605254   2006.406443      0.264667      0.146652      0.077782   \n",
              "std     4791.853933      5.828981      0.816683      0.505351      0.309291   \n",
              "min        1.000000   1980.000000      0.000000      0.000000      0.000000   \n",
              "25%     4151.250000   2003.000000      0.000000      0.000000      0.000000   \n",
              "50%     8300.500000   2007.000000      0.080000      0.020000      0.000000   \n",
              "75%    12449.750000   2010.000000      0.240000      0.110000      0.040000   \n",
              "max    16600.000000   2020.000000     41.490000     29.020000     10.220000   \n",
              "\n",
              "        Other_Sales  Global_Sales  \n",
              "count  16598.000000  16598.000000  \n",
              "mean       0.048063      0.537441  \n",
              "std        0.188588      1.555028  \n",
              "min        0.000000      0.010000  \n",
              "25%        0.000000      0.060000  \n",
              "50%        0.010000      0.170000  \n",
              "75%        0.040000      0.470000  \n",
              "max       10.570000     82.740000  "
            ]
          },
          "metadata": {
            "tags": []
          },
          "execution_count": 32
        }
      ]
    },
    {
      "cell_type": "code",
      "metadata": {
        "id": "Go_tvyFChbeD",
        "outputId": "d67636ab-e76e-4d6d-fdc5-c9c9114308b2"
      },
      "source": [
        "df.values"
      ],
      "execution_count": null,
      "outputs": [
        {
          "output_type": "execute_result",
          "data": {
            "text/plain": [
              "array([[1, 'Wii Sports', 'Wii', ..., 3.77, 8.46, 82.74],\n",
              "       [2, 'Super Mario Bros.', 'NES', ..., 6.81, 0.77, 40.24],\n",
              "       [3, 'Mario Kart Wii', 'Wii', ..., 3.79, 3.31, 35.82],\n",
              "       ...,\n",
              "       [16598, 'SCORE International Baja 1000: The Official Game', 'PS2',\n",
              "        ..., 0.0, 0.0, 0.01],\n",
              "       [16599, 'Know How 2', 'DS', ..., 0.0, 0.0, 0.01],\n",
              "       [16600, 'Spirits & Spells', 'GBA', ..., 0.0, 0.0, 0.01]],\n",
              "      dtype=object)"
            ]
          },
          "metadata": {
            "tags": []
          },
          "execution_count": 33
        }
      ]
    },
    {
      "cell_type": "markdown",
      "metadata": {
        "id": "wl47EhHvhbeI"
      },
      "source": [
        "## **Real world problem**\n",
        "\n",
        "Recommend various music albums thier likely to buy based on age and gender\n"
      ]
    },
    {
      "cell_type": "markdown",
      "metadata": {
        "id": "FLdnImn3hbeJ"
      },
      "source": [
        "## **Importing Data**"
      ]
    },
    {
      "cell_type": "code",
      "metadata": {
        "id": "WJpWAZ9ohbeJ",
        "outputId": "66033a27-b9f1-4d1c-ac64-38afc75a11da"
      },
      "source": [
        "import pandas as pd\n",
        "\n",
        "data = pd.read_csv('music.csv')\n",
        "data\n"
      ],
      "execution_count": null,
      "outputs": [
        {
          "output_type": "execute_result",
          "data": {
            "text/html": [
              "<div>\n",
              "<style scoped>\n",
              "    .dataframe tbody tr th:only-of-type {\n",
              "        vertical-align: middle;\n",
              "    }\n",
              "\n",
              "    .dataframe tbody tr th {\n",
              "        vertical-align: top;\n",
              "    }\n",
              "\n",
              "    .dataframe thead th {\n",
              "        text-align: right;\n",
              "    }\n",
              "</style>\n",
              "<table border=\"1\" class=\"dataframe\">\n",
              "  <thead>\n",
              "    <tr style=\"text-align: right;\">\n",
              "      <th></th>\n",
              "      <th>age</th>\n",
              "      <th>gender</th>\n",
              "      <th>genre</th>\n",
              "    </tr>\n",
              "  </thead>\n",
              "  <tbody>\n",
              "    <tr>\n",
              "      <th>0</th>\n",
              "      <td>20</td>\n",
              "      <td>1</td>\n",
              "      <td>HipHop</td>\n",
              "    </tr>\n",
              "    <tr>\n",
              "      <th>1</th>\n",
              "      <td>23</td>\n",
              "      <td>1</td>\n",
              "      <td>HipHop</td>\n",
              "    </tr>\n",
              "    <tr>\n",
              "      <th>2</th>\n",
              "      <td>25</td>\n",
              "      <td>1</td>\n",
              "      <td>HipHop</td>\n",
              "    </tr>\n",
              "    <tr>\n",
              "      <th>3</th>\n",
              "      <td>26</td>\n",
              "      <td>1</td>\n",
              "      <td>Jazz</td>\n",
              "    </tr>\n",
              "    <tr>\n",
              "      <th>4</th>\n",
              "      <td>29</td>\n",
              "      <td>1</td>\n",
              "      <td>Jazz</td>\n",
              "    </tr>\n",
              "    <tr>\n",
              "      <th>5</th>\n",
              "      <td>30</td>\n",
              "      <td>1</td>\n",
              "      <td>Jazz</td>\n",
              "    </tr>\n",
              "    <tr>\n",
              "      <th>6</th>\n",
              "      <td>31</td>\n",
              "      <td>1</td>\n",
              "      <td>Classical</td>\n",
              "    </tr>\n",
              "    <tr>\n",
              "      <th>7</th>\n",
              "      <td>33</td>\n",
              "      <td>1</td>\n",
              "      <td>Classical</td>\n",
              "    </tr>\n",
              "    <tr>\n",
              "      <th>8</th>\n",
              "      <td>37</td>\n",
              "      <td>1</td>\n",
              "      <td>Classical</td>\n",
              "    </tr>\n",
              "    <tr>\n",
              "      <th>9</th>\n",
              "      <td>20</td>\n",
              "      <td>0</td>\n",
              "      <td>Dance</td>\n",
              "    </tr>\n",
              "    <tr>\n",
              "      <th>10</th>\n",
              "      <td>21</td>\n",
              "      <td>0</td>\n",
              "      <td>Dance</td>\n",
              "    </tr>\n",
              "    <tr>\n",
              "      <th>11</th>\n",
              "      <td>25</td>\n",
              "      <td>0</td>\n",
              "      <td>Dance</td>\n",
              "    </tr>\n",
              "    <tr>\n",
              "      <th>12</th>\n",
              "      <td>26</td>\n",
              "      <td>0</td>\n",
              "      <td>Acoustic</td>\n",
              "    </tr>\n",
              "    <tr>\n",
              "      <th>13</th>\n",
              "      <td>27</td>\n",
              "      <td>0</td>\n",
              "      <td>Acoustic</td>\n",
              "    </tr>\n",
              "    <tr>\n",
              "      <th>14</th>\n",
              "      <td>30</td>\n",
              "      <td>0</td>\n",
              "      <td>Acoustic</td>\n",
              "    </tr>\n",
              "    <tr>\n",
              "      <th>15</th>\n",
              "      <td>31</td>\n",
              "      <td>0</td>\n",
              "      <td>Classical</td>\n",
              "    </tr>\n",
              "    <tr>\n",
              "      <th>16</th>\n",
              "      <td>34</td>\n",
              "      <td>0</td>\n",
              "      <td>Classical</td>\n",
              "    </tr>\n",
              "    <tr>\n",
              "      <th>17</th>\n",
              "      <td>35</td>\n",
              "      <td>0</td>\n",
              "      <td>Classical</td>\n",
              "    </tr>\n",
              "  </tbody>\n",
              "</table>\n",
              "</div>"
            ],
            "text/plain": [
              "    age  gender      genre\n",
              "0    20       1     HipHop\n",
              "1    23       1     HipHop\n",
              "2    25       1     HipHop\n",
              "3    26       1       Jazz\n",
              "4    29       1       Jazz\n",
              "5    30       1       Jazz\n",
              "6    31       1  Classical\n",
              "7    33       1  Classical\n",
              "8    37       1  Classical\n",
              "9    20       0      Dance\n",
              "10   21       0      Dance\n",
              "11   25       0      Dance\n",
              "12   26       0   Acoustic\n",
              "13   27       0   Acoustic\n",
              "14   30       0   Acoustic\n",
              "15   31       0  Classical\n",
              "16   34       0  Classical\n",
              "17   35       0  Classical"
            ]
          },
          "metadata": {
            "tags": []
          },
          "execution_count": 18
        }
      ]
    },
    {
      "cell_type": "code",
      "metadata": {
        "id": "cf9VEAPthbeM",
        "outputId": "cb16668a-75c1-48df-a5b5-2ec723552bbe"
      },
      "source": [
        "data.describe()"
      ],
      "execution_count": null,
      "outputs": [
        {
          "output_type": "execute_result",
          "data": {
            "text/html": [
              "<div>\n",
              "<style scoped>\n",
              "    .dataframe tbody tr th:only-of-type {\n",
              "        vertical-align: middle;\n",
              "    }\n",
              "\n",
              "    .dataframe tbody tr th {\n",
              "        vertical-align: top;\n",
              "    }\n",
              "\n",
              "    .dataframe thead th {\n",
              "        text-align: right;\n",
              "    }\n",
              "</style>\n",
              "<table border=\"1\" class=\"dataframe\">\n",
              "  <thead>\n",
              "    <tr style=\"text-align: right;\">\n",
              "      <th></th>\n",
              "      <th>age</th>\n",
              "      <th>gender</th>\n",
              "    </tr>\n",
              "  </thead>\n",
              "  <tbody>\n",
              "    <tr>\n",
              "      <th>count</th>\n",
              "      <td>18.000000</td>\n",
              "      <td>18.000000</td>\n",
              "    </tr>\n",
              "    <tr>\n",
              "      <th>mean</th>\n",
              "      <td>27.944444</td>\n",
              "      <td>0.500000</td>\n",
              "    </tr>\n",
              "    <tr>\n",
              "      <th>std</th>\n",
              "      <td>5.127460</td>\n",
              "      <td>0.514496</td>\n",
              "    </tr>\n",
              "    <tr>\n",
              "      <th>min</th>\n",
              "      <td>20.000000</td>\n",
              "      <td>0.000000</td>\n",
              "    </tr>\n",
              "    <tr>\n",
              "      <th>25%</th>\n",
              "      <td>25.000000</td>\n",
              "      <td>0.000000</td>\n",
              "    </tr>\n",
              "    <tr>\n",
              "      <th>50%</th>\n",
              "      <td>28.000000</td>\n",
              "      <td>0.500000</td>\n",
              "    </tr>\n",
              "    <tr>\n",
              "      <th>75%</th>\n",
              "      <td>31.000000</td>\n",
              "      <td>1.000000</td>\n",
              "    </tr>\n",
              "    <tr>\n",
              "      <th>max</th>\n",
              "      <td>37.000000</td>\n",
              "      <td>1.000000</td>\n",
              "    </tr>\n",
              "  </tbody>\n",
              "</table>\n",
              "</div>"
            ],
            "text/plain": [
              "             age     gender\n",
              "count  18.000000  18.000000\n",
              "mean   27.944444   0.500000\n",
              "std     5.127460   0.514496\n",
              "min    20.000000   0.000000\n",
              "25%    25.000000   0.000000\n",
              "50%    28.000000   0.500000\n",
              "75%    31.000000   1.000000\n",
              "max    37.000000   1.000000"
            ]
          },
          "metadata": {
            "tags": []
          },
          "execution_count": 19
        }
      ]
    },
    {
      "cell_type": "code",
      "metadata": {
        "id": "iHDFksbkhbef"
      },
      "source": [
        "# we will create two input data set that will be 'age' and 'gender'\n",
        "# we will pass 'age' and 'gender' and based on the input we predict the output\n",
        "# output will be stored in 'genre'\n",
        "\n",
        "X = data.drop(columns=['genre'])\n",
        "\n",
        "Y = data['genre']\n"
      ],
      "execution_count": null,
      "outputs": []
    },
    {
      "cell_type": "markdown",
      "metadata": {
        "id": "XkfiO2eihbei"
      },
      "source": [
        "## **Learning and Predicting**"
      ]
    },
    {
      "cell_type": "code",
      "metadata": {
        "id": "rYdJY2nShbej",
        "outputId": "6b000028-94e0-4e9d-dce6-ee7b1dd4a309"
      },
      "source": [
        "from sklearn.tree import DecisionTreeClassifier\n",
        "\n",
        "model = DecisionTreeClassifier()\n",
        "# takes two attributes 1. input dataset 2. output dataset\n",
        "model.fit(X,Y)\n",
        "\n",
        "\n",
        "#let make a prediction by passing input Here 22 is age and 0 is female\n",
        "\n",
        "prediction = model.predict([[22,0],[25,1]])\n",
        "prediction\n",
        "\n"
      ],
      "execution_count": null,
      "outputs": [
        {
          "output_type": "execute_result",
          "data": {
            "text/plain": [
              "array(['Dance', 'HipHop'], dtype=object)"
            ]
          },
          "metadata": {
            "tags": []
          },
          "execution_count": 24
        }
      ]
    },
    {
      "cell_type": "markdown",
      "metadata": {
        "id": "5NEKcleMhbep"
      },
      "source": [
        "## **Calculating the Accuracy**"
      ]
    },
    {
      "cell_type": "code",
      "metadata": {
        "id": "T3qnq9v4hbeq",
        "outputId": "dc4069d1-af5f-4b6a-c421-f19bd57fa535"
      },
      "source": [
        "# for calculating the accuracy we need to test and train the model\n",
        "# generally 70-80% data need to training and 20-30% for testing\n",
        "\n",
        "from sklearn.model_selection import train_test_split\n",
        "\n",
        "# Here we use 20% for testing and check with respect to the predicted value\n",
        "# the function will return 4 tuple we have to get that result into a variable\n",
        "\n",
        "X_train,X_test,Y_train,Y_test = train_test_split(X,Y,test_size = 0.5)\n",
        "print(X_train)\n",
        "model.fit(X_train,Y_train)\n",
        "\n",
        "# we pass input as X_test in attribute\n",
        "prediction = model.predict(X_test)\n",
        "\n",
        "# now to check accurancy we have to compair the prediction with y_test()\n",
        "from sklearn.metrics import accuracy_score\n",
        "\n",
        "score = accuracy_score(Y_test,prediction)\n",
        "print(\"Accuracy is : {}\".format(score))\n",
        "\n",
        "#every time we run are model accuracy will be changing"
      ],
      "execution_count": null,
      "outputs": [
        {
          "output_type": "stream",
          "text": [
            "    age  gender\n",
            "0    20       1\n",
            "3    26       1\n",
            "5    30       1\n",
            "6    31       1\n",
            "12   26       0\n",
            "9    20       0\n",
            "11   25       0\n",
            "2    25       1\n",
            "10   21       0\n",
            "Accuracy is : 0.6666666666666666\n"
          ],
          "name": "stdout"
        }
      ]
    },
    {
      "cell_type": "markdown",
      "metadata": {
        "id": "QysGveXnhbew"
      },
      "source": [
        "## **Model Persistance**"
      ]
    },
    {
      "cell_type": "markdown",
      "metadata": {
        "id": "Ws6dFzOHhbew"
      },
      "source": [
        "\n",
        "for training model again again takes lot of time instead\n",
        "we can save the trained model in one joblib file\n",
        "\n",
        "run these piece of code after applying model i.e after :\n",
        "\n",
        "        model = DecisionTreeClassifier()\n",
        "\n",
        "        from sklearn.externals import joblib\n",
        "        joblib.dump(model,'model-recommender.joblib')\n",
        "\n",
        "after runing these commment the trained model syntax and and then direclty load\n",
        "\n",
        "        joblib.load('model-recommender.joblib')\n"
      ]
    },
    {
      "cell_type": "markdown",
      "metadata": {
        "id": "pF5YrMRxhbex"
      },
      "source": [
        "## **Visualizing a Decision Tree**\n"
      ]
    },
    {
      "cell_type": "code",
      "metadata": {
        "id": "oh448os1hbey"
      },
      "source": [
        "# u can see a graph i.e decision tree on visual studio code\n",
        "# by clicking a sidebar preview button\n",
        "\n",
        "from sklearn import tree\n",
        "tree.export_graphviz(model,\n",
        "                    out_file = \"music-recommender.dot\",\n",
        "                    class_names = sorted(Y.unique()),\n",
        "                    label = 'all',\n",
        "                    rounded =True ,\n",
        "                    filled= True\n",
        "                    )\n",
        "\n"
      ],
      "execution_count": null,
      "outputs": []
    }
  ]
}