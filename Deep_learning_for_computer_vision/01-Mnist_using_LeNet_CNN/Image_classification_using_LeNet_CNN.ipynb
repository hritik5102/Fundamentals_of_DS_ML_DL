{
  "nbformat": 4,
  "nbformat_minor": 0,
  "metadata": {
    "colab": {
      "name": "Image-classification-using-LeNet-CNN.ipynb",
      "provenance": [],
      "collapsed_sections": []
    },
    "kernelspec": {
      "name": "python3",
      "display_name": "Python 3"
    }
  },
  "cells": [
    {
      "cell_type": "markdown",
      "metadata": {
        "id": "zlEGlcbzvu-9",
        "colab_type": "text"
      },
      "source": [
        "## **`Image classification using LeNet CNN`**\n",
        "<hr/>\n",
        "\n",
        "**MNIST Dataset - Handwritten Digits (0-9)**\n",
        "<br/>\n",
        "<p align=\"center\">\n",
        "<img src=\"https://miro.medium.com/max/1168/1*2lSjt9YKJn9sxK7DSeGDyw.jpeg\" width=\"40%\" />\n",
        "</p>\n"
      ]
    },
    {
      "cell_type": "code",
      "metadata": {
        "id": "-pmcJpU-vaGV",
        "colab_type": "code",
        "colab": {
          "base_uri": "https://localhost:8080/",
          "height": 34
        },
        "outputId": "ee8d8503-a08a-407a-c8f2-b7d687f83693"
      },
      "source": [
        "## import tensorflow module\n",
        "\n",
        "import tensorflow as tf\n",
        "import numpy as np \n",
        "\n",
        "print(tf.__version__)"
      ],
      "execution_count": 53,
      "outputs": [
        {
          "output_type": "stream",
          "text": [
            "2.2.0\n"
          ],
          "name": "stdout"
        }
      ]
    },
    {
      "cell_type": "markdown",
      "metadata": {
        "id": "ChWCsLFqx3c0",
        "colab_type": "text"
      },
      "source": [
        "## **Load the data**"
      ]
    },
    {
      "cell_type": "code",
      "metadata": {
        "id": "1mhFO9nLxw7d",
        "colab_type": "code",
        "colab": {
          "base_uri": "https://localhost:8080/",
          "height": 34
        },
        "outputId": "d556c8e7-0d6b-4532-c494-a36b3bb26d98"
      },
      "source": [
        "print(\"[INFO downloading MNIST]\")\n",
        "(trainData , trainLabels) , (testData,testLabels) = tf.keras.datasets.mnist.load_data()"
      ],
      "execution_count": 54,
      "outputs": [
        {
          "output_type": "stream",
          "text": [
            "[INFO downloading MNIST]\n"
          ],
          "name": "stdout"
        }
      ]
    },
    {
      "cell_type": "code",
      "metadata": {
        "id": "LyR14YJGybYh",
        "colab_type": "code",
        "colab": {}
      },
      "source": [
        "## Parameter for mnist data set\n",
        "\n",
        "image_width = 28\n",
        "image_height = 28\n",
        "image_channels = 1     # As it already grayscale image\n",
        "num_classes = 10       # Output whould be range from 0-9 i.e. 10"
      ],
      "execution_count": 0,
      "outputs": []
    },
    {
      "cell_type": "code",
      "metadata": {
        "id": "v-btBb5WzouE",
        "colab_type": "code",
        "colab": {
          "base_uri": "https://localhost:8080/",
          "height": 85
        },
        "outputId": "5a4276ac-d4e5-4415-93a7-eadc01a899b2"
      },
      "source": [
        "print(trainData.shape)         # (no. of image , width , height)\n",
        "print(testData.shape)\n",
        "print(trainLabels.shape)\n",
        "print(testLabels.shape)"
      ],
      "execution_count": 56,
      "outputs": [
        {
          "output_type": "stream",
          "text": [
            "(60000, 28, 28)\n",
            "(10000, 28, 28)\n",
            "(60000,)\n",
            "(10000,)\n"
          ],
          "name": "stdout"
        }
      ]
    },
    {
      "cell_type": "code",
      "metadata": {
        "id": "fAsKYwgZz8H5",
        "colab_type": "code",
        "colab": {}
      },
      "source": [
        "# num_samples x rows x columns x depth (channel)\n",
        "\n",
        "trainData = trainData.reshape(trainData.shape[0] ,image_height,image_width,image_channels)\n",
        "testData = testData.reshape(testData.shape[0] ,image_height,image_width,image_channels)"
      ],
      "execution_count": 0,
      "outputs": []
    },
    {
      "cell_type": "code",
      "metadata": {
        "id": "2i3rn89p1OuD",
        "colab_type": "code",
        "colab": {
          "base_uri": "https://localhost:8080/",
          "height": 85
        },
        "outputId": "35470816-2ad9-49a8-ea84-b6b9f8219ba7"
      },
      "source": [
        "print(trainData.shape)         # (no. of image , width , height, channel)\n",
        "print(testData.shape)\n",
        "print(trainLabels.shape)\n",
        "print(testLabels.shape)"
      ],
      "execution_count": 58,
      "outputs": [
        {
          "output_type": "stream",
          "text": [
            "(60000, 28, 28, 1)\n",
            "(10000, 28, 28, 1)\n",
            "(60000,)\n",
            "(10000,)\n"
          ],
          "name": "stdout"
        }
      ]
    },
    {
      "cell_type": "code",
      "metadata": {
        "id": "QNpw4-sF1RV6",
        "colab_type": "code",
        "colab": {}
      },
      "source": [
        "# We normalize the image \n",
        "# we scale them between [0.0,1.0]\n",
        "\n",
        "trainData = trainData.astype(\"float32\") / 255.0 \n",
        "testData = testData.astype(\"float32\") / 255.0\n"
      ],
      "execution_count": 0,
      "outputs": []
    },
    {
      "cell_type": "markdown",
      "metadata": {
        "id": "dfYwDShW2je1",
        "colab_type": "text"
      },
      "source": [
        "## **LeNet architecture**\n",
        "\n",
        "<a href=\"https://ibb.co/QDrXtJy\"><img src=\"https://i.ibb.co/LNnvH0V/Architecture.jpg\" alt=\"Architecture\" border=\"0\"></a>\n",
        "\n",
        "Tanh activation for all layers. <br/>\n",
        "Softmax activation for last (output) layer."
      ]
    },
    {
      "cell_type": "code",
      "metadata": {
        "id": "yqtP8P063n4C",
        "colab_type": "code",
        "colab": {}
      },
      "source": [
        "'''\n",
        "      As we are using LeNet architecture we pad the input image of size 28x28 \n",
        "      into 32x32 size image\n",
        "\n",
        "'''\n",
        "trainData = np.pad(trainData, ((0,0) , (2,2) , (2,2) , (0,0)), 'constant')\n",
        "testData = np.pad(testData , ((0,0) , (2,2) , (2,2) , (0,0)), 'constant')"
      ],
      "execution_count": 0,
      "outputs": []
    },
    {
      "cell_type": "code",
      "metadata": {
        "id": "UGc2bfMs7twd",
        "colab_type": "code",
        "colab": {
          "base_uri": "https://localhost:8080/",
          "height": 85
        },
        "outputId": "9da20321-e6d7-4baa-bab3-0569c34106f2"
      },
      "source": [
        "print(trainData.shape)         # (no. of image , width , height, channel)\n",
        "print(testData.shape)\n",
        "print(trainLabels.shape)\n",
        "print(testLabels.shape)"
      ],
      "execution_count": 61,
      "outputs": [
        {
          "output_type": "stream",
          "text": [
            "(60000, 32, 32, 1)\n",
            "(10000, 32, 32, 1)\n",
            "(60000,)\n",
            "(10000,)\n"
          ],
          "name": "stdout"
        }
      ]
    },
    {
      "cell_type": "code",
      "metadata": {
        "id": "8fmVihEM816E",
        "colab_type": "code",
        "colab": {}
      },
      "source": [
        "## Updated parameter for mnist data set\n",
        "\n",
        "image_width = 32\n",
        "image_height = 32\n",
        "image_channels = 1     # As it already grayscale image\n",
        "num_classes = 10       # Output whould be range from 0-9 i.e. 10"
      ],
      "execution_count": 0,
      "outputs": []
    },
    {
      "cell_type": "markdown",
      "metadata": {
        "id": "kCQEHaw--QL_",
        "colab_type": "text"
      },
      "source": [
        "##**Import package**"
      ]
    },
    {
      "cell_type": "code",
      "metadata": {
        "id": "LWcBIpVX9uLF",
        "colab_type": "code",
        "colab": {}
      },
      "source": [
        "from tensorflow.keras import backend\n",
        "from tensorflow.keras import models\n",
        "from tensorflow.keras import layers\n",
        "\n",
        "# define the model as a class\n",
        "class LeNet:\n",
        "\n",
        "  '''\n",
        "      In a sequential model, we stack layers sequentially. \n",
        "      So, each layer has unique input and output, and those inputs and outputs \n",
        "      then also come with a unique input shape and output shape.\n",
        "  \n",
        "  '''\n",
        "  # 2 Convolutional unit (conv,activation,pooling)\n",
        "  # INPUT => CONV => TANH => AVG-POOL => CONV => TANH => AVG-POOL => FC => TANH => FC => TANH => FC => SOFTMAX\n",
        "  \n",
        "  @staticmethod                ## class can instantiated only once \n",
        "  def init(numChannels, imgRows, imgCols , numClasses, weightsPath=None):\n",
        "    \n",
        "    # if we are using channel first we have update the input size\n",
        "    if backend.image_data_format() == \"channels_first\":\n",
        "      inputShape = (numChannels , imgRows , imgCols)\n",
        "    else: \n",
        "      inputShape = (imgRows , imgCols , numChannels)\n",
        "    \n",
        "    # initilize the model\n",
        "    model = models.Sequential()\n",
        "\n",
        "    # Define the first set of CONV => ACTIVATION => POOL LAYERS\n",
        "    '''\n",
        "      Padding: valid means 0 zero padding \n",
        "    '''\n",
        "    model.add(layers.Conv2D(  filters=6,kernel_size=(5,5),strides=(1,1), \n",
        "                              padding=\"valid\",activation=tf.nn.tanh,input_shape=inputShape))\n",
        "    model.add(layers.AveragePooling2D(pool_size=(2,2),strides=(2,2)))\n",
        "\n",
        "    # Define the second set of CONV => ACTIVATION => POOL LAYERS\n",
        "\n",
        "    model.add(layers.Conv2D(  filters=16,kernel_size=(5,5),strides=(1,1), \n",
        "                              padding=\"valid\",activation=tf.nn.tanh,input_shape=inputShape))\n",
        "    model.add(layers.AveragePooling2D(pool_size=(2,2),strides=(2,2)))\n",
        "\n",
        "    # Flatten the convolution volume to fully connected layers (convert them into single vector)\n",
        "\n",
        "    model.add(layers.Flatten())\n",
        "\n",
        "    # Define the first FC layer + Activation \n",
        "\n",
        "    model.add(layers.Dense(units=120, activation=tf.nn.tanh))\n",
        "\n",
        "    # Define the second FC layer + Activation \n",
        "\n",
        "    model.add(layers.Dense(units=84, activation=tf.nn.tanh))\n",
        "\n",
        "    # lastly , define the softmax classifier\n",
        "\n",
        "    model.add(layers.Dense(units=numClasses,activation=tf.nn.softmax))\n",
        "\n",
        "    # if a weights path is supplied (indicating that the model was pre-trained)\n",
        "    # then add weights\n",
        "\n",
        "    if weightsPath is not None:\n",
        "      model.load_weights(weightsPath)\n",
        "    \n",
        "    # return the constructed network architecture\n",
        "    return model\n",
        "\n",
        "    '''\n",
        "      NOTE :  Instead adding each layer step by step we can also do \n",
        "\n",
        "              model = tf.keras.sequantial([\n",
        "                          tf.keras.layers.conv2d(.....)\n",
        "                          tf.keras.layers.averagepooling2d(.....)\n",
        "                          tf.keras.layers.flatten(.....)\n",
        "                          tf.keras.layers.dense(.....)\n",
        "                      ])\n",
        "              Add layers in the array\n",
        "    '''"
      ],
      "execution_count": 0,
      "outputs": []
    },
    {
      "cell_type": "markdown",
      "metadata": {
        "id": "vlCRlz59SQv8",
        "colab_type": "text"
      },
      "source": [
        "## **Compile model**"
      ]
    },
    {
      "cell_type": "code",
      "metadata": {
        "id": "-oOInBGK9uIl",
        "colab_type": "code",
        "colab": {
          "base_uri": "https://localhost:8080/",
          "height": 442
        },
        "outputId": "dc05711a-7a04-4402-f732-f8d2a723e917"
      },
      "source": [
        "print(\"[INFO] Compiling model ... \")\n",
        "model = LeNet.init(numChannels=image_channels,\n",
        "                    imgRows=image_width,\n",
        "                    imgCols=image_height,\n",
        "                    numClasses=num_classes,\n",
        "                    weightsPath=None                      \n",
        "                   )\n",
        "\n",
        "# Compile the model \n",
        "\n",
        "'''\n",
        "    As our labels are number then we use \"Sparse categorical cross entropy\"\n",
        "    if our labels are one hot encoding vector then we \"categorical cross entropy\" \n",
        "    The only difference between sparse categorical cross entropy and categorical cross entropy is the format of true labels\n",
        "'''\n",
        "\n",
        "# Specify the training configuration (optimizer, loss, metrics)\n",
        "\n",
        "model.compile(\n",
        "              optimizer=tf.keras.optimizers.Adadelta(learning_rate=0.01),\n",
        "              loss=tf.keras.losses.SparseCategoricalCrossentropy(),\n",
        "              metrics=['accuracy']\n",
        "            )\n",
        "\n",
        "# Print model summery\n",
        "model.summary()"
      ],
      "execution_count": 74,
      "outputs": [
        {
          "output_type": "stream",
          "text": [
            "[INFO] Compiling model ... \n",
            "Model: \"sequential_9\"\n",
            "_________________________________________________________________\n",
            "Layer (type)                 Output Shape              Param #   \n",
            "=================================================================\n",
            "conv2d_18 (Conv2D)           (None, 28, 28, 6)         156       \n",
            "_________________________________________________________________\n",
            "average_pooling2d_18 (Averag (None, 14, 14, 6)         0         \n",
            "_________________________________________________________________\n",
            "conv2d_19 (Conv2D)           (None, 10, 10, 16)        2416      \n",
            "_________________________________________________________________\n",
            "average_pooling2d_19 (Averag (None, 5, 5, 16)          0         \n",
            "_________________________________________________________________\n",
            "flatten_9 (Flatten)          (None, 400)               0         \n",
            "_________________________________________________________________\n",
            "dense_27 (Dense)             (None, 120)               48120     \n",
            "_________________________________________________________________\n",
            "dense_28 (Dense)             (None, 84)                10164     \n",
            "_________________________________________________________________\n",
            "dense_29 (Dense)             (None, 10)                850       \n",
            "=================================================================\n",
            "Total params: 61,706\n",
            "Trainable params: 61,706\n",
            "Non-trainable params: 0\n",
            "_________________________________________________________________\n"
          ],
          "name": "stdout"
        }
      ]
    },
    {
      "cell_type": "markdown",
      "metadata": {
        "id": "B7-mIscJXs5k",
        "colab_type": "text"
      },
      "source": [
        "##**Train Model**"
      ]
    },
    {
      "cell_type": "code",
      "metadata": {
        "id": "gP6Xd77T9uFc",
        "colab_type": "code",
        "colab": {
          "base_uri": "https://localhost:8080/",
          "height": 1000
        },
        "outputId": "357f59f0-d078-4e08-c5b9-6c00345580f2"
      },
      "source": [
        "'''\n",
        "    Define a callback function for training termination criteria\n",
        "    accuracy cutoff = 0.99  (After 0.99 accuracy is reached ,then model will freez i.e weight updation will never happen)\n",
        "'''\n",
        "\n",
        "class myCallback(tf.keras.callbacks.Callback):\n",
        "  def on_epoch_end(self,epoch,logs=None):\n",
        "    if(logs.net('accuracy')>0.99):\n",
        "      print(\"\\n Reached 99% accuracy to cancelling training\")\n",
        "      self.model.stop_training = True\n",
        "\n",
        "# initilize training config \n",
        "batch_size = 128\n",
        "epochs = 100\n",
        "\n",
        "# Run training\n",
        "print(\"[INFO] Training ...\")\n",
        "\n",
        "history = model.fit(x=trainData , y=trainLabels , validation_data=(testData,testLabels),\n",
        "                    batch_size=batch_size,epochs=epochs,\n",
        "                    verbose=1)\n",
        "\n",
        "print('\\nhistory dict:', history.history)"
      ],
      "execution_count": 76,
      "outputs": [
        {
          "output_type": "stream",
          "text": [
            "[INFO] Training ...\n",
            "Epoch 1/100\n",
            "469/469 [==============================] - 30s 63ms/step - loss: 1.3432 - accuracy: 0.7237 - val_loss: 0.9848 - val_accuracy: 0.7874\n",
            "Epoch 2/100\n",
            "469/469 [==============================] - 30s 63ms/step - loss: 0.8428 - accuracy: 0.8021 - val_loss: 0.7021 - val_accuracy: 0.8308\n",
            "Epoch 3/100\n",
            "469/469 [==============================] - 30s 64ms/step - loss: 0.6573 - accuracy: 0.8345 - val_loss: 0.5833 - val_accuracy: 0.8555\n",
            "Epoch 4/100\n",
            "469/469 [==============================] - 30s 64ms/step - loss: 0.5656 - accuracy: 0.8543 - val_loss: 0.5138 - val_accuracy: 0.8708\n",
            "Epoch 5/100\n",
            "469/469 [==============================] - 30s 64ms/step - loss: 0.5076 - accuracy: 0.8669 - val_loss: 0.4672 - val_accuracy: 0.8802\n",
            "Epoch 6/100\n",
            "469/469 [==============================] - 30s 64ms/step - loss: 0.4668 - accuracy: 0.8751 - val_loss: 0.4334 - val_accuracy: 0.8851\n",
            "Epoch 7/100\n",
            "469/469 [==============================] - 30s 64ms/step - loss: 0.4362 - accuracy: 0.8817 - val_loss: 0.4071 - val_accuracy: 0.8907\n",
            "Epoch 8/100\n",
            "469/469 [==============================] - 30s 63ms/step - loss: 0.4122 - accuracy: 0.8866 - val_loss: 0.3861 - val_accuracy: 0.8954\n",
            "Epoch 9/100\n",
            "469/469 [==============================] - 30s 64ms/step - loss: 0.3927 - accuracy: 0.8911 - val_loss: 0.3688 - val_accuracy: 0.8986\n",
            "Epoch 10/100\n",
            "469/469 [==============================] - 30s 64ms/step - loss: 0.3765 - accuracy: 0.8947 - val_loss: 0.3542 - val_accuracy: 0.9009\n",
            "Epoch 11/100\n",
            "469/469 [==============================] - 30s 64ms/step - loss: 0.3626 - accuracy: 0.8976 - val_loss: 0.3415 - val_accuracy: 0.9043\n",
            "Epoch 12/100\n",
            "469/469 [==============================] - 30s 63ms/step - loss: 0.3505 - accuracy: 0.9006 - val_loss: 0.3303 - val_accuracy: 0.9067\n",
            "Epoch 13/100\n",
            "469/469 [==============================] - 30s 63ms/step - loss: 0.3396 - accuracy: 0.9030 - val_loss: 0.3204 - val_accuracy: 0.9086\n",
            "Epoch 14/100\n",
            "469/469 [==============================] - 30s 63ms/step - loss: 0.3299 - accuracy: 0.9056 - val_loss: 0.3112 - val_accuracy: 0.9114\n",
            "Epoch 15/100\n",
            "469/469 [==============================] - 30s 63ms/step - loss: 0.3209 - accuracy: 0.9073 - val_loss: 0.3034 - val_accuracy: 0.9132\n",
            "Epoch 16/100\n",
            "469/469 [==============================] - 30s 63ms/step - loss: 0.3128 - accuracy: 0.9092 - val_loss: 0.2956 - val_accuracy: 0.9150\n",
            "Epoch 17/100\n",
            "469/469 [==============================] - 30s 64ms/step - loss: 0.3051 - accuracy: 0.9113 - val_loss: 0.2885 - val_accuracy: 0.9175\n",
            "Epoch 18/100\n",
            "469/469 [==============================] - 30s 64ms/step - loss: 0.2980 - accuracy: 0.9131 - val_loss: 0.2819 - val_accuracy: 0.9191\n",
            "Epoch 19/100\n",
            "469/469 [==============================] - 30s 63ms/step - loss: 0.2913 - accuracy: 0.9150 - val_loss: 0.2757 - val_accuracy: 0.9194\n",
            "Epoch 20/100\n",
            "469/469 [==============================] - 30s 63ms/step - loss: 0.2849 - accuracy: 0.9164 - val_loss: 0.2698 - val_accuracy: 0.9218\n",
            "Epoch 21/100\n",
            "469/469 [==============================] - 30s 63ms/step - loss: 0.2789 - accuracy: 0.9187 - val_loss: 0.2639 - val_accuracy: 0.9225\n",
            "Epoch 22/100\n",
            "469/469 [==============================] - 30s 64ms/step - loss: 0.2731 - accuracy: 0.9196 - val_loss: 0.2585 - val_accuracy: 0.9237\n",
            "Epoch 23/100\n",
            "469/469 [==============================] - 31s 65ms/step - loss: 0.2675 - accuracy: 0.9216 - val_loss: 0.2536 - val_accuracy: 0.9261\n",
            "Epoch 24/100\n",
            "469/469 [==============================] - 30s 63ms/step - loss: 0.2623 - accuracy: 0.9227 - val_loss: 0.2487 - val_accuracy: 0.9268\n",
            "Epoch 25/100\n",
            "469/469 [==============================] - 30s 63ms/step - loss: 0.2572 - accuracy: 0.9247 - val_loss: 0.2441 - val_accuracy: 0.9278\n",
            "Epoch 26/100\n",
            "469/469 [==============================] - 30s 63ms/step - loss: 0.2524 - accuracy: 0.9262 - val_loss: 0.2394 - val_accuracy: 0.9296\n",
            "Epoch 27/100\n",
            "469/469 [==============================] - 30s 64ms/step - loss: 0.2476 - accuracy: 0.9276 - val_loss: 0.2350 - val_accuracy: 0.9314\n",
            "Epoch 28/100\n",
            "469/469 [==============================] - 30s 64ms/step - loss: 0.2431 - accuracy: 0.9286 - val_loss: 0.2307 - val_accuracy: 0.9326\n",
            "Epoch 29/100\n",
            "469/469 [==============================] - 30s 64ms/step - loss: 0.2386 - accuracy: 0.9300 - val_loss: 0.2265 - val_accuracy: 0.9341\n",
            "Epoch 30/100\n",
            "469/469 [==============================] - 30s 64ms/step - loss: 0.2344 - accuracy: 0.9310 - val_loss: 0.2226 - val_accuracy: 0.9350\n",
            "Epoch 31/100\n",
            "469/469 [==============================] - 30s 64ms/step - loss: 0.2303 - accuracy: 0.9321 - val_loss: 0.2190 - val_accuracy: 0.9354\n",
            "Epoch 32/100\n",
            "469/469 [==============================] - 30s 64ms/step - loss: 0.2263 - accuracy: 0.9332 - val_loss: 0.2152 - val_accuracy: 0.9366\n",
            "Epoch 33/100\n",
            "469/469 [==============================] - 30s 64ms/step - loss: 0.2224 - accuracy: 0.9345 - val_loss: 0.2117 - val_accuracy: 0.9377\n",
            "Epoch 34/100\n",
            "469/469 [==============================] - 30s 64ms/step - loss: 0.2187 - accuracy: 0.9359 - val_loss: 0.2085 - val_accuracy: 0.9382\n",
            "Epoch 35/100\n",
            "469/469 [==============================] - 30s 63ms/step - loss: 0.2151 - accuracy: 0.9367 - val_loss: 0.2047 - val_accuracy: 0.9390\n",
            "Epoch 36/100\n",
            "469/469 [==============================] - 30s 64ms/step - loss: 0.2116 - accuracy: 0.9377 - val_loss: 0.2016 - val_accuracy: 0.9402\n",
            "Epoch 37/100\n",
            "469/469 [==============================] - 29s 62ms/step - loss: 0.2081 - accuracy: 0.9386 - val_loss: 0.1984 - val_accuracy: 0.9406\n",
            "Epoch 38/100\n",
            "469/469 [==============================] - 30s 64ms/step - loss: 0.2048 - accuracy: 0.9395 - val_loss: 0.1949 - val_accuracy: 0.9419\n",
            "Epoch 39/100\n",
            "469/469 [==============================] - 30s 64ms/step - loss: 0.2016 - accuracy: 0.9404 - val_loss: 0.1925 - val_accuracy: 0.9429\n",
            "Epoch 40/100\n",
            "469/469 [==============================] - 30s 64ms/step - loss: 0.1984 - accuracy: 0.9412 - val_loss: 0.1896 - val_accuracy: 0.9436\n",
            "Epoch 41/100\n",
            "469/469 [==============================] - 30s 64ms/step - loss: 0.1954 - accuracy: 0.9423 - val_loss: 0.1865 - val_accuracy: 0.9444\n",
            "Epoch 42/100\n",
            "469/469 [==============================] - 30s 64ms/step - loss: 0.1924 - accuracy: 0.9429 - val_loss: 0.1837 - val_accuracy: 0.9454\n",
            "Epoch 43/100\n",
            "469/469 [==============================] - 30s 64ms/step - loss: 0.1895 - accuracy: 0.9438 - val_loss: 0.1811 - val_accuracy: 0.9462\n",
            "Epoch 44/100\n",
            "469/469 [==============================] - 30s 64ms/step - loss: 0.1865 - accuracy: 0.9447 - val_loss: 0.1791 - val_accuracy: 0.9470\n",
            "Epoch 45/100\n",
            "469/469 [==============================] - 30s 64ms/step - loss: 0.1839 - accuracy: 0.9454 - val_loss: 0.1760 - val_accuracy: 0.9487\n",
            "Epoch 46/100\n",
            "469/469 [==============================] - 30s 64ms/step - loss: 0.1812 - accuracy: 0.9463 - val_loss: 0.1735 - val_accuracy: 0.9496\n",
            "Epoch 47/100\n",
            "469/469 [==============================] - 30s 64ms/step - loss: 0.1786 - accuracy: 0.9468 - val_loss: 0.1711 - val_accuracy: 0.9499\n",
            "Epoch 48/100\n",
            "469/469 [==============================] - 30s 63ms/step - loss: 0.1760 - accuracy: 0.9478 - val_loss: 0.1688 - val_accuracy: 0.9504\n",
            "Epoch 49/100\n",
            "469/469 [==============================] - 30s 64ms/step - loss: 0.1735 - accuracy: 0.9487 - val_loss: 0.1666 - val_accuracy: 0.9515\n",
            "Epoch 50/100\n",
            "469/469 [==============================] - 30s 64ms/step - loss: 0.1710 - accuracy: 0.9493 - val_loss: 0.1641 - val_accuracy: 0.9523\n",
            "Epoch 51/100\n",
            "469/469 [==============================] - 30s 64ms/step - loss: 0.1686 - accuracy: 0.9502 - val_loss: 0.1620 - val_accuracy: 0.9529\n",
            "Epoch 52/100\n",
            "469/469 [==============================] - 30s 63ms/step - loss: 0.1663 - accuracy: 0.9510 - val_loss: 0.1597 - val_accuracy: 0.9530\n",
            "Epoch 53/100\n",
            "469/469 [==============================] - 30s 64ms/step - loss: 0.1640 - accuracy: 0.9517 - val_loss: 0.1575 - val_accuracy: 0.9539\n",
            "Epoch 54/100\n",
            "469/469 [==============================] - 30s 64ms/step - loss: 0.1618 - accuracy: 0.9526 - val_loss: 0.1554 - val_accuracy: 0.9553\n",
            "Epoch 55/100\n",
            "469/469 [==============================] - 30s 64ms/step - loss: 0.1595 - accuracy: 0.9531 - val_loss: 0.1534 - val_accuracy: 0.9553\n",
            "Epoch 56/100\n",
            "469/469 [==============================] - 30s 63ms/step - loss: 0.1574 - accuracy: 0.9538 - val_loss: 0.1514 - val_accuracy: 0.9564\n",
            "Epoch 57/100\n",
            "469/469 [==============================] - 30s 64ms/step - loss: 0.1553 - accuracy: 0.9542 - val_loss: 0.1494 - val_accuracy: 0.9561\n",
            "Epoch 58/100\n",
            "469/469 [==============================] - 29s 63ms/step - loss: 0.1532 - accuracy: 0.9550 - val_loss: 0.1475 - val_accuracy: 0.9564\n",
            "Epoch 59/100\n",
            "469/469 [==============================] - 30s 64ms/step - loss: 0.1512 - accuracy: 0.9558 - val_loss: 0.1457 - val_accuracy: 0.9580\n",
            "Epoch 60/100\n",
            "469/469 [==============================] - 30s 64ms/step - loss: 0.1492 - accuracy: 0.9560 - val_loss: 0.1437 - val_accuracy: 0.9587\n",
            "Epoch 61/100\n",
            "469/469 [==============================] - 30s 64ms/step - loss: 0.1473 - accuracy: 0.9567 - val_loss: 0.1420 - val_accuracy: 0.9584\n",
            "Epoch 62/100\n",
            "469/469 [==============================] - 30s 64ms/step - loss: 0.1454 - accuracy: 0.9571 - val_loss: 0.1402 - val_accuracy: 0.9596\n",
            "Epoch 63/100\n",
            "469/469 [==============================] - 30s 64ms/step - loss: 0.1435 - accuracy: 0.9580 - val_loss: 0.1386 - val_accuracy: 0.9591\n",
            "Epoch 64/100\n",
            "469/469 [==============================] - 30s 64ms/step - loss: 0.1417 - accuracy: 0.9586 - val_loss: 0.1369 - val_accuracy: 0.9602\n",
            "Epoch 65/100\n",
            "469/469 [==============================] - 30s 64ms/step - loss: 0.1399 - accuracy: 0.9586 - val_loss: 0.1352 - val_accuracy: 0.9605\n",
            "Epoch 66/100\n",
            "469/469 [==============================] - 30s 64ms/step - loss: 0.1382 - accuracy: 0.9596 - val_loss: 0.1337 - val_accuracy: 0.9607\n",
            "Epoch 67/100\n",
            "469/469 [==============================] - 30s 64ms/step - loss: 0.1364 - accuracy: 0.9599 - val_loss: 0.1320 - val_accuracy: 0.9612\n",
            "Epoch 68/100\n",
            "469/469 [==============================] - 30s 64ms/step - loss: 0.1348 - accuracy: 0.9604 - val_loss: 0.1305 - val_accuracy: 0.9620\n",
            "Epoch 69/100\n",
            "469/469 [==============================] - 30s 64ms/step - loss: 0.1331 - accuracy: 0.9609 - val_loss: 0.1291 - val_accuracy: 0.9621\n",
            "Epoch 70/100\n",
            "469/469 [==============================] - 30s 63ms/step - loss: 0.1315 - accuracy: 0.9612 - val_loss: 0.1276 - val_accuracy: 0.9627\n",
            "Epoch 71/100\n",
            "469/469 [==============================] - 30s 64ms/step - loss: 0.1299 - accuracy: 0.9616 - val_loss: 0.1264 - val_accuracy: 0.9627\n",
            "Epoch 72/100\n",
            "469/469 [==============================] - 30s 64ms/step - loss: 0.1284 - accuracy: 0.9624 - val_loss: 0.1248 - val_accuracy: 0.9633\n",
            "Epoch 73/100\n",
            "469/469 [==============================] - 30s 64ms/step - loss: 0.1269 - accuracy: 0.9627 - val_loss: 0.1235 - val_accuracy: 0.9635\n",
            "Epoch 74/100\n",
            "469/469 [==============================] - 30s 63ms/step - loss: 0.1253 - accuracy: 0.9631 - val_loss: 0.1219 - val_accuracy: 0.9644\n",
            "Epoch 75/100\n",
            "469/469 [==============================] - 30s 63ms/step - loss: 0.1239 - accuracy: 0.9638 - val_loss: 0.1208 - val_accuracy: 0.9649\n",
            "Epoch 76/100\n",
            "469/469 [==============================] - 30s 63ms/step - loss: 0.1224 - accuracy: 0.9640 - val_loss: 0.1196 - val_accuracy: 0.9655\n",
            "Epoch 77/100\n",
            "469/469 [==============================] - 30s 64ms/step - loss: 0.1210 - accuracy: 0.9645 - val_loss: 0.1185 - val_accuracy: 0.9657\n",
            "Epoch 78/100\n",
            "469/469 [==============================] - 30s 63ms/step - loss: 0.1196 - accuracy: 0.9651 - val_loss: 0.1169 - val_accuracy: 0.9669\n",
            "Epoch 79/100\n",
            "469/469 [==============================] - 30s 64ms/step - loss: 0.1183 - accuracy: 0.9654 - val_loss: 0.1159 - val_accuracy: 0.9669\n",
            "Epoch 80/100\n",
            "469/469 [==============================] - 29s 62ms/step - loss: 0.1169 - accuracy: 0.9659 - val_loss: 0.1144 - val_accuracy: 0.9674\n",
            "Epoch 81/100\n",
            "469/469 [==============================] - 30s 64ms/step - loss: 0.1156 - accuracy: 0.9662 - val_loss: 0.1132 - val_accuracy: 0.9675\n",
            "Epoch 82/100\n",
            "469/469 [==============================] - 30s 64ms/step - loss: 0.1143 - accuracy: 0.9665 - val_loss: 0.1118 - val_accuracy: 0.9685\n",
            "Epoch 83/100\n",
            "469/469 [==============================] - 30s 64ms/step - loss: 0.1131 - accuracy: 0.9668 - val_loss: 0.1109 - val_accuracy: 0.9682\n",
            "Epoch 84/100\n",
            "469/469 [==============================] - 30s 64ms/step - loss: 0.1118 - accuracy: 0.9675 - val_loss: 0.1098 - val_accuracy: 0.9686\n",
            "Epoch 85/100\n",
            "469/469 [==============================] - 30s 64ms/step - loss: 0.1106 - accuracy: 0.9678 - val_loss: 0.1088 - val_accuracy: 0.9694\n",
            "Epoch 86/100\n",
            "469/469 [==============================] - 30s 64ms/step - loss: 0.1094 - accuracy: 0.9682 - val_loss: 0.1077 - val_accuracy: 0.9699\n",
            "Epoch 87/100\n",
            "469/469 [==============================] - 30s 64ms/step - loss: 0.1082 - accuracy: 0.9686 - val_loss: 0.1067 - val_accuracy: 0.9696\n",
            "Epoch 88/100\n",
            "469/469 [==============================] - 30s 64ms/step - loss: 0.1070 - accuracy: 0.9691 - val_loss: 0.1053 - val_accuracy: 0.9705\n",
            "Epoch 89/100\n",
            "469/469 [==============================] - 30s 64ms/step - loss: 0.1059 - accuracy: 0.9693 - val_loss: 0.1047 - val_accuracy: 0.9703\n",
            "Epoch 90/100\n",
            "469/469 [==============================] - 30s 64ms/step - loss: 0.1047 - accuracy: 0.9695 - val_loss: 0.1036 - val_accuracy: 0.9703\n",
            "Epoch 91/100\n",
            "469/469 [==============================] - 30s 64ms/step - loss: 0.1037 - accuracy: 0.9697 - val_loss: 0.1026 - val_accuracy: 0.9711\n",
            "Epoch 92/100\n",
            "469/469 [==============================] - 30s 64ms/step - loss: 0.1026 - accuracy: 0.9699 - val_loss: 0.1016 - val_accuracy: 0.9712\n",
            "Epoch 93/100\n",
            "469/469 [==============================] - 30s 64ms/step - loss: 0.1015 - accuracy: 0.9703 - val_loss: 0.1008 - val_accuracy: 0.9712\n",
            "Epoch 94/100\n",
            "469/469 [==============================] - 30s 64ms/step - loss: 0.1006 - accuracy: 0.9707 - val_loss: 0.0997 - val_accuracy: 0.9719\n",
            "Epoch 95/100\n",
            "469/469 [==============================] - 30s 64ms/step - loss: 0.0995 - accuracy: 0.9710 - val_loss: 0.0991 - val_accuracy: 0.9720\n",
            "Epoch 96/100\n",
            "469/469 [==============================] - 30s 64ms/step - loss: 0.0985 - accuracy: 0.9714 - val_loss: 0.0980 - val_accuracy: 0.9718\n",
            "Epoch 97/100\n",
            "469/469 [==============================] - 30s 64ms/step - loss: 0.0976 - accuracy: 0.9717 - val_loss: 0.0968 - val_accuracy: 0.9717\n",
            "Epoch 98/100\n",
            "469/469 [==============================] - 30s 64ms/step - loss: 0.0966 - accuracy: 0.9720 - val_loss: 0.0960 - val_accuracy: 0.9722\n",
            "Epoch 99/100\n",
            "469/469 [==============================] - 30s 64ms/step - loss: 0.0956 - accuracy: 0.9724 - val_loss: 0.0952 - val_accuracy: 0.9727\n",
            "Epoch 100/100\n",
            "469/469 [==============================] - 30s 64ms/step - loss: 0.0947 - accuracy: 0.9723 - val_loss: 0.0948 - val_accuracy: 0.9727\n",
            "\n",
            "history dict: {'loss': [1.3431609869003296, 0.8428141474723816, 0.6572690606117249, 0.5655957460403442, 0.5075865387916565, 0.46676570177078247, 0.4361523389816284, 0.41217565536499023, 0.3927132189273834, 0.3765268921852112, 0.3625921308994293, 0.35045212507247925, 0.33962979912757874, 0.3298572599887848, 0.32094621658325195, 0.3127550482749939, 0.3051263988018036, 0.29802677035331726, 0.2912783920764923, 0.2849498391151428, 0.2788880169391632, 0.2730884850025177, 0.2675323784351349, 0.26230400800704956, 0.25722235441207886, 0.252378910779953, 0.2476033717393875, 0.2430839240550995, 0.23864908516407013, 0.2343992292881012, 0.23028649389743805, 0.22631999850273132, 0.22244878113269806, 0.21870596706867218, 0.2150687873363495, 0.2115875780582428, 0.20812083780765533, 0.20479533076286316, 0.20155219733715057, 0.19839149713516235, 0.1953805834054947, 0.19240935146808624, 0.1894644796848297, 0.18654827773571014, 0.18389412760734558, 0.18118631839752197, 0.17857582867145538, 0.17600952088832855, 0.17345890402793884, 0.17099148035049438, 0.16864044964313507, 0.16626934707164764, 0.16399584710597992, 0.16175241768360138, 0.1595277637243271, 0.15739311277866364, 0.15530318021774292, 0.15322962403297424, 0.15119560062885284, 0.14924518764019012, 0.14730022847652435, 0.14538563787937164, 0.14346522092819214, 0.14172561466693878, 0.1399255096912384, 0.13819916546344757, 0.13644221425056458, 0.1347852349281311, 0.13314761221408844, 0.13151931762695312, 0.12992143630981445, 0.12839488685131073, 0.12686461210250854, 0.1253497153520584, 0.12385062873363495, 0.12243879586458206, 0.12100295722484589, 0.11963048577308655, 0.11826080828905106, 0.1169232502579689, 0.11561912298202515, 0.11434328556060791, 0.11305766552686691, 0.11181148886680603, 0.11060771346092224, 0.10940266400575638, 0.10822492092847824, 0.10703414678573608, 0.1059085950255394, 0.10474557429552078, 0.1037183329463005, 0.10263289511203766, 0.1015438586473465, 0.10056009888648987, 0.09954310208559036, 0.09849246591329575, 0.09759869426488876, 0.09659652411937714, 0.09561500698328018, 0.09466367214918137], 'accuracy': [0.7236999869346619, 0.8021166920661926, 0.8344833254814148, 0.8543333411216736, 0.8668500185012817, 0.8751000165939331, 0.8817333579063416, 0.8865666389465332, 0.8910833597183228, 0.8947166800498962, 0.8975666761398315, 0.9005666375160217, 0.9029833078384399, 0.9055833220481873, 0.9072666764259338, 0.9091833233833313, 0.9113166928291321, 0.913100004196167, 0.9150333404541016, 0.916366696357727, 0.918666660785675, 0.9196166396141052, 0.9215666651725769, 0.9226999878883362, 0.9246666431427002, 0.9262333512306213, 0.9275833368301392, 0.9286166429519653, 0.9300333261489868, 0.930983304977417, 0.9321333169937134, 0.9332333207130432, 0.9345333576202393, 0.9358999729156494, 0.9366999864578247, 0.937666654586792, 0.9385666847229004, 0.9394833445549011, 0.9404333233833313, 0.9411666393280029, 0.942300021648407, 0.942883312702179, 0.9437666535377502, 0.9447166919708252, 0.9454333186149597, 0.9462666511535645, 0.9467833042144775, 0.9477999806404114, 0.9486833214759827, 0.9493499994277954, 0.950166642665863, 0.951033353805542, 0.9517499804496765, 0.9526000022888184, 0.9531333446502686, 0.9538499712944031, 0.9541500210762024, 0.9549999833106995, 0.9557666778564453, 0.9560166597366333, 0.9567000269889832, 0.9571499824523926, 0.957966685295105, 0.9585833549499512, 0.9585833549499512, 0.9595833420753479, 0.9599166512489319, 0.9604499936103821, 0.9608833193778992, 0.9612166881561279, 0.9616166949272156, 0.9623500108718872, 0.9626500010490417, 0.9631166458129883, 0.9637500047683716, 0.964033305644989, 0.9645166397094727, 0.9650833606719971, 0.9654333591461182, 0.9658666849136353, 0.9661833047866821, 0.966533362865448, 0.9667666554450989, 0.9675333499908447, 0.9677666425704956, 0.9682166576385498, 0.9685500264167786, 0.9690666794776917, 0.9692833423614502, 0.9695166945457458, 0.9696666598320007, 0.9699000120162964, 0.9703166484832764, 0.9707333445549011, 0.9710166454315186, 0.9714166522026062, 0.9716833233833313, 0.9719833135604858, 0.9723666906356812, 0.9722999930381775], 'val_loss': [0.9848088622093201, 0.7020638585090637, 0.5833069682121277, 0.513763964176178, 0.46720609068870544, 0.4333729147911072, 0.40710821747779846, 0.3861260414123535, 0.3687882721424103, 0.35418567061424255, 0.34151995182037354, 0.3303300440311432, 0.32039931416511536, 0.3112075924873352, 0.30339550971984863, 0.2956223785877228, 0.28849077224731445, 0.2818671464920044, 0.27567535638809204, 0.2698317766189575, 0.26393231749534607, 0.25853270292282104, 0.2535744905471802, 0.2487049251794815, 0.24410712718963623, 0.23942597210407257, 0.23499774932861328, 0.23073318600654602, 0.22647090256214142, 0.22261066734790802, 0.21903124451637268, 0.2151721715927124, 0.21166643500328064, 0.20852810144424438, 0.2047457993030548, 0.20156925916671753, 0.1983940601348877, 0.19494758546352386, 0.19254286587238312, 0.18962937593460083, 0.18650975823402405, 0.18369761109352112, 0.181098073720932, 0.1790771186351776, 0.17598357796669006, 0.17350110411643982, 0.17113567888736725, 0.16882529854774475, 0.16662165522575378, 0.16405393183231354, 0.16198749840259552, 0.15970391035079956, 0.15747496485710144, 0.15540222823619843, 0.15344293415546417, 0.15143360197544098, 0.14936241507530212, 0.14746876060962677, 0.14565761387348175, 0.14368031919002533, 0.14199528098106384, 0.14023804664611816, 0.13863761723041534, 0.13685019314289093, 0.13517050445079803, 0.13368192315101624, 0.13200300931930542, 0.13054963946342468, 0.12908431887626648, 0.12761244177818298, 0.1263933926820755, 0.12475363910198212, 0.12347876280546188, 0.12189362943172455, 0.1207994893193245, 0.11961602419614792, 0.11850181967020035, 0.11694902181625366, 0.1158779188990593, 0.11436095088720322, 0.11318954080343246, 0.11183725297451019, 0.11086208373308182, 0.10977950692176819, 0.1087634488940239, 0.10769123584032059, 0.10668773204088211, 0.10526978969573975, 0.1047046035528183, 0.1036263033747673, 0.10261313617229462, 0.10160790383815765, 0.10079753398895264, 0.09974884986877441, 0.09906212985515594, 0.09802382439374924, 0.09678712487220764, 0.09601907432079315, 0.09518987685441971, 0.09481088072061539], 'val_accuracy': [0.7874000072479248, 0.8307999968528748, 0.8554999828338623, 0.8708000183105469, 0.8802000284194946, 0.8851000070571899, 0.8906999826431274, 0.8953999876976013, 0.8985999822616577, 0.9009000062942505, 0.9042999744415283, 0.9067000150680542, 0.9085999727249146, 0.9114000201225281, 0.9132000207901001, 0.9150000214576721, 0.9175000190734863, 0.9190999865531921, 0.9193999767303467, 0.9218000173568726, 0.9225000143051147, 0.9236999750137329, 0.9261000156402588, 0.926800012588501, 0.9277999997138977, 0.9296000003814697, 0.9314000010490417, 0.9326000213623047, 0.9340999722480774, 0.9350000023841858, 0.9354000091552734, 0.9366000294685364, 0.9376999735832214, 0.9381999969482422, 0.9390000104904175, 0.9401999711990356, 0.9405999779701233, 0.9419000148773193, 0.9429000020027161, 0.9435999989509583, 0.9444000124931335, 0.9453999996185303, 0.9462000131607056, 0.9470000267028809, 0.9487000107765198, 0.9495999813079834, 0.9498999714851379, 0.9503999948501587, 0.9514999985694885, 0.9523000121116638, 0.9528999924659729, 0.953000009059906, 0.9538999795913696, 0.955299973487854, 0.955299973487854, 0.9563999772071838, 0.9560999870300293, 0.9563999772071838, 0.9580000042915344, 0.9587000012397766, 0.9584000110626221, 0.9595999717712402, 0.9591000080108643, 0.9602000117301941, 0.9605000019073486, 0.9606999754905701, 0.9611999988555908, 0.9620000123977661, 0.9621000289916992, 0.9627000093460083, 0.9627000093460083, 0.9632999897003174, 0.9635000228881836, 0.9643999934196472, 0.964900016784668, 0.965499997138977, 0.9656999707221985, 0.9668999910354614, 0.9668999910354614, 0.9674000144004822, 0.9674999713897705, 0.968500018119812, 0.9682000279426575, 0.9685999751091003, 0.9693999886512756, 0.9699000120162964, 0.9696000218391418, 0.9704999923706055, 0.970300018787384, 0.970300018787384, 0.9710999727249146, 0.9711999893188477, 0.9711999893188477, 0.9718999862670898, 0.972000002861023, 0.9718000292778015, 0.9717000126838684, 0.9721999764442444, 0.9726999998092651, 0.9726999998092651]}\n"
          ],
          "name": "stdout"
        }
      ]
    },
    {
      "cell_type": "markdown",
      "metadata": {
        "id": "Jc3z609Qi3Hi",
        "colab_type": "text"
      },
      "source": [
        "##**Visualization**"
      ]
    },
    {
      "cell_type": "code",
      "metadata": {
        "id": "ze3-YLK09uCk",
        "colab_type": "code",
        "colab": {}
      },
      "source": [
        "%matplotlib inline\n",
        "import matplotlib.pyplot as plt\n",
        "\n",
        "# retrieve a list of list results on training and test data sets for each training epoch\n",
        "acc = history.history['accuracy']                         \n",
        "val_acc = history.history['val_accuracy']\n",
        "loss = history.history['loss']\n",
        "val_loss = history.history['val_loss']\n",
        "\n",
        "epochs = range(len(acc))        ## get number of epochs"
      ],
      "execution_count": 0,
      "outputs": []
    },
    {
      "cell_type": "markdown",
      "metadata": {
        "id": "c4xPt85QkI5Q",
        "colab_type": "text"
      },
      "source": [
        "##**Plot training and validation accuracy per epoch**"
      ]
    },
    {
      "cell_type": "code",
      "metadata": {
        "id": "6yISgLeZ9t_p",
        "colab_type": "code",
        "colab": {
          "base_uri": "https://localhost:8080/",
          "height": 350
        },
        "outputId": "faf77d3d-507e-4b83-a54f-9b92aae6e5c9"
      },
      "source": [
        "plt.figure(figsize=(7,5))\n",
        "plt.plot(epochs, acc,label='train_accuracy')\n",
        "plt.plot(epochs, val_acc,label='train_accuracy')\n",
        "plt.xlabel('epochs')\n",
        "plt.ylabel('Accuracy')\n",
        "plt.legend(loc=\"lower right\")\n",
        "plt.title('Plot training and validation accuracy per epoch')\n",
        "plt.show()"
      ],
      "execution_count": 89,
      "outputs": [
        {
          "output_type": "display_data",
          "data": {
            "image/png": "[encoded data removed]",
            "text/plain": [
              "<Figure size 504x360 with 1 Axes>"
            ]
          },
          "metadata": {
            "tags": [],
            "needs_background": "light"
          }
        }
      ]
    },
    {
      "cell_type": "markdown",
      "metadata": {
        "id": "DnMENGWtkw-z",
        "colab_type": "text"
      },
      "source": [
        "\n",
        "##**Plot training and validation loss per epoch**\n"
      ]
    },
    {
      "cell_type": "code",
      "metadata": {
        "id": "eUCX_f0wkv4c",
        "colab_type": "code",
        "colab": {
          "base_uri": "https://localhost:8080/",
          "height": 350
        },
        "outputId": "4b8602f0-ff6e-4b1e-fd49-02aa9542af21"
      },
      "source": [
        "plt.figure(figsize=(7,5))\n",
        "plt.plot(epochs, loss,label='train loss')\n",
        "plt.plot(epochs, val_loss,label='validation loss')\n",
        "plt.xlabel('epochs')\n",
        "plt.ylabel('Accuracy')\n",
        "plt.legend(loc=\"upper right\")\n",
        "plt.title('Plot training and validation loss per epoch')\n",
        "plt.show()"
      ],
      "execution_count": 88,
      "outputs": [
        {
          "output_type": "display_data",
          "data": {
            "image/png": "[encoded data removed]",
            "text/plain": [
              "<Figure size 504x360 with 1 Axes>"
            ]
          },
          "metadata": {
            "tags": [],
            "needs_background": "light"
          }
        }
      ]
    },
    {
      "cell_type": "markdown",
      "metadata": {
        "id": "sVZMYMiPlipX",
        "colab_type": "text"
      },
      "source": [
        "##**Show accuracy on the testing data**"
      ]
    },
    {
      "cell_type": "code",
      "metadata": {
        "id": "Bt9Gf7M0kv1b",
        "colab_type": "code",
        "colab": {
          "base_uri": "https://localhost:8080/",
          "height": 68
        },
        "outputId": "9e4d5369-9e89-42e9-c385-e58d8536a1aa"
      },
      "source": [
        "print(\"[INFO] Evaluating ... \")\n",
        "(loss,accuracy) = model.evaluate(testData,testLabels,batch_size=batch_size,verbose=1)\n",
        "print(\"[INFO] accuracy : {:.2f}%\".format(accuracy*100))"
      ],
      "execution_count": 90,
      "outputs": [
        {
          "output_type": "stream",
          "text": [
            "[INFO] Evaluating ... \n",
            "79/79 [==============================] - 2s 26ms/step - loss: 0.0948 - accuracy: 0.9727\n",
            "[INFO] accuracy : 97.27%\n"
          ],
          "name": "stdout"
        }
      ]
    },
    {
      "cell_type": "code",
      "metadata": {
        "id": "G5lpvhU-mlGL",
        "colab_type": "code",
        "colab": {}
      },
      "source": [
        "## Save the weight\n",
        "'''\n",
        "Instead of saving weights we can also save model i.e. model.save_model(filename)\n",
        "and whenever you want , you can use them using model.load_model(filename)\n",
        "'''\n",
        "\n",
        "model.save_weights(\"weights/LeNetMNIST.temp.hd5\",overwrite=True)\n"
      ],
      "execution_count": 0,
      "outputs": []
    },
    {
      "cell_type": "markdown",
      "metadata": {
        "id": "GNQd1r_qrHOq",
        "colab_type": "text"
      },
      "source": [
        "##**Evaluate pre-trained model**"
      ]
    },
    {
      "cell_type": "code",
      "metadata": {
        "id": "JdJKhhtHm2vw",
        "colab_type": "code",
        "colab": {
          "base_uri": "https://localhost:8080/",
          "height": 34
        },
        "outputId": "7392a2b3-db86-4816-a178-e97879b7f7bf"
      },
      "source": [
        "print(\"[INFO] Compiling model ... \")\n",
        "\n",
        "'''\n",
        "  Use the saved weights here so that we don't have \n",
        "  to re train the model again. But again the better way is just use\n",
        "  1. save_model property\n",
        "  2. load_model propterty \n",
        "  instead of saving weights , \n",
        "\n",
        "'''\n",
        "model = LeNet.init(numChannels=image_channels,\n",
        "                    imgRows=image_width,\n",
        "                    imgCols=image_height,\n",
        "                    numClasses=num_classes,\n",
        "                    weightsPath=\"weights/LeNetMNIST.temp.hd5\"                      \n",
        "                   )\n",
        "\n",
        "model.compile(\n",
        "              optimizer=tf.keras.optimizers.Adadelta(learning_rate=0.01),\n",
        "              loss=tf.keras.losses.SparseCategoricalCrossentropy(),\n",
        "              metrics=['accuracy']\n",
        "            )\n"
      ],
      "execution_count": 92,
      "outputs": [
        {
          "output_type": "stream",
          "text": [
            "[INFO] Compiling model ... \n"
          ],
          "name": "stdout"
        }
      ]
    },
    {
      "cell_type": "code",
      "metadata": {
        "id": "jXGu-Wiqm2qY",
        "colab_type": "code",
        "colab": {
          "base_uri": "https://localhost:8080/",
          "height": 68
        },
        "outputId": "0b1545fa-4a08-4c44-dcd0-af7b93fd806d"
      },
      "source": [
        "print(\"[INFO] Evaluating ... \")\n",
        "(loss,accuracy) = model.evaluate(testData,testLabels,batch_size=batch_size,verbose=1)\n",
        "print(\"[INFO] accuracy : {:.2f}%\".format(accuracy*100))"
      ],
      "execution_count": 93,
      "outputs": [
        {
          "output_type": "stream",
          "text": [
            "[INFO] Evaluating ... \n",
            "79/79 [==============================] - 2s 26ms/step - loss: 0.0948 - accuracy: 0.9727\n",
            "[INFO] accuracy : 97.27%\n"
          ],
          "name": "stdout"
        }
      ]
    },
    {
      "cell_type": "markdown",
      "metadata": {
        "id": "FOjQdctxweJL",
        "colab_type": "text"
      },
      "source": [
        "##**Model predictions**"
      ]
    },
    {
      "cell_type": "code",
      "metadata": {
        "id": "rInySnbRm2ny",
        "colab_type": "code",
        "colab": {}
      },
      "source": [
        "# import package -> OpenCV\n",
        "import cv2               # cv : computer vision libray"
      ],
      "execution_count": 0,
      "outputs": []
    },
    {
      "cell_type": "code",
      "metadata": {
        "id": "nQenQHqHzcGo",
        "colab_type": "code",
        "colab": {
          "base_uri": "https://localhost:8080/",
          "height": 34
        },
        "outputId": "3f76b74d-ce3e-4f50-e665-d6e196962c41"
      },
      "source": [
        "# set up matplotlib fig and size it to fit 3 rows and 4 col\n",
        "\n",
        "nrows = 3\n",
        "ncols = 4\n",
        "'''\n",
        "matplotlib.pyplot.gcf() is primarily used to get the current figure.\n",
        "If no current figure is available then one is created with the help of the figure() function\n",
        "\n",
        "'''\n",
        "fig = plt.gcf()\n",
        "fig.set_size_inches(ncols*6 , nrows*6)"
      ],
      "execution_count": 105,
      "outputs": [
        {
          "output_type": "display_data",
          "data": {
            "text/plain": [
              "<Figure size 1728x1296 with 0 Axes>"
            ]
          },
          "metadata": {
            "tags": []
          }
        }
      ]
    },
    {
      "cell_type": "code",
      "metadata": {
        "id": "lZuiq1jPm2i_",
        "colab_type": "code",
        "colab": {
          "base_uri": "https://localhost:8080/",
          "height": 552
        },
        "outputId": "c9a880e2-04af-4121-c302-f8e6bfbe48a7"
      },
      "source": [
        "# Randomly select a few testing image\n",
        "plt.figure(figsize=(10,10))\n",
        "num_prediction = 12\n",
        "\n",
        "'''\n",
        "Generate a uniform random sample from np.arange(5) of size 3:\n",
        "\n",
        ">>> np.random.choice(5, 3)\n",
        "array([0, 3, 4])\n",
        ">>> #This is equivalent to np.random.randint(0,5,3)\n",
        "\n",
        "'''\n",
        "# index of selected random image from test dataset\n",
        "test_indices = np.random.choice(np.arange(0, len(testLabels)),size=(num_prediction,))     \n",
        "\n",
        "# Get the testing image using list comprehension\n",
        "test_images = np.stack(([ testData[i] for i in test_indices ]))\n",
        "\n",
        "# Get the testing image labels using list comprehension\n",
        "test_labels = np.stack(([ testLabels[i] for i in test_indices ])) \n",
        "\n",
        "# Compute_prediction\n",
        "predictions = model.predict(test_images)\n",
        "\n",
        "for i in range(num_prediction):\n",
        "\n",
        "  '''\n",
        "  As output would be in the form of probability as we are using softmax function\n",
        "  at output layer , so we are choosing the class which have highest probability\n",
        "  '''\n",
        "  prediction = np.argmax(predictions[i])\n",
        "\n",
        "  # rescale the test image \n",
        "  # As it was normailize between 0 to 1 \n",
        "  image = (test_images[i]*255).astype(\"uint8\") \n",
        "\n",
        "  # resize the image from a 28x28 images into 96x96 so that can see the image clearly\n",
        "  image = cv2.resize(image, (96,96), interpolation=cv2.INTER_CUBIC)\n",
        "\n",
        "  # convert grayscale into rgb color , 3 represent -: 3 channels\n",
        "  image = cv2.merge([image]*3)\n",
        "\n",
        "  # if prediction == ground truth label then mark with green else with red\n",
        "  if prediction == test_labels[i]:\n",
        "    rgb_color = (0,255,0)       ## true prediction\n",
        "  else:\n",
        "    rgb_color = (255,0,0)       ## False prediction\n",
        "\n",
        "  # put text on the image\n",
        "  cv2.putText(image, str(prediction),(0,18), cv2.FONT_HERSHEY_SIMPLEX,0.75,rgb_color,1)\n",
        "\n",
        "  # set up subplot ; subplot indices starts from 1\n",
        "  sp = plt.subplot(nrows,ncols,i+1,title=\"True label:%s\"% test_labels[i])\n",
        "  sp.axis('Off')      # Don't show axis\n",
        "  plt.imshow(image)\n",
        "\n",
        "plt.show()  "
      ],
      "execution_count": 111,
      "outputs": [
        {
          "output_type": "display_data",
          "data": {
            "image/png": "[encoded data removed]",
            "text/plain": [
              "<Figure size 720x720 with 12 Axes>"
            ]
          },
          "metadata": {
            "tags": [],
            "needs_background": "light"
          }
        }
      ]
    },
    {
      "cell_type": "code",
      "metadata": {
        "id": "jAx75ko9xUel",
        "colab_type": "code",
        "colab": {}
      },
      "source": [
        ""
      ],
      "execution_count": 0,
      "outputs": []
    }
  ]
}