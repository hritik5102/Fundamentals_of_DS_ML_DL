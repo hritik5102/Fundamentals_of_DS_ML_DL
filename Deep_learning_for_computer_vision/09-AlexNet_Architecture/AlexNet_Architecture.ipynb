{
  "nbformat": 4,
  "nbformat_minor": 0,
  "metadata": {
    "colab": {
      "name": "AlexNet_Architecture.ipynb",
      "provenance": [],
      "collapsed_sections": []
    },
    "kernelspec": {
      "name": "python3",
      "display_name": "Python 3"
    }
  },
  "cells": [
    {
      "cell_type": "markdown",
      "metadata": {
        "id": "bQWRLFUvdBTv",
        "colab_type": "text"
      },
      "source": [
        "---\n",
        "### **Introduction**\n",
        "---\n",
        "\n",
        "Alex Krizhevsky, Geoffrey Hinton and Ilya Sutskever created a neural network architecture called ‘AlexNet’ and won Image Classification Challenge (ILSVRC) in 2012. They trained their network on 1.2 million high-resolution images into 1000 different classes with 60 million parameters and 650,000 neurons. The training was done on two GPUs with split layer concept because GPUs were a little bit slow at that time.\n",
        "\n",
        "The original paper is available at [ImageNet Classification with Deep Convolutional Neural Networks](https://papers.nips.cc/paper/4824-imagenet-classification-with-deep-convolutional-neural-networks.pdf)\n",
        "\n",
        "Also check: [Convolutional Neural Network](https://engmrk.com/convolutional-neural-network-3/) and [LeNet-5](https://engmrk.com/lenet-5-a-classic-cnn-architecture/)\n",
        "\n",
        "**Reference** : [How to implement alexnet cnn architecture using keras](https://www.datacamp.com/community/news/how-to-implement-alexnet-cnn-architecture-using-keras-7vq9ilt9qb7)"
      ]
    },
    {
      "cell_type": "markdown",
      "metadata": {
        "id": "V9WWiseXdqHc",
        "colab_type": "text"
      },
      "source": [
        "---\n",
        "### **AlexNet Architecture**\n",
        "---\n",
        "\n",
        "The AlexNet architecture consists of five convolutional layers, some of which are followed by maximum pooling layers and then three fully-connected layers and finally a 1000-way softmax classifier.\n",
        "\n",
        "<p align=\"center\"><img src=\"https://neurohive.io/wp-content/uploads/2018/10/AlexNet-1.png\" width=\"80%\"/>\n",
        "\n"
      ]
    },
    {
      "cell_type": "markdown",
      "metadata": {
        "id": "wenylGcPe86B",
        "colab_type": "text"
      },
      "source": [
        "---\n",
        "### **Overview**\n",
        "---\n",
        "\n",
        "**First Layer** : <br/> \n",
        "The input for AlexNet is a 227x227x3 RGB image which passes through the first convolutional layer with 96 feature maps or filters having size 11×11 and a stride of 4. The image dimensions changes to 55x55x96.\n",
        "Then the AlexNet applies maximum pooling layer or sub-sampling layer with a filter size 3×3 and a stride of two. The resulting image dimensions will be reduced to 27x27x96.\n",
        "\n",
        "**Second Layer** : <br/>\n",
        "Next, there is a second convolutional layer with 256 feature maps having size 5×5 and a stride of 1.\n",
        "Then there is again a maximum pooling layer with filter size 3×3 and a stride of 2. This layer is same as the second layer except it has 256 feature maps so the output will be reduced to 13x13x256.\n",
        "\n",
        "**Third, Fourth and Fifth Layers** : <br/>\n",
        "The third, fourth and fifth layers are convolutional layers with filter size 3×3 and a stride of one. The first two used 384 feature maps where the third used 256 filters.\n",
        "The three convolutional layers are followed by a maximum pooling layer with filter size 3×3, a stride of 2 and have 256 feature maps.\n",
        "\n",
        "**Sixth Layer** : <br/>\n",
        "The convolutional layer output is flatten through a fully connected layer with 9216 feature maps each of size 1×1.\n",
        "\n",
        "**Seventh and Eighth Layers** : <br/>\n",
        "Next is again two fully connected layers with 4096 units.\n",
        "\n",
        "**Output Layer** : <br/>\n",
        "\n",
        "Finally, there is a softmax output layer ŷ with 1000 possible values."
      ]
    },
    {
      "cell_type": "markdown",
      "metadata": {
        "id": "0BWNsdCLfguJ",
        "colab_type": "text"
      },
      "source": [
        "---\n",
        "### **Summary of AlexNet Architecture**\n",
        "---\n",
        "\n",
        "<p align=\"center\"><img src=\"https://engmrk.com/wp-content/uploads/2018/10/AlexNet_Summary_Table.jpg\" width=\"60%\"/>"
      ]
    },
    {
      "cell_type": "markdown",
      "metadata": {
        "id": "ClVmvit0fzkF",
        "colab_type": "text"
      },
      "source": [
        "---\n",
        "### **Define the AlexNet Model in Keras**\n",
        "---"
      ]
    },
    {
      "cell_type": "markdown",
      "metadata": {
        "id": "JQ5_hfz1f7u0",
        "colab_type": "text"
      },
      "source": [
        "#### **Import package**"
      ]
    },
    {
      "cell_type": "code",
      "metadata": {
        "id": "mq-lAegMc7mk",
        "colab_type": "code",
        "colab": {
          "base_uri": "https://localhost:8080/",
          "height": 34
        },
        "outputId": "ff7ee6df-6fd7-41d8-aa05-669112e47392"
      },
      "source": [
        "import keras\n",
        "from keras.models import Sequential\n",
        "from keras.layers import Dense, Activation, Dropout, Flatten, Conv2D, MaxPooling2D\n",
        "from keras.layers.normalization import BatchNormalization\n",
        "import numpy as np"
      ],
      "execution_count": 1,
      "outputs": [
        {
          "output_type": "stream",
          "text": [
            "Using TensorFlow backend.\n"
          ],
          "name": "stderr"
        }
      ]
    },
    {
      "cell_type": "code",
      "metadata": {
        "id": "Ldu-qKj5gAKE",
        "colab_type": "code",
        "colab": {
          "base_uri": "https://localhost:8080/",
          "height": 34
        },
        "outputId": "df1b9b7e-ddec-4fc7-b3d9-51a13fa684f3"
      },
      "source": [
        "print(\"[INFO] Model architecture ... \")\n",
        "#Instantiate an empty model\n",
        "model = Sequential()\n",
        "\n",
        "# 1st Convolutional Layer\n",
        "model.add(Conv2D(filters=96 , kernel_size=(11,11) , strides=(4,4) , padding='valid',activation='relu',kernel_initializer='he_normal', input_shape=(224,224,3)))\n",
        "# Max Pooling\n",
        "model.add(MaxPooling2D(pool_size=(3,3), strides=(2,2), padding='valid'))\n",
        "# Batch Normalisation before passing it to the next layer\n",
        "model.add(BatchNormalization())\n",
        "\n",
        "# 2nd Convolutional Layer\n",
        "model.add(Conv2D(filters=256 , kernel_size=(5,5) , strides=(1,1) , padding='valid',activation='relu',kernel_initializer='he_normal'))\n",
        "# Max Pooling\n",
        "model.add(MaxPooling2D(pool_size=(3,3), strides=(2,2), padding='valid'))\n",
        "# Batch Normalisation before passing it to the next layer\n",
        "model.add(BatchNormalization())\n",
        "\n",
        "\n",
        "# 3rd Convolutional Layer\n",
        "model.add(Conv2D(filters=384 , kernel_size=(3,3) , strides=(1,1) , padding='valid',activation='relu',kernel_initializer='he_normal'))\n",
        "# Batch Normalisation before passing it to the next layer\n",
        "model.add(BatchNormalization())\n",
        "\n",
        "# 4th Convolutional Layer\n",
        "model.add(Conv2D(filters=384 , kernel_size=(3,3) , strides=(1,1) , padding='valid',activation='relu',kernel_initializer='he_normal'))\n",
        "# Batch Normalisation before passing it to the next layer\n",
        "model.add(BatchNormalization())\n",
        "\n",
        "# 5th Convolutional Layer\n",
        "model.add(Conv2D(filters=256 , kernel_size=(3,3) , strides=(1,1) , padding='valid',activation='relu',kernel_initializer='he_normal'))\n",
        "# Max Pooling\n",
        "model.add(MaxPooling2D(pool_size=(3,3), strides=(2,2), padding='valid'))\n",
        "# Batch Normalisation before passing it to the next layer\n",
        "model.add(BatchNormalization())\n",
        "\n",
        "# Passing it to a Fully Connected layer\n",
        "model.add(Flatten())\n",
        "\n",
        "# 1st Fully Connected Layer\n",
        "model.add(Dense(units=9216,activation='relu',kernel_initializer='he_normal'))\n",
        "# Add Dropout to prevent overfitting\n",
        "model.add(Dropout(0.4))\n",
        "\n",
        "# 2nd Fully Connected Layer\n",
        "model.add(Dense(units=4096,activation='relu',kernel_initializer='he_normal'))\n",
        "# Add Dropout to prevent overfitting\n",
        "model.add(Dropout(0.4))\n",
        "\n",
        "# 3rd Fully Connected Layer\n",
        "model.add(Dense(units=4096,activation='relu',kernel_initializer='he_normal'))\n",
        "# Add Dropout to prevent overfitting\n",
        "model.add(Dropout(0.4))\n",
        "\n",
        "# Output Layer\n",
        "model.add(Dense(units=1000,activation='softmax'))"
      ],
      "execution_count": 6,
      "outputs": [
        {
          "output_type": "stream",
          "text": [
            "[INFO] Model architecture ... \n"
          ],
          "name": "stdout"
        }
      ]
    },
    {
      "cell_type": "code",
      "metadata": {
        "id": "u8IC32jZf-1E",
        "colab_type": "code",
        "colab": {
          "base_uri": "https://localhost:8080/",
          "height": 884
        },
        "outputId": "18aa7e05-08fe-4833-9fc5-af7c2f837894"
      },
      "source": [
        "print(\"[INFO] Model Summary ... \")\n",
        "model.summary()"
      ],
      "execution_count": 7,
      "outputs": [
        {
          "output_type": "stream",
          "text": [
            "[INFO] Model Summary ... \n",
            "Model: \"sequential_1\"\n",
            "_________________________________________________________________\n",
            "Layer (type)                 Output Shape              Param #   \n",
            "=================================================================\n",
            "conv2d_1 (Conv2D)            (None, 54, 54, 96)        34944     \n",
            "_________________________________________________________________\n",
            "max_pooling2d_1 (MaxPooling2 (None, 26, 26, 96)        0         \n",
            "_________________________________________________________________\n",
            "batch_normalization_1 (Batch (None, 26, 26, 96)        384       \n",
            "_________________________________________________________________\n",
            "conv2d_2 (Conv2D)            (None, 22, 22, 256)       614656    \n",
            "_________________________________________________________________\n",
            "max_pooling2d_2 (MaxPooling2 (None, 10, 10, 256)       0         \n",
            "_________________________________________________________________\n",
            "batch_normalization_2 (Batch (None, 10, 10, 256)       1024      \n",
            "_________________________________________________________________\n",
            "conv2d_3 (Conv2D)            (None, 8, 8, 384)         885120    \n",
            "_________________________________________________________________\n",
            "batch_normalization_3 (Batch (None, 8, 8, 384)         1536      \n",
            "_________________________________________________________________\n",
            "conv2d_4 (Conv2D)            (None, 6, 6, 384)         1327488   \n",
            "_________________________________________________________________\n",
            "batch_normalization_4 (Batch (None, 6, 6, 384)         1536      \n",
            "_________________________________________________________________\n",
            "conv2d_5 (Conv2D)            (None, 4, 4, 256)         884992    \n",
            "_________________________________________________________________\n",
            "max_pooling2d_3 (MaxPooling2 (None, 1, 1, 256)         0         \n",
            "_________________________________________________________________\n",
            "batch_normalization_5 (Batch (None, 1, 1, 256)         1024      \n",
            "_________________________________________________________________\n",
            "flatten_1 (Flatten)          (None, 256)               0         \n",
            "_________________________________________________________________\n",
            "dense_1 (Dense)              (None, 9216)              2368512   \n",
            "_________________________________________________________________\n",
            "dropout_1 (Dropout)          (None, 9216)              0         \n",
            "_________________________________________________________________\n",
            "dense_2 (Dense)              (None, 4096)              37752832  \n",
            "_________________________________________________________________\n",
            "dropout_2 (Dropout)          (None, 4096)              0         \n",
            "_________________________________________________________________\n",
            "dense_3 (Dense)              (None, 4096)              16781312  \n",
            "_________________________________________________________________\n",
            "dropout_3 (Dropout)          (None, 4096)              0         \n",
            "_________________________________________________________________\n",
            "dense_4 (Dense)              (None, 1000)              4097000   \n",
            "=================================================================\n",
            "Total params: 64,752,360\n",
            "Trainable params: 64,749,608\n",
            "Non-trainable params: 2,752\n",
            "_________________________________________________________________\n"
          ],
          "name": "stdout"
        }
      ]
    },
    {
      "cell_type": "markdown",
      "metadata": {
        "id": "L6hwTyU0mT1j",
        "colab_type": "text"
      },
      "source": [
        "#### **Compile**\n"
      ]
    },
    {
      "cell_type": "code",
      "metadata": {
        "id": "n90Nx-iAmLzY",
        "colab_type": "code",
        "colab": {}
      },
      "source": [
        "model.compile(loss='categorical_crossentropy', optimizer='adam',\\\n",
        " metrics=['accuracy'])"
      ],
      "execution_count": null,
      "outputs": []
    }
  ]
}