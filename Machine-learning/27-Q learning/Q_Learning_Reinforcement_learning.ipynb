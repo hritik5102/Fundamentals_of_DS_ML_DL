{
  "nbformat": 4,
  "nbformat_minor": 0,
  "metadata": {
    "colab": {
      "name": "Q-Learning-Reinforcement-learning.ipynb",
      "provenance": [],
      "collapsed_sections": []
    },
    "kernelspec": {
      "name": "python3",
      "display_name": "Python 3"
    }
  },
  "cells": [
    {
      "cell_type": "markdown",
      "metadata": {
        "id": "s4sGNaVHiWK7"
      },
      "source": [
        "### **Implementation Reinforcement Learning-Q Learning (Unsupervised learning)**\n",
        "---"
      ]
    },
    {
      "cell_type": "markdown",
      "metadata": {
        "id": "H62lFnpIkAng"
      },
      "source": [
        "### **Import package**"
      ]
    },
    {
      "cell_type": "code",
      "metadata": {
        "id": "gHRbNKhGkFBb"
      },
      "source": [
        "import numpy as np \n",
        "import pylab as pl \n",
        "import networkx as nx "
      ],
      "execution_count": 69,
      "outputs": []
    },
    {
      "cell_type": "markdown",
      "metadata": {
        "id": "AZToZN9ckRiR"
      },
      "source": [
        "<p align=\"center\"><img src=\"https://i.ibb.co/fFvB3yB/Graph-1.jpg\" alt=\"Graph-1\" border=\"0\"></p>"
      ]
    },
    {
      "cell_type": "code",
      "metadata": {
        "id": "rsvFzb8eiCvr"
      },
      "source": [
        "edges = [(0, 4), (1, 3), (1, 5), (2, 3), (3, 1), (3, 2),  \n",
        "         (3, 4), (4, 3), (4, 0), (4, 5), (5, 1), \n",
        "         (5, 4), (5, 5)] "
      ],
      "execution_count": 70,
      "outputs": []
    },
    {
      "cell_type": "code",
      "metadata": {
        "id": "eolygz5vk3Vf",
        "outputId": "e2acc329-507e-435f-a2eb-1ef44c270de6",
        "colab": {
          "base_uri": "https://localhost:8080/",
          "height": 248
        }
      },
      "source": [
        "# Goal state \n",
        "goal = 5\n",
        "\n",
        "# init graph\n",
        "G = nx.Graph() \n",
        "\n",
        "# Add edges \n",
        "G.add_edges_from(edges) \n",
        "\n",
        "# position of node (x,y)\n",
        "pos = nx.spring_layout(G) \n",
        "\n",
        "nx.draw_networkx_nodes(G, pos) \n",
        "nx.draw_networkx_edges(G, pos) \n",
        "nx.draw_networkx_labels(G, pos) \n",
        "pl.show() "
      ],
      "execution_count": 71,
      "outputs": [
        {
          "output_type": "display_data",
          "data": {
            "image/png": "[encoded data removed]",
            "text/plain": [
              "<Figure size 432x288 with 1 Axes>"
            ]
          },
          "metadata": {
            "tags": []
          }
        }
      ]
    },
    {
      "cell_type": "markdown",
      "metadata": {
        "id": "09PA5eRKnQT4"
      },
      "source": [
        "## **Reward graph**\n",
        "---\n",
        "<p align=\"center\"><img src=\"https://i.ibb.co/3FtrNZS/Reward-1.jpg\" alt=\"Reward-1\" border=\"0\"></p>\n",
        "\n",
        "## **Reward matrix**\n",
        "---\n",
        "\n",
        "<p align=\"center\"><img src=\"https://i.ibb.co/mTydhYg/Reward-matrix.jpg\" alt=\"Reward-matrix\" border=\"0\"></p>"
      ]
    },
    {
      "cell_type": "code",
      "metadata": {
        "id": "R_C_Z5TrlBHz",
        "outputId": "7237d8e2-492c-4ad5-d213-c31221c6bcfa",
        "colab": {
          "base_uri": "https://localhost:8080/",
          "height": 119
        }
      },
      "source": [
        "# Define reward matrix \n",
        "\n",
        "# size = total number of nodes\n",
        "size = 6\n",
        "\n",
        "# (6x6) matrix \n",
        "reward_matrix = np.ones((size,size))\n",
        "reward_matrix *= -1\n",
        "\n",
        "for point in edges:\n",
        "  if point[1]==goal:\n",
        "    reward_matrix[point] = 100\n",
        "  else:\n",
        "    reward_matrix[point] = 0\n",
        "  \n",
        "print(reward_matrix)"
      ],
      "execution_count": 72,
      "outputs": [
        {
          "output_type": "stream",
          "text": [
            "[[ -1.  -1.  -1.  -1.   0.  -1.]\n",
            " [ -1.  -1.  -1.   0.  -1. 100.]\n",
            " [ -1.  -1.  -1.   0.  -1.  -1.]\n",
            " [ -1.   0.   0.  -1.   0.  -1.]\n",
            " [  0.  -1.  -1.   0.  -1. 100.]\n",
            " [ -1.   0.  -1.  -1.   0. 100.]]\n"
          ],
          "name": "stdout"
        }
      ]
    },
    {
      "cell_type": "markdown",
      "metadata": {
        "id": "Ac1N5zMP6IcY"
      },
      "source": [
        "## **Q matrix**\n",
        "---\n",
        "\n",
        "<p align=\"center\"><img src=\"https://i.ibb.co/Z2ZQq0w/Q-Matrix.jpg\" alt=\"Q-Matrix\" border=\"0\"></p>"
      ]
    },
    {
      "cell_type": "code",
      "metadata": {
        "id": "YZmKA4_emNl8",
        "outputId": "a991891a-bf0a-4a55-a02c-6e10f93a3992",
        "colab": {
          "base_uri": "https://localhost:8080/",
          "height": 119
        }
      },
      "source": [
        "# Define Q Matrix \n",
        "\n",
        "Q_matrix = np.zeros((size,size))\n",
        "print(Q_matrix)"
      ],
      "execution_count": 73,
      "outputs": [
        {
          "output_type": "stream",
          "text": [
            "[[0. 0. 0. 0. 0. 0.]\n",
            " [0. 0. 0. 0. 0. 0.]\n",
            " [0. 0. 0. 0. 0. 0.]\n",
            " [0. 0. 0. 0. 0. 0.]\n",
            " [0. 0. 0. 0. 0. 0.]\n",
            " [0. 0. 0. 0. 0. 0.]]\n"
          ],
          "name": "stdout"
        }
      ]
    },
    {
      "cell_type": "code",
      "metadata": {
        "id": "kMXFFSPYebFw"
      },
      "source": [
        "def next_all_state(state):\n",
        "  next_state = []\n",
        "  for point in edges:\n",
        "    if point[0] == state:\n",
        "      next_state.append(point)\n",
        "\n",
        "  Q_value = []\n",
        "  for i in next_state:\n",
        "    Q_value.append(Q_matrix[i])\n",
        "\n",
        "  return Q_value"
      ],
      "execution_count": 74,
      "outputs": []
    },
    {
      "cell_type": "code",
      "metadata": {
        "id": "pdnCv6ady_M0"
      },
      "source": [
        "no_of_episode = 1000\n",
        "gamma = 0.8\n",
        "\n",
        "scores = []\n",
        "\n",
        "for i in range(no_of_episode):\n",
        "\n",
        "  # Randomly selecting the current state\n",
        "  current_state = np.random.randint(0,int(Q_matrix.shape[0]))\n",
        "\n",
        "  # get all reward of perticular state  \n",
        "  current_state_row = reward_matrix[current_state, ]\n",
        "\n",
        "  # select only those having reward greater then 0\n",
        "  available_action = np.where(current_state_row >= 0)[0]\n",
        "\n",
        "  # Now randomly choose any one state from available action list\n",
        "  next_state = int(np.random.choice(available_action,1))\n",
        "\n",
        "  # now find the Q[current_state,next_state] using bellman equation i.e \n",
        "  '''\n",
        "  Q(state, action) = R(state, action) + Gamma * Max[Q(next state, all actions)]\n",
        "  '''\n",
        "  Q_matrix[current_state,next_state] = reward_matrix[current_state,next_state] + gamma * np.max(next_all_state(next_state))\n",
        "\n",
        "  scores.append(Q_matrix[current_state,next_state])"
      ],
      "execution_count": 75,
      "outputs": []
    },
    {
      "cell_type": "markdown",
      "metadata": {
        "id": "UeRTbk0J6bqw"
      },
      "source": [
        "## **Q Matrix before normalization**\n",
        "---\n",
        "\n",
        "<p align=\"center\"><img src=\"https://i.ibb.co/XLk4TBF/Q-Before-Normalize.jpg\" alt=\"Q-Before-Normalize\" border=\"0\"></p>"
      ]
    },
    {
      "cell_type": "code",
      "metadata": {
        "id": "1A79DLjujZj_",
        "outputId": "b1f3e2a3-91b4-45b9-fbd9-3593347f15c6",
        "colab": {
          "base_uri": "https://localhost:8080/",
          "height": 119
        }
      },
      "source": [
        "import math\n",
        "for i in Q_matrix:\n",
        "  for j in i:\n",
        "    print(math.ceil(j),end= ' ')\n",
        "  print()"
      ],
      "execution_count": 76,
      "outputs": [
        {
          "output_type": "stream",
          "text": [
            "0 0 0 0 400 0 \n",
            "0 0 0 320 0 500 \n",
            "0 0 0 320 0 0 \n",
            "0 400 256 0 400 0 \n",
            "320 0 0 320 0 500 \n",
            "0 400 0 0 400 500 \n"
          ],
          "name": "stdout"
        }
      ]
    },
    {
      "cell_type": "code",
      "metadata": {
        "id": "N6XFbpGggIU9"
      },
      "source": [
        "# Normalization \n",
        "\n",
        "Q_matrix_copy = Q_matrix.copy()\n",
        "\n",
        "for i in range(Q_matrix_copy.shape[0]):\n",
        "  for j in range(Q_matrix_copy.shape[1]):\n",
        "    if Q_matrix_copy[i,j]>0:\n",
        "      Q_matrix_copy[i,j] = Q_matrix_copy[i,j]*100 / np.max(Q_matrix_copy)\n",
        "    else:\n",
        "      Q_matrix_copy[i,j] = 0"
      ],
      "execution_count": 77,
      "outputs": []
    },
    {
      "cell_type": "markdown",
      "metadata": {
        "id": "crYPnVX86mzA"
      },
      "source": [
        "## **Q Matrix after normalization**\n",
        "---\n",
        "\n",
        "<p align=\"center\"><img src=\"https://i.ibb.co/72NZHxg/Q-After-Normalize.jpg\" alt=\"Q-After-Normalize\" border=\"0\"></p>"
      ]
    },
    {
      "cell_type": "code",
      "metadata": {
        "id": "IlnJcEi1kU0N",
        "outputId": "1e8a15cd-c5f9-46a8-abb3-c1298cd3a9e8",
        "colab": {
          "base_uri": "https://localhost:8080/",
          "height": 119
        }
      },
      "source": [
        "for i in Q_matrix_copy:\n",
        "  for j in i:\n",
        "    print(math.ceil(j),end= ' ')\n",
        "  print()"
      ],
      "execution_count": 78,
      "outputs": [
        {
          "output_type": "stream",
          "text": [
            "0 0 0 0 80 0 \n",
            "0 0 0 64 0 101 \n",
            "0 0 0 64 0 0 \n",
            "0 80 52 0 80 0 \n",
            "64 0 0 64 0 101 \n",
            "0 80 0 0 81 100 \n"
          ],
          "name": "stdout"
        }
      ]
    },
    {
      "cell_type": "code",
      "metadata": {
        "id": "x9XnUmThgIHC",
        "outputId": "48af654b-a422-40bc-eab0-7f1d1dcfba20",
        "colab": {
          "base_uri": "https://localhost:8080/",
          "height": 279
        }
      },
      "source": [
        "import matplotlib.pyplot as plt\n",
        "\n",
        "# normalizing the value of scores \n",
        "for i in range(100):\n",
        "  scores[i] = scores[i] / np.max(scores)\n",
        "\n",
        "plt.plot(list(range(1000)),scores)\n",
        "plt.xlabel('No of iterations') \n",
        "plt.ylabel('Reward gained') \n",
        "plt.show() "
      ],
      "execution_count": 92,
      "outputs": [
        {
          "output_type": "display_data",
          "data": {
            "image/png": "[encoded data removed]",
            "text/plain": [
              "<Figure size 432x288 with 1 Axes>"
            ]
          },
          "metadata": {
            "tags": [],
            "needs_background": "light"
          }
        }
      ]
    },
    {
      "cell_type": "code",
      "metadata": {
        "id": "0b8lBv9Gh9GR"
      },
      "source": [
        "# Finding the optimal path , based on the provided start state to goal state\n",
        "\n",
        "def get_optimal_path(start_state,goal_state):\n",
        "  '''\n",
        "  Function return : Optimal route from start to goal state\n",
        "  '''\n",
        "  # initialize the optimal route with starting location\n",
        "  route = [start_state]\n",
        "\n",
        "  # we will select current state as start state\n",
        "  current_state = start_state\n",
        "\n",
        "  # we don't about the exact number of iteration needed to reach to final location \n",
        "  # so while loop would be good choice\n",
        "\n",
        "  while (current_state != goal_state):\n",
        "\n",
        "    # we will select a current_state whose Q value is maximum  \n",
        "    next_step_location = np.where(Q_matrix_copy[current_state, ] == np.max(Q_matrix_copy[current_state, ]))[0]\n",
        "\n",
        "    # This condition is for , when we get more than one value whose Q value is same . eg [1,3] \n",
        "    # so then we randomly choose one of them \n",
        "    if next_step_location.shape[0] > 1: \n",
        "        next_step_location = int(np.random.choice(next_step_location, size = 1)) \n",
        "    else: \n",
        "        next_step_location = int(next_step_location) \n",
        "\n",
        "    # Append the next location in the route\n",
        "    route.append(next_step_location)\n",
        "\n",
        "    # define next_location\n",
        "    current_state = next_step_location\n",
        "  \n",
        "  return route"
      ],
      "execution_count": 93,
      "outputs": []
    },
    {
      "cell_type": "markdown",
      "metadata": {
        "id": "XH5EM5327dXS"
      },
      "source": [
        "## **Optimal path from start state to goal state** \n",
        "---\n",
        "<p align=\"center\"><img src=\"https://i.ibb.co/H49brkf/Final-Path.jpg\" alt=\"Final-Path\" border=\"0\"></p>"
      ]
    },
    {
      "cell_type": "code",
      "metadata": {
        "id": "5oM7_mKdptQ9",
        "outputId": "529bfe71-88be-4408-af8e-33de2ee56d5b",
        "colab": {
          "base_uri": "https://localhost:8080/",
          "height": 34
        }
      },
      "source": [
        "optimal_path = get_optimal_path(2,5)\n",
        "\n",
        "for index,value in enumerate(optimal_path):\n",
        "  if index == 0:\n",
        "    print(f'Optimal path : \\t{value}\\t',end = '➡️' )\n",
        "  elif index == len(optimal_path)-1:\n",
        "    print(f'\\t{value}')\n",
        "  else:\n",
        "    print(f'\\t{value}',end = '\\t➡️')"
      ],
      "execution_count": 110,
      "outputs": [
        {
          "output_type": "stream",
          "text": [
            "Optimal path : \t2\t➡️\t3\t➡️\t4\t➡️\t5\n"
          ],
          "name": "stdout"
        }
      ]
    },
    {
      "cell_type": "code",
      "metadata": {
        "id": "4Du6c3hZpvl5"
      },
      "source": [
        ""
      ],
      "execution_count": null,
      "outputs": []
    }
  ]
}