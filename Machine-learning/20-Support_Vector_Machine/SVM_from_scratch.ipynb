{
  "nbformat": 4,
  "nbformat_minor": 0,
  "metadata": {
    "colab": {
      "name": "SVM_from_scratch.ipynb",
      "provenance": [],
      "collapsed_sections": []
    },
    "kernelspec": {
      "name": "python3",
      "display_name": "Python 3"
    }
  },
  "cells": [
    {
      "cell_type": "markdown",
      "metadata": {
        "id": "ZjJ7Wj6Yje4Q",
        "colab_type": "text"
      },
      "source": [
        "##**SVM from scratch**"
      ]
    },
    {
      "cell_type": "code",
      "metadata": {
        "id": "EVey9eyrixP4",
        "colab_type": "code",
        "colab": {}
      },
      "source": [
        "import numpy as np\n",
        "import matplotlib.pyplot as plt\n",
        "import random\n",
        "from numpy import linalg as LA"
      ],
      "execution_count": 0,
      "outputs": []
    },
    {
      "cell_type": "markdown",
      "metadata": {
        "id": "S4us_Woai6Gs",
        "colab_type": "text"
      },
      "source": [
        "\n",
        "\n",
        "---\n",
        "\n",
        "\n",
        "**Generating Random linearly separable data**\n",
        "\n",
        "\n",
        "---\n",
        "\n"
      ]
    },
    {
      "cell_type": "code",
      "metadata": {
        "id": "1c_jB8lCjB55",
        "colab_type": "code",
        "colab": {}
      },
      "source": [
        "data = [[np.random.rand(), np.random.rand()] for i in range(10)]\n",
        "for i, point in enumerate(data):\n",
        "  x, y = point\n",
        "  if 0.5*x - y + 0.25 > 0:\n",
        "    data[i].append(-1)\n",
        "  else:\n",
        "    data[i].append(1)"
      ],
      "execution_count": 0,
      "outputs": []
    },
    {
      "cell_type": "markdown",
      "metadata": {
        "id": "P029GjBnjJUG",
        "colab_type": "text"
      },
      "source": [
        "\n",
        "\n",
        "---\n",
        "\n",
        "\n",
        "**Visualizing the above data**\n",
        "\n",
        "\n",
        "---\n",
        "\n"
      ]
    },
    {
      "cell_type": "code",
      "metadata": {
        "id": "zUSh_G2ejR08",
        "colab_type": "code",
        "outputId": "2bf9caae-0fd9-4b52-cbfb-ffca2eff1fb4",
        "colab": {
          "base_uri": "https://localhost:8080/",
          "height": 269
        }
      },
      "source": [
        "for x, y, l in data:\n",
        "  if l == 1: \n",
        "    clr = 'red'\n",
        "  else: \n",
        "    clr = 'blue'\n",
        "  plt.scatter(x, y, c=clr)\n",
        "  plt.xlim(0,1)\n",
        "  plt.ylim(0,1)"
      ],
      "execution_count": 16,
      "outputs": [
        {
          "output_type": "display_data",
          "data": {
            "image/png": "[encoded data removed]",
            "text/plain": [
              "<Figure size 432x288 with 1 Axes>"
            ]
          },
          "metadata": {
            "tags": [],
            "needs_background": "light"
          }
        }
      ]
    },
    {
      "cell_type": "markdown",
      "metadata": {
        "id": "q9h0Eik7jkqh",
        "colab_type": "text"
      },
      "source": [
        "\n",
        "\n",
        "---\n",
        "\n",
        "\n",
        "**Train a SVM classifier using gradient descent and return a Weight Matrix which is a numpy array of length (N + 1) where N is dimension of training samples. You can refer to Fig. 1 in [this](https://www.cs.huji.ac.il/~shais/papers/ShalevSiSrCo10.pdf) paper for implementation. You can add arguments to svm_function according to your implementation.**\n",
        "\n",
        "\n",
        "---\n",
        "\n"
      ]
    },
    {
      "cell_type": "markdown",
      "metadata": {
        "id": "Q3OOzpLpj-kT",
        "colab_type": "text"
      },
      "source": [
        "<a href=\"https://ibb.co/HB7fCt7\"><img src=\"https://i.ibb.co/yd0cp60/Algorithm.jpg\" alt=\"Algorithm\" border=\"0\"></a><br /><a target='_blank' href='https://imgbb.com/'></a><br />"
      ]
    },
    {
      "cell_type": "markdown",
      "metadata": {
        "id": "3smaCKikmNUC",
        "colab_type": "text"
      },
      "source": [
        "we get 3 weights<br/>\n",
        "\n",
        "Equation which we get is in the form of `w[0]*x + w[1]*y + w[2] = 0`\n",
        "\n",
        "`w[2]` is bias in these case\n",
        "\n",
        "As we transformed input X into X = [1  X ]  so that 1 will be acting as bias here\n"
      ]
    },
    {
      "cell_type": "markdown",
      "metadata": {
        "id": "-FS-CJlTl_-6",
        "colab_type": "text"
      },
      "source": [
        "<img src=\"https://campuspro-uploads.s3-us-west-2.amazonaws.com/137ca272-f98d-40bb-9c31-2849f3994cbe/b697f685-6562-465e-b51d-6876cc4676a1/1.JPG\"/>"
      ]
    },
    {
      "cell_type": "code",
      "metadata": {
        "id": "3tB91FAPj3mA",
        "colab_type": "code",
        "colab": {}
      },
      "source": [
        "def svm_function(x, y, epoch, l_rate):\n",
        "    ###################################\n",
        "    Ones=np.ones((len(x),1))\n",
        "    x=np.append(x,Ones,axis=1)\n",
        "    w = np.zeros(len(x[0]))\n",
        "    for e in range(0,epoch):\n",
        "      i = random.choice(range(0,len(x)))\n",
        "      result = y[i]*np.dot(x[i], w)\n",
        "      if result < 1:\n",
        "        w = (1-(1/(e+1))) * w + (y[i] * x[i])/(l_rate*(e+1))\n",
        "      else:\n",
        "        w = (1-(1/(e+1)))*w\n",
        "      normt = 1/((np.sqrt(l_rate))*LA.norm(w))\n",
        "      if normt<1:\n",
        "        w = w*normt;\n",
        "    ###################################\n",
        "    return w"
      ],
      "execution_count": 0,
      "outputs": []
    },
    {
      "cell_type": "markdown",
      "metadata": {
        "id": "WRpZm9T_kGJn",
        "colab_type": "text"
      },
      "source": [
        "\n",
        "\n",
        "---\n",
        "\n",
        "\n",
        "**Run SVM Classifier**\n",
        "\n",
        "\n",
        "---\n",
        "\n"
      ]
    },
    {
      "cell_type": "code",
      "metadata": {
        "id": "AVEH3CM4kSeB",
        "colab_type": "code",
        "outputId": "40515b64-d55c-41cf-a75f-aaad4ccbe9ce",
        "colab": {
          "base_uri": "https://localhost:8080/",
          "height": 34
        }
      },
      "source": [
        "data = np.asarray(data)\n",
        "X = data[:,:2]\n",
        "Y = data[:,2]\n",
        "w = svm_function(X, Y, 10000, 0.01)\n",
        "w"
      ],
      "execution_count": 21,
      "outputs": [
        {
          "output_type": "execute_result",
          "data": {
            "text/plain": [
              "array([-0.70131697,  4.21945899, -1.45661499])"
            ]
          },
          "metadata": {
            "tags": []
          },
          "execution_count": 21
        }
      ]
    },
    {
      "cell_type": "markdown",
      "metadata": {
        "id": "d3RK_6W9khSD",
        "colab_type": "text"
      },
      "source": [
        "# **Visualize the classifier**\n",
        "\n",
        "\n",
        "---\n",
        "\n",
        "Write a code to draw a lines corrosponding to 'w' vector you got as output from svm_function and for a line from which actual data was generated (0.5*x - y + 0.25). \n",
        "\n",
        "---\n",
        "\n"
      ]
    },
    {
      "cell_type": "code",
      "metadata": {
        "id": "x1iuIBy_k2xe",
        "colab_type": "code",
        "outputId": "64936eb4-b529-4dd3-b7a5-0ab21069ffde",
        "colab": {
          "base_uri": "https://localhost:8080/",
          "height": 284
        }
      },
      "source": [
        "###################################\n",
        "a =-w[0]/w[1]\n",
        "b = -w[2]/w[1]\n",
        "xx = np.linspace(0, 1)\n",
        "yy =  a * xx + b\n",
        "\n",
        "a1 = 0.5\n",
        "b1=0.25\n",
        "yy1 =   a1 * xx + b1\n",
        "\n",
        "fig = plt.figure()\n",
        "ax = plt.subplot(111)\n",
        "for x, y, l in data:\n",
        "  if l == 1: \n",
        "    clr = 'red'\n",
        "  else: \n",
        "    clr = 'blue'\n",
        "  ax.scatter(x, y, c=clr)\n",
        "ax.plot(xx,yy,label='Optimized hyperplane')\n",
        "ax.plot(xx,yy1,label='Original hyperplane')\n",
        "ax.legend()\n",
        "###################################"
      ],
      "execution_count": 22,
      "outputs": [
        {
          "output_type": "execute_result",
          "data": {
            "text/plain": [
              "<matplotlib.legend.Legend at 0x7febfd809c18>"
            ]
          },
          "metadata": {
            "tags": []
          },
          "execution_count": 22
        },
        {
          "output_type": "display_data",
          "data": {
            "image/png": "[encoded data removed]",
            "text/plain": [
              "<Figure size 432x288 with 1 Axes>"
            ]
          },
          "metadata": {
            "tags": [],
            "needs_background": "light"
          }
        }
      ]
    },
    {
      "cell_type": "code",
      "metadata": {
        "id": "OUyg4Xcrnb_X",
        "colab_type": "code",
        "colab": {}
      },
      "source": [
        ""
      ],
      "execution_count": 0,
      "outputs": []
    }
  ]
}