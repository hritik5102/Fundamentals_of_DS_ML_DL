{
  "nbformat": 4,
  "nbformat_minor": 0,
  "metadata": {
    "colab": {
      "name": "K-Nearest-Neighbour.ipynb",
      "provenance": []
    },
    "kernelspec": {
      "name": "python3",
      "display_name": "Python 3"
    }
  },
  "cells": [
    {
      "cell_type": "markdown",
      "metadata": {
        "id": "38T_tKPyVKQi",
        "colab_type": "text"
      },
      "source": [
        "##**K Nearest Neighbour classification**"
      ]
    },
    {
      "cell_type": "markdown",
      "metadata": {
        "id": "nmkLPz5PUs0b",
        "colab_type": "text"
      },
      "source": [
        "K Nearest Neighbour classification (KNN) represents a supervised classification algorithm\n",
        "\n",
        "**Classification**:\n",
        "\n",
        "* Predict a discrete value (label) associated with a feature vector.\n",
        "* suppose we have classified a data points to be red or black.\n",
        "* Let us consider we add new data point which nearest neighbour of 2 black and 1 red \n",
        "so will classify that point to be \"black\" bcoz it is nearest to 2 black points.\n",
        "\n",
        "* We choose K based on the cross validation.      \n",
        "* K here how many number of data points to be considered.\n",
        "* Prefered value of k is odd.\n",
        "\n",
        "<a href=\"https://ibb.co/xCZJvD3\"><img src=\"https://i.ibb.co/FxpgvKn/Screenshot-314.png\" alt=\"Screenshot-314\" width=\"60%\" border=\"0\"></a>\n",
        "\n",
        "**Regression** :\n",
        "\n",
        "* We plot the data points in x and y axis.\n",
        "* Whenever a new points come in , then we find nearest neighbour related to that point.\n",
        "* we take value of this neighbour and then find the average.\n",
        "* the average value which we get would be the value of the new points\n",
        "\n",
        "**Application** \n",
        "\n",
        "It also used in recommender system. \n",
        "\n",
        "`Euclidean distance` is least possible distance betweem A and B.<br/>\n",
        "`Manhatten distance` is distance betweem A and B measured along the axis.\n",
        "\n",
        "<br/>\n",
        "\n",
        "<a href=\"https://imgbb.com/\"><img src=\"https://i.ibb.co/KFVNPpD/Screenshot-313.png\" alt=\"Screenshot-313\" width=\"40%\" border=\"0\"></a>\n",
        "\n",
        "\n",
        "\n",
        "\n",
        "\n",
        "\n",
        "\n"
      ]
    },
    {
      "cell_type": "code",
      "metadata": {
        "id": "tV_3DJvqUgci",
        "colab_type": "code",
        "colab": {}
      },
      "source": [
        ""
      ],
      "execution_count": 0,
      "outputs": []
    }
  ]
}