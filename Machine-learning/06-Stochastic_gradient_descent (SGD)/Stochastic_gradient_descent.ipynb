{
  "nbformat": 4,
  "nbformat_minor": 0,
  "metadata": {
    "colab": {
      "name": "Stochastic gradient descent.ipynb",
      "provenance": []
    },
    "kernelspec": {
      "name": "python3",
      "display_name": "Python 3"
    }
  },
  "cells": [
    {
      "cell_type": "markdown",
      "metadata": {
        "id": "YEcYAMylYUFk",
        "colab_type": "text"
      },
      "source": [
        "#**Linear Regression(SGD)**"
      ]
    },
    {
      "cell_type": "markdown",
      "metadata": {
        "id": "K_U1l-uOYPio",
        "colab_type": "text"
      },
      "source": [
        "### `SGD(Stochastic gradient descent)`\n",
        "\n",
        "* Select a data point in the graph \n",
        "* Calculate derivative of sum of square residual wrt to `intercept (b)` and `slope (m)`\n",
        "* Put the random value of the `intercept (b)` and `slope (m)` in the equation \n",
        "* Then multiply learning rate with a value we get , that will give us new `intercept (b)` and new `slope (m)`\n",
        "* The above 4 procedure is same is same as gradient descent. the SGD is same as Gradient descent , except the only looks at one sample per step or small subset or mini batch , for each step \n",
        "* But gradient descent is not for the large dataset and it's only give efficient result for the small dataset \n",
        "* As SGD will randomly select a data point from the graph , it will test 1/3rd of the data points\n",
        "* That will decrease the computation\n",
        "* Whenever the new data comes , SGD easily use it to take another step for the parameter estimates without having to start from scratch.\n",
        "* Whenever you look at contour graph,gradient descent is going straight to local minima i.e from bigger circle to center where global minima is present, derivative of `slope (m)`=0\n",
        ", but the SGD it like a zig zag like structure and it reaches to the center \n",
        "\n",
        "---\n",
        "\n",
        "  So these zig -zag can be removed by the `sgd with momentum` .\n",
        "  We can use exponetial moving average so that zig -zag which we get can be removed.\n",
        "\n",
        "---\n",
        "Explanation of image : \n",
        "<br/>\n",
        "<br/>\n",
        "`Red Color` : Represent a Gradient Descent\n",
        "<br/>\n",
        "`Blue Color` : Represent a Stochastic Gradient Descent (SGD)\n",
        "<br/>\n",
        "<br/>\n",
        "\n",
        "#### Plot of `Cost function or Loss function` Vs `Weight`\n",
        "\n",
        "[<img src=\"https://encrypted-tbn0.gstatic.com/images?q=tbn:ANd9GcSAQqOOSdRStIW0EbUu342KVb9otNvHLJIfECqfciPUSru6ovgE&s\"/>](https://encrypted-tbn0.gstatic.com/images?q=tbn:ANd9GcSAQqOOSdRStIW0EbUu342KVb9otNvHLJIfECqfciPUSru6ovgE&s)\n",
        "\n",
        "#### Contour plot\n",
        "\n",
        "[<img src=\"https://www.holehouse.org/mlclass/17_Large_Scale_Machine_Learning_files/Image%20[16].png\"/>](https://www.holehouse.org/mlclass/17_Large_Scale_Machine_Learning_files/Image%20[16].png)"
      ]
    },
    {
      "cell_type": "markdown",
      "metadata": {
        "id": "r3oNgvxFYZbj",
        "colab_type": "text"
      },
      "source": [
        "\n",
        "\n",
        "---\n",
        "Importing the required packages\n",
        "\n",
        "\n",
        "---\n",
        "\n"
      ]
    },
    {
      "cell_type": "code",
      "metadata": {
        "id": "6vWomWXNYYRg",
        "colab_type": "code",
        "colab": {
          "base_uri": "https://localhost:8080/",
          "height": 105
        },
        "outputId": "51e6ec60-926b-48f5-bc46-e8e9d48f72a4"
      },
      "source": [
        "import numpy as np\n",
        "import pandas as pd\n",
        "import matplotlib.pyplot as plt\n",
        "from sklearn.datasets import california_housing\n",
        "from sklearn.metrics import mean_squared_error\n",
        "from scipy import stats\n",
        "import seaborn as sns\n",
        "import random\n",
        "from sklearn.linear_model import SGDRegressor   "
      ],
      "execution_count": 2,
      "outputs": [
        {
          "output_type": "stream",
          "text": [
            "/usr/local/lib/python3.6/dist-packages/sklearn/utils/deprecation.py:144: FutureWarning: The sklearn.datasets.california_housing module is  deprecated in version 0.22 and will be removed in version 0.24. The corresponding classes / functions should instead be imported from sklearn.datasets. Anything that cannot be imported from sklearn.datasets is now part of the private API.\n",
            "  warnings.warn(message, FutureWarning)\n",
            "/usr/local/lib/python3.6/dist-packages/statsmodels/tools/_testing.py:19: FutureWarning: pandas.util.testing is deprecated. Use the functions in the public API at pandas.testing instead.\n",
            "  import pandas.util.testing as tm\n"
          ],
          "name": "stderr"
        }
      ]
    },
    {
      "cell_type": "markdown",
      "metadata": {
        "id": "BxTyHZKubls5",
        "colab_type": "text"
      },
      "source": [
        "\n",
        "\n",
        "---\n",
        "Using the same dataset **california_housing** try to find the best fit of the dataset by implementing stocastic gradient descent from scratch. \n",
        "\n",
        "\n",
        "---\n",
        "\n"
      ]
    },
    {
      "cell_type": "code",
      "metadata": {
        "id": "BJDfPuDKbjrc",
        "colab_type": "code",
        "colab": {
          "base_uri": "https://localhost:8080/",
          "height": 34
        },
        "outputId": "eb74ee7e-6625-40b5-aa18-a7c7d95b7973"
      },
      "source": [
        "housing_data = california_housing.fetch_california_housing()"
      ],
      "execution_count": 4,
      "outputs": [
        {
          "output_type": "stream",
          "text": [
            "Downloading Cal. housing from https://ndownloader.figshare.com/files/5976036 to /root/scikit_learn_data\n"
          ],
          "name": "stderr"
        }
      ]
    },
    {
      "cell_type": "code",
      "metadata": {
        "id": "qrDVUe3FcQXY",
        "colab_type": "code",
        "outputId": "0509e35f-1b27-4046-9e80-dc8a2e7590ff",
        "colab": {
          "base_uri": "https://localhost:8080/",
          "height": 419
        }
      },
      "source": [
        "Features = pd.DataFrame(housing_data.data, columns=housing_data.feature_names)\n",
        "Target = pd.DataFrame(housing_data.target, columns=['Target'])\n",
        "df = Features.join(Target)\n",
        "df"
      ],
      "execution_count": 5,
      "outputs": [
        {
          "output_type": "execute_result",
          "data": {
            "text/html": [
              "<div>\n",
              "<style scoped>\n",
              "    .dataframe tbody tr th:only-of-type {\n",
              "        vertical-align: middle;\n",
              "    }\n",
              "\n",
              "    .dataframe tbody tr th {\n",
              "        vertical-align: top;\n",
              "    }\n",
              "\n",
              "    .dataframe thead th {\n",
              "        text-align: right;\n",
              "    }\n",
              "</style>\n",
              "<table border=\"1\" class=\"dataframe\">\n",
              "  <thead>\n",
              "    <tr style=\"text-align: right;\">\n",
              "      <th></th>\n",
              "      <th>MedInc</th>\n",
              "      <th>HouseAge</th>\n",
              "      <th>AveRooms</th>\n",
              "      <th>AveBedrms</th>\n",
              "      <th>Population</th>\n",
              "      <th>AveOccup</th>\n",
              "      <th>Latitude</th>\n",
              "      <th>Longitude</th>\n",
              "      <th>Target</th>\n",
              "    </tr>\n",
              "  </thead>\n",
              "  <tbody>\n",
              "    <tr>\n",
              "      <th>0</th>\n",
              "      <td>8.3252</td>\n",
              "      <td>41.0</td>\n",
              "      <td>6.984127</td>\n",
              "      <td>1.023810</td>\n",
              "      <td>322.0</td>\n",
              "      <td>2.555556</td>\n",
              "      <td>37.88</td>\n",
              "      <td>-122.23</td>\n",
              "      <td>4.526</td>\n",
              "    </tr>\n",
              "    <tr>\n",
              "      <th>1</th>\n",
              "      <td>8.3014</td>\n",
              "      <td>21.0</td>\n",
              "      <td>6.238137</td>\n",
              "      <td>0.971880</td>\n",
              "      <td>2401.0</td>\n",
              "      <td>2.109842</td>\n",
              "      <td>37.86</td>\n",
              "      <td>-122.22</td>\n",
              "      <td>3.585</td>\n",
              "    </tr>\n",
              "    <tr>\n",
              "      <th>2</th>\n",
              "      <td>7.2574</td>\n",
              "      <td>52.0</td>\n",
              "      <td>8.288136</td>\n",
              "      <td>1.073446</td>\n",
              "      <td>496.0</td>\n",
              "      <td>2.802260</td>\n",
              "      <td>37.85</td>\n",
              "      <td>-122.24</td>\n",
              "      <td>3.521</td>\n",
              "    </tr>\n",
              "    <tr>\n",
              "      <th>3</th>\n",
              "      <td>5.6431</td>\n",
              "      <td>52.0</td>\n",
              "      <td>5.817352</td>\n",
              "      <td>1.073059</td>\n",
              "      <td>558.0</td>\n",
              "      <td>2.547945</td>\n",
              "      <td>37.85</td>\n",
              "      <td>-122.25</td>\n",
              "      <td>3.413</td>\n",
              "    </tr>\n",
              "    <tr>\n",
              "      <th>4</th>\n",
              "      <td>3.8462</td>\n",
              "      <td>52.0</td>\n",
              "      <td>6.281853</td>\n",
              "      <td>1.081081</td>\n",
              "      <td>565.0</td>\n",
              "      <td>2.181467</td>\n",
              "      <td>37.85</td>\n",
              "      <td>-122.25</td>\n",
              "      <td>3.422</td>\n",
              "    </tr>\n",
              "    <tr>\n",
              "      <th>...</th>\n",
              "      <td>...</td>\n",
              "      <td>...</td>\n",
              "      <td>...</td>\n",
              "      <td>...</td>\n",
              "      <td>...</td>\n",
              "      <td>...</td>\n",
              "      <td>...</td>\n",
              "      <td>...</td>\n",
              "      <td>...</td>\n",
              "    </tr>\n",
              "    <tr>\n",
              "      <th>20635</th>\n",
              "      <td>1.5603</td>\n",
              "      <td>25.0</td>\n",
              "      <td>5.045455</td>\n",
              "      <td>1.133333</td>\n",
              "      <td>845.0</td>\n",
              "      <td>2.560606</td>\n",
              "      <td>39.48</td>\n",
              "      <td>-121.09</td>\n",
              "      <td>0.781</td>\n",
              "    </tr>\n",
              "    <tr>\n",
              "      <th>20636</th>\n",
              "      <td>2.5568</td>\n",
              "      <td>18.0</td>\n",
              "      <td>6.114035</td>\n",
              "      <td>1.315789</td>\n",
              "      <td>356.0</td>\n",
              "      <td>3.122807</td>\n",
              "      <td>39.49</td>\n",
              "      <td>-121.21</td>\n",
              "      <td>0.771</td>\n",
              "    </tr>\n",
              "    <tr>\n",
              "      <th>20637</th>\n",
              "      <td>1.7000</td>\n",
              "      <td>17.0</td>\n",
              "      <td>5.205543</td>\n",
              "      <td>1.120092</td>\n",
              "      <td>1007.0</td>\n",
              "      <td>2.325635</td>\n",
              "      <td>39.43</td>\n",
              "      <td>-121.22</td>\n",
              "      <td>0.923</td>\n",
              "    </tr>\n",
              "    <tr>\n",
              "      <th>20638</th>\n",
              "      <td>1.8672</td>\n",
              "      <td>18.0</td>\n",
              "      <td>5.329513</td>\n",
              "      <td>1.171920</td>\n",
              "      <td>741.0</td>\n",
              "      <td>2.123209</td>\n",
              "      <td>39.43</td>\n",
              "      <td>-121.32</td>\n",
              "      <td>0.847</td>\n",
              "    </tr>\n",
              "    <tr>\n",
              "      <th>20639</th>\n",
              "      <td>2.3886</td>\n",
              "      <td>16.0</td>\n",
              "      <td>5.254717</td>\n",
              "      <td>1.162264</td>\n",
              "      <td>1387.0</td>\n",
              "      <td>2.616981</td>\n",
              "      <td>39.37</td>\n",
              "      <td>-121.24</td>\n",
              "      <td>0.894</td>\n",
              "    </tr>\n",
              "  </tbody>\n",
              "</table>\n",
              "<p>20640 rows × 9 columns</p>\n",
              "</div>"
            ],
            "text/plain": [
              "       MedInc  HouseAge  AveRooms  ...  Latitude  Longitude  Target\n",
              "0      8.3252      41.0  6.984127  ...     37.88    -122.23   4.526\n",
              "1      8.3014      21.0  6.238137  ...     37.86    -122.22   3.585\n",
              "2      7.2574      52.0  8.288136  ...     37.85    -122.24   3.521\n",
              "3      5.6431      52.0  5.817352  ...     37.85    -122.25   3.413\n",
              "4      3.8462      52.0  6.281853  ...     37.85    -122.25   3.422\n",
              "...       ...       ...       ...  ...       ...        ...     ...\n",
              "20635  1.5603      25.0  5.045455  ...     39.48    -121.09   0.781\n",
              "20636  2.5568      18.0  6.114035  ...     39.49    -121.21   0.771\n",
              "20637  1.7000      17.0  5.205543  ...     39.43    -121.22   0.923\n",
              "20638  1.8672      18.0  5.329513  ...     39.43    -121.32   0.847\n",
              "20639  2.3886      16.0  5.254717  ...     39.37    -121.24   0.894\n",
              "\n",
              "[20640 rows x 9 columns]"
            ]
          },
          "metadata": {
            "tags": []
          },
          "execution_count": 5
        }
      ]
    },
    {
      "cell_type": "code",
      "metadata": {
        "id": "4qy7NXTQteQN",
        "colab_type": "code",
        "outputId": "bf6f47e1-cff0-4558-8c94-ce9eb1c0cdde",
        "colab": {
          "base_uri": "https://localhost:8080/",
          "height": 297
        }
      },
      "source": [
        "df[['MedInc', 'Target']].describe()"
      ],
      "execution_count": 6,
      "outputs": [
        {
          "output_type": "execute_result",
          "data": {
            "text/html": [
              "<div>\n",
              "<style scoped>\n",
              "    .dataframe tbody tr th:only-of-type {\n",
              "        vertical-align: middle;\n",
              "    }\n",
              "\n",
              "    .dataframe tbody tr th {\n",
              "        vertical-align: top;\n",
              "    }\n",
              "\n",
              "    .dataframe thead th {\n",
              "        text-align: right;\n",
              "    }\n",
              "</style>\n",
              "<table border=\"1\" class=\"dataframe\">\n",
              "  <thead>\n",
              "    <tr style=\"text-align: right;\">\n",
              "      <th></th>\n",
              "      <th>MedInc</th>\n",
              "      <th>Target</th>\n",
              "    </tr>\n",
              "  </thead>\n",
              "  <tbody>\n",
              "    <tr>\n",
              "      <th>count</th>\n",
              "      <td>20640.000000</td>\n",
              "      <td>20640.000000</td>\n",
              "    </tr>\n",
              "    <tr>\n",
              "      <th>mean</th>\n",
              "      <td>3.870671</td>\n",
              "      <td>2.068558</td>\n",
              "    </tr>\n",
              "    <tr>\n",
              "      <th>std</th>\n",
              "      <td>1.899822</td>\n",
              "      <td>1.153956</td>\n",
              "    </tr>\n",
              "    <tr>\n",
              "      <th>min</th>\n",
              "      <td>0.499900</td>\n",
              "      <td>0.149990</td>\n",
              "    </tr>\n",
              "    <tr>\n",
              "      <th>25%</th>\n",
              "      <td>2.563400</td>\n",
              "      <td>1.196000</td>\n",
              "    </tr>\n",
              "    <tr>\n",
              "      <th>50%</th>\n",
              "      <td>3.534800</td>\n",
              "      <td>1.797000</td>\n",
              "    </tr>\n",
              "    <tr>\n",
              "      <th>75%</th>\n",
              "      <td>4.743250</td>\n",
              "      <td>2.647250</td>\n",
              "    </tr>\n",
              "    <tr>\n",
              "      <th>max</th>\n",
              "      <td>15.000100</td>\n",
              "      <td>5.000010</td>\n",
              "    </tr>\n",
              "  </tbody>\n",
              "</table>\n",
              "</div>"
            ],
            "text/plain": [
              "             MedInc        Target\n",
              "count  20640.000000  20640.000000\n",
              "mean       3.870671      2.068558\n",
              "std        1.899822      1.153956\n",
              "min        0.499900      0.149990\n",
              "25%        2.563400      1.196000\n",
              "50%        3.534800      1.797000\n",
              "75%        4.743250      2.647250\n",
              "max       15.000100      5.000010"
            ]
          },
          "metadata": {
            "tags": []
          },
          "execution_count": 6
        }
      ]
    },
    {
      "cell_type": "markdown",
      "metadata": {
        "id": "ASf57tgKtfhK",
        "colab_type": "text"
      },
      "source": [
        "**Pre-Processing**\n",
        "\n",
        "Notice that 75% of the data has price less than 2.65, but maximum price go as high as 5. Thus we should remove the extremely expensive houses which might prone noise."
      ]
    },
    {
      "cell_type": "code",
      "metadata": {
        "id": "6sLzmOgPcTZM",
        "colab_type": "code",
        "colab": {}
      },
      "source": [
        "df = df[df.Target < 5]"
      ],
      "execution_count": 0,
      "outputs": []
    },
    {
      "cell_type": "code",
      "metadata": {
        "id": "ea91sQwFZFvq",
        "colab_type": "code",
        "colab": {
          "base_uri": "https://localhost:8080/",
          "height": 419
        },
        "outputId": "8308e61f-ab9c-4219-d522-e80ae9572758"
      },
      "source": [
        "df"
      ],
      "execution_count": 8,
      "outputs": [
        {
          "output_type": "execute_result",
          "data": {
            "text/html": [
              "<div>\n",
              "<style scoped>\n",
              "    .dataframe tbody tr th:only-of-type {\n",
              "        vertical-align: middle;\n",
              "    }\n",
              "\n",
              "    .dataframe tbody tr th {\n",
              "        vertical-align: top;\n",
              "    }\n",
              "\n",
              "    .dataframe thead th {\n",
              "        text-align: right;\n",
              "    }\n",
              "</style>\n",
              "<table border=\"1\" class=\"dataframe\">\n",
              "  <thead>\n",
              "    <tr style=\"text-align: right;\">\n",
              "      <th></th>\n",
              "      <th>MedInc</th>\n",
              "      <th>HouseAge</th>\n",
              "      <th>AveRooms</th>\n",
              "      <th>AveBedrms</th>\n",
              "      <th>Population</th>\n",
              "      <th>AveOccup</th>\n",
              "      <th>Latitude</th>\n",
              "      <th>Longitude</th>\n",
              "      <th>Target</th>\n",
              "    </tr>\n",
              "  </thead>\n",
              "  <tbody>\n",
              "    <tr>\n",
              "      <th>0</th>\n",
              "      <td>8.3252</td>\n",
              "      <td>41.0</td>\n",
              "      <td>6.984127</td>\n",
              "      <td>1.023810</td>\n",
              "      <td>322.0</td>\n",
              "      <td>2.555556</td>\n",
              "      <td>37.88</td>\n",
              "      <td>-122.23</td>\n",
              "      <td>4.526</td>\n",
              "    </tr>\n",
              "    <tr>\n",
              "      <th>1</th>\n",
              "      <td>8.3014</td>\n",
              "      <td>21.0</td>\n",
              "      <td>6.238137</td>\n",
              "      <td>0.971880</td>\n",
              "      <td>2401.0</td>\n",
              "      <td>2.109842</td>\n",
              "      <td>37.86</td>\n",
              "      <td>-122.22</td>\n",
              "      <td>3.585</td>\n",
              "    </tr>\n",
              "    <tr>\n",
              "      <th>2</th>\n",
              "      <td>7.2574</td>\n",
              "      <td>52.0</td>\n",
              "      <td>8.288136</td>\n",
              "      <td>1.073446</td>\n",
              "      <td>496.0</td>\n",
              "      <td>2.802260</td>\n",
              "      <td>37.85</td>\n",
              "      <td>-122.24</td>\n",
              "      <td>3.521</td>\n",
              "    </tr>\n",
              "    <tr>\n",
              "      <th>3</th>\n",
              "      <td>5.6431</td>\n",
              "      <td>52.0</td>\n",
              "      <td>5.817352</td>\n",
              "      <td>1.073059</td>\n",
              "      <td>558.0</td>\n",
              "      <td>2.547945</td>\n",
              "      <td>37.85</td>\n",
              "      <td>-122.25</td>\n",
              "      <td>3.413</td>\n",
              "    </tr>\n",
              "    <tr>\n",
              "      <th>4</th>\n",
              "      <td>3.8462</td>\n",
              "      <td>52.0</td>\n",
              "      <td>6.281853</td>\n",
              "      <td>1.081081</td>\n",
              "      <td>565.0</td>\n",
              "      <td>2.181467</td>\n",
              "      <td>37.85</td>\n",
              "      <td>-122.25</td>\n",
              "      <td>3.422</td>\n",
              "    </tr>\n",
              "    <tr>\n",
              "      <th>...</th>\n",
              "      <td>...</td>\n",
              "      <td>...</td>\n",
              "      <td>...</td>\n",
              "      <td>...</td>\n",
              "      <td>...</td>\n",
              "      <td>...</td>\n",
              "      <td>...</td>\n",
              "      <td>...</td>\n",
              "      <td>...</td>\n",
              "    </tr>\n",
              "    <tr>\n",
              "      <th>20635</th>\n",
              "      <td>1.5603</td>\n",
              "      <td>25.0</td>\n",
              "      <td>5.045455</td>\n",
              "      <td>1.133333</td>\n",
              "      <td>845.0</td>\n",
              "      <td>2.560606</td>\n",
              "      <td>39.48</td>\n",
              "      <td>-121.09</td>\n",
              "      <td>0.781</td>\n",
              "    </tr>\n",
              "    <tr>\n",
              "      <th>20636</th>\n",
              "      <td>2.5568</td>\n",
              "      <td>18.0</td>\n",
              "      <td>6.114035</td>\n",
              "      <td>1.315789</td>\n",
              "      <td>356.0</td>\n",
              "      <td>3.122807</td>\n",
              "      <td>39.49</td>\n",
              "      <td>-121.21</td>\n",
              "      <td>0.771</td>\n",
              "    </tr>\n",
              "    <tr>\n",
              "      <th>20637</th>\n",
              "      <td>1.7000</td>\n",
              "      <td>17.0</td>\n",
              "      <td>5.205543</td>\n",
              "      <td>1.120092</td>\n",
              "      <td>1007.0</td>\n",
              "      <td>2.325635</td>\n",
              "      <td>39.43</td>\n",
              "      <td>-121.22</td>\n",
              "      <td>0.923</td>\n",
              "    </tr>\n",
              "    <tr>\n",
              "      <th>20638</th>\n",
              "      <td>1.8672</td>\n",
              "      <td>18.0</td>\n",
              "      <td>5.329513</td>\n",
              "      <td>1.171920</td>\n",
              "      <td>741.0</td>\n",
              "      <td>2.123209</td>\n",
              "      <td>39.43</td>\n",
              "      <td>-121.32</td>\n",
              "      <td>0.847</td>\n",
              "    </tr>\n",
              "    <tr>\n",
              "      <th>20639</th>\n",
              "      <td>2.3886</td>\n",
              "      <td>16.0</td>\n",
              "      <td>5.254717</td>\n",
              "      <td>1.162264</td>\n",
              "      <td>1387.0</td>\n",
              "      <td>2.616981</td>\n",
              "      <td>39.37</td>\n",
              "      <td>-121.24</td>\n",
              "      <td>0.894</td>\n",
              "    </tr>\n",
              "  </tbody>\n",
              "</table>\n",
              "<p>19648 rows × 9 columns</p>\n",
              "</div>"
            ],
            "text/plain": [
              "       MedInc  HouseAge  AveRooms  ...  Latitude  Longitude  Target\n",
              "0      8.3252      41.0  6.984127  ...     37.88    -122.23   4.526\n",
              "1      8.3014      21.0  6.238137  ...     37.86    -122.22   3.585\n",
              "2      7.2574      52.0  8.288136  ...     37.85    -122.24   3.521\n",
              "3      5.6431      52.0  5.817352  ...     37.85    -122.25   3.413\n",
              "4      3.8462      52.0  6.281853  ...     37.85    -122.25   3.422\n",
              "...       ...       ...       ...  ...       ...        ...     ...\n",
              "20635  1.5603      25.0  5.045455  ...     39.48    -121.09   0.781\n",
              "20636  2.5568      18.0  6.114035  ...     39.49    -121.21   0.771\n",
              "20637  1.7000      17.0  5.205543  ...     39.43    -121.22   0.923\n",
              "20638  1.8672      18.0  5.329513  ...     39.43    -121.32   0.847\n",
              "20639  2.3886      16.0  5.254717  ...     39.37    -121.24   0.894\n",
              "\n",
              "[19648 rows x 9 columns]"
            ]
          },
          "metadata": {
            "tags": []
          },
          "execution_count": 8
        }
      ]
    },
    {
      "cell_type": "code",
      "metadata": {
        "id": "NMYI-0GWWVh_",
        "colab_type": "code",
        "colab": {}
      },
      "source": [
        "x = df.MedInc\n",
        "y = df.Target"
      ],
      "execution_count": 0,
      "outputs": []
    },
    {
      "cell_type": "code",
      "metadata": {
        "id": "jHTLQUTRZOmg",
        "colab_type": "code",
        "colab": {
          "base_uri": "https://localhost:8080/",
          "height": 354
        },
        "outputId": "1861fa7d-8390-4958-953a-58b4e5149151"
      },
      "source": [
        "plt.figure(figsize=(10,5))\n",
        "plt.scatter(x,y, label='Data', c='#388fd8', s=6)\n",
        "plt.title('Correlation Between Income and House Price', fontSize=14)\n",
        "plt.xlabel('Income', fontSize=12)\n",
        "plt.ylabel('House Price', fontSize=12)\n",
        "plt.legend(frameon=True, loc=1, fontsize=10, borderpad=.6)\n",
        "plt.show()"
      ],
      "execution_count": 10,
      "outputs": [
        {
          "output_type": "display_data",
          "data": {
            "image/png": "[encoded data removed]",
            "text/plain": [
              "<Figure size 720x360 with 1 Axes>"
            ]
          },
          "metadata": {
            "tags": [],
            "needs_background": "light"
          }
        }
      ]
    },
    {
      "cell_type": "code",
      "metadata": {
        "id": "Ag-HuvnkZQl3",
        "colab_type": "code",
        "colab": {}
      },
      "source": [
        "def SGD(X,y,lr = 0.01,epochs=100,batch_size = 1):\n",
        "  \n",
        "  m,b = 0,0;  ## initial the parameter\n",
        "  mse = [];\n",
        "  N = len(X)\n",
        "\n",
        "  for i in range(epochs):\n",
        "    f = y - (m*X+b)                ## f(x) = (Observed - predicted)\n",
        "\n",
        "    # Update m and b\n",
        "    # we have to take derivative a function w.r.t b and m \n",
        "    # function is sum of square residual f(x) = (Y - (m*x+b))^2\n",
        "    # MSE = sum of square residual / N\n",
        "\n",
        "    m -= lr * (-2 * X.dot(f).sum() / N)             ## Multiply a derivative with learning rate\n",
        "    b -= lr * (-2 * f.sum() / N)\n",
        "    mse.append(mean_squared_error(y, (m*X + b)))   \n",
        "    print('> \\t epoch=%d, lrate=%.3f, MSE = %.3f' % (i, lr, mean_squared_error(y, (m*X + b))))\n",
        "\n",
        "\n",
        "  return m, b, mse"
      ],
      "execution_count": 0,
      "outputs": []
    },
    {
      "cell_type": "code",
      "metadata": {
        "id": "eHjJcVR8ZSyd",
        "colab_type": "code",
        "colab": {
          "base_uri": "https://localhost:8080/",
          "height": 1000
        },
        "outputId": "2a7cb8c7-145b-4bd2-b548-6f3c3b5633de"
      },
      "source": [
        "m, b,  mse = SGD(x, y, lr=0.01, epochs=100, batch_size=2)"
      ],
      "execution_count": 12,
      "outputs": [
        {
          "output_type": "stream",
          "text": [
            "> \t epoch=0, lrate=0.010, MSE = 2.355\n",
            "> \t epoch=1, lrate=0.010, MSE = 1.353\n",
            "> \t epoch=2, lrate=0.010, MSE = 0.912\n",
            "> \t epoch=3, lrate=0.010, MSE = 0.718\n",
            "> \t epoch=4, lrate=0.010, MSE = 0.633\n",
            "> \t epoch=5, lrate=0.010, MSE = 0.595\n",
            "> \t epoch=6, lrate=0.010, MSE = 0.579\n",
            "> \t epoch=7, lrate=0.010, MSE = 0.571\n",
            "> \t epoch=8, lrate=0.010, MSE = 0.568\n",
            "> \t epoch=9, lrate=0.010, MSE = 0.566\n",
            "> \t epoch=10, lrate=0.010, MSE = 0.566\n",
            "> \t epoch=11, lrate=0.010, MSE = 0.565\n",
            "> \t epoch=12, lrate=0.010, MSE = 0.565\n",
            "> \t epoch=13, lrate=0.010, MSE = 0.565\n",
            "> \t epoch=14, lrate=0.010, MSE = 0.565\n",
            "> \t epoch=15, lrate=0.010, MSE = 0.565\n",
            "> \t epoch=16, lrate=0.010, MSE = 0.565\n",
            "> \t epoch=17, lrate=0.010, MSE = 0.565\n",
            "> \t epoch=18, lrate=0.010, MSE = 0.565\n",
            "> \t epoch=19, lrate=0.010, MSE = 0.564\n",
            "> \t epoch=20, lrate=0.010, MSE = 0.564\n",
            "> \t epoch=21, lrate=0.010, MSE = 0.564\n",
            "> \t epoch=22, lrate=0.010, MSE = 0.564\n",
            "> \t epoch=23, lrate=0.010, MSE = 0.564\n",
            "> \t epoch=24, lrate=0.010, MSE = 0.564\n",
            "> \t epoch=25, lrate=0.010, MSE = 0.564\n",
            "> \t epoch=26, lrate=0.010, MSE = 0.564\n",
            "> \t epoch=27, lrate=0.010, MSE = 0.564\n",
            "> \t epoch=28, lrate=0.010, MSE = 0.564\n",
            "> \t epoch=29, lrate=0.010, MSE = 0.564\n",
            "> \t epoch=30, lrate=0.010, MSE = 0.563\n",
            "> \t epoch=31, lrate=0.010, MSE = 0.563\n",
            "> \t epoch=32, lrate=0.010, MSE = 0.563\n",
            "> \t epoch=33, lrate=0.010, MSE = 0.563\n",
            "> \t epoch=34, lrate=0.010, MSE = 0.563\n",
            "> \t epoch=35, lrate=0.010, MSE = 0.563\n",
            "> \t epoch=36, lrate=0.010, MSE = 0.563\n",
            "> \t epoch=37, lrate=0.010, MSE = 0.563\n",
            "> \t epoch=38, lrate=0.010, MSE = 0.563\n",
            "> \t epoch=39, lrate=0.010, MSE = 0.563\n",
            "> \t epoch=40, lrate=0.010, MSE = 0.563\n",
            "> \t epoch=41, lrate=0.010, MSE = 0.562\n",
            "> \t epoch=42, lrate=0.010, MSE = 0.562\n",
            "> \t epoch=43, lrate=0.010, MSE = 0.562\n",
            "> \t epoch=44, lrate=0.010, MSE = 0.562\n",
            "> \t epoch=45, lrate=0.010, MSE = 0.562\n",
            "> \t epoch=46, lrate=0.010, MSE = 0.562\n",
            "> \t epoch=47, lrate=0.010, MSE = 0.562\n",
            "> \t epoch=48, lrate=0.010, MSE = 0.562\n",
            "> \t epoch=49, lrate=0.010, MSE = 0.562\n",
            "> \t epoch=50, lrate=0.010, MSE = 0.562\n",
            "> \t epoch=51, lrate=0.010, MSE = 0.562\n",
            "> \t epoch=52, lrate=0.010, MSE = 0.562\n",
            "> \t epoch=53, lrate=0.010, MSE = 0.562\n",
            "> \t epoch=54, lrate=0.010, MSE = 0.561\n",
            "> \t epoch=55, lrate=0.010, MSE = 0.561\n",
            "> \t epoch=56, lrate=0.010, MSE = 0.561\n",
            "> \t epoch=57, lrate=0.010, MSE = 0.561\n",
            "> \t epoch=58, lrate=0.010, MSE = 0.561\n",
            "> \t epoch=59, lrate=0.010, MSE = 0.561\n",
            "> \t epoch=60, lrate=0.010, MSE = 0.561\n",
            "> \t epoch=61, lrate=0.010, MSE = 0.561\n",
            "> \t epoch=62, lrate=0.010, MSE = 0.561\n",
            "> \t epoch=63, lrate=0.010, MSE = 0.561\n",
            "> \t epoch=64, lrate=0.010, MSE = 0.561\n",
            "> \t epoch=65, lrate=0.010, MSE = 0.561\n",
            "> \t epoch=66, lrate=0.010, MSE = 0.561\n",
            "> \t epoch=67, lrate=0.010, MSE = 0.561\n",
            "> \t epoch=68, lrate=0.010, MSE = 0.560\n",
            "> \t epoch=69, lrate=0.010, MSE = 0.560\n",
            "> \t epoch=70, lrate=0.010, MSE = 0.560\n",
            "> \t epoch=71, lrate=0.010, MSE = 0.560\n",
            "> \t epoch=72, lrate=0.010, MSE = 0.560\n",
            "> \t epoch=73, lrate=0.010, MSE = 0.560\n",
            "> \t epoch=74, lrate=0.010, MSE = 0.560\n",
            "> \t epoch=75, lrate=0.010, MSE = 0.560\n",
            "> \t epoch=76, lrate=0.010, MSE = 0.560\n",
            "> \t epoch=77, lrate=0.010, MSE = 0.560\n",
            "> \t epoch=78, lrate=0.010, MSE = 0.560\n",
            "> \t epoch=79, lrate=0.010, MSE = 0.560\n",
            "> \t epoch=80, lrate=0.010, MSE = 0.560\n",
            "> \t epoch=81, lrate=0.010, MSE = 0.560\n",
            "> \t epoch=82, lrate=0.010, MSE = 0.560\n",
            "> \t epoch=83, lrate=0.010, MSE = 0.559\n",
            "> \t epoch=84, lrate=0.010, MSE = 0.559\n",
            "> \t epoch=85, lrate=0.010, MSE = 0.559\n",
            "> \t epoch=86, lrate=0.010, MSE = 0.559\n",
            "> \t epoch=87, lrate=0.010, MSE = 0.559\n",
            "> \t epoch=88, lrate=0.010, MSE = 0.559\n",
            "> \t epoch=89, lrate=0.010, MSE = 0.559\n",
            "> \t epoch=90, lrate=0.010, MSE = 0.559\n",
            "> \t epoch=91, lrate=0.010, MSE = 0.559\n",
            "> \t epoch=92, lrate=0.010, MSE = 0.559\n",
            "> \t epoch=93, lrate=0.010, MSE = 0.559\n",
            "> \t epoch=94, lrate=0.010, MSE = 0.559\n",
            "> \t epoch=95, lrate=0.010, MSE = 0.559\n",
            "> \t epoch=96, lrate=0.010, MSE = 0.559\n",
            "> \t epoch=97, lrate=0.010, MSE = 0.559\n",
            "> \t epoch=98, lrate=0.010, MSE = 0.559\n",
            "> \t epoch=99, lrate=0.010, MSE = 0.558\n"
          ],
          "name": "stdout"
        }
      ]
    },
    {
      "cell_type": "markdown",
      "metadata": {
        "id": "i4xuNe9kdDCC",
        "colab_type": "text"
      },
      "source": [
        "Plot the SGD curve(MSE against the epochs), and the line which represents the best fit of the given dataset."
      ]
    },
    {
      "cell_type": "code",
      "metadata": {
        "id": "qacygE7bZanp",
        "colab_type": "code",
        "colab": {
          "base_uri": "https://localhost:8080/",
          "height": 702
        },
        "outputId": "8b76265c-96d5-4186-af5a-b91f582c8608"
      },
      "source": [
        "y_pred = m*x + b\n",
        "\n",
        "print(\"MSE:\",mean_squared_error(y, y_pred))\n",
        "\n",
        "plt.figure(figsize=(10,5))\n",
        "plt.scatter(x, y, label='Data', c='#388fd8', s=6)\n",
        "plt.plot(x, y_pred, c='#ff7702', lw=3, label='Regression')\n",
        "plt.title('Linear Regression', fontSize=14)\n",
        "plt.xlabel('Income', fontSize=11)\n",
        "plt.ylabel('Price', fontSize=11)\n",
        "plt.legend( loc=0, fontsize=10, borderpad=.6)\n",
        "plt.show()\n",
        "\n",
        "\n",
        "epochs = 100\n",
        "plt.figure(figsize=(10,5))\n",
        "plt.plot(range(epochs), mse)\n",
        "plt.title('Stochastic Gradient Descent Optimization', fontSize=14)\n",
        "plt.xlabel('Epochs')\n",
        "plt.ylabel('MSE')\n",
        "plt.show()"
      ],
      "execution_count": 13,
      "outputs": [
        {
          "output_type": "stream",
          "text": [
            "MSE: 0.5584834958626665\n"
          ],
          "name": "stdout"
        },
        {
          "output_type": "display_data",
          "data": {
            "image/png": "[encoded data removed]",
            "text/plain": [
              "<Figure size 720x360 with 1 Axes>"
            ]
          },
          "metadata": {
            "tags": [],
            "needs_background": "light"
          }
        },
        {
          "output_type": "display_data",
          "data": {
            "image/png": "[encoded data removed]",
            "text/plain": [
              "<Figure size 720x360 with 1 Axes>"
            ]
          },
          "metadata": {
            "tags": [],
            "needs_background": "light"
          }
        }
      ]
    },
    {
      "cell_type": "markdown",
      "metadata": {
        "id": "vlU9uqtFZeA2",
        "colab_type": "text"
      },
      "source": [
        "### Hope you guys like it :)"
      ]
    }
  ]
}