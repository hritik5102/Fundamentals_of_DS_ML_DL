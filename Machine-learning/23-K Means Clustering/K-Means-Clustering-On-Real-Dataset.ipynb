{
  "nbformat": 4,
  "nbformat_minor": 0,
  "metadata": {
    "colab": {
      "name": "Assignment-on-clustering.ipynb",
      "provenance": [],
      "collapsed_sections": []
    },
    "kernelspec": {
      "name": "python3",
      "display_name": "Python 3"
    }
  },
  "cells": [
    {
      "cell_type": "markdown",
      "metadata": {
        "id": "hZR5DCs0oFgD",
        "colab_type": "text"
      },
      "source": [
        "##**Importing package**"
      ]
    },
    {
      "cell_type": "code",
      "metadata": {
        "id": "YV9bBK5An7Vl",
        "colab_type": "code",
        "colab": {}
      },
      "source": [
        "import numpy as np\n",
        "import matplotlib.pyplot as plt\n",
        "import seaborn as sns\n",
        "import pandas as pd\n",
        "from sklearn.cluster import KMeans\n",
        "from sklearn.model_selection import train_test_split"
      ],
      "execution_count": 0,
      "outputs": []
    },
    {
      "cell_type": "code",
      "metadata": {
        "id": "nlAkHOpioqLm",
        "colab_type": "code",
        "outputId": "2998bb52-a745-498f-c2be-62458ce48169",
        "colab": {
          "base_uri": "https://localhost:8080/",
          "height": 204
        }
      },
      "source": [
        "data = pd.read_csv('assignment_shala_clustering.csv')\n",
        "data.head(5)"
      ],
      "execution_count": 80,
      "outputs": [
        {
          "output_type": "execute_result",
          "data": {
            "text/html": [
              "<div>\n",
              "<style scoped>\n",
              "    .dataframe tbody tr th:only-of-type {\n",
              "        vertical-align: middle;\n",
              "    }\n",
              "\n",
              "    .dataframe tbody tr th {\n",
              "        vertical-align: top;\n",
              "    }\n",
              "\n",
              "    .dataframe thead th {\n",
              "        text-align: right;\n",
              "    }\n",
              "</style>\n",
              "<table border=\"1\" class=\"dataframe\">\n",
              "  <thead>\n",
              "    <tr style=\"text-align: right;\">\n",
              "      <th></th>\n",
              "      <th>CustomerID</th>\n",
              "      <th>Gender</th>\n",
              "      <th>Age</th>\n",
              "      <th>Annual Income (k$)</th>\n",
              "      <th>Spending Score (1-100)</th>\n",
              "    </tr>\n",
              "  </thead>\n",
              "  <tbody>\n",
              "    <tr>\n",
              "      <th>0</th>\n",
              "      <td>1</td>\n",
              "      <td>Male</td>\n",
              "      <td>19</td>\n",
              "      <td>15</td>\n",
              "      <td>39</td>\n",
              "    </tr>\n",
              "    <tr>\n",
              "      <th>1</th>\n",
              "      <td>2</td>\n",
              "      <td>Male</td>\n",
              "      <td>21</td>\n",
              "      <td>15</td>\n",
              "      <td>81</td>\n",
              "    </tr>\n",
              "    <tr>\n",
              "      <th>2</th>\n",
              "      <td>3</td>\n",
              "      <td>Female</td>\n",
              "      <td>20</td>\n",
              "      <td>16</td>\n",
              "      <td>6</td>\n",
              "    </tr>\n",
              "    <tr>\n",
              "      <th>3</th>\n",
              "      <td>4</td>\n",
              "      <td>Female</td>\n",
              "      <td>23</td>\n",
              "      <td>16</td>\n",
              "      <td>77</td>\n",
              "    </tr>\n",
              "    <tr>\n",
              "      <th>4</th>\n",
              "      <td>5</td>\n",
              "      <td>Female</td>\n",
              "      <td>31</td>\n",
              "      <td>17</td>\n",
              "      <td>40</td>\n",
              "    </tr>\n",
              "  </tbody>\n",
              "</table>\n",
              "</div>"
            ],
            "text/plain": [
              "   CustomerID  Gender  Age  Annual Income (k$)  Spending Score (1-100)\n",
              "0           1    Male   19                  15                      39\n",
              "1           2    Male   21                  15                      81\n",
              "2           3  Female   20                  16                       6\n",
              "3           4  Female   23                  16                      77\n",
              "4           5  Female   31                  17                      40"
            ]
          },
          "metadata": {
            "tags": []
          },
          "execution_count": 80
        }
      ]
    },
    {
      "cell_type": "code",
      "metadata": {
        "id": "4KI5igZPo9ko",
        "colab_type": "code",
        "outputId": "e81158dc-029b-47f1-e591-e101fd3f95ed",
        "colab": {
          "base_uri": "https://localhost:8080/",
          "height": 221
        }
      },
      "source": [
        "data.info()"
      ],
      "execution_count": 81,
      "outputs": [
        {
          "output_type": "stream",
          "text": [
            "<class 'pandas.core.frame.DataFrame'>\n",
            "RangeIndex: 200 entries, 0 to 199\n",
            "Data columns (total 5 columns):\n",
            " #   Column                  Non-Null Count  Dtype \n",
            "---  ------                  --------------  ----- \n",
            " 0   CustomerID              200 non-null    int64 \n",
            " 1   Gender                  200 non-null    object\n",
            " 2   Age                     200 non-null    int64 \n",
            " 3   Annual Income (k$)      200 non-null    int64 \n",
            " 4   Spending Score (1-100)  200 non-null    int64 \n",
            "dtypes: int64(4), object(1)\n",
            "memory usage: 7.9+ KB\n"
          ],
          "name": "stdout"
        }
      ]
    },
    {
      "cell_type": "code",
      "metadata": {
        "id": "77h054iKq79O",
        "colab_type": "code",
        "outputId": "78006275-72f9-4a55-e17e-e4150314643d",
        "colab": {
          "base_uri": "https://localhost:8080/",
          "height": 297
        }
      },
      "source": [
        "data.describe()"
      ],
      "execution_count": 82,
      "outputs": [
        {
          "output_type": "execute_result",
          "data": {
            "text/html": [
              "<div>\n",
              "<style scoped>\n",
              "    .dataframe tbody tr th:only-of-type {\n",
              "        vertical-align: middle;\n",
              "    }\n",
              "\n",
              "    .dataframe tbody tr th {\n",
              "        vertical-align: top;\n",
              "    }\n",
              "\n",
              "    .dataframe thead th {\n",
              "        text-align: right;\n",
              "    }\n",
              "</style>\n",
              "<table border=\"1\" class=\"dataframe\">\n",
              "  <thead>\n",
              "    <tr style=\"text-align: right;\">\n",
              "      <th></th>\n",
              "      <th>CustomerID</th>\n",
              "      <th>Age</th>\n",
              "      <th>Annual Income (k$)</th>\n",
              "      <th>Spending Score (1-100)</th>\n",
              "    </tr>\n",
              "  </thead>\n",
              "  <tbody>\n",
              "    <tr>\n",
              "      <th>count</th>\n",
              "      <td>200.000000</td>\n",
              "      <td>200.000000</td>\n",
              "      <td>200.000000</td>\n",
              "      <td>200.000000</td>\n",
              "    </tr>\n",
              "    <tr>\n",
              "      <th>mean</th>\n",
              "      <td>100.500000</td>\n",
              "      <td>38.850000</td>\n",
              "      <td>60.560000</td>\n",
              "      <td>50.200000</td>\n",
              "    </tr>\n",
              "    <tr>\n",
              "      <th>std</th>\n",
              "      <td>57.879185</td>\n",
              "      <td>13.969007</td>\n",
              "      <td>26.264721</td>\n",
              "      <td>25.823522</td>\n",
              "    </tr>\n",
              "    <tr>\n",
              "      <th>min</th>\n",
              "      <td>1.000000</td>\n",
              "      <td>18.000000</td>\n",
              "      <td>15.000000</td>\n",
              "      <td>1.000000</td>\n",
              "    </tr>\n",
              "    <tr>\n",
              "      <th>25%</th>\n",
              "      <td>50.750000</td>\n",
              "      <td>28.750000</td>\n",
              "      <td>41.500000</td>\n",
              "      <td>34.750000</td>\n",
              "    </tr>\n",
              "    <tr>\n",
              "      <th>50%</th>\n",
              "      <td>100.500000</td>\n",
              "      <td>36.000000</td>\n",
              "      <td>61.500000</td>\n",
              "      <td>50.000000</td>\n",
              "    </tr>\n",
              "    <tr>\n",
              "      <th>75%</th>\n",
              "      <td>150.250000</td>\n",
              "      <td>49.000000</td>\n",
              "      <td>78.000000</td>\n",
              "      <td>73.000000</td>\n",
              "    </tr>\n",
              "    <tr>\n",
              "      <th>max</th>\n",
              "      <td>200.000000</td>\n",
              "      <td>70.000000</td>\n",
              "      <td>137.000000</td>\n",
              "      <td>99.000000</td>\n",
              "    </tr>\n",
              "  </tbody>\n",
              "</table>\n",
              "</div>"
            ],
            "text/plain": [
              "       CustomerID         Age  Annual Income (k$)  Spending Score (1-100)\n",
              "count  200.000000  200.000000          200.000000              200.000000\n",
              "mean   100.500000   38.850000           60.560000               50.200000\n",
              "std     57.879185   13.969007           26.264721               25.823522\n",
              "min      1.000000   18.000000           15.000000                1.000000\n",
              "25%     50.750000   28.750000           41.500000               34.750000\n",
              "50%    100.500000   36.000000           61.500000               50.000000\n",
              "75%    150.250000   49.000000           78.000000               73.000000\n",
              "max    200.000000   70.000000          137.000000               99.000000"
            ]
          },
          "metadata": {
            "tags": []
          },
          "execution_count": 82
        }
      ]
    },
    {
      "cell_type": "code",
      "metadata": {
        "id": "vzzLdZeOq_G2",
        "colab_type": "code",
        "outputId": "506ed166-ede8-4266-8b74-bd93401e743f",
        "colab": {
          "base_uri": "https://localhost:8080/",
          "height": 68
        }
      },
      "source": [
        "data.Gender.value_counts()"
      ],
      "execution_count": 83,
      "outputs": [
        {
          "output_type": "execute_result",
          "data": {
            "text/plain": [
              "Female    112\n",
              "Male       88\n",
              "Name: Gender, dtype: int64"
            ]
          },
          "metadata": {
            "tags": []
          },
          "execution_count": 83
        }
      ]
    },
    {
      "cell_type": "code",
      "metadata": {
        "id": "vQH0ZaR5rIG2",
        "colab_type": "code",
        "outputId": "38fc10a1-8d09-4218-fcb9-59c949ce56d7",
        "colab": {
          "base_uri": "https://localhost:8080/",
          "height": 34
        }
      },
      "source": [
        "print(\"Min : {} and Max : {}\".format(data.Age.min(),data.Age.max()))"
      ],
      "execution_count": 84,
      "outputs": [
        {
          "output_type": "stream",
          "text": [
            "Min : 18 and Max : 70\n"
          ],
          "name": "stdout"
        }
      ]
    },
    {
      "cell_type": "code",
      "metadata": {
        "id": "cfb1rYuvrKoD",
        "colab_type": "code",
        "outputId": "71772032-2ce2-4a7d-c6d5-4c793937e3fe",
        "colab": {
          "base_uri": "https://localhost:8080/",
          "height": 34
        }
      },
      "source": [
        "data.shape"
      ],
      "execution_count": 85,
      "outputs": [
        {
          "output_type": "execute_result",
          "data": {
            "text/plain": [
              "(200, 5)"
            ]
          },
          "metadata": {
            "tags": []
          },
          "execution_count": 85
        }
      ]
    },
    {
      "cell_type": "markdown",
      "metadata": {
        "id": "V3pajBGGrlY4",
        "colab_type": "text"
      },
      "source": [
        "##**Data visualization**"
      ]
    },
    {
      "cell_type": "code",
      "metadata": {
        "id": "gbKI55znreqM",
        "colab_type": "code",
        "outputId": "98b490eb-f5b7-48e7-de02-6749a9232077",
        "colab": {
          "base_uri": "https://localhost:8080/",
          "height": 336
        }
      },
      "source": [
        "## Histogram \n",
        "data.hist(grid=True,figsize=(10,5))\n",
        "plt.show()"
      ],
      "execution_count": 86,
      "outputs": [
        {
          "output_type": "display_data",
          "data": {
            "image/png": "[encoded data removed]",
            "text/plain": [
              "<Figure size 720x360 with 4 Axes>"
            ]
          },
          "metadata": {
            "tags": [],
            "needs_background": "light"
          }
        }
      ]
    },
    {
      "cell_type": "code",
      "metadata": {
        "id": "pUVFgEYOw8Jy",
        "colab_type": "code",
        "colab": {}
      },
      "source": [
        "label = data.Gender.value_counts().keys().tolist()"
      ],
      "execution_count": 0,
      "outputs": []
    },
    {
      "cell_type": "code",
      "metadata": {
        "id": "-pr-5ckkrwJa",
        "colab_type": "code",
        "outputId": "bd4d871e-0cfe-45a5-eba6-76277bfb0194",
        "colab": {
          "base_uri": "https://localhost:8080/",
          "height": 279
        }
      },
      "source": [
        "## countplot\n",
        "sns.countplot(x=\"Gender\", data=data)\n",
        "plt.show()"
      ],
      "execution_count": 88,
      "outputs": [
        {
          "output_type": "display_data",
          "data": {
            "image/png": "[encoded data removed]",
            "text/plain": [
              "<Figure size 432x288 with 1 Axes>"
            ]
          },
          "metadata": {
            "tags": [],
            "needs_background": "light"
          }
        }
      ]
    },
    {
      "cell_type": "code",
      "metadata": {
        "id": "8ARIH9MJtEcY",
        "colab_type": "code",
        "outputId": "05610f1b-d7d0-4072-f3fc-e46a29dc7f6f",
        "colab": {
          "base_uri": "https://localhost:8080/",
          "height": 265
        }
      },
      "source": [
        "## Box plot\n",
        "data[['Age','Annual Income (k$)','Spending Score (1-100)']].boxplot()\n",
        "plt.show()"
      ],
      "execution_count": 89,
      "outputs": [
        {
          "output_type": "display_data",
          "data": {
            "image/png": "[encoded data removed]",
            "text/plain": [
              "<Figure size 432x288 with 1 Axes>"
            ]
          },
          "metadata": {
            "tags": [],
            "needs_background": "light"
          }
        }
      ]
    },
    {
      "cell_type": "code",
      "metadata": {
        "id": "XFRzTl3Wt1jt",
        "colab_type": "code",
        "outputId": "59d9cf10-88eb-4535-b12e-b62ee9486efe",
        "colab": {
          "base_uri": "https://localhost:8080/",
          "height": 265
        }
      },
      "source": [
        "sns.boxplot(data[['Age','Annual Income (k$)','Spending Score (1-100)']],palette='Set1')\n",
        "plt.show()"
      ],
      "execution_count": 90,
      "outputs": [
        {
          "output_type": "display_data",
          "data": {
            "image/png": "[encoded data removed]",
            "text/plain": [
              "<Figure size 432x288 with 1 Axes>"
            ]
          },
          "metadata": {
            "tags": [],
            "needs_background": "light"
          }
        }
      ]
    },
    {
      "cell_type": "code",
      "metadata": {
        "id": "h5lTyEjC2z74",
        "colab_type": "code",
        "outputId": "de1c6c00-7aa8-49d8-a1a6-49635bac1a3c",
        "colab": {
          "base_uri": "https://localhost:8080/",
          "height": 279
        }
      },
      "source": [
        "sns.boxplot(x=data['Gender'],y=data['Spending Score (1-100)'],data=data)\n",
        "plt.show()"
      ],
      "execution_count": 91,
      "outputs": [
        {
          "output_type": "display_data",
          "data": {
            "image/png": "[encoded data removed]",
            "text/plain": [
              "<Figure size 432x288 with 1 Axes>"
            ]
          },
          "metadata": {
            "tags": [],
            "needs_background": "light"
          }
        }
      ]
    },
    {
      "cell_type": "code",
      "metadata": {
        "id": "a7HfKE12AeUw",
        "colab_type": "code",
        "outputId": "b83cf09c-bd42-4674-8963-cdba6904e5b4",
        "colab": {
          "base_uri": "https://localhost:8080/",
          "height": 279
        }
      },
      "source": [
        "plt.scatter(x=data['Age'],y=data['Spending Score (1-100)'])\n",
        "plt.xlabel('Age')\n",
        "plt.ylabel('Spending score')\n",
        "\n",
        "plt.show()"
      ],
      "execution_count": 92,
      "outputs": [
        {
          "output_type": "display_data",
          "data": {
            "image/png": "[encoded data removed]",
            "text/plain": [
              "<Figure size 432x288 with 1 Axes>"
            ]
          },
          "metadata": {
            "tags": [],
            "needs_background": "light"
          }
        }
      ]
    },
    {
      "cell_type": "code",
      "metadata": {
        "id": "HvfOZy8baOy0",
        "colab_type": "code",
        "colab": {
          "base_uri": "https://localhost:8080/",
          "height": 279
        },
        "outputId": "ee50d5e2-ecba-4689-a3f8-72243aa5a3eb"
      },
      "source": [
        "plt.scatter(x=data['Age'],y=data['Annual Income (k$)'])\n",
        "plt.xlabel('Age')\n",
        "plt.ylabel('Spending score')\n",
        "\n",
        "plt.show()"
      ],
      "execution_count": 93,
      "outputs": [
        {
          "output_type": "display_data",
          "data": {
            "image/png": "[encoded data removed]",
            "text/plain": [
              "<Figure size 432x288 with 1 Axes>"
            ]
          },
          "metadata": {
            "tags": [],
            "needs_background": "light"
          }
        }
      ]
    },
    {
      "cell_type": "code",
      "metadata": {
        "id": "Wp5oAoj4Y6hN",
        "colab_type": "code",
        "colab": {}
      },
      "source": [
        "data['Gender'] = data['Gender'].apply(lambda x: 0 if x==\"Female\" else 1)"
      ],
      "execution_count": 0,
      "outputs": []
    },
    {
      "cell_type": "code",
      "metadata": {
        "id": "gRaSnQvfZx9J",
        "colab_type": "code",
        "colab": {
          "base_uri": "https://localhost:8080/",
          "height": 68
        },
        "outputId": "fbe27e9a-6957-4872-ece4-685424ccd656"
      },
      "source": [
        "data[\"Gender\"].value_counts()"
      ],
      "execution_count": 95,
      "outputs": [
        {
          "output_type": "execute_result",
          "data": {
            "text/plain": [
              "0    112\n",
              "1     88\n",
              "Name: Gender, dtype: int64"
            ]
          },
          "metadata": {
            "tags": []
          },
          "execution_count": 95
        }
      ]
    },
    {
      "cell_type": "code",
      "metadata": {
        "id": "kGoD6KeIZ7k7",
        "colab_type": "code",
        "colab": {
          "base_uri": "https://localhost:8080/",
          "height": 204
        },
        "outputId": "89e58a3b-b5a3-42b1-9e03-eac9a64d2b9c"
      },
      "source": [
        "data.head()"
      ],
      "execution_count": 96,
      "outputs": [
        {
          "output_type": "execute_result",
          "data": {
            "text/html": [
              "<div>\n",
              "<style scoped>\n",
              "    .dataframe tbody tr th:only-of-type {\n",
              "        vertical-align: middle;\n",
              "    }\n",
              "\n",
              "    .dataframe tbody tr th {\n",
              "        vertical-align: top;\n",
              "    }\n",
              "\n",
              "    .dataframe thead th {\n",
              "        text-align: right;\n",
              "    }\n",
              "</style>\n",
              "<table border=\"1\" class=\"dataframe\">\n",
              "  <thead>\n",
              "    <tr style=\"text-align: right;\">\n",
              "      <th></th>\n",
              "      <th>CustomerID</th>\n",
              "      <th>Gender</th>\n",
              "      <th>Age</th>\n",
              "      <th>Annual Income (k$)</th>\n",
              "      <th>Spending Score (1-100)</th>\n",
              "    </tr>\n",
              "  </thead>\n",
              "  <tbody>\n",
              "    <tr>\n",
              "      <th>0</th>\n",
              "      <td>1</td>\n",
              "      <td>1</td>\n",
              "      <td>19</td>\n",
              "      <td>15</td>\n",
              "      <td>39</td>\n",
              "    </tr>\n",
              "    <tr>\n",
              "      <th>1</th>\n",
              "      <td>2</td>\n",
              "      <td>1</td>\n",
              "      <td>21</td>\n",
              "      <td>15</td>\n",
              "      <td>81</td>\n",
              "    </tr>\n",
              "    <tr>\n",
              "      <th>2</th>\n",
              "      <td>3</td>\n",
              "      <td>0</td>\n",
              "      <td>20</td>\n",
              "      <td>16</td>\n",
              "      <td>6</td>\n",
              "    </tr>\n",
              "    <tr>\n",
              "      <th>3</th>\n",
              "      <td>4</td>\n",
              "      <td>0</td>\n",
              "      <td>23</td>\n",
              "      <td>16</td>\n",
              "      <td>77</td>\n",
              "    </tr>\n",
              "    <tr>\n",
              "      <th>4</th>\n",
              "      <td>5</td>\n",
              "      <td>0</td>\n",
              "      <td>31</td>\n",
              "      <td>17</td>\n",
              "      <td>40</td>\n",
              "    </tr>\n",
              "  </tbody>\n",
              "</table>\n",
              "</div>"
            ],
            "text/plain": [
              "   CustomerID  Gender  Age  Annual Income (k$)  Spending Score (1-100)\n",
              "0           1       1   19                  15                      39\n",
              "1           2       1   21                  15                      81\n",
              "2           3       0   20                  16                       6\n",
              "3           4       0   23                  16                      77\n",
              "4           5       0   31                  17                      40"
            ]
          },
          "metadata": {
            "tags": []
          },
          "execution_count": 96
        }
      ]
    },
    {
      "cell_type": "code",
      "metadata": {
        "id": "Nj1FVj0KbPPz",
        "colab_type": "code",
        "colab": {
          "base_uri": "https://localhost:8080/",
          "height": 204
        },
        "outputId": "4e6f0cd5-c1fd-4e37-caf9-43f3d4bbf8a5"
      },
      "source": [
        "data = data.iloc[:,1:5]\n",
        "data.head()"
      ],
      "execution_count": 97,
      "outputs": [
        {
          "output_type": "execute_result",
          "data": {
            "text/html": [
              "<div>\n",
              "<style scoped>\n",
              "    .dataframe tbody tr th:only-of-type {\n",
              "        vertical-align: middle;\n",
              "    }\n",
              "\n",
              "    .dataframe tbody tr th {\n",
              "        vertical-align: top;\n",
              "    }\n",
              "\n",
              "    .dataframe thead th {\n",
              "        text-align: right;\n",
              "    }\n",
              "</style>\n",
              "<table border=\"1\" class=\"dataframe\">\n",
              "  <thead>\n",
              "    <tr style=\"text-align: right;\">\n",
              "      <th></th>\n",
              "      <th>Gender</th>\n",
              "      <th>Age</th>\n",
              "      <th>Annual Income (k$)</th>\n",
              "      <th>Spending Score (1-100)</th>\n",
              "    </tr>\n",
              "  </thead>\n",
              "  <tbody>\n",
              "    <tr>\n",
              "      <th>0</th>\n",
              "      <td>1</td>\n",
              "      <td>19</td>\n",
              "      <td>15</td>\n",
              "      <td>39</td>\n",
              "    </tr>\n",
              "    <tr>\n",
              "      <th>1</th>\n",
              "      <td>1</td>\n",
              "      <td>21</td>\n",
              "      <td>15</td>\n",
              "      <td>81</td>\n",
              "    </tr>\n",
              "    <tr>\n",
              "      <th>2</th>\n",
              "      <td>0</td>\n",
              "      <td>20</td>\n",
              "      <td>16</td>\n",
              "      <td>6</td>\n",
              "    </tr>\n",
              "    <tr>\n",
              "      <th>3</th>\n",
              "      <td>0</td>\n",
              "      <td>23</td>\n",
              "      <td>16</td>\n",
              "      <td>77</td>\n",
              "    </tr>\n",
              "    <tr>\n",
              "      <th>4</th>\n",
              "      <td>0</td>\n",
              "      <td>31</td>\n",
              "      <td>17</td>\n",
              "      <td>40</td>\n",
              "    </tr>\n",
              "  </tbody>\n",
              "</table>\n",
              "</div>"
            ],
            "text/plain": [
              "   Gender  Age  Annual Income (k$)  Spending Score (1-100)\n",
              "0       1   19                  15                      39\n",
              "1       1   21                  15                      81\n",
              "2       0   20                  16                       6\n",
              "3       0   23                  16                      77\n",
              "4       0   31                  17                      40"
            ]
          },
          "metadata": {
            "tags": []
          },
          "execution_count": 97
        }
      ]
    },
    {
      "cell_type": "code",
      "metadata": {
        "id": "63tTjdFabz9C",
        "colab_type": "code",
        "colab": {
          "base_uri": "https://localhost:8080/",
          "height": 620
        },
        "outputId": "10c6eed7-ace5-4b58-d6da-f78dd0965634"
      },
      "source": [
        "## Correlation plot\n",
        "plt.figure(figsize=(15,10))\n",
        "mask = np.zeros_like(data.corr(),dtype=np.bool)\n",
        "mask[np.triu_indices_from(mask)] = True\n",
        "sns.heatmap(  \n",
        "              data.corr() , \n",
        "              vmin = -1,\n",
        "              cmap=\"coolwarm\",\n",
        "              annot=True,\n",
        "              mask=mask          \n",
        "           )\n",
        "plt.show()"
      ],
      "execution_count": 98,
      "outputs": [
        {
          "output_type": "display_data",
          "data": {
            "image/png": "[encoded data removed]",
            "text/plain": [
              "<Figure size 1080x720 with 2 Axes>"
            ]
          },
          "metadata": {
            "tags": [],
            "needs_background": "light"
          }
        }
      ]
    },
    {
      "cell_type": "code",
      "metadata": {
        "id": "Krfd9soRXBub",
        "colab_type": "code",
        "colab": {}
      },
      "source": [
        "# Splitting our data into training set and new data set (futre data points)\n",
        "X,y = train_test_split(data, test_size=.2)"
      ],
      "execution_count": 0,
      "outputs": []
    },
    {
      "cell_type": "code",
      "metadata": {
        "id": "kSi2C1NMYmtb",
        "colab_type": "code",
        "colab": {}
      },
      "source": [
        "# Our initial guess will be 4 cluster that can assist us to group the similar \n",
        "# instance together\n",
        "clusters = 4\n",
        "kmeans = KMeans(n_clusters=clusters)\n",
        "y_pred = kmeans.fit_predict(X)"
      ],
      "execution_count": 0,
      "outputs": []
    },
    {
      "cell_type": "code",
      "metadata": {
        "id": "OzYfTqJgiUSL",
        "colab_type": "code",
        "colab": {
          "base_uri": "https://localhost:8080/",
          "height": 34
        },
        "outputId": "1d85f682-c941-4cbc-f5da-0924a52e445a"
      },
      "source": [
        "# Checking within-cluster sum of squares\n",
        "kmeans.inertia_"
      ],
      "execution_count": 124,
      "outputs": [
        {
          "output_type": "execute_result",
          "data": {
            "text/plain": [
              "83705.75457251084"
            ]
          },
          "metadata": {
            "tags": []
          },
          "execution_count": 124
        }
      ]
    },
    {
      "cell_type": "markdown",
      "metadata": {
        "id": "eu3JLmeKim5X",
        "colab_type": "text"
      },
      "source": [
        "As we know KMeans find n clusters centroids (n is number of cluster we ask our algo to consider) and assign each instance to the closest centroid. We can have a look at the four centroids that algorithms found\n",
        "\n",
        "\n",
        "Note : Here we are into two dimensions so we need two data points to represents our centroids"
      ]
    },
    {
      "cell_type": "code",
      "metadata": {
        "id": "d8-r6_b-iJnP",
        "colab_type": "code",
        "colab": {
          "base_uri": "https://localhost:8080/",
          "height": 85
        },
        "outputId": "7637348f-814f-4aff-9b87-86908f6e2d87"
      },
      "source": [
        "kmeans.cluster_centers_ "
      ],
      "execution_count": 123,
      "outputs": [
        {
          "output_type": "execute_result",
          "data": {
            "text/plain": [
              "array([[ 0.4       , 53.2       , 46.76363636, 39.30909091],\n",
              "       [ 0.38095238, 25.21428571, 39.52380952, 62.57142857],\n",
              "       [ 0.46875   , 41.1875    , 88.125     , 19.75      ],\n",
              "       [ 0.4516129 , 32.90322581, 85.51612903, 82.06451613]])"
            ]
          },
          "metadata": {
            "tags": []
          },
          "execution_count": 123
        }
      ]
    },
    {
      "cell_type": "markdown",
      "metadata": {
        "id": "BCxclAUyi-mR",
        "colab_type": "text"
      },
      "source": [
        "#### Assign new instances to the cluster whose centroid is the closet"
      ]
    },
    {
      "cell_type": "code",
      "metadata": {
        "id": "dYL2Je2Cgpxj",
        "colab_type": "code",
        "colab": {
          "base_uri": "https://localhost:8080/",
          "height": 51
        },
        "outputId": "feefb4c6-85b8-48ad-ce31-b52ec9642456"
      },
      "source": [
        "kmeans.predict(y)"
      ],
      "execution_count": 125,
      "outputs": [
        {
          "output_type": "execute_result",
          "data": {
            "text/plain": [
              "array([2, 1, 0, 0, 0, 3, 3, 1, 1, 3, 0, 1, 3, 3, 1, 3, 0, 2, 2, 1, 3, 0,\n",
              "       2, 3, 0, 0, 2, 0, 1, 2, 1, 0, 1, 0, 3, 0, 0, 1, 1, 0], dtype=int32)"
            ]
          },
          "metadata": {
            "tags": []
          },
          "execution_count": 125
        }
      ]
    },
    {
      "cell_type": "code",
      "metadata": {
        "id": "2p2F6IYijlfS",
        "colab_type": "code",
        "colab": {
          "base_uri": "https://localhost:8080/",
          "height": 697
        },
        "outputId": "9ccf3629-5d2a-43e5-867a-91cfda56aab7"
      },
      "source": [
        "kmeans.transform(y)"
      ],
      "execution_count": 127,
      "outputs": [
        {
          "output_type": "execute_result",
          "data": {
            "text/plain": [
              "array([[ 39.72160559,  62.24055903,  10.66046471,  66.2731396 ],\n",
              "       [ 64.84727895,  31.0004846 ,  93.79110037,  55.48931894],\n",
              "       [ 17.58942207,  40.67854878,  38.53271996,  47.46577715],\n",
              "       [ 21.74619184,  38.1972518 ,  61.48034652,  77.2081393 ],\n",
              "       [ 17.38982319,  47.03424839,  58.39431058,  65.78385918],\n",
              "       [ 47.67834028,  35.71889653,  56.11613411,  15.489851  ],\n",
              "       [ 85.38387407,  79.81574942,  75.5361371 ,  29.34939687],\n",
              "       [ 34.90775566,  23.73828629,  46.4329679 ,  36.51645674],\n",
              "       [ 48.76387025,  23.09053708,  87.37109366,  67.33737878],\n",
              "       [ 71.05750901,  57.20499102,  75.72537889,  12.95276779],\n",
              "       [ 14.35164056,  41.96859991,  50.42403205,  73.11656624],\n",
              "       [ 23.36638116,  21.37826105,  53.99150866,  60.66885261],\n",
              "       [ 51.2837609 ,  47.96458562,  44.23257293,  19.15134965],\n",
              "       [ 49.53315277,  34.21405375,  60.91045073,  16.43854636],\n",
              "       [ 61.51634332,  30.97051666,  97.50202822,  71.52373845],\n",
              "       [ 59.44643537,  44.61135396,  65.05830468,   7.66643291],\n",
              "       [ 19.71262967,  29.95681889,  58.27699381,  49.60586594],\n",
              "       [ 49.55425443,  62.94730637,  21.1221568 ,  71.0233946 ],\n",
              "       [ 54.4799091 ,  66.80341842,  29.92524867,  79.1352456 ],\n",
              "       [ 35.7265695 ,  30.76147169,  39.8162405 ,  47.95898786],\n",
              "       [ 66.47464688,  54.05448352,  67.18971653,   5.50366447],\n",
              "       [ 56.19872649,  61.49008087,  76.42125364, 103.85085459],\n",
              "       [ 53.0316076 ,  79.75427469,  19.34930251,  73.28116424],\n",
              "       [ 89.05987029,  87.49384494,  66.80022835,  41.29281746],\n",
              "       [  9.93096834,  35.01267182,  52.19214987,  67.18558793],\n",
              "       [ 15.31685184,  40.42137044,  55.34117371,  57.25889141],\n",
              "       [ 53.03109333,  73.13706342,  22.4948996 ,  81.42144443],\n",
              "       [ 27.16793808,  35.03850328,  46.22318691,  34.81657003],\n",
              "       [ 30.38370594,  20.623185  ,  50.78836489,  35.29004246],\n",
              "       [ 45.45853801,  60.29752856,   8.9976668 ,  55.17333391],\n",
              "       [ 31.24254886,  24.09666145,  43.67588588,  41.40359966],\n",
              "       [ 25.14045175,  29.81021793,  37.02307399,  47.51061002],\n",
              "       [ 38.88265032,  30.21087076,  41.99577964,  44.24018025],\n",
              "       [ 17.3882548 ,  25.9235423 ,  60.3030514 ,  55.64808781],\n",
              "       [ 45.74540757,  36.18117832,  57.93332813,  16.93821791],\n",
              "       [ 29.46780285,  33.12575674,  66.20532839,  77.48548251],\n",
              "       [ 17.21961211,  33.51164045,  41.14936826,  44.41338072],\n",
              "       [ 60.87801921,  29.49950036,  89.60061667,  49.35650429],\n",
              "       [ 40.35666606,  11.70598331,  60.73319115,  46.49557731],\n",
              "       [ 13.46937757,  35.07789356,  40.92014184,  48.47979293]])"
            ]
          },
          "metadata": {
            "tags": []
          },
          "execution_count": 127
        }
      ]
    },
    {
      "cell_type": "code",
      "metadata": {
        "id": "AZARfNphQLry",
        "colab_type": "code",
        "colab": {
          "base_uri": "https://localhost:8080/",
          "height": 230
        },
        "outputId": "863efd2f-05ca-4430-c009-74bc53407554"
      },
      "source": [
        "from sklearn.metrics import silhouette_score\n",
        "kmeans_models = [KMeans(n_clusters=k, random_state=42).fit(X)\n",
        "                for k in range(1, 10)]\n",
        "silhouette_scores = [silhouette_score(X, model.labels_)\n",
        "                     for model in kmeans_models[1:]]\n",
        "plt.figure(figsize=(8, 3))\n",
        "plt.plot(range(2, 10), silhouette_scores, \"bo-\")\n",
        "plt.xlabel(\"$k$\", fontsize=14)\n",
        "plt.ylabel(\"Silhouette score\", fontsize=14)\n",
        "plt.show()"
      ],
      "execution_count": 130,
      "outputs": [
        {
          "output_type": "display_data",
          "data": {
            "image/png": "[encoded data removed]",
            "text/plain": [
              "<Figure size 576x216 with 1 Axes>"
            ]
          },
          "metadata": {
            "tags": [],
            "needs_background": "light"
          }
        }
      ]
    },
    {
      "cell_type": "markdown",
      "metadata": {
        "id": "bdw9XW9ej8bW",
        "colab_type": "text"
      },
      "source": [
        "As you see above, 6 cluster is slightly a good choice to consider. So lets do kmeans using 6 clusters and plot the results "
      ]
    },
    {
      "cell_type": "markdown",
      "metadata": {
        "id": "KBOBkvDDkEwd",
        "colab_type": "text"
      },
      "source": [
        "##**Repeat the same code**"
      ]
    },
    {
      "cell_type": "code",
      "metadata": {
        "id": "xUF7Rfxcj8DI",
        "colab_type": "code",
        "colab": {}
      },
      "source": [
        "# Our initial guess will be 4 cluster that can assist us to group the similar \n",
        "# instance together\n",
        "clusters = 6\n",
        "kmeans = KMeans(n_clusters=clusters)\n",
        "y_pred = kmeans.fit_predict(X)"
      ],
      "execution_count": 0,
      "outputs": []
    },
    {
      "cell_type": "markdown",
      "metadata": {
        "id": "h8bgQDE9klYt",
        "colab_type": "text"
      },
      "source": [
        "Note : Increasing k from 4 to 6 decreases the cluster sum of square <br/> \n",
        "That means points are now close to each other"
      ]
    },
    {
      "cell_type": "code",
      "metadata": {
        "id": "06vRjJ7lgEwE",
        "colab_type": "code",
        "colab": {
          "base_uri": "https://localhost:8080/",
          "height": 34
        },
        "outputId": "e2cdd9dc-916e-4db0-8559-ce1dd72cde78"
      },
      "source": [
        "# Checking within-cluster sum of squares\n",
        "kmeans.inertia_"
      ],
      "execution_count": 131,
      "outputs": [
        {
          "output_type": "execute_result",
          "data": {
            "text/plain": [
              "46389.979524792376"
            ]
          },
          "metadata": {
            "tags": []
          },
          "execution_count": 131
        }
      ]
    },
    {
      "cell_type": "code",
      "metadata": {
        "id": "Ou2JAa7qkc1d",
        "colab_type": "code",
        "colab": {
          "base_uri": "https://localhost:8080/",
          "height": 119
        },
        "outputId": "7c4b53c7-503c-4536-cbbc-043df1e52791"
      },
      "source": [
        "kmeans.cluster_centers_ "
      ],
      "execution_count": 132,
      "outputs": [
        {
          "output_type": "execute_result",
          "data": {
            "text/plain": [
              "array([[ 0.31578947, 26.        , 26.31578947, 77.36842105],\n",
              "       [ 0.5       , 42.82142857, 90.39285714, 17.64285714],\n",
              "       [ 0.46666667, 32.66666667, 86.06666667, 82.86666667],\n",
              "       [ 0.41666667, 56.72222222, 53.83333333, 48.94444444],\n",
              "       [ 0.41176471, 45.76470588, 24.76470588, 18.17647059],\n",
              "       [ 0.36666667, 27.66666667, 57.7       , 48.16666667]])"
            ]
          },
          "metadata": {
            "tags": []
          },
          "execution_count": 132
        }
      ]
    }
  ]
}